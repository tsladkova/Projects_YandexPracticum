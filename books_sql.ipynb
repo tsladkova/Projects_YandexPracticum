{
 "cells": [
  {
   "cell_type": "markdown",
   "metadata": {},
   "source": [
    "# Проект по сервису для чтения книг по подписке"
   ]
  },
  {
   "cell_type": "markdown",
   "metadata": {},
   "source": [
    "## Введение"
   ]
  },
  {
   "cell_type": "markdown",
   "metadata": {},
   "source": [
    "Исследование **направлено на** разработку предложения нового продукта в сервисе для чтения книг по подписке. Данное исследование **построено на данных** с информацией о книгах, издательствах, авторах, а также на пользовательских обзорах книг.\n",
    "\n",
    "**Потребность в исследовании** связана с возрастающим спросом на приложения для чтения книг, который был обусловлен коронавирусом и связанными с ним ограничениями. Всё это изменило предпочтения в досуге людей, и создало большое число таких приложений и сервисов.\n",
    "\n",
    "Исследование состоит из **следующих этапов**:\n",
    "1. [Обзор и описание исходных данных](#step_1):\n",
    "    * [Импорт библиотек и подключение к базе данных](#step_1.1);\n",
    "    * [Данные о книгах](#step_1.2);\n",
    "    * [Данные об авторах](#step_1.3);\n",
    "    * [Данные об издательствах](#step_1.4);\n",
    "    * [Пользовательские оценки книг](#step_1.5);\n",
    "    * [Пользовательские обзоры на книги](#step_1.6);\n",
    "    * [Вывод](#step_1.7).\n",
    "2. [Анализ данных](#step_2):\n",
    "    * [Число книг, вышедших с 2000 года](#step_2.1);\n",
    "    * [Количество обзоров и средняя оценка](#step_2.2);\n",
    "    * [Издательство, выпустившее наибольшее число книг](#step_2.3);\n",
    "    * [Автор с самой высокой средней оценкой книг](#step_2.4);\n",
    "    * [Среднее количество обзоров от активных пользователей](#step_2.5);\n",
    "    * [Вывод](#step_2.6).\n",
    "3. [Общий вывод](#step_3);\n",
    "4. [Рекомендации](#step_4).\n",
    "\n",
    "**Результатом исследования** являются рекомендации по предложению нового продукта в сервисе для чтения книг по подписке."
   ]
  },
  {
   "cell_type": "markdown",
   "metadata": {},
   "source": [
    "## Этап 1. Обзор и описание исходных данных <a id='step_1'></a>"
   ]
  },
  {
   "cell_type": "markdown",
   "metadata": {},
   "source": [
    "### Импорт библиотек и подключение к базе данных <a id='step_1.1'></a>"
   ]
  },
  {
   "cell_type": "code",
   "execution_count": 1,
   "metadata": {},
   "outputs": [],
   "source": [
    "# Импортируем библиотеки \n",
    "import pandas as pd \n",
    "from sqlalchemy import create_engine\n",
    "pd.options.display.max_colwidth = 150"
   ]
  },
  {
   "cell_type": "markdown",
   "metadata": {},
   "source": [
    "Подготовим подключение к базе."
   ]
  },
  {
   "cell_type": "code",
   "execution_count": 2,
   "metadata": {},
   "outputs": [],
   "source": [
    "# Устанавливаем параметры\n",
    "db_config = {'user': 'praktikum_student', # имя пользователя\n",
    "             'pwd': 'Sdf4$2;d-d30pp', # пароль \n",
    "             'host': 'rc1b-wcoijxj3yxfsf3fs.mdb.yandexcloud.net', \n",
    "             'port': 6432, # порт подключения \n",
    "             'db': 'data-analyst-final-project-db'} # название базы данных \n",
    "connection_string = 'postgresql://{}:{}@{}:{}/{}'.format(db_config['user'], \n",
    "                                                         db_config['pwd'], \n",
    "                                                         db_config['host'], \n",
    "                                                         db_config['port'], \n",
    "                                                         db_config['db']) \n",
    "# Сохраняем коннектор\n",
    "engine = create_engine(connection_string, connect_args={'sslmode':'require'})"
   ]
  },
  {
   "cell_type": "markdown",
   "metadata": {},
   "source": [
    "Запишем функцию выполнения SQL-запроса."
   ]
  },
  {
   "cell_type": "code",
   "execution_count": 3,
   "metadata": {},
   "outputs": [],
   "source": [
    "def read_sql(query):\n",
    "    result = pd.io.sql.read_sql(query, con = engine)\n",
    "    return result"
   ]
  },
  {
   "cell_type": "markdown",
   "metadata": {},
   "source": [
    "### Данные о книгах <a id='step_1.2'></a>"
   ]
  },
  {
   "cell_type": "markdown",
   "metadata": {},
   "source": [
    "Откроем таблицу `books` и изучим, какую информацию она в себе содержит."
   ]
  },
  {
   "cell_type": "code",
   "execution_count": 4,
   "metadata": {},
   "outputs": [
    {
     "data": {
      "text/html": [
       "<div>\n",
       "<style scoped>\n",
       "    .dataframe tbody tr th:only-of-type {\n",
       "        vertical-align: middle;\n",
       "    }\n",
       "\n",
       "    .dataframe tbody tr th {\n",
       "        vertical-align: top;\n",
       "    }\n",
       "\n",
       "    .dataframe thead th {\n",
       "        text-align: right;\n",
       "    }\n",
       "</style>\n",
       "<table border=\"1\" class=\"dataframe\">\n",
       "  <thead>\n",
       "    <tr style=\"text-align: right;\">\n",
       "      <th></th>\n",
       "      <th>book_id</th>\n",
       "      <th>author_id</th>\n",
       "      <th>title</th>\n",
       "      <th>num_pages</th>\n",
       "      <th>publication_date</th>\n",
       "      <th>publisher_id</th>\n",
       "    </tr>\n",
       "  </thead>\n",
       "  <tbody>\n",
       "    <tr>\n",
       "      <td>0</td>\n",
       "      <td>1</td>\n",
       "      <td>546</td>\n",
       "      <td>'Salem's Lot</td>\n",
       "      <td>594</td>\n",
       "      <td>2005-11-01</td>\n",
       "      <td>93</td>\n",
       "    </tr>\n",
       "    <tr>\n",
       "      <td>1</td>\n",
       "      <td>2</td>\n",
       "      <td>465</td>\n",
       "      <td>1 000 Places to See Before You Die</td>\n",
       "      <td>992</td>\n",
       "      <td>2003-05-22</td>\n",
       "      <td>336</td>\n",
       "    </tr>\n",
       "    <tr>\n",
       "      <td>2</td>\n",
       "      <td>3</td>\n",
       "      <td>407</td>\n",
       "      <td>13 Little Blue Envelopes (Little Blue Envelope  #1)</td>\n",
       "      <td>322</td>\n",
       "      <td>2010-12-21</td>\n",
       "      <td>135</td>\n",
       "    </tr>\n",
       "    <tr>\n",
       "      <td>3</td>\n",
       "      <td>4</td>\n",
       "      <td>82</td>\n",
       "      <td>1491: New Revelations of the Americas Before Columbus</td>\n",
       "      <td>541</td>\n",
       "      <td>2006-10-10</td>\n",
       "      <td>309</td>\n",
       "    </tr>\n",
       "    <tr>\n",
       "      <td>4</td>\n",
       "      <td>5</td>\n",
       "      <td>125</td>\n",
       "      <td>1776</td>\n",
       "      <td>386</td>\n",
       "      <td>2006-07-04</td>\n",
       "      <td>268</td>\n",
       "    </tr>\n",
       "  </tbody>\n",
       "</table>\n",
       "</div>"
      ],
      "text/plain": [
       "   book_id  author_id                                                  title  \\\n",
       "0        1        546                                           'Salem's Lot   \n",
       "1        2        465                     1 000 Places to See Before You Die   \n",
       "2        3        407    13 Little Blue Envelopes (Little Blue Envelope  #1)   \n",
       "3        4         82  1491: New Revelations of the Americas Before Columbus   \n",
       "4        5        125                                                   1776   \n",
       "\n",
       "   num_pages publication_date  publisher_id  \n",
       "0        594       2005-11-01            93  \n",
       "1        992       2003-05-22           336  \n",
       "2        322       2010-12-21           135  \n",
       "3        541       2006-10-10           309  \n",
       "4        386       2006-07-04           268  "
      ]
     },
     "execution_count": 4,
     "metadata": {},
     "output_type": "execute_result"
    }
   ],
   "source": [
    "books = '''\n",
    "            SELECT *\n",
    "            FROM books\n",
    "            LIMIT 5;\n",
    "        '''\n",
    "read_sql(books)"
   ]
  },
  {
   "cell_type": "markdown",
   "metadata": {},
   "source": [
    "Посчитаем, чему равен размер таблицы."
   ]
  },
  {
   "cell_type": "code",
   "execution_count": 5,
   "metadata": {},
   "outputs": [
    {
     "data": {
      "text/html": [
       "<div>\n",
       "<style scoped>\n",
       "    .dataframe tbody tr th:only-of-type {\n",
       "        vertical-align: middle;\n",
       "    }\n",
       "\n",
       "    .dataframe tbody tr th {\n",
       "        vertical-align: top;\n",
       "    }\n",
       "\n",
       "    .dataframe thead th {\n",
       "        text-align: right;\n",
       "    }\n",
       "</style>\n",
       "<table border=\"1\" class=\"dataframe\">\n",
       "  <thead>\n",
       "    <tr style=\"text-align: right;\">\n",
       "      <th></th>\n",
       "      <th>length</th>\n",
       "    </tr>\n",
       "  </thead>\n",
       "  <tbody>\n",
       "    <tr>\n",
       "      <td>0</td>\n",
       "      <td>1000</td>\n",
       "    </tr>\n",
       "  </tbody>\n",
       "</table>\n",
       "</div>"
      ],
      "text/plain": [
       "   length\n",
       "0    1000"
      ]
     },
     "execution_count": 5,
     "metadata": {},
     "output_type": "execute_result"
    }
   ],
   "source": [
    "books_len = '''\n",
    "            SELECT\n",
    "                COUNT (*) AS length\n",
    "            FROM books;\n",
    "            '''\n",
    "read_sql(books_len)"
   ]
  },
  {
   "cell_type": "markdown",
   "metadata": {},
   "source": [
    "Таблица `books` состоит из 1 000 строк и 6 столбцов. Рассмотрим, какие данные содержит в себе каждый из столбцов.\n",
    "* `book_id` — идентификатор книги;\n",
    "* `author_id` — идентификатор автора;\n",
    "* `title` — название книги;\n",
    "* `num_pages` — количество страниц;\n",
    "* `publication_date` — дата публикации книги;\n",
    "* `publisher_id` — идентификатор издателя."
   ]
  },
  {
   "cell_type": "markdown",
   "metadata": {},
   "source": [
    "Из 1 000 значений посчитаем, сколько уникальных значений в текстовых и идентификационных столбцах, и в каком диапазоне ранжируются номера страниц и даты."
   ]
  },
  {
   "cell_type": "code",
   "execution_count": 6,
   "metadata": {},
   "outputs": [
    {
     "data": {
      "text/html": [
       "<div>\n",
       "<style scoped>\n",
       "    .dataframe tbody tr th:only-of-type {\n",
       "        vertical-align: middle;\n",
       "    }\n",
       "\n",
       "    .dataframe tbody tr th {\n",
       "        vertical-align: top;\n",
       "    }\n",
       "\n",
       "    .dataframe thead th {\n",
       "        text-align: right;\n",
       "    }\n",
       "</style>\n",
       "<table border=\"1\" class=\"dataframe\">\n",
       "  <thead>\n",
       "    <tr style=\"text-align: right;\">\n",
       "      <th></th>\n",
       "      <th>book_id_uniq_cnt</th>\n",
       "      <th>author_id_uniq_cnt</th>\n",
       "      <th>title_uniq_cnt</th>\n",
       "      <th>pages_min</th>\n",
       "      <th>pages_max</th>\n",
       "      <th>date_min</th>\n",
       "      <th>date_max</th>\n",
       "      <th>publisher_id_uniq_cnt</th>\n",
       "    </tr>\n",
       "  </thead>\n",
       "  <tbody>\n",
       "    <tr>\n",
       "      <td>0</td>\n",
       "      <td>1000</td>\n",
       "      <td>636</td>\n",
       "      <td>999</td>\n",
       "      <td>14</td>\n",
       "      <td>2690</td>\n",
       "      <td>1952-12-01</td>\n",
       "      <td>2020-03-31</td>\n",
       "      <td>340</td>\n",
       "    </tr>\n",
       "  </tbody>\n",
       "</table>\n",
       "</div>"
      ],
      "text/plain": [
       "   book_id_uniq_cnt  author_id_uniq_cnt  title_uniq_cnt  pages_min  pages_max  \\\n",
       "0              1000                 636             999         14       2690   \n",
       "\n",
       "     date_min    date_max  publisher_id_uniq_cnt  \n",
       "0  1952-12-01  2020-03-31                    340  "
      ]
     },
     "execution_count": 6,
     "metadata": {},
     "output_type": "execute_result"
    }
   ],
   "source": [
    "books_info = '''\n",
    "            SELECT\n",
    "                COUNT (DISTINCT b.book_id) AS book_id_uniq_cnt,\n",
    "                COUNT (DISTINCT b.author_id) AS author_id_uniq_cnt,\n",
    "                COUNT (DISTINCT b.title) AS title_uniq_cnt,\n",
    "                MIN (b.num_pages) AS pages_min,\n",
    "                MAX (b.num_pages) AS pages_max,\n",
    "                MIN (b.publication_date) AS date_min,\n",
    "                MAX (b.publication_date) AS date_max,\n",
    "                COUNT (DISTINCT b.publisher_id) AS publisher_id_uniq_cnt\n",
    "            FROM books b;\n",
    "            '''\n",
    "read_sql(books_info)"
   ]
  },
  {
   "cell_type": "markdown",
   "metadata": {},
   "source": [
    "В таблице представлена 1 000 уникальных книг под авторством 636 авторов. При этом две книги имеют одинаковые названия, остальные названия не повторяются. Число страниц в книгах варьируется от 14 до 2 690 страниц; а даты издания - с 1 декабря 1952 года по 31 марта 2020 года. Книги, информацией о которых мы обладаем, были изданы 340 разными издательствами.\n",
    "\n",
    "Проверим, что книги с повторяющимся названием имеют разные характеристики (автора, число страниц, дату публикации или издательство); и не являются дубликатами."
   ]
  },
  {
   "cell_type": "code",
   "execution_count": 7,
   "metadata": {},
   "outputs": [
    {
     "data": {
      "text/html": [
       "<div>\n",
       "<style scoped>\n",
       "    .dataframe tbody tr th:only-of-type {\n",
       "        vertical-align: middle;\n",
       "    }\n",
       "\n",
       "    .dataframe tbody tr th {\n",
       "        vertical-align: top;\n",
       "    }\n",
       "\n",
       "    .dataframe thead th {\n",
       "        text-align: right;\n",
       "    }\n",
       "</style>\n",
       "<table border=\"1\" class=\"dataframe\">\n",
       "  <thead>\n",
       "    <tr style=\"text-align: right;\">\n",
       "      <th></th>\n",
       "      <th>book_id</th>\n",
       "      <th>author_id</th>\n",
       "      <th>title</th>\n",
       "      <th>num_pages</th>\n",
       "      <th>publication_date</th>\n",
       "      <th>publisher_id</th>\n",
       "    </tr>\n",
       "  </thead>\n",
       "  <tbody>\n",
       "    <tr>\n",
       "      <td>0</td>\n",
       "      <td>426</td>\n",
       "      <td>39</td>\n",
       "      <td>Memoirs of a Geisha</td>\n",
       "      <td>434</td>\n",
       "      <td>2005-11-15</td>\n",
       "      <td>241</td>\n",
       "    </tr>\n",
       "    <tr>\n",
       "      <td>1</td>\n",
       "      <td>427</td>\n",
       "      <td>39</td>\n",
       "      <td>Memoirs of a Geisha</td>\n",
       "      <td>503</td>\n",
       "      <td>2005-11-22</td>\n",
       "      <td>311</td>\n",
       "    </tr>\n",
       "  </tbody>\n",
       "</table>\n",
       "</div>"
      ],
      "text/plain": [
       "   book_id  author_id                title  num_pages publication_date  \\\n",
       "0      426         39  Memoirs of a Geisha        434       2005-11-15   \n",
       "1      427         39  Memoirs of a Geisha        503       2005-11-22   \n",
       "\n",
       "   publisher_id  \n",
       "0           241  \n",
       "1           311  "
      ]
     },
     "execution_count": 7,
     "metadata": {},
     "output_type": "execute_result"
    }
   ],
   "source": [
    "books_title_duplicated = '''\n",
    "                        SELECT *\n",
    "                        FROM books\n",
    "                        WHERE\n",
    "                            title = (SELECT\n",
    "                                        Sub.title\n",
    "                                    FROM\n",
    "                                        (SELECT\n",
    "                                            b.title,\n",
    "                                            COUNT(*) AS title_cnt\n",
    "                                        FROM books b\n",
    "                                        GROUP BY title\n",
    "                                        HAVING COUNT(*)>1) AS Sub);\n",
    "                        '''\n",
    "read_sql(books_title_duplicated)"
   ]
  },
  {
   "cell_type": "markdown",
   "metadata": {},
   "source": [
    "Книги с повторяющимся названием не являются дубликатами, поскольку хоть и написаны тем же автором, имеют разное число страниц, дату выхода и название издательства.\n",
    "\n",
    "Также проверим, что в данных нет пропусков."
   ]
  },
  {
   "cell_type": "code",
   "execution_count": 8,
   "metadata": {},
   "outputs": [
    {
     "data": {
      "text/html": [
       "<div>\n",
       "<style scoped>\n",
       "    .dataframe tbody tr th:only-of-type {\n",
       "        vertical-align: middle;\n",
       "    }\n",
       "\n",
       "    .dataframe tbody tr th {\n",
       "        vertical-align: top;\n",
       "    }\n",
       "\n",
       "    .dataframe thead th {\n",
       "        text-align: right;\n",
       "    }\n",
       "</style>\n",
       "<table border=\"1\" class=\"dataframe\">\n",
       "  <thead>\n",
       "    <tr style=\"text-align: right;\">\n",
       "      <th></th>\n",
       "      <th>book_id</th>\n",
       "      <th>author_id</th>\n",
       "      <th>title</th>\n",
       "      <th>num_pages</th>\n",
       "      <th>publication_date</th>\n",
       "      <th>publisher_id</th>\n",
       "    </tr>\n",
       "  </thead>\n",
       "  <tbody>\n",
       "  </tbody>\n",
       "</table>\n",
       "</div>"
      ],
      "text/plain": [
       "Empty DataFrame\n",
       "Columns: [book_id, author_id, title, num_pages, publication_date, publisher_id]\n",
       "Index: []"
      ]
     },
     "execution_count": 8,
     "metadata": {},
     "output_type": "execute_result"
    }
   ],
   "source": [
    "books_null = '''\n",
    "            SELECT *\n",
    "            FROM books b\n",
    "            WHERE (b.author_id IS NULL) OR (b.num_pages IS NULL) OR (b.publication_date IS NULL) OR (b.publisher_id IS NULL);\n",
    "            '''\n",
    "read_sql(books_null)"
   ]
  },
  {
   "cell_type": "markdown",
   "metadata": {},
   "source": [
    "Пропусков в таблице `books` нет."
   ]
  },
  {
   "cell_type": "markdown",
   "metadata": {},
   "source": [
    "### Данные об авторах <a id='step_1.3'></a>"
   ]
  },
  {
   "cell_type": "markdown",
   "metadata": {},
   "source": [
    "Откроем таблицу `authors` и изучим, какую информацию она в себе содержит."
   ]
  },
  {
   "cell_type": "code",
   "execution_count": 9,
   "metadata": {},
   "outputs": [
    {
     "data": {
      "text/html": [
       "<div>\n",
       "<style scoped>\n",
       "    .dataframe tbody tr th:only-of-type {\n",
       "        vertical-align: middle;\n",
       "    }\n",
       "\n",
       "    .dataframe tbody tr th {\n",
       "        vertical-align: top;\n",
       "    }\n",
       "\n",
       "    .dataframe thead th {\n",
       "        text-align: right;\n",
       "    }\n",
       "</style>\n",
       "<table border=\"1\" class=\"dataframe\">\n",
       "  <thead>\n",
       "    <tr style=\"text-align: right;\">\n",
       "      <th></th>\n",
       "      <th>author_id</th>\n",
       "      <th>author</th>\n",
       "    </tr>\n",
       "  </thead>\n",
       "  <tbody>\n",
       "    <tr>\n",
       "      <td>0</td>\n",
       "      <td>1</td>\n",
       "      <td>A.S. Byatt</td>\n",
       "    </tr>\n",
       "    <tr>\n",
       "      <td>1</td>\n",
       "      <td>2</td>\n",
       "      <td>Aesop/Laura Harris/Laura Gibbs</td>\n",
       "    </tr>\n",
       "    <tr>\n",
       "      <td>2</td>\n",
       "      <td>3</td>\n",
       "      <td>Agatha Christie</td>\n",
       "    </tr>\n",
       "    <tr>\n",
       "      <td>3</td>\n",
       "      <td>4</td>\n",
       "      <td>Alan Brennert</td>\n",
       "    </tr>\n",
       "    <tr>\n",
       "      <td>4</td>\n",
       "      <td>5</td>\n",
       "      <td>Alan Moore/David   Lloyd</td>\n",
       "    </tr>\n",
       "  </tbody>\n",
       "</table>\n",
       "</div>"
      ],
      "text/plain": [
       "   author_id                          author\n",
       "0          1                      A.S. Byatt\n",
       "1          2  Aesop/Laura Harris/Laura Gibbs\n",
       "2          3                 Agatha Christie\n",
       "3          4                   Alan Brennert\n",
       "4          5        Alan Moore/David   Lloyd"
      ]
     },
     "execution_count": 9,
     "metadata": {},
     "output_type": "execute_result"
    }
   ],
   "source": [
    "authors = '''\n",
    "            SELECT *\n",
    "            FROM authors\n",
    "            LIMIT 5;\n",
    "            '''\n",
    "read_sql(authors)"
   ]
  },
  {
   "cell_type": "markdown",
   "metadata": {},
   "source": [
    "Посчитаем, чему равен размер таблицы."
   ]
  },
  {
   "cell_type": "code",
   "execution_count": 10,
   "metadata": {},
   "outputs": [
    {
     "data": {
      "text/html": [
       "<div>\n",
       "<style scoped>\n",
       "    .dataframe tbody tr th:only-of-type {\n",
       "        vertical-align: middle;\n",
       "    }\n",
       "\n",
       "    .dataframe tbody tr th {\n",
       "        vertical-align: top;\n",
       "    }\n",
       "\n",
       "    .dataframe thead th {\n",
       "        text-align: right;\n",
       "    }\n",
       "</style>\n",
       "<table border=\"1\" class=\"dataframe\">\n",
       "  <thead>\n",
       "    <tr style=\"text-align: right;\">\n",
       "      <th></th>\n",
       "      <th>length</th>\n",
       "    </tr>\n",
       "  </thead>\n",
       "  <tbody>\n",
       "    <tr>\n",
       "      <td>0</td>\n",
       "      <td>636</td>\n",
       "    </tr>\n",
       "  </tbody>\n",
       "</table>\n",
       "</div>"
      ],
      "text/plain": [
       "   length\n",
       "0     636"
      ]
     },
     "execution_count": 10,
     "metadata": {},
     "output_type": "execute_result"
    }
   ],
   "source": [
    "authors_len = '''\n",
    "            SELECT\n",
    "                COUNT (*) AS length\n",
    "            FROM authors;\n",
    "            '''\n",
    "read_sql(authors_len)"
   ]
  },
  {
   "cell_type": "markdown",
   "metadata": {},
   "source": [
    "Таблица `authors` состоит из 636 строк и 2 столбцов. Рассмотрим, какие данные содержит в себе каждый из столбцов.\n",
    "* `author_id` — идентификатор автора;\n",
    "* `author` — имя автора."
   ]
  },
  {
   "cell_type": "markdown",
   "metadata": {},
   "source": [
    "Из 636 значений посчитаем, сколько уникальных значений содержится в столбцах."
   ]
  },
  {
   "cell_type": "code",
   "execution_count": 11,
   "metadata": {},
   "outputs": [
    {
     "data": {
      "text/html": [
       "<div>\n",
       "<style scoped>\n",
       "    .dataframe tbody tr th:only-of-type {\n",
       "        vertical-align: middle;\n",
       "    }\n",
       "\n",
       "    .dataframe tbody tr th {\n",
       "        vertical-align: top;\n",
       "    }\n",
       "\n",
       "    .dataframe thead th {\n",
       "        text-align: right;\n",
       "    }\n",
       "</style>\n",
       "<table border=\"1\" class=\"dataframe\">\n",
       "  <thead>\n",
       "    <tr style=\"text-align: right;\">\n",
       "      <th></th>\n",
       "      <th>author_id_uniq_cnt</th>\n",
       "      <th>author_uniq_cnt</th>\n",
       "    </tr>\n",
       "  </thead>\n",
       "  <tbody>\n",
       "    <tr>\n",
       "      <td>0</td>\n",
       "      <td>636</td>\n",
       "      <td>636</td>\n",
       "    </tr>\n",
       "  </tbody>\n",
       "</table>\n",
       "</div>"
      ],
      "text/plain": [
       "   author_id_uniq_cnt  author_uniq_cnt\n",
       "0                 636              636"
      ]
     },
     "execution_count": 11,
     "metadata": {},
     "output_type": "execute_result"
    }
   ],
   "source": [
    "authors_info = '''\n",
    "                SELECT\n",
    "                    COUNT (DISTINCT a.author_id) AS author_id_uniq_cnt,\n",
    "                    COUNT (DISTINCT a.author) AS author_uniq_cnt\n",
    "                FROM authors a;\n",
    "                '''\n",
    "read_sql(authors_info)"
   ]
  },
  {
   "cell_type": "markdown",
   "metadata": {},
   "source": [
    "Все значения в таблице `authors` уникальны: соответственно, у нас имеется информация о 636 авторах. Дубликатов и пропусков в таблице нет."
   ]
  },
  {
   "cell_type": "markdown",
   "metadata": {},
   "source": [
    "### Данные об издательствах <a id='step_1.4'></a>"
   ]
  },
  {
   "cell_type": "markdown",
   "metadata": {},
   "source": [
    "Откроем таблицу `publishers` и изучим, какую информацию она в себе содержит."
   ]
  },
  {
   "cell_type": "code",
   "execution_count": 12,
   "metadata": {},
   "outputs": [
    {
     "data": {
      "text/html": [
       "<div>\n",
       "<style scoped>\n",
       "    .dataframe tbody tr th:only-of-type {\n",
       "        vertical-align: middle;\n",
       "    }\n",
       "\n",
       "    .dataframe tbody tr th {\n",
       "        vertical-align: top;\n",
       "    }\n",
       "\n",
       "    .dataframe thead th {\n",
       "        text-align: right;\n",
       "    }\n",
       "</style>\n",
       "<table border=\"1\" class=\"dataframe\">\n",
       "  <thead>\n",
       "    <tr style=\"text-align: right;\">\n",
       "      <th></th>\n",
       "      <th>publisher_id</th>\n",
       "      <th>publisher</th>\n",
       "    </tr>\n",
       "  </thead>\n",
       "  <tbody>\n",
       "    <tr>\n",
       "      <td>0</td>\n",
       "      <td>1</td>\n",
       "      <td>Ace</td>\n",
       "    </tr>\n",
       "    <tr>\n",
       "      <td>1</td>\n",
       "      <td>2</td>\n",
       "      <td>Ace Book</td>\n",
       "    </tr>\n",
       "    <tr>\n",
       "      <td>2</td>\n",
       "      <td>3</td>\n",
       "      <td>Ace Books</td>\n",
       "    </tr>\n",
       "    <tr>\n",
       "      <td>3</td>\n",
       "      <td>4</td>\n",
       "      <td>Ace Hardcover</td>\n",
       "    </tr>\n",
       "    <tr>\n",
       "      <td>4</td>\n",
       "      <td>5</td>\n",
       "      <td>Addison Wesley Publishing Company</td>\n",
       "    </tr>\n",
       "  </tbody>\n",
       "</table>\n",
       "</div>"
      ],
      "text/plain": [
       "   publisher_id                          publisher\n",
       "0             1                                Ace\n",
       "1             2                           Ace Book\n",
       "2             3                          Ace Books\n",
       "3             4                      Ace Hardcover\n",
       "4             5  Addison Wesley Publishing Company"
      ]
     },
     "execution_count": 12,
     "metadata": {},
     "output_type": "execute_result"
    }
   ],
   "source": [
    "publishers = '''\n",
    "            SELECT *\n",
    "            FROM publishers\n",
    "            LIMIT 5;\n",
    "            '''\n",
    "read_sql(publishers)"
   ]
  },
  {
   "cell_type": "markdown",
   "metadata": {},
   "source": [
    "Посчитаем, чему равен размер таблицы."
   ]
  },
  {
   "cell_type": "code",
   "execution_count": 13,
   "metadata": {},
   "outputs": [
    {
     "data": {
      "text/html": [
       "<div>\n",
       "<style scoped>\n",
       "    .dataframe tbody tr th:only-of-type {\n",
       "        vertical-align: middle;\n",
       "    }\n",
       "\n",
       "    .dataframe tbody tr th {\n",
       "        vertical-align: top;\n",
       "    }\n",
       "\n",
       "    .dataframe thead th {\n",
       "        text-align: right;\n",
       "    }\n",
       "</style>\n",
       "<table border=\"1\" class=\"dataframe\">\n",
       "  <thead>\n",
       "    <tr style=\"text-align: right;\">\n",
       "      <th></th>\n",
       "      <th>length</th>\n",
       "    </tr>\n",
       "  </thead>\n",
       "  <tbody>\n",
       "    <tr>\n",
       "      <td>0</td>\n",
       "      <td>340</td>\n",
       "    </tr>\n",
       "  </tbody>\n",
       "</table>\n",
       "</div>"
      ],
      "text/plain": [
       "   length\n",
       "0     340"
      ]
     },
     "execution_count": 13,
     "metadata": {},
     "output_type": "execute_result"
    }
   ],
   "source": [
    "publishers_len = '''\n",
    "                SELECT\n",
    "                    COUNT (*) AS length\n",
    "                FROM publishers;\n",
    "                '''\n",
    "read_sql(publishers_len)"
   ]
  },
  {
   "cell_type": "markdown",
   "metadata": {},
   "source": [
    "Таблица `publishers` состоит из 340 строк и 2 столбцов. Рассмотрим, какие данные содержит в себе каждый из столбцов.\n",
    "* `publisher_id` — идентификатор издательства;\n",
    "* `publisher` — название издательства."
   ]
  },
  {
   "cell_type": "markdown",
   "metadata": {},
   "source": [
    "Из 340 значений посчитаем, сколько уникальных значений содержится в столбцах."
   ]
  },
  {
   "cell_type": "code",
   "execution_count": 14,
   "metadata": {},
   "outputs": [
    {
     "data": {
      "text/html": [
       "<div>\n",
       "<style scoped>\n",
       "    .dataframe tbody tr th:only-of-type {\n",
       "        vertical-align: middle;\n",
       "    }\n",
       "\n",
       "    .dataframe tbody tr th {\n",
       "        vertical-align: top;\n",
       "    }\n",
       "\n",
       "    .dataframe thead th {\n",
       "        text-align: right;\n",
       "    }\n",
       "</style>\n",
       "<table border=\"1\" class=\"dataframe\">\n",
       "  <thead>\n",
       "    <tr style=\"text-align: right;\">\n",
       "      <th></th>\n",
       "      <th>publisher_id_uniq_cnt</th>\n",
       "      <th>publisher_uniq_cnt</th>\n",
       "    </tr>\n",
       "  </thead>\n",
       "  <tbody>\n",
       "    <tr>\n",
       "      <td>0</td>\n",
       "      <td>340</td>\n",
       "      <td>340</td>\n",
       "    </tr>\n",
       "  </tbody>\n",
       "</table>\n",
       "</div>"
      ],
      "text/plain": [
       "   publisher_id_uniq_cnt  publisher_uniq_cnt\n",
       "0                    340                 340"
      ]
     },
     "execution_count": 14,
     "metadata": {},
     "output_type": "execute_result"
    }
   ],
   "source": [
    "publishers_info = '''\n",
    "                    SELECT\n",
    "                        COUNT (DISTINCT p.publisher_id) AS publisher_id_uniq_cnt,\n",
    "                        COUNT (DISTINCT p.publisher) AS publisher_uniq_cnt\n",
    "                    FROM publishers p;\n",
    "                    '''\n",
    "read_sql(publishers_info)"
   ]
  },
  {
   "cell_type": "markdown",
   "metadata": {},
   "source": [
    "Все значения в таблице `publishers` уникальны: соответственно, у нас имеется информация о 340 издательствах. Дубликатов и пропусков в таблице нет."
   ]
  },
  {
   "cell_type": "markdown",
   "metadata": {},
   "source": [
    "### Пользовательские оценки книг <a id='step_1.5'></a>"
   ]
  },
  {
   "cell_type": "markdown",
   "metadata": {},
   "source": [
    "Откроем таблицу `ratings` и изучим, какую информацию она в себе содержит."
   ]
  },
  {
   "cell_type": "code",
   "execution_count": 15,
   "metadata": {},
   "outputs": [
    {
     "data": {
      "text/html": [
       "<div>\n",
       "<style scoped>\n",
       "    .dataframe tbody tr th:only-of-type {\n",
       "        vertical-align: middle;\n",
       "    }\n",
       "\n",
       "    .dataframe tbody tr th {\n",
       "        vertical-align: top;\n",
       "    }\n",
       "\n",
       "    .dataframe thead th {\n",
       "        text-align: right;\n",
       "    }\n",
       "</style>\n",
       "<table border=\"1\" class=\"dataframe\">\n",
       "  <thead>\n",
       "    <tr style=\"text-align: right;\">\n",
       "      <th></th>\n",
       "      <th>rating_id</th>\n",
       "      <th>book_id</th>\n",
       "      <th>username</th>\n",
       "      <th>rating</th>\n",
       "    </tr>\n",
       "  </thead>\n",
       "  <tbody>\n",
       "    <tr>\n",
       "      <td>0</td>\n",
       "      <td>1</td>\n",
       "      <td>1</td>\n",
       "      <td>ryanfranco</td>\n",
       "      <td>4</td>\n",
       "    </tr>\n",
       "    <tr>\n",
       "      <td>1</td>\n",
       "      <td>2</td>\n",
       "      <td>1</td>\n",
       "      <td>grantpatricia</td>\n",
       "      <td>2</td>\n",
       "    </tr>\n",
       "    <tr>\n",
       "      <td>2</td>\n",
       "      <td>3</td>\n",
       "      <td>1</td>\n",
       "      <td>brandtandrea</td>\n",
       "      <td>5</td>\n",
       "    </tr>\n",
       "    <tr>\n",
       "      <td>3</td>\n",
       "      <td>4</td>\n",
       "      <td>2</td>\n",
       "      <td>lorichen</td>\n",
       "      <td>3</td>\n",
       "    </tr>\n",
       "    <tr>\n",
       "      <td>4</td>\n",
       "      <td>5</td>\n",
       "      <td>2</td>\n",
       "      <td>mariokeller</td>\n",
       "      <td>2</td>\n",
       "    </tr>\n",
       "  </tbody>\n",
       "</table>\n",
       "</div>"
      ],
      "text/plain": [
       "   rating_id  book_id       username  rating\n",
       "0          1        1     ryanfranco       4\n",
       "1          2        1  grantpatricia       2\n",
       "2          3        1   brandtandrea       5\n",
       "3          4        2       lorichen       3\n",
       "4          5        2    mariokeller       2"
      ]
     },
     "execution_count": 15,
     "metadata": {},
     "output_type": "execute_result"
    }
   ],
   "source": [
    "ratings = '''\n",
    "            SELECT *\n",
    "            FROM ratings\n",
    "            LIMIT 5;\n",
    "            '''\n",
    "read_sql(ratings)"
   ]
  },
  {
   "cell_type": "markdown",
   "metadata": {},
   "source": [
    "Посчитаем, чему равен размер таблицы."
   ]
  },
  {
   "cell_type": "code",
   "execution_count": 16,
   "metadata": {},
   "outputs": [
    {
     "data": {
      "text/html": [
       "<div>\n",
       "<style scoped>\n",
       "    .dataframe tbody tr th:only-of-type {\n",
       "        vertical-align: middle;\n",
       "    }\n",
       "\n",
       "    .dataframe tbody tr th {\n",
       "        vertical-align: top;\n",
       "    }\n",
       "\n",
       "    .dataframe thead th {\n",
       "        text-align: right;\n",
       "    }\n",
       "</style>\n",
       "<table border=\"1\" class=\"dataframe\">\n",
       "  <thead>\n",
       "    <tr style=\"text-align: right;\">\n",
       "      <th></th>\n",
       "      <th>length</th>\n",
       "    </tr>\n",
       "  </thead>\n",
       "  <tbody>\n",
       "    <tr>\n",
       "      <td>0</td>\n",
       "      <td>6456</td>\n",
       "    </tr>\n",
       "  </tbody>\n",
       "</table>\n",
       "</div>"
      ],
      "text/plain": [
       "   length\n",
       "0    6456"
      ]
     },
     "execution_count": 16,
     "metadata": {},
     "output_type": "execute_result"
    }
   ],
   "source": [
    "ratings_len = '''\n",
    "                SELECT\n",
    "                    COUNT (*) AS length\n",
    "                FROM ratings;\n",
    "                '''\n",
    "read_sql(ratings_len)"
   ]
  },
  {
   "cell_type": "markdown",
   "metadata": {},
   "source": [
    "Таблица `ratings` состоит из 6 456 строк и 4 столбцов. Рассмотрим, какие данные содержит в себе каждый из столбцов.\n",
    "* `rating_id` — идентификатор оценки;\n",
    "* `book_id` — идентификатор книги;\n",
    "* `username` — имя пользователя, оставившего оценку;\n",
    "* `rating` — оценка книги."
   ]
  },
  {
   "cell_type": "markdown",
   "metadata": {},
   "source": [
    "Из 6 456 значений посчитаем, сколько уникальных значений в текстовых и идентификационных столбцах, и в каком диапазоне ранжируется оценка книги."
   ]
  },
  {
   "cell_type": "code",
   "execution_count": 17,
   "metadata": {},
   "outputs": [
    {
     "data": {
      "text/html": [
       "<div>\n",
       "<style scoped>\n",
       "    .dataframe tbody tr th:only-of-type {\n",
       "        vertical-align: middle;\n",
       "    }\n",
       "\n",
       "    .dataframe tbody tr th {\n",
       "        vertical-align: top;\n",
       "    }\n",
       "\n",
       "    .dataframe thead th {\n",
       "        text-align: right;\n",
       "    }\n",
       "</style>\n",
       "<table border=\"1\" class=\"dataframe\">\n",
       "  <thead>\n",
       "    <tr style=\"text-align: right;\">\n",
       "      <th></th>\n",
       "      <th>rating_id_uniq_cnt</th>\n",
       "      <th>book_id_uniq_cnt</th>\n",
       "      <th>username_uniq_cnt</th>\n",
       "      <th>rating_min</th>\n",
       "      <th>rating_max</th>\n",
       "    </tr>\n",
       "  </thead>\n",
       "  <tbody>\n",
       "    <tr>\n",
       "      <td>0</td>\n",
       "      <td>6456</td>\n",
       "      <td>1000</td>\n",
       "      <td>160</td>\n",
       "      <td>1</td>\n",
       "      <td>5</td>\n",
       "    </tr>\n",
       "  </tbody>\n",
       "</table>\n",
       "</div>"
      ],
      "text/plain": [
       "   rating_id_uniq_cnt  book_id_uniq_cnt  username_uniq_cnt  rating_min  \\\n",
       "0                6456              1000                160           1   \n",
       "\n",
       "   rating_max  \n",
       "0           5  "
      ]
     },
     "execution_count": 17,
     "metadata": {},
     "output_type": "execute_result"
    }
   ],
   "source": [
    "ratings_info = '''\n",
    "                SELECT\n",
    "                    COUNT (DISTINCT rat.rating_id) AS rating_id_uniq_cnt,\n",
    "                    COUNT (DISTINCT rat.book_id) AS book_id_uniq_cnt,\n",
    "                    COUNT (DISTINCT rat.username) AS username_uniq_cnt,\n",
    "                    MIN (rat.rating) AS rating_min,\n",
    "                    MAX (rat.rating) AS rating_max\n",
    "                FROM ratings rat;\n",
    "                '''\n",
    "read_sql(ratings_info)"
   ]
  },
  {
   "cell_type": "markdown",
   "metadata": {},
   "source": [
    "Имеется информация об оценке 1 000 книг 160-тью пользователями. При этом оценка книги варьируется от 1 до 5 баллов. Все книги в совокупности были оценены 6 456 раз.\n",
    "\n",
    "Также проверим, что в данных нет пропусков."
   ]
  },
  {
   "cell_type": "code",
   "execution_count": 18,
   "metadata": {},
   "outputs": [
    {
     "data": {
      "text/html": [
       "<div>\n",
       "<style scoped>\n",
       "    .dataframe tbody tr th:only-of-type {\n",
       "        vertical-align: middle;\n",
       "    }\n",
       "\n",
       "    .dataframe tbody tr th {\n",
       "        vertical-align: top;\n",
       "    }\n",
       "\n",
       "    .dataframe thead th {\n",
       "        text-align: right;\n",
       "    }\n",
       "</style>\n",
       "<table border=\"1\" class=\"dataframe\">\n",
       "  <thead>\n",
       "    <tr style=\"text-align: right;\">\n",
       "      <th></th>\n",
       "      <th>rating_id</th>\n",
       "      <th>book_id</th>\n",
       "      <th>username</th>\n",
       "      <th>rating</th>\n",
       "    </tr>\n",
       "  </thead>\n",
       "  <tbody>\n",
       "  </tbody>\n",
       "</table>\n",
       "</div>"
      ],
      "text/plain": [
       "Empty DataFrame\n",
       "Columns: [rating_id, book_id, username, rating]\n",
       "Index: []"
      ]
     },
     "execution_count": 18,
     "metadata": {},
     "output_type": "execute_result"
    }
   ],
   "source": [
    "ratings_null = '''\n",
    "                SELECT *\n",
    "                FROM ratings\n",
    "                WHERE (book_id IS NULL) OR (username IS NULL) OR (rating IS NULL);\n",
    "                '''\n",
    "read_sql(ratings_null)"
   ]
  },
  {
   "cell_type": "markdown",
   "metadata": {},
   "source": [
    "Пропусков в таблице `ratings` нет."
   ]
  },
  {
   "cell_type": "markdown",
   "metadata": {},
   "source": [
    "### Пользовательские обзоры на книги <a id='step_1.6'></a>"
   ]
  },
  {
   "cell_type": "markdown",
   "metadata": {},
   "source": [
    "Откроем таблицу `reviews` и изучим, какую информацию она в себе содержит."
   ]
  },
  {
   "cell_type": "code",
   "execution_count": 19,
   "metadata": {},
   "outputs": [
    {
     "data": {
      "text/html": [
       "<div>\n",
       "<style scoped>\n",
       "    .dataframe tbody tr th:only-of-type {\n",
       "        vertical-align: middle;\n",
       "    }\n",
       "\n",
       "    .dataframe tbody tr th {\n",
       "        vertical-align: top;\n",
       "    }\n",
       "\n",
       "    .dataframe thead th {\n",
       "        text-align: right;\n",
       "    }\n",
       "</style>\n",
       "<table border=\"1\" class=\"dataframe\">\n",
       "  <thead>\n",
       "    <tr style=\"text-align: right;\">\n",
       "      <th></th>\n",
       "      <th>review_id</th>\n",
       "      <th>book_id</th>\n",
       "      <th>username</th>\n",
       "      <th>text</th>\n",
       "    </tr>\n",
       "  </thead>\n",
       "  <tbody>\n",
       "    <tr>\n",
       "      <td>0</td>\n",
       "      <td>1</td>\n",
       "      <td>1</td>\n",
       "      <td>brandtandrea</td>\n",
       "      <td>Mention society tell send professor analysis. Over provide race technology continue these.</td>\n",
       "    </tr>\n",
       "    <tr>\n",
       "      <td>1</td>\n",
       "      <td>2</td>\n",
       "      <td>1</td>\n",
       "      <td>ryanfranco</td>\n",
       "      <td>Foot glass pretty audience hit themselves. Among admit investment argue security.</td>\n",
       "    </tr>\n",
       "    <tr>\n",
       "      <td>2</td>\n",
       "      <td>3</td>\n",
       "      <td>2</td>\n",
       "      <td>lorichen</td>\n",
       "      <td>Listen treat keep worry. Miss husband tax but person sport treatment industry. Kitchen decision deep the. Social party body the.</td>\n",
       "    </tr>\n",
       "    <tr>\n",
       "      <td>3</td>\n",
       "      <td>4</td>\n",
       "      <td>3</td>\n",
       "      <td>johnsonamanda</td>\n",
       "      <td>Finally month interesting blue could nature cultural bit. Prepare beat finish grow that smile teach. Dream me play near.</td>\n",
       "    </tr>\n",
       "    <tr>\n",
       "      <td>4</td>\n",
       "      <td>5</td>\n",
       "      <td>3</td>\n",
       "      <td>scotttamara</td>\n",
       "      <td>Nation purpose heavy give wait song will. List dinner another whole positive radio fast. Music staff many green.</td>\n",
       "    </tr>\n",
       "  </tbody>\n",
       "</table>\n",
       "</div>"
      ],
      "text/plain": [
       "   review_id  book_id       username  \\\n",
       "0          1        1   brandtandrea   \n",
       "1          2        1     ryanfranco   \n",
       "2          3        2       lorichen   \n",
       "3          4        3  johnsonamanda   \n",
       "4          5        3    scotttamara   \n",
       "\n",
       "                                                                                                                               text  \n",
       "0                                        Mention society tell send professor analysis. Over provide race technology continue these.  \n",
       "1                                                 Foot glass pretty audience hit themselves. Among admit investment argue security.  \n",
       "2  Listen treat keep worry. Miss husband tax but person sport treatment industry. Kitchen decision deep the. Social party body the.  \n",
       "3          Finally month interesting blue could nature cultural bit. Prepare beat finish grow that smile teach. Dream me play near.  \n",
       "4                  Nation purpose heavy give wait song will. List dinner another whole positive radio fast. Music staff many green.  "
      ]
     },
     "execution_count": 19,
     "metadata": {},
     "output_type": "execute_result"
    }
   ],
   "source": [
    "reviews = '''\n",
    "            SELECT *\n",
    "            FROM reviews\n",
    "            LIMIT 5;\n",
    "            '''\n",
    "read_sql(reviews)"
   ]
  },
  {
   "cell_type": "markdown",
   "metadata": {},
   "source": [
    "Посчитаем, чему равен размер таблицы."
   ]
  },
  {
   "cell_type": "code",
   "execution_count": 20,
   "metadata": {},
   "outputs": [
    {
     "data": {
      "text/html": [
       "<div>\n",
       "<style scoped>\n",
       "    .dataframe tbody tr th:only-of-type {\n",
       "        vertical-align: middle;\n",
       "    }\n",
       "\n",
       "    .dataframe tbody tr th {\n",
       "        vertical-align: top;\n",
       "    }\n",
       "\n",
       "    .dataframe thead th {\n",
       "        text-align: right;\n",
       "    }\n",
       "</style>\n",
       "<table border=\"1\" class=\"dataframe\">\n",
       "  <thead>\n",
       "    <tr style=\"text-align: right;\">\n",
       "      <th></th>\n",
       "      <th>length</th>\n",
       "    </tr>\n",
       "  </thead>\n",
       "  <tbody>\n",
       "    <tr>\n",
       "      <td>0</td>\n",
       "      <td>2793</td>\n",
       "    </tr>\n",
       "  </tbody>\n",
       "</table>\n",
       "</div>"
      ],
      "text/plain": [
       "   length\n",
       "0    2793"
      ]
     },
     "execution_count": 20,
     "metadata": {},
     "output_type": "execute_result"
    }
   ],
   "source": [
    "reviews_len = '''\n",
    "                SELECT\n",
    "                    COUNT (*) AS length\n",
    "                FROM reviews;\n",
    "                '''\n",
    "read_sql(reviews_len)"
   ]
  },
  {
   "cell_type": "markdown",
   "metadata": {},
   "source": [
    "Таблица `reviews` состоит из 2 793 строк и 4 столбцов. Рассмотрим, какие данные содержит в себе каждый из столбцов.\n",
    "* `review_id` — идентификатор обзора;\n",
    "* `book_id` — идентификатор книги;\n",
    "* `username` — имя пользователя, написавшего обзор;\n",
    "* `text` — текст обзора."
   ]
  },
  {
   "cell_type": "markdown",
   "metadata": {},
   "source": [
    "Из 2 793 значений посчитаем, сколько уникальных значений в текстовых и идентификационных столбцах."
   ]
  },
  {
   "cell_type": "code",
   "execution_count": 21,
   "metadata": {},
   "outputs": [
    {
     "data": {
      "text/html": [
       "<div>\n",
       "<style scoped>\n",
       "    .dataframe tbody tr th:only-of-type {\n",
       "        vertical-align: middle;\n",
       "    }\n",
       "\n",
       "    .dataframe tbody tr th {\n",
       "        vertical-align: top;\n",
       "    }\n",
       "\n",
       "    .dataframe thead th {\n",
       "        text-align: right;\n",
       "    }\n",
       "</style>\n",
       "<table border=\"1\" class=\"dataframe\">\n",
       "  <thead>\n",
       "    <tr style=\"text-align: right;\">\n",
       "      <th></th>\n",
       "      <th>review_id_uniq_cnt</th>\n",
       "      <th>book_id_uniq_cnt</th>\n",
       "      <th>username_uniq_cnt</th>\n",
       "      <th>text_uniq_cnt</th>\n",
       "    </tr>\n",
       "  </thead>\n",
       "  <tbody>\n",
       "    <tr>\n",
       "      <td>0</td>\n",
       "      <td>2793</td>\n",
       "      <td>994</td>\n",
       "      <td>160</td>\n",
       "      <td>2793</td>\n",
       "    </tr>\n",
       "  </tbody>\n",
       "</table>\n",
       "</div>"
      ],
      "text/plain": [
       "   review_id_uniq_cnt  book_id_uniq_cnt  username_uniq_cnt  text_uniq_cnt\n",
       "0                2793               994                160           2793"
      ]
     },
     "execution_count": 21,
     "metadata": {},
     "output_type": "execute_result"
    }
   ],
   "source": [
    "reviews_info = '''\n",
    "                SELECT\n",
    "                    COUNT (DISTINCT rev.review_id) AS review_id_uniq_cnt,\n",
    "                    COUNT (DISTINCT rev.book_id) AS book_id_uniq_cnt,\n",
    "                    COUNT (DISTINCT rev.username) AS username_uniq_cnt,\n",
    "                    COUNT (DISTINCT rev.text) AS text_uniq_cnt\n",
    "                FROM reviews rev;\n",
    "                '''\n",
    "read_sql(reviews_info)"
   ]
  },
  {
   "cell_type": "markdown",
   "metadata": {},
   "source": [
    "У нас имеется 2 793 уникальных обзора на 994 книги от 160 пользователей. Отметим, что не на все имеющиеся в базе данных книги есть отзывы."
   ]
  },
  {
   "cell_type": "markdown",
   "metadata": {},
   "source": [
    "### Вывод <a id='step_1.7'></a>"
   ]
  },
  {
   "attachments": {
    "image.png": {
     "image/png": "[encoded data removed]"
    }
   },
   "cell_type": "markdown",
   "metadata": {},
   "source": [
    "Имеется информация о книгах, издательствах, авторах, а также на пользовательских обзорах книг. Связь между таблицами с данными отражена на схеме:\n",
    "\n",
    "![image.png](attachment:image.png)\n",
    "\n",
    "В данных встречается 1 000 уникальных книг под авторством 636 авторов. При этом две книги имеют одинаковые названия, остальные названия не повторяются. Однако, книги с повторяющимся названием не являются дубликатами, поскольку хоть и написаны тем же автором, имеют разное число страниц, дату выхода и название издательства. Число страниц в книгах варьируется от 14 до 2 690 страниц; а даты издания - с 1 декабря 1952 года по 31 марта 2020 года.\n",
    "\n",
    "Книги, информацией о которых мы обладаем, были изданы 340 разными издательствами. Все 1 000 книги были оценены 160-тью разными пользователями. Некоторые пользователи оценили несколько книг. При этом пользователи написали обзор на 994 книги, в совокупности сделав 2 793 обзора. Оценка каждой книги варьируется от 1 до 5 баллов. Все книги в совокупности были оценены 6 456 раз."
   ]
  },
  {
   "cell_type": "markdown",
   "metadata": {},
   "source": [
    "## Этап 2. Анализ данных <a id='step_2'></a>"
   ]
  },
  {
   "cell_type": "markdown",
   "metadata": {},
   "source": [
    "### Число книг, вышедших с 2000 года <a id='step_2.1'></a>"
   ]
  },
  {
   "cell_type": "markdown",
   "metadata": {},
   "source": [
    "Рассчитаем, сколько книг вышло после 1 января 2000 года."
   ]
  },
  {
   "cell_type": "code",
   "execution_count": 22,
   "metadata": {},
   "outputs": [
    {
     "data": {
      "text/html": [
       "<div>\n",
       "<style scoped>\n",
       "    .dataframe tbody tr th:only-of-type {\n",
       "        vertical-align: middle;\n",
       "    }\n",
       "\n",
       "    .dataframe tbody tr th {\n",
       "        vertical-align: top;\n",
       "    }\n",
       "\n",
       "    .dataframe thead th {\n",
       "        text-align: right;\n",
       "    }\n",
       "</style>\n",
       "<table border=\"1\" class=\"dataframe\">\n",
       "  <thead>\n",
       "    <tr style=\"text-align: right;\">\n",
       "      <th></th>\n",
       "      <th>books_after_2000</th>\n",
       "    </tr>\n",
       "  </thead>\n",
       "  <tbody>\n",
       "    <tr>\n",
       "      <td>0</td>\n",
       "      <td>821</td>\n",
       "    </tr>\n",
       "  </tbody>\n",
       "</table>\n",
       "</div>"
      ],
      "text/plain": [
       "   books_after_2000\n",
       "0               821"
      ]
     },
     "execution_count": 22,
     "metadata": {},
     "output_type": "execute_result"
    }
   ],
   "source": [
    "books_after_2000 = '''\n",
    "                    SELECT\n",
    "                        COUNT (*) AS books_after_2000\n",
    "                    FROM books b\n",
    "                    WHERE\n",
    "                        b.publication_date >= '2000-01-01';\n",
    "                    '''\n",
    "read_sql(books_after_2000)"
   ]
  },
  {
   "cell_type": "markdown",
   "metadata": {},
   "source": [
    "С 1 января 2000 года вышла 821 книга из представленных 1 000."
   ]
  },
  {
   "cell_type": "markdown",
   "metadata": {},
   "source": [
    "### Количество обзоров и средняя оценка <a id='step_2.2'></a>"
   ]
  },
  {
   "cell_type": "code",
   "execution_count": 23,
   "metadata": {},
   "outputs": [
    {
     "data": {
      "text/html": [
       "<div>\n",
       "<style scoped>\n",
       "    .dataframe tbody tr th:only-of-type {\n",
       "        vertical-align: middle;\n",
       "    }\n",
       "\n",
       "    .dataframe tbody tr th {\n",
       "        vertical-align: top;\n",
       "    }\n",
       "\n",
       "    .dataframe thead th {\n",
       "        text-align: right;\n",
       "    }\n",
       "</style>\n",
       "<table border=\"1\" class=\"dataframe\">\n",
       "  <thead>\n",
       "    <tr style=\"text-align: right;\">\n",
       "      <th></th>\n",
       "      <th>book_id</th>\n",
       "      <th>book_title</th>\n",
       "      <th>reviews_cnt</th>\n",
       "      <th>rating_avg</th>\n",
       "    </tr>\n",
       "  </thead>\n",
       "  <tbody>\n",
       "    <tr>\n",
       "      <td>0</td>\n",
       "      <td>948</td>\n",
       "      <td>Twilight (Twilight  #1)</td>\n",
       "      <td>7</td>\n",
       "      <td>3.662500</td>\n",
       "    </tr>\n",
       "    <tr>\n",
       "      <td>1</td>\n",
       "      <td>207</td>\n",
       "      <td>Eat  Pray  Love</td>\n",
       "      <td>6</td>\n",
       "      <td>3.395833</td>\n",
       "    </tr>\n",
       "    <tr>\n",
       "      <td>2</td>\n",
       "      <td>299</td>\n",
       "      <td>Harry Potter and the Chamber of Secrets (Harry Potter  #2)</td>\n",
       "      <td>6</td>\n",
       "      <td>4.287500</td>\n",
       "    </tr>\n",
       "    <tr>\n",
       "      <td>3</td>\n",
       "      <td>302</td>\n",
       "      <td>Harry Potter and the Prisoner of Azkaban (Harry Potter  #3)</td>\n",
       "      <td>6</td>\n",
       "      <td>4.414634</td>\n",
       "    </tr>\n",
       "    <tr>\n",
       "      <td>4</td>\n",
       "      <td>497</td>\n",
       "      <td>Outlander (Outlander  #1)</td>\n",
       "      <td>6</td>\n",
       "      <td>4.125000</td>\n",
       "    </tr>\n",
       "    <tr>\n",
       "      <td>...</td>\n",
       "      <td>...</td>\n",
       "      <td>...</td>\n",
       "      <td>...</td>\n",
       "      <td>...</td>\n",
       "    </tr>\n",
       "    <tr>\n",
       "      <td>989</td>\n",
       "      <td>872</td>\n",
       "      <td>The Social Contract</td>\n",
       "      <td>1</td>\n",
       "      <td>3.500000</td>\n",
       "    </tr>\n",
       "    <tr>\n",
       "      <td>990</td>\n",
       "      <td>930</td>\n",
       "      <td>To Green Angel Tower (Memory  Sorrow  and Thorn  #3)</td>\n",
       "      <td>1</td>\n",
       "      <td>4.500000</td>\n",
       "    </tr>\n",
       "    <tr>\n",
       "      <td>991</td>\n",
       "      <td>943</td>\n",
       "      <td>Tsubasa: RESERVoir CHRoNiCLE  Vol. 1</td>\n",
       "      <td>1</td>\n",
       "      <td>2.500000</td>\n",
       "    </tr>\n",
       "    <tr>\n",
       "      <td>992</td>\n",
       "      <td>980</td>\n",
       "      <td>Wicked: The Grimmerie</td>\n",
       "      <td>1</td>\n",
       "      <td>3.500000</td>\n",
       "    </tr>\n",
       "    <tr>\n",
       "      <td>993</td>\n",
       "      <td>984</td>\n",
       "      <td>Winter Prey (Lucas Davenport  #5)</td>\n",
       "      <td>1</td>\n",
       "      <td>4.500000</td>\n",
       "    </tr>\n",
       "  </tbody>\n",
       "</table>\n",
       "<p>994 rows × 4 columns</p>\n",
       "</div>"
      ],
      "text/plain": [
       "     book_id                                                   book_title  \\\n",
       "0        948                                      Twilight (Twilight  #1)   \n",
       "1        207                                              Eat  Pray  Love   \n",
       "2        299   Harry Potter and the Chamber of Secrets (Harry Potter  #2)   \n",
       "3        302  Harry Potter and the Prisoner of Azkaban (Harry Potter  #3)   \n",
       "4        497                                    Outlander (Outlander  #1)   \n",
       "..       ...                                                          ...   \n",
       "989      872                                          The Social Contract   \n",
       "990      930         To Green Angel Tower (Memory  Sorrow  and Thorn  #3)   \n",
       "991      943                         Tsubasa: RESERVoir CHRoNiCLE  Vol. 1   \n",
       "992      980                                        Wicked: The Grimmerie   \n",
       "993      984                            Winter Prey (Lucas Davenport  #5)   \n",
       "\n",
       "     reviews_cnt  rating_avg  \n",
       "0              7    3.662500  \n",
       "1              6    3.395833  \n",
       "2              6    4.287500  \n",
       "3              6    4.414634  \n",
       "4              6    4.125000  \n",
       "..           ...         ...  \n",
       "989            1    3.500000  \n",
       "990            1    4.500000  \n",
       "991            1    2.500000  \n",
       "992            1    3.500000  \n",
       "993            1    4.500000  \n",
       "\n",
       "[994 rows x 4 columns]"
      ]
     },
     "execution_count": 23,
     "metadata": {},
     "output_type": "execute_result"
    }
   ],
   "source": [
    "books_reviews_and_avg_rating = '''\n",
    "                                SELECT\n",
    "                                    b.book_id AS book_id,\n",
    "                                    b.title AS book_title,\n",
    "                                    Sub_rev.reviews_cnt AS reviews_cnt,\n",
    "                                    Sub_rat.rating_avg AS rating_avg\n",
    "                                FROM\n",
    "                                    books b\n",
    "                                LEFT JOIN\n",
    "                                        (SELECT\n",
    "                                            rev.book_id,\n",
    "                                            COUNT(rev.review_id) AS reviews_cnt\n",
    "                                        FROM\n",
    "                                            reviews rev\n",
    "                                        GROUP BY\n",
    "                                            rev.book_id) AS Sub_rev\n",
    "                                    ON Sub_rev.book_id = b.book_id\n",
    "                                LEFT JOIN \n",
    "                                        (SELECT\n",
    "                                            rat.book_id,\n",
    "                                            AVG(rat.rating) AS rating_avg\n",
    "                                        FROM\n",
    "                                            ratings rat\n",
    "                                        GROUP BY\n",
    "                                            rat.book_id) AS Sub_rat\n",
    "                                    ON Sub_rat.book_id = b.book_id\n",
    "                                WHERE Sub_rev.reviews_cnt IS NOT NULL\n",
    "                                GROUP BY\n",
    "                                    b.book_id,\n",
    "                                    Sub_rev.reviews_cnt,\n",
    "                                    Sub_rat.rating_avg\n",
    "                                ORDER BY\n",
    "                                    Sub_rev.reviews_cnt DESC;\n",
    "                                '''\n",
    "read_sql(books_reviews_and_avg_rating)"
   ]
  },
  {
   "cell_type": "markdown",
   "metadata": {},
   "source": [
    "Самое большое количество обзоров на первую книгу \"Сумерки\" (7 обзоров и средний рейтинг 3,66), книгу \"Ешь, молись, люби\" (6 обзоров и средний рейтинг 3,39), 2-я и 3-я книги о Гарри Поттере (6 обзоров на каждую и средний рейтинг 4,29 и 4,41, соответственно) и книга \"Чужестранка\" (6 обзоров и оценка 4,13).\n",
    "\n",
    "\"Пятёрка\" книг, на которые имеется всего один обзор: \"The Social Contract\" (рейтинг 3,5), \"To Green Angel Tower (Memory Sorrow and Thorn #3)\" (рейтинг 4,5), \"Tsubasa: RESERVoir CHRoNiCLE Vol. 1\" (рейтинг 2,5), \"Wicked: The Grimmerie\" (рейтинг 3,5) и книга \"Winter Prey (Lucas Davenport #5)\" (рейтинг 4,5).\n",
    "\n",
    "Таким образом, даже книги, на которые обзоров мало, могут иметь более высокую оценку, чем книги с большим количеством отзывов. Это может быть связано с тем, что отзыв оставляют либо те, кого книга очень сильно впечатлила, либо те, кому совсем не понравилась (с преимуществом вторых)."
   ]
  },
  {
   "cell_type": "code",
   "execution_count": 24,
   "metadata": {},
   "outputs": [
    {
     "data": {
      "text/html": [
       "<div>\n",
       "<style scoped>\n",
       "    .dataframe tbody tr th:only-of-type {\n",
       "        vertical-align: middle;\n",
       "    }\n",
       "\n",
       "    .dataframe tbody tr th {\n",
       "        vertical-align: top;\n",
       "    }\n",
       "\n",
       "    .dataframe thead th {\n",
       "        text-align: right;\n",
       "    }\n",
       "</style>\n",
       "<table border=\"1\" class=\"dataframe\">\n",
       "  <thead>\n",
       "    <tr style=\"text-align: right;\">\n",
       "      <th></th>\n",
       "      <th>book_id</th>\n",
       "      <th>book_title</th>\n",
       "      <th>reviews_cnt</th>\n",
       "      <th>rating_avg</th>\n",
       "    </tr>\n",
       "  </thead>\n",
       "  <tbody>\n",
       "    <tr>\n",
       "      <td>0</td>\n",
       "      <td>17</td>\n",
       "      <td>A Dirty Job (Grim Reaper  #1)</td>\n",
       "      <td>4</td>\n",
       "      <td>5.00</td>\n",
       "    </tr>\n",
       "    <tr>\n",
       "      <td>1</td>\n",
       "      <td>20</td>\n",
       "      <td>A Fistful of Charms (The Hollows  #4)</td>\n",
       "      <td>2</td>\n",
       "      <td>5.00</td>\n",
       "    </tr>\n",
       "    <tr>\n",
       "      <td>2</td>\n",
       "      <td>55</td>\n",
       "      <td>A Woman of Substance (Emma Harte Saga #1)</td>\n",
       "      <td>2</td>\n",
       "      <td>5.00</td>\n",
       "    </tr>\n",
       "    <tr>\n",
       "      <td>3</td>\n",
       "      <td>57</td>\n",
       "      <td>Act of Treason (Mitch Rapp  #9)</td>\n",
       "      <td>2</td>\n",
       "      <td>5.00</td>\n",
       "    </tr>\n",
       "    <tr>\n",
       "      <td>4</td>\n",
       "      <td>62</td>\n",
       "      <td>Alas  Babylon</td>\n",
       "      <td>2</td>\n",
       "      <td>5.00</td>\n",
       "    </tr>\n",
       "    <tr>\n",
       "      <td>...</td>\n",
       "      <td>...</td>\n",
       "      <td>...</td>\n",
       "      <td>...</td>\n",
       "      <td>...</td>\n",
       "    </tr>\n",
       "    <tr>\n",
       "      <td>989</td>\n",
       "      <td>915</td>\n",
       "      <td>The World Is Flat: A Brief History of the Twenty-first Century</td>\n",
       "      <td>3</td>\n",
       "      <td>2.25</td>\n",
       "    </tr>\n",
       "    <tr>\n",
       "      <td>990</td>\n",
       "      <td>202</td>\n",
       "      <td>Drowning Ruth</td>\n",
       "      <td>3</td>\n",
       "      <td>2.00</td>\n",
       "    </tr>\n",
       "    <tr>\n",
       "      <td>991</td>\n",
       "      <td>316</td>\n",
       "      <td>His Excellency: George Washington</td>\n",
       "      <td>2</td>\n",
       "      <td>2.00</td>\n",
       "    </tr>\n",
       "    <tr>\n",
       "      <td>992</td>\n",
       "      <td>371</td>\n",
       "      <td>Junky</td>\n",
       "      <td>2</td>\n",
       "      <td>2.00</td>\n",
       "    </tr>\n",
       "    <tr>\n",
       "      <td>993</td>\n",
       "      <td>303</td>\n",
       "      <td>Harvesting the Heart</td>\n",
       "      <td>2</td>\n",
       "      <td>1.50</td>\n",
       "    </tr>\n",
       "  </tbody>\n",
       "</table>\n",
       "<p>994 rows × 4 columns</p>\n",
       "</div>"
      ],
      "text/plain": [
       "     book_id                                                      book_title  \\\n",
       "0         17                                   A Dirty Job (Grim Reaper  #1)   \n",
       "1         20                           A Fistful of Charms (The Hollows  #4)   \n",
       "2         55                       A Woman of Substance (Emma Harte Saga #1)   \n",
       "3         57                                 Act of Treason (Mitch Rapp  #9)   \n",
       "4         62                                                   Alas  Babylon   \n",
       "..       ...                                                             ...   \n",
       "989      915  The World Is Flat: A Brief History of the Twenty-first Century   \n",
       "990      202                                                   Drowning Ruth   \n",
       "991      316                               His Excellency: George Washington   \n",
       "992      371                                                           Junky   \n",
       "993      303                                            Harvesting the Heart   \n",
       "\n",
       "     reviews_cnt  rating_avg  \n",
       "0              4        5.00  \n",
       "1              2        5.00  \n",
       "2              2        5.00  \n",
       "3              2        5.00  \n",
       "4              2        5.00  \n",
       "..           ...         ...  \n",
       "989            3        2.25  \n",
       "990            3        2.00  \n",
       "991            2        2.00  \n",
       "992            2        2.00  \n",
       "993            2        1.50  \n",
       "\n",
       "[994 rows x 4 columns]"
      ]
     },
     "execution_count": 24,
     "metadata": {},
     "output_type": "execute_result"
    }
   ],
   "source": [
    "books_reviews_and_avg_rating = '''\n",
    "                                SELECT\n",
    "                                    b.book_id AS book_id,\n",
    "                                    b.title AS book_title,\n",
    "                                    Sub_rev.reviews_cnt AS reviews_cnt,\n",
    "                                    Sub_rat.rating_avg AS rating_avg\n",
    "                                FROM\n",
    "                                    books b\n",
    "                                LEFT JOIN\n",
    "                                        (SELECT\n",
    "                                            rev.book_id,\n",
    "                                            COUNT(rev.review_id) AS reviews_cnt\n",
    "                                        FROM\n",
    "                                            reviews rev\n",
    "                                        GROUP BY\n",
    "                                            rev.book_id) AS Sub_rev\n",
    "                                    ON Sub_rev.book_id = b.book_id\n",
    "                                LEFT JOIN \n",
    "                                        (SELECT\n",
    "                                            rat.book_id,\n",
    "                                            AVG(rat.rating) AS rating_avg\n",
    "                                        FROM\n",
    "                                            ratings rat\n",
    "                                        GROUP BY\n",
    "                                            rat.book_id) AS Sub_rat\n",
    "                                    ON Sub_rat.book_id = b.book_id\n",
    "                                WHERE Sub_rev.reviews_cnt IS NOT NULL\n",
    "                                GROUP BY\n",
    "                                    b.book_id,\n",
    "                                    Sub_rev.reviews_cnt,\n",
    "                                    Sub_rat.rating_avg\n",
    "                                ORDER BY\n",
    "                                    Sub_rat.rating_avg DESC;\n",
    "                                '''\n",
    "read_sql(books_reviews_and_avg_rating)"
   ]
  },
  {
   "cell_type": "markdown",
   "metadata": {},
   "source": [
    "Среди книг с наибольшим рейтингом встречаются такие как \"A Dirty Job (Grim Reaper #1)\" (4 обзора), \"A Fistful of Charms (The Hollows #4)\" (2 обзора), \"A Woman of Substance (Emma Harte Saga #1)\" (2 обзора), \"Act of Treason (Mitch Rapp #9)\" (2 обзора), \"Alas Babylon\" (2 обзора).\n",
    "\n",
    "Книги с наименьшим рейтингом: \"The World Is Flat: A Brief History of the Twenty-first Century\" (3 обзора, оценка 2,25), \"Drowning Ruth\" (3 обзора, оценка 2), \"His Excellency: George Washington\" (2 обзора, оценка 2), \"Junky\" (2 обзоров, оценка 2) и \"Harvesting the Heart\" (2 обзора, самая низкая средняя оценка 1,5 балла).\n",
    "\n",
    "Соответственно, наблюдаем следующую тенденцию. Больше всего обзоров имеют (и, возможно, больше всего читают) те книги, которые популярны - например, из-за экранизации. Но поскольку оценивает их большое число людей с разными вкусами, средние оценки у них не самые высокие. В то же время высокие оценки могут иметь совсем непопулярные книги, однако это не говорит о причинно-следственной связи, так как и низкие оценки могут иметь совсем непопулярные книги, на которые мало развёрнутых отзывов."
   ]
  },
  {
   "cell_type": "markdown",
   "metadata": {},
   "source": [
    "### Издательство, выпустившее наибольшее число книг <a id='step_2.3'></a>"
   ]
  },
  {
   "cell_type": "markdown",
   "metadata": {},
   "source": [
    "Определим издательство, которое выпустило наибольшее число книг. При этом, чтобы исключить из анализа брошюры, возьмём книги толще 50 страниц."
   ]
  },
  {
   "cell_type": "code",
   "execution_count": 25,
   "metadata": {},
   "outputs": [
    {
     "data": {
      "text/html": [
       "<div>\n",
       "<style scoped>\n",
       "    .dataframe tbody tr th:only-of-type {\n",
       "        vertical-align: middle;\n",
       "    }\n",
       "\n",
       "    .dataframe tbody tr th {\n",
       "        vertical-align: top;\n",
       "    }\n",
       "\n",
       "    .dataframe thead th {\n",
       "        text-align: right;\n",
       "    }\n",
       "</style>\n",
       "<table border=\"1\" class=\"dataframe\">\n",
       "  <thead>\n",
       "    <tr style=\"text-align: right;\">\n",
       "      <th></th>\n",
       "      <th>publisher_name</th>\n",
       "      <th>books_cnt</th>\n",
       "    </tr>\n",
       "  </thead>\n",
       "  <tbody>\n",
       "    <tr>\n",
       "      <td>0</td>\n",
       "      <td>Penguin Books</td>\n",
       "      <td>42</td>\n",
       "    </tr>\n",
       "    <tr>\n",
       "      <td>1</td>\n",
       "      <td>Vintage</td>\n",
       "      <td>31</td>\n",
       "    </tr>\n",
       "    <tr>\n",
       "      <td>2</td>\n",
       "      <td>Grand Central Publishing</td>\n",
       "      <td>25</td>\n",
       "    </tr>\n",
       "    <tr>\n",
       "      <td>3</td>\n",
       "      <td>Penguin Classics</td>\n",
       "      <td>24</td>\n",
       "    </tr>\n",
       "    <tr>\n",
       "      <td>4</td>\n",
       "      <td>Bantam</td>\n",
       "      <td>19</td>\n",
       "    </tr>\n",
       "  </tbody>\n",
       "</table>\n",
       "</div>"
      ],
      "text/plain": [
       "             publisher_name  books_cnt\n",
       "0             Penguin Books         42\n",
       "1                   Vintage         31\n",
       "2  Grand Central Publishing         25\n",
       "3          Penguin Classics         24\n",
       "4                    Bantam         19"
      ]
     },
     "execution_count": 25,
     "metadata": {},
     "output_type": "execute_result"
    }
   ],
   "source": [
    "publishers_top_num_books = '''\n",
    "                            SELECT\n",
    "                                p.publisher AS publisher_name,\n",
    "                                COUNT(Sub_b.book_id) AS books_cnt\n",
    "                            FROM\n",
    "                                publishers p\n",
    "                            LEFT JOIN (SELECT *\n",
    "                                        FROM\n",
    "                                            books b\n",
    "                                        WHERE\n",
    "                                            b.num_pages > 50) AS Sub_b\n",
    "                                ON Sub_b.publisher_id = p.publisher_id\n",
    "                            GROUP BY\n",
    "                                p.publisher\n",
    "                            ORDER BY\n",
    "                                COUNT(Sub_b.book_id) DESC\n",
    "                            LIMIT 5;\n",
    "                            '''\n",
    "read_sql(publishers_top_num_books)"
   ]
  },
  {
   "cell_type": "markdown",
   "metadata": {},
   "source": [
    "TOP-5 издательств по количеству изданных книг: Penguin Books (42 книги), Vintage (31 книга), Grand Central Publishing (25 книг), Penguin Classics (24 книги) и Bantam (19 книг)."
   ]
  },
  {
   "cell_type": "markdown",
   "metadata": {},
   "source": [
    "### Автор с самой высокой средней оценкой книг <a id='step_2.4'></a>"
   ]
  },
  {
   "cell_type": "markdown",
   "metadata": {},
   "source": [
    "Определим автора с самой высокой средней оценкой книг для книг с 50 и более оценками."
   ]
  },
  {
   "cell_type": "code",
   "execution_count": 26,
   "metadata": {},
   "outputs": [
    {
     "data": {
      "text/html": [
       "<div>\n",
       "<style scoped>\n",
       "    .dataframe tbody tr th:only-of-type {\n",
       "        vertical-align: middle;\n",
       "    }\n",
       "\n",
       "    .dataframe tbody tr th {\n",
       "        vertical-align: top;\n",
       "    }\n",
       "\n",
       "    .dataframe thead th {\n",
       "        text-align: right;\n",
       "    }\n",
       "</style>\n",
       "<table border=\"1\" class=\"dataframe\">\n",
       "  <thead>\n",
       "    <tr style=\"text-align: right;\">\n",
       "      <th></th>\n",
       "      <th>author_name</th>\n",
       "      <th>rating_avg</th>\n",
       "    </tr>\n",
       "  </thead>\n",
       "  <tbody>\n",
       "    <tr>\n",
       "      <td>0</td>\n",
       "      <td>J.K. Rowling/Mary GrandPré</td>\n",
       "      <td>4.283844</td>\n",
       "    </tr>\n",
       "    <tr>\n",
       "      <td>1</td>\n",
       "      <td>Markus Zusak/Cao Xuân Việt Khương</td>\n",
       "      <td>4.264151</td>\n",
       "    </tr>\n",
       "    <tr>\n",
       "      <td>2</td>\n",
       "      <td>J.R.R. Tolkien</td>\n",
       "      <td>4.258446</td>\n",
       "    </tr>\n",
       "    <tr>\n",
       "      <td>3</td>\n",
       "      <td>Louisa May Alcott</td>\n",
       "      <td>4.192308</td>\n",
       "    </tr>\n",
       "    <tr>\n",
       "      <td>4</td>\n",
       "      <td>Rick Riordan</td>\n",
       "      <td>4.080645</td>\n",
       "    </tr>\n",
       "  </tbody>\n",
       "</table>\n",
       "</div>"
      ],
      "text/plain": [
       "                         author_name  rating_avg\n",
       "0         J.K. Rowling/Mary GrandPré    4.283844\n",
       "1  Markus Zusak/Cao Xuân Việt Khương    4.264151\n",
       "2                     J.R.R. Tolkien    4.258446\n",
       "3                  Louisa May Alcott    4.192308\n",
       "4                       Rick Riordan    4.080645"
      ]
     },
     "execution_count": 26,
     "metadata": {},
     "output_type": "execute_result"
    }
   ],
   "source": [
    "authors_top_avg_rating = '''\n",
    "                            SELECT\n",
    "                                a.author AS author_name,\n",
    "                                AVG(Sub_rat.rating_avg) AS rating_avg                                \n",
    "                            FROM\n",
    "                                authors a\n",
    "                            RIGHT JOIN\n",
    "                                    (SELECT\n",
    "                                        rat.book_id AS book_id,\n",
    "                                        b.author_id AS author_id,\n",
    "                                        COUNT(rat.rating_id) AS ratings_num,\n",
    "                                        AVG(rat.rating) AS rating_avg\n",
    "                                    FROM\n",
    "                                        ratings rat\n",
    "                                    LEFT JOIN\n",
    "                                        books b ON b.book_id = rat.book_id\n",
    "                                    GROUP BY\n",
    "                                        rat.book_id,\n",
    "                                        b.author_id\n",
    "                                    HAVING\n",
    "                                        COUNT(rat.rating_id) >= 50) AS Sub_rat\n",
    "                                ON a.author_id = Sub_rat.author_id\n",
    "                            GROUP BY\n",
    "                                a.author\n",
    "                            ORDER BY\n",
    "                                AVG(Sub_rat.rating_avg) DESC\n",
    "                            LIMIT 5;\n",
    "                            '''\n",
    "read_sql(authors_top_avg_rating)"
   ]
  },
  {
   "cell_type": "markdown",
   "metadata": {},
   "source": [
    "У нас имеется два автора, написавших книгу в соавторстве, с самой высокой средней оценкой книги в 4,284 балла - это J.K. Rowling и Mary GrandPré. Вывод верен для выборки из книг, имеющих свыше 50 оценок."
   ]
  },
  {
   "cell_type": "markdown",
   "metadata": {},
   "source": [
    "### Среднее количество обзоров от активных пользователей <a id='step_2.5'></a>"
   ]
  },
  {
   "cell_type": "markdown",
   "metadata": {},
   "source": [
    "Рассчитаем среднее количество обзоров от активных пользователей. Под активными пользователями подразумеваем тех, которые поставили больше 50 оценок."
   ]
  },
  {
   "cell_type": "code",
   "execution_count": 27,
   "metadata": {},
   "outputs": [
    {
     "data": {
      "text/html": [
       "<div>\n",
       "<style scoped>\n",
       "    .dataframe tbody tr th:only-of-type {\n",
       "        vertical-align: middle;\n",
       "    }\n",
       "\n",
       "    .dataframe tbody tr th {\n",
       "        vertical-align: top;\n",
       "    }\n",
       "\n",
       "    .dataframe thead th {\n",
       "        text-align: right;\n",
       "    }\n",
       "</style>\n",
       "<table border=\"1\" class=\"dataframe\">\n",
       "  <thead>\n",
       "    <tr style=\"text-align: right;\">\n",
       "      <th></th>\n",
       "      <th>username</th>\n",
       "      <th>reviews_avg</th>\n",
       "    </tr>\n",
       "  </thead>\n",
       "  <tbody>\n",
       "    <tr>\n",
       "      <td>0</td>\n",
       "      <td>sfitzgerald</td>\n",
       "      <td>28</td>\n",
       "    </tr>\n",
       "    <tr>\n",
       "      <td>1</td>\n",
       "      <td>martinadam</td>\n",
       "      <td>27</td>\n",
       "    </tr>\n",
       "    <tr>\n",
       "      <td>2</td>\n",
       "      <td>lesliegibbs</td>\n",
       "      <td>26</td>\n",
       "    </tr>\n",
       "    <tr>\n",
       "      <td>3</td>\n",
       "      <td>richard89</td>\n",
       "      <td>26</td>\n",
       "    </tr>\n",
       "    <tr>\n",
       "      <td>4</td>\n",
       "      <td>jennifermiller</td>\n",
       "      <td>25</td>\n",
       "    </tr>\n",
       "    <tr>\n",
       "      <td>5</td>\n",
       "      <td>shermannatalie</td>\n",
       "      <td>24</td>\n",
       "    </tr>\n",
       "    <tr>\n",
       "      <td>6</td>\n",
       "      <td>vanessagardner</td>\n",
       "      <td>22</td>\n",
       "    </tr>\n",
       "    <tr>\n",
       "      <td>7</td>\n",
       "      <td>paul88</td>\n",
       "      <td>22</td>\n",
       "    </tr>\n",
       "    <tr>\n",
       "      <td>8</td>\n",
       "      <td>xdavis</td>\n",
       "      <td>18</td>\n",
       "    </tr>\n",
       "  </tbody>\n",
       "</table>\n",
       "</div>"
      ],
      "text/plain": [
       "         username  reviews_avg\n",
       "0     sfitzgerald           28\n",
       "1      martinadam           27\n",
       "2     lesliegibbs           26\n",
       "3       richard89           26\n",
       "4  jennifermiller           25\n",
       "5  shermannatalie           24\n",
       "6  vanessagardner           22\n",
       "7          paul88           22\n",
       "8          xdavis           18"
      ]
     },
     "execution_count": 27,
     "metadata": {},
     "output_type": "execute_result"
    }
   ],
   "source": [
    "users_avg_reviews = '''\n",
    "                    SELECT\n",
    "                        rev.username AS username,\n",
    "                        COUNT(rev.review_id) AS reviews_avg\n",
    "                    FROM\n",
    "                        reviews rev\n",
    "                    WHERE\n",
    "                        rev.username IN\n",
    "                                    (SELECT\n",
    "                                        Sub_rat.username\n",
    "                                    FROM\n",
    "                                        (SELECT\n",
    "                                            rat.username AS username,\n",
    "                                            COUNT(rat.rating_id) AS ratings_num\n",
    "                                        FROM\n",
    "                                            ratings rat\n",
    "                                        GROUP BY\n",
    "                                            rat.username\n",
    "                                        HAVING\n",
    "                                            COUNT(rat.rating_id) >= 50) AS Sub_rat)\n",
    "                    GROUP BY\n",
    "                        rev.username\n",
    "                    ORDER BY\n",
    "                        COUNT(rev.review_id) DESC;\n",
    "                    '''\n",
    "read_sql(users_avg_reviews)"
   ]
  },
  {
   "cell_type": "code",
   "execution_count": 28,
   "metadata": {},
   "outputs": [
    {
     "data": {
      "text/html": [
       "<div>\n",
       "<style scoped>\n",
       "    .dataframe tbody tr th:only-of-type {\n",
       "        vertical-align: middle;\n",
       "    }\n",
       "\n",
       "    .dataframe tbody tr th {\n",
       "        vertical-align: top;\n",
       "    }\n",
       "\n",
       "    .dataframe thead th {\n",
       "        text-align: right;\n",
       "    }\n",
       "</style>\n",
       "<table border=\"1\" class=\"dataframe\">\n",
       "  <thead>\n",
       "    <tr style=\"text-align: right;\">\n",
       "      <th></th>\n",
       "      <th>users_avg_reviews</th>\n",
       "    </tr>\n",
       "  </thead>\n",
       "  <tbody>\n",
       "    <tr>\n",
       "      <td>0</td>\n",
       "      <td>24.333333</td>\n",
       "    </tr>\n",
       "  </tbody>\n",
       "</table>\n",
       "</div>"
      ],
      "text/plain": [
       "   users_avg_reviews\n",
       "0          24.333333"
      ]
     },
     "execution_count": 28,
     "metadata": {},
     "output_type": "execute_result"
    }
   ],
   "source": [
    "users_avg_reviews = '''\n",
    "                    SELECT\n",
    "                        AVG(Sub_rev.reviews_avg) AS users_avg_reviews\n",
    "                    FROM\n",
    "                        (SELECT\n",
    "                            rev.username AS username,\n",
    "                            COUNT(rev.review_id) AS reviews_avg\n",
    "                        FROM\n",
    "                            reviews rev\n",
    "                        WHERE\n",
    "                            rev.username IN\n",
    "                                            (SELECT\n",
    "                                                Sub_rat.username\n",
    "                                            FROM\n",
    "                                                (SELECT\n",
    "                                                    rat.username AS username,\n",
    "                                                    COUNT(rat.rating_id) AS ratings_num\n",
    "                                                FROM\n",
    "                                                    ratings rat\n",
    "                                                GROUP BY\n",
    "                                                    rat.username\n",
    "                                                HAVING\n",
    "                                                    COUNT(rat.rating_id) > 50) AS Sub_rat)\n",
    "                        GROUP BY\n",
    "                            rev.username) AS Sub_rev;\n",
    "                    '''\n",
    "read_sql(users_avg_reviews)"
   ]
  },
  {
   "cell_type": "markdown",
   "metadata": {},
   "source": [
    "У нас имеется 9 пользователей, являющихся активными (более 50 обзоров книг): это sfitzgerald (c 28 обзорами), martinadam (с 27 обзорами), lesliegibbs и richard89 (каждый с 26 обзорами), jennifermiller (с 25 обзорами), shermannatalie (с 24 обзорами), vanessagardner и paul88 (каждый с 22 обзорами) и xdavis (с 18 обзорами книг).\n",
    "\n",
    "Таким образом, среднее число обзоров книг для самых активных пользователей составляет около 24 обзоров."
   ]
  },
  {
   "cell_type": "markdown",
   "metadata": {},
   "source": [
    "### Вывод <a id='step_2.6'></a>"
   ]
  },
  {
   "cell_type": "markdown",
   "metadata": {},
   "source": [
    "Анализ данных позволил сделать **следующие выводы**.\n",
    "\n",
    "**С 1 января 2000 года вышла 821 книга** из представленных 1 000. **Самое большое количество обзоров** на первую книгу \"Сумерки\" (7 обзоров и средний рейтинг 3,66), книгу \"Ешь, молись, люби\" (6 обзоров и средний рейтинг 3,39), 2-я и 3-я книги о Гарри Поттере (6 обзоров на каждую и средний рейтинг 4,29 и 4,41, соответственно) и книга \"Чужестранка\" (6 обзоров и оценка 4,13). **\"Пятёрка\" книг, на которые имеется всего один обзор**: \"The Social Contract\" (рейтинг 3,5), \"To Green Angel Tower (Memory Sorrow and Thorn #3)\" (рейтинг 4,5), \"Tsubasa: RESERVoir CHRoNiCLE Vol. 1\" (рейтинг 2,5), \"Wicked: The Grimmerie\" (рейтинг 3,5) и книга \"Winter Prey (Lucas Davenport #5)\" (рейтинг 4,5). Таким образом, даже книги, на которые обзоров мало, могут иметь более высокую оценку, чем книги с большим количеством отзывов. Это может быть связано с тем, что отзыв оставляют либо те, кого книга очень сильно впечатлила, либо те, кому совсем не понравилась (с преимуществом вторых).\n",
    "\n",
    "Среди **книг с наибольшим рейтингом** встречаются такие как \"A Dirty Job (Grim Reaper #1)\" (4 обзора), \"A Fistful of Charms (The Hollows #4)\" (2 обзора), \"A Woman of Substance (Emma Harte Saga #1)\" (2 обзора), \"Act of Treason (Mitch Rapp #9)\" (2 обзора), \"Alas Babylon\" (2 обзора). **Книги с наименьшим рейтингом**: \"The World Is Flat: A Brief History of the Twenty-first Century\" (3 обзора, оценка 2,25), \"Drowning Ruth\" (3 обзора, оценка 2), \"His Excellency: George Washington\" (2 обзора, оценка 2), \"Junky\" (2 обзоров, оценка 2) и \"Harvesting the Heart\" (2 обзора, самая низкая средняя оценка 1,5 балла). Соответственно, наблюдаем следующую тенденцию. Больше всего обзоров имеют (и, возможно, больше всего читают) те книги, которые популярны - например, из-за экранизации. Но поскольку оценивает их большое число людей с разными вкусами, средние оценки у них не самые высокие. В то же время высокие оценки могут иметь совсем непопулярные книги, однако это не говорит о причинно-следственной связи, так как и низкие оценки могут иметь совсем непопулярные книги, на которые мало развёрнутых отзывов.\n",
    "\n",
    "**TOP-5 издательств по количеству изданных книг**: Penguin Books (42 книги), Vintage (31 книга), Grand Central Publishing (25 книг), Penguin Classics (24 книги) и Bantam (19 книг). У нас имеется **два автора, написавших книгу в соавторстве, с самой высокой средней оценкой книги** в 4,284 балла - это J.K. Rowling и Mary GrandPré. Вывод верен для выборки из книг, имеющих свыше 50 оценок. У нас имеется **9 пользователей, являющихся активными** (более 50 обзоров книг): это sfitzgerald (c 28 обзорами), martinadam (с 27 обзорами), lesliegibbs и richard89 (каждый с 26 обзорами), jennifermiller (с 25 обзорами), shermannatalie (с 24 обзорами), vanessagardner и paul88 (каждый с 22 обзорами) и xdavis (с 18 обзорами книг). Таким образом, **среднее число обзоров книг для самых активных пользователей** составляет около 24 обзоров."
   ]
  },
  {
   "cell_type": "markdown",
   "metadata": {},
   "source": [
    "## Общий вывод <a id='step_3'></a>"
   ]
  },
  {
   "cell_type": "markdown",
   "metadata": {},
   "source": [
    "Было проведено исследование информации о книгах, издательствах, авторах, а также пользовательских оценок и обзоров книг. В данных встречается **1 000 уникальных книг** под авторством **636 авторов**. При этом две книги имеют одинаковые названия, остальные названия не повторяются. Однако, книги с повторяющимся названием являются разными, поскольку хоть и написаны тем же автором, имеют разное число страниц, дату выхода и название издательства. **Число страниц в книгах варьируется от 14 до 2 690 страниц**; а даты издания - **с 1 декабря 1952 года по 31 марта 2020 года**. Книги, информацией о которых мы обладаем, были изданы **340 разными издательствами**. Все 1 000 книги были **оценены 160-тью разными пользователям**и. Некоторые пользователи оценили несколько книг. При этом **пользователи написали обзор на 994 книги**, в совокупности сделав 2 793 обзора. Оценка каждой книги варьируется **от 1 до 5 баллов**. Все книги в совокупности были оценены 6 456 раз.\n",
    "\n",
    "Анализ данных позволил сделать **следующие выводы**.\n",
    "1. **С 1 января 2000 года вышла 821 книга** из представленных 1 000. \n",
    "2. Самое большое количество обзоров на первую книгу \"Сумерки\" (7 обзоров и средний рейтинг 3,66), книгу \"Ешь, молись, люби\" (6 обзоров и средний рейтинг 3,39), 2-я и 3-я книги о Гарри Поттере (6 обзоров на каждую и средний рейтинг 4,29 и 4,41, соответственно) и книга \"Чужестранка\" (6 обзоров и оценка 4,13). \"Пятёрка\" книг, на которые имеется всего один обзор: \"The Social Contract\" (рейтинг 3,5), \"To Green Angel Tower (Memory Sorrow and Thorn #3)\" (рейтинг 4,5), \"Tsubasa: RESERVoir CHRoNiCLE Vol. 1\" (рейтинг 2,5), \"Wicked: The Grimmerie\" (рейтинг 3,5) и книга \"Winter Prey (Lucas Davenport #5)\" (рейтинг 4,5).\n",
    "\n",
    "Таким образом, **даже книги, на которые обзоров мало, могут иметь более высокую оценку, чем книги с большим количеством отзывов**. Это может быть связано с тем, что отзыв оставляют либо те, кого книга очень сильно впечатлила, либо те, кому совсем не понравилась (с преимуществом вторых).\n",
    "\n",
    "3. Среди книг с наибольшим рейтингом встречаются такие как \"A Dirty Job (Grim Reaper #1)\" (4 обзора), \"A Fistful of Charms (The Hollows #4)\" (2 обзора), \"A Woman of Substance (Emma Harte Saga #1)\" (2 обзора), \"Act of Treason (Mitch Rapp #9)\" (2 обзора), \"Alas Babylon\" (2 обзора). Книги с наименьшим рейтингом: \"The World Is Flat: A Brief History of the Twenty-first Century\" (3 обзора, оценка 2,25), \"Drowning Ruth\" (3 обзора, оценка 2), \"His Excellency: George Washington\" (2 обзора, оценка 2), \"Junky\" (2 обзоров, оценка 2) и \"Harvesting the Heart\" (2 обзора, самая низкая средняя оценка 1,5 балла). \n",
    "\n",
    "Соответственно, наблюдаем следующую тенденцию. **Больше всего обзоров имеют** (и, возможно, больше всего читают) **те книги, которые популярны** - например, из-за экранизации. Но поскольку оценивает их большое число людей с разными вкусами, **средние оценки у них не самые высокие. В то же время высокие оценки могут иметь совсем непопулярные книги**, однако это не говорит о причинно-следственной связи, так как **и низкие оценки могут иметь совсем непопулярные книги**, на которые мало развёрнутых отзывов.\n",
    "\n",
    "4. **TOP-5 издательств по количеству изданных книг**: Penguin Books (42 книги), Vintage (31 книга), Grand Central Publishing (25 книг), Penguin Classics (24 книги) и Bantam (19 книг). \n",
    "5. У нас имеется **два автора, написавших книгу в соавторстве, с самой высокой средней оценкой книги** в 4,284 балла - это **J.K. Rowling и Mary GrandPré**. Вывод верен для выборки из книг, имеющих свыше 50 оценок.\n",
    "6. У нас имеется 9 пользователей, являющихся активными (более 50 обзоров книг): это sfitzgerald (c 28 обзорами), martinadam (с 27 обзорами), lesliegibbs и richard89 (каждый с 26 обзорами), jennifermiller (с 25 обзорами), shermannatalie (с 24 обзорами), vanessagardner и paul88 (каждый с 22 обзорами) и xdavis (с 18 обзорами книг).\n",
    "\n",
    "Таким образом, **среднее число обзоров книг для самых активных** пользователей составляет около **24 обзоров**."
   ]
  },
  {
   "cell_type": "markdown",
   "metadata": {},
   "source": [
    "## Рекомендации <a id='step_4'></a>"
   ]
  },
  {
   "cell_type": "markdown",
   "metadata": {},
   "source": [
    "На основе проведённого анализа были разработаны **следующие рекомендации** по предложению нового продукта в сервисе для чтения книг по подписке.\n",
    "\n",
    "1. Предлагать подписчикам **свежие книги** (вышедшие с 2000 года и позднее);\n",
    "2. Предлагать подписчикам те **книги, которые сейчас популярны**, но адаптировать систему под близкие по интересу пользователя книги - исходя из его оценок;\n",
    "3. Предлагать также **недооценённые книги**, которые имеют мало отзывов, но высокие оценки;\n",
    "4. Предлагать **книги издательств** Penguin Books, Vintage, Grand Central Publishing, Penguin Classics и Bantam;\n",
    "5. Акцентировать внимание пользователей на книгах **таких авторов** как J.K. Rowling и Mary GrandPré;\n",
    "6. **Особое внимание** уделить таким пользователям как sfitzgerald, martinadam, lesliegibbs, richard89, jennifermiller, shermannatalie, vanessagardner, paul88 и xdavis, а также пользователем, оценивающим от 50 книг и чьё количество обзоров на книги приближается к 24 и выше, - как самым читающим; ориентироваться на их оценку и отзывы при формировании ТОП-книг."
   ]
  }
 ],
 "metadata": {
  "kernelspec": {
   "display_name": "Python 3",
   "language": "python",
   "name": "python3"
  },
  "language_info": {
   "codemirror_mode": {
    "name": "ipython",
    "version": 3
   },
   "file_extension": ".py",
   "mimetype": "text/x-python",
   "name": "python",
   "nbconvert_exporter": "python",
   "pygments_lexer": "ipython3",
   "version": "3.7.6"
  }
 },
 "nbformat": 4,
 "nbformat_minor": 2
}
