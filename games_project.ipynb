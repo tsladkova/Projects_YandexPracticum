{
 "cells": [
  {
   "cell_type": "markdown",
   "metadata": {},
   "source": [
    "# Определение перспективного продукта в индустрии реализации компьютерных игр"
   ]
  },
  {
   "cell_type": "markdown",
   "metadata": {},
   "source": [
    "## Введение"
   ]
  },
  {
   "cell_type": "markdown",
   "metadata": {},
   "source": [
    "**Целью данного исследования** является определение закономерностей на рынке компьютерных игр, определяющих успешность игры. Исследование **построено на** открытых исторических данных о продажах игр, оценках пользователей и экспертов, жанрах и платформах (Xbox, PlayStation и другие) до 2016 года. \n",
    "\n",
    "**Потребность в исследовании** обусловлена стремлением международного интернет-магазина \"Стримчик\", продающего компьютерные игры, спланировать рекламные кампании на 2017 года и определить потенциально популярный игровой продукт.\n",
    "\n",
    "Иследование состоит из **следующих этапов**:\n",
    "\n",
    "1. [Обзор данных и их предобработка](#step_1):\n",
    "    * [Импорт библиотек](#step_1.1);\n",
    "    * [Общая информация о данных](#step_1.2);\n",
    "    * [Обработка пропусков и дубликатов, замена типа данных](#step_1.3);\n",
    "    * [Расчёт суммарных продаж](#step_1.4);\n",
    "    * [Вывод](#step_1.5).\n",
    "2. [Исследовательский анализ данных](#step_2):\n",
    "    * [Количество выходящих игр по годам](#step_2.1);\n",
    "    * [Продажи по платформам](#step_2.2);\n",
    "    * [Продажи по платформам в актуальный период](#step_2.3);\n",
    "    * [Построение боксплотов по наиболее перспективным платформам](#step_2.4);\n",
    "    * [Связь отзывов и продаж](#step_2.5);\n",
    "    * [Распределение игр по жанрам](#step_2.6);\n",
    "    * [Вывод](#step_2.7).\n",
    "3. [Сопоставление портрета пользователя каждого региона](#step_3):\n",
    "    * [Самые популярные платформы](#step_3.1);\n",
    "    * [Самые популярные жанры](#step_3.2);\n",
    "    * [Влияние рейтинга на продажи](#step_3.3);\n",
    "    * [Вывод](#step_3.4).\n",
    "4. [Проверка статистических гипотез](#step_4):\n",
    "    * [Равенство средних пользовательских рейтингов платформ Xbox One и PC](#step_4.1);\n",
    "    * [Различие средних пользовательских рейтингов жанров Action и Sports](#step_4.2);\n",
    "    * [Вывод](#step_4.3).\n",
    "5. [Общий вывод](#step_5);\n",
    "6. [Рекомендации](#step_6).\n",
    "\n",
    "В работе проведён анализ закономерностей, определяющих успешность игр. **Результатом исследования** являются рекомендации о том, какой продукт в индустрии реализации компьютерных игр является наиболее перспективным для интернет-магазина \"Стримчик\"."
   ]
  },
  {
   "cell_type": "markdown",
   "metadata": {},
   "source": [
    "## Этап 1. Обзор данных и их предобработка <a id='step_1'></a>"
   ]
  },
  {
   "cell_type": "markdown",
   "metadata": {},
   "source": [
    "### Импорт библиотек <a id='step_1.1'></a>"
   ]
  },
  {
   "cell_type": "code",
   "execution_count": 1,
   "metadata": {},
   "outputs": [],
   "source": [
    "import pandas as pd\n",
    "import numpy as np\n",
    "from IPython import display\n",
    "\n",
    "import matplotlib.pyplot as plt\n",
    "import seaborn as sns\n",
    "\n",
    "from pymystem3 import Mystem\n",
    "\n",
    "from scipy import stats as st"
   ]
  },
  {
   "cell_type": "markdown",
   "metadata": {},
   "source": [
    "### Общая информация о данных <a id='step_1.2'></a>"
   ]
  },
  {
   "cell_type": "code",
   "execution_count": 2,
   "metadata": {
    "scrolled": true
   },
   "outputs": [
    {
     "data": {
      "text/html": [
       "<div>\n",
       "<style scoped>\n",
       "    .dataframe tbody tr th:only-of-type {\n",
       "        vertical-align: middle;\n",
       "    }\n",
       "\n",
       "    .dataframe tbody tr th {\n",
       "        vertical-align: top;\n",
       "    }\n",
       "\n",
       "    .dataframe thead th {\n",
       "        text-align: right;\n",
       "    }\n",
       "</style>\n",
       "<table border=\"1\" class=\"dataframe\">\n",
       "  <thead>\n",
       "    <tr style=\"text-align: right;\">\n",
       "      <th></th>\n",
       "      <th>Name</th>\n",
       "      <th>Platform</th>\n",
       "      <th>Year_of_Release</th>\n",
       "      <th>Genre</th>\n",
       "      <th>NA_sales</th>\n",
       "      <th>EU_sales</th>\n",
       "      <th>JP_sales</th>\n",
       "      <th>Other_sales</th>\n",
       "      <th>Critic_Score</th>\n",
       "      <th>User_Score</th>\n",
       "      <th>Rating</th>\n",
       "    </tr>\n",
       "  </thead>\n",
       "  <tbody>\n",
       "    <tr>\n",
       "      <td>0</td>\n",
       "      <td>Wii Sports</td>\n",
       "      <td>Wii</td>\n",
       "      <td>2006.0</td>\n",
       "      <td>Sports</td>\n",
       "      <td>41.36</td>\n",
       "      <td>28.96</td>\n",
       "      <td>3.77</td>\n",
       "      <td>8.45</td>\n",
       "      <td>76.0</td>\n",
       "      <td>8</td>\n",
       "      <td>E</td>\n",
       "    </tr>\n",
       "    <tr>\n",
       "      <td>1</td>\n",
       "      <td>Super Mario Bros.</td>\n",
       "      <td>NES</td>\n",
       "      <td>1985.0</td>\n",
       "      <td>Platform</td>\n",
       "      <td>29.08</td>\n",
       "      <td>3.58</td>\n",
       "      <td>6.81</td>\n",
       "      <td>0.77</td>\n",
       "      <td>NaN</td>\n",
       "      <td>NaN</td>\n",
       "      <td>NaN</td>\n",
       "    </tr>\n",
       "    <tr>\n",
       "      <td>2</td>\n",
       "      <td>Mario Kart Wii</td>\n",
       "      <td>Wii</td>\n",
       "      <td>2008.0</td>\n",
       "      <td>Racing</td>\n",
       "      <td>15.68</td>\n",
       "      <td>12.76</td>\n",
       "      <td>3.79</td>\n",
       "      <td>3.29</td>\n",
       "      <td>82.0</td>\n",
       "      <td>8.3</td>\n",
       "      <td>E</td>\n",
       "    </tr>\n",
       "    <tr>\n",
       "      <td>3</td>\n",
       "      <td>Wii Sports Resort</td>\n",
       "      <td>Wii</td>\n",
       "      <td>2009.0</td>\n",
       "      <td>Sports</td>\n",
       "      <td>15.61</td>\n",
       "      <td>10.93</td>\n",
       "      <td>3.28</td>\n",
       "      <td>2.95</td>\n",
       "      <td>80.0</td>\n",
       "      <td>8</td>\n",
       "      <td>E</td>\n",
       "    </tr>\n",
       "    <tr>\n",
       "      <td>4</td>\n",
       "      <td>Pokemon Red/Pokemon Blue</td>\n",
       "      <td>GB</td>\n",
       "      <td>1996.0</td>\n",
       "      <td>Role-Playing</td>\n",
       "      <td>11.27</td>\n",
       "      <td>8.89</td>\n",
       "      <td>10.22</td>\n",
       "      <td>1.00</td>\n",
       "      <td>NaN</td>\n",
       "      <td>NaN</td>\n",
       "      <td>NaN</td>\n",
       "    </tr>\n",
       "  </tbody>\n",
       "</table>\n",
       "</div>"
      ],
      "text/plain": [
       "                       Name Platform  Year_of_Release         Genre  NA_sales  \\\n",
       "0                Wii Sports      Wii           2006.0        Sports     41.36   \n",
       "1         Super Mario Bros.      NES           1985.0      Platform     29.08   \n",
       "2            Mario Kart Wii      Wii           2008.0        Racing     15.68   \n",
       "3         Wii Sports Resort      Wii           2009.0        Sports     15.61   \n",
       "4  Pokemon Red/Pokemon Blue       GB           1996.0  Role-Playing     11.27   \n",
       "\n",
       "   EU_sales  JP_sales  Other_sales  Critic_Score User_Score Rating  \n",
       "0     28.96      3.77         8.45          76.0          8      E  \n",
       "1      3.58      6.81         0.77           NaN        NaN    NaN  \n",
       "2     12.76      3.79         3.29          82.0        8.3      E  \n",
       "3     10.93      3.28         2.95          80.0          8      E  \n",
       "4      8.89     10.22         1.00           NaN        NaN    NaN  "
      ]
     },
     "execution_count": 2,
     "metadata": {},
     "output_type": "execute_result"
    }
   ],
   "source": [
    "# Прочитаем файл games.csv с информацией об играх и сохраним его в переменной games\n",
    "games = pd.read_csv('C:/Users/Public/Jupyter/users.csv')\n",
    "games.head()"
   ]
  },
  {
   "cell_type": "code",
   "execution_count": 3,
   "metadata": {},
   "outputs": [
    {
     "name": "stdout",
     "output_type": "stream",
     "text": [
      "<class 'pandas.core.frame.DataFrame'>\n",
      "RangeIndex: 16715 entries, 0 to 16714\n",
      "Data columns (total 11 columns):\n",
      "Name               16713 non-null object\n",
      "Platform           16715 non-null object\n",
      "Year_of_Release    16446 non-null float64\n",
      "Genre              16713 non-null object\n",
      "NA_sales           16715 non-null float64\n",
      "EU_sales           16715 non-null float64\n",
      "JP_sales           16715 non-null float64\n",
      "Other_sales        16715 non-null float64\n",
      "Critic_Score       8137 non-null float64\n",
      "User_Score         10014 non-null object\n",
      "Rating             9949 non-null object\n",
      "dtypes: float64(6), object(5)\n",
      "memory usage: 1.4+ MB\n"
     ]
    }
   ],
   "source": [
    "# Изучим общую информацию о датафрейме games\n",
    "display.display(data=games.info())"
   ]
  },
  {
   "cell_type": "markdown",
   "metadata": {},
   "source": [
    "Данные представлены в виде таблицы, включающей в себя 16 715 строк и 11 столбцов. При этом 6 столбцов с числовыми данными с плавающей точкой, 5 столбцов с объектами. Разберём, какие в таблице столбцы, и какую информацию они содержат:\n",
    "\n",
    "- [`Name`](#name) — название игры;\n",
    "- [`Platform`](#platform) — платформа;\n",
    "- [`Year_of_Release`](#year) — год выпуска;\n",
    "- [`Genre`](#genre) — жанр игры;\n",
    "- [`NA_sales`](#na_sales) — продажи в Северной Америке (миллионы долларов);\n",
    "- [`EU_sales`](#eu_sales) — продажи в Европе (миллионы долларов);\n",
    "- [`JP_sales`](#jp_sales) — продажи в Японии (миллионы долларов);\n",
    "- [`Other_sales`](#other_sales) — продажи в других странах (миллионы долларов);\n",
    "- [`Critic_Score`](#crit_score) — оценка критиков;\n",
    "- [`User_Score`](#user_score) — оценка пользователей;\n",
    "- [`Rating`](#rating) — рейтинг от организации ESRB (англ. Entertainment Software Rating Board). \n",
    "\n",
    "Отметим, что есть некоторое несоответствие типа данных в ряде столбцов (например, столбцы `Year_of_Release` и `Critic_Score` должны быть целочисленными, `User_Score` - числовым с плавающей точкой). Также следует привести названия столбцов в подходящий для анализа вид (привести к нижнему регистру). Кроме того, различное количество значений в столбцах указывает на возможное наличие в таблице пропусков. Пропуски могут быть связаны с отсутствием данных в открытых источниках, либо с отсутствием данных вообще (например, игра достаточно старая, и во времена ее выхода пользователи не могли ставить рейтинг); а могут быть связаны с техническими ошибками при формировании датасета.\n",
    "\n",
    "Подробнее изучим имеющиеся в датасете столбцы."
   ]
  },
  {
   "cell_type": "markdown",
   "metadata": {},
   "source": [
    "#### Название игры <a id='name'></a>"
   ]
  },
  {
   "cell_type": "code",
   "execution_count": 4,
   "metadata": {},
   "outputs": [
    {
     "data": {
      "text/plain": [
       "11560"
      ]
     },
     "execution_count": 4,
     "metadata": {},
     "output_type": "execute_result"
    }
   ],
   "source": [
    "len(games['Name'].unique())"
   ]
  },
  {
   "cell_type": "markdown",
   "metadata": {},
   "source": [
    "У нас имеются данные по 11 560 играм."
   ]
  },
  {
   "cell_type": "markdown",
   "metadata": {},
   "source": [
    "#### Платформа <a id='platform'></a>"
   ]
  },
  {
   "cell_type": "code",
   "execution_count": 5,
   "metadata": {},
   "outputs": [
    {
     "data": {
      "text/plain": [
       "31"
      ]
     },
     "execution_count": 5,
     "metadata": {},
     "output_type": "execute_result"
    }
   ],
   "source": [
    "len(games['Platform'].unique())"
   ]
  },
  {
   "cell_type": "code",
   "execution_count": 6,
   "metadata": {},
   "outputs": [
    {
     "data": {
      "text/plain": [
       "array(['2600', '3DO', '3DS', 'DC', 'DS', 'GB', 'GBA', 'GC', 'GEN', 'GG',\n",
       "       'N64', 'NES', 'NG', 'PC', 'PCFX', 'PS', 'PS2', 'PS3', 'PS4', 'PSP',\n",
       "       'PSV', 'SAT', 'SCD', 'SNES', 'TG16', 'WS', 'Wii', 'WiiU', 'X360',\n",
       "       'XB', 'XOne'], dtype=object)"
      ]
     },
     "execution_count": 6,
     "metadata": {},
     "output_type": "execute_result"
    }
   ],
   "source": [
    "games['Platform'].sort_values().unique()"
   ]
  },
  {
   "cell_type": "markdown",
   "metadata": {},
   "source": [
    "Игры, которые имеются в данных, вышли на 31 различной платформе, в том числе различных вариациях XBox, PlayStation, PersonalComputer, Wii и других."
   ]
  },
  {
   "cell_type": "markdown",
   "metadata": {},
   "source": [
    "#### Год выпуска <a id='year'></a>"
   ]
  },
  {
   "cell_type": "code",
   "execution_count": 7,
   "metadata": {},
   "outputs": [
    {
     "data": {
      "text/plain": [
       "array([1980., 1981., 1982., 1983., 1984., 1985., 1986., 1987., 1988.,\n",
       "       1989., 1990., 1991., 1992., 1993., 1994., 1995., 1996., 1997.,\n",
       "       1998., 1999., 2000., 2001., 2002., 2003., 2004., 2005., 2006.,\n",
       "       2007., 2008., 2009., 2010., 2011., 2012., 2013., 2014., 2015.,\n",
       "       2016.,   nan])"
      ]
     },
     "execution_count": 7,
     "metadata": {},
     "output_type": "execute_result"
    }
   ],
   "source": [
    "games['Year_of_Release'].sort_values().unique()"
   ]
  },
  {
   "cell_type": "markdown",
   "metadata": {},
   "source": [
    "Игры, о которых имеется информация, вышли в период с 1980 по 2016 год."
   ]
  },
  {
   "cell_type": "markdown",
   "metadata": {},
   "source": [
    "#### Жанр <a id='genre'></a>"
   ]
  },
  {
   "cell_type": "code",
   "execution_count": 8,
   "metadata": {},
   "outputs": [
    {
     "data": {
      "text/plain": [
       "13"
      ]
     },
     "execution_count": 8,
     "metadata": {},
     "output_type": "execute_result"
    }
   ],
   "source": [
    "len(games['Genre'].unique())"
   ]
  },
  {
   "cell_type": "code",
   "execution_count": 9,
   "metadata": {},
   "outputs": [
    {
     "data": {
      "text/plain": [
       "array(['Action', 'Adventure', 'Fighting', 'Misc', 'Platform', 'Puzzle',\n",
       "       'Racing', 'Role-Playing', 'Shooter', 'Simulation', 'Sports',\n",
       "       'Strategy', nan], dtype=object)"
      ]
     },
     "execution_count": 9,
     "metadata": {},
     "output_type": "execute_result"
    }
   ],
   "source": [
    "games['Genre'].sort_values().unique()"
   ]
  },
  {
   "cell_type": "markdown",
   "metadata": {},
   "source": [
    "Игры представлены в следующих 12 жанрах: экшн, адвентура, файтинг, платформер, загадки, гонки, ролевые, шутер, симулятор, спорт, стратегия, разное. Для некоторых игр жанр не указан."
   ]
  },
  {
   "cell_type": "markdown",
   "metadata": {},
   "source": [
    "#### Продажи <a id='na_sales'></a> <a id='ea_sales'></a> <a id='jp_sales'></a> <a id='other_sales'></a>"
   ]
  },
  {
   "cell_type": "code",
   "execution_count": 10,
   "metadata": {},
   "outputs": [
    {
     "data": {
      "text/html": [
       "<div>\n",
       "<style scoped>\n",
       "    .dataframe tbody tr th:only-of-type {\n",
       "        vertical-align: middle;\n",
       "    }\n",
       "\n",
       "    .dataframe tbody tr th {\n",
       "        vertical-align: top;\n",
       "    }\n",
       "\n",
       "    .dataframe thead th {\n",
       "        text-align: right;\n",
       "    }\n",
       "</style>\n",
       "<table border=\"1\" class=\"dataframe\">\n",
       "  <thead>\n",
       "    <tr style=\"text-align: right;\">\n",
       "      <th></th>\n",
       "      <th>NA_sales</th>\n",
       "      <th>EU_sales</th>\n",
       "      <th>JP_sales</th>\n",
       "      <th>Other_sales</th>\n",
       "    </tr>\n",
       "  </thead>\n",
       "  <tbody>\n",
       "    <tr>\n",
       "      <td>count</td>\n",
       "      <td>16715.000000</td>\n",
       "      <td>16715.000000</td>\n",
       "      <td>16715.000000</td>\n",
       "      <td>16715.000000</td>\n",
       "    </tr>\n",
       "    <tr>\n",
       "      <td>mean</td>\n",
       "      <td>0.263377</td>\n",
       "      <td>0.145060</td>\n",
       "      <td>0.077617</td>\n",
       "      <td>0.047342</td>\n",
       "    </tr>\n",
       "    <tr>\n",
       "      <td>std</td>\n",
       "      <td>0.813604</td>\n",
       "      <td>0.503339</td>\n",
       "      <td>0.308853</td>\n",
       "      <td>0.186731</td>\n",
       "    </tr>\n",
       "    <tr>\n",
       "      <td>min</td>\n",
       "      <td>0.000000</td>\n",
       "      <td>0.000000</td>\n",
       "      <td>0.000000</td>\n",
       "      <td>0.000000</td>\n",
       "    </tr>\n",
       "    <tr>\n",
       "      <td>25%</td>\n",
       "      <td>0.000000</td>\n",
       "      <td>0.000000</td>\n",
       "      <td>0.000000</td>\n",
       "      <td>0.000000</td>\n",
       "    </tr>\n",
       "    <tr>\n",
       "      <td>50%</td>\n",
       "      <td>0.080000</td>\n",
       "      <td>0.020000</td>\n",
       "      <td>0.000000</td>\n",
       "      <td>0.010000</td>\n",
       "    </tr>\n",
       "    <tr>\n",
       "      <td>75%</td>\n",
       "      <td>0.240000</td>\n",
       "      <td>0.110000</td>\n",
       "      <td>0.040000</td>\n",
       "      <td>0.030000</td>\n",
       "    </tr>\n",
       "    <tr>\n",
       "      <td>max</td>\n",
       "      <td>41.360000</td>\n",
       "      <td>28.960000</td>\n",
       "      <td>10.220000</td>\n",
       "      <td>10.570000</td>\n",
       "    </tr>\n",
       "  </tbody>\n",
       "</table>\n",
       "</div>"
      ],
      "text/plain": [
       "           NA_sales      EU_sales      JP_sales   Other_sales\n",
       "count  16715.000000  16715.000000  16715.000000  16715.000000\n",
       "mean       0.263377      0.145060      0.077617      0.047342\n",
       "std        0.813604      0.503339      0.308853      0.186731\n",
       "min        0.000000      0.000000      0.000000      0.000000\n",
       "25%        0.000000      0.000000      0.000000      0.000000\n",
       "50%        0.080000      0.020000      0.000000      0.010000\n",
       "75%        0.240000      0.110000      0.040000      0.030000\n",
       "max       41.360000     28.960000     10.220000     10.570000"
      ]
     },
     "execution_count": 10,
     "metadata": {},
     "output_type": "execute_result"
    }
   ],
   "source": [
    "games[['NA_sales', 'EU_sales', 'JP_sales', 'Other_sales']].describe()"
   ]
  },
  {
   "cell_type": "markdown",
   "metadata": {},
   "source": [
    "Игры продавались в Северной Америке, Европе, Японии и других странах. При этом в Северной Америке продажи принесли от 0 (игра, скорее всего, не продавалась) до 41,36 миллионов долларов; в Европе - от 0 до 28,96 миллионов долларов; в Японии - от 0 до 10,22 миллионов долларов; в других странах - от 0 до 10,57 миллионов долларов. При этом для каждой из стран разброс очень велик (стандартное отклонение существенно): для Северной Америки он выше, для Европы - чуть меньше, для Японии - еще меньше, а для других стран - самый низкий."
   ]
  },
  {
   "cell_type": "markdown",
   "metadata": {},
   "source": [
    "#### Оценка критиков и пользователей <a id='crit_score'></a> <a id='user_score'></a>"
   ]
  },
  {
   "cell_type": "code",
   "execution_count": 11,
   "metadata": {},
   "outputs": [
    {
     "data": {
      "text/html": [
       "<div>\n",
       "<style scoped>\n",
       "    .dataframe tbody tr th:only-of-type {\n",
       "        vertical-align: middle;\n",
       "    }\n",
       "\n",
       "    .dataframe tbody tr th {\n",
       "        vertical-align: top;\n",
       "    }\n",
       "\n",
       "    .dataframe thead th {\n",
       "        text-align: right;\n",
       "    }\n",
       "</style>\n",
       "<table border=\"1\" class=\"dataframe\">\n",
       "  <thead>\n",
       "    <tr style=\"text-align: right;\">\n",
       "      <th></th>\n",
       "      <th>Critic_Score</th>\n",
       "    </tr>\n",
       "  </thead>\n",
       "  <tbody>\n",
       "    <tr>\n",
       "      <td>count</td>\n",
       "      <td>8137.000000</td>\n",
       "    </tr>\n",
       "    <tr>\n",
       "      <td>mean</td>\n",
       "      <td>68.967679</td>\n",
       "    </tr>\n",
       "    <tr>\n",
       "      <td>std</td>\n",
       "      <td>13.938165</td>\n",
       "    </tr>\n",
       "    <tr>\n",
       "      <td>min</td>\n",
       "      <td>13.000000</td>\n",
       "    </tr>\n",
       "    <tr>\n",
       "      <td>25%</td>\n",
       "      <td>60.000000</td>\n",
       "    </tr>\n",
       "    <tr>\n",
       "      <td>50%</td>\n",
       "      <td>71.000000</td>\n",
       "    </tr>\n",
       "    <tr>\n",
       "      <td>75%</td>\n",
       "      <td>79.000000</td>\n",
       "    </tr>\n",
       "    <tr>\n",
       "      <td>max</td>\n",
       "      <td>98.000000</td>\n",
       "    </tr>\n",
       "  </tbody>\n",
       "</table>\n",
       "</div>"
      ],
      "text/plain": [
       "       Critic_Score\n",
       "count   8137.000000\n",
       "mean      68.967679\n",
       "std       13.938165\n",
       "min       13.000000\n",
       "25%       60.000000\n",
       "50%       71.000000\n",
       "75%       79.000000\n",
       "max       98.000000"
      ]
     },
     "execution_count": 11,
     "metadata": {},
     "output_type": "execute_result"
    }
   ],
   "source": [
    "games[['Critic_Score']].describe()"
   ]
  },
  {
   "cell_type": "markdown",
   "metadata": {},
   "source": [
    "Оценка критиков разнится от 13 до 98 баллов за игру со средним значением в 69 баллов, близким к медианному (71 балл). Это говорит о том, что игры в Датасете представлены достаточно равномерно: от низко оцененных критиками до имеющих максимальной оценкой."
   ]
  },
  {
   "cell_type": "code",
   "execution_count": 12,
   "metadata": {},
   "outputs": [
    {
     "data": {
      "text/plain": [
       "array(['0', '0.2', '0.3', '0.5', '0.6', '0.7', '0.9', '1', '1.1', '1.2',\n",
       "       '1.3', '1.4', '1.5', '1.6', '1.7', '1.8', '1.9', '2', '2.1', '2.2',\n",
       "       '2.3', '2.4', '2.5', '2.6', '2.7', '2.8', '2.9', '3', '3.1', '3.2',\n",
       "       '3.3', '3.4', '3.5', '3.6', '3.7', '3.8', '3.9', '4', '4.1', '4.2',\n",
       "       '4.3', '4.4', '4.5', '4.6', '4.7', '4.8', '4.9', '5', '5.1', '5.2',\n",
       "       '5.3', '5.4', '5.5', '5.6', '5.7', '5.8', '5.9', '6', '6.1', '6.2',\n",
       "       '6.3', '6.4', '6.5', '6.6', '6.7', '6.8', '6.9', '7', '7.1', '7.2',\n",
       "       '7.3', '7.4', '7.5', '7.6', '7.7', '7.8', '7.9', '8', '8.1', '8.2',\n",
       "       '8.3', '8.4', '8.5', '8.6', '8.7', '8.8', '8.9', '9', '9.1', '9.2',\n",
       "       '9.3', '9.4', '9.5', '9.6', '9.7', 'tbd', nan], dtype=object)"
      ]
     },
     "execution_count": 12,
     "metadata": {},
     "output_type": "execute_result"
    }
   ],
   "source": [
    "games['User_Score'].sort_values().unique()"
   ]
  },
  {
   "cell_type": "markdown",
   "metadata": {},
   "source": [
    "Оценка пользователей разнится от 0 до 9,7 баллов за игру; при этом оценки - не целые, а десятичные числа. Также есть пропущенные значения, и есть значения \"tbd\". [Позже](#tbd) будет рассмотрено, что это за значение."
   ]
  },
  {
   "cell_type": "markdown",
   "metadata": {},
   "source": [
    "#### Рейтинг от ESRB <a id='rating'></a>"
   ]
  },
  {
   "cell_type": "code",
   "execution_count": 13,
   "metadata": {},
   "outputs": [
    {
     "data": {
      "text/plain": [
       "9"
      ]
     },
     "execution_count": 13,
     "metadata": {},
     "output_type": "execute_result"
    }
   ],
   "source": [
    "len(games['Rating'].sort_values().unique())"
   ]
  },
  {
   "cell_type": "code",
   "execution_count": 14,
   "metadata": {},
   "outputs": [
    {
     "data": {
      "text/plain": [
       "array(['AO', 'E', 'E10+', 'EC', 'K-A', 'M', 'RP', 'T', nan], dtype=object)"
      ]
     },
     "execution_count": 14,
     "metadata": {},
     "output_type": "execute_result"
    }
   ],
   "source": [
    "games['Rating'].sort_values().unique()"
   ]
  },
  {
   "cell_type": "markdown",
   "metadata": {},
   "source": [
    "Ассоциация ESRB определяет возрастной рейтинг компьютерных игр. Имеется 8 вариантов рейтинга:\n",
    "* AO (\"Adults Only 18+\") — «Только для взрослых»: Содержание игры только для взрослых старше 18 лет;\n",
    "* E (\"Everyone\") — «Для всех»: Содержание вполне подходит для возрастной категории от 6 лет и старше, такие игры могут понравиться и взрослым;\n",
    "* E10+ (\"Everyone 10 and older\") — «Для всех от 10 лет и старше»: Проекты с данным рейтингом могут содержать немного больше мультипликационного или мягкого насилия, или несколько откровенные сцены или минимальное количество крови;\n",
    "* EC (\"Early childhood\") — «Для детей младшего возраста»: Игра подходит для детей от 3 лет и старше и не содержит материалов, которые родители могли бы счесть неподходящими;\n",
    "* K-A (\"Kids to Adult\") — «От детей до взрослых»: Игры, содержание которых подходит любой аудитории;\n",
    "* M («Mature») — «Для взрослых»: Материалы игры не подходят для подростков младше 17 лет.\n",
    "* T («Teen») — «Подросткам»: Игра подходит для лиц от 13 лет и старше.\n",
    "* RP («Rating Pending») — «Рейтинг ожидается»: Продукт был отправлен в ESRB и ожидает присвоения рейтинга.\n",
    "\n",
    "Источник: Портал Википедии (https://ru.wikipedia.org/wiki/Entertainment_Software_Rating_Board).\n",
    "\n",
    "Также в данных имеются игры, для которых значение рейтинга пропущено."
   ]
  },
  {
   "cell_type": "markdown",
   "metadata": {},
   "source": [
    "#### Замена названия столбцов"
   ]
  },
  {
   "cell_type": "markdown",
   "metadata": {},
   "source": [
    "При анализе информации об исходном датасете мы обратили внимание на то, что для дальнейшего анализа необходимо привести названия столбцов к одному (нижнему) регистру."
   ]
  },
  {
   "cell_type": "code",
   "execution_count": 15,
   "metadata": {},
   "outputs": [
    {
     "data": {
      "text/plain": [
       "Index(['name', 'platform', 'year_of_release', 'genre', 'na_sales', 'eu_sales',\n",
       "       'jp_sales', 'other_sales', 'critic_score', 'user_score', 'rating'],\n",
       "      dtype='object')"
      ]
     },
     "execution_count": 15,
     "metadata": {},
     "output_type": "execute_result"
    }
   ],
   "source": [
    "games.columns = games.columns.str.lower()\n",
    "games.columns"
   ]
  },
  {
   "cell_type": "markdown",
   "metadata": {},
   "source": [
    "Все названия столбцов приведены к нижнему регистру."
   ]
  },
  {
   "cell_type": "markdown",
   "metadata": {},
   "source": [
    "### Обработка пропусков и дубликатов, замена типа данных <a id='step_1.3'></a>"
   ]
  },
  {
   "cell_type": "markdown",
   "metadata": {},
   "source": [
    "#### Замена типа данных"
   ]
  },
  {
   "cell_type": "markdown",
   "metadata": {},
   "source": [
    "Выше мы указали столбцы, которые требуют изменения типа данных. Перед преобразованием дадим некоторые пояснения. Нет необходимости в изменении типа данных столбцов с данными о продажах в целочисленные, поскольку они измеряются в миллионах долларов. Соответственно, значения после запятой - это тысячи долларов, которыми не хотелось бы пренебрегать при осуществлении анализа.\n",
    "\n",
    "Необходимость в переводе оценок критиков и пользователей в целочисленные необходимо проверить. Потребность в изменении типов данных возникает в том случае, если система оценивания предполагает абсолютное целое значение; и отсутствует (оставляем значение с плавающей точкой), если оценки варьируются в небольшом интервале значений со значениями после запятой. Для того, чтобы это проверить, необходимо изучить уникальные значения в соответствующих столбцах."
   ]
  },
  {
   "cell_type": "code",
   "execution_count": 16,
   "metadata": {},
   "outputs": [
    {
     "data": {
      "text/plain": [
       "array([13., 17., 19., 20., 21., 22., 23., 24., 25., 26., 27., 28., 29.,\n",
       "       30., 31., 32., 33., 34., 35., 36., 37., 38., 39., 40., 41., 42.,\n",
       "       43., 44., 45., 46., 47., 48., 49., 50., 51., 52., 53., 54., 55.,\n",
       "       56., 57., 58., 59., 60., 61., 62., 63., 64., 65., 66., 67., 68.,\n",
       "       69., 70., 71., 72., 73., 74., 75., 76., 77., 78., 79., 80., 81.,\n",
       "       82., 83., 84., 85., 86., 87., 88., 89., 90., 91., 92., 93., 94.,\n",
       "       95., 96., 97., 98., nan])"
      ]
     },
     "execution_count": 16,
     "metadata": {},
     "output_type": "execute_result"
    }
   ],
   "source": [
    "# Уникальные значения оценок критиков\n",
    "games['critic_score'].sort_values().unique()"
   ]
  },
  {
   "cell_type": "markdown",
   "metadata": {},
   "source": [
    "Согласно встречающимся в столбце с оценкой критиков значениям, делаем вывод о том, что система оценивания предполагает выставление целочисленных значений от 0 до 100. Соответственно, требуется изменение типа данных в столбце."
   ]
  },
  {
   "cell_type": "code",
   "execution_count": 17,
   "metadata": {},
   "outputs": [
    {
     "data": {
      "text/plain": [
       "array(['0', '0.2', '0.3', '0.5', '0.6', '0.7', '0.9', '1', '1.1', '1.2',\n",
       "       '1.3', '1.4', '1.5', '1.6', '1.7', '1.8', '1.9', '2', '2.1', '2.2',\n",
       "       '2.3', '2.4', '2.5', '2.6', '2.7', '2.8', '2.9', '3', '3.1', '3.2',\n",
       "       '3.3', '3.4', '3.5', '3.6', '3.7', '3.8', '3.9', '4', '4.1', '4.2',\n",
       "       '4.3', '4.4', '4.5', '4.6', '4.7', '4.8', '4.9', '5', '5.1', '5.2',\n",
       "       '5.3', '5.4', '5.5', '5.6', '5.7', '5.8', '5.9', '6', '6.1', '6.2',\n",
       "       '6.3', '6.4', '6.5', '6.6', '6.7', '6.8', '6.9', '7', '7.1', '7.2',\n",
       "       '7.3', '7.4', '7.5', '7.6', '7.7', '7.8', '7.9', '8', '8.1', '8.2',\n",
       "       '8.3', '8.4', '8.5', '8.6', '8.7', '8.8', '8.9', '9', '9.1', '9.2',\n",
       "       '9.3', '9.4', '9.5', '9.6', '9.7', 'tbd', nan], dtype=object)"
      ]
     },
     "execution_count": 17,
     "metadata": {},
     "output_type": "execute_result"
    }
   ],
   "source": [
    "# Уникальные значения оценок пользователей\n",
    "games['user_score'].sort_values().unique()"
   ]
  },
  {
   "cell_type": "markdown",
   "metadata": {},
   "source": [
    "Согласно встречающимся в столбце с оценкой пользователей значениям, делаем вывод о том, что система оценивания предполагает выставление нецелочисленных значений от 0 до 10. Соответственно, изменение типа данных в столбце не требуется.\n",
    "\n",
    "Также обратим внимание на встречающийся рейтинг tbd (to be determined)<a id='tbd'></a>. Это рейтинг, который будет определён позже, то есть на момент выгрузки данных его нет, и данное значение равносильно незаполненным значениям nan. Отличие заключается в том, что для tbd нам известно, что пользователи выставляли рейтинг игре, просто он не был вычислен системой."
   ]
  },
  {
   "cell_type": "markdown",
   "metadata": {},
   "source": [
    "Нам необходимо заменить тип данных для столбцов:\n",
    "\n",
    "- `year_of_release`: с < float > на < int >, поскольку число года - это целочисленное значение, а не число с плавающей точкой.\n",
    "- `critic_score`: с < float > на < int >, поскольку оценка критиков варьируется от 0 до 100 в целочисленном формате.\n",
    "- `user_score`: с < object > на < float >, так как оценка пользователей варьируется от 0 до 10 в числовом формате с плавающей точкой.\n",
    "\n",
    "Однако, сначала нужно обработать все пропущенные значения."
   ]
  },
  {
   "cell_type": "markdown",
   "metadata": {},
   "source": [
    "#### Обработка пропусков"
   ]
  },
  {
   "cell_type": "markdown",
   "metadata": {},
   "source": [
    "Проверим данные на наличие пропусков."
   ]
  },
  {
   "cell_type": "code",
   "execution_count": 18,
   "metadata": {},
   "outputs": [
    {
     "data": {
      "text/plain": [
       "name                  2\n",
       "platform              0\n",
       "year_of_release     269\n",
       "genre                 2\n",
       "na_sales              0\n",
       "eu_sales              0\n",
       "jp_sales              0\n",
       "other_sales           0\n",
       "critic_score       8578\n",
       "user_score         6701\n",
       "rating             6766\n",
       "dtype: int64"
      ]
     },
     "execution_count": 18,
     "metadata": {},
     "output_type": "execute_result"
    }
   ],
   "source": [
    "games.isna().sum()"
   ]
  },
  {
   "cell_type": "markdown",
   "metadata": {},
   "source": [
    "Пропуски отмечены в следующих столбцах:\n",
    "\n",
    "- `name` (название игры);\n",
    "- `year_of_release` (год выпуска);\n",
    "- `genre` (жанр игры);\n",
    "- `critic_score` (оценка критиков);\n",
    "- `user_score` (оценка пользователей);\n",
    "- `rating` (рейтинг от организации ESRB).\n",
    "\n",
    "Также необходимо учесть значения tbd в данных с оценками пользователей (выше мы пояснили, почему они равносильны пропускам).\n",
    "\n",
    "Изучим пропуски каждого столбца подробнее и заполним их там, где это возможно."
   ]
  },
  {
   "cell_type": "markdown",
   "metadata": {},
   "source": [
    "##### Название игры"
   ]
  },
  {
   "cell_type": "code",
   "execution_count": 19,
   "metadata": {},
   "outputs": [
    {
     "data": {
      "text/html": [
       "<div>\n",
       "<style scoped>\n",
       "    .dataframe tbody tr th:only-of-type {\n",
       "        vertical-align: middle;\n",
       "    }\n",
       "\n",
       "    .dataframe tbody tr th {\n",
       "        vertical-align: top;\n",
       "    }\n",
       "\n",
       "    .dataframe thead th {\n",
       "        text-align: right;\n",
       "    }\n",
       "</style>\n",
       "<table border=\"1\" class=\"dataframe\">\n",
       "  <thead>\n",
       "    <tr style=\"text-align: right;\">\n",
       "      <th></th>\n",
       "      <th>name</th>\n",
       "      <th>platform</th>\n",
       "      <th>year_of_release</th>\n",
       "      <th>genre</th>\n",
       "      <th>na_sales</th>\n",
       "      <th>eu_sales</th>\n",
       "      <th>jp_sales</th>\n",
       "      <th>other_sales</th>\n",
       "      <th>critic_score</th>\n",
       "      <th>user_score</th>\n",
       "      <th>rating</th>\n",
       "    </tr>\n",
       "  </thead>\n",
       "  <tbody>\n",
       "    <tr>\n",
       "      <td>659</td>\n",
       "      <td>NaN</td>\n",
       "      <td>GEN</td>\n",
       "      <td>1993.0</td>\n",
       "      <td>NaN</td>\n",
       "      <td>1.78</td>\n",
       "      <td>0.53</td>\n",
       "      <td>0.00</td>\n",
       "      <td>0.08</td>\n",
       "      <td>NaN</td>\n",
       "      <td>NaN</td>\n",
       "      <td>NaN</td>\n",
       "    </tr>\n",
       "    <tr>\n",
       "      <td>14244</td>\n",
       "      <td>NaN</td>\n",
       "      <td>GEN</td>\n",
       "      <td>1993.0</td>\n",
       "      <td>NaN</td>\n",
       "      <td>0.00</td>\n",
       "      <td>0.00</td>\n",
       "      <td>0.03</td>\n",
       "      <td>0.00</td>\n",
       "      <td>NaN</td>\n",
       "      <td>NaN</td>\n",
       "      <td>NaN</td>\n",
       "    </tr>\n",
       "  </tbody>\n",
       "</table>\n",
       "</div>"
      ],
      "text/plain": [
       "      name platform  year_of_release genre  na_sales  eu_sales  jp_sales  \\\n",
       "659    NaN      GEN           1993.0   NaN      1.78      0.53      0.00   \n",
       "14244  NaN      GEN           1993.0   NaN      0.00      0.00      0.03   \n",
       "\n",
       "       other_sales  critic_score user_score rating  \n",
       "659           0.08           NaN        NaN    NaN  \n",
       "14244         0.00           NaN        NaN    NaN  "
      ]
     },
     "execution_count": 19,
     "metadata": {},
     "output_type": "execute_result"
    }
   ],
   "source": [
    "games.loc[games['name'].isna() == True]"
   ]
  },
  {
   "cell_type": "code",
   "execution_count": 20,
   "metadata": {},
   "outputs": [
    {
     "data": {
      "text/plain": [
       "0.00011965300628178283"
      ]
     },
     "execution_count": 20,
     "metadata": {},
     "output_type": "execute_result"
    }
   ],
   "source": [
    "games['name'].isna().mean()"
   ]
  },
  {
   "cell_type": "markdown",
   "metadata": {},
   "source": [
    "У нас имеется 2 игры, для которых нет названия. Обе игры вышли в 1993 году на платформе Sega Genesis. Одна из них была продана везде, кроме Японии, вторая - только в Японии. Возможно, это разные игры; но может быть, это одна игра. В любом случае, название этих игр мы восстановить не можем. Пропущенные значения составляют менее 1% от всех данных, поэтому мы можем их удалить. Кроме того, целью анализа является определение конкретных названий игр, являющихся перспективными, а название \"Unknown\" или вовсе отсутствие названия для нас неинформативно."
   ]
  },
  {
   "cell_type": "code",
   "execution_count": 21,
   "metadata": {},
   "outputs": [],
   "source": [
    "games.dropna(subset = ['name'], inplace = True)"
   ]
  },
  {
   "cell_type": "markdown",
   "metadata": {},
   "source": [
    "##### Год выпуска"
   ]
  },
  {
   "cell_type": "code",
   "execution_count": 22,
   "metadata": {},
   "outputs": [
    {
     "data": {
      "text/html": [
       "<div>\n",
       "<style scoped>\n",
       "    .dataframe tbody tr th:only-of-type {\n",
       "        vertical-align: middle;\n",
       "    }\n",
       "\n",
       "    .dataframe tbody tr th {\n",
       "        vertical-align: top;\n",
       "    }\n",
       "\n",
       "    .dataframe thead th {\n",
       "        text-align: right;\n",
       "    }\n",
       "</style>\n",
       "<table border=\"1\" class=\"dataframe\">\n",
       "  <thead>\n",
       "    <tr style=\"text-align: right;\">\n",
       "      <th></th>\n",
       "      <th>name</th>\n",
       "      <th>platform</th>\n",
       "      <th>year_of_release</th>\n",
       "      <th>genre</th>\n",
       "      <th>na_sales</th>\n",
       "      <th>eu_sales</th>\n",
       "      <th>jp_sales</th>\n",
       "      <th>other_sales</th>\n",
       "      <th>critic_score</th>\n",
       "      <th>user_score</th>\n",
       "      <th>rating</th>\n",
       "    </tr>\n",
       "  </thead>\n",
       "  <tbody>\n",
       "    <tr>\n",
       "      <td>678</td>\n",
       "      <td>LEGO Indiana Jones: The Original Adventures</td>\n",
       "      <td>Wii</td>\n",
       "      <td>NaN</td>\n",
       "      <td>Action</td>\n",
       "      <td>1.51</td>\n",
       "      <td>0.61</td>\n",
       "      <td>0.00</td>\n",
       "      <td>0.21</td>\n",
       "      <td>78.0</td>\n",
       "      <td>6.6</td>\n",
       "      <td>E10+</td>\n",
       "    </tr>\n",
       "    <tr>\n",
       "      <td>15704</td>\n",
       "      <td>Writing and Speaking Beautiful Japanese DS</td>\n",
       "      <td>DS</td>\n",
       "      <td>NaN</td>\n",
       "      <td>Misc</td>\n",
       "      <td>0.00</td>\n",
       "      <td>0.00</td>\n",
       "      <td>0.02</td>\n",
       "      <td>0.00</td>\n",
       "      <td>NaN</td>\n",
       "      <td>NaN</td>\n",
       "      <td>NaN</td>\n",
       "    </tr>\n",
       "    <tr>\n",
       "      <td>13929</td>\n",
       "      <td>Sega Rally 2006</td>\n",
       "      <td>PS2</td>\n",
       "      <td>NaN</td>\n",
       "      <td>Racing</td>\n",
       "      <td>0.00</td>\n",
       "      <td>0.00</td>\n",
       "      <td>0.04</td>\n",
       "      <td>0.00</td>\n",
       "      <td>NaN</td>\n",
       "      <td>NaN</td>\n",
       "      <td>NaN</td>\n",
       "    </tr>\n",
       "    <tr>\n",
       "      <td>14950</td>\n",
       "      <td>Combat Wings: The Great Battles of WWII</td>\n",
       "      <td>Wii</td>\n",
       "      <td>NaN</td>\n",
       "      <td>Simulation</td>\n",
       "      <td>0.02</td>\n",
       "      <td>0.00</td>\n",
       "      <td>0.00</td>\n",
       "      <td>0.00</td>\n",
       "      <td>NaN</td>\n",
       "      <td>NaN</td>\n",
       "      <td>NaN</td>\n",
       "    </tr>\n",
       "    <tr>\n",
       "      <td>9706</td>\n",
       "      <td>Rocksmith</td>\n",
       "      <td>PC</td>\n",
       "      <td>NaN</td>\n",
       "      <td>Misc</td>\n",
       "      <td>0.06</td>\n",
       "      <td>0.04</td>\n",
       "      <td>0.00</td>\n",
       "      <td>0.01</td>\n",
       "      <td>78.0</td>\n",
       "      <td>8.1</td>\n",
       "      <td>T</td>\n",
       "    </tr>\n",
       "    <tr>\n",
       "      <td>8918</td>\n",
       "      <td>All-Star Baseball 2005</td>\n",
       "      <td>XB</td>\n",
       "      <td>NaN</td>\n",
       "      <td>Sports</td>\n",
       "      <td>0.11</td>\n",
       "      <td>0.03</td>\n",
       "      <td>0.00</td>\n",
       "      <td>0.01</td>\n",
       "      <td>75.0</td>\n",
       "      <td>8.8</td>\n",
       "      <td>E</td>\n",
       "    </tr>\n",
       "    <tr>\n",
       "      <td>11455</td>\n",
       "      <td>The Hidden</td>\n",
       "      <td>3DS</td>\n",
       "      <td>NaN</td>\n",
       "      <td>Adventure</td>\n",
       "      <td>0.08</td>\n",
       "      <td>0.00</td>\n",
       "      <td>0.00</td>\n",
       "      <td>0.01</td>\n",
       "      <td>NaN</td>\n",
       "      <td>4.2</td>\n",
       "      <td>E10+</td>\n",
       "    </tr>\n",
       "    <tr>\n",
       "      <td>2108</td>\n",
       "      <td>Suikoden III</td>\n",
       "      <td>PS2</td>\n",
       "      <td>NaN</td>\n",
       "      <td>Role-Playing</td>\n",
       "      <td>0.29</td>\n",
       "      <td>0.23</td>\n",
       "      <td>0.38</td>\n",
       "      <td>0.08</td>\n",
       "      <td>86.0</td>\n",
       "      <td>7.7</td>\n",
       "      <td>T</td>\n",
       "    </tr>\n",
       "    <tr>\n",
       "      <td>456</td>\n",
       "      <td>LEGO Batman: The Videogame</td>\n",
       "      <td>Wii</td>\n",
       "      <td>NaN</td>\n",
       "      <td>Action</td>\n",
       "      <td>1.80</td>\n",
       "      <td>0.97</td>\n",
       "      <td>0.00</td>\n",
       "      <td>0.29</td>\n",
       "      <td>74.0</td>\n",
       "      <td>7.9</td>\n",
       "      <td>E10+</td>\n",
       "    </tr>\n",
       "    <tr>\n",
       "      <td>12970</td>\n",
       "      <td>Drill Dozer</td>\n",
       "      <td>GBA</td>\n",
       "      <td>NaN</td>\n",
       "      <td>Platform</td>\n",
       "      <td>0.04</td>\n",
       "      <td>0.01</td>\n",
       "      <td>0.00</td>\n",
       "      <td>0.00</td>\n",
       "      <td>81.0</td>\n",
       "      <td>8.3</td>\n",
       "      <td>E</td>\n",
       "    </tr>\n",
       "  </tbody>\n",
       "</table>\n",
       "</div>"
      ],
      "text/plain": [
       "                                              name platform  year_of_release  \\\n",
       "678    LEGO Indiana Jones: The Original Adventures      Wii              NaN   \n",
       "15704   Writing and Speaking Beautiful Japanese DS       DS              NaN   \n",
       "13929                              Sega Rally 2006      PS2              NaN   \n",
       "14950      Combat Wings: The Great Battles of WWII      Wii              NaN   \n",
       "9706                                     Rocksmith       PC              NaN   \n",
       "8918                        All-Star Baseball 2005       XB              NaN   \n",
       "11455                                   The Hidden      3DS              NaN   \n",
       "2108                                  Suikoden III      PS2              NaN   \n",
       "456                     LEGO Batman: The Videogame      Wii              NaN   \n",
       "12970                                  Drill Dozer      GBA              NaN   \n",
       "\n",
       "              genre  na_sales  eu_sales  jp_sales  other_sales  critic_score  \\\n",
       "678          Action      1.51      0.61      0.00         0.21          78.0   \n",
       "15704          Misc      0.00      0.00      0.02         0.00           NaN   \n",
       "13929        Racing      0.00      0.00      0.04         0.00           NaN   \n",
       "14950    Simulation      0.02      0.00      0.00         0.00           NaN   \n",
       "9706           Misc      0.06      0.04      0.00         0.01          78.0   \n",
       "8918         Sports      0.11      0.03      0.00         0.01          75.0   \n",
       "11455     Adventure      0.08      0.00      0.00         0.01           NaN   \n",
       "2108   Role-Playing      0.29      0.23      0.38         0.08          86.0   \n",
       "456          Action      1.80      0.97      0.00         0.29          74.0   \n",
       "12970      Platform      0.04      0.01      0.00         0.00          81.0   \n",
       "\n",
       "      user_score rating  \n",
       "678          6.6   E10+  \n",
       "15704        NaN    NaN  \n",
       "13929        NaN    NaN  \n",
       "14950        NaN    NaN  \n",
       "9706         8.1      T  \n",
       "8918         8.8      E  \n",
       "11455        4.2   E10+  \n",
       "2108         7.7      T  \n",
       "456          7.9   E10+  \n",
       "12970        8.3      E  "
      ]
     },
     "execution_count": 22,
     "metadata": {},
     "output_type": "execute_result"
    }
   ],
   "source": [
    "games.loc[games['year_of_release'].isna() == True].sample(10)"
   ]
  },
  {
   "cell_type": "markdown",
   "metadata": {},
   "source": [
    "Мы видим, что по многим играм год релиза содержится в названии. Создадим список, в котором представлены все возможные годы выпуска игр. После чего в новом столбце через лемматизацию \"вытащим\" последние 4 символа из названия игр, так как год, как правило, мы видим в конце названия. Затем заполним пропуски года выпуска, исходя из полученных лемм, входящих в список с возможным годом выпуска.\n",
    "\n",
    "Следует отметить, что возможны неточности при таком заполнении. К примеру, спортивные симуляторы могут иметь в названии год, следующий за годом выпуска. Либо игра могла выйти в декабре какого-то года, но в названии содержать число следующего года. Однако поскольку обработка каждого значения вручную через поисковые системы слишком трудозатратна, выбранный нами метод заполнения наиболее близок к искомому значению из возможных."
   ]
  },
  {
   "cell_type": "code",
   "execution_count": 23,
   "metadata": {},
   "outputs": [],
   "source": [
    "years = pd.Series(games.loc[games['year_of_release'].isna() != True, 'year_of_release']\n",
    "         .astype('int').sort_values().unique(), name='years').astype('str')"
   ]
  },
  {
   "cell_type": "code",
   "execution_count": 24,
   "metadata": {},
   "outputs": [],
   "source": [
    "m = Mystem()\n",
    "name_lem = []\n",
    "for i in games['name']:\n",
    "    result = ''.join(m.lemmatize(i)).strip()[-4:]\n",
    "    name_lem.append(result)\n",
    "games['name_lem'] = name_lem"
   ]
  },
  {
   "cell_type": "code",
   "execution_count": 25,
   "metadata": {
    "scrolled": true
   },
   "outputs": [],
   "source": [
    "games.loc[(games['year_of_release'].isna()==True) & (games['name_lem'].isin(years) == True), 'year_of_release'] = (\n",
    "games.loc[(games['year_of_release'].isna()==True) & (games['name_lem'].isin(years) == True), 'name_lem'])\n",
    "games.drop('name_lem', axis='columns', inplace=True)"
   ]
  },
  {
   "cell_type": "code",
   "execution_count": 26,
   "metadata": {},
   "outputs": [
    {
     "data": {
      "text/plain": [
       "0.015197750254293065"
      ]
     },
     "execution_count": 26,
     "metadata": {},
     "output_type": "execute_result"
    }
   ],
   "source": [
    "games['year_of_release'].isna().mean()"
   ]
  },
  {
   "cell_type": "markdown",
   "metadata": {},
   "source": [
    "Оставшиеся пропущенные значения составляют около 1,5% от всех данных, поэтому мы можем их удалить. После чего можем изменить тип данных в столбце на int."
   ]
  },
  {
   "cell_type": "code",
   "execution_count": 27,
   "metadata": {},
   "outputs": [],
   "source": [
    "games.drop(games.loc[(games['year_of_release'].isnull())].index, inplace=True)\n",
    "games['year_of_release'] = games['year_of_release'].astype('int')"
   ]
  },
  {
   "cell_type": "markdown",
   "metadata": {},
   "source": [
    "##### Жанр игры"
   ]
  },
  {
   "cell_type": "code",
   "execution_count": 28,
   "metadata": {},
   "outputs": [
    {
     "data": {
      "text/plain": [
       "0.0"
      ]
     },
     "execution_count": 28,
     "metadata": {},
     "output_type": "execute_result"
    }
   ],
   "source": [
    "games['genre'].isna().mean()"
   ]
  },
  {
   "cell_type": "markdown",
   "metadata": {},
   "source": [
    "После предыдущих шагов по обработке пропусков, в столбце с жанром игры пропусков не осталось."
   ]
  },
  {
   "cell_type": "markdown",
   "metadata": {},
   "source": [
    "##### Оценка критиков и оценка пользователей"
   ]
  },
  {
   "cell_type": "markdown",
   "metadata": {},
   "source": [
    "Прежде чем мы оценим пропуски по оценкам, необходимо обработать значения tbd для оценок пользователей. Выш мы указывали на то, что по своей сути этот показатель равносилен пропущенным значениям, так как это рейтинг, которого нет на момент выгрузки данных. Соответственно, мы можем заменить его на пропущенное значение."
   ]
  },
  {
   "cell_type": "code",
   "execution_count": 29,
   "metadata": {},
   "outputs": [],
   "source": [
    "games.loc[games['user_score'] == 'tbd', 'user_score'] = np.nan\n",
    "games['user_score'] = games['user_score'].astype('float')"
   ]
  },
  {
   "cell_type": "markdown",
   "metadata": {},
   "source": [
    "Проанализируем пропуски в столбцах с оценками игр."
   ]
  },
  {
   "cell_type": "code",
   "execution_count": 30,
   "metadata": {},
   "outputs": [
    {
     "data": {
      "text/plain": [
       "0.514308281183547"
      ]
     },
     "execution_count": 30,
     "metadata": {},
     "output_type": "execute_result"
    }
   ],
   "source": [
    "games['critic_score'].isna().mean()"
   ]
  },
  {
   "cell_type": "code",
   "execution_count": 31,
   "metadata": {},
   "outputs": [
    {
     "data": {
      "text/plain": [
       "0.5460234522145938"
      ]
     },
     "execution_count": 31,
     "metadata": {},
     "output_type": "execute_result"
    }
   ],
   "source": [
    "games['user_score'].isna().mean()"
   ]
  },
  {
   "cell_type": "markdown",
   "metadata": {},
   "source": [
    "У нас имеется около 51% с пропущенными значениями оценки критиков и около 55% с пропущенными значениями оценки пользователей. Это значительные величины. Мы не можем удалить строки, так как потеряем большой объём данных; но и восстановить данные мы не можем, так как оценка может иметь множество параметров, по которым ранжируется балл, выставляемый игре. Параметры мы не знаем. Восстанавливать значения по метрикам (даже в рамках группировок по годам и жанрам) тоже будет неверно: 2 разные игры, вышедшие в один год на одну платформу и в одном жанре, могут быть оценены абсолютно по-разному.\n",
    "\n",
    "Попытаемся понять причины такого большого количества пропусков. Рассмотрим количество пропусков по годам."
   ]
  },
  {
   "cell_type": "code",
   "execution_count": 32,
   "metadata": {},
   "outputs": [],
   "source": [
    "critscore_nan_year = (games\n",
    "                          .loc[games['critic_score'].isna()==True]\n",
    "                          .pivot_table(index='year_of_release', values='name', aggfunc='count')\n",
    "                          .reset_index()\n",
    "                     )\n",
    "userscore_nan_year = (games\n",
    "                          .loc[games['user_score'].isna()==True]\n",
    "                          .pivot_table(index='year_of_release', values='name', aggfunc='count')\n",
    "                          .reset_index()\n",
    "                     )"
   ]
  },
  {
   "cell_type": "code",
   "execution_count": 33,
   "metadata": {},
   "outputs": [
    {
     "data": {
      "image/png": "[encoded data removed]",
      "text/plain": [
       "<Figure size 432x288 with 1 Axes>"
      ]
     },
     "metadata": {
      "needs_background": "light"
     },
     "output_type": "display_data"
    }
   ],
   "source": [
    "fig, ax = plt.subplots()\n",
    "ax.set(title='Количество пропущенных оценок игр по годам их выпуска',\n",
    "       xlabel='год выпуска', ylabel='количество игр без оценок')\n",
    "ax.plot(critscore_nan_year['year_of_release'], critscore_nan_year['name'], '.--c', label='без оценок критиков')\n",
    "ax.plot(userscore_nan_year['year_of_release'], userscore_nan_year['name'], '.:m', label='без оценок пользователей')\n",
    "ax.grid=True\n",
    "ax.legend(frameon=False)\n",
    "plt.show()"
   ]
  },
  {
   "cell_type": "code",
   "execution_count": 34,
   "metadata": {},
   "outputs": [
    {
     "data": {
      "text/plain": [
       "569"
      ]
     },
     "execution_count": 34,
     "metadata": {},
     "output_type": "execute_result"
    }
   ],
   "source": [
    "# Количество игр, у которых отсутствует оценка критиков, но есть оценка пользователей\n",
    "len(games.loc[(games['critic_score'].isna()==True) & (games['user_score'].isna()!=True)])"
   ]
  },
  {
   "cell_type": "code",
   "execution_count": 35,
   "metadata": {},
   "outputs": [
    {
     "data": {
      "text/plain": [
       "1091"
      ]
     },
     "execution_count": 35,
     "metadata": {},
     "output_type": "execute_result"
    }
   ],
   "source": [
    "# Количество игр, у которых отсутствует оценка пользователей, но есть оценка критиков\n",
    "len(games.loc[(games['user_score'].isna()==True) & (games['critic_score'].isna()!=True)])"
   ]
  },
  {
   "cell_type": "code",
   "execution_count": 36,
   "metadata": {},
   "outputs": [
    {
     "data": {
      "text/plain": [
       "7896"
      ]
     },
     "execution_count": 36,
     "metadata": {},
     "output_type": "execute_result"
    }
   ],
   "source": [
    "# Количество игр, у которых отсутствует и оценка критиков, и оценка пользователей\n",
    "len(games.loc[(games['critic_score'].isna()==True) & (games['user_score'].isna()==True)])"
   ]
  },
  {
   "cell_type": "markdown",
   "metadata": {},
   "source": [
    "##### Рейтинг от организации ESRB"
   ]
  },
  {
   "cell_type": "code",
   "execution_count": 37,
   "metadata": {},
   "outputs": [
    {
     "data": {
      "text/plain": [
       "0.4059177349778237"
      ]
     },
     "execution_count": 37,
     "metadata": {},
     "output_type": "execute_result"
    }
   ],
   "source": [
    "games['rating'].isna().mean()"
   ]
  },
  {
   "cell_type": "markdown",
   "metadata": {},
   "source": [
    "У нас имеется около 41% с пропущенными значениями рейтинга. Это значительная величина. Мы не можем удалить строки, так как потеряем большой объём данных; но и восстановить данные мы не можем, так как не знаем, по какому принципу выставляется рейтинг.\n",
    "\n",
    "Попытаемся понять причины такого большого количества пропусков. Рассмотрим количество пропусков по годам."
   ]
  },
  {
   "cell_type": "code",
   "execution_count": 38,
   "metadata": {},
   "outputs": [],
   "source": [
    "rating_nan_year = (games\n",
    "                        .loc[games['rating'].isna()==True]\n",
    "                        .pivot_table(index='year_of_release', values='name', aggfunc='count')\n",
    "                        .reset_index()\n",
    "                     )"
   ]
  },
  {
   "cell_type": "code",
   "execution_count": 39,
   "metadata": {},
   "outputs": [
    {
     "data": {
      "image/png": "[encoded data removed]",
      "text/plain": [
       "<Figure size 432x288 with 1 Axes>"
      ]
     },
     "metadata": {
      "needs_background": "light"
     },
     "output_type": "display_data"
    }
   ],
   "source": [
    "fig, ax = plt.subplots()\n",
    "ax.set(title='Количество игр с отсутствующим рейтингом по годам их выпуска',\n",
    "       xlabel='год выпуска', ylabel='количество игр без рейтинга')\n",
    "ax.plot(rating_nan_year['year_of_release'], rating_nan_year['name'], '.-r', label='без рейтинга ESRB')\n",
    "ax.grid=True\n",
    "ax.legend(frameon=False)\n",
    "plt.show()"
   ]
  },
  {
   "cell_type": "markdown",
   "metadata": {},
   "source": [
    "Наблюдаем ту же динамику количества игр без рейтинга, что и количества игр без оценок. Соответственно, и причины пропусков в данных могут быть теми же."
   ]
  },
  {
   "cell_type": "markdown",
   "metadata": {},
   "source": [
    "Проверим, что заполнены все пропуски, которые могут быть заполнены."
   ]
  },
  {
   "cell_type": "code",
   "execution_count": 40,
   "metadata": {},
   "outputs": [
    {
     "data": {
      "text/plain": [
       "name                  0\n",
       "platform              0\n",
       "year_of_release       0\n",
       "genre                 0\n",
       "na_sales              0\n",
       "eu_sales              0\n",
       "jp_sales              0\n",
       "other_sales           0\n",
       "critic_score       8465\n",
       "user_score         8987\n",
       "rating             6681\n",
       "dtype: int64"
      ]
     },
     "execution_count": 40,
     "metadata": {},
     "output_type": "execute_result"
    }
   ],
   "source": [
    "games.isna().sum()"
   ]
  },
  {
   "cell_type": "markdown",
   "metadata": {},
   "source": [
    "#### Обработка дубликатов"
   ]
  },
  {
   "cell_type": "code",
   "execution_count": 41,
   "metadata": {},
   "outputs": [
    {
     "data": {
      "text/plain": [
       "0"
      ]
     },
     "execution_count": 41,
     "metadata": {},
     "output_type": "execute_result"
    }
   ],
   "source": [
    "# Установим наличие дубликатов в данных\n",
    "games.duplicated().sum()"
   ]
  },
  {
   "cell_type": "markdown",
   "metadata": {},
   "source": [
    "В данных отсутствуют дубликаты."
   ]
  },
  {
   "cell_type": "markdown",
   "metadata": {},
   "source": [
    "### Расчёт суммарных продаж <a id='step_1.4'></a>"
   ]
  },
  {
   "cell_type": "markdown",
   "metadata": {},
   "source": [
    "Для расчёта суммарных продаж во всех регионах по играм, создадим отдельный столбец `total_sales`, в котором просуммируем столбцы `na_sales`, `eu_sales`, `jp_sales`, `other_sales`."
   ]
  },
  {
   "cell_type": "code",
   "execution_count": 42,
   "metadata": {
    "scrolled": false
   },
   "outputs": [
    {
     "data": {
      "text/html": [
       "<div>\n",
       "<style scoped>\n",
       "    .dataframe tbody tr th:only-of-type {\n",
       "        vertical-align: middle;\n",
       "    }\n",
       "\n",
       "    .dataframe tbody tr th {\n",
       "        vertical-align: top;\n",
       "    }\n",
       "\n",
       "    .dataframe thead th {\n",
       "        text-align: right;\n",
       "    }\n",
       "</style>\n",
       "<table border=\"1\" class=\"dataframe\">\n",
       "  <thead>\n",
       "    <tr style=\"text-align: right;\">\n",
       "      <th></th>\n",
       "      <th>name</th>\n",
       "      <th>platform</th>\n",
       "      <th>year_of_release</th>\n",
       "      <th>genre</th>\n",
       "      <th>na_sales</th>\n",
       "      <th>eu_sales</th>\n",
       "      <th>jp_sales</th>\n",
       "      <th>other_sales</th>\n",
       "      <th>critic_score</th>\n",
       "      <th>user_score</th>\n",
       "      <th>rating</th>\n",
       "      <th>total_sales</th>\n",
       "    </tr>\n",
       "  </thead>\n",
       "  <tbody>\n",
       "    <tr>\n",
       "      <td>0</td>\n",
       "      <td>Wii Sports</td>\n",
       "      <td>Wii</td>\n",
       "      <td>2006</td>\n",
       "      <td>Sports</td>\n",
       "      <td>41.36</td>\n",
       "      <td>28.96</td>\n",
       "      <td>3.77</td>\n",
       "      <td>8.45</td>\n",
       "      <td>76.0</td>\n",
       "      <td>8.0</td>\n",
       "      <td>E</td>\n",
       "      <td>82.54</td>\n",
       "    </tr>\n",
       "    <tr>\n",
       "      <td>1</td>\n",
       "      <td>Super Mario Bros.</td>\n",
       "      <td>NES</td>\n",
       "      <td>1985</td>\n",
       "      <td>Platform</td>\n",
       "      <td>29.08</td>\n",
       "      <td>3.58</td>\n",
       "      <td>6.81</td>\n",
       "      <td>0.77</td>\n",
       "      <td>NaN</td>\n",
       "      <td>NaN</td>\n",
       "      <td>NaN</td>\n",
       "      <td>40.24</td>\n",
       "    </tr>\n",
       "    <tr>\n",
       "      <td>2</td>\n",
       "      <td>Mario Kart Wii</td>\n",
       "      <td>Wii</td>\n",
       "      <td>2008</td>\n",
       "      <td>Racing</td>\n",
       "      <td>15.68</td>\n",
       "      <td>12.76</td>\n",
       "      <td>3.79</td>\n",
       "      <td>3.29</td>\n",
       "      <td>82.0</td>\n",
       "      <td>8.3</td>\n",
       "      <td>E</td>\n",
       "      <td>35.52</td>\n",
       "    </tr>\n",
       "    <tr>\n",
       "      <td>3</td>\n",
       "      <td>Wii Sports Resort</td>\n",
       "      <td>Wii</td>\n",
       "      <td>2009</td>\n",
       "      <td>Sports</td>\n",
       "      <td>15.61</td>\n",
       "      <td>10.93</td>\n",
       "      <td>3.28</td>\n",
       "      <td>2.95</td>\n",
       "      <td>80.0</td>\n",
       "      <td>8.0</td>\n",
       "      <td>E</td>\n",
       "      <td>32.77</td>\n",
       "    </tr>\n",
       "    <tr>\n",
       "      <td>4</td>\n",
       "      <td>Pokemon Red/Pokemon Blue</td>\n",
       "      <td>GB</td>\n",
       "      <td>1996</td>\n",
       "      <td>Role-Playing</td>\n",
       "      <td>11.27</td>\n",
       "      <td>8.89</td>\n",
       "      <td>10.22</td>\n",
       "      <td>1.00</td>\n",
       "      <td>NaN</td>\n",
       "      <td>NaN</td>\n",
       "      <td>NaN</td>\n",
       "      <td>31.38</td>\n",
       "    </tr>\n",
       "  </tbody>\n",
       "</table>\n",
       "</div>"
      ],
      "text/plain": [
       "                       name platform  year_of_release         genre  na_sales  \\\n",
       "0                Wii Sports      Wii             2006        Sports     41.36   \n",
       "1         Super Mario Bros.      NES             1985      Platform     29.08   \n",
       "2            Mario Kart Wii      Wii             2008        Racing     15.68   \n",
       "3         Wii Sports Resort      Wii             2009        Sports     15.61   \n",
       "4  Pokemon Red/Pokemon Blue       GB             1996  Role-Playing     11.27   \n",
       "\n",
       "   eu_sales  jp_sales  other_sales  critic_score  user_score rating  \\\n",
       "0     28.96      3.77         8.45          76.0         8.0      E   \n",
       "1      3.58      6.81         0.77           NaN         NaN    NaN   \n",
       "2     12.76      3.79         3.29          82.0         8.3      E   \n",
       "3     10.93      3.28         2.95          80.0         8.0      E   \n",
       "4      8.89     10.22         1.00           NaN         NaN    NaN   \n",
       "\n",
       "   total_sales  \n",
       "0        82.54  \n",
       "1        40.24  \n",
       "2        35.52  \n",
       "3        32.77  \n",
       "4        31.38  "
      ]
     },
     "execution_count": 42,
     "metadata": {},
     "output_type": "execute_result"
    }
   ],
   "source": [
    "games['total_sales'] = games['na_sales'] + games['eu_sales'] + games['jp_sales'] + games['other_sales']\n",
    "games.head()"
   ]
  },
  {
   "cell_type": "markdown",
   "metadata": {},
   "source": [
    "### Вывод <a id='step_1.5'></a>"
   ]
  },
  {
   "cell_type": "markdown",
   "metadata": {},
   "source": [
    "На этапе подготовки данных все названия столбцов были приведены к нижнему регистру; была проведена замена типа данных там, где это возможно и необходимо; были обработаны пропуски; суммарные продажи во всех регионах по играм были сведены в отдельный столбец.\n",
    "\n",
    "Во время обработки пропусков была обнаружена интересная тенденция: количество игр, для которых нет оценки критиков по годам выпуска практически соответствовало количеству игр, для которых нет оценки пользователей, и количеству игр, для которых нет рейтинга от организации ESRB. Характерная динамика показателей может быть связана с тем, что игр стало выходить больше - соответственно, пользователи \"распылились\" между играми, не имея возможности оценить все из них. Также возникло большее количество платформ - часть пользователей, имеющая возможность поиграть на одной из платформ, не может позволить себе другие платформы. А некоторые из игр являются неэксклюзивными только для одной платформы, а встречаются на всех платформах, соответственно, могут быть неоценены пользователями, критиками и ESRB.\n",
    "\n",
    "Также часть пропусков за последние годы связана с показателем tbd (to be determined): игра была оценена, но система не посчитала рейтинг на момент выгрузки данных (рейтинг по оценке пользователей будет представлен позже). Что касается пропусков в оценках критиков и рейтинге ESRB, возможно, часть игр также не была сведена в оценку и рейтинг на момент выгрузки (оценка и рейтинг появятся немного позже). Кроме того, критики и ESRB, вероятно, оценивают и выставляют рейтинг не каждой вышедшей игру, а наиболее ожидаемые и пользующиеся спросом игры, либо игре в целом - только на одной из платформ. Также возможно, что данные по оценкам и рейтингу отсутствуют в открытом доступе."
   ]
  },
  {
   "cell_type": "markdown",
   "metadata": {},
   "source": [
    "## Этап 2. Исследовательский анализ данных <a id='step_2'></a>"
   ]
  },
  {
   "cell_type": "markdown",
   "metadata": {},
   "source": [
    "### Количество выходящих игр по годам <a id='step_2.1'></a>"
   ]
  },
  {
   "cell_type": "code",
   "execution_count": 43,
   "metadata": {},
   "outputs": [],
   "source": [
    "games_year = games.pivot_table(index='year_of_release', values='name', aggfunc='count').reset_index()"
   ]
  },
  {
   "cell_type": "code",
   "execution_count": 44,
   "metadata": {},
   "outputs": [
    {
     "data": {
      "image/png": "[encoded data removed]",
      "text/plain": [
       "<Figure size 432x288 with 1 Axes>"
      ]
     },
     "metadata": {
      "needs_background": "light"
     },
     "output_type": "display_data"
    }
   ],
   "source": [
    "fig, ax = plt.subplots()\n",
    "ax.set(title='Количество выходящих игр по годам их выпуска',\n",
    "       xlabel='год выпуска', ylabel='количество вышедших игр')\n",
    "ax.plot(games_year['year_of_release'], games_year['name'], '.-g')\n",
    "ax.grid=True\n",
    "plt.show()"
   ]
  },
  {
   "cell_type": "markdown",
   "metadata": {},
   "source": [
    "Заметим, что в Данных очень мало игр, выпущенных с 1980 по 1990 годы. С 1990 по 2000 гг. представлено больше игр, но основной объём информации приходится на игры, вышедшие с 2000 по 2016 гг.\n",
    "\n",
    "Таким образом, у нас имеется \"хвост данных\", который следует отбросить - это период до 1994 года: данные за этот период незначительные, а значит, непоказательные."
   ]
  },
  {
   "cell_type": "markdown",
   "metadata": {},
   "source": [
    "### Продажи по платформам <a id='step_2.2'></a>"
   ]
  },
  {
   "cell_type": "markdown",
   "metadata": {},
   "source": [
    "Найдём TOP10 платформ с наибольшими суммарными продажами."
   ]
  },
  {
   "cell_type": "code",
   "execution_count": 45,
   "metadata": {},
   "outputs": [
    {
     "data": {
      "text/html": [
       "<div>\n",
       "<style scoped>\n",
       "    .dataframe tbody tr th:only-of-type {\n",
       "        vertical-align: middle;\n",
       "    }\n",
       "\n",
       "    .dataframe tbody tr th {\n",
       "        vertical-align: top;\n",
       "    }\n",
       "\n",
       "    .dataframe thead th {\n",
       "        text-align: right;\n",
       "    }\n",
       "</style>\n",
       "<table border=\"1\" class=\"dataframe\">\n",
       "  <thead>\n",
       "    <tr style=\"text-align: right;\">\n",
       "      <th></th>\n",
       "      <th>platform</th>\n",
       "      <th>total_sales</th>\n",
       "    </tr>\n",
       "  </thead>\n",
       "  <tbody>\n",
       "    <tr>\n",
       "      <td>0</td>\n",
       "      <td>PS2</td>\n",
       "      <td>1247.28</td>\n",
       "    </tr>\n",
       "    <tr>\n",
       "      <td>1</td>\n",
       "      <td>X360</td>\n",
       "      <td>961.30</td>\n",
       "    </tr>\n",
       "    <tr>\n",
       "      <td>2</td>\n",
       "      <td>PS3</td>\n",
       "      <td>931.34</td>\n",
       "    </tr>\n",
       "    <tr>\n",
       "      <td>3</td>\n",
       "      <td>Wii</td>\n",
       "      <td>891.18</td>\n",
       "    </tr>\n",
       "    <tr>\n",
       "      <td>4</td>\n",
       "      <td>DS</td>\n",
       "      <td>802.79</td>\n",
       "    </tr>\n",
       "    <tr>\n",
       "      <td>5</td>\n",
       "      <td>PS</td>\n",
       "      <td>727.58</td>\n",
       "    </tr>\n",
       "  </tbody>\n",
       "</table>\n",
       "</div>"
      ],
      "text/plain": [
       "  platform  total_sales\n",
       "0      PS2      1247.28\n",
       "1     X360       961.30\n",
       "2      PS3       931.34\n",
       "3      Wii       891.18\n",
       "4       DS       802.79\n",
       "5       PS       727.58"
      ]
     },
     "execution_count": 45,
     "metadata": {},
     "output_type": "execute_result"
    }
   ],
   "source": [
    "platform_popular = (games\n",
    "                        .pivot_table(index='platform', values='total_sales', aggfunc='sum')\n",
    "                        .reset_index()\n",
    "                        .sort_values(by='total_sales', ascending=False)\n",
    "                        .head(6)\n",
    "                        .reset_index(drop=True)\n",
    "                   )\n",
    "platform_popular"
   ]
  },
  {
   "cell_type": "code",
   "execution_count": 46,
   "metadata": {},
   "outputs": [],
   "source": [
    "# Создадим список с названием платформ из TOP10\n",
    "platforms = platform_popular['platform']"
   ]
  },
  {
   "cell_type": "markdown",
   "metadata": {},
   "source": [
    "Построим и изучим распределение суммарных продаж по годам для каждой из TOP10 платформ."
   ]
  },
  {
   "cell_type": "code",
   "execution_count": 47,
   "metadata": {},
   "outputs": [],
   "source": [
    "platform_year = (games\n",
    "                      .loc[games['platform'].isin(platforms)]\n",
    "                      .pivot_table(index=['platform', 'year_of_release'], values='total_sales', aggfunc='sum')\n",
    "                      .reset_index()\n",
    "                 )"
   ]
  },
  {
   "cell_type": "code",
   "execution_count": 48,
   "metadata": {
    "scrolled": true
   },
   "outputs": [
    {
     "data": {
      "image/png": "[encoded data removed]",
      "text/plain": [
       "<Figure size 1440x360 with 1 Axes>"
      ]
     },
     "metadata": {
      "needs_background": "light"
     },
     "output_type": "display_data"
    }
   ],
   "source": [
    "plot = sns.catplot(\"year_of_release\", \"total_sales\", hue=\"platform\", kind=\"bar\", data=platform_year)\n",
    "plt.title(\"Суммарные продажи игр на разных платформах по годам\", fontsize=15)\n",
    "plt.xlabel('год выпуска', fontsize=12)\n",
    "plt.ylabel('суммарные продажи (миллионы долларов)', fontsize=12)\n",
    "plot.fig.set_size_inches(20,5)\n",
    "plt.show()"
   ]
  },
  {
   "cell_type": "markdown",
   "metadata": {},
   "source": [
    "В разные годы были популярны (и соответственно, приносили доход) игры на разных платформах. Игры на Playstation набирали популярность с 1994 года, достигли пика по продажам в 1990 году и \"сошли на нет\" в 2002-2003 годах. На замену таким играм в 2000 году пришли игры на Playstation2, достаточно долго (с 2001 по 2005 гг.) лидируя на рынке игр по продажам. На их смену пришли игры на карманных консолях DS, которые с 2004 года набрали моментальную популярность в 2005-2010 гг. Практически в то же время (с 2006 по 2010 гг. с пиком в 2009 г.) были популярны игры на платформе Wii (с самой малоразмерной на тот момент приставкой Nintendo Wii). В те же годы на смену Playstation2 пришли игры на платформе Playstation3, которые продавались максимально хорошо в 2008-2013 гг. Вместе с Playstation3 в те же годы были популярны игры на Xbox360.\n",
    "\n",
    "Из всех этих платформ самой продаваемой по сумме продаж являлась Playstation2. На тот момент у неё не было конкурентоспособных аналогов, она в течение долгого времени занимала топовые позиции. Второе и третье места делят между собой Xbox360, Playstation3, DS и Wii: игры на этих платформах были популярны в одни и те же годы, и предпочтения потребителей игр разделились между ними. Отдельно отметим Playstation - игры на этой платформе выходили в ранние годы, и на тот момент не наблюдалось конкурентоспособных аналогов.\n",
    "\n",
    "Примерный срок, за который устаревает платформа, составляет около 8-10 лет. Также следует отметить, что со временем стало появляться больше конкурентоспособных платформ, способных занять нишу и привлечь свою категорию потребителей."
   ]
  },
  {
   "cell_type": "markdown",
   "metadata": {},
   "source": [
    "\n"
   ]
  },
  {
   "cell_type": "markdown",
   "metadata": {},
   "source": [
    "Исходя из анализа количества выпущенных игр по годам и анализа продаж по платформам, продажа игр на которых приносит наибольший доход, можем сделать вывод о том, что период до 1994 года не является актуальным для анализа. До 1994 года выходило слишком мало игр, относительно общей выборки; а также не наблюдалось лидирующих по суммарным продажам платформ. Более того, только за последние 10 лет мы наблюдаем и большое количество игр, и большой выбор платформ, которые могут составить друг-другу конкуренцию. Поскольку последние тенденции показывают лидерство нескольких платформ, а не одной; а также срок устаревания платформы составляет около 10 лет; и данные за 2016 год неполные, нам нужен срез данных с 2006 по 2015 год, с которым мы продолжим пока работать."
   ]
  },
  {
   "cell_type": "code",
   "execution_count": 49,
   "metadata": {},
   "outputs": [],
   "source": [
    "games_actual = games.query('year_of_release >= 2006 & year_of_release <= 2015')"
   ]
  },
  {
   "cell_type": "markdown",
   "metadata": {},
   "source": [
    "Тем не менее, следует помнить о том, что нам нужны платформы, которые находятся на подъеме, а значит стоит рассматривать период равный примерно половине жизненного цикла. Иначе нам будут мешать платформы, которые набрали большие продажи в прошле годы, но уже на спаде и скоро перестанут выпускаться. Для определения такого периода изучим данные глубже."
   ]
  },
  {
   "cell_type": "markdown",
   "metadata": {},
   "source": [
    "### Продажи по платформам в актуальный период <a id='step_2.3'></a>"
   ]
  },
  {
   "cell_type": "markdown",
   "metadata": {},
   "source": [
    "Составим сводную таблицу, которая проиллюстрирует динамику лидерства платформ по продажам. "
   ]
  },
  {
   "cell_type": "code",
   "execution_count": 50,
   "metadata": {},
   "outputs": [
    {
     "data": {
      "text/html": [
       "<div>\n",
       "<style scoped>\n",
       "    .dataframe tbody tr th:only-of-type {\n",
       "        vertical-align: middle;\n",
       "    }\n",
       "\n",
       "    .dataframe tbody tr th {\n",
       "        vertical-align: top;\n",
       "    }\n",
       "\n",
       "    .dataframe thead th {\n",
       "        text-align: right;\n",
       "    }\n",
       "</style>\n",
       "<table border=\"1\" class=\"dataframe\">\n",
       "  <thead>\n",
       "    <tr style=\"text-align: right;\">\n",
       "      <th>year_of_release</th>\n",
       "      <th>2006</th>\n",
       "      <th>2007</th>\n",
       "      <th>2008</th>\n",
       "      <th>2009</th>\n",
       "      <th>2010</th>\n",
       "      <th>2011</th>\n",
       "      <th>2012</th>\n",
       "      <th>2013</th>\n",
       "      <th>2014</th>\n",
       "      <th>2015</th>\n",
       "    </tr>\n",
       "    <tr>\n",
       "      <th>platform</th>\n",
       "      <th></th>\n",
       "      <th></th>\n",
       "      <th></th>\n",
       "      <th></th>\n",
       "      <th></th>\n",
       "      <th></th>\n",
       "      <th></th>\n",
       "      <th></th>\n",
       "      <th></th>\n",
       "      <th></th>\n",
       "    </tr>\n",
       "  </thead>\n",
       "  <tbody>\n",
       "    <tr>\n",
       "      <td>3DS</td>\n",
       "      <td>NaN</td>\n",
       "      <td>NaN</td>\n",
       "      <td>NaN</td>\n",
       "      <td>NaN</td>\n",
       "      <td>NaN</td>\n",
       "      <td>63.20</td>\n",
       "      <td>51.36</td>\n",
       "      <td>56.57</td>\n",
       "      <td>43.76</td>\n",
       "      <td>27.78</td>\n",
       "    </tr>\n",
       "    <tr>\n",
       "      <td>DC</td>\n",
       "      <td>NaN</td>\n",
       "      <td>0.02</td>\n",
       "      <td>0.04</td>\n",
       "      <td>NaN</td>\n",
       "      <td>NaN</td>\n",
       "      <td>NaN</td>\n",
       "      <td>NaN</td>\n",
       "      <td>NaN</td>\n",
       "      <td>NaN</td>\n",
       "      <td>NaN</td>\n",
       "    </tr>\n",
       "    <tr>\n",
       "      <td>DS</td>\n",
       "      <td>119.81</td>\n",
       "      <td>146.94</td>\n",
       "      <td>145.32</td>\n",
       "      <td>119.54</td>\n",
       "      <td>85.02</td>\n",
       "      <td>26.18</td>\n",
       "      <td>11.01</td>\n",
       "      <td>1.54</td>\n",
       "      <td>NaN</td>\n",
       "      <td>NaN</td>\n",
       "    </tr>\n",
       "    <tr>\n",
       "      <td>GBA</td>\n",
       "      <td>5.28</td>\n",
       "      <td>3.40</td>\n",
       "      <td>NaN</td>\n",
       "      <td>NaN</td>\n",
       "      <td>NaN</td>\n",
       "      <td>NaN</td>\n",
       "      <td>NaN</td>\n",
       "      <td>NaN</td>\n",
       "      <td>NaN</td>\n",
       "      <td>NaN</td>\n",
       "    </tr>\n",
       "    <tr>\n",
       "      <td>GC</td>\n",
       "      <td>11.26</td>\n",
       "      <td>0.27</td>\n",
       "      <td>NaN</td>\n",
       "      <td>NaN</td>\n",
       "      <td>NaN</td>\n",
       "      <td>NaN</td>\n",
       "      <td>NaN</td>\n",
       "      <td>NaN</td>\n",
       "      <td>NaN</td>\n",
       "      <td>NaN</td>\n",
       "    </tr>\n",
       "    <tr>\n",
       "      <td>PC</td>\n",
       "      <td>2.85</td>\n",
       "      <td>9.28</td>\n",
       "      <td>12.42</td>\n",
       "      <td>16.91</td>\n",
       "      <td>24.28</td>\n",
       "      <td>35.03</td>\n",
       "      <td>23.22</td>\n",
       "      <td>12.38</td>\n",
       "      <td>13.28</td>\n",
       "      <td>8.52</td>\n",
       "    </tr>\n",
       "    <tr>\n",
       "      <td>PS2</td>\n",
       "      <td>106.46</td>\n",
       "      <td>75.99</td>\n",
       "      <td>53.90</td>\n",
       "      <td>26.40</td>\n",
       "      <td>5.64</td>\n",
       "      <td>0.45</td>\n",
       "      <td>NaN</td>\n",
       "      <td>NaN</td>\n",
       "      <td>NaN</td>\n",
       "      <td>NaN</td>\n",
       "    </tr>\n",
       "    <tr>\n",
       "      <td>PS3</td>\n",
       "      <td>20.96</td>\n",
       "      <td>73.19</td>\n",
       "      <td>118.52</td>\n",
       "      <td>130.93</td>\n",
       "      <td>142.17</td>\n",
       "      <td>156.78</td>\n",
       "      <td>107.36</td>\n",
       "      <td>113.25</td>\n",
       "      <td>47.76</td>\n",
       "      <td>16.82</td>\n",
       "    </tr>\n",
       "    <tr>\n",
       "      <td>PS4</td>\n",
       "      <td>NaN</td>\n",
       "      <td>NaN</td>\n",
       "      <td>NaN</td>\n",
       "      <td>NaN</td>\n",
       "      <td>NaN</td>\n",
       "      <td>NaN</td>\n",
       "      <td>NaN</td>\n",
       "      <td>25.99</td>\n",
       "      <td>100.00</td>\n",
       "      <td>118.90</td>\n",
       "    </tr>\n",
       "    <tr>\n",
       "      <td>PSP</td>\n",
       "      <td>55.32</td>\n",
       "      <td>46.93</td>\n",
       "      <td>34.56</td>\n",
       "      <td>37.78</td>\n",
       "      <td>35.04</td>\n",
       "      <td>17.82</td>\n",
       "      <td>7.69</td>\n",
       "      <td>3.14</td>\n",
       "      <td>0.24</td>\n",
       "      <td>0.12</td>\n",
       "    </tr>\n",
       "    <tr>\n",
       "      <td>PSV</td>\n",
       "      <td>NaN</td>\n",
       "      <td>NaN</td>\n",
       "      <td>NaN</td>\n",
       "      <td>NaN</td>\n",
       "      <td>NaN</td>\n",
       "      <td>4.63</td>\n",
       "      <td>16.19</td>\n",
       "      <td>10.59</td>\n",
       "      <td>11.90</td>\n",
       "      <td>6.25</td>\n",
       "    </tr>\n",
       "    <tr>\n",
       "      <td>Wii</td>\n",
       "      <td>137.15</td>\n",
       "      <td>152.77</td>\n",
       "      <td>171.32</td>\n",
       "      <td>206.97</td>\n",
       "      <td>127.95</td>\n",
       "      <td>59.65</td>\n",
       "      <td>21.71</td>\n",
       "      <td>8.59</td>\n",
       "      <td>3.75</td>\n",
       "      <td>1.14</td>\n",
       "    </tr>\n",
       "    <tr>\n",
       "      <td>WiiU</td>\n",
       "      <td>NaN</td>\n",
       "      <td>NaN</td>\n",
       "      <td>NaN</td>\n",
       "      <td>NaN</td>\n",
       "      <td>NaN</td>\n",
       "      <td>NaN</td>\n",
       "      <td>17.56</td>\n",
       "      <td>21.65</td>\n",
       "      <td>22.03</td>\n",
       "      <td>16.35</td>\n",
       "    </tr>\n",
       "    <tr>\n",
       "      <td>X360</td>\n",
       "      <td>51.62</td>\n",
       "      <td>95.42</td>\n",
       "      <td>135.26</td>\n",
       "      <td>120.29</td>\n",
       "      <td>170.03</td>\n",
       "      <td>143.89</td>\n",
       "      <td>99.74</td>\n",
       "      <td>88.58</td>\n",
       "      <td>34.74</td>\n",
       "      <td>11.96</td>\n",
       "    </tr>\n",
       "    <tr>\n",
       "      <td>XB</td>\n",
       "      <td>10.04</td>\n",
       "      <td>0.55</td>\n",
       "      <td>0.18</td>\n",
       "      <td>NaN</td>\n",
       "      <td>NaN</td>\n",
       "      <td>NaN</td>\n",
       "      <td>NaN</td>\n",
       "      <td>NaN</td>\n",
       "      <td>NaN</td>\n",
       "      <td>NaN</td>\n",
       "    </tr>\n",
       "    <tr>\n",
       "      <td>XOne</td>\n",
       "      <td>NaN</td>\n",
       "      <td>NaN</td>\n",
       "      <td>NaN</td>\n",
       "      <td>NaN</td>\n",
       "      <td>NaN</td>\n",
       "      <td>NaN</td>\n",
       "      <td>NaN</td>\n",
       "      <td>18.96</td>\n",
       "      <td>54.07</td>\n",
       "      <td>60.14</td>\n",
       "    </tr>\n",
       "  </tbody>\n",
       "</table>\n",
       "</div>"
      ],
      "text/plain": [
       "year_of_release    2006    2007    2008    2009    2010    2011    2012  \\\n",
       "platform                                                                  \n",
       "3DS                 NaN     NaN     NaN     NaN     NaN   63.20   51.36   \n",
       "DC                  NaN    0.02    0.04     NaN     NaN     NaN     NaN   \n",
       "DS               119.81  146.94  145.32  119.54   85.02   26.18   11.01   \n",
       "GBA                5.28    3.40     NaN     NaN     NaN     NaN     NaN   \n",
       "GC                11.26    0.27     NaN     NaN     NaN     NaN     NaN   \n",
       "PC                 2.85    9.28   12.42   16.91   24.28   35.03   23.22   \n",
       "PS2              106.46   75.99   53.90   26.40    5.64    0.45     NaN   \n",
       "PS3               20.96   73.19  118.52  130.93  142.17  156.78  107.36   \n",
       "PS4                 NaN     NaN     NaN     NaN     NaN     NaN     NaN   \n",
       "PSP               55.32   46.93   34.56   37.78   35.04   17.82    7.69   \n",
       "PSV                 NaN     NaN     NaN     NaN     NaN    4.63   16.19   \n",
       "Wii              137.15  152.77  171.32  206.97  127.95   59.65   21.71   \n",
       "WiiU                NaN     NaN     NaN     NaN     NaN     NaN   17.56   \n",
       "X360              51.62   95.42  135.26  120.29  170.03  143.89   99.74   \n",
       "XB                10.04    0.55    0.18     NaN     NaN     NaN     NaN   \n",
       "XOne                NaN     NaN     NaN     NaN     NaN     NaN     NaN   \n",
       "\n",
       "year_of_release    2013    2014    2015  \n",
       "platform                                 \n",
       "3DS               56.57   43.76   27.78  \n",
       "DC                  NaN     NaN     NaN  \n",
       "DS                 1.54     NaN     NaN  \n",
       "GBA                 NaN     NaN     NaN  \n",
       "GC                  NaN     NaN     NaN  \n",
       "PC                12.38   13.28    8.52  \n",
       "PS2                 NaN     NaN     NaN  \n",
       "PS3              113.25   47.76   16.82  \n",
       "PS4               25.99  100.00  118.90  \n",
       "PSP                3.14    0.24    0.12  \n",
       "PSV               10.59   11.90    6.25  \n",
       "Wii                8.59    3.75    1.14  \n",
       "WiiU              21.65   22.03   16.35  \n",
       "X360              88.58   34.74   11.96  \n",
       "XB                  NaN     NaN     NaN  \n",
       "XOne              18.96   54.07   60.14  "
      ]
     },
     "execution_count": 50,
     "metadata": {},
     "output_type": "execute_result"
    }
   ],
   "source": [
    "platform_dynam = games_actual.pivot_table(index='platform', columns='year_of_release', values='total_sales', aggfunc='sum')\n",
    "platform_dynam"
   ]
  },
  {
   "cell_type": "markdown",
   "metadata": {},
   "source": [
    "Удалим из анализа уже устаревшие платформы (те, для которых уже нет данных в 2015 году) и платформы, которые устареют в 2017 году (те, для которых есть данные ранее 2007 года)."
   ]
  },
  {
   "cell_type": "code",
   "execution_count": 51,
   "metadata": {},
   "outputs": [
    {
     "data": {
      "text/html": [
       "<div>\n",
       "<style scoped>\n",
       "    .dataframe tbody tr th:only-of-type {\n",
       "        vertical-align: middle;\n",
       "    }\n",
       "\n",
       "    .dataframe tbody tr th {\n",
       "        vertical-align: top;\n",
       "    }\n",
       "\n",
       "    .dataframe thead th {\n",
       "        text-align: right;\n",
       "    }\n",
       "</style>\n",
       "<table border=\"1\" class=\"dataframe\">\n",
       "  <thead>\n",
       "    <tr style=\"text-align: right;\">\n",
       "      <th>year_of_release</th>\n",
       "      <th>2006</th>\n",
       "      <th>2007</th>\n",
       "      <th>2008</th>\n",
       "      <th>2009</th>\n",
       "      <th>2010</th>\n",
       "      <th>2011</th>\n",
       "      <th>2012</th>\n",
       "      <th>2013</th>\n",
       "      <th>2014</th>\n",
       "      <th>2015</th>\n",
       "    </tr>\n",
       "    <tr>\n",
       "      <th>platform</th>\n",
       "      <th></th>\n",
       "      <th></th>\n",
       "      <th></th>\n",
       "      <th></th>\n",
       "      <th></th>\n",
       "      <th></th>\n",
       "      <th></th>\n",
       "      <th></th>\n",
       "      <th></th>\n",
       "      <th></th>\n",
       "    </tr>\n",
       "  </thead>\n",
       "  <tbody>\n",
       "    <tr>\n",
       "      <td>3DS</td>\n",
       "      <td>NaN</td>\n",
       "      <td>NaN</td>\n",
       "      <td>NaN</td>\n",
       "      <td>NaN</td>\n",
       "      <td>NaN</td>\n",
       "      <td>63.20</td>\n",
       "      <td>51.36</td>\n",
       "      <td>56.57</td>\n",
       "      <td>43.76</td>\n",
       "      <td>27.78</td>\n",
       "    </tr>\n",
       "    <tr>\n",
       "      <td>PS4</td>\n",
       "      <td>NaN</td>\n",
       "      <td>NaN</td>\n",
       "      <td>NaN</td>\n",
       "      <td>NaN</td>\n",
       "      <td>NaN</td>\n",
       "      <td>NaN</td>\n",
       "      <td>NaN</td>\n",
       "      <td>25.99</td>\n",
       "      <td>100.00</td>\n",
       "      <td>118.90</td>\n",
       "    </tr>\n",
       "    <tr>\n",
       "      <td>PSV</td>\n",
       "      <td>NaN</td>\n",
       "      <td>NaN</td>\n",
       "      <td>NaN</td>\n",
       "      <td>NaN</td>\n",
       "      <td>NaN</td>\n",
       "      <td>4.63</td>\n",
       "      <td>16.19</td>\n",
       "      <td>10.59</td>\n",
       "      <td>11.90</td>\n",
       "      <td>6.25</td>\n",
       "    </tr>\n",
       "    <tr>\n",
       "      <td>WiiU</td>\n",
       "      <td>NaN</td>\n",
       "      <td>NaN</td>\n",
       "      <td>NaN</td>\n",
       "      <td>NaN</td>\n",
       "      <td>NaN</td>\n",
       "      <td>NaN</td>\n",
       "      <td>17.56</td>\n",
       "      <td>21.65</td>\n",
       "      <td>22.03</td>\n",
       "      <td>16.35</td>\n",
       "    </tr>\n",
       "    <tr>\n",
       "      <td>XOne</td>\n",
       "      <td>NaN</td>\n",
       "      <td>NaN</td>\n",
       "      <td>NaN</td>\n",
       "      <td>NaN</td>\n",
       "      <td>NaN</td>\n",
       "      <td>NaN</td>\n",
       "      <td>NaN</td>\n",
       "      <td>18.96</td>\n",
       "      <td>54.07</td>\n",
       "      <td>60.14</td>\n",
       "    </tr>\n",
       "  </tbody>\n",
       "</table>\n",
       "</div>"
      ],
      "text/plain": [
       "year_of_release  2006  2007  2008  2009  2010   2011   2012   2013    2014  \\\n",
       "platform                                                                     \n",
       "3DS               NaN   NaN   NaN   NaN   NaN  63.20  51.36  56.57   43.76   \n",
       "PS4               NaN   NaN   NaN   NaN   NaN    NaN    NaN  25.99  100.00   \n",
       "PSV               NaN   NaN   NaN   NaN   NaN   4.63  16.19  10.59   11.90   \n",
       "WiiU              NaN   NaN   NaN   NaN   NaN    NaN  17.56  21.65   22.03   \n",
       "XOne              NaN   NaN   NaN   NaN   NaN    NaN    NaN  18.96   54.07   \n",
       "\n",
       "year_of_release    2015  \n",
       "platform                 \n",
       "3DS               27.78  \n",
       "PS4              118.90  \n",
       "PSV                6.25  \n",
       "WiiU              16.35  \n",
       "XOne              60.14  "
      ]
     },
     "execution_count": 51,
     "metadata": {},
     "output_type": "execute_result"
    }
   ],
   "source": [
    "platform_dynam = platform_dynam.loc[platform_dynam[2006].isna()==True].copy()\n",
    "platform_dynam.dropna(subset = [2015], inplace = True)\n",
    "platform_dynam"
   ]
  },
  {
   "cell_type": "markdown",
   "metadata": {},
   "source": [
    "Таким образом, мы получили срез из 5 платформ, которые будут актуальны в 2017 году. Удалим пустые столбцы и построим график для этих платформ."
   ]
  },
  {
   "cell_type": "code",
   "execution_count": 52,
   "metadata": {},
   "outputs": [
    {
     "data": {
      "text/html": [
       "<div>\n",
       "<style scoped>\n",
       "    .dataframe tbody tr th:only-of-type {\n",
       "        vertical-align: middle;\n",
       "    }\n",
       "\n",
       "    .dataframe tbody tr th {\n",
       "        vertical-align: top;\n",
       "    }\n",
       "\n",
       "    .dataframe thead th {\n",
       "        text-align: right;\n",
       "    }\n",
       "</style>\n",
       "<table border=\"1\" class=\"dataframe\">\n",
       "  <thead>\n",
       "    <tr style=\"text-align: right;\">\n",
       "      <th>year_of_release</th>\n",
       "      <th>2011</th>\n",
       "      <th>2012</th>\n",
       "      <th>2013</th>\n",
       "      <th>2014</th>\n",
       "      <th>2015</th>\n",
       "    </tr>\n",
       "    <tr>\n",
       "      <th>platform</th>\n",
       "      <th></th>\n",
       "      <th></th>\n",
       "      <th></th>\n",
       "      <th></th>\n",
       "      <th></th>\n",
       "    </tr>\n",
       "  </thead>\n",
       "  <tbody>\n",
       "    <tr>\n",
       "      <td>3DS</td>\n",
       "      <td>63.20</td>\n",
       "      <td>51.36</td>\n",
       "      <td>56.57</td>\n",
       "      <td>43.76</td>\n",
       "      <td>27.78</td>\n",
       "    </tr>\n",
       "    <tr>\n",
       "      <td>PS4</td>\n",
       "      <td>NaN</td>\n",
       "      <td>NaN</td>\n",
       "      <td>25.99</td>\n",
       "      <td>100.00</td>\n",
       "      <td>118.90</td>\n",
       "    </tr>\n",
       "    <tr>\n",
       "      <td>PSV</td>\n",
       "      <td>4.63</td>\n",
       "      <td>16.19</td>\n",
       "      <td>10.59</td>\n",
       "      <td>11.90</td>\n",
       "      <td>6.25</td>\n",
       "    </tr>\n",
       "    <tr>\n",
       "      <td>WiiU</td>\n",
       "      <td>NaN</td>\n",
       "      <td>17.56</td>\n",
       "      <td>21.65</td>\n",
       "      <td>22.03</td>\n",
       "      <td>16.35</td>\n",
       "    </tr>\n",
       "    <tr>\n",
       "      <td>XOne</td>\n",
       "      <td>NaN</td>\n",
       "      <td>NaN</td>\n",
       "      <td>18.96</td>\n",
       "      <td>54.07</td>\n",
       "      <td>60.14</td>\n",
       "    </tr>\n",
       "  </tbody>\n",
       "</table>\n",
       "</div>"
      ],
      "text/plain": [
       "year_of_release   2011   2012   2013    2014    2015\n",
       "platform                                            \n",
       "3DS              63.20  51.36  56.57   43.76   27.78\n",
       "PS4                NaN    NaN  25.99  100.00  118.90\n",
       "PSV               4.63  16.19  10.59   11.90    6.25\n",
       "WiiU               NaN  17.56  21.65   22.03   16.35\n",
       "XOne               NaN    NaN  18.96   54.07   60.14"
      ]
     },
     "execution_count": 52,
     "metadata": {},
     "output_type": "execute_result"
    }
   ],
   "source": [
    "platform_dynam.drop([2006, 2007, 2008, 2009, 2010], axis='columns', inplace=True)\n",
    "platform_dynam"
   ]
  },
  {
   "cell_type": "code",
   "execution_count": 53,
   "metadata": {},
   "outputs": [
    {
     "data": {
      "image/png": "[encoded data removed]",
      "text/plain": [
       "<Figure size 720x360 with 1 Axes>"
      ]
     },
     "metadata": {
      "needs_background": "light"
     },
     "output_type": "display_data"
    }
   ],
   "source": [
    "platform_dynam = (games_actual\n",
    "                              .loc[(games_actual['platform'].isin((\"3DS\", \"PS4\", \"PSV\", \"WiiU\", \"XOne\"))==True) & (\n",
    "                                  games_actual['year_of_release'].isin((2011, 2012, 2013, 2014, 2015))==True)]\n",
    "                              .pivot_table(index=['platform', 'year_of_release'], values='total_sales', aggfunc='sum')\n",
    "                              .reset_index()\n",
    "                 )\n",
    "plot = sns.catplot(x='year_of_release', y='total_sales', hue=\"platform\", kind=\"bar\", data=platform_dynam)\n",
    "plt.title(\"Суммарные продажи игр на актуальных платформах по годам\", fontsize=12)\n",
    "plt.xlabel('год выпуска', fontsize=10)\n",
    "plt.ylabel('суммарные продажи (миллионы долларов)', fontsize=10)\n",
    "plot.fig.set_size_inches(10,5)"
   ]
  },
  {
   "cell_type": "markdown",
   "metadata": {},
   "source": [
    "Таким образом, получили потенциально прибыльные в 2017 году платформы: 3DS, которая уже несколько лет пользуется популярностью у потребителей игр; Playstation4, только набирающая обороты и приносящая самый высокий доход от продаж; PlaystationVita, не настолько популярная (что может быть связано с меньшим количеством игр на данной платформе), но также потенциально прибыльная в ближайшие 2-3 года; WiiU, являющаяся преемником Wii, которая тоже была достаточно популярна в своё время; а также XBoxOne от компании Microsoft, способная составить конкуренцию Playstation4.\n",
    "\n",
    "При этом наблюдается рост популярности у потребителей игр для Playstation4 и XBoxOne; и снижение спроса на игры на платформах 3DS, PlaystationVita и WiiU, тем не менее, даже они потенциально могут принести достаточно высокий доход до появления аналогов нового поколения."
   ]
  },
  {
   "cell_type": "markdown",
   "metadata": {},
   "source": [
    "### Построение боксплотов по наиболее перспективным платформам <a id='step_2.4'></a>"
   ]
  },
  {
   "cell_type": "markdown",
   "metadata": {},
   "source": [
    "Мы выделили наиболее перспективные платформы, которые будем далее анализировать. Оставим в срезе данных только игры, относящиеся к данным платформам."
   ]
  },
  {
   "cell_type": "code",
   "execution_count": 54,
   "metadata": {},
   "outputs": [
    {
     "data": {
      "text/html": [
       "<div>\n",
       "<style scoped>\n",
       "    .dataframe tbody tr th:only-of-type {\n",
       "        vertical-align: middle;\n",
       "    }\n",
       "\n",
       "    .dataframe tbody tr th {\n",
       "        vertical-align: top;\n",
       "    }\n",
       "\n",
       "    .dataframe thead th {\n",
       "        text-align: right;\n",
       "    }\n",
       "</style>\n",
       "<table border=\"1\" class=\"dataframe\">\n",
       "  <thead>\n",
       "    <tr style=\"text-align: right;\">\n",
       "      <th></th>\n",
       "      <th>name</th>\n",
       "      <th>platform</th>\n",
       "      <th>year_of_release</th>\n",
       "      <th>genre</th>\n",
       "      <th>na_sales</th>\n",
       "      <th>eu_sales</th>\n",
       "      <th>jp_sales</th>\n",
       "      <th>other_sales</th>\n",
       "      <th>critic_score</th>\n",
       "      <th>user_score</th>\n",
       "      <th>rating</th>\n",
       "      <th>total_sales</th>\n",
       "    </tr>\n",
       "  </thead>\n",
       "  <tbody>\n",
       "    <tr>\n",
       "      <td>0</td>\n",
       "      <td>Call of Duty: Black Ops 3</td>\n",
       "      <td>PS4</td>\n",
       "      <td>2015</td>\n",
       "      <td>Shooter</td>\n",
       "      <td>6.03</td>\n",
       "      <td>5.86</td>\n",
       "      <td>0.36</td>\n",
       "      <td>2.38</td>\n",
       "      <td>NaN</td>\n",
       "      <td>NaN</td>\n",
       "      <td>NaN</td>\n",
       "      <td>14.63</td>\n",
       "    </tr>\n",
       "    <tr>\n",
       "      <td>1</td>\n",
       "      <td>Pokemon X/Pokemon Y</td>\n",
       "      <td>3DS</td>\n",
       "      <td>2013</td>\n",
       "      <td>Role-Playing</td>\n",
       "      <td>5.28</td>\n",
       "      <td>4.19</td>\n",
       "      <td>4.35</td>\n",
       "      <td>0.78</td>\n",
       "      <td>NaN</td>\n",
       "      <td>NaN</td>\n",
       "      <td>NaN</td>\n",
       "      <td>14.60</td>\n",
       "    </tr>\n",
       "    <tr>\n",
       "      <td>2</td>\n",
       "      <td>Mario Kart 7</td>\n",
       "      <td>3DS</td>\n",
       "      <td>2011</td>\n",
       "      <td>Racing</td>\n",
       "      <td>5.03</td>\n",
       "      <td>4.02</td>\n",
       "      <td>2.69</td>\n",
       "      <td>0.91</td>\n",
       "      <td>85.0</td>\n",
       "      <td>8.2</td>\n",
       "      <td>E</td>\n",
       "      <td>12.65</td>\n",
       "    </tr>\n",
       "    <tr>\n",
       "      <td>3</td>\n",
       "      <td>Grand Theft Auto V</td>\n",
       "      <td>PS4</td>\n",
       "      <td>2014</td>\n",
       "      <td>Action</td>\n",
       "      <td>3.96</td>\n",
       "      <td>6.31</td>\n",
       "      <td>0.38</td>\n",
       "      <td>1.97</td>\n",
       "      <td>97.0</td>\n",
       "      <td>8.3</td>\n",
       "      <td>M</td>\n",
       "      <td>12.62</td>\n",
       "    </tr>\n",
       "    <tr>\n",
       "      <td>4</td>\n",
       "      <td>Pokemon Omega Ruby/Pokemon Alpha Sapphire</td>\n",
       "      <td>3DS</td>\n",
       "      <td>2014</td>\n",
       "      <td>Role-Playing</td>\n",
       "      <td>4.35</td>\n",
       "      <td>3.49</td>\n",
       "      <td>3.10</td>\n",
       "      <td>0.74</td>\n",
       "      <td>NaN</td>\n",
       "      <td>NaN</td>\n",
       "      <td>NaN</td>\n",
       "      <td>11.68</td>\n",
       "    </tr>\n",
       "  </tbody>\n",
       "</table>\n",
       "</div>"
      ],
      "text/plain": [
       "                                        name platform  year_of_release  \\\n",
       "0                  Call of Duty: Black Ops 3      PS4             2015   \n",
       "1                        Pokemon X/Pokemon Y      3DS             2013   \n",
       "2                               Mario Kart 7      3DS             2011   \n",
       "3                         Grand Theft Auto V      PS4             2014   \n",
       "4  Pokemon Omega Ruby/Pokemon Alpha Sapphire      3DS             2014   \n",
       "\n",
       "          genre  na_sales  eu_sales  jp_sales  other_sales  critic_score  \\\n",
       "0       Shooter      6.03      5.86      0.36         2.38           NaN   \n",
       "1  Role-Playing      5.28      4.19      4.35         0.78           NaN   \n",
       "2        Racing      5.03      4.02      2.69         0.91          85.0   \n",
       "3        Action      3.96      6.31      0.38         1.97          97.0   \n",
       "4  Role-Playing      4.35      3.49      3.10         0.74           NaN   \n",
       "\n",
       "   user_score rating  total_sales  \n",
       "0         NaN    NaN        14.63  \n",
       "1         NaN    NaN        14.60  \n",
       "2         8.2      E        12.65  \n",
       "3         8.3      M        12.62  \n",
       "4         NaN    NaN        11.68  "
      ]
     },
     "execution_count": 54,
     "metadata": {},
     "output_type": "execute_result"
    }
   ],
   "source": [
    "profitable_platforms = pd.Series(platform_dynam['platform'].unique())\n",
    "games_popular = games_actual.loc[games_actual['platform'].isin(profitable_platforms)==True].reset_index(drop=True)\n",
    "games_popular.head()"
   ]
  },
  {
   "cell_type": "code",
   "execution_count": 55,
   "metadata": {},
   "outputs": [
    {
     "data": {
      "text/html": [
       "<div>\n",
       "<style scoped>\n",
       "    .dataframe tbody tr th:only-of-type {\n",
       "        vertical-align: middle;\n",
       "    }\n",
       "\n",
       "    .dataframe tbody tr th {\n",
       "        vertical-align: top;\n",
       "    }\n",
       "\n",
       "    .dataframe thead th {\n",
       "        text-align: right;\n",
       "    }\n",
       "</style>\n",
       "<table border=\"1\" class=\"dataframe\">\n",
       "  <thead>\n",
       "    <tr style=\"text-align: right;\">\n",
       "      <th></th>\n",
       "      <th>platform</th>\n",
       "      <th>name</th>\n",
       "      <th>total_sales</th>\n",
       "    </tr>\n",
       "  </thead>\n",
       "  <tbody>\n",
       "    <tr>\n",
       "      <td>0</td>\n",
       "      <td>3DS</td>\n",
       "      <td>Fire Emblem Fates</td>\n",
       "      <td>1.67</td>\n",
       "    </tr>\n",
       "    <tr>\n",
       "      <td>1</td>\n",
       "      <td>3DS</td>\n",
       "      <td>Frozen: Olaf's Quest</td>\n",
       "      <td>0.59</td>\n",
       "    </tr>\n",
       "    <tr>\n",
       "      <td>2</td>\n",
       "      <td>3DS</td>\n",
       "      <td>12-Sai. Honto no Kimochi</td>\n",
       "      <td>0.07</td>\n",
       "    </tr>\n",
       "    <tr>\n",
       "      <td>3</td>\n",
       "      <td>3DS</td>\n",
       "      <td>50 Classic Games</td>\n",
       "      <td>0.01</td>\n",
       "    </tr>\n",
       "    <tr>\n",
       "      <td>4</td>\n",
       "      <td>3DS</td>\n",
       "      <td>7th Dragon III Code: VFD</td>\n",
       "      <td>0.16</td>\n",
       "    </tr>\n",
       "  </tbody>\n",
       "</table>\n",
       "</div>"
      ],
      "text/plain": [
       "  platform                      name  total_sales\n",
       "0      3DS         Fire Emblem Fates         1.67\n",
       "1      3DS      Frozen: Olaf's Quest         0.59\n",
       "2      3DS  12-Sai. Honto no Kimochi         0.07\n",
       "3      3DS          50 Classic Games         0.01\n",
       "4      3DS  7th Dragon III Code: VFD         0.16"
      ]
     },
     "execution_count": 55,
     "metadata": {},
     "output_type": "execute_result"
    }
   ],
   "source": [
    "# Создадим таблицу, необходимую для построения боксплотов, исключив ненужные столбцы\n",
    "name_sale = games_popular.pivot_table(index=['platform', 'name'], values='total_sales', aggfunc='sum').reset_index()\n",
    "name_sale.head()"
   ]
  },
  {
   "cell_type": "markdown",
   "metadata": {},
   "source": [
    "Построим боксплоты по глобальным продажам каждой игры и разбивкой по платформам."
   ]
  },
  {
   "cell_type": "code",
   "execution_count": 56,
   "metadata": {},
   "outputs": [
    {
     "data": {
      "image/png": "[encoded data removed]",
      "text/plain": [
       "<Figure size 432x432 with 1 Axes>"
      ]
     },
     "metadata": {
      "needs_background": "light"
     },
     "output_type": "display_data"
    }
   ],
   "source": [
    "fig = plt.subplots(figsize=(6,6))\n",
    "plt.title(\"Глобальные продажи игр по наиболее перспективным платформам\")\n",
    "plot = sns.boxplot(x=\"platform\", y=\"total_sales\", data=name_sale, palette='rainbow')\n",
    "plt.xlabel('название платформы')\n",
    "plt.ylabel('суммарные продажи (миллионы долларов)')\n",
    "plt.show()"
   ]
  },
  {
   "cell_type": "markdown",
   "metadata": {},
   "source": [
    "Видим, что на каждой из платформ существует большое количество игр, суммарные продажи по которым выбиваются из квартильных значений. В целом, разница в суммарных продажах игр в рамках каждой из платформ очень велико для 3DS и Playstation4; чуть меньше - для WiiU и XBoxOne; и относительно небольшая - для PlaystationVita. \n",
    "\n",
    "Сравним показатели по наиболее часто встречающимся значениям: для этого нам интересны среднее, медианное и квартильные значения. Построим график в укрупнённом виде, исключив из визуализации выбивающиеся значения."
   ]
  },
  {
   "cell_type": "code",
   "execution_count": 57,
   "metadata": {},
   "outputs": [
    {
     "data": {
      "image/png": "[encoded data removed]",
      "text/plain": [
       "<Figure size 432x432 with 1 Axes>"
      ]
     },
     "metadata": {
      "needs_background": "light"
     },
     "output_type": "display_data"
    }
   ],
   "source": [
    "fig = plt.subplots(figsize=(6,6))\n",
    "plt.title(\"Глобальные продажи игр по наиболее перспективным платформам\")\n",
    "plot = sns.boxplot(x=\"platform\", y=\"total_sales\", data=name_sale, palette='rainbow', showfliers=False)\n",
    "plt.xlabel('название платформы')\n",
    "plt.ylabel('суммарные продажи (миллионы долларов)')\n",
    "plt.show()"
   ]
  },
  {
   "cell_type": "markdown",
   "metadata": {},
   "source": [
    "По всем платформам наблюдается превышение среднего значения над медианным и скос датасетов вправо: для Playstation4 и XBoxOne наиболее сильно, для 3DS и WiiU - чуть меньше, и для PlayStationVita - относительно небольшой. Также видим различия в медианных значениях: игры yf Playstation4 и XBoxOne имеют схожие боксплоты (квартильные, средние и медианные значения), а WiiU характеризуется меньшим значением; затем идёт 3DS и PlayStationVita.\n",
    "\n",
    "Это может быть связано с разнобразием игр на ведущих платформах: поскольку платформы Playstation и XBox достаточно давно приобрели популярность среди потребителей, они могут позволить себе выпуск достаточно ранжированного по цене игрового контента, способного найти \"своего\" потребителя: поэтому их боксплоты шире и растянутее. Wii тоже достаточно старая (в версиях предыдущих поколений), но менее популярная - соответственно разнообразие игр на данной платформе может быть ниже. Что касается PlaystationVita - это консоль с небольшим разнообразием игр, которые, как мы видим по боксплоту, схожи в ценовой категории и по продажам - разброс по данной платформе самый небольшой, и среднее значение не сильно превосходит медианное."
   ]
  },
  {
   "cell_type": "markdown",
   "metadata": {},
   "source": [
    "### Связь отзывов и продаж <a id='step_2.5'></a>"
   ]
  },
  {
   "cell_type": "markdown",
   "metadata": {},
   "source": [
    "#### Популярные платформы"
   ]
  },
  {
   "cell_type": "markdown",
   "metadata": {},
   "source": [
    "Для того, чтобы изучить влияние отзывов пользователей и критиков на продажи, возьмём самые популярные платформы (исходя из суммарных продаж за последние годы), которые мы выделили ранее: 3DS, Playstation4, PlaystationVita, WiiU и XBoxOne."
   ]
  },
  {
   "cell_type": "markdown",
   "metadata": {},
   "source": [
    "Построим диаграмму рассеяния и посчитаем корреляцию между отзывами и продажами."
   ]
  },
  {
   "cell_type": "code",
   "execution_count": 58,
   "metadata": {},
   "outputs": [
    {
     "data": {
      "image/png": "[encoded data removed]",
      "text/plain": [
       "<Figure size 540x540 with 9 Axes>"
      ]
     },
     "metadata": {
      "needs_background": "light"
     },
     "output_type": "display_data"
    }
   ],
   "source": [
    "Scaterplots = sns.PairGrid(games_popular[['critic_score', 'user_score', 'total_sales']])\n",
    "Scaterplots.map(plt.scatter)\n",
    "plt.show()"
   ]
  },
  {
   "cell_type": "code",
   "execution_count": 59,
   "metadata": {},
   "outputs": [
    {
     "data": {
      "text/html": [
       "<div>\n",
       "<style scoped>\n",
       "    .dataframe tbody tr th:only-of-type {\n",
       "        vertical-align: middle;\n",
       "    }\n",
       "\n",
       "    .dataframe tbody tr th {\n",
       "        vertical-align: top;\n",
       "    }\n",
       "\n",
       "    .dataframe thead th {\n",
       "        text-align: right;\n",
       "    }\n",
       "</style>\n",
       "<table border=\"1\" class=\"dataframe\">\n",
       "  <thead>\n",
       "    <tr style=\"text-align: right;\">\n",
       "      <th></th>\n",
       "      <th>year_of_release</th>\n",
       "      <th>na_sales</th>\n",
       "      <th>eu_sales</th>\n",
       "      <th>jp_sales</th>\n",
       "      <th>other_sales</th>\n",
       "      <th>critic_score</th>\n",
       "      <th>user_score</th>\n",
       "      <th>total_sales</th>\n",
       "    </tr>\n",
       "  </thead>\n",
       "  <tbody>\n",
       "    <tr>\n",
       "      <td>year_of_release</td>\n",
       "      <td>1.000000</td>\n",
       "      <td>0.012302</td>\n",
       "      <td>0.039981</td>\n",
       "      <td>-0.061332</td>\n",
       "      <td>0.066248</td>\n",
       "      <td>0.180342</td>\n",
       "      <td>0.079418</td>\n",
       "      <td>0.012636</td>\n",
       "    </tr>\n",
       "    <tr>\n",
       "      <td>na_sales</td>\n",
       "      <td>0.012302</td>\n",
       "      <td>1.000000</td>\n",
       "      <td>0.814383</td>\n",
       "      <td>0.420259</td>\n",
       "      <td>0.844934</td>\n",
       "      <td>0.371084</td>\n",
       "      <td>0.061392</td>\n",
       "      <td>0.933230</td>\n",
       "    </tr>\n",
       "    <tr>\n",
       "      <td>eu_sales</td>\n",
       "      <td>0.039981</td>\n",
       "      <td>0.814383</td>\n",
       "      <td>1.000000</td>\n",
       "      <td>0.370321</td>\n",
       "      <td>0.936405</td>\n",
       "      <td>0.325290</td>\n",
       "      <td>0.030091</td>\n",
       "      <td>0.925988</td>\n",
       "    </tr>\n",
       "    <tr>\n",
       "      <td>jp_sales</td>\n",
       "      <td>-0.061332</td>\n",
       "      <td>0.420259</td>\n",
       "      <td>0.370321</td>\n",
       "      <td>1.000000</td>\n",
       "      <td>0.256919</td>\n",
       "      <td>0.181440</td>\n",
       "      <td>0.211038</td>\n",
       "      <td>0.600657</td>\n",
       "    </tr>\n",
       "    <tr>\n",
       "      <td>other_sales</td>\n",
       "      <td>0.066248</td>\n",
       "      <td>0.844934</td>\n",
       "      <td>0.936405</td>\n",
       "      <td>0.256919</td>\n",
       "      <td>1.000000</td>\n",
       "      <td>0.345165</td>\n",
       "      <td>0.027466</td>\n",
       "      <td>0.892621</td>\n",
       "    </tr>\n",
       "    <tr>\n",
       "      <td>critic_score</td>\n",
       "      <td>0.180342</td>\n",
       "      <td>0.371084</td>\n",
       "      <td>0.325290</td>\n",
       "      <td>0.181440</td>\n",
       "      <td>0.345165</td>\n",
       "      <td>1.000000</td>\n",
       "      <td>0.617767</td>\n",
       "      <td>0.368631</td>\n",
       "    </tr>\n",
       "    <tr>\n",
       "      <td>user_score</td>\n",
       "      <td>0.079418</td>\n",
       "      <td>0.061392</td>\n",
       "      <td>0.030091</td>\n",
       "      <td>0.211038</td>\n",
       "      <td>0.027466</td>\n",
       "      <td>0.617767</td>\n",
       "      <td>1.000000</td>\n",
       "      <td>0.085171</td>\n",
       "    </tr>\n",
       "    <tr>\n",
       "      <td>total_sales</td>\n",
       "      <td>0.012636</td>\n",
       "      <td>0.933230</td>\n",
       "      <td>0.925988</td>\n",
       "      <td>0.600657</td>\n",
       "      <td>0.892621</td>\n",
       "      <td>0.368631</td>\n",
       "      <td>0.085171</td>\n",
       "      <td>1.000000</td>\n",
       "    </tr>\n",
       "  </tbody>\n",
       "</table>\n",
       "</div>"
      ],
      "text/plain": [
       "                 year_of_release  na_sales  eu_sales  jp_sales  other_sales  \\\n",
       "year_of_release         1.000000  0.012302  0.039981 -0.061332     0.066248   \n",
       "na_sales                0.012302  1.000000  0.814383  0.420259     0.844934   \n",
       "eu_sales                0.039981  0.814383  1.000000  0.370321     0.936405   \n",
       "jp_sales               -0.061332  0.420259  0.370321  1.000000     0.256919   \n",
       "other_sales             0.066248  0.844934  0.936405  0.256919     1.000000   \n",
       "critic_score            0.180342  0.371084  0.325290  0.181440     0.345165   \n",
       "user_score              0.079418  0.061392  0.030091  0.211038     0.027466   \n",
       "total_sales             0.012636  0.933230  0.925988  0.600657     0.892621   \n",
       "\n",
       "                 critic_score  user_score  total_sales  \n",
       "year_of_release      0.180342    0.079418     0.012636  \n",
       "na_sales             0.371084    0.061392     0.933230  \n",
       "eu_sales             0.325290    0.030091     0.925988  \n",
       "jp_sales             0.181440    0.211038     0.600657  \n",
       "other_sales          0.345165    0.027466     0.892621  \n",
       "critic_score         1.000000    0.617767     0.368631  \n",
       "user_score           0.617767    1.000000     0.085171  \n",
       "total_sales          0.368631    0.085171     1.000000  "
      ]
     },
     "execution_count": 59,
     "metadata": {},
     "output_type": "execute_result"
    }
   ],
   "source": [
    "Correlation = games_popular.corr()\n",
    "Correlation"
   ]
  },
  {
   "cell_type": "code",
   "execution_count": 60,
   "metadata": {},
   "outputs": [
    {
     "data": {
      "image/png": "[encoded data removed]",
      "text/plain": [
       "<Figure size 432x288 with 2 Axes>"
      ]
     },
     "metadata": {
      "needs_background": "light"
     },
     "output_type": "display_data"
    }
   ],
   "source": [
    "fig, ax = plt.subplots()\n",
    "plt.title(\"Корреляция между основными числовыми данными по продаже игр для популярных платформ\")\n",
    "mask = np.triu(np.ones_like(Correlation, dtype=np.bool))\n",
    "sns.heatmap(Correlation, vmin=-1, vmax=1, linewidths=.3, mask=mask, ax=ax)\n",
    "plt.show()"
   ]
  },
  {
   "cell_type": "markdown",
   "metadata": {},
   "source": [
    "Коэффициент корреляции между Оценкой критиков и Совокупными продажами составил 0,37 (по региональным продажам этот коэффициент примерно схож и близок к 0,32-0,37; кроме Японии - 0,18), что говорит о небольшой зависимости между этими показателями. Этот же вывод мы можем сделать из диаграммы рассеяния: игры с низкими оценками критиков практически не продаются, в то время как игры с высокими оценками имеют больше продаж. С одной стороны, это может быть связано с тем, что люди обращают внимание на оценку игры, прежде чем покупают её (но корреляция невысокая, соответственно, это не ключевой показатель). С другой стороны, возможно, критиками оцениваются не все игры, а наиболее популярные у покупателей (или потенциально популярные - по \"рейтингу ожидания\").\n",
    "\n",
    "Коэффициент корреляции между Оценкой покупателей и Совокупными продажами составил 0,09, что говорит об отсутствии зависимости между этими показателями. При этом диаграмма рассения схожа с диаграммой рассеяния по оценкам критиков продажам, но имеет больший разброс при низких оценках. Возможно, это связано с тем, что потребитель сначала покупает игру, а затем, поиграв, ставит ей оценку, исходя из субъективного впечатления. Таким образом, одна и та же игра может оставить как хорошее, так и плохое впечатление - в зависимости от индивидуальных предпочтений. Интересно заметить, что в Японии ситуация несколько иная: корреляция между отзывами потребителей и продажами составляет 21%. Возможно, потребители в этом регионе более ответственно относятся к покупкам, либо имеют схожий вкус, либо не имеют высоких ожиданий при покупке игры (то есть менее привередливы), либо больше доверяют пользователям, чем критикам; либо это связано с ценовой политикой игр, продающихся в Японии (более близкое к ожиданиям соотношение \"цена-качество\").\n",
    "\n",
    "Тем не менее, связь оценок с сумммами продаж не является сильной. Соответственно, на продажи игр влияют какие-то иные факторы."
   ]
  },
  {
   "cell_type": "markdown",
   "metadata": {},
   "source": [
    "#### Другие платформы"
   ]
  },
  {
   "cell_type": "markdown",
   "metadata": {},
   "source": [
    "Сравним результаты с продажами игр на других платформах."
   ]
  },
  {
   "cell_type": "code",
   "execution_count": 61,
   "metadata": {},
   "outputs": [],
   "source": [
    "games_others = games_actual.loc[games_actual['platform'].isin(profitable_platforms)!=True].reset_index(drop=True)"
   ]
  },
  {
   "cell_type": "markdown",
   "metadata": {},
   "source": [
    "Построим диаграмму рассеяния и посчитаем корреляцию между отзывами и продажами."
   ]
  },
  {
   "cell_type": "code",
   "execution_count": 62,
   "metadata": {},
   "outputs": [
    {
     "data": {
      "image/png": "[encoded data removed]",
      "text/plain": [
       "<Figure size 540x540 with 9 Axes>"
      ]
     },
     "metadata": {
      "needs_background": "light"
     },
     "output_type": "display_data"
    }
   ],
   "source": [
    "Scaterplots = sns.PairGrid(games_others[['critic_score', 'user_score', 'total_sales']])\n",
    "Scaterplots.map(plt.scatter)\n",
    "plt.show()"
   ]
  },
  {
   "cell_type": "code",
   "execution_count": 63,
   "metadata": {},
   "outputs": [
    {
     "data": {
      "text/html": [
       "<div>\n",
       "<style scoped>\n",
       "    .dataframe tbody tr th:only-of-type {\n",
       "        vertical-align: middle;\n",
       "    }\n",
       "\n",
       "    .dataframe tbody tr th {\n",
       "        vertical-align: top;\n",
       "    }\n",
       "\n",
       "    .dataframe thead th {\n",
       "        text-align: right;\n",
       "    }\n",
       "</style>\n",
       "<table border=\"1\" class=\"dataframe\">\n",
       "  <thead>\n",
       "    <tr style=\"text-align: right;\">\n",
       "      <th></th>\n",
       "      <th>year_of_release</th>\n",
       "      <th>na_sales</th>\n",
       "      <th>eu_sales</th>\n",
       "      <th>jp_sales</th>\n",
       "      <th>other_sales</th>\n",
       "      <th>critic_score</th>\n",
       "      <th>user_score</th>\n",
       "      <th>total_sales</th>\n",
       "    </tr>\n",
       "  </thead>\n",
       "  <tbody>\n",
       "    <tr>\n",
       "      <td>year_of_release</td>\n",
       "      <td>1.000000</td>\n",
       "      <td>-0.017218</td>\n",
       "      <td>0.027969</td>\n",
       "      <td>-0.028918</td>\n",
       "      <td>-0.009717</td>\n",
       "      <td>0.123132</td>\n",
       "      <td>-0.158977</td>\n",
       "      <td>-0.004165</td>\n",
       "    </tr>\n",
       "    <tr>\n",
       "      <td>na_sales</td>\n",
       "      <td>-0.017218</td>\n",
       "      <td>1.000000</td>\n",
       "      <td>0.877300</td>\n",
       "      <td>0.450082</td>\n",
       "      <td>0.825826</td>\n",
       "      <td>0.218371</td>\n",
       "      <td>0.075059</td>\n",
       "      <td>0.964343</td>\n",
       "    </tr>\n",
       "    <tr>\n",
       "      <td>eu_sales</td>\n",
       "      <td>0.027969</td>\n",
       "      <td>0.877300</td>\n",
       "      <td>1.000000</td>\n",
       "      <td>0.478400</td>\n",
       "      <td>0.871491</td>\n",
       "      <td>0.220048</td>\n",
       "      <td>0.064120</td>\n",
       "      <td>0.954811</td>\n",
       "    </tr>\n",
       "    <tr>\n",
       "      <td>jp_sales</td>\n",
       "      <td>-0.028918</td>\n",
       "      <td>0.450082</td>\n",
       "      <td>0.478400</td>\n",
       "      <td>1.000000</td>\n",
       "      <td>0.431538</td>\n",
       "      <td>0.133835</td>\n",
       "      <td>0.119592</td>\n",
       "      <td>0.582756</td>\n",
       "    </tr>\n",
       "    <tr>\n",
       "      <td>other_sales</td>\n",
       "      <td>-0.009717</td>\n",
       "      <td>0.825826</td>\n",
       "      <td>0.871491</td>\n",
       "      <td>0.431538</td>\n",
       "      <td>1.000000</td>\n",
       "      <td>0.240112</td>\n",
       "      <td>0.086638</td>\n",
       "      <td>0.893080</td>\n",
       "    </tr>\n",
       "    <tr>\n",
       "      <td>critic_score</td>\n",
       "      <td>0.123132</td>\n",
       "      <td>0.218371</td>\n",
       "      <td>0.220048</td>\n",
       "      <td>0.133835</td>\n",
       "      <td>0.240112</td>\n",
       "      <td>1.000000</td>\n",
       "      <td>0.575726</td>\n",
       "      <td>0.229494</td>\n",
       "    </tr>\n",
       "    <tr>\n",
       "      <td>user_score</td>\n",
       "      <td>-0.158977</td>\n",
       "      <td>0.075059</td>\n",
       "      <td>0.064120</td>\n",
       "      <td>0.119592</td>\n",
       "      <td>0.086638</td>\n",
       "      <td>0.575726</td>\n",
       "      <td>1.000000</td>\n",
       "      <td>0.084108</td>\n",
       "    </tr>\n",
       "    <tr>\n",
       "      <td>total_sales</td>\n",
       "      <td>-0.004165</td>\n",
       "      <td>0.964343</td>\n",
       "      <td>0.954811</td>\n",
       "      <td>0.582756</td>\n",
       "      <td>0.893080</td>\n",
       "      <td>0.229494</td>\n",
       "      <td>0.084108</td>\n",
       "      <td>1.000000</td>\n",
       "    </tr>\n",
       "  </tbody>\n",
       "</table>\n",
       "</div>"
      ],
      "text/plain": [
       "                 year_of_release  na_sales  eu_sales  jp_sales  other_sales  \\\n",
       "year_of_release         1.000000 -0.017218  0.027969 -0.028918    -0.009717   \n",
       "na_sales               -0.017218  1.000000  0.877300  0.450082     0.825826   \n",
       "eu_sales                0.027969  0.877300  1.000000  0.478400     0.871491   \n",
       "jp_sales               -0.028918  0.450082  0.478400  1.000000     0.431538   \n",
       "other_sales            -0.009717  0.825826  0.871491  0.431538     1.000000   \n",
       "critic_score            0.123132  0.218371  0.220048  0.133835     0.240112   \n",
       "user_score             -0.158977  0.075059  0.064120  0.119592     0.086638   \n",
       "total_sales            -0.004165  0.964343  0.954811  0.582756     0.893080   \n",
       "\n",
       "                 critic_score  user_score  total_sales  \n",
       "year_of_release      0.123132   -0.158977    -0.004165  \n",
       "na_sales             0.218371    0.075059     0.964343  \n",
       "eu_sales             0.220048    0.064120     0.954811  \n",
       "jp_sales             0.133835    0.119592     0.582756  \n",
       "other_sales          0.240112    0.086638     0.893080  \n",
       "critic_score         1.000000    0.575726     0.229494  \n",
       "user_score           0.575726    1.000000     0.084108  \n",
       "total_sales          0.229494    0.084108     1.000000  "
      ]
     },
     "execution_count": 63,
     "metadata": {},
     "output_type": "execute_result"
    }
   ],
   "source": [
    "Correlation = games_others.corr()\n",
    "Correlation"
   ]
  },
  {
   "cell_type": "code",
   "execution_count": 64,
   "metadata": {},
   "outputs": [
    {
     "data": {
      "image/png": "[encoded data removed]",
      "text/plain": [
       "<Figure size 432x288 with 2 Axes>"
      ]
     },
     "metadata": {
      "needs_background": "light"
     },
     "output_type": "display_data"
    }
   ],
   "source": [
    "fig, ax = plt.subplots()\n",
    "plt.title(\"Корреляция между основными числовыми данными по продаже игр для непопулярных платформ\")\n",
    "mask = np.triu(np.ones_like(Correlation, dtype=np.bool))\n",
    "sns.heatmap(Correlation, vmin=-1, vmax=1, linewidths=.3, mask=mask, ax=ax)\n",
    "plt.show()"
   ]
  },
  {
   "cell_type": "markdown",
   "metadata": {},
   "source": [
    "Коэффициент корреляции между Оценкой критиков и Совокупными продажами для непопулярных платформ составил 0,23 (по региональным продажам этот коэффициент примерно схож и близок к 0,23, но в Японии составляет 13%), что говорит об еще меньшей зависимости между этими показателями, чем для популярных платформ. Диаграмма рассеяния тоже имеет больше разбросанных значений при средних и низких оценках. Соответственно для игр на непопулярных платформах отзывы критиков менее важны покупателям, чем на популярной платформе. Возможно, это связано и с ценовой политикой. Люди, тратящие большие деньги на игры, более критично относятся к их выбору.\n",
    "\n",
    "Коэффициент корреляции между Оценкой покупателей и Совокупными продажами составил 0,08, что идентично показателю на популярных платформах. Соответственно, на продажи игр влияют какие-то иные факторы."
   ]
  },
  {
   "cell_type": "markdown",
   "metadata": {},
   "source": [
    "### Распределение игр по жанрам <a id='step_2.6'></a>"
   ]
  },
  {
   "cell_type": "markdown",
   "metadata": {},
   "source": [
    "Построим боксплоты по глобальным продажам каждой игры и разбивкой по жанрам."
   ]
  },
  {
   "cell_type": "code",
   "execution_count": 65,
   "metadata": {},
   "outputs": [
    {
     "data": {
      "image/png": "[encoded data removed]",
      "text/plain": [
       "<Figure size 864x432 with 1 Axes>"
      ]
     },
     "metadata": {
      "needs_background": "light"
     },
     "output_type": "display_data"
    }
   ],
   "source": [
    "fig = plt.subplots(figsize=(12,6))\n",
    "plt.title(\"Глобальные продажи игр по жанрам\")\n",
    "plot = sns.boxplot(x=\"genre\", y=\"total_sales\", data=games_actual, palette='rainbow', showfliers=False)\n",
    "plt.xlabel('название жанра')\n",
    "plt.ylabel('суммарные продажи (миллионы долларов)')\n",
    "plt.show()"
   ]
  },
  {
   "cell_type": "markdown",
   "metadata": {},
   "source": [
    "Для выделения наиболее прибыльных жанров и жанров с низкими продажами, выведем таблицу значений по жанрам."
   ]
  },
  {
   "cell_type": "code",
   "execution_count": 66,
   "metadata": {},
   "outputs": [
    {
     "data": {
      "text/html": [
       "<div>\n",
       "<style scoped>\n",
       "    .dataframe tbody tr th:only-of-type {\n",
       "        vertical-align: middle;\n",
       "    }\n",
       "\n",
       "    .dataframe tbody tr th {\n",
       "        vertical-align: top;\n",
       "    }\n",
       "\n",
       "    .dataframe thead th {\n",
       "        text-align: right;\n",
       "    }\n",
       "</style>\n",
       "<table border=\"1\" class=\"dataframe\">\n",
       "  <thead>\n",
       "    <tr style=\"text-align: right;\">\n",
       "      <th></th>\n",
       "      <th>genre</th>\n",
       "      <th>total_sales</th>\n",
       "    </tr>\n",
       "  </thead>\n",
       "  <tbody>\n",
       "    <tr>\n",
       "      <td>0</td>\n",
       "      <td>Action</td>\n",
       "      <td>1086.54</td>\n",
       "    </tr>\n",
       "    <tr>\n",
       "      <td>1</td>\n",
       "      <td>Sports</td>\n",
       "      <td>770.39</td>\n",
       "    </tr>\n",
       "    <tr>\n",
       "      <td>2</td>\n",
       "      <td>Shooter</td>\n",
       "      <td>678.82</td>\n",
       "    </tr>\n",
       "    <tr>\n",
       "      <td>3</td>\n",
       "      <td>Misc</td>\n",
       "      <td>552.26</td>\n",
       "    </tr>\n",
       "    <tr>\n",
       "      <td>4</td>\n",
       "      <td>Role-Playing</td>\n",
       "      <td>504.22</td>\n",
       "    </tr>\n",
       "    <tr>\n",
       "      <td>5</td>\n",
       "      <td>Racing</td>\n",
       "      <td>296.30</td>\n",
       "    </tr>\n",
       "    <tr>\n",
       "      <td>6</td>\n",
       "      <td>Platform</td>\n",
       "      <td>276.51</td>\n",
       "    </tr>\n",
       "    <tr>\n",
       "      <td>7</td>\n",
       "      <td>Simulation</td>\n",
       "      <td>218.76</td>\n",
       "    </tr>\n",
       "    <tr>\n",
       "      <td>8</td>\n",
       "      <td>Fighting</td>\n",
       "      <td>186.95</td>\n",
       "    </tr>\n",
       "    <tr>\n",
       "      <td>9</td>\n",
       "      <td>Adventure</td>\n",
       "      <td>137.53</td>\n",
       "    </tr>\n",
       "    <tr>\n",
       "      <td>10</td>\n",
       "      <td>Puzzle</td>\n",
       "      <td>89.91</td>\n",
       "    </tr>\n",
       "    <tr>\n",
       "      <td>11</td>\n",
       "      <td>Strategy</td>\n",
       "      <td>72.01</td>\n",
       "    </tr>\n",
       "  </tbody>\n",
       "</table>\n",
       "</div>"
      ],
      "text/plain": [
       "           genre  total_sales\n",
       "0         Action      1086.54\n",
       "1         Sports       770.39\n",
       "2        Shooter       678.82\n",
       "3           Misc       552.26\n",
       "4   Role-Playing       504.22\n",
       "5         Racing       296.30\n",
       "6       Platform       276.51\n",
       "7     Simulation       218.76\n",
       "8       Fighting       186.95\n",
       "9      Adventure       137.53\n",
       "10        Puzzle        89.91\n",
       "11      Strategy        72.01"
      ]
     },
     "execution_count": 66,
     "metadata": {},
     "output_type": "execute_result"
    }
   ],
   "source": [
    "(games_actual\n",
    "             .pivot_table(index='genre', values='total_sales', aggfunc='sum')\n",
    "             .sort_values(by='total_sales', ascending=False)\n",
    "             .reset_index()\n",
    ")"
   ]
  },
  {
   "cell_type": "markdown",
   "metadata": {},
   "source": [
    "Самым прибыльным жанром является \"Экшн\", при этом основные покупатели потратили не настолько большую сумму на покупку игр в данном жанре. То есть прибыльность жанра связана с продажей нескольких, выбивающихся, дорогих игр. На втором месте по доходу за анализируемый актуальный период находится жанр \"Спорт\", но для спортивных игр характерна та же ситуация, что и для игр в жанре \"Экшн\": сверхдоходность, скорее всего, связана с продажей каких-то очень дорогих игр,но не является правилом для всего жанра.\n",
    "\n",
    "Иная ситуация с третьей по доходности позицией: жанром \"Шутер\". Это самое доходное, в среднем, направление игр, пользующееся высоким спросом. Средний и медианный уровни продаж этого жанра выше значений по любому другому жанру; а также датасет в разрезе данного жанра сильно скошен вправо (очень много покупателей покупает отдельные игры с высокой ценой), а значит, это перспективное направление для продажи.\n",
    "\n",
    "Стратегии принесли самый низкий доход, но это не значит, что покупатели приобретают в этом жанре самые дешевые игры, в сравнении с другими жанрами. Мы наблюдаем подобную ситуацию как для \"Экшна\" и \"Спорта\", но действующую зеркально. Жанр \"Квест\" имеет схожую со \"Стратегией\" характеристику по продаваемости: они слабо продаются и принесли минимальный доход, но это не самые неперспективные жанры.\n",
    "\n",
    "Самым неперспективным жанром игр для продаж является \"Приключения\". Он на третьем месте с конца по суммарным продажам; и по распределению наибольшее число игр было продана за низшую, по сравнению с другими жанрами, стоимость."
   ]
  },
  {
   "cell_type": "markdown",
   "metadata": {},
   "source": [
    "### Вывод <a id='step_2.7'></a>"
   ]
  },
  {
   "cell_type": "markdown",
   "metadata": {},
   "source": [
    "В процессе данного этапа исследования было выявлено, что в разные годы были популярны (и соответственно, приносили доход) игры на разных платформах. Игры на Playstation набирали популярность с 1994 года, достигли пика по продажам в 1990 году и \"сошли на нет\" в 2002-2003 годах. На замену таким играм в 2000 году пришли игры на Playstation2, достаточно долго (с 2001 по 2005 гг.) лидируя на рынке игр по продажам. На их смену пришли игры на карманных консолях DS, которые с 2004 года набрали моментальную популярность в 2005-2010 гг. Практически в то же время (с 2006 по 2010 гг. с пиком в 2009 г.) были популярны игры на платформе Wii (с самой малоразмерной на тот момент приставкой Nintendo Wii). В те же годы на смену Playstation2 пришли игры на платформе Playstation3, которые продавались максимально хорошо в 2008-2013 гг. Вместе с Playstation3 в те же годы были популярны игры на Xbox360. Примерный срок, за который устаревает платформа, составляет около 8-10 лет. Также следует отметить, что со временем стало появляться больше конкурентоспособных платформ, способных занять нишу и привлечь свою категорию потребителей.\n",
    "\n",
    "Исходя из анализа количества выпущенных игр по годам и анализа продаж по платформам, продажа игр на которых приносит наибольший доход, можем сделать вывод о том, что период до 1994 года не является актуальным для анализа. До 1994 года выходило слишком мало игр, относительно общей выборки; а также не наблюдалось лидирующих по суммарным продажам платформ. Более того, только за последние 10 лет мы наблюдаем и большое количество игр, и большой выбор платформ, которые могут составить друг-другу конкуренцию. В связи с этим, актуальным для анализа срезом данных является период с 2006 по 2015 год.\n",
    "\n",
    "На основе анализа продаж можем сделать прогноз, что потенциально прибыльными в 2017 году будут платформы: 3DS, которая уже несколько лет пользуется популярностью у потребителей игр; Playstation4, только набирающая обороты и приносящая самый высокий доход от продаж; PlaystationVita, не настолько популярная (что может быть связано с меньшим количеством игр на данной платформе), но также потенциально прибыльная в ближайшие 2-3 года; WiiU, являющаяся преемником Wii, которая тоже была достаточно популярна в своё время; а также XBoxOne от компании Microsoft, способная составить конкуренцию Playstation4. При этом наблюдается рост популярности у потребителей игр для Playstation4 и XBoxOne; и снижение спроса на игры на платформах 3DS, PlaystationVita и WiiU, тем не менее, даже они потенциально могут принести достаточно высокий доход до появления аналогов нового поколения.\n",
    "\n",
    "На каждой из платформ существует большое количество игр, суммарные продажи по которым выбиваются из квартильных значений. В целом, разница в суммарных продажах игр в рамках каждой из платформ очень велика для 3DS и Playstation4; чуть меньше - для WiiU и XBoxOne; и относительно небольшая - для PlaystationVita. По всем платформам наблюдается превышение среднего значения над медианным и скос датасетов вправо: для Playstation4 и XBoxOne наиболее сильно, для 3DS и WiiU - чуть меньше, и для PlayStationVita - относительно небольшой. Также видим различия в медианных значениях: игры yf Playstation4 и XBoxOne имеют схожие боксплоты (квартильные, средние и медианные значения), а WiiU характеризуется меньшим значением; затем идёт 3DS и PlayStationVita. Это может быть связано с разнобразием игр на ведущих платформах: поскольку платформы Playstation и XBox достаточно давно приобрели популярность среди потребителей, они могут позволить себе выпуск достаточно ранжированного по цене игрового контента, способного найти \"своего\" потребителя: поэтому их боксплоты шире и растянутее. Wii тоже достаточно старая (в версиях предыдущих поколений), но менее популярная - соответственно разнообразие игр на данной платформе может быть ниже. Что касается PlaystationVita - это консоль с небольшим разнообразием игр, которые, как мы видим по боксплоту, схожи в ценовой категории и по продажам - разброс по данной платформе самый небольшой, и среднее значение не сильно превосходит медианное.\n",
    "\n",
    "При анализе связи между оценкой игры и совокупными продажами было выявлено, что между оценкой критиков и продажами есть слабая связь (во всех регионах, кроме Японии), причём для популярных платформ она чуть сильнее, чем для непопулярных; и между оценкой пользователей и совокупными продажами нет связи (ни для популярных, ни для непопулярных платформ). С одной стороны, это может быть связано с тем, что люди обращают внимание на оценку игры, прежде чем покупают её (но корреляция невысокая, соответственно, это не ключевой показатель). С другой стороны, возможно, критиками оцениваются не все игры, а наиболее популярные у покупателей (или потенциально популярные - по \"рейтингу ожидания\"). В то же время потребитель сначала покупает игру, а затем, поиграв, ставит ей оценку, исходя из субъективного впечатления. Таким образом, одна и та же игра может оставить как хорошее, так и плохое впечатление - в зависимости от индивидуальных предпочтений. Поскольку связь оценок с сумммами продаж не является сильной, мы можем сделать вывод, что на продажи игр влияют какие-то иные факторы.\n",
    "\n",
    "Анализ продаж по жанрам показал, что самым прибыльным жанром является \"Экшн\", но прибыльность жанра связана с продажей нескольких, выбивающихся, дорогих игр. На втором месте по доходу за анализируемый актуальный период находится жанр \"Спорт\", но и для него характерна схожая ситуация. Третьей по доходности позиция - жанр \"Шутер\". Это самое доходное, в среднем, направление игр, пользующееся высоким спросом. Средний и медианный уровни продаж этого жанра выше значений по любому другому жанру; а также датасет в разрезе данного жанра сильно скошен вправо (очень много покупателей покупает отдельные игры с высокой ценой), а значит, это перспективное направление для продажи. Самый низкий доход принёс жанр \"Стратегия\", но это не значит, что покупатели приобретают в этом жанре самые дешевые игры. Мы наблюдаем подобную ситуацию как для \"Экшна\" и \"Спорта\", но действующую зеркально. Жанр \"Квест\" имеет схожую со \"Стратегией\" характеристику по продаваемости: они слабо продаются и принесли минимальный доход, но это не самые неперспективные жанры. Самым неперспективным жанром игр для продаж является \"Приключения\". Он на третьем месте с конца по суммарным продажам; и по распределению наибольшее число игр было продана за низшую, по сравнению с другими жанрами, стоимость."
   ]
  },
  {
   "cell_type": "markdown",
   "metadata": {},
   "source": [
    "## Этап 3. Портрет пользователя в регионах <a id='step_3'></a>"
   ]
  },
  {
   "cell_type": "markdown",
   "metadata": {},
   "source": [
    "### Самые популярные платформы <a id='step_3.1'></a>"
   ]
  },
  {
   "cell_type": "markdown",
   "metadata": {},
   "source": [
    "#### Северная Америка"
   ]
  },
  {
   "cell_type": "code",
   "execution_count": 67,
   "metadata": {},
   "outputs": [
    {
     "data": {
      "text/html": [
       "<div>\n",
       "<style scoped>\n",
       "    .dataframe tbody tr th:only-of-type {\n",
       "        vertical-align: middle;\n",
       "    }\n",
       "\n",
       "    .dataframe tbody tr th {\n",
       "        vertical-align: top;\n",
       "    }\n",
       "\n",
       "    .dataframe thead th {\n",
       "        text-align: right;\n",
       "    }\n",
       "</style>\n",
       "<table border=\"1\" class=\"dataframe\">\n",
       "  <thead>\n",
       "    <tr style=\"text-align: right;\">\n",
       "      <th></th>\n",
       "      <th>platform</th>\n",
       "      <th>na_sales</th>\n",
       "      <th>na_ratio</th>\n",
       "    </tr>\n",
       "  </thead>\n",
       "  <tbody>\n",
       "    <tr>\n",
       "      <td>0</td>\n",
       "      <td>X360</td>\n",
       "      <td>588.15</td>\n",
       "      <td>0.251</td>\n",
       "    </tr>\n",
       "    <tr>\n",
       "      <td>1</td>\n",
       "      <td>Wii</td>\n",
       "      <td>486.81</td>\n",
       "      <td>0.208</td>\n",
       "    </tr>\n",
       "    <tr>\n",
       "      <td>2</td>\n",
       "      <td>PS3</td>\n",
       "      <td>389.46</td>\n",
       "      <td>0.166</td>\n",
       "    </tr>\n",
       "    <tr>\n",
       "      <td>3</td>\n",
       "      <td>DS</td>\n",
       "      <td>324.00</td>\n",
       "      <td>0.138</td>\n",
       "    </tr>\n",
       "    <tr>\n",
       "      <td>4</td>\n",
       "      <td>PS2</td>\n",
       "      <td>116.46</td>\n",
       "      <td>0.050</td>\n",
       "    </tr>\n",
       "  </tbody>\n",
       "</table>\n",
       "</div>"
      ],
      "text/plain": [
       "  platform  na_sales  na_ratio\n",
       "0     X360    588.15     0.251\n",
       "1      Wii    486.81     0.208\n",
       "2      PS3    389.46     0.166\n",
       "3       DS    324.00     0.138\n",
       "4      PS2    116.46     0.050"
      ]
     },
     "execution_count": 67,
     "metadata": {},
     "output_type": "execute_result"
    }
   ],
   "source": [
    "na_popular_games = (games_actual\n",
    "                                .pivot_table(index='platform', values='na_sales', aggfunc='sum')\n",
    "                                .sort_values(by='na_sales', ascending=False)\n",
    "                                .reset_index()\n",
    "                   )\n",
    "na_popular_games['na_ratio'] = round(na_popular_games['na_sales'] / sum(na_popular_games['na_sales']), 3)\n",
    "na_mostpopular_games = na_popular_games.head()\n",
    "na_mostpopular_games"
   ]
  },
  {
   "cell_type": "markdown",
   "metadata": {},
   "source": [
    "В Северной Америке наиболее продаваемыми играми за анализируемый период являются игры на платформе XBox360, Wii, Playstation3, DS и Playstation2.\n",
    "\n",
    "Рассмотрим также продаваемость игр на выделенных ранее наиболее перспективных платформах."
   ]
  },
  {
   "cell_type": "code",
   "execution_count": 68,
   "metadata": {},
   "outputs": [
    {
     "data": {
      "text/html": [
       "<div>\n",
       "<style scoped>\n",
       "    .dataframe tbody tr th:only-of-type {\n",
       "        vertical-align: middle;\n",
       "    }\n",
       "\n",
       "    .dataframe tbody tr th {\n",
       "        vertical-align: top;\n",
       "    }\n",
       "\n",
       "    .dataframe thead th {\n",
       "        text-align: right;\n",
       "    }\n",
       "</style>\n",
       "<table border=\"1\" class=\"dataframe\">\n",
       "  <thead>\n",
       "    <tr style=\"text-align: right;\">\n",
       "      <th></th>\n",
       "      <th>platform</th>\n",
       "      <th>na_sales</th>\n",
       "      <th>na_ratio</th>\n",
       "    </tr>\n",
       "  </thead>\n",
       "  <tbody>\n",
       "    <tr>\n",
       "      <td>5</td>\n",
       "      <td>PS4</td>\n",
       "      <td>87.25</td>\n",
       "      <td>0.037</td>\n",
       "    </tr>\n",
       "    <tr>\n",
       "      <td>7</td>\n",
       "      <td>XOne</td>\n",
       "      <td>78.85</td>\n",
       "      <td>0.034</td>\n",
       "    </tr>\n",
       "    <tr>\n",
       "      <td>8</td>\n",
       "      <td>3DS</td>\n",
       "      <td>78.51</td>\n",
       "      <td>0.034</td>\n",
       "    </tr>\n",
       "    <tr>\n",
       "      <td>10</td>\n",
       "      <td>WiiU</td>\n",
       "      <td>36.00</td>\n",
       "      <td>0.015</td>\n",
       "    </tr>\n",
       "    <tr>\n",
       "      <td>11</td>\n",
       "      <td>PSV</td>\n",
       "      <td>12.32</td>\n",
       "      <td>0.005</td>\n",
       "    </tr>\n",
       "  </tbody>\n",
       "</table>\n",
       "</div>"
      ],
      "text/plain": [
       "   platform  na_sales  na_ratio\n",
       "5       PS4     87.25     0.037\n",
       "7      XOne     78.85     0.034\n",
       "8       3DS     78.51     0.034\n",
       "10     WiiU     36.00     0.015\n",
       "11      PSV     12.32     0.005"
      ]
     },
     "execution_count": 68,
     "metadata": {},
     "output_type": "execute_result"
    }
   ],
   "source": [
    "na_persp_games = na_popular_games.loc[na_popular_games['platform'].isin(profitable_platforms)==True]\n",
    "na_persp_games"
   ]
  },
  {
   "cell_type": "markdown",
   "metadata": {},
   "source": [
    "Наиболее популярными играми на перспективных платформах в Северной Америке являются игры на Playstation4, затем - XBoxOne, после них - 3DS, WiiU и, наконец, PlaystationVita."
   ]
  },
  {
   "cell_type": "markdown",
   "metadata": {},
   "source": [
    "#### Европа"
   ]
  },
  {
   "cell_type": "code",
   "execution_count": 69,
   "metadata": {},
   "outputs": [
    {
     "data": {
      "text/html": [
       "<div>\n",
       "<style scoped>\n",
       "    .dataframe tbody tr th:only-of-type {\n",
       "        vertical-align: middle;\n",
       "    }\n",
       "\n",
       "    .dataframe tbody tr th {\n",
       "        vertical-align: top;\n",
       "    }\n",
       "\n",
       "    .dataframe thead th {\n",
       "        text-align: right;\n",
       "    }\n",
       "</style>\n",
       "<table border=\"1\" class=\"dataframe\">\n",
       "  <thead>\n",
       "    <tr style=\"text-align: right;\">\n",
       "      <th></th>\n",
       "      <th>platform</th>\n",
       "      <th>eu_sales</th>\n",
       "      <th>eu_ratio</th>\n",
       "    </tr>\n",
       "  </thead>\n",
       "  <tbody>\n",
       "    <tr>\n",
       "      <td>0</td>\n",
       "      <td>PS3</td>\n",
       "      <td>325.95</td>\n",
       "      <td>0.225</td>\n",
       "    </tr>\n",
       "    <tr>\n",
       "      <td>1</td>\n",
       "      <td>X360</td>\n",
       "      <td>267.23</td>\n",
       "      <td>0.185</td>\n",
       "    </tr>\n",
       "    <tr>\n",
       "      <td>2</td>\n",
       "      <td>Wii</td>\n",
       "      <td>258.21</td>\n",
       "      <td>0.179</td>\n",
       "    </tr>\n",
       "    <tr>\n",
       "      <td>3</td>\n",
       "      <td>DS</td>\n",
       "      <td>142.99</td>\n",
       "      <td>0.099</td>\n",
       "    </tr>\n",
       "    <tr>\n",
       "      <td>4</td>\n",
       "      <td>PS4</td>\n",
       "      <td>109.31</td>\n",
       "      <td>0.076</td>\n",
       "    </tr>\n",
       "  </tbody>\n",
       "</table>\n",
       "</div>"
      ],
      "text/plain": [
       "  platform  eu_sales  eu_ratio\n",
       "0      PS3    325.95     0.225\n",
       "1     X360    267.23     0.185\n",
       "2      Wii    258.21     0.179\n",
       "3       DS    142.99     0.099\n",
       "4      PS4    109.31     0.076"
      ]
     },
     "execution_count": 69,
     "metadata": {},
     "output_type": "execute_result"
    }
   ],
   "source": [
    "eu_popular_games = (games_actual\n",
    "                                .pivot_table(index='platform', values='eu_sales', aggfunc='sum')\n",
    "                                .sort_values(by='eu_sales', ascending=False)\n",
    "                                .reset_index()\n",
    "                   )\n",
    "eu_popular_games['eu_ratio'] = round(eu_popular_games['eu_sales'] / sum(eu_popular_games['eu_sales']), 3)\n",
    "eu_mostpopular_games = eu_popular_games.head()\n",
    "eu_mostpopular_games"
   ]
  },
  {
   "cell_type": "markdown",
   "metadata": {},
   "source": [
    "В Европе наиболее продаваемыми играми за анализируемый период являются игры на платформе Playstation3, XBox360, Wii, DS и Playstation4.\n",
    "\n",
    "Рассмотрим также продаваемость игр на выделенных ранее наиболее перспективных платформах (из них Playstation4 попала в ТОП5)."
   ]
  },
  {
   "cell_type": "code",
   "execution_count": 70,
   "metadata": {},
   "outputs": [
    {
     "data": {
      "text/html": [
       "<div>\n",
       "<style scoped>\n",
       "    .dataframe tbody tr th:only-of-type {\n",
       "        vertical-align: middle;\n",
       "    }\n",
       "\n",
       "    .dataframe tbody tr th {\n",
       "        vertical-align: top;\n",
       "    }\n",
       "\n",
       "    .dataframe thead th {\n",
       "        text-align: right;\n",
       "    }\n",
       "</style>\n",
       "<table border=\"1\" class=\"dataframe\">\n",
       "  <thead>\n",
       "    <tr style=\"text-align: right;\">\n",
       "      <th></th>\n",
       "      <th>platform</th>\n",
       "      <th>eu_sales</th>\n",
       "      <th>eu_ratio</th>\n",
       "    </tr>\n",
       "  </thead>\n",
       "  <tbody>\n",
       "    <tr>\n",
       "      <td>4</td>\n",
       "      <td>PS4</td>\n",
       "      <td>109.31</td>\n",
       "      <td>0.076</td>\n",
       "    </tr>\n",
       "    <tr>\n",
       "      <td>6</td>\n",
       "      <td>3DS</td>\n",
       "      <td>58.94</td>\n",
       "      <td>0.041</td>\n",
       "    </tr>\n",
       "    <tr>\n",
       "      <td>9</td>\n",
       "      <td>XOne</td>\n",
       "      <td>41.96</td>\n",
       "      <td>0.029</td>\n",
       "    </tr>\n",
       "    <tr>\n",
       "      <td>10</td>\n",
       "      <td>WiiU</td>\n",
       "      <td>23.65</td>\n",
       "      <td>0.016</td>\n",
       "    </tr>\n",
       "    <tr>\n",
       "      <td>11</td>\n",
       "      <td>PSV</td>\n",
       "      <td>12.68</td>\n",
       "      <td>0.009</td>\n",
       "    </tr>\n",
       "  </tbody>\n",
       "</table>\n",
       "</div>"
      ],
      "text/plain": [
       "   platform  eu_sales  eu_ratio\n",
       "4       PS4    109.31     0.076\n",
       "6       3DS     58.94     0.041\n",
       "9      XOne     41.96     0.029\n",
       "10     WiiU     23.65     0.016\n",
       "11      PSV     12.68     0.009"
      ]
     },
     "execution_count": 70,
     "metadata": {},
     "output_type": "execute_result"
    }
   ],
   "source": [
    "eu_persp_games = eu_popular_games.loc[eu_popular_games['platform'].isin(profitable_platforms)==True]\n",
    "eu_persp_games"
   ]
  },
  {
   "cell_type": "markdown",
   "metadata": {},
   "source": [
    "Наиболее популярными играми на перспективных платформах в Европе являются игры на Playstation4 (попали в ТОП5 по продаваемости из всех платформ за актуальный период), затем - 3DS, после них - XBoxone, WiiU и, наконец, PlaystationVita."
   ]
  },
  {
   "cell_type": "markdown",
   "metadata": {},
   "source": [
    "#### Япония"
   ]
  },
  {
   "cell_type": "code",
   "execution_count": 71,
   "metadata": {},
   "outputs": [
    {
     "data": {
      "text/html": [
       "<div>\n",
       "<style scoped>\n",
       "    .dataframe tbody tr th:only-of-type {\n",
       "        vertical-align: middle;\n",
       "    }\n",
       "\n",
       "    .dataframe tbody tr th {\n",
       "        vertical-align: top;\n",
       "    }\n",
       "\n",
       "    .dataframe thead th {\n",
       "        text-align: right;\n",
       "    }\n",
       "</style>\n",
       "<table border=\"1\" class=\"dataframe\">\n",
       "  <thead>\n",
       "    <tr style=\"text-align: right;\">\n",
       "      <th></th>\n",
       "      <th>platform</th>\n",
       "      <th>jp_sales</th>\n",
       "      <th>jp_ratio</th>\n",
       "    </tr>\n",
       "  </thead>\n",
       "  <tbody>\n",
       "    <tr>\n",
       "      <td>0</td>\n",
       "      <td>DS</td>\n",
       "      <td>141.49</td>\n",
       "      <td>0.261</td>\n",
       "    </tr>\n",
       "    <tr>\n",
       "      <td>1</td>\n",
       "      <td>3DS</td>\n",
       "      <td>92.59</td>\n",
       "      <td>0.171</td>\n",
       "    </tr>\n",
       "    <tr>\n",
       "      <td>2</td>\n",
       "      <td>PS3</td>\n",
       "      <td>78.11</td>\n",
       "      <td>0.144</td>\n",
       "    </tr>\n",
       "    <tr>\n",
       "      <td>3</td>\n",
       "      <td>PSP</td>\n",
       "      <td>70.63</td>\n",
       "      <td>0.130</td>\n",
       "    </tr>\n",
       "    <tr>\n",
       "      <td>4</td>\n",
       "      <td>Wii</td>\n",
       "      <td>68.28</td>\n",
       "      <td>0.126</td>\n",
       "    </tr>\n",
       "  </tbody>\n",
       "</table>\n",
       "</div>"
      ],
      "text/plain": [
       "  platform  jp_sales  jp_ratio\n",
       "0       DS    141.49     0.261\n",
       "1      3DS     92.59     0.171\n",
       "2      PS3     78.11     0.144\n",
       "3      PSP     70.63     0.130\n",
       "4      Wii     68.28     0.126"
      ]
     },
     "execution_count": 71,
     "metadata": {},
     "output_type": "execute_result"
    }
   ],
   "source": [
    "jp_popular_games = (games_actual\n",
    "                                .pivot_table(index='platform', values='jp_sales', aggfunc='sum')\n",
    "                                .sort_values(by='jp_sales', ascending=False)\n",
    "                                .reset_index()\n",
    "                   )\n",
    "jp_popular_games['jp_ratio'] = round(jp_popular_games['jp_sales'] / sum(jp_popular_games['jp_sales']), 3)\n",
    "jp_mostpopular_games = jp_popular_games.head()\n",
    "jp_mostpopular_games"
   ]
  },
  {
   "cell_type": "markdown",
   "metadata": {},
   "source": [
    "В Японии наиболее продаваемыми играми за анализируемый период являются игры на платформе DS, 3DS, Playstation3, PlaystationPortable, Wii.\n",
    "\n",
    "Рассмотрим также продаваемость игр на выделенных ранее наиболее перспективных платформах (из них 3DS попала в ТОП5 и заняла второе место)."
   ]
  },
  {
   "cell_type": "code",
   "execution_count": 72,
   "metadata": {},
   "outputs": [
    {
     "data": {
      "text/html": [
       "<div>\n",
       "<style scoped>\n",
       "    .dataframe tbody tr th:only-of-type {\n",
       "        vertical-align: middle;\n",
       "    }\n",
       "\n",
       "    .dataframe tbody tr th {\n",
       "        vertical-align: top;\n",
       "    }\n",
       "\n",
       "    .dataframe thead th {\n",
       "        text-align: right;\n",
       "    }\n",
       "</style>\n",
       "<table border=\"1\" class=\"dataframe\">\n",
       "  <thead>\n",
       "    <tr style=\"text-align: right;\">\n",
       "      <th></th>\n",
       "      <th>platform</th>\n",
       "      <th>jp_sales</th>\n",
       "      <th>jp_ratio</th>\n",
       "    </tr>\n",
       "  </thead>\n",
       "  <tbody>\n",
       "    <tr>\n",
       "      <td>1</td>\n",
       "      <td>3DS</td>\n",
       "      <td>92.59</td>\n",
       "      <td>0.171</td>\n",
       "    </tr>\n",
       "    <tr>\n",
       "      <td>6</td>\n",
       "      <td>PSV</td>\n",
       "      <td>18.28</td>\n",
       "      <td>0.034</td>\n",
       "    </tr>\n",
       "    <tr>\n",
       "      <td>7</td>\n",
       "      <td>WiiU</td>\n",
       "      <td>12.34</td>\n",
       "      <td>0.023</td>\n",
       "    </tr>\n",
       "    <tr>\n",
       "      <td>9</td>\n",
       "      <td>PS4</td>\n",
       "      <td>10.22</td>\n",
       "      <td>0.019</td>\n",
       "    </tr>\n",
       "    <tr>\n",
       "      <td>11</td>\n",
       "      <td>XOne</td>\n",
       "      <td>0.33</td>\n",
       "      <td>0.001</td>\n",
       "    </tr>\n",
       "  </tbody>\n",
       "</table>\n",
       "</div>"
      ],
      "text/plain": [
       "   platform  jp_sales  jp_ratio\n",
       "1       3DS     92.59     0.171\n",
       "6       PSV     18.28     0.034\n",
       "7      WiiU     12.34     0.023\n",
       "9       PS4     10.22     0.019\n",
       "11     XOne      0.33     0.001"
      ]
     },
     "execution_count": 72,
     "metadata": {},
     "output_type": "execute_result"
    }
   ],
   "source": [
    "jp_persp_games = jp_popular_games.loc[jp_popular_games['platform'].isin(profitable_platforms)==True]\n",
    "jp_persp_games"
   ]
  },
  {
   "cell_type": "markdown",
   "metadata": {},
   "source": [
    "Наиболее популярными играми на перспективных платформах в Японии являются игры на 3DS (заняла второе место по продаваемости из всех платформ за актуальный период), затем - PlaystationVita, после них - WiiU и, наконец, Playstation4. Игры на платформе XBoxOne в Японии не продаются (возможно, они вовсе не представлены на рынке; либо не пользуются спросом)."
   ]
  },
  {
   "cell_type": "markdown",
   "metadata": {},
   "source": [
    "#### Сопоставление регионов"
   ]
  },
  {
   "cell_type": "markdown",
   "metadata": {},
   "source": [
    "Сведём доли продаж по популярным платформам в регионах в единую таблицу и сравним показатели."
   ]
  },
  {
   "cell_type": "code",
   "execution_count": 73,
   "metadata": {},
   "outputs": [
    {
     "data": {
      "text/html": [
       "<div>\n",
       "<style scoped>\n",
       "    .dataframe tbody tr th:only-of-type {\n",
       "        vertical-align: middle;\n",
       "    }\n",
       "\n",
       "    .dataframe tbody tr th {\n",
       "        vertical-align: top;\n",
       "    }\n",
       "\n",
       "    .dataframe thead th {\n",
       "        text-align: right;\n",
       "    }\n",
       "</style>\n",
       "<table border=\"1\" class=\"dataframe\">\n",
       "  <thead>\n",
       "    <tr style=\"text-align: right;\">\n",
       "      <th></th>\n",
       "      <th>platform</th>\n",
       "      <th>na_ratio</th>\n",
       "      <th>eu_ratio</th>\n",
       "      <th>jp_ratio</th>\n",
       "    </tr>\n",
       "  </thead>\n",
       "  <tbody>\n",
       "    <tr>\n",
       "      <td>0</td>\n",
       "      <td>3DS</td>\n",
       "      <td>NaN</td>\n",
       "      <td>NaN</td>\n",
       "      <td>0.171</td>\n",
       "    </tr>\n",
       "    <tr>\n",
       "      <td>1</td>\n",
       "      <td>DS</td>\n",
       "      <td>0.138</td>\n",
       "      <td>0.099</td>\n",
       "      <td>0.261</td>\n",
       "    </tr>\n",
       "    <tr>\n",
       "      <td>2</td>\n",
       "      <td>PS2</td>\n",
       "      <td>0.050</td>\n",
       "      <td>NaN</td>\n",
       "      <td>NaN</td>\n",
       "    </tr>\n",
       "    <tr>\n",
       "      <td>3</td>\n",
       "      <td>PS3</td>\n",
       "      <td>0.166</td>\n",
       "      <td>0.225</td>\n",
       "      <td>0.144</td>\n",
       "    </tr>\n",
       "    <tr>\n",
       "      <td>4</td>\n",
       "      <td>PS4</td>\n",
       "      <td>NaN</td>\n",
       "      <td>0.076</td>\n",
       "      <td>NaN</td>\n",
       "    </tr>\n",
       "    <tr>\n",
       "      <td>5</td>\n",
       "      <td>PSP</td>\n",
       "      <td>NaN</td>\n",
       "      <td>NaN</td>\n",
       "      <td>0.130</td>\n",
       "    </tr>\n",
       "    <tr>\n",
       "      <td>6</td>\n",
       "      <td>Wii</td>\n",
       "      <td>0.208</td>\n",
       "      <td>0.179</td>\n",
       "      <td>0.126</td>\n",
       "    </tr>\n",
       "    <tr>\n",
       "      <td>7</td>\n",
       "      <td>X360</td>\n",
       "      <td>0.251</td>\n",
       "      <td>0.185</td>\n",
       "      <td>NaN</td>\n",
       "    </tr>\n",
       "  </tbody>\n",
       "</table>\n",
       "</div>"
      ],
      "text/plain": [
       "  platform  na_ratio  eu_ratio  jp_ratio\n",
       "0      3DS       NaN       NaN     0.171\n",
       "1       DS     0.138     0.099     0.261\n",
       "2      PS2     0.050       NaN       NaN\n",
       "3      PS3     0.166     0.225     0.144\n",
       "4      PS4       NaN     0.076       NaN\n",
       "5      PSP       NaN       NaN     0.130\n",
       "6      Wii     0.208     0.179     0.126\n",
       "7     X360     0.251     0.185       NaN"
      ]
     },
     "execution_count": 73,
     "metadata": {},
     "output_type": "execute_result"
    }
   ],
   "source": [
    "mostpopular_games = na_mostpopular_games.merge(eu_mostpopular_games, on=['platform'], how='outer')\n",
    "mostpopular_games = mostpopular_games.merge(jp_mostpopular_games, on=['platform'], how='outer')\n",
    "mostpopular_games.drop(['na_sales', 'eu_sales', 'jp_sales'], axis='columns', inplace=True)\n",
    "mostpopular_games.sort_values(by='platform').reset_index(drop=True)"
   ]
  },
  {
   "cell_type": "code",
   "execution_count": 74,
   "metadata": {
    "scrolled": true
   },
   "outputs": [
    {
     "data": {
      "image/png": "[encoded data removed]",
      "text/plain": [
       "<Figure size 432x288 with 1 Axes>"
      ]
     },
     "metadata": {
      "needs_background": "light"
     },
     "output_type": "display_data"
    }
   ],
   "source": [
    "fig, ax = plt.subplots()\n",
    "ax.set(title='Доля продаж игр на наиболее популярных платформах по регионам',\n",
    "       xlabel='название платформы', ylabel='доля продаж')\n",
    "x1 = np.arange(1,9) - 0.3\n",
    "x2 = np.arange(1,9)\n",
    "x3 = np.arange(1,9) + 0.3\n",
    "plt.xticks([1, 2, 3, 4, 5, 6, 7, 8], ['X360', 'Wii', 'PS3', 'DS', 'PS2', 'PS4', '3DS', 'PSP'])\n",
    "ax.bar(x1, mostpopular_games['na_ratio'], width=0.3, label='Северная Америка')\n",
    "ax.bar(x2, mostpopular_games['eu_ratio'], width=0.3, label='Европа')\n",
    "ax.bar(x3, mostpopular_games['jp_ratio'], width=0.3, label='Япония')\n",
    "ax.grid=True\n",
    "ax.legend(bbox_to_anchor=(1.45, 1), frameon=True, loc='upper right')\n",
    "plt.show()"
   ]
  },
  {
   "cell_type": "markdown",
   "metadata": {},
   "source": [
    "В Северной Америке наиболее популярны игры на платформе XBox360 (доля продаж 25%), на этой же платформе достаточно популярны игры в Европе (18% от всех продаж по региону), а в Японии они не продавались. В Европе самыми популярными являются игры на Playstation3 (23% от продаж по региону), на этой же платформе достаточно популярны игры в Северной Америке (доля продаж 17%) и в Японии (доля подаж 14%). В Японии наиболее продаваемыми являются игры на платформе DS (продажи составили 26%), платформа менее популярна в Северной Америке (14% от всех продаж) и Европе (10% от продаж). Также достаточно популярны во всех регионах игры на платформе Wii: в Северной Америке продажи составили 21% (второе место по популярности среди платформ), в Европе - 18% (делит 2-3 место с XBox360), в Японии - 13% (делит 4-5 место с PlaystationPortable).\n",
    "\n",
    "Также существуют игры на платформах, ставших наиболее популярными только в одном регионе: Playstation2 для Северной Америки; Playstation4 для Европы; 3DS и PlaystatonPortable для Японии."
   ]
  },
  {
   "cell_type": "markdown",
   "metadata": {},
   "source": [
    "Сведём доли продаж по потенциально прибыльным платформам в регионах в единую таблицу и сравним показатели."
   ]
  },
  {
   "cell_type": "code",
   "execution_count": 75,
   "metadata": {},
   "outputs": [
    {
     "data": {
      "text/html": [
       "<div>\n",
       "<style scoped>\n",
       "    .dataframe tbody tr th:only-of-type {\n",
       "        vertical-align: middle;\n",
       "    }\n",
       "\n",
       "    .dataframe tbody tr th {\n",
       "        vertical-align: top;\n",
       "    }\n",
       "\n",
       "    .dataframe thead th {\n",
       "        text-align: right;\n",
       "    }\n",
       "</style>\n",
       "<table border=\"1\" class=\"dataframe\">\n",
       "  <thead>\n",
       "    <tr style=\"text-align: right;\">\n",
       "      <th></th>\n",
       "      <th>platform</th>\n",
       "      <th>na_ratio</th>\n",
       "      <th>eu_ratio</th>\n",
       "      <th>jp_ratio</th>\n",
       "    </tr>\n",
       "  </thead>\n",
       "  <tbody>\n",
       "    <tr>\n",
       "      <td>0</td>\n",
       "      <td>3DS</td>\n",
       "      <td>0.034</td>\n",
       "      <td>0.041</td>\n",
       "      <td>0.171</td>\n",
       "    </tr>\n",
       "    <tr>\n",
       "      <td>1</td>\n",
       "      <td>PS4</td>\n",
       "      <td>0.037</td>\n",
       "      <td>0.076</td>\n",
       "      <td>0.019</td>\n",
       "    </tr>\n",
       "    <tr>\n",
       "      <td>2</td>\n",
       "      <td>PSV</td>\n",
       "      <td>0.005</td>\n",
       "      <td>0.009</td>\n",
       "      <td>0.034</td>\n",
       "    </tr>\n",
       "    <tr>\n",
       "      <td>3</td>\n",
       "      <td>WiiU</td>\n",
       "      <td>0.015</td>\n",
       "      <td>0.016</td>\n",
       "      <td>0.023</td>\n",
       "    </tr>\n",
       "    <tr>\n",
       "      <td>4</td>\n",
       "      <td>XOne</td>\n",
       "      <td>0.034</td>\n",
       "      <td>0.029</td>\n",
       "      <td>0.001</td>\n",
       "    </tr>\n",
       "  </tbody>\n",
       "</table>\n",
       "</div>"
      ],
      "text/plain": [
       "  platform  na_ratio  eu_ratio  jp_ratio\n",
       "0      3DS     0.034     0.041     0.171\n",
       "1      PS4     0.037     0.076     0.019\n",
       "2      PSV     0.005     0.009     0.034\n",
       "3     WiiU     0.015     0.016     0.023\n",
       "4     XOne     0.034     0.029     0.001"
      ]
     },
     "execution_count": 75,
     "metadata": {},
     "output_type": "execute_result"
    }
   ],
   "source": [
    "persp_games = na_persp_games.merge(eu_persp_games, on=['platform'], how='outer')\n",
    "persp_games = persp_games.merge(jp_persp_games, on=['platform'], how='outer')\n",
    "persp_games.drop(['na_sales', 'eu_sales', 'jp_sales'], axis='columns', inplace=True)\n",
    "persp_games.sort_values(by='platform').reset_index(drop=True)"
   ]
  },
  {
   "cell_type": "code",
   "execution_count": 76,
   "metadata": {
    "scrolled": true
   },
   "outputs": [
    {
     "data": {
      "image/png": "[encoded data removed]",
      "text/plain": [
       "<Figure size 432x288 with 1 Axes>"
      ]
     },
     "metadata": {
      "needs_background": "light"
     },
     "output_type": "display_data"
    }
   ],
   "source": [
    "fig, ax = plt.subplots()\n",
    "ax.set(title='Доля продаж игр на наиболее перспективных платформах по регионам',\n",
    "       xlabel='название платформы', ylabel='доля продаж')\n",
    "x1 = np.arange(1,6) - 0.3\n",
    "x2 = np.arange(1,6)\n",
    "x3 = np.arange(1,6) + 0.3\n",
    "plt.xticks([1, 2, 3, 4, 5], ['PS4', 'XOne', '3DS', 'WiiU', 'PSV'])\n",
    "ax.bar(x1, persp_games['na_ratio'], width=0.3, label='Северная Америка')\n",
    "ax.bar(x2, persp_games['eu_ratio'], width=0.3, label='Европа')\n",
    "ax.bar(x3, persp_games['jp_ratio'], width=0.3, label='Япония')\n",
    "ax.grid=True\n",
    "ax.legend(bbox_to_anchor=(1.45, 1), frameon=True, loc='upper right')\n",
    "plt.show()"
   ]
  },
  {
   "cell_type": "markdown",
   "metadata": {},
   "source": [
    "По перспективным для 2017 года платформам наблюдаем следующие распределения долей по продажам в регионах. В Северной Америке и Европе наиболее популярна Playstation4 (4% от продаж и 8% от продаж, соответственно по регионам). В Японии самой популярной является 3DS (17%), которая в других регионах занимет второе место из перспективных (3% в Северной Америке и 4% в Европе). Также в Северной Америке и Европе популярна платформа XBoxOne, игры на которой не продаются в Японии.\n",
    "\n",
    "Небольшие процены по продажам говорят о том, что игры на платформах только набирают популярность. Но есть и те, которые при своём росте продаж уже занимают ведущие места среди всех ранее продаваемых платформ (Playstation4 для Европы и 3DS для Японии)."
   ]
  },
  {
   "cell_type": "markdown",
   "metadata": {},
   "source": [
    "### Самые популярные жанры <a id='step_3.2'></a>"
   ]
  },
  {
   "cell_type": "markdown",
   "metadata": {},
   "source": [
    "#### Северная Америка"
   ]
  },
  {
   "cell_type": "code",
   "execution_count": 77,
   "metadata": {},
   "outputs": [
    {
     "data": {
      "text/html": [
       "<div>\n",
       "<style scoped>\n",
       "    .dataframe tbody tr th:only-of-type {\n",
       "        vertical-align: middle;\n",
       "    }\n",
       "\n",
       "    .dataframe tbody tr th {\n",
       "        vertical-align: top;\n",
       "    }\n",
       "\n",
       "    .dataframe thead th {\n",
       "        text-align: right;\n",
       "    }\n",
       "</style>\n",
       "<table border=\"1\" class=\"dataframe\">\n",
       "  <thead>\n",
       "    <tr style=\"text-align: right;\">\n",
       "      <th></th>\n",
       "      <th>genre</th>\n",
       "      <th>na_sales</th>\n",
       "      <th>na_ratio</th>\n",
       "    </tr>\n",
       "  </thead>\n",
       "  <tbody>\n",
       "    <tr>\n",
       "      <td>0</td>\n",
       "      <td>Action</td>\n",
       "      <td>521.15</td>\n",
       "      <td>0.222</td>\n",
       "    </tr>\n",
       "    <tr>\n",
       "      <td>1</td>\n",
       "      <td>Sports</td>\n",
       "      <td>389.12</td>\n",
       "      <td>0.166</td>\n",
       "    </tr>\n",
       "    <tr>\n",
       "      <td>2</td>\n",
       "      <td>Shooter</td>\n",
       "      <td>356.89</td>\n",
       "      <td>0.152</td>\n",
       "    </tr>\n",
       "    <tr>\n",
       "      <td>3</td>\n",
       "      <td>Misc</td>\n",
       "      <td>284.30</td>\n",
       "      <td>0.121</td>\n",
       "    </tr>\n",
       "    <tr>\n",
       "      <td>4</td>\n",
       "      <td>Role-Playing</td>\n",
       "      <td>193.74</td>\n",
       "      <td>0.083</td>\n",
       "    </tr>\n",
       "  </tbody>\n",
       "</table>\n",
       "</div>"
      ],
      "text/plain": [
       "          genre  na_sales  na_ratio\n",
       "0        Action    521.15     0.222\n",
       "1        Sports    389.12     0.166\n",
       "2       Shooter    356.89     0.152\n",
       "3          Misc    284.30     0.121\n",
       "4  Role-Playing    193.74     0.083"
      ]
     },
     "execution_count": 77,
     "metadata": {},
     "output_type": "execute_result"
    }
   ],
   "source": [
    "na_popular_genres = (games_actual\n",
    "                                .pivot_table(index='genre', values='na_sales', aggfunc='sum')\n",
    "                                .sort_values(by='na_sales', ascending=False)\n",
    "                                .reset_index()\n",
    "                   )\n",
    "na_popular_genres['na_ratio'] = round(na_popular_genres['na_sales'] / sum(na_popular_genres['na_sales']), 3)\n",
    "na_mostpopular_genres = na_popular_genres.head()\n",
    "na_mostpopular_genres"
   ]
  },
  {
   "cell_type": "markdown",
   "metadata": {},
   "source": [
    "В Северной Америке наиболее продаваемыми играми за анализируемый период являются игры в жанрах \"Экшн\", \"Спорт\", \"Шутер\", \"Прочие\", \"Ролевые\"."
   ]
  },
  {
   "cell_type": "markdown",
   "metadata": {},
   "source": [
    "#### Европа"
   ]
  },
  {
   "cell_type": "code",
   "execution_count": 78,
   "metadata": {},
   "outputs": [
    {
     "data": {
      "text/html": [
       "<div>\n",
       "<style scoped>\n",
       "    .dataframe tbody tr th:only-of-type {\n",
       "        vertical-align: middle;\n",
       "    }\n",
       "\n",
       "    .dataframe tbody tr th {\n",
       "        vertical-align: top;\n",
       "    }\n",
       "\n",
       "    .dataframe thead th {\n",
       "        text-align: right;\n",
       "    }\n",
       "</style>\n",
       "<table border=\"1\" class=\"dataframe\">\n",
       "  <thead>\n",
       "    <tr style=\"text-align: right;\">\n",
       "      <th></th>\n",
       "      <th>genre</th>\n",
       "      <th>eu_sales</th>\n",
       "      <th>eu_ratio</th>\n",
       "    </tr>\n",
       "  </thead>\n",
       "  <tbody>\n",
       "    <tr>\n",
       "      <td>0</td>\n",
       "      <td>Action</td>\n",
       "      <td>340.02</td>\n",
       "      <td>0.235</td>\n",
       "    </tr>\n",
       "    <tr>\n",
       "      <td>1</td>\n",
       "      <td>Sports</td>\n",
       "      <td>239.55</td>\n",
       "      <td>0.166</td>\n",
       "    </tr>\n",
       "    <tr>\n",
       "      <td>2</td>\n",
       "      <td>Shooter</td>\n",
       "      <td>222.99</td>\n",
       "      <td>0.154</td>\n",
       "    </tr>\n",
       "    <tr>\n",
       "      <td>3</td>\n",
       "      <td>Misc</td>\n",
       "      <td>146.22</td>\n",
       "      <td>0.101</td>\n",
       "    </tr>\n",
       "    <tr>\n",
       "      <td>4</td>\n",
       "      <td>Racing</td>\n",
       "      <td>111.66</td>\n",
       "      <td>0.077</td>\n",
       "    </tr>\n",
       "  </tbody>\n",
       "</table>\n",
       "</div>"
      ],
      "text/plain": [
       "     genre  eu_sales  eu_ratio\n",
       "0   Action    340.02     0.235\n",
       "1   Sports    239.55     0.166\n",
       "2  Shooter    222.99     0.154\n",
       "3     Misc    146.22     0.101\n",
       "4   Racing    111.66     0.077"
      ]
     },
     "execution_count": 78,
     "metadata": {},
     "output_type": "execute_result"
    }
   ],
   "source": [
    "eu_popular_genres = (games_actual\n",
    "                                .pivot_table(index='genre', values='eu_sales', aggfunc='sum')\n",
    "                                .sort_values(by='eu_sales', ascending=False)\n",
    "                                .reset_index()\n",
    "                   )\n",
    "eu_popular_genres['eu_ratio'] = round(eu_popular_genres['eu_sales'] / sum(eu_popular_genres['eu_sales']), 3)\n",
    "eu_mostpopular_genres = eu_popular_genres.head()\n",
    "eu_mostpopular_genres"
   ]
  },
  {
   "cell_type": "markdown",
   "metadata": {},
   "source": [
    "В Европе наиболее продаваемыми играми за анализируемый период являются игры в жанрах \"Экшн\", \"Спорт\", \"Шутер\", \"Прочие\", \"Гонки\"."
   ]
  },
  {
   "cell_type": "markdown",
   "metadata": {},
   "source": [
    "#### Япония"
   ]
  },
  {
   "cell_type": "code",
   "execution_count": 79,
   "metadata": {},
   "outputs": [
    {
     "data": {
      "text/html": [
       "<div>\n",
       "<style scoped>\n",
       "    .dataframe tbody tr th:only-of-type {\n",
       "        vertical-align: middle;\n",
       "    }\n",
       "\n",
       "    .dataframe tbody tr th {\n",
       "        vertical-align: top;\n",
       "    }\n",
       "\n",
       "    .dataframe thead th {\n",
       "        text-align: right;\n",
       "    }\n",
       "</style>\n",
       "<table border=\"1\" class=\"dataframe\">\n",
       "  <thead>\n",
       "    <tr style=\"text-align: right;\">\n",
       "      <th></th>\n",
       "      <th>genre</th>\n",
       "      <th>jp_sales</th>\n",
       "      <th>jp_ratio</th>\n",
       "    </tr>\n",
       "  </thead>\n",
       "  <tbody>\n",
       "    <tr>\n",
       "      <td>0</td>\n",
       "      <td>Role-Playing</td>\n",
       "      <td>163.77</td>\n",
       "      <td>0.302</td>\n",
       "    </tr>\n",
       "    <tr>\n",
       "      <td>1</td>\n",
       "      <td>Action</td>\n",
       "      <td>95.00</td>\n",
       "      <td>0.175</td>\n",
       "    </tr>\n",
       "    <tr>\n",
       "      <td>2</td>\n",
       "      <td>Misc</td>\n",
       "      <td>63.49</td>\n",
       "      <td>0.117</td>\n",
       "    </tr>\n",
       "    <tr>\n",
       "      <td>3</td>\n",
       "      <td>Sports</td>\n",
       "      <td>48.05</td>\n",
       "      <td>0.089</td>\n",
       "    </tr>\n",
       "    <tr>\n",
       "      <td>4</td>\n",
       "      <td>Platform</td>\n",
       "      <td>35.09</td>\n",
       "      <td>0.065</td>\n",
       "    </tr>\n",
       "  </tbody>\n",
       "</table>\n",
       "</div>"
      ],
      "text/plain": [
       "          genre  jp_sales  jp_ratio\n",
       "0  Role-Playing    163.77     0.302\n",
       "1        Action     95.00     0.175\n",
       "2          Misc     63.49     0.117\n",
       "3        Sports     48.05     0.089\n",
       "4      Platform     35.09     0.065"
      ]
     },
     "execution_count": 79,
     "metadata": {},
     "output_type": "execute_result"
    }
   ],
   "source": [
    "jp_popular_genres = (games_actual\n",
    "                                .pivot_table(index='genre', values='jp_sales', aggfunc='sum')\n",
    "                                .sort_values(by='jp_sales', ascending=False)\n",
    "                                .reset_index()\n",
    "                   )\n",
    "jp_popular_genres['jp_ratio'] = round(jp_popular_genres['jp_sales'] / sum(jp_popular_genres['jp_sales']), 3)\n",
    "jp_mostpopular_genres = jp_popular_genres.head()\n",
    "jp_mostpopular_genres"
   ]
  },
  {
   "cell_type": "markdown",
   "metadata": {},
   "source": [
    "В Японии наиболее продаваемыми играми за анализируемый период являются игры в жанрах \"Ролевые\", \"Экшн\", \"Прочие\", \"Спорт\", \"Платформер\"."
   ]
  },
  {
   "cell_type": "markdown",
   "metadata": {},
   "source": [
    "#### Сопоставление регионов"
   ]
  },
  {
   "cell_type": "markdown",
   "metadata": {},
   "source": [
    "Сведём доли продаж по популярным жанрам в регионах в единую таблицу и сравним показатели."
   ]
  },
  {
   "cell_type": "code",
   "execution_count": 80,
   "metadata": {},
   "outputs": [
    {
     "data": {
      "text/html": [
       "<div>\n",
       "<style scoped>\n",
       "    .dataframe tbody tr th:only-of-type {\n",
       "        vertical-align: middle;\n",
       "    }\n",
       "\n",
       "    .dataframe tbody tr th {\n",
       "        vertical-align: top;\n",
       "    }\n",
       "\n",
       "    .dataframe thead th {\n",
       "        text-align: right;\n",
       "    }\n",
       "</style>\n",
       "<table border=\"1\" class=\"dataframe\">\n",
       "  <thead>\n",
       "    <tr style=\"text-align: right;\">\n",
       "      <th></th>\n",
       "      <th>genre</th>\n",
       "      <th>na_ratio</th>\n",
       "      <th>eu_ratio</th>\n",
       "      <th>jp_ratio</th>\n",
       "    </tr>\n",
       "  </thead>\n",
       "  <tbody>\n",
       "    <tr>\n",
       "      <td>0</td>\n",
       "      <td>Action</td>\n",
       "      <td>0.222</td>\n",
       "      <td>0.235</td>\n",
       "      <td>0.175</td>\n",
       "    </tr>\n",
       "    <tr>\n",
       "      <td>1</td>\n",
       "      <td>Misc</td>\n",
       "      <td>0.121</td>\n",
       "      <td>0.101</td>\n",
       "      <td>0.117</td>\n",
       "    </tr>\n",
       "    <tr>\n",
       "      <td>2</td>\n",
       "      <td>Platform</td>\n",
       "      <td>NaN</td>\n",
       "      <td>NaN</td>\n",
       "      <td>0.065</td>\n",
       "    </tr>\n",
       "    <tr>\n",
       "      <td>3</td>\n",
       "      <td>Racing</td>\n",
       "      <td>NaN</td>\n",
       "      <td>0.077</td>\n",
       "      <td>NaN</td>\n",
       "    </tr>\n",
       "    <tr>\n",
       "      <td>4</td>\n",
       "      <td>Role-Playing</td>\n",
       "      <td>0.083</td>\n",
       "      <td>NaN</td>\n",
       "      <td>0.302</td>\n",
       "    </tr>\n",
       "    <tr>\n",
       "      <td>5</td>\n",
       "      <td>Shooter</td>\n",
       "      <td>0.152</td>\n",
       "      <td>0.154</td>\n",
       "      <td>NaN</td>\n",
       "    </tr>\n",
       "    <tr>\n",
       "      <td>6</td>\n",
       "      <td>Sports</td>\n",
       "      <td>0.166</td>\n",
       "      <td>0.166</td>\n",
       "      <td>0.089</td>\n",
       "    </tr>\n",
       "  </tbody>\n",
       "</table>\n",
       "</div>"
      ],
      "text/plain": [
       "          genre  na_ratio  eu_ratio  jp_ratio\n",
       "0        Action     0.222     0.235     0.175\n",
       "1          Misc     0.121     0.101     0.117\n",
       "2      Platform       NaN       NaN     0.065\n",
       "3        Racing       NaN     0.077       NaN\n",
       "4  Role-Playing     0.083       NaN     0.302\n",
       "5       Shooter     0.152     0.154       NaN\n",
       "6        Sports     0.166     0.166     0.089"
      ]
     },
     "execution_count": 80,
     "metadata": {},
     "output_type": "execute_result"
    }
   ],
   "source": [
    "mostpopular_genres = na_mostpopular_genres.merge(eu_mostpopular_genres, on=['genre'], how='outer')\n",
    "mostpopular_genres = mostpopular_genres.merge(jp_mostpopular_genres, on=['genre'], how='outer')\n",
    "mostpopular_genres.drop(['na_sales', 'eu_sales', 'jp_sales'], axis='columns', inplace=True)\n",
    "mostpopular_genres.sort_values(by='genre').reset_index(drop=True)"
   ]
  },
  {
   "cell_type": "code",
   "execution_count": 81,
   "metadata": {
    "scrolled": false
   },
   "outputs": [
    {
     "data": {
      "image/png": "[encoded data removed]",
      "text/plain": [
       "<Figure size 432x288 with 1 Axes>"
      ]
     },
     "metadata": {
      "needs_background": "light"
     },
     "output_type": "display_data"
    }
   ],
   "source": [
    "fig, ax = plt.subplots()\n",
    "ax.set(title='Доля продаж игр в наиболее популярных жанрах по регионам',\n",
    "       xlabel='название жанра', ylabel='доля продаж')\n",
    "x1 = np.arange(1,8) - 0.3\n",
    "x2 = np.arange(1,8)\n",
    "x3 = np.arange(1,8) + 0.3\n",
    "plt.xticks([1, 2, 3, 4, 5, 6, 7], ['Action', 'Sports', 'Shooter', 'Misc', 'Role-Playing', 'Racing', 'Platform'])\n",
    "ax.bar(x1, mostpopular_genres['na_ratio'], width=0.3, label='Северная Америка')\n",
    "ax.bar(x2, mostpopular_genres['eu_ratio'], width=0.3, label='Европа')\n",
    "ax.bar(x3, mostpopular_genres['jp_ratio'], width=0.3, label='Япония')\n",
    "ax.grid=True\n",
    "ax.legend(bbox_to_anchor=(1.45, 1), frameon=True, loc='upper right')\n",
    "plt.show()"
   ]
  },
  {
   "cell_type": "markdown",
   "metadata": {},
   "source": [
    "Во всех трёх регионах достаточно популярны игры в жанре \"Экшн\" (22% продаж для Северной Америки, 24% - для Европы, 18% - для Японии). В Японии самыми популярными являются игры в жанре \"Ролевые\" (30% продаж по региону), в Северной Америке доля продаж игр данного жанра составила 8%, а в Европе они вовсе не пользуются спросом.\n",
    "\n",
    "Отдельно следует выделить категорию \"Прочие\" - это те игры, которые по названию жанра не принадлежать ни к одной из основных категорий - они достаточно популярны во всех регионах (доля продаж в регионах около 12% от региональных продаж). Как правило, это социальные игры, игры-шоу, либо игры, предполагающие обучение чему-то (например, достаточно популярная Just Dance - развивающая танцевальные навыки). Популярность этих игр связана с переходом социализации и обучения в сеть; и удобством их использования для современного поколения.\n",
    "\n",
    "Также существуют игры на платформах, ставших наиболее популярными только в одном регионе: \"Гонки\" для Европы и \"Платформер\" для Японии.\n",
    "\n",
    "Различия в приверженности определённым жанрам могут быть в том числе связаны с различиями в популярности платформ в регионах. К примеру, игры в жанре \"Шутер\" непопулярны в Японии. Но, возможно, игр в этом жанре не так много на популярном в регионе платформере. В то же время различия в предпочтениях могут быть связаны с культурными особенностями, формирующими предпочтения потребителей. В Северной Америке и Европе очень схожи доли продаж популярных жанров, но и культура достаточно близка; в Японии предпочтения отличаются."
   ]
  },
  {
   "cell_type": "markdown",
   "metadata": {},
   "source": [
    "### Влияние рейтинга на продажи <a id='step_3.3'></a>"
   ]
  },
  {
   "cell_type": "markdown",
   "metadata": {},
   "source": [
    "#### Северная Америка"
   ]
  },
  {
   "cell_type": "code",
   "execution_count": 82,
   "metadata": {},
   "outputs": [
    {
     "data": {
      "text/html": [
       "<div>\n",
       "<style scoped>\n",
       "    .dataframe tbody tr th:only-of-type {\n",
       "        vertical-align: middle;\n",
       "    }\n",
       "\n",
       "    .dataframe tbody tr th {\n",
       "        vertical-align: top;\n",
       "    }\n",
       "\n",
       "    .dataframe thead th {\n",
       "        text-align: right;\n",
       "    }\n",
       "</style>\n",
       "<table border=\"1\" class=\"dataframe\">\n",
       "  <thead>\n",
       "    <tr style=\"text-align: right;\">\n",
       "      <th></th>\n",
       "      <th>rating</th>\n",
       "      <th>na_sales</th>\n",
       "      <th>na_ratio</th>\n",
       "    </tr>\n",
       "  </thead>\n",
       "  <tbody>\n",
       "    <tr>\n",
       "      <td>0</td>\n",
       "      <td>E</td>\n",
       "      <td>789.01</td>\n",
       "      <td>0.380</td>\n",
       "    </tr>\n",
       "    <tr>\n",
       "      <td>1</td>\n",
       "      <td>M</td>\n",
       "      <td>558.66</td>\n",
       "      <td>0.269</td>\n",
       "    </tr>\n",
       "    <tr>\n",
       "      <td>2</td>\n",
       "      <td>T</td>\n",
       "      <td>415.19</td>\n",
       "      <td>0.200</td>\n",
       "    </tr>\n",
       "    <tr>\n",
       "      <td>3</td>\n",
       "      <td>E10+</td>\n",
       "      <td>311.60</td>\n",
       "      <td>0.150</td>\n",
       "    </tr>\n",
       "    <tr>\n",
       "      <td>4</td>\n",
       "      <td>EC</td>\n",
       "      <td>1.32</td>\n",
       "      <td>0.001</td>\n",
       "    </tr>\n",
       "    <tr>\n",
       "      <td>5</td>\n",
       "      <td>RP</td>\n",
       "      <td>0.00</td>\n",
       "      <td>0.000</td>\n",
       "    </tr>\n",
       "  </tbody>\n",
       "</table>\n",
       "</div>"
      ],
      "text/plain": [
       "  rating  na_sales  na_ratio\n",
       "0      E    789.01     0.380\n",
       "1      M    558.66     0.269\n",
       "2      T    415.19     0.200\n",
       "3   E10+    311.60     0.150\n",
       "4     EC      1.32     0.001\n",
       "5     RP      0.00     0.000"
      ]
     },
     "execution_count": 82,
     "metadata": {},
     "output_type": "execute_result"
    }
   ],
   "source": [
    "na_rating_sales = (games_actual\n",
    "                                .pivot_table(index='rating', values='na_sales', aggfunc='sum')\n",
    "                                .sort_values(by='na_sales', ascending=False)\n",
    "                                .reset_index()\n",
    "                   )\n",
    "na_rating_sales['na_ratio'] = round(na_rating_sales['na_sales'] / sum(na_rating_sales['na_sales']), 3)\n",
    "na_rating_sales"
   ]
  },
  {
   "cell_type": "markdown",
   "metadata": {},
   "source": [
    "RP - это игры с рейтингом \"Рейтинг ожидается\", что равносильно пропущенным значениям. Соответственно, данный рейтинг нам неинтересен.\n",
    "\n",
    "В Северной Америке наиболее продаваемыми играми за анализируемый период являются игры c рейтингом E (\"для всех\") - 38% от продаж; на втором месте игры с рейтингом M (\"для взрослых\") - 27%; на третьем месте игры с рейтингом T (\"подросткам\") - 20%; на четвёртом месте игры с рейтингом E10+ (\"для всех от 10 лет и старше\") - 15%; почти не продаются игры с рейтингом EC (\"для детей младшего возраста\") - 0,1%."
   ]
  },
  {
   "cell_type": "markdown",
   "metadata": {},
   "source": [
    "#### Европа"
   ]
  },
  {
   "cell_type": "code",
   "execution_count": 83,
   "metadata": {},
   "outputs": [
    {
     "data": {
      "text/html": [
       "<div>\n",
       "<style scoped>\n",
       "    .dataframe tbody tr th:only-of-type {\n",
       "        vertical-align: middle;\n",
       "    }\n",
       "\n",
       "    .dataframe tbody tr th {\n",
       "        vertical-align: top;\n",
       "    }\n",
       "\n",
       "    .dataframe thead th {\n",
       "        text-align: right;\n",
       "    }\n",
       "</style>\n",
       "<table border=\"1\" class=\"dataframe\">\n",
       "  <thead>\n",
       "    <tr style=\"text-align: right;\">\n",
       "      <th></th>\n",
       "      <th>rating</th>\n",
       "      <th>eu_sales</th>\n",
       "      <th>eu_ratio</th>\n",
       "    </tr>\n",
       "  </thead>\n",
       "  <tbody>\n",
       "    <tr>\n",
       "      <td>0</td>\n",
       "      <td>E</td>\n",
       "      <td>447.48</td>\n",
       "      <td>0.365</td>\n",
       "    </tr>\n",
       "    <tr>\n",
       "      <td>1</td>\n",
       "      <td>M</td>\n",
       "      <td>382.36</td>\n",
       "      <td>0.312</td>\n",
       "    </tr>\n",
       "    <tr>\n",
       "      <td>2</td>\n",
       "      <td>T</td>\n",
       "      <td>225.65</td>\n",
       "      <td>0.184</td>\n",
       "    </tr>\n",
       "    <tr>\n",
       "      <td>3</td>\n",
       "      <td>E10+</td>\n",
       "      <td>169.54</td>\n",
       "      <td>0.138</td>\n",
       "    </tr>\n",
       "    <tr>\n",
       "      <td>4</td>\n",
       "      <td>RP</td>\n",
       "      <td>0.03</td>\n",
       "      <td>0.000</td>\n",
       "    </tr>\n",
       "    <tr>\n",
       "      <td>5</td>\n",
       "      <td>EC</td>\n",
       "      <td>0.00</td>\n",
       "      <td>0.000</td>\n",
       "    </tr>\n",
       "  </tbody>\n",
       "</table>\n",
       "</div>"
      ],
      "text/plain": [
       "  rating  eu_sales  eu_ratio\n",
       "0      E    447.48     0.365\n",
       "1      M    382.36     0.312\n",
       "2      T    225.65     0.184\n",
       "3   E10+    169.54     0.138\n",
       "4     RP      0.03     0.000\n",
       "5     EC      0.00     0.000"
      ]
     },
     "execution_count": 83,
     "metadata": {},
     "output_type": "execute_result"
    }
   ],
   "source": [
    "eu_rating_sales = (games_actual\n",
    "                                .pivot_table(index='rating', values='eu_sales', aggfunc='sum')\n",
    "                                .sort_values(by='eu_sales', ascending=False)\n",
    "                                .reset_index()\n",
    "                   )\n",
    "eu_rating_sales['eu_ratio'] = round(eu_rating_sales['eu_sales'] / sum(eu_rating_sales['eu_sales']), 3)\n",
    "eu_rating_sales"
   ]
  },
  {
   "cell_type": "markdown",
   "metadata": {},
   "source": [
    "В Европе наиболее продаваемыми играми за анализируемый период являются игры c рейтингом E (\"для всех\") - 36,5% от продаж; на втором месте игры с рейтингом M (\"для взрослых\") - 31%; на третьем месте игры с рейтингом T (\"подросткам\") - 18,4%; на четвёртом месте игры с рейтингом E10+ (\"для всех от 10 лет и старше\") - 13,8%; нет спроса на игры с рейтингом EC (\"для детей младшего возраста\")."
   ]
  },
  {
   "cell_type": "markdown",
   "metadata": {},
   "source": [
    "#### Япония"
   ]
  },
  {
   "cell_type": "code",
   "execution_count": 84,
   "metadata": {},
   "outputs": [
    {
     "data": {
      "text/html": [
       "<div>\n",
       "<style scoped>\n",
       "    .dataframe tbody tr th:only-of-type {\n",
       "        vertical-align: middle;\n",
       "    }\n",
       "\n",
       "    .dataframe tbody tr th {\n",
       "        vertical-align: top;\n",
       "    }\n",
       "\n",
       "    .dataframe thead th {\n",
       "        text-align: right;\n",
       "    }\n",
       "</style>\n",
       "<table border=\"1\" class=\"dataframe\">\n",
       "  <thead>\n",
       "    <tr style=\"text-align: right;\">\n",
       "      <th></th>\n",
       "      <th>rating</th>\n",
       "      <th>jp_sales</th>\n",
       "      <th>jp_ratio</th>\n",
       "    </tr>\n",
       "  </thead>\n",
       "  <tbody>\n",
       "    <tr>\n",
       "      <td>0</td>\n",
       "      <td>E</td>\n",
       "      <td>119.29</td>\n",
       "      <td>0.427</td>\n",
       "    </tr>\n",
       "    <tr>\n",
       "      <td>1</td>\n",
       "      <td>T</td>\n",
       "      <td>81.63</td>\n",
       "      <td>0.292</td>\n",
       "    </tr>\n",
       "    <tr>\n",
       "      <td>2</td>\n",
       "      <td>M</td>\n",
       "      <td>42.59</td>\n",
       "      <td>0.152</td>\n",
       "    </tr>\n",
       "    <tr>\n",
       "      <td>3</td>\n",
       "      <td>E10+</td>\n",
       "      <td>36.12</td>\n",
       "      <td>0.129</td>\n",
       "    </tr>\n",
       "    <tr>\n",
       "      <td>4</td>\n",
       "      <td>EC</td>\n",
       "      <td>0.00</td>\n",
       "      <td>0.000</td>\n",
       "    </tr>\n",
       "    <tr>\n",
       "      <td>5</td>\n",
       "      <td>RP</td>\n",
       "      <td>0.00</td>\n",
       "      <td>0.000</td>\n",
       "    </tr>\n",
       "  </tbody>\n",
       "</table>\n",
       "</div>"
      ],
      "text/plain": [
       "  rating  jp_sales  jp_ratio\n",
       "0      E    119.29     0.427\n",
       "1      T     81.63     0.292\n",
       "2      M     42.59     0.152\n",
       "3   E10+     36.12     0.129\n",
       "4     EC      0.00     0.000\n",
       "5     RP      0.00     0.000"
      ]
     },
     "execution_count": 84,
     "metadata": {},
     "output_type": "execute_result"
    }
   ],
   "source": [
    "jp_rating_sales = (games_actual\n",
    "                                .pivot_table(index='rating', values='jp_sales', aggfunc='sum')\n",
    "                                .sort_values(by='jp_sales', ascending=False)\n",
    "                                .reset_index()\n",
    "                   )\n",
    "jp_rating_sales['jp_ratio'] = round(jp_rating_sales['jp_sales'] / sum(jp_rating_sales['jp_sales']), 3)\n",
    "jp_rating_sales"
   ]
  },
  {
   "cell_type": "markdown",
   "metadata": {},
   "source": [
    "В Японии наиболее продаваемыми играми за анализируемый период являются игры c рейтингом E (\"для всех\") - 42,7% от продаж; на втором месте игры с рейтингом T (\"подросткам\") - 29,2%; на третьем месте игры с рейтингом M (\"для взрослых\") - 15,2%; на четвёртом месте игры с рейтингом E10+ (\"для всех от 10 лет и старше\") - 12,9%; нет спроса на игры с рейтингом EC (\"для детей младшего возраста\")."
   ]
  },
  {
   "cell_type": "markdown",
   "metadata": {},
   "source": [
    "Таким образом, в Северной Америке и Европе схожая структура продаж по рейтингу игр. В Японии предпочтения отличаются: подростковые игры более популярны, чем игры для взрослых. В остальном структура похожа. На игры для детей младшего возраста нет спроса ни в одном регионе."
   ]
  },
  {
   "cell_type": "markdown",
   "metadata": {},
   "source": [
    "### Вывод <a id='step_3.4'></a>"
   ]
  },
  {
   "cell_type": "markdown",
   "metadata": {},
   "source": [
    "В Северной Америке наиболее популярны игры на платформе XBox360 (доля продаж 25%), на этой же платформе достаточно популярны игры в Европе (18% от всех продаж по региону), а в Японии они не продавались. В Европе самыми популярными являются игры на Playstation3 (23% от продаж по региону), на этой же платформе достаточно популярны игры в Северной Америке (доля продаж 17%) и в Японии (доля подаж 14%). В Японии наиболее продаваемыми являются игры на платформе DS (продажи составили 26%), платформа менее популярна в Северной Америке (14% от всех продаж) и Европе (10% от продаж). Также достаточно популярны во всех регионах игры на платформе Wii: в Северной Америке продажи составили 21% (второе место по популярности среди платформ), в Европе - 18% (делит 2-3 место с XBox360), в Японии - 13% (делит 4-5 место с PlaystationPortable). Также существуют игры на платформах, ставших наиболее популярными только в одном регионе: Playstation2 для Северной Америки; Playstation4 для Европы; 3DS и PlaystatonPortable для Японии.\n",
    "\n",
    "По перспективным для 2017 года платформам наблюдаем следующие распределения долей по продажам в регионах. В Северной Америке и Европе наиболее популярна Playstation4 (4% от продаж и 8% от продаж, соответственно по регионам). В Японии самой популярной является 3DS (17%), которая в других регионах занимет второе место из перспективных (3% в Северной Америке и 4% в Европе). Также в Северной Америке и Европе популярна платформа XBoxOne, игры на которой не продаются в Японии. Небольшие процены по продажам говорят о том, что игры на платформах только набирают популярность. Но есть и те, которые при своём росте продаж уже занимают ведущие места среди всех ранее продаваемых платформ (Playstation4 для Европы и 3DS для Японии).\n",
    "\n",
    "Во всех трёх регионах достаточно популярны игры в жанре \"Экшн\" (22% продаж для Северной Америки, 24% - для Европы, 18% - для Японии). В Японии самыми популярными являются игры в жанре \"Ролевые\" (30% продаж по региону), в Северной Америке доля продаж игр данного жанра составила 8%, а в Европе они вовсе не пользуются спросом. Отдельно следует выделить категорию \"Прочие\" - это те игры, которые по названию жанра не принадлежать ни к одной из основных категорий - они достаточно популярны во всех регионах (доля продаж в регионах около 12% от региональных продаж). Как правило, это социальные игры, игры-шоу, либо игры, предполагающие обучение чему-то (например, достаточно популярная Just Dance - развивающая танцевальные навыки). Популярность этих игр связана с переходом социализации и обучения в сеть; и удобством их использования для современного поколения. Также существуют игры на платформах, ставших наиболее популярными только в одном регионе: \"Гонки\" для Европы и \"Платформер\" для Японии.\n",
    "\n",
    "Различия в приверженности определённым жанрам могут быть в том числе связаны с различиями в популярности платформ в регионах. К примеру, игры в жанре \"Шутер\" непопулярны в Японии. Но, возможно, игр в этом жанре не так много на популярном в регионе платформере. В то же время различия в предпочтениях могут быть связаны с культурными особенностями, формирующими предпочтения потребителей. В Северной Америке и Европе очень схожи доли продаж популярных жанров, но и культура достаточно близка; в Японии предпочтения отличаются.\n",
    "\n",
    "В Северной Америке наиболее продаваемыми играми за анализируемый период являются игры c рейтингом E (\"для всех\") - 38% от продаж; на втором месте игры с рейтингом M (\"для взрослых\") - 27%; на третьем месте игры с рейтингом T (\"подросткам\") - 20%; на четвёртом месте игры с рейтингом E10+ (\"для всех от 10 лет и старше\") - 15%; почти не продаются игры с рейтингом EC (\"для детей младшего возраста\") - 0,1%. В Европе наиболее продаваемыми играми за анализируемый период являются игры c рейтингом E (\"для всех\") - 36,5% от продаж; на втором месте игры с рейтингом M (\"для взрослых\") - 31%; на третьем месте игры с рейтингом T (\"подросткам\") - 18,4%; на четвёртом месте игры с рейтингом E10+ (\"для всех от 10 лет и старше\") - 13,8%; нет спроса на игры с рейтингом EC (\"для детей младшего возраста\"). В Японии наиболее продаваемыми играми за анализируемый период являются игры c рейтингом E (\"для всех\") - 42,7% от продаж; на втором месте игры с рейтингом T (\"подросткам\") - 29,2%; на третьем месте игры с рейтингом M (\"для взрослых\") - 15,2%; на четвёртом месте игры с рейтингом E10+ (\"для всех от 10 лет и старше\") - 12,9%; нет спроса на игры с рейтингом EC (\"для детей младшего возраста\").\n",
    "\n",
    "Таким образом, в Северной Америке и Европе схожая структура продаж по рейтингу игр. В Японии предпочтения отличаются: подростковые игры более популярны, чем игры для взрослых. В остальном структура похожа. На игры для детей младшего возраста нет спроса ни в одном регионе."
   ]
  },
  {
   "cell_type": "markdown",
   "metadata": {},
   "source": [
    "## Этап 4. Проверка статистических гипотез <a id='step_4'></a>"
   ]
  },
  {
   "cell_type": "markdown",
   "metadata": {},
   "source": [
    "### Гипотеза о равенстве средних пользовательских рейтингов платформ Xbox One и PC <a id='step_4.1'></a>"
   ]
  },
  {
   "cell_type": "markdown",
   "metadata": {},
   "source": [
    "Мы будем анализировать две генеральные совокупности: рейтинг пользователей игр на платформе XBoxOne (xboxone_games) и PC (pc_games)."
   ]
  },
  {
   "cell_type": "code",
   "execution_count": 85,
   "metadata": {},
   "outputs": [],
   "source": [
    "xboxone_games = games_actual.loc[(games_actual['user_score'].isna()!=True) & (games_actual['platform'] == \"XOne\")]\n",
    "pc_games = games_actual.loc[(games_actual['user_score'].isna()!=True) & (games_actual['platform'] == \"PC\")]"
   ]
  },
  {
   "cell_type": "markdown",
   "metadata": {},
   "source": [
    "Прежде чем формулировать или проверять статистические гипотезы, удостоверимся, что сравниваемые наборы имеют нормальное распределение."
   ]
  },
  {
   "cell_type": "code",
   "execution_count": 86,
   "metadata": {},
   "outputs": [
    {
     "data": {
      "image/png": "[encoded data removed]",
      "text/plain": [
       "<Figure size 432x288 with 1 Axes>"
      ]
     },
     "metadata": {
      "needs_background": "light"
     },
     "output_type": "display_data"
    }
   ],
   "source": [
    "fig = plt.figure()\n",
    "plt.xlabel('xlabel')\n",
    "plt.ylabel('распределение')\n",
    "plt.title('Сопоставление распределения по тарифам')\n",
    "sns.distplot(xboxone_games['user_score'], label='XOne')\n",
    "sns.distplot(pc_games['user_score'], label='PC')\n",
    "plt.legend()\n",
    "plt.show()"
   ]
  },
  {
   "cell_type": "markdown",
   "metadata": {},
   "source": [
    "Данные распределены нормально, хоть и смещены вправо."
   ]
  },
  {
   "cell_type": "markdown",
   "metadata": {},
   "source": [
    "Сформулируем нулевую гипотезу H0: Средние двух генеральных совокупностей равны между собой.\n",
    "\n",
    "Альтернативная гипотеза H1: Средние двух генераальных совокупностей не равны между собой.\n",
    "\n",
    "Несмотря на то, что xboxone_games и pc_games - это не совсем генеральные совокупности, а скорее, выборки; но согласно центральной предельной теореме, выборочные средние распределены нормально вокруг истинного среднего генеральной совокупности. Введём уровень значимости, определяющий близость к среднему значению: 5%.\n",
    "\n",
    "Кроме того, дисперсия каждой выборки должна быть оценена по датасету каждой из выборок, а не по их объединению. Также отметим, что выборки являются независимыми.\n",
    "\n",
    "Проверим гипотезы через распределение t-Стьюдента."
   ]
  },
  {
   "cell_type": "code",
   "execution_count": 87,
   "metadata": {},
   "outputs": [
    {
     "name": "stdout",
     "output_type": "stream",
     "text": [
      "p-значение: 0.003919849356846717\n",
      "Отвергаем нулевую гипотезу.\n"
     ]
    }
   ],
   "source": [
    "sample_1 = xboxone_games['user_score']\n",
    "sample_2 = pc_games['user_score']\n",
    "\n",
    "alpha = .05\n",
    "\n",
    "results = st.ttest_ind(sample_1, sample_2, equal_var=False)\n",
    "print('p-значение:', results.pvalue)\n",
    "\n",
    "if results.pvalue < alpha:\n",
    "    print('Отвергаем нулевую гипотезу.')\n",
    "else:\n",
    "    print('Не получилось отвергнуть нулевую гипотезу.')"
   ]
  },
  {
   "cell_type": "markdown",
   "metadata": {},
   "source": [
    "Получили результат: p-значение оказалось меньше уровня значимости в 5%. Соответственно, мы отвергли нулевую гипотезу; приняли альтернативную гипотезу: средние двух генеральных совокупностей не равны между собой.\n",
    "\n",
    "Вывод: средние пользовательские рейтинги платформ Xbox One и PC различаются."
   ]
  },
  {
   "cell_type": "markdown",
   "metadata": {},
   "source": [
    "### Гипотеза о различии средних пользовательских рейтингов жанров Action и Sports <a id='step_4.2'></a>"
   ]
  },
  {
   "cell_type": "markdown",
   "metadata": {},
   "source": [
    "Мы будем анализировать две генеральные совокупности: рейтинг пользователей игр в жанре Action (action_games) и Sports (sports_games)."
   ]
  },
  {
   "cell_type": "code",
   "execution_count": 88,
   "metadata": {},
   "outputs": [],
   "source": [
    "action_games = games_actual.loc[(games_actual['user_score'].isna()!=True) & (games_actual['genre'] == \"Action\")]\n",
    "sports_games = games_actual.loc[(games_actual['user_score'].isna()!=True) & (games_actual['genre'] == \"Sports\")]"
   ]
  },
  {
   "cell_type": "markdown",
   "metadata": {},
   "source": [
    "Прежде чем формулировать или проверять статистические гипотезы, удостоверимся, что сравниваемые наборы имеют нормальное распределение."
   ]
  },
  {
   "cell_type": "code",
   "execution_count": 89,
   "metadata": {},
   "outputs": [
    {
     "data": {
      "image/png": "[encoded data removed]",
      "text/plain": [
       "<Figure size 432x288 with 1 Axes>"
      ]
     },
     "metadata": {
      "needs_background": "light"
     },
     "output_type": "display_data"
    }
   ],
   "source": [
    "fig = plt.figure()\n",
    "plt.xlabel('xlabel')\n",
    "plt.ylabel('распределение')\n",
    "plt.title('Сопоставление распределения по тарифам')\n",
    "sns.distplot(action_games['user_score'], label='Action')\n",
    "sns.distplot(sports_games['user_score'], label='Sports')\n",
    "plt.legend()\n",
    "plt.show()"
   ]
  },
  {
   "cell_type": "markdown",
   "metadata": {},
   "source": [
    "Данные, хоть и немного смещены вправо, имеют нормальное распределение."
   ]
  },
  {
   "cell_type": "markdown",
   "metadata": {},
   "source": [
    "Сформулируем нулевую гипотезу H0: Средние двух генеральных совокупностей равны между собой.\n",
    "\n",
    "Альтернативная гипотеза H1: Средние двух генераальных совокупностей не равны между собой.\n",
    "\n",
    "Несмотря на то, что action_games и sports_games - это не совсем генеральные совокупности, а скорее, выборки; но согласно центральной предельной теореме, выборочные средние распределены нормально вокруг истинного среднего генеральной совокупности. Введём уровень значимости, определяющий близость к среднему значению: 5%.\n",
    "\n",
    "Кроме того, дисперсия каждой выборки должна быть оценена по датасету каждой из выборок, а не по их объединению. Также отметим, что выборки являются независимыми.\n",
    "\n",
    "Проверим гипотезы через распределение t-Стьюдента."
   ]
  },
  {
   "cell_type": "code",
   "execution_count": 90,
   "metadata": {},
   "outputs": [
    {
     "name": "stdout",
     "output_type": "stream",
     "text": [
      "p-значение: 1.8948270159749066e-08\n",
      "Отвергаем нулевую гипотезу.\n"
     ]
    }
   ],
   "source": [
    "sample_1 = action_games['user_score']\n",
    "sample_2 = sports_games['user_score']\n",
    "\n",
    "alpha = .05\n",
    "\n",
    "results = st.ttest_ind(sample_1, sample_2, equal_var=False)\n",
    "print('p-значение:', results.pvalue)\n",
    "\n",
    "if results.pvalue < alpha:\n",
    "    print('Отвергаем нулевую гипотезу.')\n",
    "else:\n",
    "    print('Не получилось отвергнуть нулевую гипотезу.')"
   ]
  },
  {
   "cell_type": "markdown",
   "metadata": {},
   "source": [
    "Получили результат: p-значение оказалось меньше уровня значимости в 5%. Соответственно, мы отвергли нулевую гипотезу; приняли альтернативную гипотезу: средние двух генеральных совокупностей не равны между собой.\n",
    "\n",
    "Вывод: средние пользовательские рейтинги жанров Action и Sports различаются."
   ]
  },
  {
   "cell_type": "markdown",
   "metadata": {},
   "source": [
    "### Вывод <a id='step_4.3'></a>"
   ]
  },
  {
   "cell_type": "markdown",
   "metadata": {},
   "source": [
    "Были проведены t-тесты проверки двусторонних гипотез для двух независимых выборок. В результате данных тестов было выявлено, что средние пользовательские рейтинги платформ Xbox One и PC различаются; и средние пользовательские рейтинги жанров Action и Sports также различаются."
   ]
  },
  {
   "cell_type": "markdown",
   "metadata": {},
   "source": [
    "## Общий вывод <a id='step_5'></a>"
   ]
  },
  {
   "cell_type": "markdown",
   "metadata": {},
   "source": [
    "Было проведено исследование рынка компьютерных игр, на который ориентируется в своей деятельности интернет-магазин «Стримчик», продающий игр по всему миру. Во время предобработки данных была обнаружена интересная тенденция: **количество игр, для которых нет оценки критиков по годам выпуска практически соответствует количеству игр, для которых нет оценки пользователей, и количеству игр, для которых нет рейтинга от организации ESRB**. Характерная динамика показателей может быть связана с тем, что игр стало выходить больше - соответственно, пользователи \"распылились\" между играми, не имея возможности оценить все из них. Также возникло большее количество платформ - часть пользователей, имеющая возможность поиграть на одной из платформ, не может позволить себе другие платформы. А некоторые из игр являются неэксклюзивными только для одной платформы, а встречаются на всех платформах, соответственно, могут быть неоценены пользователями, критиками и ESRB. Также часть пропусков за последние годы связана с показателем tbd (to be determined): игра была оценена, но система не посчитала рейтинг на момент выгрузки данных (рейтинг по оценке пользователей будет представлен позже). Что касается пропусков в оценках критиков и рейтинге ESRB, возможно, часть игр также не была сведена в оценку и рейтинг на момент выгрузки (оценка и рейтинг появятся немного позже). Кроме того, критики и ESRB, вероятно, оценивают и выставляют рейтинг не каждой вышедшей игре, а наиболее ожидаемые и пользующиеся спросом игры, либо игре в целом - только на одной из платформ. Также возможно, что данные по оценкам и рейтингу отсутствуют в открытом доступе.\n",
    "\n",
    "Исследовательский анализ показал, что **в разные годы были популярны** (и соответственно, приносили доход) **игры на разных платформах**. Игры на Playstation набирали популярность с 1994 года, достигли пика по продажам в 1990 году и \"сошли на нет\" в 2002-2003 годах. На замену таким играм в 2000 году пришли игры на Playstation2, достаточно долго (с 2001 по 2005 гг.) лидируя на рынке игр по продажам. На их смену пришли игры на карманных консолях DS, которые с 2004 года набрали моментальную популярность в 2005-2010 гг. Практически в то же время (с 2006 по 2010 гг. с пиком в 2009 г.) были популярны игры на платформе Wii (с самой малоразмерной на тот момент приставкой Nintendo Wii). В те же годы на смену Playstation2 пришли игры на платформе Playstation3, которые продавались максимально хорошо в 2008-2013 гг. Вместе с Playstation3 в те же годы были популярны игры на Xbox360. Примерный срок, за который устаревает платформа, составляет около 8-10 лет. Также следует отметить, что со временем стало появляться больше конкурентоспособных платформ, способных занять нишу и привлечь свою категорию потребителей.\n",
    "\n",
    "Исходя из анализа количества выпущенных игр по годам и анализа продаж по платформам, продажа игр на которых приносит наибольший доход, можем сделать вывод о том, что период до 1994 года не является актуальным для анализа. До 1994 года выходило слишком мало игр, относительно общей выборки; а также не наблюдалось лидирующих по суммарным продажам платформ. На основе анализа продаж можем сделать прогноз, что **потенциально прибыльными в 2017 году будут платформы**: 3DS, которая уже несколько лет пользуется популярностью у потребителей игр; Playstation4, только набирающая обороты и приносящая самый высокий доход от продаж; PlaystationVita, не настолько популярная (что может быть связано с меньшим количеством игр на данной платформе), но также потенциально прибыльная в ближайшие 2-3 года; WiiU, являющаяся преемником Wii, которая тоже была достаточно популярна в своё время; а также XBoxOne от компании Microsoft, способная составить конкуренцию Playstation4. При этом наблюдается рост популярности у потребителей игр для Playstation4 и XBoxOne; и снижение спроса на игры на платформах 3DS, PlaystationVita и WiiU, тем не менее, даже они потенциально могут принести достаточно высокий доход до появления аналогов нового поколения. На данных платформах игры выходили в период с 2011 года, поэтому актуальным для анализа срезом данных является **период с 2011 по 2015 год**.\n",
    "\n",
    "На каждой из платформ существует большое количество игр, суммарные продажи по которым выбиваются из квартильных значений. В целом, **разница в суммарных продажах игр в рамках каждой из платформ** очень велика для 3DS и Playstation4; чуть меньше - для WiiU и XBoxOne; и относительно небольшая - для PlaystationVita. По всем платформам наблюдается превышение среднего значения над медианным и скос датасетов вправо: для Playstation4 и XBoxOne наиболее сильно, для 3DS и WiiU - чуть меньше, и для PlayStationVita - относительно небольшой. Также видим различия в медианных значениях: игры yf Playstation4 и XBoxOne имеют схожие боксплоты (квартильные, средние и медианные значения), а WiiU характеризуется меньшим значением; затем идёт 3DS и PlayStationVita. Это может быть связано с разнобразием игр на ведущих платформах: поскольку платформы Playstation и XBox достаточно давно приобрели популярность среди потребителей, они могут позволить себе выпуск достаточно ранжированного по цене игрового контента, способного найти \"своего\" потребителя: поэтому их боксплоты шире и растянутее. Wii тоже достаточно старая (в версиях предыдущих поколений), но менее популярная - соответственно разнообразие игр на данной платформе может быть ниже. Что касается PlaystationVita - это консоль с небольшим разнообразием игр, которые, как мы видим по боксплоту, схожи в ценовой категории и по продажам - разброс по данной платформе самый небольшой, и среднее значение не сильно превосходит медианное.\n",
    "\n",
    "При анализе связи между оценкой игры и совокупными продажами было выявлено, что **между оценкой критиков и продажами есть слабая связь (во всех регионах, кроме Японии), причём для популярных платформ она чуть сильнее, чем для непопулярных; и между оценкой пользователей и совокупными продажами нет связи (ни для популярных, ни для непопулярных платформ)**. С одной стороны, это может быть связано с тем, что люди обращают внимание на оценку игры, прежде чем покупают её (но корреляция невысокая, соответственно, это не ключевой показатель). С другой стороны, возможно, критиками оцениваются не все игры, а наиболее популярные у покупателей (или потенциально популярные - по \"рейтингу ожидания\"). В то же время потребитель сначала покупает игру, а затем, поиграв, ставит ей оценку, исходя из субъективного впечатления. Таким образом, одна и та же игра может оставить как хорошее, так и плохое впечатление - в зависимости от индивидуальных предпочтений. Поскольку связь оценок с сумммами продаж не является сильной, мы можем сделать вывод, что на продажи игр влияют какие-то иные факторы.\n",
    "\n",
    "Анализ продаж по жанрам показал, что **самым прибыльным жанром является \"Экшн\"**, но прибыльность жанра связана с продажей нескольких, выбивающихся, дорогих игр. **На втором месте по доходу за анализируемый актуальный период находится жанр \"Спорт\"**, но и для него характерна схожая ситуация. **Третьей по доходности позиция - жанр \"Шутер\"**. Это самое доходное, в среднем, направление игр, пользующееся высоким спросом. Средний и медианный уровни продаж этого жанра выше значений по любому другому жанру; а также датасет в разрезе данного жанра сильно скошен вправо (очень много покупателей покупает отдельные игры с высокой ценой), а значит, это перспективное направление для продажи. Самый низкий доход принёс жанр \"Стратегия\", но это не значит, что покупатели приобретают в этом жанре самые дешевые игры. Мы наблюдаем подобную ситуацию как для \"Экшна\" и \"Спорта\", но действующую зеркально. Жанр \"Квест\" имеет схожую со \"Стратегией\" характеристику по продаваемости: они слабо продаются и принесли минимальный доход, но это не самые неперспективные жанры. Самым неперспективным жанром игр для продаж является \"Приключения\". Он на третьем месте с конца по суммарным продажам; и по распределению наибольшее число игр было продана за низшую, по сравнению с другими жанрами, стоимость.\n",
    "\n",
    "Далее был составлен **портрет пользователя в каждом регионе**. В Северной Америке наиболее популярны игры на платформе XBox360 (доля продаж 25%), на этой же платформе достаточно популярны игры в Европе (18% от всех продаж по региону), а в Японии они не продавались. В Европе самыми популярными являются игры на Playstation3 (23% от продаж по региону), на этой же платформе достаточно популярны игры в Северной Америке (доля продаж 17%) и в Японии (доля подаж 14%). В Японии наиболее продаваемыми являются игры на платформе DS (продажи составили 26%), платформа менее популярна в Северной Америке (14% от всех продаж) и Европе (10% от продаж). Также достаточно популярны во всех регионах игры на платформе Wii: в Северной Америке продажи составили 21% (второе место по популярности среди платформ), в Европе - 18% (делит 2-3 место с XBox360), в Японии - 13% (делит 4-5 место с PlaystationPortable). Также существуют игры на платформах, ставших наиболее популярными только в одном регионе: Playstation2 для Северной Америки; Playstation4 для Европы; 3DS и PlaystatonPortable для Японии. По перспективным для 2017 года платформам наблюдаем следующие распределения долей по продажам в регионах. В Северной Америке и Европе наиболее популярна Playstation4 (4% от продаж и 8% от продаж, соответственно по регионам). В Японии самой популярной является 3DS (17%), которая в других регионах занимет второе место из перспективных (3% в Северной Америке и 4% в Европе). Также в Северной Америке и Европе популярна платформа XBoxOne, игры на которой не продаются в Японии. Небольшие процены по продажам говорят о том, что игры на платформах только набирают популярность. Но есть и те, которые при своём росте продаж уже занимают ведущие места среди всех ранее продаваемых платформ (Playstation4 для Европы и 3DS для Японии).\n",
    "\n",
    "**Во всех трёх регионах достаточно популярны игры в жанре \"Экшн\"** (22% продаж для Северной Америки, 24% - для Европы, 18% - для Японии). В Японии самыми популярными являются игры **в жанре \"Ролевые\"** (30% продаж по региону), в Северной Америке доля продаж игр данного жанра составила 8%, а в Европе они вовсе не пользуются спросом. Отдельно следует выделить **категорию \"Прочие\"** - это те игры, которые по названию жанра не принадлежать ни к одной из основных категорий - они достаточно популярны во всех регионах (доля продаж в регионах около 12% от региональных продаж). Как правило, это социальные игры, игры-шоу, либо игры, предполагающие обучение чему-то (например, достаточно популярная Just Dance - развивающая танцевальные навыки). Популярность этих игр связана с переходом социализации и обучения в сеть; и удобством их использования для современного поколения. Также существуют игры на платформах, ставших наиболее популярными только в одном регионе: \"Гонки\" для Европы и \"Платформер\" для Японии. Различия в приверженности определённым жанрам могут быть в том числе связаны с различиями в популярности платформ в регионах. К примеру, игры в жанре \"Шутер\" непопулярны в Японии. Но, возможно, игр в этом жанре не так много на популярном в регионе платформере. В то же время различия в предпочтениях могут быть связаны с культурными особенностями, формирующими предпочтения потребителей. В Северной Америке и Европе очень схожи доли продаж популярных жанров, но и культура достаточно близка; в Японии предпочтения отличаются.\n",
    "\n",
    "В Северной Америке наиболее продаваемыми играми за анализируемый период являются игры c рейтингом E (\"для всех\") - 38% от продаж; на втором месте игры с рейтингом M (\"для взрослых\") - 27%; на третьем месте игры с рейтингом T (\"подросткам\") - 20%; на четвёртом месте игры с рейтингом E10+ (\"для всех от 10 лет и старше\") - 15%; почти не продаются игры с рейтингом EC (\"для детей младшего возраста\") - 0,1%. В Европе наиболее продаваемыми играми за анализируемый период являются игры c рейтингом E (\"для всех\") - 36,5% от продаж; на втором месте игры с рейтингом M (\"для взрослых\") - 31%; на третьем месте игры с рейтингом T (\"подросткам\") - 18,4%; на четвёртом месте игры с рейтингом E10+ (\"для всех от 10 лет и старше\") - 13,8%; нет спроса на игры с рейтингом EC (\"для детей младшего возраста\"). В Японии наиболее продаваемыми играми за анализируемый период являются игры c рейтингом E (\"для всех\") - 42,7% от продаж; на втором месте игры с рейтингом T (\"подросткам\") - 29,2%; на третьем месте игры с рейтингом M (\"для взрослых\") - 15,2%; на четвёртом месте игры с рейтингом E10+ (\"для всех от 10 лет и старше\") - 12,9%; нет спроса на игры с рейтингом EC (\"для детей младшего возраста\"). Таким образом, **в Северной Америке и Европе схожая структура продаж по рейтингу игр. В Японии предпочтения отличаются: подростковые игры более популярны, чем игры для взрослых. В остальном структура похожа. На игры для детей младшего возраста нет спроса ни в одном регионе.**\n",
    "\n",
    "Кроме того, были проведены t-тесты, в результате которых было выявлено, что **средние пользовательские рейтинги платформ Xbox One и PC различаются; и средние пользовательские рейтинги жанров Action и Sports также различаются.**"
   ]
  },
  {
   "cell_type": "markdown",
   "metadata": {},
   "source": [
    "## Рекомендации <a id='step_6'></a>"
   ]
  },
  {
   "cell_type": "markdown",
   "metadata": {},
   "source": [
    "Таким образом, для того, чтобы спланировать рекламные кампании на 2017 г., интернет-магазину \"Стримчик\" предложены **следующие рекомендации**:\n",
    "\n",
    "1. Не ориентироваться при продаже игр на пользовательские оценки; не придавать большого значения оценкам критиков, но принимать их во внимание.\n",
    "\n",
    "2. Учитывать, что срок устаревания платформы составляет 8-10 лет; не выставлять на продажу игры на платформах, для которых этот срок приближается к 6-8 годам (основной доход можно получить от продаж игр на платформах, вышедших до 6 лет назад).\n",
    "\n",
    "3. Диверсифицировать продажи игр по платформам (наблюдается тенденция популярности среди пользователей различных платформ) следующим образом: продавать игры на платформах XBoxOne и PlayStation4 (это потенциально самые доходные платформы); а также на платформах 3DS, PlaystationVita, WiiU (менее популярные, но потенциально доходные платформы). \n",
    "\n",
    "4. Продажа игр по платформам в разрезе регионов должна осуществляться следующим образом: в Северной Америкеи Европе следует продавать игры на Playstation4 и XboxOne, делая акцент на играх в жанре \"Экшн\" (как самых прибыльных) и \"Шутер\" (как самых стабильных по продажам); в Японии следует продавать игры на 3DS, делая акцент на играх в жанрах \"Ролевые\".\n",
    "\n",
    "5. В каждом из регионов рекомендуется осуществлять продажи игр с рейтингом E (\"для всех\"). В Северной Америке и Европе также возможны высокие продажи игр с рейтингом M (\"для взрослых\"), а в Японии - с рейтингом T (\"для подростков\")."
   ]
  }
 ],
 "metadata": {
  "kernelspec": {
   "display_name": "Python 3",
   "language": "python",
   "name": "python3"
  },
  "language_info": {
   "codemirror_mode": {
    "name": "ipython",
    "version": 3
   },
   "file_extension": ".py",
   "mimetype": "text/x-python",
   "name": "python",
   "nbconvert_exporter": "python",
   "pygments_lexer": "ipython3",
   "version": "3.7.6"
  }
 },
 "nbformat": 4,
 "nbformat_minor": 2
}
