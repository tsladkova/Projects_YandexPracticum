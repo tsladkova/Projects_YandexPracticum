{
 "cells": [
  {
   "cell_type": "markdown",
   "metadata": {},
   "source": [
    "# Аналитика в крупном интернет-магазине"
   ]
  },
  {
   "cell_type": "markdown",
   "metadata": {},
   "source": [
    "## Введение"
   ]
  },
  {
   "cell_type": "markdown",
   "metadata": {},
   "source": [
    "Данное исследование **направлено на** подготовку рекомендаций по увеличению выручки интернет-магазина на основе результатов A/B-теста.\n",
    "\n",
    "Иследование состоит из следующих **этапов**:\n",
    "\n",
    "1. [Обзор данных и изучение общей информации](#step_1):\n",
    "    * [Импорт библиотек](#step_1.1);\n",
    "    * [Гипотезы по увеличению выручки с основными параметрами](#step_1.2);\n",
    "    * [Заказы в интернет-магазине](#step_1.3);\n",
    "    * [Пользователи интернет-магазина](#step_1.4);\n",
    "    * [Вывод](#step_1.5).\n",
    "2. [Подготовка данных](#step_2):\n",
    "    * [Замена названий столбцов](#step_2.1);\n",
    "    * [Замена типа данных](#step_2.2);\n",
    "    * [Определение и исправление ошибок в данных](#step_2.3);\n",
    "    * [Вывод](#step_2.4).\n",
    "3. [Приоритизация гипотез](#step_3):\n",
    "    * [Приоритизация фреймворком ICE](#step_3.1);\n",
    "    * [Приоритизация фреймворком RICE](#step_3.2);\n",
    "    * [Различия в приоритизации фреймворками ICE и RICE](#step_3.3);\n",
    "    * [Вывод](#step_3.4).\n",
    "4. [Анализ A/B-теста](#step_4):\n",
    "    * [Кумулятивная выручка по группам](#step_4.1);\n",
    "    * [Кумулятивный средний чек по группам](#step_4.2);\n",
    "    * [Относительное изменение кумулятивного среднего чека группы B к группе A](#step_4.3);\n",
    "    * [Кумулятивная конверсия по группам](#step_4.4);\n",
    "    * [Относительное изменение кумулятивной конверсии группы B к группе A](#step_4.5);\n",
    "    * [Распределение количества заказов по пользователям](#step_4.6);\n",
    "    * [Граница для определения аномальных пользователей](#step_4.7);\n",
    "    * [Распределение стоимостей заказов](#step_4.8);\n",
    "    * [Граница для определения аномальных заказов по стоимости](#step_4.9);\n",
    "    * [Cтатистическая значимость различий в показателях](#step_4.10);\n",
    "    * [Вывод](#step_4.11).\n",
    "5. [Общий вывод](#step_5).\n",
    "\n",
    "**Результатом исследования** является рекомендуемое решение по A/B-тесту, направленное на увеличение выручки интернет-магазина."
   ]
  },
  {
   "cell_type": "markdown",
   "metadata": {},
   "source": [
    "## Этап 1. Изучение общей информации об имеющихся данных <a id='step_1'></a>"
   ]
  },
  {
   "cell_type": "markdown",
   "metadata": {},
   "source": [
    "### Импорт библиотек <a id='step_1.1'></a>"
   ]
  },
  {
   "cell_type": "code",
   "execution_count": 1,
   "metadata": {},
   "outputs": [],
   "source": [
    "import pandas as pd\n",
    "import numpy as np\n",
    "from IPython import display\n",
    "\n",
    "import matplotlib.pyplot as plt\n",
    "import seaborn as sns\n",
    "\n",
    "import scipy.stats as st"
   ]
  },
  {
   "cell_type": "markdown",
   "metadata": {},
   "source": [
    "### Гипотезы по увеличению выручки с основными параметрами <a id='step_1.2'></a>"
   ]
  },
  {
   "cell_type": "code",
   "execution_count": 2,
   "metadata": {},
   "outputs": [
    {
     "data": {
      "text/html": [
       "<div>\n",
       "<style scoped>\n",
       "    .dataframe tbody tr th:only-of-type {\n",
       "        vertical-align: middle;\n",
       "    }\n",
       "\n",
       "    .dataframe tbody tr th {\n",
       "        vertical-align: top;\n",
       "    }\n",
       "\n",
       "    .dataframe thead th {\n",
       "        text-align: right;\n",
       "    }\n",
       "</style>\n",
       "<table border=\"1\" class=\"dataframe\">\n",
       "  <thead>\n",
       "    <tr style=\"text-align: right;\">\n",
       "      <th></th>\n",
       "      <th>Hypothesis</th>\n",
       "      <th>Reach</th>\n",
       "      <th>Impact</th>\n",
       "      <th>Confidence</th>\n",
       "      <th>Efforts</th>\n",
       "    </tr>\n",
       "  </thead>\n",
       "  <tbody>\n",
       "    <tr>\n",
       "      <th>0</th>\n",
       "      <td>Добавить два новых канала привлечения трафика, что позволит привлекать на 30% больше пользователей</td>\n",
       "      <td>3</td>\n",
       "      <td>10</td>\n",
       "      <td>8</td>\n",
       "      <td>6</td>\n",
       "    </tr>\n",
       "    <tr>\n",
       "      <th>1</th>\n",
       "      <td>Запустить собственную службу доставки, что сократит срок доставки заказов</td>\n",
       "      <td>2</td>\n",
       "      <td>5</td>\n",
       "      <td>4</td>\n",
       "      <td>10</td>\n",
       "    </tr>\n",
       "    <tr>\n",
       "      <th>2</th>\n",
       "      <td>Добавить блоки рекомендаций товаров на сайт интернет магазина, чтобы повысить конверсию и средний чек заказа</td>\n",
       "      <td>8</td>\n",
       "      <td>3</td>\n",
       "      <td>7</td>\n",
       "      <td>3</td>\n",
       "    </tr>\n",
       "    <tr>\n",
       "      <th>3</th>\n",
       "      <td>Изменить структура категорий, что увеличит конверсию, т.к. пользователи быстрее найдут нужный товар</td>\n",
       "      <td>8</td>\n",
       "      <td>3</td>\n",
       "      <td>3</td>\n",
       "      <td>8</td>\n",
       "    </tr>\n",
       "    <tr>\n",
       "      <th>4</th>\n",
       "      <td>Изменить цвет фона главной страницы, чтобы увеличить вовлеченность пользователей</td>\n",
       "      <td>3</td>\n",
       "      <td>1</td>\n",
       "      <td>1</td>\n",
       "      <td>1</td>\n",
       "    </tr>\n",
       "    <tr>\n",
       "      <th>5</th>\n",
       "      <td>Добавить страницу отзывов клиентов о магазине, что позволит увеличить количество заказов</td>\n",
       "      <td>3</td>\n",
       "      <td>2</td>\n",
       "      <td>2</td>\n",
       "      <td>3</td>\n",
       "    </tr>\n",
       "    <tr>\n",
       "      <th>6</th>\n",
       "      <td>Показать на главной странице баннеры с актуальными акциями и распродажами, чтобы увеличить конверсию</td>\n",
       "      <td>5</td>\n",
       "      <td>3</td>\n",
       "      <td>8</td>\n",
       "      <td>3</td>\n",
       "    </tr>\n",
       "    <tr>\n",
       "      <th>7</th>\n",
       "      <td>Добавить форму подписки на все основные страницы, чтобы собрать базу клиентов для email-рассылок</td>\n",
       "      <td>10</td>\n",
       "      <td>7</td>\n",
       "      <td>8</td>\n",
       "      <td>5</td>\n",
       "    </tr>\n",
       "    <tr>\n",
       "      <th>8</th>\n",
       "      <td>Запустить акцию, дающую скидку на товар в день рождения</td>\n",
       "      <td>1</td>\n",
       "      <td>9</td>\n",
       "      <td>9</td>\n",
       "      <td>5</td>\n",
       "    </tr>\n",
       "  </tbody>\n",
       "</table>\n",
       "</div>"
      ],
      "text/plain": [
       "                                                                                                     Hypothesis  \\\n",
       "0            Добавить два новых канала привлечения трафика, что позволит привлекать на 30% больше пользователей   \n",
       "1                                     Запустить собственную службу доставки, что сократит срок доставки заказов   \n",
       "2  Добавить блоки рекомендаций товаров на сайт интернет магазина, чтобы повысить конверсию и средний чек заказа   \n",
       "3           Изменить структура категорий, что увеличит конверсию, т.к. пользователи быстрее найдут нужный товар   \n",
       "4                              Изменить цвет фона главной страницы, чтобы увеличить вовлеченность пользователей   \n",
       "5                      Добавить страницу отзывов клиентов о магазине, что позволит увеличить количество заказов   \n",
       "6          Показать на главной странице баннеры с актуальными акциями и распродажами, чтобы увеличить конверсию   \n",
       "7              Добавить форму подписки на все основные страницы, чтобы собрать базу клиентов для email-рассылок   \n",
       "8                                                       Запустить акцию, дающую скидку на товар в день рождения   \n",
       "\n",
       "   Reach  Impact  Confidence  Efforts  \n",
       "0      3      10           8        6  \n",
       "1      2       5           4       10  \n",
       "2      8       3           7        3  \n",
       "3      8       3           3        8  \n",
       "4      3       1           1        1  \n",
       "5      3       2           2        3  \n",
       "6      5       3           8        3  \n",
       "7     10       7           8        5  \n",
       "8      1       9           9        5  "
      ]
     },
     "execution_count": 2,
     "metadata": {},
     "output_type": "execute_result"
    }
   ],
   "source": [
    "# Прочитаем файл hypothesis.csv с информацией о гипотезах по увеличению выручки и сохраним его в переменной hypothesis\n",
    "pd.options.display.max_colwidth = 120\n",
    "hypothesis = pd.read_csv('C:/Users/Public/Jupyter/hypothesis.csv')\n",
    "hypothesis"
   ]
  },
  {
   "cell_type": "code",
   "execution_count": 3,
   "metadata": {},
   "outputs": [
    {
     "name": "stdout",
     "output_type": "stream",
     "text": [
      "<class 'pandas.core.frame.DataFrame'>\n",
      "RangeIndex: 9 entries, 0 to 8\n",
      "Data columns (total 5 columns):\n",
      " #   Column      Non-Null Count  Dtype \n",
      "---  ------      --------------  ----- \n",
      " 0   Hypothesis  9 non-null      object\n",
      " 1   Reach       9 non-null      int64 \n",
      " 2   Impact      9 non-null      int64 \n",
      " 3   Confidence  9 non-null      int64 \n",
      " 4   Efforts     9 non-null      int64 \n",
      "dtypes: int64(4), object(1)\n",
      "memory usage: 488.0+ bytes\n"
     ]
    }
   ],
   "source": [
    "display.display(data=hypothesis.info())"
   ]
  },
  {
   "cell_type": "markdown",
   "metadata": {},
   "source": [
    "Данные представлены в виде таблицы, включающей в себя 9 строк и 5 столбцов, тип данных у одного столбца - < object >, у четырёх остальных - целочисленные (< int >). Разберём, какие в таблице столбцы, и какую информацию они содержат:\n",
    "- `Hypothesis` — краткое описание гипотезы;\n",
    "- `Reach` — охват пользователей по 10-балльной шкале;\n",
    "- `Impact` — влияние на пользователей по 10-балльной шкале;\n",
    "- `Confidence` — уверенность в гипотезе по 10-балльной шкале;\n",
    "- `Efforts` — затраты ресурсов на проверку гипотезы по 10-балльной шкале;\n",
    "\n",
    "Чем больше значение `Efforts`, тем дороже проверка гипотезы.\n",
    "\n",
    "Отметим, что в типе данных нет несоответствий. Однако, для удобства анализа следует привести названия столбцов к нижнему регистру. Отметим, что одинаковое количество значений в столбцах указывает на отсутствие в таблице пропусков."
   ]
  },
  {
   "cell_type": "markdown",
   "metadata": {},
   "source": [
    "### Заказы в интернет-магазине <a id='step_1.3'></a>"
   ]
  },
  {
   "cell_type": "code",
   "execution_count": 4,
   "metadata": {},
   "outputs": [
    {
     "data": {
      "text/html": [
       "<div>\n",
       "<style scoped>\n",
       "    .dataframe tbody tr th:only-of-type {\n",
       "        vertical-align: middle;\n",
       "    }\n",
       "\n",
       "    .dataframe tbody tr th {\n",
       "        vertical-align: top;\n",
       "    }\n",
       "\n",
       "    .dataframe thead th {\n",
       "        text-align: right;\n",
       "    }\n",
       "</style>\n",
       "<table border=\"1\" class=\"dataframe\">\n",
       "  <thead>\n",
       "    <tr style=\"text-align: right;\">\n",
       "      <th></th>\n",
       "      <th>transactionId</th>\n",
       "      <th>visitorId</th>\n",
       "      <th>date</th>\n",
       "      <th>revenue</th>\n",
       "      <th>group</th>\n",
       "    </tr>\n",
       "  </thead>\n",
       "  <tbody>\n",
       "    <tr>\n",
       "      <th>0</th>\n",
       "      <td>3667963787</td>\n",
       "      <td>3312258926</td>\n",
       "      <td>2019-08-15</td>\n",
       "      <td>1650</td>\n",
       "      <td>B</td>\n",
       "    </tr>\n",
       "    <tr>\n",
       "      <th>1</th>\n",
       "      <td>2804400009</td>\n",
       "      <td>3642806036</td>\n",
       "      <td>2019-08-15</td>\n",
       "      <td>730</td>\n",
       "      <td>B</td>\n",
       "    </tr>\n",
       "    <tr>\n",
       "      <th>2</th>\n",
       "      <td>2961555356</td>\n",
       "      <td>4069496402</td>\n",
       "      <td>2019-08-15</td>\n",
       "      <td>400</td>\n",
       "      <td>A</td>\n",
       "    </tr>\n",
       "    <tr>\n",
       "      <th>3</th>\n",
       "      <td>3797467345</td>\n",
       "      <td>1196621759</td>\n",
       "      <td>2019-08-15</td>\n",
       "      <td>9759</td>\n",
       "      <td>B</td>\n",
       "    </tr>\n",
       "    <tr>\n",
       "      <th>4</th>\n",
       "      <td>2282983706</td>\n",
       "      <td>2322279887</td>\n",
       "      <td>2019-08-15</td>\n",
       "      <td>2308</td>\n",
       "      <td>B</td>\n",
       "    </tr>\n",
       "  </tbody>\n",
       "</table>\n",
       "</div>"
      ],
      "text/plain": [
       "   transactionId   visitorId        date  revenue group\n",
       "0     3667963787  3312258926  2019-08-15     1650     B\n",
       "1     2804400009  3642806036  2019-08-15      730     B\n",
       "2     2961555356  4069496402  2019-08-15      400     A\n",
       "3     3797467345  1196621759  2019-08-15     9759     B\n",
       "4     2282983706  2322279887  2019-08-15     2308     B"
      ]
     },
     "execution_count": 4,
     "metadata": {},
     "output_type": "execute_result"
    }
   ],
   "source": [
    "# Прочитаем файл orders.csv с информацией о заказах и сохраним его в переменной orders\n",
    "orders = pd.read_csv('C:/Users/Public/Jupyter/orders.csv')\n",
    "orders.head()"
   ]
  },
  {
   "cell_type": "code",
   "execution_count": 5,
   "metadata": {},
   "outputs": [
    {
     "name": "stdout",
     "output_type": "stream",
     "text": [
      "<class 'pandas.core.frame.DataFrame'>\n",
      "RangeIndex: 1197 entries, 0 to 1196\n",
      "Data columns (total 5 columns):\n",
      " #   Column         Non-Null Count  Dtype \n",
      "---  ------         --------------  ----- \n",
      " 0   transactionId  1197 non-null   int64 \n",
      " 1   visitorId      1197 non-null   int64 \n",
      " 2   date           1197 non-null   object\n",
      " 3   revenue        1197 non-null   int64 \n",
      " 4   group          1197 non-null   object\n",
      "dtypes: int64(3), object(2)\n",
      "memory usage: 46.9+ KB\n"
     ]
    }
   ],
   "source": [
    "display.display(data=orders.info())"
   ]
  },
  {
   "cell_type": "markdown",
   "metadata": {},
   "source": [
    "Данные представлены в виде таблицы, включающей в себя 1 197 строк и 5 столбцов, тип данных у двух столбцов - < object >, у остальных трёх столбцов - целочисленный < int >. Разберём, какие в таблице столбцы, и какую информацию они содержат:\n",
    "- `transactionId` — идентификатор заказа;\n",
    "- `visitorId` — идентификатор пользователя, совершившего заказ;\n",
    "- `date` — дата, когда был совершён заказ;\n",
    "- `revenue` — выручка заказа;\n",
    "- `group` — группа A/B-теста, в которую попал заказ.\n",
    "\n",
    "Отметим, что в данной таблице есть несоответствие типа данных в столбце `date` - это столбец с датой. Отметим, что одинаковое количество значений в столбцах указывает на отсутствие в таблице пропусков."
   ]
  },
  {
   "cell_type": "code",
   "execution_count": 6,
   "metadata": {},
   "outputs": [
    {
     "data": {
      "text/plain": [
       "array(['2019-08-01', '2019-08-02', '2019-08-03', '2019-08-04',\n",
       "       '2019-08-05', '2019-08-06', '2019-08-07', '2019-08-08',\n",
       "       '2019-08-09', '2019-08-10', '2019-08-11', '2019-08-12',\n",
       "       '2019-08-13', '2019-08-14', '2019-08-15', '2019-08-16',\n",
       "       '2019-08-17', '2019-08-18', '2019-08-19', '2019-08-20',\n",
       "       '2019-08-21', '2019-08-22', '2019-08-23', '2019-08-24',\n",
       "       '2019-08-25', '2019-08-26', '2019-08-27', '2019-08-28',\n",
       "       '2019-08-29', '2019-08-30', '2019-08-31'], dtype=object)"
      ]
     },
     "execution_count": 6,
     "metadata": {},
     "output_type": "execute_result"
    }
   ],
   "source": [
    "orders['date'].sort_values().unique()"
   ]
  },
  {
   "cell_type": "markdown",
   "metadata": {},
   "source": [
    "Данные о заказах представлены за период с 1 августа по 31 августа 2019 года."
   ]
  },
  {
   "cell_type": "code",
   "execution_count": 7,
   "metadata": {},
   "outputs": [
    {
     "data": {
      "text/plain": [
       "array(['A', 'B'], dtype=object)"
      ]
     },
     "execution_count": 7,
     "metadata": {},
     "output_type": "execute_result"
    }
   ],
   "source": [
    "orders['group'].sort_values().unique()"
   ]
  },
  {
   "cell_type": "markdown",
   "metadata": {},
   "source": [
    "A/B-тест включал в себя только 2 группы: A и B."
   ]
  },
  {
   "cell_type": "code",
   "execution_count": 8,
   "metadata": {},
   "outputs": [
    {
     "data": {
      "text/plain": [
       "count    1.197000e+03\n",
       "mean     8.348006e+03\n",
       "std      3.919113e+04\n",
       "min      5.000000e+01\n",
       "25%      1.220000e+03\n",
       "50%      2.978000e+03\n",
       "75%      8.290000e+03\n",
       "max      1.294500e+06\n",
       "Name: revenue, dtype: float64"
      ]
     },
     "execution_count": 8,
     "metadata": {},
     "output_type": "execute_result"
    }
   ],
   "source": [
    "orders['revenue'].describe()"
   ]
  },
  {
   "cell_type": "markdown",
   "metadata": {},
   "source": [
    "В данных о выручке заказа достаточно большой разброс: от 50 до 1 294 500 ден.ед. со средним значением 8 350 ден.ед. и медианой 2 978 ден.ед. Такой разброс может быть связан с очень дифференцированным по типу и цене продуктом, представленным в интернет-магазине."
   ]
  },
  {
   "cell_type": "markdown",
   "metadata": {},
   "source": [
    "### Пользователи интернет-магазина <a id='step_1.4'></a>"
   ]
  },
  {
   "cell_type": "code",
   "execution_count": 9,
   "metadata": {},
   "outputs": [
    {
     "data": {
      "text/html": [
       "<div>\n",
       "<style scoped>\n",
       "    .dataframe tbody tr th:only-of-type {\n",
       "        vertical-align: middle;\n",
       "    }\n",
       "\n",
       "    .dataframe tbody tr th {\n",
       "        vertical-align: top;\n",
       "    }\n",
       "\n",
       "    .dataframe thead th {\n",
       "        text-align: right;\n",
       "    }\n",
       "</style>\n",
       "<table border=\"1\" class=\"dataframe\">\n",
       "  <thead>\n",
       "    <tr style=\"text-align: right;\">\n",
       "      <th></th>\n",
       "      <th>date</th>\n",
       "      <th>group</th>\n",
       "      <th>visitors</th>\n",
       "    </tr>\n",
       "  </thead>\n",
       "  <tbody>\n",
       "    <tr>\n",
       "      <th>0</th>\n",
       "      <td>2019-08-01</td>\n",
       "      <td>A</td>\n",
       "      <td>719</td>\n",
       "    </tr>\n",
       "    <tr>\n",
       "      <th>1</th>\n",
       "      <td>2019-08-02</td>\n",
       "      <td>A</td>\n",
       "      <td>619</td>\n",
       "    </tr>\n",
       "    <tr>\n",
       "      <th>2</th>\n",
       "      <td>2019-08-03</td>\n",
       "      <td>A</td>\n",
       "      <td>507</td>\n",
       "    </tr>\n",
       "    <tr>\n",
       "      <th>3</th>\n",
       "      <td>2019-08-04</td>\n",
       "      <td>A</td>\n",
       "      <td>717</td>\n",
       "    </tr>\n",
       "    <tr>\n",
       "      <th>4</th>\n",
       "      <td>2019-08-05</td>\n",
       "      <td>A</td>\n",
       "      <td>756</td>\n",
       "    </tr>\n",
       "  </tbody>\n",
       "</table>\n",
       "</div>"
      ],
      "text/plain": [
       "         date group  visitors\n",
       "0  2019-08-01     A       719\n",
       "1  2019-08-02     A       619\n",
       "2  2019-08-03     A       507\n",
       "3  2019-08-04     A       717\n",
       "4  2019-08-05     A       756"
      ]
     },
     "execution_count": 9,
     "metadata": {},
     "output_type": "execute_result"
    }
   ],
   "source": [
    "# Прочитаем файл visitors.csv с информацией о пользователях и сохраним его в переменной visitors\n",
    "visitors = pd.read_csv('C:/Users/Public/Jupyter/visitors.csv')\n",
    "visitors.head()"
   ]
  },
  {
   "cell_type": "code",
   "execution_count": 10,
   "metadata": {},
   "outputs": [
    {
     "name": "stdout",
     "output_type": "stream",
     "text": [
      "<class 'pandas.core.frame.DataFrame'>\n",
      "RangeIndex: 62 entries, 0 to 61\n",
      "Data columns (total 3 columns):\n",
      " #   Column    Non-Null Count  Dtype \n",
      "---  ------    --------------  ----- \n",
      " 0   date      62 non-null     object\n",
      " 1   group     62 non-null     object\n",
      " 2   visitors  62 non-null     int64 \n",
      "dtypes: int64(1), object(2)\n",
      "memory usage: 1.6+ KB\n"
     ]
    }
   ],
   "source": [
    "display.display(data=visitors.info())"
   ]
  },
  {
   "cell_type": "markdown",
   "metadata": {},
   "source": [
    "Данные представлены в виде таблицы, включающей в себя 62 строки и 3 столбца, тип данных у двух столбцов - < object >, у одного столбца - целочисленный < int >. Разберём, какие в таблице столбцы, и какую информацию они содержат:\n",
    "- `date` — дата;\n",
    "- `group` — группа A/B-теста;\n",
    "- `visitors` — количество пользователей в указанную дату в указанной группе A/B-теста.\n",
    "\n",
    "Отметим, что в данной таблице есть несоответствие типа данных в столбце `date` - это столбец с датой. Отметим, что одинаковое количество значений в столбцах указывает на отсутствие в таблице пропусков."
   ]
  },
  {
   "cell_type": "code",
   "execution_count": 11,
   "metadata": {},
   "outputs": [
    {
     "data": {
      "text/plain": [
       "array(['A', 'B'], dtype=object)"
      ]
     },
     "execution_count": 11,
     "metadata": {},
     "output_type": "execute_result"
    }
   ],
   "source": [
    "visitors['group'].sort_values().unique()"
   ]
  },
  {
   "cell_type": "code",
   "execution_count": 12,
   "metadata": {},
   "outputs": [
    {
     "data": {
      "text/plain": [
       "array(['2019-08-01', '2019-08-02', '2019-08-03', '2019-08-04',\n",
       "       '2019-08-05', '2019-08-06', '2019-08-07', '2019-08-08',\n",
       "       '2019-08-09', '2019-08-10', '2019-08-11', '2019-08-12',\n",
       "       '2019-08-13', '2019-08-14', '2019-08-15', '2019-08-16',\n",
       "       '2019-08-17', '2019-08-18', '2019-08-19', '2019-08-20',\n",
       "       '2019-08-21', '2019-08-22', '2019-08-23', '2019-08-24',\n",
       "       '2019-08-25', '2019-08-26', '2019-08-27', '2019-08-28',\n",
       "       '2019-08-29', '2019-08-30', '2019-08-31'], dtype=object)"
      ]
     },
     "execution_count": 12,
     "metadata": {},
     "output_type": "execute_result"
    }
   ],
   "source": [
    "visitors['date'].sort_values().unique()"
   ]
  },
  {
   "cell_type": "markdown",
   "metadata": {},
   "source": [
    "Данные о посетителях также представлены за период с 1 августа по 31 августа 2019 года."
   ]
  },
  {
   "cell_type": "markdown",
   "metadata": {},
   "source": [
    "### Вывод <a id='step_1.5'></a>"
   ]
  },
  {
   "cell_type": "markdown",
   "metadata": {},
   "source": [
    "У нас имеется три исходные таблицы с данными о гипотезах по увеличению выручки с их основными параметрами, заказах и пользователях интернет-магазина. Все три датафрейма не имеют пропусков, но два из них требуют изменения типов данных в столбцах с датой. Также необходимо приведение названий столбцов в подходящий для анализа вид в таблице с гипотезами.\n",
    "\n",
    "Имеется 9 гипотез по увеличению выручки:\n",
    "1. Добавить два новых канала привлечения трафика, что позволит привлекать на 30% больше пользователей;\n",
    "2. Запустить собственную службу доставки, что сократит срок доставки заказов;\n",
    "3. Добавить блоки рекомендаций товаров на сайт интернет магазина, чтобы повысить конверсию и средний чек заказа;\n",
    "4. Изменить структуру категорий, что увеличит конверсию, т.к. пользователи быстрее найдут нужный товар;\n",
    "5. Изменить цвет фона главной страницы, чтобы увеличить вовлеченность пользователей;\n",
    "6. Добавить страницу отзывов клиентов о магазине, что позволит увеличить количество заказов;\n",
    "7. Показать на главной странице баннеры с актуальными акциями и распродажами, чтобы увеличить конверсию;\n",
    "8. Добавить форму подписки на все основные страницы, чтобы собрать базу клиентов для email-рассылок;\n",
    "9. Запустить акцию, дающую скидку на товар в день рождения.\n",
    "\n",
    "Видим, что A/B-тест включал в себя только 2 группы: A и B. По ним и приведены результаты теста. Все данные с результатам представлены за период с 1 августа по 31 августа 2019 года.\n",
    "\n",
    "Также отметим, что в данных о выручке заказа имеется достаточно большой разброс: от 50 до 1 294 500 ден.ед. со средним значением 8 350 ден.ед. и медианой 2 978 ден.ед. Такой разброс может быть связан с очень дифференцированным по типу и цене продуктом, представленным в интернет-магазине."
   ]
  },
  {
   "cell_type": "markdown",
   "metadata": {},
   "source": [
    "## Этап 2. Подготовка данных <a id='step_2'></a>"
   ]
  },
  {
   "cell_type": "markdown",
   "metadata": {},
   "source": [
    "### Замена названий столбцов <a id='step_2.1'></a>"
   ]
  },
  {
   "cell_type": "markdown",
   "metadata": {},
   "source": [
    "При анализе информации об исходных датасетах мы обратили внимание на то, что для дальнейшего анализа необходимо привести названия столбцов таблицы hypothesis к одному (нижнему) регистру."
   ]
  },
  {
   "cell_type": "code",
   "execution_count": 13,
   "metadata": {},
   "outputs": [
    {
     "data": {
      "text/plain": [
       "Index(['hypothesis', 'reach', 'impact', 'confidence', 'efforts'], dtype='object')"
      ]
     },
     "execution_count": 13,
     "metadata": {},
     "output_type": "execute_result"
    }
   ],
   "source": [
    "hypothesis.columns = hypothesis.columns.str.lower()\n",
    "hypothesis.columns"
   ]
  },
  {
   "cell_type": "markdown",
   "metadata": {},
   "source": [
    "Все названия столбцов имеют подходящий для анализа вид."
   ]
  },
  {
   "cell_type": "markdown",
   "metadata": {},
   "source": [
    "### Замена типа данных <a id='step_2.2'></a>"
   ]
  },
  {
   "cell_type": "markdown",
   "metadata": {},
   "source": [
    "Выше мы указали столбцы, которые требуют изменения типа данных: это данные с датой."
   ]
  },
  {
   "cell_type": "code",
   "execution_count": 14,
   "metadata": {},
   "outputs": [],
   "source": [
    "# Функция замены типа данных для столбцов с датой:\n",
    "def to_date(df, column):\n",
    "    df[column] = pd.to_datetime(df[column], format='%Y-%m-%d')"
   ]
  },
  {
   "cell_type": "code",
   "execution_count": 15,
   "metadata": {},
   "outputs": [],
   "source": [
    "# Заменяем тип данных для столбцов с датой:\n",
    "to_date(orders, 'date')\n",
    "to_date(visitors, 'date')"
   ]
  },
  {
   "cell_type": "markdown",
   "metadata": {},
   "source": [
    "Проверим, что тип данных заменён везде, где это требовалось."
   ]
  },
  {
   "cell_type": "code",
   "execution_count": 16,
   "metadata": {},
   "outputs": [
    {
     "name": "stdout",
     "output_type": "stream",
     "text": [
      "<class 'pandas.core.frame.DataFrame'>\n",
      "RangeIndex: 9 entries, 0 to 8\n",
      "Data columns (total 5 columns):\n",
      " #   Column      Non-Null Count  Dtype \n",
      "---  ------      --------------  ----- \n",
      " 0   hypothesis  9 non-null      object\n",
      " 1   reach       9 non-null      int64 \n",
      " 2   impact      9 non-null      int64 \n",
      " 3   confidence  9 non-null      int64 \n",
      " 4   efforts     9 non-null      int64 \n",
      "dtypes: int64(4), object(1)\n",
      "memory usage: 488.0+ bytes\n",
      "\n",
      "<class 'pandas.core.frame.DataFrame'>\n",
      "RangeIndex: 1197 entries, 0 to 1196\n",
      "Data columns (total 5 columns):\n",
      " #   Column         Non-Null Count  Dtype         \n",
      "---  ------         --------------  -----         \n",
      " 0   transactionId  1197 non-null   int64         \n",
      " 1   visitorId      1197 non-null   int64         \n",
      " 2   date           1197 non-null   datetime64[ns]\n",
      " 3   revenue        1197 non-null   int64         \n",
      " 4   group          1197 non-null   object        \n",
      "dtypes: datetime64[ns](1), int64(3), object(1)\n",
      "memory usage: 46.9+ KB\n",
      "\n",
      "<class 'pandas.core.frame.DataFrame'>\n",
      "RangeIndex: 62 entries, 0 to 61\n",
      "Data columns (total 3 columns):\n",
      " #   Column    Non-Null Count  Dtype         \n",
      "---  ------    --------------  -----         \n",
      " 0   date      62 non-null     datetime64[ns]\n",
      " 1   group     62 non-null     object        \n",
      " 2   visitors  62 non-null     int64         \n",
      "dtypes: datetime64[ns](1), int64(1), object(1)\n",
      "memory usage: 1.6+ KB\n"
     ]
    }
   ],
   "source": [
    "display.display(data=hypothesis.info())\n",
    "print()\n",
    "display.display(data=orders.info())\n",
    "print()\n",
    "display.display(data=visitors.info())"
   ]
  },
  {
   "cell_type": "markdown",
   "metadata": {},
   "source": [
    "### Определение и исправление ошибок в данных <a id='step_2.3'></a>"
   ]
  },
  {
   "cell_type": "markdown",
   "metadata": {},
   "source": [
    "Проверим отсутствие пропусков в данных."
   ]
  },
  {
   "cell_type": "code",
   "execution_count": 17,
   "metadata": {},
   "outputs": [
    {
     "data": {
      "text/plain": [
       "hypothesis    0\n",
       "reach         0\n",
       "impact        0\n",
       "confidence    0\n",
       "efforts       0\n",
       "dtype: int64"
      ]
     },
     "execution_count": 17,
     "metadata": {},
     "output_type": "execute_result"
    }
   ],
   "source": [
    "hypothesis.isna().sum()"
   ]
  },
  {
   "cell_type": "code",
   "execution_count": 18,
   "metadata": {},
   "outputs": [
    {
     "data": {
      "text/plain": [
       "transactionId    0\n",
       "visitorId        0\n",
       "date             0\n",
       "revenue          0\n",
       "group            0\n",
       "dtype: int64"
      ]
     },
     "execution_count": 18,
     "metadata": {},
     "output_type": "execute_result"
    }
   ],
   "source": [
    "orders.isna().sum()"
   ]
  },
  {
   "cell_type": "code",
   "execution_count": 19,
   "metadata": {},
   "outputs": [
    {
     "data": {
      "text/plain": [
       "date        0\n",
       "group       0\n",
       "visitors    0\n",
       "dtype: int64"
      ]
     },
     "execution_count": 19,
     "metadata": {},
     "output_type": "execute_result"
    }
   ],
   "source": [
    "visitors.isna().sum()"
   ]
  },
  {
   "cell_type": "markdown",
   "metadata": {},
   "source": [
    "Проверим отсутствие дубликатов в данных."
   ]
  },
  {
   "cell_type": "code",
   "execution_count": 20,
   "metadata": {},
   "outputs": [
    {
     "data": {
      "text/plain": [
       "0"
      ]
     },
     "execution_count": 20,
     "metadata": {},
     "output_type": "execute_result"
    }
   ],
   "source": [
    "hypothesis.duplicated().sum()"
   ]
  },
  {
   "cell_type": "code",
   "execution_count": 21,
   "metadata": {},
   "outputs": [
    {
     "data": {
      "text/plain": [
       "0"
      ]
     },
     "execution_count": 21,
     "metadata": {},
     "output_type": "execute_result"
    }
   ],
   "source": [
    "orders.duplicated().sum()"
   ]
  },
  {
   "cell_type": "code",
   "execution_count": 22,
   "metadata": {},
   "outputs": [
    {
     "data": {
      "text/plain": [
       "0"
      ]
     },
     "execution_count": 22,
     "metadata": {},
     "output_type": "execute_result"
    }
   ],
   "source": [
    "visitors.duplicated().sum()"
   ]
  },
  {
   "cell_type": "markdown",
   "metadata": {},
   "source": [
    "Проверим, что одни и те же пользователи, оформившие заказ, не попали в две разные группы (группу A и группу B), т.к. это одно из условий достоверного проведения A/B-теста."
   ]
  },
  {
   "cell_type": "code",
   "execution_count": 23,
   "metadata": {},
   "outputs": [
    {
     "data": {
      "text/plain": [
       "3.394762366634336"
      ]
     },
     "execution_count": 23,
     "metadata": {},
     "output_type": "execute_result"
    }
   ],
   "source": [
    "orders_both = (orders\n",
    "                   .pivot_table(index='visitorId',\n",
    "                                columns='group',\n",
    "                                values='revenue',\n",
    "                                aggfunc='count')\n",
    "                   .reset_index()\n",
    "                   .query('A == 1 & B == 1')\n",
    "              )\n",
    "len(orders_both['visitorId'].unique()) / len(orders['visitorId'].unique()) * 100"
   ]
  },
  {
   "cell_type": "markdown",
   "metadata": {},
   "source": [
    "У нас имеется 3,4% пользоватлей в выборке, которые попали и в группу A, и в группу B при тестировании. Для чистоты эксперимента и выводов их следовало бы исключить, но мы также помним, что выборка групп A и B при A/B-тесте должна быть примерно одинаковой для обоих групп. Проверим, не навредит ли удаление данных о пользователях в обоих группах."
   ]
  },
  {
   "cell_type": "code",
   "execution_count": 24,
   "metadata": {},
   "outputs": [
    {
     "data": {
      "text/plain": [
       "48.78758486905917"
      ]
     },
     "execution_count": 24,
     "metadata": {},
     "output_type": "execute_result"
    }
   ],
   "source": [
    "# Доля группы A до удаления пользователей в обоих группах\n",
    "len(orders[orders['group'] == 'A']['visitorId'].unique()) / len(orders['visitorId'].unique()) * 100"
   ]
  },
  {
   "cell_type": "code",
   "execution_count": 25,
   "metadata": {},
   "outputs": [
    {
     "data": {
      "text/plain": [
       "56.83802133850631"
      ]
     },
     "execution_count": 25,
     "metadata": {},
     "output_type": "execute_result"
    }
   ],
   "source": [
    "# Доля группы B до удаления пользователей в обоих группах\n",
    "len(orders[orders['group'] == 'B']['visitorId'].unique()) / len(orders['visitorId'].unique()) * 100"
   ]
  },
  {
   "cell_type": "code",
   "execution_count": 26,
   "metadata": {},
   "outputs": [
    {
     "data": {
      "text/plain": [
       "45.39282250242483"
      ]
     },
     "execution_count": 26,
     "metadata": {},
     "output_type": "execute_result"
    }
   ],
   "source": [
    "# Доля группы A после удаления пользователей в обоих группах\n",
    "(len(orders[(orders['group'] == 'A') & (orders['visitorId'].isin(orders_both['visitorId'])!=True)]['visitorId'].unique()) / \n",
    " len(orders['visitorId'].unique()) * 100)"
   ]
  },
  {
   "cell_type": "code",
   "execution_count": 27,
   "metadata": {},
   "outputs": [
    {
     "data": {
      "text/plain": [
       "53.44325897187196"
      ]
     },
     "execution_count": 27,
     "metadata": {},
     "output_type": "execute_result"
    }
   ],
   "source": [
    "# Доля группы B после удаления пользователей в обоих группах\n",
    "(len(orders[(orders['group'] == 'B') & (orders['visitorId'].isin(orders_both['visitorId'])!=True)]['visitorId'].unique()) / \n",
    " len(orders['visitorId'].unique()) * 100)"
   ]
  },
  {
   "cell_type": "markdown",
   "metadata": {},
   "source": [
    "Удаление пользователей из результатов теста сильно ухудшит долю группы A. Более того, в таблице о посещениях эти пользователи попали в обе группы, причём нам не известно, в какие даты. Таким образом, удалив их, либо сократив одну из групп и оставив их в другой, мы не сможем учесть это при работе с данными о посещениях. В связи с этим, данные следует оставить, но принимать во внимание то, что есть погрешности в результате, связанные с попаданием одних людей в разные группы при тесте."
   ]
  },
  {
   "cell_type": "markdown",
   "metadata": {},
   "source": [
    "### Вывод <a id='step_2.4'></a>"
   ]
  },
  {
   "cell_type": "markdown",
   "metadata": {},
   "source": [
    "На этапе подготовки данных названия столбцов в таблице hypothesis были приведены к нижнему регистру; была проведена замена типа данных там, где это необходимо (в столбцах с датой таблиц orders и visitors). Обработки пропусков и дубликатов не требовалось.\n",
    "\n",
    "Однако, было выявлено, что в A/B-тестировании принимали участи пользователи, попавшие в обе тестируемые группы: их было около 3,5% от всех пользователей. Для чистоты эксперимента и выводов их следовало бы исключить, но поскольку выборка групп A и B при A/B-тесте должна также быть примерно одинаковой для обоих групп, а исключение пользователей из обоих групп чревато созданием искусственного перевеса по количеству пользователей в группе B, было принято иное решение. Удаление пользователей из результатов теста сильно ухудшит долю группы A. Более того, в таблице о посещениях эти пользователи попали в обе группы, причём нам не известно, в какие даты. Таким образом, удалив их, либо сократив одну из групп и оставив их в другой, мы не сможем учесть это при работе с данными о посещениях. В связи с этим, данные следует оставить, но принимать во внимание то, что есть погрешности в результате, связанные с попаданием одних людей в разные группы при тесте.\n",
    "\n",
    "Данные готовы к анализу."
   ]
  },
  {
   "cell_type": "markdown",
   "metadata": {},
   "source": [
    "## Этап 3. Приоритизация гипотез <a id='step_3'></a>"
   ]
  },
  {
   "cell_type": "markdown",
   "metadata": {},
   "source": [
    "### Приоритизация фреймворком ICE <a id='step_3.1'></a>"
   ]
  },
  {
   "cell_type": "markdown",
   "metadata": {},
   "source": [
    "Рассчитаем показатель ICE по формуле:\n",
    "$$ICE = \\frac{Impact * Confidence}{Efforts}$$"
   ]
  },
  {
   "cell_type": "code",
   "execution_count": 28,
   "metadata": {},
   "outputs": [
    {
     "data": {
      "text/html": [
       "<div>\n",
       "<style scoped>\n",
       "    .dataframe tbody tr th:only-of-type {\n",
       "        vertical-align: middle;\n",
       "    }\n",
       "\n",
       "    .dataframe tbody tr th {\n",
       "        vertical-align: top;\n",
       "    }\n",
       "\n",
       "    .dataframe thead th {\n",
       "        text-align: right;\n",
       "    }\n",
       "</style>\n",
       "<table border=\"1\" class=\"dataframe\">\n",
       "  <thead>\n",
       "    <tr style=\"text-align: right;\">\n",
       "      <th></th>\n",
       "      <th>hypothesis</th>\n",
       "      <th>ICE</th>\n",
       "    </tr>\n",
       "  </thead>\n",
       "  <tbody>\n",
       "    <tr>\n",
       "      <th>0</th>\n",
       "      <td>Запустить акцию, дающую скидку на товар в день рождения</td>\n",
       "      <td>16.200000</td>\n",
       "    </tr>\n",
       "    <tr>\n",
       "      <th>1</th>\n",
       "      <td>Добавить два новых канала привлечения трафика, что позволит привлекать на 30% больше пользователей</td>\n",
       "      <td>13.333333</td>\n",
       "    </tr>\n",
       "    <tr>\n",
       "      <th>2</th>\n",
       "      <td>Добавить форму подписки на все основные страницы, чтобы собрать базу клиентов для email-рассылок</td>\n",
       "      <td>11.200000</td>\n",
       "    </tr>\n",
       "    <tr>\n",
       "      <th>3</th>\n",
       "      <td>Показать на главной странице баннеры с актуальными акциями и распродажами, чтобы увеличить конверсию</td>\n",
       "      <td>8.000000</td>\n",
       "    </tr>\n",
       "    <tr>\n",
       "      <th>4</th>\n",
       "      <td>Добавить блоки рекомендаций товаров на сайт интернет магазина, чтобы повысить конверсию и средний чек заказа</td>\n",
       "      <td>7.000000</td>\n",
       "    </tr>\n",
       "    <tr>\n",
       "      <th>5</th>\n",
       "      <td>Запустить собственную службу доставки, что сократит срок доставки заказов</td>\n",
       "      <td>2.000000</td>\n",
       "    </tr>\n",
       "    <tr>\n",
       "      <th>6</th>\n",
       "      <td>Добавить страницу отзывов клиентов о магазине, что позволит увеличить количество заказов</td>\n",
       "      <td>1.333333</td>\n",
       "    </tr>\n",
       "    <tr>\n",
       "      <th>7</th>\n",
       "      <td>Изменить структура категорий, что увеличит конверсию, т.к. пользователи быстрее найдут нужный товар</td>\n",
       "      <td>1.125000</td>\n",
       "    </tr>\n",
       "    <tr>\n",
       "      <th>8</th>\n",
       "      <td>Изменить цвет фона главной страницы, чтобы увеличить вовлеченность пользователей</td>\n",
       "      <td>1.000000</td>\n",
       "    </tr>\n",
       "  </tbody>\n",
       "</table>\n",
       "</div>"
      ],
      "text/plain": [
       "                                                                                                     hypothesis  \\\n",
       "0                                                       Запустить акцию, дающую скидку на товар в день рождения   \n",
       "1            Добавить два новых канала привлечения трафика, что позволит привлекать на 30% больше пользователей   \n",
       "2              Добавить форму подписки на все основные страницы, чтобы собрать базу клиентов для email-рассылок   \n",
       "3          Показать на главной странице баннеры с актуальными акциями и распродажами, чтобы увеличить конверсию   \n",
       "4  Добавить блоки рекомендаций товаров на сайт интернет магазина, чтобы повысить конверсию и средний чек заказа   \n",
       "5                                     Запустить собственную службу доставки, что сократит срок доставки заказов   \n",
       "6                      Добавить страницу отзывов клиентов о магазине, что позволит увеличить количество заказов   \n",
       "7           Изменить структура категорий, что увеличит конверсию, т.к. пользователи быстрее найдут нужный товар   \n",
       "8                              Изменить цвет фона главной страницы, чтобы увеличить вовлеченность пользователей   \n",
       "\n",
       "         ICE  \n",
       "0  16.200000  \n",
       "1  13.333333  \n",
       "2  11.200000  \n",
       "3   8.000000  \n",
       "4   7.000000  \n",
       "5   2.000000  \n",
       "6   1.333333  \n",
       "7   1.125000  \n",
       "8   1.000000  "
      ]
     },
     "execution_count": 28,
     "metadata": {},
     "output_type": "execute_result"
    }
   ],
   "source": [
    "hypothesis['ICE'] = (hypothesis['impact'] * hypothesis['confidence']) / hypothesis['efforts']\n",
    "hypothesis[['hypothesis', 'ICE']].sort_values(by='ICE', ascending=False).reset_index(drop=True)"
   ]
  },
  {
   "cell_type": "markdown",
   "metadata": {},
   "source": [
    "*Наиболее перспективные* гипотезы по ICE:\n",
    "\n",
    "- Запустить акцию, дающую скидку на товар в день рождения;\n",
    "- Добавить два новых канала привлечения трафика, что позволит привлекать на 30% больше пользователей;\n",
    "- Добавить форму подписки на все основные страницы, чтобы собрать базу клиентов для email-рассылок.\n",
    "\n",
    "*Менее перспективными* гипотезами являются следующие:\n",
    "\n",
    "- Показать на главной странице баннеры с актуальными акциями и распродажами, чтобы увеличить конверсию;\n",
    "- Добавить блоки рекомендаций товаров на сайт интернет магазина, чтобы повысить конверсию и средний чек заказа;\n",
    "- Запустить собственную службу доставки, что сократит срок доставки заказов.\n",
    "\n",
    "*Самыми неприоритетными* гипотезами по ICE являются:\n",
    "\n",
    "- Добавить страницу отзывов клиентов о магазине, что позволит увеличить количество заказов;\n",
    "- Изменить структуру категорий, что увеличит конверсию, т.к. пользователи быстрее найдут нужный товар;\n",
    "- Изменить цвет фона главной страницы, чтобы увеличить вовлеченность пользователей."
   ]
  },
  {
   "cell_type": "markdown",
   "metadata": {},
   "source": [
    "### Приоритизация фреймворком RICE <a id='step_3.2'></a>"
   ]
  },
  {
   "cell_type": "markdown",
   "metadata": {},
   "source": [
    "Рассчитаем показатель RICE по формуле:\n",
    "$$RICE = \\frac{Rearch * Impact * Confidence}{Efforts}$$"
   ]
  },
  {
   "cell_type": "markdown",
   "metadata": {},
   "source": [
    "*Наиболее перспективные* гипотезы по RICE:\n",
    "\n",
    "- Добавить форму подписки на все основные страницы, чтобы собрать базу клиентов для email-рассылок;\n",
    "- Добавить блоки рекомендаций товаров на сайт интернет магазина, чтобы повысить конверсию и средний чек заказа;\n",
    "- Добавить два новых канала привлечения трафика, что позволит привлекать на 30% больше пользователей;\n",
    "- Показать на главной странице баннеры с актуальными акциями и распродажами, чтобы увеличить конверсию.\n",
    "\n",
    "*Менее перспективными* гипотезами являются следующие:\n",
    "- Запустить акцию, дающую скидку на товар в день рождения;\n",
    "- Изменить структуру категорий, что увеличит конверсию, т.к. пользователи быстрее найдут нужный товар;\n",
    "\n",
    "*Самыми неприоритетными* гипотезами по RICE являются:\n",
    "\n",
    "- Запустить собственную службу доставки, что сократит срок доставки заказов;\n",
    "- Добавить страницу отзывов клиентов о магазине, что позволит увеличить количество заказов;\n",
    "- Изменить цвет фона главной страницы, чтобы увеличить вовлеченность пользователей."
   ]
  },
  {
   "cell_type": "code",
   "execution_count": 29,
   "metadata": {},
   "outputs": [
    {
     "data": {
      "text/html": [
       "<div>\n",
       "<style scoped>\n",
       "    .dataframe tbody tr th:only-of-type {\n",
       "        vertical-align: middle;\n",
       "    }\n",
       "\n",
       "    .dataframe tbody tr th {\n",
       "        vertical-align: top;\n",
       "    }\n",
       "\n",
       "    .dataframe thead th {\n",
       "        text-align: right;\n",
       "    }\n",
       "</style>\n",
       "<table border=\"1\" class=\"dataframe\">\n",
       "  <thead>\n",
       "    <tr style=\"text-align: right;\">\n",
       "      <th></th>\n",
       "      <th>hypothesis</th>\n",
       "      <th>RICE</th>\n",
       "    </tr>\n",
       "  </thead>\n",
       "  <tbody>\n",
       "    <tr>\n",
       "      <th>0</th>\n",
       "      <td>Добавить форму подписки на все основные страницы, чтобы собрать базу клиентов для email-рассылок</td>\n",
       "      <td>112.0</td>\n",
       "    </tr>\n",
       "    <tr>\n",
       "      <th>1</th>\n",
       "      <td>Добавить блоки рекомендаций товаров на сайт интернет магазина, чтобы повысить конверсию и средний чек заказа</td>\n",
       "      <td>56.0</td>\n",
       "    </tr>\n",
       "    <tr>\n",
       "      <th>2</th>\n",
       "      <td>Добавить два новых канала привлечения трафика, что позволит привлекать на 30% больше пользователей</td>\n",
       "      <td>40.0</td>\n",
       "    </tr>\n",
       "    <tr>\n",
       "      <th>3</th>\n",
       "      <td>Показать на главной странице баннеры с актуальными акциями и распродажами, чтобы увеличить конверсию</td>\n",
       "      <td>40.0</td>\n",
       "    </tr>\n",
       "    <tr>\n",
       "      <th>4</th>\n",
       "      <td>Запустить акцию, дающую скидку на товар в день рождения</td>\n",
       "      <td>16.2</td>\n",
       "    </tr>\n",
       "    <tr>\n",
       "      <th>5</th>\n",
       "      <td>Изменить структура категорий, что увеличит конверсию, т.к. пользователи быстрее найдут нужный товар</td>\n",
       "      <td>9.0</td>\n",
       "    </tr>\n",
       "    <tr>\n",
       "      <th>6</th>\n",
       "      <td>Запустить собственную службу доставки, что сократит срок доставки заказов</td>\n",
       "      <td>4.0</td>\n",
       "    </tr>\n",
       "    <tr>\n",
       "      <th>7</th>\n",
       "      <td>Добавить страницу отзывов клиентов о магазине, что позволит увеличить количество заказов</td>\n",
       "      <td>4.0</td>\n",
       "    </tr>\n",
       "    <tr>\n",
       "      <th>8</th>\n",
       "      <td>Изменить цвет фона главной страницы, чтобы увеличить вовлеченность пользователей</td>\n",
       "      <td>3.0</td>\n",
       "    </tr>\n",
       "  </tbody>\n",
       "</table>\n",
       "</div>"
      ],
      "text/plain": [
       "                                                                                                     hypothesis  \\\n",
       "0              Добавить форму подписки на все основные страницы, чтобы собрать базу клиентов для email-рассылок   \n",
       "1  Добавить блоки рекомендаций товаров на сайт интернет магазина, чтобы повысить конверсию и средний чек заказа   \n",
       "2            Добавить два новых канала привлечения трафика, что позволит привлекать на 30% больше пользователей   \n",
       "3          Показать на главной странице баннеры с актуальными акциями и распродажами, чтобы увеличить конверсию   \n",
       "4                                                       Запустить акцию, дающую скидку на товар в день рождения   \n",
       "5           Изменить структура категорий, что увеличит конверсию, т.к. пользователи быстрее найдут нужный товар   \n",
       "6                                     Запустить собственную службу доставки, что сократит срок доставки заказов   \n",
       "7                      Добавить страницу отзывов клиентов о магазине, что позволит увеличить количество заказов   \n",
       "8                              Изменить цвет фона главной страницы, чтобы увеличить вовлеченность пользователей   \n",
       "\n",
       "    RICE  \n",
       "0  112.0  \n",
       "1   56.0  \n",
       "2   40.0  \n",
       "3   40.0  \n",
       "4   16.2  \n",
       "5    9.0  \n",
       "6    4.0  \n",
       "7    4.0  \n",
       "8    3.0  "
      ]
     },
     "execution_count": 29,
     "metadata": {},
     "output_type": "execute_result"
    }
   ],
   "source": [
    "hypothesis['RICE'] = (hypothesis['reach'] * hypothesis['impact'] * hypothesis['confidence']) / hypothesis['efforts']\n",
    "hypothesis[['hypothesis', 'RICE']].sort_values(by='RICE', ascending=False).reset_index(drop=True)"
   ]
  },
  {
   "cell_type": "markdown",
   "metadata": {},
   "source": [
    "### Различия в приоритизации фреймворками ICE и RICE <a id='step_3.3'></a>"
   ]
  },
  {
   "cell_type": "markdown",
   "metadata": {},
   "source": [
    "Для того, чтобы увидеть причины различий в приоритизации гипотез разными фреймворками (ICE и RICE), графически представим параметры гипотез."
   ]
  },
  {
   "cell_type": "code",
   "execution_count": 30,
   "metadata": {},
   "outputs": [
    {
     "data": {
      "image/png": "[encoded data removed]",
      "text/plain": [
       "<Figure size 1008x360 with 1 Axes>"
      ]
     },
     "metadata": {
      "needs_background": "light"
     },
     "output_type": "display_data"
    }
   ],
   "source": [
    "fig, ax = plt.subplots(figsize=(14,5))\n",
    "ax.set(title='Параметры гипотез по 10-балльной шкале',\n",
    "       xlabel='гипотеза', ylabel='оценка')\n",
    "x1 = np.arange(0,9) - 0.3\n",
    "x2 = np.arange(0,9) - 0.1\n",
    "x3 = np.arange(0,9) + 0.1\n",
    "x4 = np.arange(0,9) + 0.3\n",
    "plt.xticks([0, 1, 2, 3, 4, 5, 6, 7, 8], \n",
    "           ['Каналы трафика', 'Служба доставки', 'Блоки рекомендаций', 'Структура категорий', 'Цвет фона', 'Страница отзывов', \n",
    "            'Актуальные банеры', 'Форма подписки', 'Акция в ДР'], \n",
    "           rotation=45)\n",
    "ax.bar(x1, hypothesis['reach'], width=0.2, label='Охват')\n",
    "ax.bar(x2, hypothesis['impact'], width=0.2, label='Влияние')\n",
    "ax.bar(x3, hypothesis['confidence'], width=0.2, label='Уверенность')\n",
    "ax.bar(x4, hypothesis['efforts'], width=0.2, label='Затраты ресурсов')\n",
    "ax.grid=True\n",
    "ax.legend(bbox_to_anchor=(1, 1));"
   ]
  },
  {
   "cell_type": "markdown",
   "metadata": {},
   "source": [
    "Самой приоритетной по показателям ICE (влияние, уверенность и затраты ресурсов) была гипотеза о **запуске акции**, дающей скидку на товар **в день рождения**. Но, как мы видим по графику, она имеет самый низкий показатель охвата пользователей. В связи с этим, по фреймворку RICE данная гипотеза опустилась на пятое место по приоритетности.\n",
    "\n",
    "В то же время самый большой показатель охвата аудитории поднял гипотезу о добавлении **формы подписки** на все основные страницы с третьего места по приоритету (фреймворк ICE) на первое место (фреймворк RICE).\n",
    "\n",
    "Средний показатель охвата переместил гипотезу о добвлении двух новых **каналов привлечения трафика** со второго (фреймворк ICE) на третье место (фреймворк RICE) списка приоритетности.\n",
    "\n",
    "Высокие показатели охвата вывели гипотезы о добавлении **блоков рекомендаций** товаров на сайт интернет-магазина и показе на главной странице **баннеров с актуальными акциями и распродажами** в список наиболее перспективных.\n",
    "\n",
    "Все остальные гипотезы обладают меньшей приоритетность по обоим фреймворкам, поскольку соответствующие им показатели охвата оказались невысокими, и это слабо изменило результаты приоритизации без учета охвата аудитории."
   ]
  },
  {
   "cell_type": "markdown",
   "metadata": {},
   "source": [
    "### Вывод <a id='step_3.4'></a>"
   ]
  },
  {
   "cell_type": "markdown",
   "metadata": {},
   "source": [
    "*Наиболее перспективные* гипотезы по факторам влияния, уверенности и затрат ресурсов:\n",
    "\n",
    "- Запустить акцию, дающую скидку на товар в день рождения;\n",
    "- Добавить два новых канала привлечения трафика, что позволит привлекать на 30% больше пользователей;\n",
    "- Добавить форму подписки на все основные страницы, чтобы собрать базу клиентов для email-рассылок.\n",
    "\n",
    "*Менее перспективными* гипотезами являются следующие:\n",
    "\n",
    "- Показать на главной странице баннеры с актуальными акциями и распродажами, чтобы увеличить конверсию;\n",
    "- Добавить блоки рекомендаций товаров на сайт интернет магазина, чтобы повысить конверсию и средний чек заказа;\n",
    "- Запустить собственную службу доставки, что сократит срок доставки заказов.\n",
    "\n",
    "Самой приоритетной по показателям ICE (влияние, уверенность и затраты ресурсов) была гипотеза о **запуске акции**, дающей скидку на товар **в день рождения**. Но, как мы видим по графику, она имеет самый низкий показатель охвата пользователей. В связи с этим, по фреймворку RICE данная гипотеза опустилась на пятое место по приоритетности.\n",
    "\n",
    "В то же время самый большой показатель охвата аудитории поднял гипотезу о добавлении **формы подписки** на все основные страницы с третьего места по приоритету (фреймворк ICE) на первое место (фреймворк RICE).\n",
    "\n",
    "Средний показатель охвата переместил гипотезу о добвлении двух новых **каналов привлечения трафика** со второго (фреймворк ICE) на третье место (фреймворк RICE) списка приоритетности.\n",
    "\n",
    "Высокие показатели охвата вывели гипотезы о добавлении **блоков рекомендаций** товаров на сайт интернет-магазина и показе на главной странице **баннеров с актуальными акциями и распродажами** в список наиболее перспективных.\n",
    "\n",
    "Таким образом, с учётом фактора охвата аудитории и ранее учтённых факторов, *наиболее перспективными* гипотезами являются:\n",
    "\n",
    "- Добавить форму подписки на все основные страницы, чтобы собрать базу клиентов для email-рассылок;\n",
    "- Добавить блоки рекомендаций товаров на сайт интернет магазина, чтобы повысить конверсию и средний чек заказа;\n",
    "- Добавить два новых канала привлечения трафика, что позволит привлекать на 30% больше пользователей;\n",
    "- Показать на главной странице баннеры с актуальными акциями и распродажами, чтобы увеличить конверсию.\n",
    "\n",
    "*Менее перспективными* гипотезами являются следующие:\n",
    "- Запустить акцию, дающую скидку на товар в день рождения;\n",
    "- Изменить структуру категорий, что увеличит конверсию, т.к. пользователи быстрее найдут нужный товар;\n",
    "\n",
    "Все остальные гипотезы обладают меньшей приоритетность по обоим фреймворкам, поскольку соответствующие им показатели охвата оказались невысокими, и это слабо изменило результаты приоритизации без учета охвата аудитории."
   ]
  },
  {
   "cell_type": "markdown",
   "metadata": {},
   "source": [
    "## Этап 4. Анализ A/B-теста <a id='step_4'></a>"
   ]
  },
  {
   "cell_type": "markdown",
   "metadata": {},
   "source": [
    "### Кумулятивная выручка по группам <a id='step_4.1'></a>"
   ]
  },
  {
   "cell_type": "markdown",
   "metadata": {},
   "source": [
    "Для анализа кумулятивной выручки по группам сгруппируем данные и соберём необходимые кумулятивные значения."
   ]
  },
  {
   "cell_type": "code",
   "execution_count": 31,
   "metadata": {},
   "outputs": [],
   "source": [
    "# Создадим массив уникальных пар значений дат и групп A/B-теста\n",
    "dates_groups = orders[['date','group']].drop_duplicates()\n",
    "\n",
    "# Соберём агрегированные кумулятивные данные о заказах по дням\n",
    "orders_agg = dates_groups.apply(lambda x: orders[np.logical_and(orders['date'] <= x['date'], \n",
    "                                                                orders['group'] == x['group'])]\n",
    "                                .agg({'date': 'max', 'group': 'max', 'transactionId': pd.Series.nunique,\n",
    "                                      'visitorId': pd.Series.nunique, 'revenue': 'sum'}), \n",
    "                                axis=1).sort_values(by=['date','group'])\n",
    "\n",
    "# Соберём агрегированные кумулятивные данные о покупателях по дням\n",
    "visitors_agg = dates_groups.apply(lambda x: visitors[np.logical_and(visitors['date'] <= x['date'], \n",
    "                                                                    visitors['group'] == x['group'])]\n",
    "                                  .agg({'date': 'max', 'group': 'max', 'visitors': 'sum'}), \n",
    "                                  axis=1).sort_values(by=['date','group'])\n",
    "\n",
    "# Объединим кумулятивные данные в одной таблице и переименуем столбцы\n",
    "cum_data = orders_agg.merge(visitors_agg, left_on=['date', 'group'], right_on=['date', 'group'])\n",
    "cum_data.columns = ['date', 'group', 'orders', 'buyers', 'revenue', 'visitors']"
   ]
  },
  {
   "cell_type": "markdown",
   "metadata": {},
   "source": [
    "Мы собрали кумулятивные значения в одной таблице cum_data. Теперь построим график, иллюстрирующий кумулятивную выручку по разным группам."
   ]
  },
  {
   "cell_type": "code",
   "execution_count": 32,
   "metadata": {},
   "outputs": [],
   "source": [
    "# Кумулятивное количество заказов и кумулятивная выручка по дням в группе А и группе B\n",
    "cum_revenue_A = cum_data.query('group == \"A\"')[['date', 'revenue', 'orders']]\n",
    "cum_revenue_B = cum_data.query('group == \"B\"')[['date', 'revenue', 'orders']]"
   ]
  },
  {
   "cell_type": "code",
   "execution_count": 33,
   "metadata": {},
   "outputs": [],
   "source": [
    "# Функция построения сравнительного графика\n",
    "def plot_AtoB(dfA, dfB, column, date):\n",
    "    ax.plot(dfA[date], dfA[column], '.-', label='A')\n",
    "    ax.plot(dfB[date], dfB[column], '.-', label='B')\n",
    "    xlabels = ax.xaxis.get_ticklabels()\n",
    "    for label in xlabels:\n",
    "        label.set_rotation(45)\n",
    "    ax.grid()\n",
    "    ax.legend();"
   ]
  },
  {
   "cell_type": "code",
   "execution_count": 34,
   "metadata": {},
   "outputs": [
    {
     "data": {
      "image/png": "[encoded data removed]",
      "text/plain": [
       "<Figure size 576x288 with 1 Axes>"
      ]
     },
     "metadata": {
      "needs_background": "light"
     },
     "output_type": "display_data"
    }
   ],
   "source": [
    "# Построение графика\n",
    "fig, ax = plt.subplots(figsize=(8,4))\n",
    "ax.set(title='Кумулятивная выручка по группам', xlabel='дата', ylabel='кумул. выручка, ден.ед.')\n",
    "plot_AtoB(cum_revenue_A, cum_revenue_B, 'revenue', 'date')"
   ]
  },
  {
   "cell_type": "markdown",
   "metadata": {},
   "source": [
    "Выручка почти равномерно увеличивается в течение всего теста. Причём первые 5 дней в обоих группах наблюдалось примерно равное значение выручки. А затем графики кумулятивной выручки в обеих группах в нескольких точках резко начали расти(в группе B скачки были более ярко выражены).\n",
    "\n",
    "Мы не можем с точностью назвать причины, поскольку это может указывать как на рост количества заказов, так и на покупку пользователями дорогостоящих товаров. Выявление причин требует дальнейшего анализа."
   ]
  },
  {
   "cell_type": "markdown",
   "metadata": {},
   "source": [
    "### Кумулятивный средний чек по группам <a id='step_4.2'></a>"
   ]
  },
  {
   "cell_type": "markdown",
   "metadata": {},
   "source": [
    "Для того, чтобы изучить динамику среднего чека по группам, необходимо разделить кумулятивную выручку на кумулятивное число заказов."
   ]
  },
  {
   "cell_type": "code",
   "execution_count": 35,
   "metadata": {},
   "outputs": [],
   "source": [
    "cum_revenue_A['rev_per_order'] = cum_revenue_A['revenue'] / cum_revenue_A['orders']\n",
    "cum_revenue_B['rev_per_order'] = cum_revenue_B['revenue'] / cum_revenue_B['orders']"
   ]
  },
  {
   "cell_type": "markdown",
   "metadata": {},
   "source": [
    "Теперь построим график, иллюстрирующий кумулятивный средний чек по разным группам."
   ]
  },
  {
   "cell_type": "code",
   "execution_count": 36,
   "metadata": {},
   "outputs": [
    {
     "data": {
      "image/png": "[encoded data removed]",
      "text/plain": [
       "<Figure size 576x288 with 1 Axes>"
      ]
     },
     "metadata": {
      "needs_background": "light"
     },
     "output_type": "display_data"
    }
   ],
   "source": [
    "fig, ax = plt.subplots(figsize=(8,4))\n",
    "ax.set(title='Кумулятивный средний чек по группам', xlabel='дата', ylabel='кумул. средний чек, ден.ед.')\n",
    "plot_AtoB(cum_revenue_A, cum_revenue_B, 'rev_per_order', 'date')"
   ]
  },
  {
   "cell_type": "markdown",
   "metadata": {},
   "source": [
    "Средний чек в группе A становится равномерным примерно с середины до конца теста, а в группе B после значительного скачка начинает медленно сокращаться. Возможно, это связано с крупными покупками. До середины августа всплески и падения наблюдались в обеих группах (в группе B больше, чем в группе A), но колебания происходили примерно возле одной отметки в 7 000 ден.ед."
   ]
  },
  {
   "cell_type": "markdown",
   "metadata": {},
   "source": [
    "### Относительное изменение кумулятивного среднего чека группы B к группе A <a id='step_4.3'></a>"
   ]
  },
  {
   "cell_type": "markdown",
   "metadata": {},
   "source": [
    "Для исследования относительного изменения кумулятивного среднего чека группы B к группе A нам необходимо объединить таблицы и рассчитать отношение."
   ]
  },
  {
   "cell_type": "code",
   "execution_count": 37,
   "metadata": {},
   "outputs": [],
   "source": [
    "# Объединение таблиц\n",
    "merged_сum_revenue = pd.merge(cum_revenue_A, cum_revenue_B, left_on='date', right_on='date', how='left', suffixes=['_A', '_B'])\n",
    "\n",
    "# Расчёт отношения средних чеков\n",
    "merged_сum_revenue['rev_per_order_BtoA'] = (merged_сum_revenue['rev_per_order_B'] / merged_сum_revenue['rev_per_order_A']) - 1"
   ]
  },
  {
   "cell_type": "markdown",
   "metadata": {},
   "source": [
    "Отобразим изменение графически."
   ]
  },
  {
   "cell_type": "code",
   "execution_count": 38,
   "metadata": {},
   "outputs": [],
   "source": [
    "# Функция построения относительного графика\n",
    "def plot_merged_AtoB(df, column, date):\n",
    "    ax.plot(df[date], df[column], '.-')\n",
    "    ax.axhline(y=0, color='black', linestyle='--')\n",
    "    xlabels = ax.xaxis.get_ticklabels()\n",
    "    for label in xlabels:\n",
    "        label.set_rotation(45)\n",
    "    ax.grid();"
   ]
  },
  {
   "cell_type": "code",
   "execution_count": 39,
   "metadata": {},
   "outputs": [
    {
     "data": {
      "image/png": "[encoded data removed]",
      "text/plain": [
       "<Figure size 576x288 with 1 Axes>"
      ]
     },
     "metadata": {
      "needs_background": "light"
     },
     "output_type": "display_data"
    }
   ],
   "source": [
    "fig, ax = plt.subplots(figsize=(8,4))\n",
    "ax.set(title='Относительное изменение кумулятивного среднего чека группы B к группе A', \n",
    "       xlabel='дата', ylabel='относительное изменение')\n",
    "plot_merged_AtoB(merged_сum_revenue, 'rev_per_order_BtoA', 'date')"
   ]
  },
  {
   "cell_type": "markdown",
   "metadata": {},
   "source": [
    "Во многих точках график различия между группами начинает резко скакать: особо сильный всплеск наблюдается 19 августа 2019 года. Это говорит о существовании выбросов в виде продажи очень дорогих товаров в эту дату."
   ]
  },
  {
   "cell_type": "markdown",
   "metadata": {},
   "source": [
    "### Кумулятивная конверсия по группам <a id='step_4.4'></a>"
   ]
  },
  {
   "cell_type": "markdown",
   "metadata": {},
   "source": [
    "Для того, чтобы изучить конверсию по группам, необходимо разделить количество заказов на количество посетителей в таблице с кумулятивными данными, и разделить их по группам. После чего мы можем построить график."
   ]
  },
  {
   "cell_type": "code",
   "execution_count": 40,
   "metadata": {},
   "outputs": [],
   "source": [
    "cum_data['conversion'] = cum_data['orders']/cum_data['visitors']\n",
    "cum_data_A = cum_data.query('group == \"A\"')\n",
    "cum_data_B = cum_data.query('group == \"B\"')"
   ]
  },
  {
   "cell_type": "code",
   "execution_count": 41,
   "metadata": {},
   "outputs": [
    {
     "data": {
      "image/png": "[encoded data removed]",
      "text/plain": [
       "<Figure size 576x288 with 1 Axes>"
      ]
     },
     "metadata": {
      "needs_background": "light"
     },
     "output_type": "display_data"
    }
   ],
   "source": [
    "fig, ax = plt.subplots(figsize=(8,4))\n",
    "ax.set(title='Кумулятивная конверсия по группам', xlabel='дата', ylabel='кумул. конверсия')\n",
    "plot_AtoB(cum_data_A, cum_data_B, 'conversion', 'date')"
   ]
  },
  {
   "cell_type": "markdown",
   "metadata": {},
   "source": [
    "Без установления масштаба кажется, что конверсия постоянно колеблется, но мы видим, что колебания с 8 августа 2019 года несущественны для обеих групп (порядка 1-2%). Для наглядности зададим масштаб графика."
   ]
  },
  {
   "cell_type": "code",
   "execution_count": 42,
   "metadata": {},
   "outputs": [
    {
     "data": {
      "image/png": "[encoded data removed]",
      "text/plain": [
       "<Figure size 576x288 with 1 Axes>"
      ]
     },
     "metadata": {
      "needs_background": "light"
     },
     "output_type": "display_data"
    }
   ],
   "source": [
    "fig, ax = plt.subplots(figsize=(8,4))\n",
    "ax.set(title='Кумулятивная конверсия по группам', xlabel='дата', ylabel='кумул. конверсия')\n",
    "plot_AtoB(cum_data_A, cum_data_B, 'conversion', 'date')\n",
    "ax.axis([pd.to_datetime(\"2019-08-01\"), pd.to_datetime('2019-08-31'), 0, 0.05]);"
   ]
  },
  {
   "cell_type": "markdown",
   "metadata": {},
   "source": [
    "С 6 августа 2019 года график кумулятивной конверсии по группам выглядит почти симметрично. До 4 августа 2019 года наблюдался сильный всплекс в обоих группах. В дальнейшие периоды конверсии обеих групп установились на определённом уровне (примерно после 9-11 августа) с явным преобладанием кумулятивной конверсии группы B над кумулятивной конверсией группы A."
   ]
  },
  {
   "cell_type": "markdown",
   "metadata": {},
   "source": [
    "### Относительное изменение кумулятивной конверсии группы B к группе A <a id='step_4.5'></a>"
   ]
  },
  {
   "cell_type": "markdown",
   "metadata": {},
   "source": [
    "Для исследования относительного изменения кумулятивной конверсии группы B к группе A нам необходимо объединить таблицы и рассчитать отношение."
   ]
  },
  {
   "cell_type": "code",
   "execution_count": 43,
   "metadata": {},
   "outputs": [],
   "source": [
    "# Объединение таблиц\n",
    "merged_сum_conversion = pd.merge(cum_data_A[['date', 'conversion']], cum_data_B[['date', 'conversion']], \n",
    "                                 left_on='date', right_on='date', how='left', suffixes=['_A', '_B'])\n",
    "\n",
    "# Расчёт отношения коверсий\n",
    "merged_сum_conversion['conversion_BtoA'] = (merged_сum_conversion['conversion_B'] / merged_сum_conversion['conversion_A']) - 1"
   ]
  },
  {
   "cell_type": "markdown",
   "metadata": {},
   "source": [
    "Отобразим изменение графически, также масштабировав оси."
   ]
  },
  {
   "cell_type": "code",
   "execution_count": 44,
   "metadata": {},
   "outputs": [
    {
     "data": {
      "image/png": "[encoded data removed]",
      "text/plain": [
       "<Figure size 576x288 with 1 Axes>"
      ]
     },
     "metadata": {
      "needs_background": "light"
     },
     "output_type": "display_data"
    }
   ],
   "source": [
    "fig, ax = plt.subplots(figsize=(8,4))\n",
    "ax.set(title='Относительное изменение кумулятивной конверсии группы B к группе A', \n",
    "       xlabel='дата', ylabel='относительное изменение')\n",
    "plot_merged_AtoB(merged_сum_conversion, 'conversion_BtoA', 'date')\n",
    "ax.axhline(y=0.15, color='grey', linestyle='--')\n",
    "ax.axis([pd.to_datetime(\"2019-08-01\"), pd.to_datetime('2019-08-31'), -0.3, 0.3]);"
   ]
  },
  {
   "cell_type": "markdown",
   "metadata": {},
   "source": [
    "В начале теста группа B проигрывала группе A (кроме 02.08.2019), но с 06.08.2019 вырвалась вперёд и предвосходила группу A приблизительно на 15%. Возможно, это и говорит о явном успехе группы B, в сравнении с группой A. Но чтобы это утверждать, необходимо проанализировать аномалии."
   ]
  },
  {
   "cell_type": "markdown",
   "metadata": {},
   "source": [
    "### Распределение количества заказов по пользователям <a id='step_4.6'></a>"
   ]
  },
  {
   "cell_type": "markdown",
   "metadata": {},
   "source": [
    "Поскольку пользователи, совершившие много заказов, очень сильно могут повлиятьна параметр конверсии, завышая показатель, необходимо изучить распределение количества заказов по пользователям."
   ]
  },
  {
   "cell_type": "code",
   "execution_count": 45,
   "metadata": {},
   "outputs": [],
   "source": [
    "# Создадим таблицу с количеством заказов по пользователям\n",
    "orders_by_visitors = (orders\n",
    "                       .drop(['group', 'revenue', 'date'], axis=1)\n",
    "                       .groupby('visitorId', as_index=False)\n",
    "                       .agg({'transactionId': pd.Series.nunique})\n",
    "                     )\n",
    "\n",
    "# Переименуем колонки\n",
    "orders_by_visitors.columns = ['visitorId', 'orders']"
   ]
  },
  {
   "cell_type": "code",
   "execution_count": 46,
   "metadata": {},
   "outputs": [],
   "source": [
    "# Функция для построения точечного графика\n",
    "def scatter_plot(df, column):\n",
    "    x_values = pd.Series(range(0,len(df)))\n",
    "    ax.scatter(x_values, df[column])\n",
    "    ax.grid();"
   ]
  },
  {
   "cell_type": "code",
   "execution_count": 47,
   "metadata": {},
   "outputs": [
    {
     "data": {
      "image/png": "[encoded data removed]",
      "text/plain": [
       "<Figure size 576x288 with 1 Axes>"
      ]
     },
     "metadata": {
      "needs_background": "light"
     },
     "output_type": "display_data"
    }
   ],
   "source": [
    "# Построим график\n",
    "fig, ax = plt.subplots(figsize=(8,4))\n",
    "ax.set(title='Распределение количества заказов по пользователям', xlabel='номер пользователя', ylabel='количество заказов')\n",
    "scatter_plot(orders_by_visitors, 'orders')"
   ]
  },
  {
   "cell_type": "markdown",
   "metadata": {},
   "source": [
    "Большинство покупателей заказывали только один раз. Однако доля пользователей с 2-5 заказами тоже значительна. Также есть пользователи, которые совершали 8, 9 и 11 заказов.\n",
    "\n",
    "Поскольку точная доля пользователей с 2-5 заказами неизветна, мы пока не можем утверждать, что они являются аномалиями."
   ]
  },
  {
   "cell_type": "markdown",
   "metadata": {},
   "source": [
    "### Граница для определения аномальных пользователей <a id='step_4.7'></a>"
   ]
  },
  {
   "cell_type": "markdown",
   "metadata": {},
   "source": [
    "Для определения границы, отсекающей аномальных пользователей, посчитаем 90-й, 95-й и 99-й перцентили количества заказов на пользователя."
   ]
  },
  {
   "cell_type": "code",
   "execution_count": 48,
   "metadata": {},
   "outputs": [],
   "source": [
    "# Функция определения 90-го, 95-го и 99-го перцентилей\n",
    "def percentile(df, column):\n",
    "    perc90 = np.percentile(df[column], 90)\n",
    "    perc95 = np.percentile(df[column], 95)\n",
    "    perc99 = np.percentile(df[column], 99)\n",
    "    print('90-й, 95-й и 99-й перцентили равны, соответственно, {:.1f}, {:.1f}, {:.1f}.'.format(perc90, perc95, perc99))"
   ]
  },
  {
   "cell_type": "code",
   "execution_count": 49,
   "metadata": {},
   "outputs": [
    {
     "name": "stdout",
     "output_type": "stream",
     "text": [
      "Показатели количества заказов на пользователя:\n",
      "90-й, 95-й и 99-й перцентили равны, соответственно, 1.0, 2.0, 4.0.\n"
     ]
    }
   ],
   "source": [
    "print('Показатели количества заказов на пользователя:')\n",
    "percentile(orders_by_visitors, 'orders')"
   ]
  },
  {
   "cell_type": "markdown",
   "metadata": {},
   "source": [
    "Не более 1% пользователей оформляли 4 и более заказов; не более 5% - 2 и более заказов. И 10% пользователей заказывали более 1 раза.\n",
    "\n",
    "Таким образом, свыше 2 (3 заказа) - это нижняя граница аномального числа заказов. Именно по ней в дальнейшем будем \"очищать\" данные."
   ]
  },
  {
   "cell_type": "markdown",
   "metadata": {},
   "source": [
    "### Распределение стоимостей заказов <a id='step_4.8'></a>"
   ]
  },
  {
   "cell_type": "markdown",
   "metadata": {},
   "source": [
    "Ранее при анализе выручки мы обратили внимание на то, что в отдельные даты по группам имеются очень сильные всплески. Они также могут быть связаны с аномалиями. Изучим более подробно распределение стоимостей заказов."
   ]
  },
  {
   "cell_type": "code",
   "execution_count": 50,
   "metadata": {},
   "outputs": [
    {
     "data": {
      "image/png": "[encoded data removed]",
      "text/plain": [
       "<Figure size 576x288 with 1 Axes>"
      ]
     },
     "metadata": {
      "needs_background": "light"
     },
     "output_type": "display_data"
    }
   ],
   "source": [
    "fig, ax = plt.subplots(figsize=(8,4))\n",
    "ax.set(title='Распределение стоимостей заказов', xlabel='номер заказа', ylabel='выручка, ден.ед.')\n",
    "scatter_plot(orders, 'revenue')"
   ]
  },
  {
   "cell_type": "markdown",
   "metadata": {},
   "source": [
    "Действительно имеется два аномально дорогих заказа (около 200 000 ден.ед. и свыше 1 200 000 ден.ед.). Немного масштабируем график, отобразив заказы до 200 000 ден.ед., чтобы выявить ещё некоторое количество аномалий."
   ]
  },
  {
   "cell_type": "code",
   "execution_count": 51,
   "metadata": {},
   "outputs": [
    {
     "data": {
      "image/png": "[encoded data removed]",
      "text/plain": [
       "<Figure size 576x288 with 1 Axes>"
      ]
     },
     "metadata": {
      "needs_background": "light"
     },
     "output_type": "display_data"
    }
   ],
   "source": [
    "fig, ax = plt.subplots(figsize=(8,4))\n",
    "ax.set(title='Распределение стоимостей заказов', xlabel='номер заказа', ylabel='выручка, ден.ед.')\n",
    "scatter_plot(orders[orders['revenue'] <= 200000], 'revenue')"
   ]
  },
  {
   "cell_type": "markdown",
   "metadata": {},
   "source": [
    "По укрупнённому графику заказов до 200 000 ден.ед. видим несколько аномальных значений свыше 20 000-40 000 ден.ед. Однако, как и в случае с заказами на пользователя, выручка также требует расчёта границы аномальных значений."
   ]
  },
  {
   "cell_type": "markdown",
   "metadata": {},
   "source": [
    "### Граница для определения аномальных заказов по стоимости <a id='step_4.9'></a>"
   ]
  },
  {
   "cell_type": "markdown",
   "metadata": {},
   "source": [
    "Для определения границы, отсекающей аномальные заказы по стоимости, посчитаем 90-й, 95-й и 99-й перцентили стоимостей заказов."
   ]
  },
  {
   "cell_type": "code",
   "execution_count": 52,
   "metadata": {},
   "outputs": [
    {
     "name": "stdout",
     "output_type": "stream",
     "text": [
      "Показатели стоимостей заказов:\n",
      "90-й, 95-й и 99-й перцентили равны, соответственно, 18168.0, 28000.0, 58233.2.\n"
     ]
    }
   ],
   "source": [
    "print('Показатели стоимостей заказов:')\n",
    "percentile(orders, 'revenue')"
   ]
  },
  {
   "cell_type": "markdown",
   "metadata": {},
   "source": [
    "Не более 1% заказов дороже 58 233 ден.ед.; не более 5% - дороже 28 000 ден.ед. И 10% заказов было совершено на сумму свыше 18 168 ден.ед.\n",
    "\n",
    "Таким образом, свыше 30 000 ден.ед. - это нижняя граница аномальной стоимости заказов. Именно по ней в дальнейшем будем \"очищать\" данные."
   ]
  },
  {
   "cell_type": "markdown",
   "metadata": {},
   "source": [
    "### Cтатистическая значимость различий в показателях <a id='step_4.10'></a>"
   ]
  },
  {
   "cell_type": "markdown",
   "metadata": {},
   "source": [
    "#### Cтатистическая значимость различий в конверсии. \"Сырые\" данные"
   ]
  },
  {
   "cell_type": "markdown",
   "metadata": {},
   "source": [
    "Рассчитаем статистическую значимость различий в конверсии между группами по «сырым» данным (то есть до удаления аномальных пользователей и заказов)."
   ]
  },
  {
   "cell_type": "markdown",
   "metadata": {},
   "source": [
    "Создадим сводную таблицу, включающую в себя все необходимые для определения статистической значимости показатели, а также выведем переменные orders_by_visitors_A и orders_by_visitors_B, в которых для пользователей, совершивших хотя бы один заказ, будет указано число заказов."
   ]
  },
  {
   "cell_type": "code",
   "execution_count": 53,
   "metadata": {},
   "outputs": [],
   "source": [
    "# Количество пользователей в выбранную дату в каждой группе\n",
    "visitors_daily_A = visitors.query('group == \"A\"')[['date', 'visitors']]\n",
    "visitors_daily_A.columns = ['date', 'visitors_date_A']\n",
    "\n",
    "visitors_daily_B = visitors.query('group == \"B\"')[['date', 'visitors']]\n",
    "visitors_daily_B.columns = ['date', 'visitors_date_B']\n",
    "\n",
    "# количество пользователей до выбранной даты включительно в каждой группе\n",
    "visitors_cum_A = visitors_daily_B.apply(lambda x: visitors_daily_A[visitors_daily_A['date'] <= x['date']]\n",
    "                                        .agg({'date': 'max', 'visitors_date_A': 'sum'}), axis=1)\n",
    "visitors_cum_A.columns = ['date', 'visitors_cum_A']\n",
    "\n",
    "visitors_cum_B = visitors_daily_B.apply(lambda x: visitors_daily_B[visitors_daily_B['date'] <= x['date']]\n",
    "                                        .agg({'date': 'max', 'visitors_date_B': 'sum'}), axis=1)\n",
    "visitors_cum_B.columns = ['date', 'visitors_cum_B']"
   ]
  },
  {
   "cell_type": "code",
   "execution_count": 54,
   "metadata": {},
   "outputs": [],
   "source": [
    "# Количество заказов и суммарная выручка в выбранную дату в каждой группе\n",
    "orders_daily_A = (orders\n",
    "                      .query('group == \"A\"')[['date', 'transactionId', 'visitorId', 'revenue']]\n",
    "                      .groupby('date', as_index=False)\n",
    "                      .agg({'transactionId': pd.Series.nunique, 'revenue': 'sum'})\n",
    "                 )\n",
    "orders_daily_A.columns = ['date', 'orders_date_A', 'revenue_date_A']\n",
    "\n",
    "orders_daily_B = (orders\n",
    "                      .query('group == \"B\"')[['date', 'transactionId', 'visitorId', 'revenue']]\n",
    "                      .groupby('date', as_index=False)\n",
    "                      .agg({'transactionId': pd.Series.nunique, 'revenue': 'sum'})\n",
    "                 )\n",
    "orders_daily_B.columns = ['date', 'orders_date_B', 'revenue_date_B']\n",
    "\n",
    "# Суммарное число заказов и суммарная выручка до выбранной даты включительно в каждой группе\n",
    "orders_cum_A = orders_daily_A.apply(lambda x: orders_daily_A[orders_daily_A['date'] <= x['date']]\n",
    "                                    .agg({'date': 'max', 'orders_date_A': 'sum', 'revenue_date_A': 'sum'}), \n",
    "                                    axis=1).sort_values(by=['date'])\n",
    "orders_cum_A.columns = ['date', 'orders_cum_A', 'revenue_cum_A']\n",
    "\n",
    "orders_cum_B = orders_daily_B.apply(lambda x: orders_daily_B[orders_daily_B['date'] <= x['date']]\n",
    "                                    .agg({'date': 'max', 'orders_date_B': 'sum', 'revenue_date_B': 'sum'}), \n",
    "                                    axis=1).sort_values(by=['date'])\n",
    "orders_cum_B.columns = ['date', 'orders_cum_B', 'revenue_cum_B']"
   ]
  },
  {
   "cell_type": "code",
   "execution_count": 55,
   "metadata": {},
   "outputs": [],
   "source": [
    "# Соединим все таблицы с полученными значениями\n",
    "all_data_merged = (orders_daily_A\n",
    "                       .merge(orders_daily_B, left_on='date', right_on='date', how='left')\n",
    "                       .merge(orders_cum_A, left_on='date', right_on='date', how='left')\n",
    "                       .merge(orders_cum_B, left_on='date', right_on='date', how='left')\n",
    "                       .merge(visitors_daily_A, left_on='date', right_on='date', how='left')\n",
    "                       .merge(visitors_daily_B, left_on='date', right_on='date', how='left')\n",
    "                       .merge(visitors_cum_A, left_on='date', right_on='date', how='left')\n",
    "                       .merge(visitors_cum_B, left_on='date', right_on='date', how='left')\n",
    "                  )\n",
    "\n",
    "# Число совершённых заказов для пользователей, которые заказывали хотя бы 1 раз, в каждой группе \n",
    "orders_by_visitors_A = (orders\n",
    "                            .query('group == \"A\"')\n",
    "                            .groupby('visitorId', as_index=False)\n",
    "                            .agg({'transactionId': pd.Series.nunique})\n",
    "                       )\n",
    "orders_by_visitors_A.columns = ['visitorId', 'orders']\n",
    "\n",
    "orders_by_visitors_B = (orders\n",
    "                            .query('group == \"B\"')\n",
    "                            .groupby('visitorId', as_index=False)\n",
    "                            .agg({'transactionId': pd.Series.nunique})\n",
    "                       )\n",
    "orders_by_visitors_B.columns = ['visitorId', 'orders']"
   ]
  },
  {
   "cell_type": "markdown",
   "metadata": {},
   "source": [
    "Объявим переменные sample_A и sample_B, в которых пользователям из разных групп будет соответствовать количество заказов. Далее чтобы получить конверсию в группе, поделим сумму заказов на число пользователей."
   ]
  },
  {
   "cell_type": "code",
   "execution_count": 56,
   "metadata": {},
   "outputs": [],
   "source": [
    "sample_A = pd.concat([orders_by_visitors_A['orders'], pd.Series(0, index=np.arange(all_data_merged['visitors_date_A'].sum() - \n",
    "                    len(orders_by_visitors_A['orders'])), name='orders')],axis=0)\n",
    "\n",
    "sample_B = pd.concat([orders_by_visitors_B['orders'], pd.Series(0, index=np.arange(all_data_merged['visitors_date_B'].sum() - \n",
    "                    len(orders_by_visitors_B['orders'])), name='orders')],axis=0)"
   ]
  },
  {
   "cell_type": "markdown",
   "metadata": {},
   "source": [
    "Применим критерий Манна-Уитни. Также выведем относительный прирост конверсии группы B: (конверсия группы B/конверсия группы A) - 1."
   ]
  },
  {
   "cell_type": "code",
   "execution_count": 57,
   "metadata": {},
   "outputs": [
    {
     "name": "stdout",
     "output_type": "stream",
     "text": [
      "Значение p-value для конверсий: 0.008\n",
      "Относительный прирост конверсии группы B: 0.138\n"
     ]
    }
   ],
   "source": [
    "print('Значение p-value для конверсий: {:.3f}'.format(st.mannwhitneyu(sample_A, sample_B)[1]))\n",
    "print('Относительный прирост конверсии группы B: {:.3f}'.format((sample_B.mean()/sample_A.mean()) - 1))"
   ]
  },
  {
   "cell_type": "markdown",
   "metadata": {},
   "source": [
    "P-value меньше 0,05, потому нулевую гипотезу о том, что статистически значимых различий в конверсии между группами нет, отвергаем. Относительный прирост конверсии группы B к конверсии группы A равен 13,8%.\n",
    "\n",
    "Тем не менее, расчёты были выполнены на \"сырых\" данных. Требуется также изучить статистически значимые различия среднего чека в группах и проанализировать \"очищенные\" данные."
   ]
  },
  {
   "cell_type": "markdown",
   "metadata": {},
   "source": [
    "#### Cтатистическая значимость различий в среднем чеке заказа. \"Сырые\" данные"
   ]
  },
  {
   "cell_type": "markdown",
   "metadata": {},
   "source": [
    "Чтобы рассчитать статистическую значимость различий в среднем чеке между сегментами, применим критерий Манна-Уитни на данные о выручке с заказов. И, так же как и при анализе конверсии, рассчитаем относительные различия в среднем чеке между группами."
   ]
  },
  {
   "cell_type": "code",
   "execution_count": 58,
   "metadata": {},
   "outputs": [
    {
     "name": "stdout",
     "output_type": "stream",
     "text": [
      "Значение p-value для среднего чека: 0.365\n",
      "Относительный прирост среднего чека группы B: 0.259\n"
     ]
    }
   ],
   "source": [
    "print('Значение p-value для среднего чека: {:.3f}'.format(st.mannwhitneyu(orders.query('group == \"A\"')['revenue'], \n",
    "                                                        orders.query('group == \"B\"')['revenue'])[1]))\n",
    "print('Относительный прирост среднего чека группы B: {:.3f}'\n",
    "      .format((orders.query('group == \"B\"')['revenue'].mean()/\n",
    "               orders.query('group == \"A\"')['revenue'].mean()) - 1))"
   ]
  },
  {
   "cell_type": "markdown",
   "metadata": {},
   "source": [
    "P-value значительно больше 0.05. Значит, причин отвергать нулевую гипотезу и считать, что в среднем чеке есть различия, нет. Однако, относительный прирост среднего чека группы B к среднему чеку группы A равен 25,9%.\n",
    "\n",
    "Это может быть связано с аномалиями. Проведём анализ статистической значимости различий в показателях на \"очищенных\" данных."
   ]
  },
  {
   "cell_type": "markdown",
   "metadata": {},
   "source": [
    "#### Cтатистическая значимость различий в конверсии. \"Очищенные\" данные"
   ]
  },
  {
   "cell_type": "markdown",
   "metadata": {},
   "source": [
    "Вспомним, что на предыдущих этапах мы приняли за аномальных пользователей тех, кто совершил более 2 заказов или совершил заказ за 30 000 ден.ед. и более. Исключив аномальные значения, мы уберём от 1 до 5% пользователей с наибольшим числом заказов и от 1% до 5% пользователей с дорогими заказами."
   ]
  },
  {
   "cell_type": "markdown",
   "metadata": {},
   "source": [
    "Узнаем, сколько всего аномальных пользователей было в интернет-магазине."
   ]
  },
  {
   "cell_type": "code",
   "execution_count": 59,
   "metadata": {},
   "outputs": [
    {
     "data": {
      "text/plain": [
       "68"
      ]
     },
     "execution_count": 59,
     "metadata": {},
     "output_type": "execute_result"
    }
   ],
   "source": [
    "# Срезы данных для аномальных пользователей\n",
    "visitors_many_orders = pd.concat([orders_by_visitors_A.query('orders > 2')['visitorId'], \n",
    "                                  orders_by_visitors_B.query('orders > 2')['visitorId']], axis = 0)\n",
    "visitors_expens_orders = orders.query('revenue >= 30000')['visitorId']\n",
    "\n",
    "# Число аномальных пользователей\n",
    "anomal_visitors = pd.concat([visitors_many_orders, visitors_expens_orders], axis = 0).drop_duplicates().sort_values()\n",
    "len(anomal_visitors)"
   ]
  },
  {
   "cell_type": "markdown",
   "metadata": {},
   "source": [
    "Получили 68 аномальных пользователей. Узнаем, как их действия повлияли на результаты теста. Посчитаем статистическую значимость различий в конверсии между группами теста по очищенным данным."
   ]
  },
  {
   "cell_type": "code",
   "execution_count": 60,
   "metadata": {},
   "outputs": [
    {
     "name": "stdout",
     "output_type": "stream",
     "text": [
      "Значение p-value для конверсий: 0.007\n",
      "Относительный прирост конверсии группы B: 0.172\n"
     ]
    }
   ],
   "source": [
    "# Выборки количества заказов по пользователям для каждой группы\n",
    "sample_A_filt = pd.concat([orders_by_visitors_A[np.logical_not(orders_by_visitors_A['visitorId'].isin(anomal_visitors))]\n",
    "                           ['orders'], pd.Series(0, index=np.arange(all_data_merged['visitors_date_A'].sum() - \n",
    "                           len(orders_by_visitors_A['orders'])),name='orders')],axis=0)\n",
    "\n",
    "sample_B_filt = pd.concat([orders_by_visitors_B[np.logical_not(orders_by_visitors_B['visitorId'].isin(anomal_visitors))]\n",
    "                           ['orders'], pd.Series(0, index=np.arange(all_data_merged['visitors_date_B'].sum() - \n",
    "                           len(orders_by_visitors_B['orders'])),name='orders')],axis=0)\n",
    "\n",
    "# Cтатистический критерий Манна-Уитни к конверсии для \"очищенных\" данных\n",
    "print('Значение p-value для конверсий: {:.3f}'.format(st.mannwhitneyu(sample_A_filt, sample_B_filt)[1]))\n",
    "\n",
    "# Относительный прирост конверсии группы B для \"очищенных\" данных\n",
    "print('Относительный прирост конверсии группы B: {:.3f}'.format((sample_B_filt.mean()/sample_A_filt.mean()) - 1))"
   ]
  },
  {
   "cell_type": "markdown",
   "metadata": {},
   "source": [
    "Как и в случае с \"сырыми данными\", статистическая значимость различий в конверсии между группами достигнута. Сегмент B значительно лучше сегмента A (в среднем, на 17,2% выше показатель конверсии)."
   ]
  },
  {
   "cell_type": "markdown",
   "metadata": {},
   "source": [
    "#### Cтатистическая значимость различий в среднем чеке заказа. \"Очищенные\" данные"
   ]
  },
  {
   "cell_type": "markdown",
   "metadata": {},
   "source": [
    "Аналогично посчитаем статистическую значимость различий в среднем чеке между группами по очищенным данным."
   ]
  },
  {
   "cell_type": "code",
   "execution_count": 61,
   "metadata": {},
   "outputs": [
    {
     "name": "stdout",
     "output_type": "stream",
     "text": [
      "Значение p-value для среднего чека: 0.360\n",
      "Относительный прирост среднего чека группы B: -0.023\n"
     ]
    }
   ],
   "source": [
    "# Cтатистический критерий Манна-Уитни к среднему чеку для \"очищенных\" данных\n",
    "print('Значение p-value для среднего чека: {:.3f}'.format(st.mannwhitneyu(\n",
    "    orders[np.logical_and(orders['group'] == \"A\", np.logical_not(orders['visitorId'].isin(anomal_visitors)))]['revenue'],\n",
    "    orders[np.logical_and(orders['group'] == \"B\", np.logical_not(orders['visitorId'].isin(anomal_visitors)))]['revenue'])[1]))\n",
    "\n",
    "# Относительный прирост среднего чека группы B для \"очищенных\" данных\n",
    "print('Относительный прирост среднего чека группы B: {:.3f}'.format(\n",
    "    (orders[np.logical_and(orders['group']=='B', np.logical_not(orders['visitorId'].isin(anomal_visitors)))]['revenue'].mean()/\n",
    "     orders[np.logical_and(orders['group']=='A', np.logical_not(orders['visitorId'].isin(anomal_visitors)))]['revenue']\n",
    "     .mean()) - 1))"
   ]
  },
  {
   "cell_type": "markdown",
   "metadata": {},
   "source": [
    "P-value практически не изменился: он значительно больше 0.05. Значит, причин отвергать нулевую гипотезу и считать, что в среднем чеке есть различия, нет. Однако, относительный прирост среднего чека группы B к среднему чеку группы A значительно изменился. Мы наблюдаем, что без аномальны пользователей средний чек в группе B немного ниже среднего чека в группе A (разница около 2%). Но это статистически незначимое отличие."
   ]
  },
  {
   "cell_type": "markdown",
   "metadata": {},
   "source": [
    "#### Выводы по результатам теста"
   ]
  },
  {
   "cell_type": "markdown",
   "metadata": {},
   "source": [
    "Исследование различий основных показателей в группах на статистическую значимость показал следующее:\n",
    "- Есть статистически значимое различие по конверсии между группами как по «сырым», так и по отфильтрованным от аномалий данным;\n",
    "- Нет статистически значимого различия по среднему чеку между группами ни по «сырым», ни по данным после фильтрации аномалий;\n",
    "- График различия конверсии между группами сообщает, что результаты группы B стабильно лучше группы A;\n",
    "- График различия среднего чека говорит о том, что результаты группы B, как правило, немного лучше группы A.\n",
    "\n",
    "Исходя из обнаруженных фактов, тест следует остановить и зафиксировать победу группы B. Продолжать тест нет смысла, потому что основные показатели зафиксировались возле определённых отметок, и изменений при прочих равных условиях не прогнозируется."
   ]
  },
  {
   "cell_type": "markdown",
   "metadata": {},
   "source": [
    "### Вывод <a id='step_4.11'></a>"
   ]
  },
  {
   "cell_type": "markdown",
   "metadata": {},
   "source": [
    "Анализ результатов A/B-теста позволил сделать следующие выводы.\n",
    "\n",
    "Выручка почти равномерно увеличивается в течение всего теста. Причём первые 5 дней в обоих группах наблюдалось примерно равное значение выручки. А затем графики кумулятивной выручки в обеих группах в нескольких точках резко начали расти (в группе B скачки были более ярко выражены). Далее в процессе анализа было выявлено, что подобные скачки обусловлены и аномальными пользователями, которые сделали очень много заказов (3 и более - до 11 заказов), и пользователями, купившими очень дорогие товары (заказы 30 000 ден.ед. и более).\n",
    "\n",
    "Средний чек в группе A становится равномерным примерно с середины до конца теста, а в группе B после значительного скачка начинает медленно сокращаться. Возможно, это также связано с крупными покупками. До середины августа всплески и падения наблюдались в обеих группах (в группе B больше, чем в группе A), но колебания происходили примерно возле одной отметки в 7 000 ден.ед. Во многих точках график различия между группами начинает резко скакать: особо сильный всплеск наблюдается 19 августа 2019 года. Это также говорит о существовании выбросов в виде продажи очень дорогих товаров в эту дату.\n",
    "\n",
    "Колебания конверсии по обеим группам с 8 августа 2019 года были несущественны для обеих групп (порядка 1-2%). С 6 августа 2019 года график кумулятивной конверсии по группам выглядит почти симметрично. До 4 августа 2019 года наблюдался сильный всплекс в обоих группах. В дальнейшие периоды конверсии обеих групп установились на определённом уровне (примерно после 9-11 августа) с явным преобладанием кумулятивной конверсии группы B над кумулятивной конверсией группы A. В начале теста группа B проигрывала группе A (кроме 02.08.2019), но с 06.08.2019 вырвалась вперёд и предвосходила группу A приблизительно на 15%. Возможно, это и говорит о явном успехе группы B, в сравнении с группой A. Но чтобы это утверждать, нами также были проанализированы аномалии.\n",
    "\n",
    "Также были исследованы различия основных показателей в группах на статистическую значимость с \"сырыми\" данными и с данными, \"очищенными\" от аномальных значений. Анализ показал следующее:\n",
    "- Есть статистически значимое различие по конверсии между группами как по «сырым», так и по отфильтрованным от аномалий данным;\n",
    "- Нет статистически значимого различия по среднему чеку между группами ни по «сырым», ни по данным после фильтрации аномалий;\n",
    "- График различия конверсии между группами сообщает, что результаты группы B стабильно лучше группы A;\n",
    "- График различия среднего чека говорит о том, что результаты группы B, как правило, немного лучше группы A.\n",
    "\n",
    "Таким образом, исходя из обнаруженных фактов, тест следует остановить и зафиксировать победу группы B. Продолжать тест нет смысла, потому что основные показатели зафиксировались возле определённых отметок, и изменений при прочих равных условиях не прогнозируется."
   ]
  },
  {
   "cell_type": "markdown",
   "metadata": {},
   "source": [
    "## Общий вывод <a id='step_5'></a>"
   ]
  },
  {
   "cell_type": "markdown",
   "metadata": {},
   "source": [
    "Данное исследование, направленное на подготовку рекомендаций по увеличению выручки интернет-магазина на основе результатов A/B-теста, проведённого с 1 августа по 31 августа 2019 года, имеет следующее заключение.\n",
    "\n",
    "У нас имеется **9 гипотез по увеличению выручки**. *Наиболее перспективные* из них по факторам влияния, уверенности и затрат ресурсов:\n",
    "\n",
    "1. Запустить акцию, дающую скидку на товар в день рождения;\n",
    "2. Добавить два новых канала привлечения трафика, что позволит привлекать на 30% больше пользователей;\n",
    "3. Добавить форму подписки на все основные страницы, чтобы собрать базу клиентов для email-рассылок.\n",
    "\n",
    "*Менее перспективными* гипотезами являются следующие:\n",
    "\n",
    "4. Показать на главной странице баннеры с актуальными акциями и распродажами, чтобы увеличить конверсию;\n",
    "5. Добавить блоки рекомендаций товаров на сайт интернет магазина, чтобы повысить конверсию и средний чек заказа;\n",
    "6. Запустить собственную службу доставки, что сократит срок доставки заказов.\n",
    "\n",
    "Самой приоритетной по показателям ICE (влияние, уверенность и затраты ресурсов) была гипотеза о запуске акции, дающей скидку на товар в день рождения. Но она имеет самый низкий показатель охвата пользователей. В связи с этим, по фреймворку RICE данная гипотеза опустилась на пятое место по приоритетности. В то же время самый большой показатель охвата аудитории поднял гипотезу о добавлении формы подписки на все основные страницы с третьего места по приоритету (фреймворк ICE) на первое место (фреймворк RICE). Средний показатель охвата переместил гипотезу о добвлении двух новых каналов привлечения трафика со второго (фреймворк ICE) на третье место (фреймворк RICE) списка приоритетности. Высокие показатели охвата вывели гипотезы о добавлении блоков рекомендаций товаров на сайт интернет-магазина и показе на главной странице баннеров с актуальными акциями и распродажами в список наиболее перспективных.\n",
    "\n",
    "Таким образом, с учётом фактора охвата аудитории и ранее учтённых факторов, *наиболее перспективными* гипотезами являются:\n",
    "\n",
    "1. Добавить форму подписки на все основные страницы, чтобы собрать базу клиентов для email-рассылок;\n",
    "2. Добавить блоки рекомендаций товаров на сайт интернет магазина, чтобы повысить конверсию и средний чек заказа;\n",
    "3. Добавить два новых канала привлечения трафика, что позволит привлекать на 30% больше пользователей;\n",
    "4. Показать на главной странице баннеры с актуальными акциями и распродажами, чтобы увеличить конверсию.\n",
    "\n",
    "*Менее перспективными* гипотезами являются следующие:\n",
    "\n",
    "5. Запустить акцию, дающую скидку на товар в день рождения;\n",
    "6. Изменить структуру категорий, что увеличит конверсию, т.к. пользователи быстрее найдут нужный товар.\n",
    "\n",
    "Все остальные гипотезы обладают меньшей приоритетность по обоим фреймворкам, поскольку соответствующие им показатели охвата оказались невысокими, и это слабо изменило результаты приоритизации без учета охвата аудитории.\n",
    "\n",
    "Предварительный анализ **результатов A/B-теста** показал, что он включал в себя только 2 группы: A и B. Но в A/B-тестировании также принимали участие пользователи, попавшие в обе тестируемые группы: их было около 3,5% от всех пользователей. Для чистоты эксперимента и выводов их следовало бы исключить, но поскольку выборка групп A и B при A/B-тесте должна также быть примерно одинаковой для обоих групп, а исключение пользователей из обоих групп чревато созданием искусственного перевеса по количеству пользователей в группе B, было принято иное решение. Удаление пользователей из результатов теста сильно ухудшит долю группы A. Более того, в таблице о посещениях эти пользователи попали в обе группы, причём нам не известно, в какие даты. Таким образом, удалив их, либо сократив одну из групп и оставив их в другой, мы не сможем учесть это при работе с данными о посещениях. В связи с этим, данные решили оставить, но следует принимать во внимание то, что есть погрешности в результате, связанные с попаданием одних людей в разные группы при тестировании.\n",
    "\n",
    "Анализ динамики **выручки** имеет достаточно большой разброс: от 50 до 1 294 500 ден.ед. со средним значением 8 350 ден.ед. и медианой 2 978 ден.ед. Такой разброс может быть связан с очень дифференцированным по типу и цене продуктом, представленным в интернет-магазине. При этом выручка почти равномерно увеличивается в течение всего теста. Причём первые 5 дней в обоих группах наблюдалось примерно равное значение выручки. А затем графики кумулятивной выручки в обеих группах в нескольких точках резко начали расти (в группе B скачки были более ярко выражены). Далее в процессе анализа было выявлено, что подобные скачки обусловлены и аномальными пользователями, которые сделали очень много заказов (3 и более - до 11 заказов), и пользователями, купившими очень дорогие товары (заказы 30 000 ден.ед. и более).\n",
    "\n",
    "**Средний чек** в группе A становится равномерным примерно с середины до конца теста, а в группе B после значительного скачка начинает медленно сокращаться. Возможно, это также связано с крупными покупками. До середины августа всплески и падения наблюдались в обеих группах (в группе B больше, чем в группе A), но колебания происходили примерно возле одной отметки в 7 000 ден.ед. Во многих точках график различия между группами начинает резко скакать: особо сильный всплеск наблюдается 19 августа 2019 года. Это также говорит о существовании выбросов в виде продажи очень дорогих товаров в эту дату.\n",
    "\n",
    "Колебания **конверсии** по обеим группам с 8 августа 2019 года были несущественны для обеих групп (порядка 1-2%). С 6 августа 2019 года график кумулятивной конверсии по группам выглядит почти симметрично. До 4 августа 2019 года наблюдался сильный всплекс в обоих группах. В дальнейшие периоды конверсии обеих групп установились на определённом уровне (примерно после 9-11 августа) с явным преобладанием кумулятивной конверсии группы B над кумулятивной конверсией группы A. В начале теста группа B проигрывала группе A (кроме 02.08.2019), но с 06.08.2019 вырвалась вперёд и предвосходила группу A приблизительно на 15%. Возможно, это и говорит о явном успехе группы B, в сравнении с группой A. Но чтобы это утверждать, нами также были проанализированы аномалии.\n",
    "\n",
    "Также были исследованы **различия** основных показателей **в группах на статистическую значимость** с \"сырыми\" данными и с данными, \"очищенными\" от аномальных значений. Анализ показал следующее:\n",
    "\n",
    "1. Есть статистически значимое различие по конверсии между группами как по «сырым», так и по отфильтрованным от аномалий данным;\n",
    "2. Нет статистически значимого различия по среднему чеку между группами ни по «сырым», ни по данным после фильтрации аномалий;\n",
    "3. График различия конверсии между группами сообщает, что результаты группы B стабильно лучше группы A;\n",
    "4. График различия среднего чека говорит о том, что результаты группы B, как правило, немного лучше группы A.\n",
    "\n",
    "Таким образом, исходя из обнаруженных фактов, **тест рекомендуется остановить и зафиксировать победу группы B**. Продолжать тест нет смысла, потому что основные показатели достигли и колеблются возле определённых отметок, и изменений при прочих равных условиях не прогнозируется."
   ]
  }
 ],
 "metadata": {
  "kernelspec": {
   "display_name": "Python 3",
   "language": "python",
   "name": "python3"
  },
  "language_info": {
   "codemirror_mode": {
    "name": "ipython",
    "version": 3
   },
   "file_extension": ".py",
   "mimetype": "text/x-python",
   "name": "python",
   "nbconvert_exporter": "python",
   "pygments_lexer": "ipython3",
   "version": "3.8.3"
  }
 },
 "nbformat": 4,
 "nbformat_minor": 2
}
