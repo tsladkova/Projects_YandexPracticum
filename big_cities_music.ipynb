{
 "cells": [
  {
   "cell_type": "markdown",
   "metadata": {},
   "source": [
    "# Исследование: музыка больших городов"
   ]
  },
  {
   "cell_type": "markdown",
   "metadata": {},
   "source": [
    "## Введение"
   ]
  },
  {
   "cell_type": "markdown",
   "metadata": {},
   "source": [
    "Данное исследование **построено на данных** портала Яндекс.Музыка для Москвы и Санкт-Петербурга и **направлено на** изучение особенностей вкусов потребителей.\n",
    "\n",
    "**Потребность в данном исследовании обусловлена** необходимостью поддержания интереса к продукту и привлечения новых пользователей, обеспечения узнаваемости бренда. Одним из вопросов, на который нам следует ответить: как музыка, которая звучит по дороге на работу в понедельник утром, отличается от той, что играет в среду или в конце рабочей недели? Также нам следует сравнить, что и в каком режиме слушают жители Москвы и Санкт-Петербурга.\n",
    "\n",
    "Иследование состоит из следующих этапов:\n",
    "1. [Обзор данных и их предобработка](#step_1):\n",
    "    * [Импорт библиотек](#step_1.1);\n",
    "    * [Общая информация о данных](#step_1.2);\n",
    "    * [Обработка пропусков и дубликатов, проверка данных](#step_1.3);\n",
    "    * [Вывод](#step_1.4).\n",
    "2. [Анализ данных](#step_2):\n",
    "    * [Различия времени прослушивания музыки в разных городах](#step_2.1);\n",
    "    * [Различия предпочтительных направлений музыки в разные дни недели и время](#step_2.2);\n",
    "    * [Различия предпочтительных направлений музыки в разных городах](#step_2.3);\n",
    "    * [Вывод](#step_2.4).\n",
    "4. [Общий вывод](#step_3);\n",
    "5. [Рекомендации](#step_4).\n",
    "\n",
    "**Результатом исследования** являются рекомендации по удержанию интереса и привлечению новых пользователей в портал Яндекс.Музыка для Москвы и Санкт-Петербурга."
   ]
  },
  {
   "cell_type": "markdown",
   "metadata": {},
   "source": [
    "## Этап 1. Обзор данных и их предобработка <a id='step_1'></a>"
   ]
  },
  {
   "cell_type": "markdown",
   "metadata": {},
   "source": [
    "### Импорт библиотек <a id='step_1.1'></a>"
   ]
  },
  {
   "cell_type": "code",
   "execution_count": 1,
   "metadata": {},
   "outputs": [],
   "source": [
    "import pandas as pd\n",
    "import numpy as np\n",
    "from IPython import display\n",
    "\n",
    "import matplotlib.pyplot as plt"
   ]
  },
  {
   "cell_type": "markdown",
   "metadata": {},
   "source": [
    "### Общая информация о данных <a id='step_1.2'></a>"
   ]
  },
  {
   "cell_type": "markdown",
   "metadata": {},
   "source": [
    "Изучим данные, предоставленные сервисом для проекта."
   ]
  },
  {
   "cell_type": "code",
   "execution_count": 2,
   "metadata": {},
   "outputs": [
    {
     "data": {
      "text/html": [
       "<div>\n",
       "<style scoped>\n",
       "    .dataframe tbody tr th:only-of-type {\n",
       "        vertical-align: middle;\n",
       "    }\n",
       "\n",
       "    .dataframe tbody tr th {\n",
       "        vertical-align: top;\n",
       "    }\n",
       "\n",
       "    .dataframe thead th {\n",
       "        text-align: right;\n",
       "    }\n",
       "</style>\n",
       "<table border=\"1\" class=\"dataframe\">\n",
       "  <thead>\n",
       "    <tr style=\"text-align: right;\">\n",
       "      <th></th>\n",
       "      <th>userID</th>\n",
       "      <th>Track</th>\n",
       "      <th>artist</th>\n",
       "      <th>genre</th>\n",
       "      <th>City</th>\n",
       "      <th>time</th>\n",
       "      <th>Day</th>\n",
       "    </tr>\n",
       "  </thead>\n",
       "  <tbody>\n",
       "    <tr>\n",
       "      <th>0</th>\n",
       "      <td>FFB692EC</td>\n",
       "      <td>Kamigata To Boots</td>\n",
       "      <td>The Mass Missile</td>\n",
       "      <td>rock</td>\n",
       "      <td>Saint-Petersburg</td>\n",
       "      <td>20:28:33</td>\n",
       "      <td>Wednesday</td>\n",
       "    </tr>\n",
       "    <tr>\n",
       "      <th>1</th>\n",
       "      <td>55204538</td>\n",
       "      <td>Delayed Because of Accident</td>\n",
       "      <td>Andreas Rönnberg</td>\n",
       "      <td>rock</td>\n",
       "      <td>Moscow</td>\n",
       "      <td>14:07:09</td>\n",
       "      <td>Friday</td>\n",
       "    </tr>\n",
       "    <tr>\n",
       "      <th>2</th>\n",
       "      <td>20EC38</td>\n",
       "      <td>Funiculì funiculà</td>\n",
       "      <td>Mario Lanza</td>\n",
       "      <td>pop</td>\n",
       "      <td>Saint-Petersburg</td>\n",
       "      <td>20:58:07</td>\n",
       "      <td>Wednesday</td>\n",
       "    </tr>\n",
       "    <tr>\n",
       "      <th>3</th>\n",
       "      <td>A3DD03C9</td>\n",
       "      <td>Dragons in the Sunset</td>\n",
       "      <td>Fire + Ice</td>\n",
       "      <td>folk</td>\n",
       "      <td>Saint-Petersburg</td>\n",
       "      <td>08:37:09</td>\n",
       "      <td>Monday</td>\n",
       "    </tr>\n",
       "    <tr>\n",
       "      <th>4</th>\n",
       "      <td>E2DC1FAE</td>\n",
       "      <td>Soul People</td>\n",
       "      <td>Space Echo</td>\n",
       "      <td>dance</td>\n",
       "      <td>Moscow</td>\n",
       "      <td>08:34:34</td>\n",
       "      <td>Monday</td>\n",
       "    </tr>\n",
       "  </tbody>\n",
       "</table>\n",
       "</div>"
      ],
      "text/plain": [
       "     userID                        Track            artist  genre  \\\n",
       "0  FFB692EC            Kamigata To Boots  The Mass Missile   rock   \n",
       "1  55204538  Delayed Because of Accident  Andreas Rönnberg   rock   \n",
       "2    20EC38            Funiculì funiculà       Mario Lanza    pop   \n",
       "3  A3DD03C9        Dragons in the Sunset        Fire + Ice   folk   \n",
       "4  E2DC1FAE                  Soul People        Space Echo  dance   \n",
       "\n",
       "             City        time        Day  \n",
       "0  Saint-Petersburg  20:28:33  Wednesday  \n",
       "1            Moscow  14:07:09     Friday  \n",
       "2  Saint-Petersburg  20:58:07  Wednesday  \n",
       "3  Saint-Petersburg  08:37:09     Monday  \n",
       "4            Moscow  08:34:34     Monday  "
      ]
     },
     "execution_count": 2,
     "metadata": {},
     "output_type": "execute_result"
    }
   ],
   "source": [
    "# Прочитаем файл music_project.csv с информацией о логах в приложении и сохраним его в переменной music_project\n",
    "music_project = pd.read_csv('C:/Users/Public/Jupyter/music_project.csv')\n",
    "music_project.head()"
   ]
  },
  {
   "cell_type": "code",
   "execution_count": 3,
   "metadata": {},
   "outputs": [
    {
     "name": "stdout",
     "output_type": "stream",
     "text": [
      "<class 'pandas.core.frame.DataFrame'>\n",
      "RangeIndex: 65079 entries, 0 to 65078\n",
      "Data columns (total 7 columns):\n",
      " #   Column    Non-Null Count  Dtype \n",
      "---  ------    --------------  ----- \n",
      " 0     userID  65079 non-null  object\n",
      " 1   Track     63848 non-null  object\n",
      " 2   artist    57876 non-null  object\n",
      " 3   genre     63881 non-null  object\n",
      " 4     City    65079 non-null  object\n",
      " 5   time      65079 non-null  object\n",
      " 6   Day       65079 non-null  object\n",
      "dtypes: object(7)\n",
      "memory usage: 3.5+ MB\n"
     ]
    }
   ],
   "source": [
    "# Получим общую информацию о данных таблицы music_project\n",
    "display.display(data=music_project.info())"
   ]
  },
  {
   "cell_type": "markdown",
   "metadata": {},
   "source": [
    "Рассмотрим полученную информацию подробнее. Всего в таблице 7 столбцов и 65 079 строк, тип данных у каждого столбца - < object >.\n",
    "\n",
    "Подробно разберём, какие в таблице столбцы, и какую информацию они содержат:\n",
    "* [`userID`](#id) — идентификатор пользователя;\n",
    "* [`Track`](#track) — название трека;\n",
    "* [`artist`](#artist) — имя исполнителя;\n",
    "* [`genre`](#genre) — название жанра;\n",
    "* [`City`](#city) — город, в котором происходило прослушивание;\n",
    "* [`time`](#time) — время, в которое пользователь слушал трек;\n",
    "* [`Day`](#day) — день недели.\n",
    "\n",
    "Количество значений в столбцах различается. Это говорит о том, что в данных есть пропущенные значения. Это может быть связано с техническими проблемами выгрузки данных, либо некорректно внесённых данных в саму базу данных. Также видим, что для удобства анализа данных столбцы требуют приведения в необходимый вид (удаление пробелов, строковые значения). Изменения типов данных не требуется."
   ]
  },
  {
   "cell_type": "markdown",
   "metadata": {},
   "source": [
    "### Обработка пропусков и дубликатов, проверка данных <a id='step_1.3'></a>"
   ]
  },
  {
   "cell_type": "markdown",
   "metadata": {},
   "source": [
    "#### Замена названий стобцов"
   ]
  },
  {
   "cell_type": "markdown",
   "metadata": {},
   "source": [
    "При анализе информации об исходных датасетах мы обратили внимание на то, что для дальнейшего анализа необходимо привести названия столбцов таблицы music_project к удобному для анализа виду."
   ]
  },
  {
   "cell_type": "code",
   "execution_count": 4,
   "metadata": {},
   "outputs": [
    {
     "data": {
      "text/plain": [
       "Index(['  userID', 'Track', 'artist', 'genre', '  City  ', 'time', 'Day'], dtype='object')"
      ]
     },
     "execution_count": 4,
     "metadata": {},
     "output_type": "execute_result"
    }
   ],
   "source": [
    "# Получим перечень названий столбцов\n",
    "music_project.columns"
   ]
  },
  {
   "cell_type": "markdown",
   "metadata": {},
   "source": [
    "В названиях столбцов есть пробелы, которые могут затруднять доступ к данным. Кроме того, названия набраны в разных регистрах и не полностью отражают в краткой форме, какая информация в них содержится, что также может усложнить работу с данными. Переименуем столбцы и проверим результат."
   ]
  },
  {
   "cell_type": "code",
   "execution_count": 5,
   "metadata": {},
   "outputs": [
    {
     "data": {
      "text/plain": [
       "Index(['user_id', 'track_name', 'artist_name', 'genre_name', 'city', 'time',\n",
       "       'weekday'],\n",
       "      dtype='object')"
      ]
     },
     "execution_count": 5,
     "metadata": {},
     "output_type": "execute_result"
    }
   ],
   "source": [
    "music_project.set_axis(['user_id', 'track_name', 'artist_name', 'genre_name', 'city', 'time', 'weekday'],\n",
    "                       axis='columns', inplace=True)\n",
    "music_project.columns"
   ]
  },
  {
   "cell_type": "markdown",
   "metadata": {},
   "source": [
    "Все названия столбцов имеют подходящий для анализа вид."
   ]
  },
  {
   "cell_type": "markdown",
   "metadata": {},
   "source": [
    "#### Обработка пропусков"
   ]
  },
  {
   "cell_type": "markdown",
   "metadata": {},
   "source": [
    "Проверим данные на наличие пропусков вызовом набора методов для суммирования пропущенных значений."
   ]
  },
  {
   "cell_type": "code",
   "execution_count": 6,
   "metadata": {},
   "outputs": [
    {
     "data": {
      "text/plain": [
       "user_id           0\n",
       "track_name     1231\n",
       "artist_name    7203\n",
       "genre_name     1198\n",
       "city              0\n",
       "time              0\n",
       "weekday           0\n",
       "dtype: int64"
      ]
     },
     "execution_count": 6,
     "metadata": {},
     "output_type": "execute_result"
    }
   ],
   "source": [
    "music_project.isnull().sum()"
   ]
  },
  {
   "cell_type": "markdown",
   "metadata": {},
   "source": [
    "Пустые значения свидетельствуют о том, что для некоторых треков доступна не вся информация. Причины могут быть разные: скажем, не назван конкретный исполнитель народной песни. Хуже, если возникли проблемы с записью данных. Каждый отдельный случай необходимо разобрать и выявить причину."
   ]
  },
  {
   "cell_type": "markdown",
   "metadata": {},
   "source": [
    "Заменяем пропущенные значения в столбцах с названием трека и исполнителя на строку *'unknown'*."
   ]
  },
  {
   "cell_type": "code",
   "execution_count": 7,
   "metadata": {},
   "outputs": [],
   "source": [
    "music_project['track_name'] = music_project['track_name'].fillna('unknown')\n",
    "music_project['artist_name'] = music_project['artist_name'].fillna('unknown')"
   ]
  },
  {
   "cell_type": "markdown",
   "metadata": {},
   "source": [
    "В столбце с жанрами есть пустые значения, но их не очень много. Рассчитаем процент пропусков по столбцу `genre_name` к общей выборке."
   ]
  },
  {
   "cell_type": "code",
   "execution_count": 8,
   "metadata": {},
   "outputs": [
    {
     "data": {
      "text/plain": [
       "0.018408395949538255"
      ]
     },
     "execution_count": 8,
     "metadata": {},
     "output_type": "execute_result"
    }
   ],
   "source": [
    "music_project['genre_name'].isna().mean()"
   ]
  },
  {
   "cell_type": "markdown",
   "metadata": {},
   "source": [
    "Пропуски составляют всего 2% от общей выборки. Мы можем их удалить, после чего проверить, что пропусков в данных не осталось."
   ]
  },
  {
   "cell_type": "code",
   "execution_count": 9,
   "metadata": {},
   "outputs": [
    {
     "data": {
      "text/plain": [
       "user_id        0\n",
       "track_name     0\n",
       "artist_name    0\n",
       "genre_name     0\n",
       "city           0\n",
       "time           0\n",
       "weekday        0\n",
       "dtype: int64"
      ]
     },
     "execution_count": 9,
     "metadata": {},
     "output_type": "execute_result"
    }
   ],
   "source": [
    "music_project.dropna(subset = ['genre_name'], inplace = True)\n",
    "music_project.isnull().sum()"
   ]
  },
  {
   "cell_type": "markdown",
   "metadata": {},
   "source": [
    "#### Обработка дубликатов"
   ]
  },
  {
   "cell_type": "markdown",
   "metadata": {},
   "source": [
    "Необходимо установить наличие дубликатов. Если найдутся, удаляем, и проверяем, все ли удалились."
   ]
  },
  {
   "cell_type": "code",
   "execution_count": 10,
   "metadata": {},
   "outputs": [
    {
     "data": {
      "text/plain": [
       "3755"
      ]
     },
     "execution_count": 10,
     "metadata": {},
     "output_type": "execute_result"
    }
   ],
   "source": [
    "music_project.duplicated().sum()"
   ]
  },
  {
   "cell_type": "code",
   "execution_count": 11,
   "metadata": {},
   "outputs": [],
   "source": [
    "music_project = music_project.drop_duplicates().reset_index(drop=True)"
   ]
  },
  {
   "cell_type": "code",
   "execution_count": 12,
   "metadata": {},
   "outputs": [
    {
     "data": {
      "text/plain": [
       "0"
      ]
     },
     "execution_count": 12,
     "metadata": {},
     "output_type": "execute_result"
    }
   ],
   "source": [
    "music_project.duplicated().sum()"
   ]
  },
  {
   "cell_type": "markdown",
   "metadata": {},
   "source": [
    "Дубликаты могли появиться вследствие сбоя в записи данных. Стоит обратить внимание и разобраться с причинами появления такого «информационного мусора».\n",
    "\n",
    "Также отметим, что помимо \"явных\" дубликатов, могут встречаться \"неявные\". Чтобы убедиться в их отсутствии, следует проверить значения в столбцах."
   ]
  },
  {
   "cell_type": "markdown",
   "metadata": {},
   "source": [
    "#### Проверка данных"
   ]
  },
  {
   "cell_type": "markdown",
   "metadata": {},
   "source": [
    "Изучим значения, которые встречаются в каждом их столбцов таблицы `music_project`."
   ]
  },
  {
   "cell_type": "markdown",
   "metadata": {},
   "source": [
    "##### Идентификатор пользователя <a id='id'></a>"
   ]
  },
  {
   "cell_type": "code",
   "execution_count": 13,
   "metadata": {},
   "outputs": [
    {
     "data": {
      "text/plain": [
       "count        60126\n",
       "unique       41315\n",
       "top       7D166C63\n",
       "freq            51\n",
       "Name: user_id, dtype: object"
      ]
     },
     "execution_count": 13,
     "metadata": {},
     "output_type": "execute_result"
    }
   ],
   "source": [
    "music_project['user_id'].describe()"
   ]
  },
  {
   "cell_type": "markdown",
   "metadata": {},
   "source": [
    "В данных встречается 60 126 записей, в которых 41 315 уникальных пользователей."
   ]
  },
  {
   "cell_type": "markdown",
   "metadata": {},
   "source": [
    "##### Название трека <a id='track'></a>"
   ]
  },
  {
   "cell_type": "code",
   "execution_count": 14,
   "metadata": {},
   "outputs": [
    {
     "data": {
      "text/plain": [
       "count       60126\n",
       "unique      46910\n",
       "top       unknown\n",
       "freq          536\n",
       "Name: track_name, dtype: object"
      ]
     },
     "execution_count": 14,
     "metadata": {},
     "output_type": "execute_result"
    }
   ],
   "source": [
    "music_project['track_name'].describe()"
   ]
  },
  {
   "cell_type": "code",
   "execution_count": 15,
   "metadata": {},
   "outputs": [
    {
     "data": {
      "text/plain": [
       "array(['Kamigata To Boots', 'Delayed Because of Accident',\n",
       "       'Funiculì funiculà', 'Dragons in the Sunset', 'Soul People',\n",
       "       'Преданная', 'True', 'Feeling This Way',\n",
       "       'И вновь продолжается бой', 'Pessimist', 'Gool la Mita',\n",
       "       'Is There Anybody Out There? (Panoramic Paralysis) Mix',\n",
       "       'Мина син генэ кирэк', 'After School Special',\n",
       "       'Make Love Whenever You Can', 'SLAVES OF FEAR', 'Веснянка',\n",
       "       'Pat-a-Cake', 'Sweetback', \"Ya'll In Trouble\"], dtype=object)"
      ]
     },
     "execution_count": 15,
     "metadata": {},
     "output_type": "execute_result"
    }
   ],
   "source": [
    "music_project['track_name'].unique()[:20]"
   ]
  },
  {
   "cell_type": "markdown",
   "metadata": {},
   "source": [
    "В данных встречается 46 910 уникальных композиций по названию трека."
   ]
  },
  {
   "cell_type": "code",
   "execution_count": 16,
   "metadata": {},
   "outputs": [
    {
     "data": {
      "text/html": [
       "<div>\n",
       "<style scoped>\n",
       "    .dataframe tbody tr th:only-of-type {\n",
       "        vertical-align: middle;\n",
       "    }\n",
       "\n",
       "    .dataframe tbody tr th {\n",
       "        vertical-align: top;\n",
       "    }\n",
       "\n",
       "    .dataframe thead th {\n",
       "        text-align: right;\n",
       "    }\n",
       "</style>\n",
       "<table border=\"1\" class=\"dataframe\">\n",
       "  <thead>\n",
       "    <tr style=\"text-align: right;\">\n",
       "      <th></th>\n",
       "      <th>user_id</th>\n",
       "      <th>track_name</th>\n",
       "    </tr>\n",
       "  </thead>\n",
       "  <tbody>\n",
       "    <tr>\n",
       "      <th>0</th>\n",
       "      <td>E8339398</td>\n",
       "      <td>42</td>\n",
       "    </tr>\n",
       "    <tr>\n",
       "      <th>1</th>\n",
       "      <td>B5496034</td>\n",
       "      <td>34</td>\n",
       "    </tr>\n",
       "    <tr>\n",
       "      <th>2</th>\n",
       "      <td>D6A03F1E</td>\n",
       "      <td>32</td>\n",
       "    </tr>\n",
       "    <tr>\n",
       "      <th>3</th>\n",
       "      <td>B851E1A5</td>\n",
       "      <td>32</td>\n",
       "    </tr>\n",
       "    <tr>\n",
       "      <th>4</th>\n",
       "      <td>53B9A51D</td>\n",
       "      <td>28</td>\n",
       "    </tr>\n",
       "    <tr>\n",
       "      <th>...</th>\n",
       "      <td>...</td>\n",
       "      <td>...</td>\n",
       "    </tr>\n",
       "    <tr>\n",
       "      <th>99</th>\n",
       "      <td>AA950A3A</td>\n",
       "      <td>11</td>\n",
       "    </tr>\n",
       "    <tr>\n",
       "      <th>100</th>\n",
       "      <td>9A9E39A0</td>\n",
       "      <td>11</td>\n",
       "    </tr>\n",
       "    <tr>\n",
       "      <th>101</th>\n",
       "      <td>71255BAD</td>\n",
       "      <td>11</td>\n",
       "    </tr>\n",
       "    <tr>\n",
       "      <th>102</th>\n",
       "      <td>60864740</td>\n",
       "      <td>11</td>\n",
       "    </tr>\n",
       "    <tr>\n",
       "      <th>103</th>\n",
       "      <td>9E93430B</td>\n",
       "      <td>11</td>\n",
       "    </tr>\n",
       "  </tbody>\n",
       "</table>\n",
       "<p>104 rows × 2 columns</p>\n",
       "</div>"
      ],
      "text/plain": [
       "      user_id  track_name\n",
       "0    E8339398          42\n",
       "1    B5496034          34\n",
       "2    D6A03F1E          32\n",
       "3    B851E1A5          32\n",
       "4    53B9A51D          28\n",
       "..        ...         ...\n",
       "99   AA950A3A          11\n",
       "100  9A9E39A0          11\n",
       "101  71255BAD          11\n",
       "102  60864740          11\n",
       "103  9E93430B          11\n",
       "\n",
       "[104 rows x 2 columns]"
      ]
     },
     "execution_count": 16,
     "metadata": {},
     "output_type": "execute_result"
    }
   ],
   "source": [
    "(music_project\n",
    "     .groupby('user_id')['track_name']\n",
    "     .nunique()\n",
    "     .reset_index()\n",
    "     .query('track_name > 10')\n",
    "     .sort_values(by='track_name', ascending=False)\n",
    "     .reset_index(drop=True)\n",
    ")"
   ]
  },
  {
   "cell_type": "markdown",
   "metadata": {},
   "source": [
    "Отметим, что 104 пользователя слушали более 10 треков с разными названиями. Некоторые из них слушали до 42, 34, 32 треков с разными названиями."
   ]
  },
  {
   "cell_type": "code",
   "execution_count": 17,
   "metadata": {},
   "outputs": [
    {
     "data": {
      "text/plain": [
       "31762"
      ]
     },
     "execution_count": 17,
     "metadata": {},
     "output_type": "execute_result"
    }
   ],
   "source": [
    "(len(music_project\n",
    "         .groupby('user_id')['track_name']\n",
    "         .nunique()\n",
    "         .reset_index()\n",
    "         .query('track_name == 1'))\n",
    ")"
   ]
  },
  {
   "cell_type": "markdown",
   "metadata": {},
   "source": [
    "Также у нас имеется 31 762 пользователей, которые включали либо только один трек, либо треки, имеющие одинаковые названия."
   ]
  },
  {
   "cell_type": "markdown",
   "metadata": {},
   "source": [
    "##### Имя исполнителя <a id='artist'></a>"
   ]
  },
  {
   "cell_type": "code",
   "execution_count": 18,
   "metadata": {},
   "outputs": [
    {
     "data": {
      "text/plain": [
       "count       60126\n",
       "unique      43344\n",
       "top       unknown\n",
       "freq         5990\n",
       "Name: artist_name, dtype: object"
      ]
     },
     "execution_count": 18,
     "metadata": {},
     "output_type": "execute_result"
    }
   ],
   "source": [
    "music_project['artist_name'].describe()"
   ]
  },
  {
   "cell_type": "code",
   "execution_count": 19,
   "metadata": {},
   "outputs": [
    {
     "data": {
      "text/plain": [
       "array(['The Mass Missile', 'Andreas Rönnberg', 'Mario Lanza',\n",
       "       'Fire + Ice', 'Space Echo', 'IMPERVTOR', 'Roman Messer',\n",
       "       'Polina Griffith', 'unknown', 'Shireen Abdul Wahab',\n",
       "       'Pink Floyd Floydhead', 'Ильдар Хакимов', 'Detroit Grand Pubahs',\n",
       "       'Arabesque', 'HEALTH', 'Веданъ Колодъ', 'Mother Goose Club',\n",
       "       'The Fabulous Three',\n",
       "       'Lil Tee Chill Tank Young Buck Brother Mohammed and Tara',\n",
       "       'Exotype'], dtype=object)"
      ]
     },
     "execution_count": 19,
     "metadata": {},
     "output_type": "execute_result"
    }
   ],
   "source": [
    "music_project['artist_name'].unique()[:20]"
   ]
  },
  {
   "cell_type": "markdown",
   "metadata": {},
   "source": [
    "В данных встречается 43 344 уникальных исполнителя."
   ]
  },
  {
   "cell_type": "code",
   "execution_count": 20,
   "metadata": {},
   "outputs": [
    {
     "data": {
      "text/html": [
       "<div>\n",
       "<style scoped>\n",
       "    .dataframe tbody tr th:only-of-type {\n",
       "        vertical-align: middle;\n",
       "    }\n",
       "\n",
       "    .dataframe tbody tr th {\n",
       "        vertical-align: top;\n",
       "    }\n",
       "\n",
       "    .dataframe thead th {\n",
       "        text-align: right;\n",
       "    }\n",
       "</style>\n",
       "<table border=\"1\" class=\"dataframe\">\n",
       "  <thead>\n",
       "    <tr style=\"text-align: right;\">\n",
       "      <th></th>\n",
       "      <th>user_id</th>\n",
       "      <th>artist_name</th>\n",
       "    </tr>\n",
       "  </thead>\n",
       "  <tbody>\n",
       "    <tr>\n",
       "      <th>0</th>\n",
       "      <td>E8339398</td>\n",
       "      <td>38</td>\n",
       "    </tr>\n",
       "    <tr>\n",
       "      <th>1</th>\n",
       "      <td>B5496034</td>\n",
       "      <td>34</td>\n",
       "    </tr>\n",
       "    <tr>\n",
       "      <th>2</th>\n",
       "      <td>B851E1A5</td>\n",
       "      <td>32</td>\n",
       "    </tr>\n",
       "    <tr>\n",
       "      <th>3</th>\n",
       "      <td>D6A03F1E</td>\n",
       "      <td>31</td>\n",
       "    </tr>\n",
       "    <tr>\n",
       "      <th>4</th>\n",
       "      <td>3E4BFAA7</td>\n",
       "      <td>30</td>\n",
       "    </tr>\n",
       "    <tr>\n",
       "      <th>...</th>\n",
       "      <td>...</td>\n",
       "      <td>...</td>\n",
       "    </tr>\n",
       "    <tr>\n",
       "      <th>93</th>\n",
       "      <td>E4F8C670</td>\n",
       "      <td>11</td>\n",
       "    </tr>\n",
       "    <tr>\n",
       "      <th>94</th>\n",
       "      <td>794B409F</td>\n",
       "      <td>11</td>\n",
       "    </tr>\n",
       "    <tr>\n",
       "      <th>95</th>\n",
       "      <td>D540AF61</td>\n",
       "      <td>11</td>\n",
       "    </tr>\n",
       "    <tr>\n",
       "      <th>96</th>\n",
       "      <td>D2CE494E</td>\n",
       "      <td>11</td>\n",
       "    </tr>\n",
       "    <tr>\n",
       "      <th>97</th>\n",
       "      <td>B43EE327</td>\n",
       "      <td>11</td>\n",
       "    </tr>\n",
       "  </tbody>\n",
       "</table>\n",
       "<p>98 rows × 2 columns</p>\n",
       "</div>"
      ],
      "text/plain": [
       "     user_id  artist_name\n",
       "0   E8339398           38\n",
       "1   B5496034           34\n",
       "2   B851E1A5           32\n",
       "3   D6A03F1E           31\n",
       "4   3E4BFAA7           30\n",
       "..       ...          ...\n",
       "93  E4F8C670           11\n",
       "94  794B409F           11\n",
       "95  D540AF61           11\n",
       "96  D2CE494E           11\n",
       "97  B43EE327           11\n",
       "\n",
       "[98 rows x 2 columns]"
      ]
     },
     "execution_count": 20,
     "metadata": {},
     "output_type": "execute_result"
    }
   ],
   "source": [
    "(music_project\n",
    "     .groupby('user_id')['artist_name']\n",
    "     .nunique()\n",
    "     .reset_index()\n",
    "     .query('artist_name > 10')\n",
    "     .sort_values(by='artist_name', ascending=False)\n",
    "     .reset_index(drop=True)\n",
    ")"
   ]
  },
  {
   "cell_type": "markdown",
   "metadata": {},
   "source": [
    "Отметим, что 98 пользователей слушали более 10 треков с разными исполнителями. Некоторые из них слушали до 38, 34, 32 треков с разными исполнителями."
   ]
  },
  {
   "cell_type": "code",
   "execution_count": 21,
   "metadata": {},
   "outputs": [
    {
     "data": {
      "text/plain": [
       "31885"
      ]
     },
     "execution_count": 21,
     "metadata": {},
     "output_type": "execute_result"
    }
   ],
   "source": [
    "(len(music_project\n",
    "         .groupby('user_id')['artist_name']\n",
    "         .nunique()\n",
    "         .reset_index()\n",
    "         .query('artist_name == 1'))\n",
    ")"
   ]
  },
  {
   "cell_type": "markdown",
   "metadata": {},
   "source": [
    "Также у нас имеется 31 885 пользователей, которые включали либо только один трек, либо треки, принадлежащие одному исполнителю."
   ]
  },
  {
   "cell_type": "markdown",
   "metadata": {},
   "source": [
    "##### Название жанра <a id='genre'></a>"
   ]
  },
  {
   "cell_type": "code",
   "execution_count": 22,
   "metadata": {},
   "outputs": [
    {
     "data": {
      "text/plain": [
       "count     60126\n",
       "unique      287\n",
       "top         pop\n",
       "freq       8323\n",
       "Name: genre_name, dtype: object"
      ]
     },
     "execution_count": 22,
     "metadata": {},
     "output_type": "execute_result"
    }
   ],
   "source": [
    "music_project['genre_name'].describe()"
   ]
  },
  {
   "cell_type": "code",
   "execution_count": 23,
   "metadata": {},
   "outputs": [
    {
     "data": {
      "text/plain": [
       "array(['acid', 'acoustic', 'action', 'adult', 'africa', 'afrikaans',\n",
       "       'alternative', 'alternativepunk', 'ambient', 'americana',\n",
       "       'animated', 'anime', 'arabesk', 'arabic', 'arena',\n",
       "       'argentinetango', 'art', 'audiobook', 'author', 'avantgarde',\n",
       "       'axé', 'baile', 'balkan', 'beats', 'bigroom', 'black', 'bluegrass',\n",
       "       'blues', 'bollywood', 'bossa', 'brazilian', 'breakbeat', 'breaks',\n",
       "       'broadway', 'cantautori', 'cantopop', 'canzone', 'caribbean',\n",
       "       'caucasian', 'celtic', 'chamber', 'chanson', 'children', 'chill',\n",
       "       'chinese', 'choral', 'christian', 'christmas', 'classical',\n",
       "       'classicmetal', 'club', 'colombian', 'comedy', 'conjazz',\n",
       "       'contemporary', 'country', 'cuban', 'dance', 'dancehall',\n",
       "       'dancepop', 'dark', 'death', 'deep', 'deutschrock', 'deutschspr',\n",
       "       'dirty', 'disco', 'dnb', 'documentary', 'downbeat', 'downtempo',\n",
       "       'drum', 'dub', 'dubstep', 'eastern', 'easy', 'electronic',\n",
       "       'electropop', 'emo', 'entehno', 'epicmetal', 'estrada', 'ethnic',\n",
       "       'eurofolk', 'european', 'experimental', 'extrememetal', 'fado',\n",
       "       'fairytail', 'film', 'fitness', 'flamenco', 'folk', 'folklore',\n",
       "       'folkmetal', 'folkrock', 'folktronica', 'forró', 'frankreich',\n",
       "       'französisch', 'french', 'funk', 'future', 'gangsta', 'garage',\n",
       "       'german', 'ghazal', 'gitarre', 'glitch', 'gospel', 'gothic',\n",
       "       'grime', 'grunge', 'gypsy', 'handsup', \"hard'n'heavy\", 'hardcore',\n",
       "       'hardstyle', 'hardtechno', 'hip', 'hiphop', 'historisch',\n",
       "       'holiday', 'horror', 'house', 'hymn', 'idm', 'independent',\n",
       "       'indian', 'indie', 'indipop', 'industrial', 'inspirational',\n",
       "       'instrumental', 'international', 'irish', 'jam', 'japanese',\n",
       "       'jazz', 'jewish', 'jpop', 'jungle', 'k-pop', 'karadeniz',\n",
       "       'karaoke', 'kayokyoku', 'korean', 'laiko', 'latin', 'latino',\n",
       "       'leftfield', 'local', 'lounge', 'loungeelectronic', 'lovers',\n",
       "       'malaysian', 'mandopop', 'marschmusik', 'meditative',\n",
       "       'mediterranean', 'melodic', 'metal', 'metalcore', 'mexican',\n",
       "       'middle', 'minimal', 'miscellaneous', 'modern', 'mood', 'mpb',\n",
       "       'muslim', 'native', 'neoklassik', 'neue', 'new', 'newage',\n",
       "       'newwave', 'nu', 'nujazz', 'numetal', 'oceania', 'old', 'opera',\n",
       "       'orchestral', 'other', 'piano', 'podcasts', 'pop', 'popdance',\n",
       "       'popelectronic', 'popeurodance', 'poprussian', 'post',\n",
       "       'posthardcore', 'postrock', 'power', 'progmetal', 'progressive',\n",
       "       'psychedelic', 'punjabi', 'punk', 'quebecois', 'ragga', 'ram',\n",
       "       'rancheras', 'rap', 'rave', 'reggae', 'reggaeton', 'regional',\n",
       "       'relax', 'religious', 'retro', 'rhythm', 'rnb', 'rnr', 'rock',\n",
       "       'rockabilly', 'rockalternative', 'rockindie', 'rockother',\n",
       "       'romance', 'roots', 'ruspop', 'rusrap', 'rusrock', 'russian',\n",
       "       'salsa', 'samba', 'scenic', 'schlager', 'self', 'sertanejo',\n",
       "       'shanson', 'shoegazing', 'showtunes', 'singer', 'ska', 'skarock',\n",
       "       'slow', 'smooth', 'soft', 'soul', 'soulful', 'sound', 'soundtrack',\n",
       "       'southern', 'specialty', 'speech', 'spiritual', 'sport',\n",
       "       'stonerrock', 'surf', 'swing', 'synthpop', 'synthrock',\n",
       "       'sängerportrait', 'tango', 'tanzorchester', 'taraftar', 'tatar',\n",
       "       'tech', 'techno', 'teen', 'thrash', 'top', 'traditional',\n",
       "       'tradjazz', 'trance', 'tribal', 'trip', 'triphop', 'tropical',\n",
       "       'türk', 'türkçe', 'ukrrock', 'urban', 'uzbek', 'variété', 'vi',\n",
       "       'videogame', 'vocal', 'western', 'world', 'worldbeat', 'ïîï',\n",
       "       'электроника'], dtype=object)"
      ]
     },
     "execution_count": 23,
     "metadata": {},
     "output_type": "execute_result"
    }
   ],
   "source": [
    "music_project['genre_name'].sort_values().unique()"
   ]
  },
  {
   "cell_type": "markdown",
   "metadata": {},
   "source": [
    "Сохраним список уникальных значений столбца с жанрами в переменной `genres_list`. Отметим, что некоторые жанры выглядят как неявные дубликаты. Их стоит обработать."
   ]
  },
  {
   "cell_type": "code",
   "execution_count": 24,
   "metadata": {},
   "outputs": [],
   "source": [
    "genres_list = music_project['genre_name'].unique()"
   ]
  },
  {
   "cell_type": "markdown",
   "metadata": {},
   "source": [
    "Объявим функцию `find_genre()` для поиска неявных дубликатов в столбце с жанрами. Например, когда название одного и того же жанра написано разными словами."
   ]
  },
  {
   "cell_type": "code",
   "execution_count": 25,
   "metadata": {},
   "outputs": [],
   "source": [
    "def find_genre(genre):\n",
    "    count_genre = 0\n",
    "    for row in genres_list:\n",
    "        if row == genre:\n",
    "            count_genre += 1\n",
    "    return count_genre"
   ]
  },
  {
   "cell_type": "markdown",
   "metadata": {},
   "source": [
    "Вызовем функцию `find_genre()` для поиска различных вариантов названия жанра хип-хоп в таблице. Поищем варианты:\n",
    "- hiphop\n",
    "- hip\n",
    "- hop\n",
    "- hip-hop"
   ]
  },
  {
   "cell_type": "code",
   "execution_count": 26,
   "metadata": {},
   "outputs": [
    {
     "data": {
      "text/plain": [
       "1"
      ]
     },
     "execution_count": 26,
     "metadata": {},
     "output_type": "execute_result"
    }
   ],
   "source": [
    "find_genre('hiphop')"
   ]
  },
  {
   "cell_type": "code",
   "execution_count": 27,
   "metadata": {},
   "outputs": [
    {
     "data": {
      "text/plain": [
       "1"
      ]
     },
     "execution_count": 27,
     "metadata": {},
     "output_type": "execute_result"
    }
   ],
   "source": [
    "find_genre('hip')"
   ]
  },
  {
   "cell_type": "code",
   "execution_count": 28,
   "metadata": {},
   "outputs": [
    {
     "data": {
      "text/plain": [
       "0"
      ]
     },
     "execution_count": 28,
     "metadata": {},
     "output_type": "execute_result"
    }
   ],
   "source": [
    "find_genre('hop')"
   ]
  },
  {
   "cell_type": "code",
   "execution_count": 29,
   "metadata": {},
   "outputs": [
    {
     "data": {
      "text/plain": [
       "0"
      ]
     },
     "execution_count": 29,
     "metadata": {},
     "output_type": "execute_result"
    }
   ],
   "source": [
    "find_genre('hip-hop')"
   ]
  },
  {
   "cell_type": "markdown",
   "metadata": {},
   "source": [
    "Объявим функцию `find_right_genre()`, которая заменяет неправильное название нужного жанра в столбце `genre_name` на правильное и проверяет успешность выполнения замены.\n",
    "\n",
    "Так исправляем все варианты написания, которые выявила проверка."
   ]
  },
  {
   "cell_type": "code",
   "execution_count": 30,
   "metadata": {},
   "outputs": [],
   "source": [
    "def find_right_genre(df, right, wrong):\n",
    "    df['genre_name'] = df['genre_name'].replace(wrong, right)\n",
    "    result = df[df['genre_name'] == wrong]['genre_name'].count()\n",
    "    return result"
   ]
  },
  {
   "cell_type": "code",
   "execution_count": 31,
   "metadata": {},
   "outputs": [
    {
     "data": {
      "text/plain": [
       "0"
      ]
     },
     "execution_count": 31,
     "metadata": {},
     "output_type": "execute_result"
    }
   ],
   "source": [
    "find_right_genre(music_project, 'hiphop', 'hip')"
   ]
  },
  {
   "cell_type": "markdown",
   "metadata": {},
   "source": [
    "Проведём аналогичные процедуры для жанров 'africa' (другое название 'afrikaans'), 'arabesk' (другое название 'arabic'), 'latin' (другое название 'latino'), 'poprussian' (другое название 'ruspop'), 'soul' (другое название 'soulful'), 'türk' (другое название 'türkçe'), 'electronic' (другое название 'электроника')."
   ]
  },
  {
   "cell_type": "code",
   "execution_count": 32,
   "metadata": {},
   "outputs": [
    {
     "data": {
      "text/plain": [
       "0"
      ]
     },
     "execution_count": 32,
     "metadata": {},
     "output_type": "execute_result"
    }
   ],
   "source": [
    "find_right_genre(music_project, 'afrikaans', 'africa')"
   ]
  },
  {
   "cell_type": "code",
   "execution_count": 33,
   "metadata": {},
   "outputs": [
    {
     "data": {
      "text/plain": [
       "0"
      ]
     },
     "execution_count": 33,
     "metadata": {},
     "output_type": "execute_result"
    }
   ],
   "source": [
    "find_right_genre(music_project, 'latino', 'latin')"
   ]
  },
  {
   "cell_type": "code",
   "execution_count": 34,
   "metadata": {},
   "outputs": [
    {
     "data": {
      "text/plain": [
       "0"
      ]
     },
     "execution_count": 34,
     "metadata": {},
     "output_type": "execute_result"
    }
   ],
   "source": [
    "find_right_genre(music_project, 'ruspop', 'poprussian')"
   ]
  },
  {
   "cell_type": "code",
   "execution_count": 35,
   "metadata": {},
   "outputs": [
    {
     "data": {
      "text/plain": [
       "0"
      ]
     },
     "execution_count": 35,
     "metadata": {},
     "output_type": "execute_result"
    }
   ],
   "source": [
    "find_right_genre(music_project, 'soul', 'soulful')"
   ]
  },
  {
   "cell_type": "code",
   "execution_count": 36,
   "metadata": {},
   "outputs": [
    {
     "data": {
      "text/plain": [
       "0"
      ]
     },
     "execution_count": 36,
     "metadata": {},
     "output_type": "execute_result"
    }
   ],
   "source": [
    "find_right_genre(music_project,  'türkçe', 'türk')"
   ]
  },
  {
   "cell_type": "code",
   "execution_count": 37,
   "metadata": {},
   "outputs": [
    {
     "data": {
      "text/plain": [
       "0"
      ]
     },
     "execution_count": 37,
     "metadata": {},
     "output_type": "execute_result"
    }
   ],
   "source": [
    "find_right_genre(music_project,  'electronic', 'электроника')"
   ]
  },
  {
   "cell_type": "markdown",
   "metadata": {},
   "source": [
    "Проверим, сколько уникальных значений жанров у нас осталось."
   ]
  },
  {
   "cell_type": "code",
   "execution_count": 38,
   "metadata": {},
   "outputs": [
    {
     "data": {
      "text/plain": [
       "count     60126\n",
       "unique      280\n",
       "top         pop\n",
       "freq       8323\n",
       "Name: genre_name, dtype: object"
      ]
     },
     "execution_count": 38,
     "metadata": {},
     "output_type": "execute_result"
    }
   ],
   "source": [
    "music_project['genre_name'].describe()"
   ]
  },
  {
   "cell_type": "markdown",
   "metadata": {},
   "source": [
    "Таким образом, в данных имеются композиции, принадлежащие к 280 разным жанрам."
   ]
  },
  {
   "cell_type": "markdown",
   "metadata": {},
   "source": [
    "##### Город <a id='city'></a>"
   ]
  },
  {
   "cell_type": "code",
   "execution_count": 39,
   "metadata": {},
   "outputs": [
    {
     "data": {
      "text/plain": [
       "array(['Saint-Petersburg', 'Moscow'], dtype=object)"
      ]
     },
     "execution_count": 39,
     "metadata": {},
     "output_type": "execute_result"
    }
   ],
   "source": [
    "music_project['city'].unique()"
   ]
  },
  {
   "cell_type": "code",
   "execution_count": 40,
   "metadata": {},
   "outputs": [
    {
     "data": {
      "text/html": [
       "<div>\n",
       "<style scoped>\n",
       "    .dataframe tbody tr th:only-of-type {\n",
       "        vertical-align: middle;\n",
       "    }\n",
       "\n",
       "    .dataframe tbody tr th {\n",
       "        vertical-align: top;\n",
       "    }\n",
       "\n",
       "    .dataframe thead th {\n",
       "        text-align: right;\n",
       "    }\n",
       "</style>\n",
       "<table border=\"1\" class=\"dataframe\">\n",
       "  <thead>\n",
       "    <tr style=\"text-align: right;\">\n",
       "      <th></th>\n",
       "      <th>city</th>\n",
       "      <th>user_id</th>\n",
       "    </tr>\n",
       "  </thead>\n",
       "  <tbody>\n",
       "    <tr>\n",
       "      <th>0</th>\n",
       "      <td>Moscow</td>\n",
       "      <td>29043</td>\n",
       "    </tr>\n",
       "    <tr>\n",
       "      <th>1</th>\n",
       "      <td>Saint-Petersburg</td>\n",
       "      <td>12305</td>\n",
       "    </tr>\n",
       "  </tbody>\n",
       "</table>\n",
       "</div>"
      ],
      "text/plain": [
       "               city  user_id\n",
       "0            Moscow    29043\n",
       "1  Saint-Petersburg    12305"
      ]
     },
     "execution_count": 40,
     "metadata": {},
     "output_type": "execute_result"
    }
   ],
   "source": [
    "(music_project\n",
    "     .groupby('city')['user_id']\n",
    "     .nunique()\n",
    "     .reset_index()\n",
    ")"
   ]
  },
  {
   "cell_type": "markdown",
   "metadata": {},
   "source": [
    "Прослушивающих музыку из Москвы в выборке 29 043 пользователя, а из Санкт-Петербурга - 12 305 человек. Поскольку число уникальных пользователей в выборке равно 41 315, а суммарное значение пользователей из Москвы и Санкт-Петербурга выше, некоторые пользователи слушали музыку и в Москве, и в Санкт-Петербурге. В разрезе данной аналитики для нас этот факт не важен. Однако, в случае изменения критериев, возможно, их нужно будет исключить из анализа."
   ]
  },
  {
   "cell_type": "markdown",
   "metadata": {},
   "source": [
    "##### Время прослушивания <a id='time'></a>"
   ]
  },
  {
   "cell_type": "code",
   "execution_count": 41,
   "metadata": {},
   "outputs": [
    {
     "data": {
      "text/plain": [
       "array(['08:00:00', '08:00:02', '08:00:03', ..., '22:00:57', '22:00:58',\n",
       "       '22:00:59'], dtype=object)"
      ]
     },
     "execution_count": 41,
     "metadata": {},
     "output_type": "execute_result"
    }
   ],
   "source": [
    "music_project['time'].sort_values().unique()"
   ]
  },
  {
   "cell_type": "markdown",
   "metadata": {},
   "source": [
    "У нас имеется информация о прослушивании музыки пользователями с 08:00:00 до 22:00:59."
   ]
  },
  {
   "cell_type": "markdown",
   "metadata": {},
   "source": [
    "##### День недели <a id='day'></a>"
   ]
  },
  {
   "cell_type": "code",
   "execution_count": 42,
   "metadata": {},
   "outputs": [
    {
     "data": {
      "text/plain": [
       "array(['Wednesday', 'Friday', 'Monday'], dtype=object)"
      ]
     },
     "execution_count": 42,
     "metadata": {},
     "output_type": "execute_result"
    }
   ],
   "source": [
    "music_project['weekday'].unique()"
   ]
  },
  {
   "cell_type": "markdown",
   "metadata": {},
   "source": [
    "Данные о прослушивании музыки представлены за Понедельник, Среду и Пятницу."
   ]
  },
  {
   "cell_type": "markdown",
   "metadata": {},
   "source": [
    "После преобразования всех данных ещё раз проверим отсутствие дубликатов и пропусков. Убеждаемся, что чистка выполнена успешно."
   ]
  },
  {
   "cell_type": "code",
   "execution_count": 43,
   "metadata": {},
   "outputs": [
    {
     "data": {
      "text/plain": [
       "0"
      ]
     },
     "execution_count": 43,
     "metadata": {},
     "output_type": "execute_result"
    }
   ],
   "source": [
    "music_project.duplicated().sum()"
   ]
  },
  {
   "cell_type": "code",
   "execution_count": 44,
   "metadata": {},
   "outputs": [
    {
     "name": "stdout",
     "output_type": "stream",
     "text": [
      "<class 'pandas.core.frame.DataFrame'>\n",
      "RangeIndex: 60126 entries, 0 to 60125\n",
      "Data columns (total 7 columns):\n",
      " #   Column       Non-Null Count  Dtype \n",
      "---  ------       --------------  ----- \n",
      " 0   user_id      60126 non-null  object\n",
      " 1   track_name   60126 non-null  object\n",
      " 2   artist_name  60126 non-null  object\n",
      " 3   genre_name   60126 non-null  object\n",
      " 4   city         60126 non-null  object\n",
      " 5   time         60126 non-null  object\n",
      " 6   weekday      60126 non-null  object\n",
      "dtypes: object(7)\n",
      "memory usage: 3.2+ MB\n"
     ]
    }
   ],
   "source": [
    "music_project.info()"
   ]
  },
  {
   "cell_type": "markdown",
   "metadata": {},
   "source": [
    "### Вывод <a id='step_1.4'></a>"
   ]
  },
  {
   "cell_type": "markdown",
   "metadata": {},
   "source": [
    "У нас имеются данные с информацией о прослушивании музыки пользователями. При этом каждое из зафиксированных в данных прослушиваний характеризуется семью признаками: идентификатором пользователя, названием трека, именем исполнителя трека, названием жанра трека, городом, временем и днём недели, в которые пользователь слушал трек.\n",
    "\n",
    "На этапе предобработки в данных обнаружились пропуски и проблемы с названиями столбцов, а также \"явные\" и \"неявные\" дубликаты, которые были обработаны.\n",
    "\n",
    "После этапа предобработки имеем слеующие данные для анализа. В данных встречается 60 126 прослушиваний музыки, в которых 41 315 уникальных пользователей. Из этих пользователей 29 043 человека прослушивали музыку в Москве, а 12 305 - в Санкт-Петербурге. Поскольку число уникальных пользователей в выборке меньше суммарного значения пользователей из Москвы и Санкт-Петербурга выше, это говорит о том, что некоторые пользователи слушали музыку и в Москве, и в Санкт-Петербурге. В разрезе данной аналитики для нас этот факт не важен. Однако, в случае изменения критериев, возможно, их нужно будет исключить из анализа.\n",
    "\n",
    "В данных встречается 46 910 уникальных композиций по названию трека и 43 344 уникальных исполнителя. Отметим, что 104 пользователя слушали более 10 треков с разными названиями, а 98 пользователей слушали более 10 треков с разными исполнителями. При этом некоторые из них слушали до 42 треков с разными названиями и до 38 треков с разными исполнителями. Также у нас имеется около 31 800 пользователей, которые включали либо только один трек, либо треки, имеющие одинаковые названия, либо треки, принадлежащие одному исполнителю. Кроме того, данные содержат композиции, принадлежащие к 280 разным жанрам. \n",
    "\n",
    "Вся информация представлена за Понедельники, Среды и Пятницы и временной период с 08:00:00 до 22:00:59."
   ]
  },
  {
   "cell_type": "markdown",
   "metadata": {},
   "source": [
    "## Этап 2. Анализ данных <a id='step_2'></a>"
   ]
  },
  {
   "cell_type": "markdown",
   "metadata": {},
   "source": [
    "### Различия времени прослушивания музыки в разных городах  <a id='step_2.1'></a>"
   ]
  },
  {
   "cell_type": "markdown",
   "metadata": {},
   "source": [
    "Была выдвинута гипотеза о том, что в Москве и Санкт-Петербурге пользователи слушают музыку по-разному. Проверяем это предположение по данным о трёх днях недели — понедельнике, среде и пятнице.\n",
    "\n",
    "Для каждого города устанавливаем количество прослушанных в эти дни композиций с известным жанром, и сравниваем результаты."
   ]
  },
  {
   "cell_type": "code",
   "execution_count": 45,
   "metadata": {},
   "outputs": [
    {
     "data": {
      "text/plain": [
       "city\n",
       "Moscow              41892\n",
       "Saint-Petersburg    18234\n",
       "Name: genre_name, dtype: int64"
      ]
     },
     "execution_count": 45,
     "metadata": {},
     "output_type": "execute_result"
    }
   ],
   "source": [
    "# Сгруппируем данные по городу и подсчитаем композиции, для которых известен жанр\n",
    "music_project.groupby('city')['genre_name'].count()"
   ]
  },
  {
   "cell_type": "markdown",
   "metadata": {},
   "source": [
    "В Москве прослушиваний больше, чем в Питере, но это не значит, что Москва более активна. Как мы посчитали в предварительном анализе данных, у Яндекс.Музыки, в целом, больше пользователей в Москве, поэтому величины сопоставимы."
   ]
  },
  {
   "cell_type": "code",
   "execution_count": 46,
   "metadata": {},
   "outputs": [
    {
     "data": {
      "text/plain": [
       "weekday\n",
       "Friday       21482\n",
       "Monday       20866\n",
       "Wednesday    17778\n",
       "Name: genre_name, dtype: int64"
      ]
     },
     "execution_count": 46,
     "metadata": {},
     "output_type": "execute_result"
    }
   ],
   "source": [
    "# Сгруппируем данные по дню недели и подсчитаем композиции, для которых известен жанр\n",
    "music_project.groupby('weekday')['genre_name'].count()"
   ]
  },
  {
   "cell_type": "markdown",
   "metadata": {},
   "source": [
    "Понедельник и пятница — время для музыки; по средам пользователи немного больше вовлечены в работу."
   ]
  },
  {
   "cell_type": "markdown",
   "metadata": {},
   "source": [
    "Создадим функцию `number_tracks()`, которая принимает как параметры таблицу, день недели и название города, а возвращает количество прослушанных композиций, для которых известен жанр. Проверяем количество прослушанных композиций для каждого города и каждого дня недели."
   ]
  },
  {
   "cell_type": "code",
   "execution_count": 47,
   "metadata": {},
   "outputs": [],
   "source": [
    "def number_tracks(df, day, city):\n",
    "    track_list = df[(df['city'] == city) & (df['weekday'] == day)]\n",
    "    track_list_count = track_list['genre_name'].count()\n",
    "    return track_list_count"
   ]
  },
  {
   "cell_type": "markdown",
   "metadata": {},
   "source": [
    "Сразу же сведём информацию в одну таблицу `city_weekday`."
   ]
  },
  {
   "cell_type": "code",
   "execution_count": 48,
   "metadata": {},
   "outputs": [
    {
     "data": {
      "text/html": [
       "<div>\n",
       "<style scoped>\n",
       "    .dataframe tbody tr th:only-of-type {\n",
       "        vertical-align: middle;\n",
       "    }\n",
       "\n",
       "    .dataframe tbody tr th {\n",
       "        vertical-align: top;\n",
       "    }\n",
       "\n",
       "    .dataframe thead th {\n",
       "        text-align: right;\n",
       "    }\n",
       "</style>\n",
       "<table border=\"1\" class=\"dataframe\">\n",
       "  <thead>\n",
       "    <tr style=\"text-align: right;\">\n",
       "      <th></th>\n",
       "      <th>city</th>\n",
       "      <th>Monday</th>\n",
       "      <th>Wednesday</th>\n",
       "      <th>Friday</th>\n",
       "    </tr>\n",
       "  </thead>\n",
       "  <tbody>\n",
       "    <tr>\n",
       "      <th>0</th>\n",
       "      <td>Moscow</td>\n",
       "      <td>15347</td>\n",
       "      <td>10865</td>\n",
       "      <td>15680</td>\n",
       "    </tr>\n",
       "    <tr>\n",
       "      <th>1</th>\n",
       "      <td>Saint-Petersburg</td>\n",
       "      <td>5519</td>\n",
       "      <td>6913</td>\n",
       "      <td>5802</td>\n",
       "    </tr>\n",
       "  </tbody>\n",
       "</table>\n",
       "</div>"
      ],
      "text/plain": [
       "               city  Monday  Wednesday  Friday\n",
       "0            Moscow   15347      10865   15680\n",
       "1  Saint-Petersburg    5519       6913    5802"
      ]
     },
     "execution_count": 48,
     "metadata": {},
     "output_type": "execute_result"
    }
   ],
   "source": [
    "heading_table = ['city', 'Monday', 'Wednesday', 'Friday']\n",
    "city_weekday = pd.DataFrame([], columns=heading_table)\n",
    "city_weekday['city'] = music_project['city'].sort_values().unique()\n",
    "for weekday in city_weekday.drop('city', axis=1).columns:\n",
    "    for city in city_weekday['city']:\n",
    "        city_weekday.loc[city_weekday['city'] == city, weekday] = number_tracks(music_project, weekday, city)\n",
    "city_weekday[['Monday', 'Wednesday', 'Friday']] = city_weekday[['Monday', 'Wednesday', 'Friday']].astype('int')\n",
    "city_weekday"
   ]
  },
  {
   "cell_type": "markdown",
   "metadata": {},
   "source": [
    "Для более наглядного анализа построим график по полученной таблице."
   ]
  },
  {
   "cell_type": "code",
   "execution_count": 49,
   "metadata": {},
   "outputs": [
    {
     "data": {
      "image/png": "[encoded data removed]",
      "text/plain": [
       "<Figure size 432x288 with 1 Axes>"
      ]
     },
     "metadata": {
      "needs_background": "light"
     },
     "output_type": "display_data"
    }
   ],
   "source": [
    "# Параметры разметки для категорий (городов)\n",
    "cat_par = city_weekday['city']\n",
    "width = 0.3\n",
    "x = np.arange(len(cat_par))\n",
    "\n",
    "# Построение графика\n",
    "fig, ax = plt.subplots()\n",
    "rects1 = ax.bar(x - width, pd.Series(city_weekday['Monday']), width, label='Monday')\n",
    "rects2 = ax.bar(x, pd.Series(city_weekday['Wednesday']), width, label='Wednesday')\n",
    "rects3 = ax.bar(x + width, pd.Series(city_weekday['Friday']), width, label='Friday')\n",
    "ax.set(title='Количество прослушиваний треков в разные дни по городам',\n",
    "       xlabel='город', ylabel='число треков')\n",
    "ax.set_xticks(x)\n",
    "ax.set_xticklabels(cat_par)\n",
    "\n",
    "# Подписи к столбцам графика\n",
    "def autolabel(rects, labels=None, height_factor=1.01):\n",
    "    for i, rect in enumerate(rects):\n",
    "        height = rect.get_height()\n",
    "        if labels is not None:\n",
    "            try:\n",
    "                label = labels[i]\n",
    "            except (TypeError, KeyError):\n",
    "                label = ' '\n",
    "        else:\n",
    "            label = '%d' % int(height)\n",
    "        ax.text(rect.get_x() + rect.get_width()/2., height_factor*height,\n",
    "                '{}'.format(label),\n",
    "                ha='center', va='bottom')\n",
    "autolabel(ax.patches, height_factor=0.85)\n",
    "\n",
    "ax.legend(bbox_to_anchor=(1.3, 1));"
   ]
  },
  {
   "cell_type": "markdown",
   "metadata": {},
   "source": [
    "Результаты показывают, что относительно среды музыку в Санкт-Петербурге и Москве слушают «зеркально»: в Москве пики приходятся на понедельник и пятницу (с небольшим преобладанием в пятницу), а в среду время прослушивания снижается. В то время как в Санкт-Петербурге среда — день самого большого интереса к музыке, а в понедельник и пятницу он меньше (с небольшим преобладанием в среду)."
   ]
  },
  {
   "cell_type": "markdown",
   "metadata": {},
   "source": [
    "### Различия предпочтительных направлений музыки в разные дни недели и время  <a id='step_2.2'></a>"
   ]
  },
  {
   "cell_type": "markdown",
   "metadata": {},
   "source": [
    "Далее найдём ответ на вопрос, какие жанры преобладают в разных городах в разные дни недели утром и вечером. Есть предположение, что в понедельник утром пользователи слушают больше \"бодрой\" музыки (такой как музыка в жанре поп), чтобы настроиться на \"рабочий лад\", а вечером пятницы — больше танцевальной музыки (например, электроника), поскольку впереди выходные."
   ]
  },
  {
   "cell_type": "code",
   "execution_count": 50,
   "metadata": {},
   "outputs": [
    {
     "data": {
      "text/html": [
       "<div>\n",
       "<style scoped>\n",
       "    .dataframe tbody tr th:only-of-type {\n",
       "        vertical-align: middle;\n",
       "    }\n",
       "\n",
       "    .dataframe tbody tr th {\n",
       "        vertical-align: top;\n",
       "    }\n",
       "\n",
       "    .dataframe thead th {\n",
       "        text-align: right;\n",
       "    }\n",
       "</style>\n",
       "<table border=\"1\" class=\"dataframe\">\n",
       "  <thead>\n",
       "    <tr style=\"text-align: right;\">\n",
       "      <th></th>\n",
       "      <th>user_id</th>\n",
       "      <th>track_name</th>\n",
       "      <th>artist_name</th>\n",
       "      <th>genre_name</th>\n",
       "      <th>city</th>\n",
       "      <th>time</th>\n",
       "      <th>weekday</th>\n",
       "    </tr>\n",
       "  </thead>\n",
       "  <tbody>\n",
       "    <tr>\n",
       "      <th>1</th>\n",
       "      <td>55204538</td>\n",
       "      <td>Delayed Because of Accident</td>\n",
       "      <td>Andreas Rönnberg</td>\n",
       "      <td>rock</td>\n",
       "      <td>Moscow</td>\n",
       "      <td>14:07:09</td>\n",
       "      <td>Friday</td>\n",
       "    </tr>\n",
       "    <tr>\n",
       "      <th>4</th>\n",
       "      <td>E2DC1FAE</td>\n",
       "      <td>Soul People</td>\n",
       "      <td>Space Echo</td>\n",
       "      <td>dance</td>\n",
       "      <td>Moscow</td>\n",
       "      <td>08:34:34</td>\n",
       "      <td>Monday</td>\n",
       "    </tr>\n",
       "    <tr>\n",
       "      <th>6</th>\n",
       "      <td>4CB90AA5</td>\n",
       "      <td>True</td>\n",
       "      <td>Roman Messer</td>\n",
       "      <td>dance</td>\n",
       "      <td>Moscow</td>\n",
       "      <td>13:00:07</td>\n",
       "      <td>Wednesday</td>\n",
       "    </tr>\n",
       "    <tr>\n",
       "      <th>7</th>\n",
       "      <td>F03E1C1F</td>\n",
       "      <td>Feeling This Way</td>\n",
       "      <td>Polina Griffith</td>\n",
       "      <td>dance</td>\n",
       "      <td>Moscow</td>\n",
       "      <td>20:47:49</td>\n",
       "      <td>Wednesday</td>\n",
       "    </tr>\n",
       "    <tr>\n",
       "      <th>8</th>\n",
       "      <td>8FA1D3BE</td>\n",
       "      <td>И вновь продолжается бой</td>\n",
       "      <td>unknown</td>\n",
       "      <td>ruspop</td>\n",
       "      <td>Moscow</td>\n",
       "      <td>09:17:40</td>\n",
       "      <td>Friday</td>\n",
       "    </tr>\n",
       "  </tbody>\n",
       "</table>\n",
       "</div>"
      ],
      "text/plain": [
       "    user_id                   track_name       artist_name genre_name    city  \\\n",
       "1  55204538  Delayed Because of Accident  Andreas Rönnberg       rock  Moscow   \n",
       "4  E2DC1FAE                  Soul People        Space Echo      dance  Moscow   \n",
       "6  4CB90AA5                         True      Roman Messer      dance  Moscow   \n",
       "7  F03E1C1F             Feeling This Way   Polina Griffith      dance  Moscow   \n",
       "8  8FA1D3BE     И вновь продолжается бой           unknown     ruspop  Moscow   \n",
       "\n",
       "       time    weekday  \n",
       "1  14:07:09     Friday  \n",
       "4  08:34:34     Monday  \n",
       "6  13:00:07  Wednesday  \n",
       "7  20:47:49  Wednesday  \n",
       "8  09:17:40     Friday  "
      ]
     },
     "execution_count": 50,
     "metadata": {},
     "output_type": "execute_result"
    }
   ],
   "source": [
    "# Данные по Москве\n",
    "moscow_music = music_project.query('city == \"Moscow\"')\n",
    "moscow_music.head()"
   ]
  },
  {
   "cell_type": "code",
   "execution_count": 51,
   "metadata": {},
   "outputs": [
    {
     "data": {
      "text/html": [
       "<div>\n",
       "<style scoped>\n",
       "    .dataframe tbody tr th:only-of-type {\n",
       "        vertical-align: middle;\n",
       "    }\n",
       "\n",
       "    .dataframe tbody tr th {\n",
       "        vertical-align: top;\n",
       "    }\n",
       "\n",
       "    .dataframe thead th {\n",
       "        text-align: right;\n",
       "    }\n",
       "</style>\n",
       "<table border=\"1\" class=\"dataframe\">\n",
       "  <thead>\n",
       "    <tr style=\"text-align: right;\">\n",
       "      <th></th>\n",
       "      <th>user_id</th>\n",
       "      <th>track_name</th>\n",
       "      <th>artist_name</th>\n",
       "      <th>genre_name</th>\n",
       "      <th>city</th>\n",
       "      <th>time</th>\n",
       "      <th>weekday</th>\n",
       "    </tr>\n",
       "  </thead>\n",
       "  <tbody>\n",
       "    <tr>\n",
       "      <th>0</th>\n",
       "      <td>FFB692EC</td>\n",
       "      <td>Kamigata To Boots</td>\n",
       "      <td>The Mass Missile</td>\n",
       "      <td>rock</td>\n",
       "      <td>Saint-Petersburg</td>\n",
       "      <td>20:28:33</td>\n",
       "      <td>Wednesday</td>\n",
       "    </tr>\n",
       "    <tr>\n",
       "      <th>2</th>\n",
       "      <td>20EC38</td>\n",
       "      <td>Funiculì funiculà</td>\n",
       "      <td>Mario Lanza</td>\n",
       "      <td>pop</td>\n",
       "      <td>Saint-Petersburg</td>\n",
       "      <td>20:58:07</td>\n",
       "      <td>Wednesday</td>\n",
       "    </tr>\n",
       "    <tr>\n",
       "      <th>3</th>\n",
       "      <td>A3DD03C9</td>\n",
       "      <td>Dragons in the Sunset</td>\n",
       "      <td>Fire + Ice</td>\n",
       "      <td>folk</td>\n",
       "      <td>Saint-Petersburg</td>\n",
       "      <td>08:37:09</td>\n",
       "      <td>Monday</td>\n",
       "    </tr>\n",
       "    <tr>\n",
       "      <th>5</th>\n",
       "      <td>842029A1</td>\n",
       "      <td>Преданная</td>\n",
       "      <td>IMPERVTOR</td>\n",
       "      <td>rusrap</td>\n",
       "      <td>Saint-Petersburg</td>\n",
       "      <td>13:09:41</td>\n",
       "      <td>Friday</td>\n",
       "    </tr>\n",
       "    <tr>\n",
       "      <th>9</th>\n",
       "      <td>E772D5C0</td>\n",
       "      <td>Pessimist</td>\n",
       "      <td>unknown</td>\n",
       "      <td>dance</td>\n",
       "      <td>Saint-Petersburg</td>\n",
       "      <td>21:20:49</td>\n",
       "      <td>Wednesday</td>\n",
       "    </tr>\n",
       "  </tbody>\n",
       "</table>\n",
       "</div>"
      ],
      "text/plain": [
       "    user_id             track_name       artist_name genre_name  \\\n",
       "0  FFB692EC      Kamigata To Boots  The Mass Missile       rock   \n",
       "2    20EC38      Funiculì funiculà       Mario Lanza        pop   \n",
       "3  A3DD03C9  Dragons in the Sunset        Fire + Ice       folk   \n",
       "5  842029A1              Преданная         IMPERVTOR     rusrap   \n",
       "9  E772D5C0              Pessimist           unknown      dance   \n",
       "\n",
       "               city      time    weekday  \n",
       "0  Saint-Petersburg  20:28:33  Wednesday  \n",
       "2  Saint-Petersburg  20:58:07  Wednesday  \n",
       "3  Saint-Petersburg  08:37:09     Monday  \n",
       "5  Saint-Petersburg  13:09:41     Friday  \n",
       "9  Saint-Petersburg  21:20:49  Wednesday  "
      ]
     },
     "execution_count": 51,
     "metadata": {},
     "output_type": "execute_result"
    }
   ],
   "source": [
    "# Данные по Санкт-Петербургу\n",
    "spb_music = music_project.query('city == \"Saint-Petersburg\"')\n",
    "spb_music.head()"
   ]
  },
  {
   "cell_type": "markdown",
   "metadata": {},
   "source": [
    "Создадим функцию `genre_weekday()`, которая возвращает список жанров по запрошенному дню недели и времени суток (с указанием промежутка времени)."
   ]
  },
  {
   "cell_type": "code",
   "execution_count": 52,
   "metadata": {},
   "outputs": [],
   "source": [
    "def genre_weekday(df, day, time1, time2):\n",
    "    genre_list = df[(df['weekday']==day)&(df['time']>time1)&(df['time']<time2)]\n",
    "    genre_list_grouped = pd.Series(genre_list\n",
    "                                       .groupby('genre_name')['genre_name']\n",
    "                                       .count()\n",
    "                                       .sort_values(ascending=False)\n",
    "                                       .head(10),\n",
    "                                   name='tracks_cnt').reset_index()\n",
    "    return genre_list_grouped"
   ]
  },
  {
   "cell_type": "markdown",
   "metadata": {},
   "source": [
    "Cравниваем полученные результаты по таблице для Москвы и Санкт-Петербурга в разные дни недели утром (с 7 до 11) и вечером (с 17 до 23)."
   ]
  },
  {
   "cell_type": "code",
   "execution_count": 53,
   "metadata": {},
   "outputs": [],
   "source": [
    "# Москва, утро понедельника\n",
    "moscow_mon_morn = genre_weekday(moscow_music, 'Monday', '07:00:00', '11:00:00')\n",
    "# Москва, вечер понедельника\n",
    "moscow_mon_even = genre_weekday(moscow_music, 'Monday', '17:00:00', '23:00:00')\n",
    "# Москва, утро среды\n",
    "moscow_wed_morn = genre_weekday(moscow_music, 'Wednesday', '07:00:00', '11:00:00')\n",
    "# Москва, вечер среды\n",
    "moscow_wed_even = genre_weekday(moscow_music, 'Wednesday', '17:00:00', '23:00:00')\n",
    "# Москва, утро пятницы\n",
    "moscow_fri_morn = genre_weekday(moscow_music, 'Friday', '07:00:00', '11:00:00')\n",
    "# Москва, вечер пятницы\n",
    "moscow_fri_even = genre_weekday(moscow_music, 'Friday', '17:00:00', '23:00:00')"
   ]
  },
  {
   "cell_type": "markdown",
   "metadata": {},
   "source": [
    "Сведём полученные данные по московским топовым жанрам воедино."
   ]
  },
  {
   "cell_type": "code",
   "execution_count": 54,
   "metadata": {},
   "outputs": [
    {
     "data": {
      "text/html": [
       "<div>\n",
       "<style scoped>\n",
       "    .dataframe tbody tr th:only-of-type {\n",
       "        vertical-align: middle;\n",
       "    }\n",
       "\n",
       "    .dataframe tbody tr th {\n",
       "        vertical-align: top;\n",
       "    }\n",
       "\n",
       "    .dataframe thead th {\n",
       "        text-align: right;\n",
       "    }\n",
       "</style>\n",
       "<table border=\"1\" class=\"dataframe\">\n",
       "  <thead>\n",
       "    <tr style=\"text-align: right;\">\n",
       "      <th></th>\n",
       "      <th>genre_name</th>\n",
       "      <th>monday_morn</th>\n",
       "      <th>monday_even</th>\n",
       "      <th>wednesday_morn</th>\n",
       "      <th>wednesday_even</th>\n",
       "      <th>friday_morn</th>\n",
       "      <th>friday_even</th>\n",
       "    </tr>\n",
       "  </thead>\n",
       "  <tbody>\n",
       "    <tr>\n",
       "      <th>0</th>\n",
       "      <td>pop</td>\n",
       "      <td>781</td>\n",
       "      <td>717</td>\n",
       "      <td>445</td>\n",
       "      <td>553</td>\n",
       "      <td>789</td>\n",
       "      <td>713</td>\n",
       "    </tr>\n",
       "    <tr>\n",
       "      <th>1</th>\n",
       "      <td>dance</td>\n",
       "      <td>549</td>\n",
       "      <td>524</td>\n",
       "      <td>310</td>\n",
       "      <td>411</td>\n",
       "      <td>585</td>\n",
       "      <td>495</td>\n",
       "    </tr>\n",
       "    <tr>\n",
       "      <th>2</th>\n",
       "      <td>electronic</td>\n",
       "      <td>480</td>\n",
       "      <td>485</td>\n",
       "      <td>263</td>\n",
       "      <td>317</td>\n",
       "      <td>506</td>\n",
       "      <td>482</td>\n",
       "    </tr>\n",
       "    <tr>\n",
       "      <th>3</th>\n",
       "      <td>rock</td>\n",
       "      <td>474</td>\n",
       "      <td>518</td>\n",
       "      <td>276</td>\n",
       "      <td>351</td>\n",
       "      <td>509</td>\n",
       "      <td>517</td>\n",
       "    </tr>\n",
       "    <tr>\n",
       "      <th>4</th>\n",
       "      <td>hiphop</td>\n",
       "      <td>286</td>\n",
       "      <td>238</td>\n",
       "      <td>146</td>\n",
       "      <td>174</td>\n",
       "      <td>277</td>\n",
       "      <td>273</td>\n",
       "    </tr>\n",
       "    <tr>\n",
       "      <th>5</th>\n",
       "      <td>ruspop</td>\n",
       "      <td>186</td>\n",
       "      <td>149</td>\n",
       "      <td>117</td>\n",
       "      <td>116</td>\n",
       "      <td>207</td>\n",
       "      <td>170</td>\n",
       "    </tr>\n",
       "    <tr>\n",
       "      <th>6</th>\n",
       "      <td>world</td>\n",
       "      <td>181</td>\n",
       "      <td>172</td>\n",
       "      <td>84</td>\n",
       "      <td>121</td>\n",
       "      <td>174</td>\n",
       "      <td>208</td>\n",
       "    </tr>\n",
       "    <tr>\n",
       "      <th>7</th>\n",
       "      <td>rusrap</td>\n",
       "      <td>175</td>\n",
       "      <td>133</td>\n",
       "      <td>83</td>\n",
       "      <td>107</td>\n",
       "      <td>148</td>\n",
       "      <td>142</td>\n",
       "    </tr>\n",
       "    <tr>\n",
       "      <th>8</th>\n",
       "      <td>alternative</td>\n",
       "      <td>164</td>\n",
       "      <td>182</td>\n",
       "      <td>100</td>\n",
       "      <td>130</td>\n",
       "      <td>172</td>\n",
       "      <td>163</td>\n",
       "    </tr>\n",
       "    <tr>\n",
       "      <th>9</th>\n",
       "      <td>classical</td>\n",
       "      <td>157</td>\n",
       "      <td>172</td>\n",
       "      <td>115</td>\n",
       "      <td>152</td>\n",
       "      <td>201</td>\n",
       "      <td>163</td>\n",
       "    </tr>\n",
       "  </tbody>\n",
       "</table>\n",
       "</div>"
      ],
      "text/plain": [
       "    genre_name  monday_morn  monday_even  wednesday_morn  wednesday_even  \\\n",
       "0          pop          781          717             445             553   \n",
       "1        dance          549          524             310             411   \n",
       "2   electronic          480          485             263             317   \n",
       "3         rock          474          518             276             351   \n",
       "4       hiphop          286          238             146             174   \n",
       "5       ruspop          186          149             117             116   \n",
       "6        world          181          172              84             121   \n",
       "7       rusrap          175          133              83             107   \n",
       "8  alternative          164          182             100             130   \n",
       "9    classical          157          172             115             152   \n",
       "\n",
       "   friday_morn  friday_even  \n",
       "0          789          713  \n",
       "1          585          495  \n",
       "2          506          482  \n",
       "3          509          517  \n",
       "4          277          273  \n",
       "5          207          170  \n",
       "6          174          208  \n",
       "7          148          142  \n",
       "8          172          163  \n",
       "9          201          163  "
      ]
     },
     "execution_count": 54,
     "metadata": {},
     "output_type": "execute_result"
    }
   ],
   "source": [
    "moscow_genre = (moscow_mon_morn\n",
    "                    .merge(moscow_mon_even, on='genre_name', how='outer')\n",
    "                    .merge(moscow_wed_morn, on='genre_name', how='outer')\n",
    "                    .merge(moscow_wed_even, on='genre_name', how='outer')\n",
    "                    .merge(moscow_fri_morn, on='genre_name', how='outer')\n",
    "                    .merge(moscow_fri_even, on='genre_name', how='outer')\n",
    "               )\n",
    "moscow_genre.columns=['genre_name', 'monday_morn', 'monday_even', 'wednesday_morn',\n",
    "                      'wednesday_even', 'friday_morn', 'friday_even']\n",
    "moscow_genre"
   ]
  },
  {
   "cell_type": "markdown",
   "metadata": {},
   "source": [
    "Аналогичные действия произведём для Санкт-Петербурга."
   ]
  },
  {
   "cell_type": "code",
   "execution_count": 55,
   "metadata": {},
   "outputs": [],
   "source": [
    "# Санкт-Петербург, утро понедельника\n",
    "spb_mon_morn = genre_weekday(spb_music, 'Monday', '07:00:00', '11:00:00')\n",
    "# Санкт-Петербург, вечер понедельника\n",
    "spb_mon_even = genre_weekday(spb_music, 'Monday', '17:00:00', '23:00:00')\n",
    "# Санкт-Петербург, утро среды\n",
    "spb_wed_morn = genre_weekday(spb_music, 'Wednesday', '07:00:00', '11:00:00')\n",
    "# Санкт-Петербург, вечер среды\n",
    "spb_wed_even = genre_weekday(spb_music, 'Wednesday', '17:00:00', '23:00:00')\n",
    "# Санкт-Петербург, утро пятницы\n",
    "spb_fri_morn = genre_weekday(spb_music, 'Friday', '07:00:00', '11:00:00')\n",
    "# Санкт-Петербург, вечер пятницы\n",
    "spb_fri_even = genre_weekday(spb_music, 'Friday', '17:00:00', '23:00:00')"
   ]
  },
  {
   "cell_type": "markdown",
   "metadata": {},
   "source": [
    "Сведём полученные данные по петербургским топовым жанрам воедино."
   ]
  },
  {
   "cell_type": "code",
   "execution_count": 56,
   "metadata": {},
   "outputs": [
    {
     "data": {
      "text/html": [
       "<div>\n",
       "<style scoped>\n",
       "    .dataframe tbody tr th:only-of-type {\n",
       "        vertical-align: middle;\n",
       "    }\n",
       "\n",
       "    .dataframe tbody tr th {\n",
       "        vertical-align: top;\n",
       "    }\n",
       "\n",
       "    .dataframe thead th {\n",
       "        text-align: right;\n",
       "    }\n",
       "</style>\n",
       "<table border=\"1\" class=\"dataframe\">\n",
       "  <thead>\n",
       "    <tr style=\"text-align: right;\">\n",
       "      <th></th>\n",
       "      <th>genre_name</th>\n",
       "      <th>monday_morn</th>\n",
       "      <th>monday_even</th>\n",
       "      <th>wednesday_morn</th>\n",
       "      <th>wednesday_even</th>\n",
       "      <th>friday_morn</th>\n",
       "      <th>friday_even</th>\n",
       "    </tr>\n",
       "  </thead>\n",
       "  <tbody>\n",
       "    <tr>\n",
       "      <th>0</th>\n",
       "      <td>pop</td>\n",
       "      <td>218.0</td>\n",
       "      <td>263.0</td>\n",
       "      <td>272.0</td>\n",
       "      <td>320.0</td>\n",
       "      <td>211.0</td>\n",
       "      <td>256.0</td>\n",
       "    </tr>\n",
       "    <tr>\n",
       "      <th>1</th>\n",
       "      <td>dance</td>\n",
       "      <td>182.0</td>\n",
       "      <td>191.0</td>\n",
       "      <td>232.0</td>\n",
       "      <td>225.0</td>\n",
       "      <td>192.0</td>\n",
       "      <td>210.0</td>\n",
       "    </tr>\n",
       "    <tr>\n",
       "      <th>2</th>\n",
       "      <td>rock</td>\n",
       "      <td>162.0</td>\n",
       "      <td>208.0</td>\n",
       "      <td>202.0</td>\n",
       "      <td>243.0</td>\n",
       "      <td>156.0</td>\n",
       "      <td>216.0</td>\n",
       "    </tr>\n",
       "    <tr>\n",
       "      <th>3</th>\n",
       "      <td>electronic</td>\n",
       "      <td>147.0</td>\n",
       "      <td>192.0</td>\n",
       "      <td>206.0</td>\n",
       "      <td>241.0</td>\n",
       "      <td>167.0</td>\n",
       "      <td>216.0</td>\n",
       "    </tr>\n",
       "    <tr>\n",
       "      <th>4</th>\n",
       "      <td>hiphop</td>\n",
       "      <td>80.0</td>\n",
       "      <td>104.0</td>\n",
       "      <td>99.0</td>\n",
       "      <td>131.0</td>\n",
       "      <td>109.0</td>\n",
       "      <td>97.0</td>\n",
       "    </tr>\n",
       "    <tr>\n",
       "      <th>5</th>\n",
       "      <td>ruspop</td>\n",
       "      <td>64.0</td>\n",
       "      <td>53.0</td>\n",
       "      <td>65.0</td>\n",
       "      <td>70.0</td>\n",
       "      <td>45.0</td>\n",
       "      <td>NaN</td>\n",
       "    </tr>\n",
       "    <tr>\n",
       "      <th>6</th>\n",
       "      <td>alternative</td>\n",
       "      <td>58.0</td>\n",
       "      <td>72.0</td>\n",
       "      <td>71.0</td>\n",
       "      <td>99.0</td>\n",
       "      <td>55.0</td>\n",
       "      <td>63.0</td>\n",
       "    </tr>\n",
       "    <tr>\n",
       "      <th>7</th>\n",
       "      <td>rusrap</td>\n",
       "      <td>55.0</td>\n",
       "      <td>54.0</td>\n",
       "      <td>85.0</td>\n",
       "      <td>71.0</td>\n",
       "      <td>55.0</td>\n",
       "      <td>59.0</td>\n",
       "    </tr>\n",
       "    <tr>\n",
       "      <th>8</th>\n",
       "      <td>jazz</td>\n",
       "      <td>44.0</td>\n",
       "      <td>57.0</td>\n",
       "      <td>NaN</td>\n",
       "      <td>NaN</td>\n",
       "      <td>NaN</td>\n",
       "      <td>61.0</td>\n",
       "    </tr>\n",
       "    <tr>\n",
       "      <th>9</th>\n",
       "      <td>classical</td>\n",
       "      <td>40.0</td>\n",
       "      <td>71.0</td>\n",
       "      <td>59.0</td>\n",
       "      <td>88.0</td>\n",
       "      <td>56.0</td>\n",
       "      <td>60.0</td>\n",
       "    </tr>\n",
       "    <tr>\n",
       "      <th>10</th>\n",
       "      <td>world</td>\n",
       "      <td>NaN</td>\n",
       "      <td>NaN</td>\n",
       "      <td>48.0</td>\n",
       "      <td>73.0</td>\n",
       "      <td>46.0</td>\n",
       "      <td>54.0</td>\n",
       "    </tr>\n",
       "  </tbody>\n",
       "</table>\n",
       "</div>"
      ],
      "text/plain": [
       "     genre_name  monday_morn  monday_even  wednesday_morn  wednesday_even  \\\n",
       "0           pop        218.0        263.0           272.0           320.0   \n",
       "1         dance        182.0        191.0           232.0           225.0   \n",
       "2          rock        162.0        208.0           202.0           243.0   \n",
       "3    electronic        147.0        192.0           206.0           241.0   \n",
       "4        hiphop         80.0        104.0            99.0           131.0   \n",
       "5        ruspop         64.0         53.0            65.0            70.0   \n",
       "6   alternative         58.0         72.0            71.0            99.0   \n",
       "7        rusrap         55.0         54.0            85.0            71.0   \n",
       "8          jazz         44.0         57.0             NaN             NaN   \n",
       "9     classical         40.0         71.0            59.0            88.0   \n",
       "10        world          NaN          NaN            48.0            73.0   \n",
       "\n",
       "    friday_morn  friday_even  \n",
       "0         211.0        256.0  \n",
       "1         192.0        210.0  \n",
       "2         156.0        216.0  \n",
       "3         167.0        216.0  \n",
       "4         109.0         97.0  \n",
       "5          45.0          NaN  \n",
       "6          55.0         63.0  \n",
       "7          55.0         59.0  \n",
       "8           NaN         61.0  \n",
       "9          56.0         60.0  \n",
       "10         46.0         54.0  "
      ]
     },
     "execution_count": 56,
     "metadata": {},
     "output_type": "execute_result"
    }
   ],
   "source": [
    "spb_genre = (spb_mon_morn\n",
    "                    .merge(spb_mon_even, on='genre_name', how='outer')\n",
    "                    .merge(spb_wed_morn, on='genre_name', how='outer')\n",
    "                    .merge(spb_wed_even, on='genre_name', how='outer')\n",
    "                    .merge(spb_fri_morn, on='genre_name', how='outer')\n",
    "                    .merge(spb_fri_even, on='genre_name', how='outer')\n",
    "               )\n",
    "spb_genre.columns=['genre_name', 'monday_morn', 'monday_even', 'wednesday_morn',\n",
    "                   'wednesday_even', 'friday_morn', 'friday_even']\n",
    "spb_genre"
   ]
  },
  {
   "cell_type": "markdown",
   "metadata": {},
   "source": [
    "Отобразим полученную информацию на графиках."
   ]
  },
  {
   "cell_type": "code",
   "execution_count": 57,
   "metadata": {},
   "outputs": [],
   "source": [
    "# Создадим функцию построения графика\n",
    "def top_genre(df, city):\n",
    "    # параметры разметки для категорий (жанров)\n",
    "    cat_par = df['genre_name']\n",
    "    width = 0.15\n",
    "    x = np.arange(len(cat_par))\n",
    "    # построение графика\n",
    "    fig, ax = plt.subplots(figsize=(15,6))\n",
    "    rects1 = ax.bar(x - width*5/2, pd.Series(df['monday_morn']), width, label='Утро пн.')\n",
    "    rects2 = ax.bar(x - width*3/2, pd.Series(df['monday_even']), width, label='Вечер пн.')\n",
    "    rects3 = ax.bar(x - width/2, pd.Series(df['wednesday_morn']), width, label='Утро ср.')\n",
    "    rects3 = ax.bar(x + width/2, pd.Series(df['wednesday_even']), width, label='Вечер ср.')\n",
    "    rects4 = ax.bar(x + width*3/2, pd.Series(df['friday_morn']), width, label='Утро пт.')\n",
    "    rects5 = ax.bar(x + width*5/2, pd.Series(df['friday_even']), width, label='Вечер пт.')\n",
    "    ax.set(title='ТОП жанров по количеству прослушиваний треков в г.'+city+' по дням недели и суток', \n",
    "           xlabel='жанр', ylabel='число треков')\n",
    "    ax.set_xticks(x)\n",
    "    ax.set_xticklabels(cat_par)\n",
    "    ax.legend(bbox_to_anchor=(1.12, 1));"
   ]
  },
  {
   "cell_type": "code",
   "execution_count": 58,
   "metadata": {},
   "outputs": [
    {
     "data": {
      "image/png": "[encoded data removed]",
      "text/plain": [
       "<Figure size 1080x432 with 1 Axes>"
      ]
     },
     "metadata": {
      "needs_background": "light"
     },
     "output_type": "display_data"
    }
   ],
   "source": [
    "top_genre(moscow_genre, 'Москва')"
   ]
  },
  {
   "cell_type": "code",
   "execution_count": 59,
   "metadata": {},
   "outputs": [
    {
     "data": {
      "image/png": "[encoded data removed]",
      "text/plain": [
       "<Figure size 1080x432 with 1 Axes>"
      ]
     },
     "metadata": {
      "needs_background": "light"
     },
     "output_type": "display_data"
    }
   ],
   "source": [
    "top_genre(spb_genre, 'Санкт-Петербург')"
   ]
  },
  {
   "cell_type": "markdown",
   "metadata": {},
   "source": [
    "Популярные жанры в понедельник утром в Питере и Москве оказались похожи: везде, как и предполагалось, популярен поп, чуть менее привлекательна танцевальная музыка в стиле dance, затем почти наравне идут rock и electronic. Несмотря на это, концовка топ-10 для двух городов различается: в Питере в топ-10 входит джаз и русский рэп, а в Москве жанр world.\n",
    "\n",
    "Предпочтения в вечер понедельника по жанрам не сильно отличаются от предпочтений на утро понедельника в обоих городах.\n",
    "\n",
    "В среду утром и вечером в обоих городах популярны всё те же жанры. Только в Санкт-Петербурге по средам достаточно активно слушают музыку в стиле world (входит в топ-10), и перестают так активно слушать джазовую музыку. В Москве топ-10 сохраняет жанры понедельника.\n",
    "\n",
    "В конце недели ситуация не меняется. Поп-музыка всё так же на первом месте. Опять разница заметна только в концовке топ-10, где в Питере пятничным вечером тоже присутствует жанр world, но отсутствует русская поп-музыка.\n",
    "\n",
    "Таким образом, среди жанров поп является безусловным лидером вне зависимости от дня недели и времени суток, а топ-5, в целом, не различается в обеих столицах. При этом видно, что концовка списка более «живая»: для каждого города выделяются более характерные единичные жанры, которые действительно меняют свои позиции в зависимости от дня недели и времени."
   ]
  },
  {
   "cell_type": "markdown",
   "metadata": {},
   "source": [
    "### Различия предпочтительных направлений музыки в разных городах  <a id='step_2.3'></a>"
   ]
  },
  {
   "cell_type": "markdown",
   "metadata": {},
   "source": [
    "Построим следующее предположение: Санкт-Петербург богат своей рэп-культурой, поэтому это направление там слушают чаще, а Москва — город контрастов, но основная масса пользователей слушает попсу.\n",
    "\n",
    "Проверим, насколько оно соответствует истине."
   ]
  },
  {
   "cell_type": "code",
   "execution_count": 60,
   "metadata": {},
   "outputs": [
    {
     "data": {
      "text/html": [
       "<div>\n",
       "<style scoped>\n",
       "    .dataframe tbody tr th:only-of-type {\n",
       "        vertical-align: middle;\n",
       "    }\n",
       "\n",
       "    .dataframe tbody tr th {\n",
       "        vertical-align: top;\n",
       "    }\n",
       "\n",
       "    .dataframe thead th {\n",
       "        text-align: right;\n",
       "    }\n",
       "</style>\n",
       "<table border=\"1\" class=\"dataframe\">\n",
       "  <thead>\n",
       "    <tr style=\"text-align: right;\">\n",
       "      <th></th>\n",
       "      <th>genre_name</th>\n",
       "      <th>tracks_cnt</th>\n",
       "    </tr>\n",
       "  </thead>\n",
       "  <tbody>\n",
       "    <tr>\n",
       "      <th>0</th>\n",
       "      <td>pop</td>\n",
       "      <td>5892</td>\n",
       "    </tr>\n",
       "    <tr>\n",
       "      <th>1</th>\n",
       "      <td>dance</td>\n",
       "      <td>4435</td>\n",
       "    </tr>\n",
       "    <tr>\n",
       "      <th>2</th>\n",
       "      <td>rock</td>\n",
       "      <td>3965</td>\n",
       "    </tr>\n",
       "    <tr>\n",
       "      <th>3</th>\n",
       "      <td>electronic</td>\n",
       "      <td>3786</td>\n",
       "    </tr>\n",
       "    <tr>\n",
       "      <th>4</th>\n",
       "      <td>hiphop</td>\n",
       "      <td>2096</td>\n",
       "    </tr>\n",
       "    <tr>\n",
       "      <th>5</th>\n",
       "      <td>classical</td>\n",
       "      <td>1616</td>\n",
       "    </tr>\n",
       "    <tr>\n",
       "      <th>6</th>\n",
       "      <td>world</td>\n",
       "      <td>1432</td>\n",
       "    </tr>\n",
       "    <tr>\n",
       "      <th>7</th>\n",
       "      <td>alternative</td>\n",
       "      <td>1379</td>\n",
       "    </tr>\n",
       "    <tr>\n",
       "      <th>8</th>\n",
       "      <td>ruspop</td>\n",
       "      <td>1372</td>\n",
       "    </tr>\n",
       "    <tr>\n",
       "      <th>9</th>\n",
       "      <td>rusrap</td>\n",
       "      <td>1161</td>\n",
       "    </tr>\n",
       "  </tbody>\n",
       "</table>\n",
       "</div>"
      ],
      "text/plain": [
       "    genre_name  tracks_cnt\n",
       "0          pop        5892\n",
       "1        dance        4435\n",
       "2         rock        3965\n",
       "3   electronic        3786\n",
       "4       hiphop        2096\n",
       "5    classical        1616\n",
       "6        world        1432\n",
       "7  alternative        1379\n",
       "8       ruspop        1372\n",
       "9       rusrap        1161"
      ]
     },
     "execution_count": 60,
     "metadata": {},
     "output_type": "execute_result"
    }
   ],
   "source": [
    "# Сгруппируем таблицу moscow_music по жанрам и посчитаем число прослушанных композиций в каждом жанре\n",
    "moscow_top_genre = pd.Series(moscow_music\n",
    "                                 .groupby('genre_name')['genre_name']\n",
    "                                 .count()\n",
    "                                 .sort_values(ascending = False),\n",
    "                             name='tracks_cnt').reset_index()\n",
    "# Отобразим топ-10\n",
    "moscow_top_genre.head(10)"
   ]
  },
  {
   "cell_type": "code",
   "execution_count": 61,
   "metadata": {},
   "outputs": [
    {
     "data": {
      "text/html": [
       "<div>\n",
       "<style scoped>\n",
       "    .dataframe tbody tr th:only-of-type {\n",
       "        vertical-align: middle;\n",
       "    }\n",
       "\n",
       "    .dataframe tbody tr th {\n",
       "        vertical-align: top;\n",
       "    }\n",
       "\n",
       "    .dataframe thead th {\n",
       "        text-align: right;\n",
       "    }\n",
       "</style>\n",
       "<table border=\"1\" class=\"dataframe\">\n",
       "  <thead>\n",
       "    <tr style=\"text-align: right;\">\n",
       "      <th></th>\n",
       "      <th>genre_name</th>\n",
       "      <th>tracks_cnt</th>\n",
       "    </tr>\n",
       "  </thead>\n",
       "  <tbody>\n",
       "    <tr>\n",
       "      <th>0</th>\n",
       "      <td>pop</td>\n",
       "      <td>2431</td>\n",
       "    </tr>\n",
       "    <tr>\n",
       "      <th>1</th>\n",
       "      <td>dance</td>\n",
       "      <td>1932</td>\n",
       "    </tr>\n",
       "    <tr>\n",
       "      <th>2</th>\n",
       "      <td>rock</td>\n",
       "      <td>1879</td>\n",
       "    </tr>\n",
       "    <tr>\n",
       "      <th>3</th>\n",
       "      <td>electronic</td>\n",
       "      <td>1737</td>\n",
       "    </tr>\n",
       "    <tr>\n",
       "      <th>4</th>\n",
       "      <td>hiphop</td>\n",
       "      <td>960</td>\n",
       "    </tr>\n",
       "    <tr>\n",
       "      <th>5</th>\n",
       "      <td>alternative</td>\n",
       "      <td>649</td>\n",
       "    </tr>\n",
       "    <tr>\n",
       "      <th>6</th>\n",
       "      <td>classical</td>\n",
       "      <td>646</td>\n",
       "    </tr>\n",
       "    <tr>\n",
       "      <th>7</th>\n",
       "      <td>rusrap</td>\n",
       "      <td>564</td>\n",
       "    </tr>\n",
       "    <tr>\n",
       "      <th>8</th>\n",
       "      <td>ruspop</td>\n",
       "      <td>539</td>\n",
       "    </tr>\n",
       "    <tr>\n",
       "      <th>9</th>\n",
       "      <td>world</td>\n",
       "      <td>515</td>\n",
       "    </tr>\n",
       "  </tbody>\n",
       "</table>\n",
       "</div>"
      ],
      "text/plain": [
       "    genre_name  tracks_cnt\n",
       "0          pop        2431\n",
       "1        dance        1932\n",
       "2         rock        1879\n",
       "3   electronic        1737\n",
       "4       hiphop         960\n",
       "5  alternative         649\n",
       "6    classical         646\n",
       "7       rusrap         564\n",
       "8       ruspop         539\n",
       "9        world         515"
      ]
     },
     "execution_count": 61,
     "metadata": {},
     "output_type": "execute_result"
    }
   ],
   "source": [
    "# Сгруппируем таблицу spb_music по жанрам и посчитаем число прослушанных композиций в каждом жанре\n",
    "spb_top_genre = pd.Series(spb_music\n",
    "                                 .groupby('genre_name')['genre_name']\n",
    "                                 .count()\n",
    "                                 .sort_values(ascending = False),\n",
    "                          name='tracks_cnt').reset_index()\n",
    "# Отобразим топ-10\n",
    "spb_top_genre.head(10)"
   ]
  },
  {
   "cell_type": "markdown",
   "metadata": {},
   "source": [
    "В обоих городах, кроме абсолютно популярного жанра поп, есть направление русской популярной музыки. Значит, что интерес к этому жанру широк и в Москве, и в Санкт-Петербурге. Рэп занимает в обоих городах близкие позиции, но в Санкт-Петербурге он немного популярнее, чем в Москве."
   ]
  },
  {
   "cell_type": "markdown",
   "metadata": {},
   "source": [
    "### Вывод  <a id='step_2.4'></a>"
   ]
  },
  {
   "cell_type": "markdown",
   "metadata": {},
   "source": [
    "В целом, в понедельник и пятницу наблюдается больше прослушиваний музыки, чем в среду. Возможно, это связано с тем, что по средам пользователи немного больше вовлечены в работу. С другой стороны, в Москве намного больше прослушиваний, чем в Санкт-Петербурге, а это значит, что тенденция в одном городе может оказывать сильное влияние на тенденцию общей выборки. \n",
    "\n",
    "Действительно, по городам наблюдается следующее различие: в Москве пики приходятся на понедельник и пятницу (с небольшим преобладанием в пятницу), а в среду время прослушивания снижается; в то время как в Санкт-Петербурге среда — день самого большого интереса к музыке, а в понедельник и пятницу он меньше (с небольшим преобладанием в среду).\n",
    "\n",
    "Анализ различий в жанрах по городам показал следующие тенденции. Популярные жанры в понедельник утром в Питере и Москве оказались похожи: везде популярен поп, чуть менее привлекательна танцевальная музыка в стиле dance, затем почти наравне идут rock и electronic. Несмотря на это, концовка топ-10 для двух городов различается: в Питере в топ-10 входит джаз и русский рэп, а в Москве жанр world. Предпочтения в вечер понедельника по жанрам не сильно отличаются от предпочтений на утро понедельника в обоих городах. В среду утром и вечером в обоих городах популярны всё те же жанры. Только в Санкт-Петербурге по средам достаточно активно слушают музыку в стиле world (входит в топ-10), и перестают так активно слушать джазовую музыку. В Москве топ-10 сохраняет жанры понедельника. В конце недели ситуация не меняется. Поп-музыка всё так же на первом месте. Разница заметна только в концовке топ-10, где в Питере пятничным вечером тоже присутствует жанр world, но отсутствует русская поп-музыка. \n",
    "\n",
    "Таким образом, среди жанров поп является безусловным лидером вне зависимости от дня недели и времени суток, а топ-5, в целом, не различается в обеих столицах. При этом видно, что концовка списка более «живая»: для каждого города выделяются более характерные единичные жанры, которые действительно меняют свои позиции в зависимости от дня недели и времени.\n",
    "\n",
    "В обоих городах, кроме абсолютно популярного жанра поп, есть направление русской популярной музыки. Значит, что интерес к этому жанру широк и в Москве, и в Санкт-Петербурге. Рэп занимает в обоих городах близкие позиции, но в Санкт-Петербурге он немного популярнее, чем в Москве."
   ]
  },
  {
   "cell_type": "markdown",
   "metadata": {},
   "source": [
    "## Общий вывод <a id='step_3'></a>"
   ]
  },
  {
   "cell_type": "markdown",
   "metadata": {},
   "source": [
    "Данное исследование включает в себя **анализ информации о прослушивании музыки пользователями**. При этом каждое из зафиксированных в данных прослушиваний характеризуется семью признаками: идентификатором пользователя, названием трека, именем исполнителя трека, названием жанра трека, городом, временем и днём недели, в которые пользователь слушал трек.\n",
    "\n",
    "**В данных встречается** 60 126 прослушиваний музыки, в которых 41 315 уникальных пользователей. Из этих пользователей 29 043 человека прослушивали музыку в Москве, а 12 305 - в Санкт-Петербурге. Поскольку число уникальных пользователей в выборке меньше суммарного значения пользователей из Москвы и Санкт-Петербурга выше, это говорит о том, что некоторые пользователи слушали музыку и в Москве, и в Санкт-Петербурге. В данных встречается 46 910 уникальных композиций по названию трека и 43 344 уникальных исполнителя. Отметим, что 104 пользователя слушали более 10 треков с разными названиями, а 98 пользователей слушали более 10 треков с разными исполнителями. При этом некоторые из них слушали до 42 треков с разными названиями и до 38 треков с разными исполнителями. Также у нас имеется около 31 800 пользователей, которые включали либо только один трек, либо треки, имеющие одинаковые названия, либо треки, принадлежащие одному исполнителю. Кроме того, данные содержат композиции, принадлежащие к 280 разным жанрам.\n",
    "\n",
    "Вся **информация представлена** за Понедельники, Среды и Пятницы и временной период с 08:00:00 до 22:00:59.\n",
    "\n",
    "В исследовании были выдвинуты **рабочие гипотезы**:\n",
    "* музыку в двух городах — Москве и Санкт-Петербурге — слушают в разном режиме;\n",
    "* списки десяти самых популярных жанров в разное время недели и суток имеют характерные отличия;\n",
    "* население двух городов предпочитает разные музыкальные жанры.\n",
    "\n",
    "На основании анализа, были сделаны **следующие выводы**. Москва и Санкт-Петербург сходятся во вкусах: везде преобладает популярная музыка. При этом зависимости предпочтений от дня недели в каждом отдельном городе нет — люди постоянно слушают то, что им нравится. Также и нет существенных отличий в предпочтениях по жанрам между городами (топ-5 одинаков и включает в себя популярную музыку, танцевальную, электронную, рок музыку и хип-хоп. При этом по количеству прослушиваний треков в разные дни недели между городами наблюдается зеркальность относительно среды: Москва больше слушает в понедельник и пятницу, а Петербург наоборот - больше в среду, но меньше в понедельник и пятницу.\n",
    "\n",
    "В результате **первая гипотеза подтверждена, вторая гипотеза не подтверждена и третья - не подтверждена**."
   ]
  },
  {
   "cell_type": "markdown",
   "metadata": {},
   "source": [
    "## Рекомендации <a id='step_4'></a>"
   ]
  },
  {
   "cell_type": "markdown",
   "metadata": {},
   "source": [
    "На основе приведённого исследования выдвинуты **следующие рекомендации** по удержанию интереса и привлечению новых пользователей в портал Яндекс.Музыка для Москвы и Санкт-Петербурга.\n",
    "\n",
    "**1.** Предлагать пробный бесплатный период прослушивания для пользователей из Санкт-Петербурга по понедельникам и пятницам с целью привлечения большего количества клиентов.\n",
    "\n",
    "**2.** Предлагать пробный бесплатный период прослушивания для пользователей из Санкт-Петербурга по средам с целью привлечения большего количества клиентов.\n",
    "\n",
    "**3.** Предлагать клиентам в обоих городах в рекомендуемом музыку стиля поп, дэнс, электронную, рок и хип-хоп - вне зависимости от дня недели и суток.\n",
    "\n",
    "**4.** Создать сервис или приложение, считывающее предпочтения пользователя Яндекс.Музыка, \"угадывающее\" настроение пользователя на основе данных его аккаунта, и воспроизводящий музыку под его настроение. Первоначально при недостаточно данных могут быть воспроизведены популярные треки из топ-5 жанров (указаны в п.3)."
   ]
  }
 ],
 "metadata": {
  "kernelspec": {
   "display_name": "Python 3",
   "language": "python",
   "name": "python3"
  },
  "language_info": {
   "codemirror_mode": {
    "name": "ipython",
    "version": 3
   },
   "file_extension": ".py",
   "mimetype": "text/x-python",
   "name": "python",
   "nbconvert_exporter": "python",
   "pygments_lexer": "ipython3",
   "version": "3.8.3"
  }
 },
 "nbformat": 4,
 "nbformat_minor": 4
}
