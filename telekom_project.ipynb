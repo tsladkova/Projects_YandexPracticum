{
 "cells": [
  {
   "cell_type": "markdown",
   "metadata": {},
   "source": [
    "# Определение перспективного тарифа для телеком компании"
   ]
  },
  {
   "cell_type": "markdown",
   "metadata": {},
   "source": [
    "## Введение"
   ]
  },
  {
   "cell_type": "markdown",
   "metadata": {},
   "source": [
    "**Целью данного исследования** является определение тарифа в телеком компании, приносящего ей больше денег - для последующей корректировки рекламного бюджета. **Исследование построено** на данных 500 пользователей \"Мегалайна\" (федерального оператора сотовой связи) за 2018 год.\n",
    "\n",
    "**Иследование состоит из следующих этапов**: \n",
    "1. [Обзор данных и их предобработка](#step_1):\n",
    "    * [Импорт библиотек и выделение констант](#step_1.1);\n",
    "    * [Общая информация о данных](#step_1.2);\n",
    "    * [Замена типа данных](#step_1.3)\n",
    "    * [Определение и исправление ошибок в данных](#step_1.4);\n",
    "    * [Подготовка пользовательских данных](#step_1.5);\n",
    "    * [Вывод](#step_1.6).\n",
    "2. [Исследовательский и статистический анализ данных](#step_2):\n",
    "    * [Описание поведения клиентов](#step_2.1);\n",
    "    * [Расчёт статистических показателей модели](#step_2.2);\n",
    "    * [Построение и анализ гистограмм](#step_2.3);\n",
    "    * [Проверка статистических гипотез](#step_2.4);\n",
    "    * [Вывод](#step_2.5).\n",
    "3. [Общий вывод](#step_3);\n",
    "4. [Рекомендации](#step_4).\n",
    "\n",
    "В работе проведён анализ поведения клиентов. **Результатом исследования** являются рекомендации по корректировке рекламного бюджета телеком компании \"Мегалайн\"."
   ]
  },
  {
   "cell_type": "markdown",
   "metadata": {},
   "source": [
    "## Этап 1. Обзор данных и их предобработка <a id='step_1'></a>"
   ]
  },
  {
   "cell_type": "markdown",
   "metadata": {},
   "source": [
    "### Импорт библиотек и выделение констант <a id='step_1.1'></a>"
   ]
  },
  {
   "cell_type": "markdown",
   "metadata": {},
   "source": [
    "#### Импорт библиотек"
   ]
  },
  {
   "cell_type": "code",
   "execution_count": 1,
   "metadata": {},
   "outputs": [],
   "source": [
    "import pandas as pd\n",
    "import numpy as np\n",
    "from IPython import display\n",
    "\n",
    "import matplotlib.pyplot as plt\n",
    "import seaborn as sns\n",
    "\n",
    "import math as mt\n",
    "from scipy import stats as st"
   ]
  },
  {
   "cell_type": "markdown",
   "metadata": {},
   "source": [
    "#### Константы"
   ]
  },
  {
   "cell_type": "markdown",
   "metadata": {},
   "source": [
    "В качестве констант в исследовании введём следующие параметры:"
   ]
  },
  {
   "cell_type": "code",
   "execution_count": 2,
   "metadata": {},
   "outputs": [],
   "source": [
    "# Содержание Мегабайтов в 1 Гигабайте\n",
    "GB_TO_MB = 1024"
   ]
  },
  {
   "cell_type": "markdown",
   "metadata": {},
   "source": [
    "### Общая информация о данных <a id='step_1.2'></a>"
   ]
  },
  {
   "cell_type": "markdown",
   "metadata": {},
   "source": [
    "#### Информация о тарифах"
   ]
  },
  {
   "cell_type": "code",
   "execution_count": 3,
   "metadata": {},
   "outputs": [
    {
     "data": {
      "text/html": [
       "<div>\n",
       "<style scoped>\n",
       "    .dataframe tbody tr th:only-of-type {\n",
       "        vertical-align: middle;\n",
       "    }\n",
       "\n",
       "    .dataframe tbody tr th {\n",
       "        vertical-align: top;\n",
       "    }\n",
       "\n",
       "    .dataframe thead th {\n",
       "        text-align: right;\n",
       "    }\n",
       "</style>\n",
       "<table border=\"1\" class=\"dataframe\">\n",
       "  <thead>\n",
       "    <tr style=\"text-align: right;\">\n",
       "      <th></th>\n",
       "      <th>messages_included</th>\n",
       "      <th>mb_per_month_included</th>\n",
       "      <th>minutes_included</th>\n",
       "      <th>rub_monthly_fee</th>\n",
       "      <th>rub_per_gb</th>\n",
       "      <th>rub_per_message</th>\n",
       "      <th>rub_per_minute</th>\n",
       "      <th>tariff_name</th>\n",
       "    </tr>\n",
       "  </thead>\n",
       "  <tbody>\n",
       "    <tr>\n",
       "      <th>0</th>\n",
       "      <td>50</td>\n",
       "      <td>15360</td>\n",
       "      <td>500</td>\n",
       "      <td>550</td>\n",
       "      <td>200</td>\n",
       "      <td>3</td>\n",
       "      <td>3</td>\n",
       "      <td>smart</td>\n",
       "    </tr>\n",
       "    <tr>\n",
       "      <th>1</th>\n",
       "      <td>1000</td>\n",
       "      <td>30720</td>\n",
       "      <td>3000</td>\n",
       "      <td>1950</td>\n",
       "      <td>150</td>\n",
       "      <td>1</td>\n",
       "      <td>1</td>\n",
       "      <td>ultra</td>\n",
       "    </tr>\n",
       "  </tbody>\n",
       "</table>\n",
       "</div>"
      ],
      "text/plain": [
       "   messages_included  mb_per_month_included  minutes_included  \\\n",
       "0                 50                  15360               500   \n",
       "1               1000                  30720              3000   \n",
       "\n",
       "   rub_monthly_fee  rub_per_gb  rub_per_message  rub_per_minute tariff_name  \n",
       "0              550         200                3               3       smart  \n",
       "1             1950         150                1               1       ultra  "
      ]
     },
     "execution_count": 3,
     "metadata": {},
     "output_type": "execute_result"
    }
   ],
   "source": [
    "# Прочитаем файл tariffs.csv с информацией о тарифах и сохраним его в переменной tariffs\n",
    "tariffs = pd.read_csv('C:/Users/Public/Jupyter/tariffs.csv')\n",
    "tariffs.head()"
   ]
  },
  {
   "cell_type": "code",
   "execution_count": 4,
   "metadata": {
    "scrolled": true
   },
   "outputs": [
    {
     "name": "stdout",
     "output_type": "stream",
     "text": [
      "<class 'pandas.core.frame.DataFrame'>\n",
      "RangeIndex: 2 entries, 0 to 1\n",
      "Data columns (total 8 columns):\n",
      " #   Column                 Non-Null Count  Dtype \n",
      "---  ------                 --------------  ----- \n",
      " 0   messages_included      2 non-null      int64 \n",
      " 1   mb_per_month_included  2 non-null      int64 \n",
      " 2   minutes_included       2 non-null      int64 \n",
      " 3   rub_monthly_fee        2 non-null      int64 \n",
      " 4   rub_per_gb             2 non-null      int64 \n",
      " 5   rub_per_message        2 non-null      int64 \n",
      " 6   rub_per_minute         2 non-null      int64 \n",
      " 7   tariff_name            2 non-null      object\n",
      "dtypes: int64(7), object(1)\n",
      "memory usage: 256.0+ bytes\n"
     ]
    }
   ],
   "source": [
    "# изучим общую информацию о датафрейме tariffs\n",
    "tariffs.info()"
   ]
  },
  {
   "cell_type": "markdown",
   "metadata": {},
   "source": [
    "Всего в таблице 8 столбцов, тип данных у 1 столбца - < object >, у 7 столбцов - целочисленный.\n",
    "\n",
    "Подробно разберём, какие в tariffs столбцы, и какую информацию они содержат:\n",
    "- `messages_included` — количество сообщений в месяц, включённых в абонентскую плату\n",
    "- `mb_per_month_included` — объём интернет-трафика, включённого в абонентскую плату (в мегабайтах)\n",
    "- `minutes_included` — количество минут разговора в месяц, включённых в абонентскую плату\n",
    "- `rub_monthly_fee` — ежемесячная абонентская плата в рублях\n",
    "- `rub_per_gb` — стоимость дополнительного гигабайта интернет-трафика сверх тарифного пакета\n",
    "- `rub_per_message` — стоимость отправки сообщения сверх тарифного пакета\n",
    "- `rub_per_minute` — стоимость минуты разговора сверх тарифного пакета\n",
    "- `tariff_name` — название тарифа\n",
    "\n",
    "Количество значений в столбцах одинаково. Это говорит о том, что в данных нет пропущенных значений. Замена типа данных также не требуется."
   ]
  },
  {
   "cell_type": "markdown",
   "metadata": {},
   "source": [
    "Так, по данным таблицы, мы имеем следующее **описание тарифов \"Смарт\" и \"Ультра\"** <a id='tariffs_info'></a>, между которыми выбирает компания.\n",
    "\n",
    "*Тариф \"Смарт\"*:\n",
    "1.\tЕжемесячная плата: 550 рублей\n",
    "2.\tВключено 500 минут разговора, 50 сообщений и 15 Гб интернет-трафика\n",
    "3.\tСтоимость услуг сверх тарифного пакета:\n",
    "    - минута разговора: 3 рубля\n",
    "    - сообщение: 3 рубля\n",
    "    - 1 Гб интернет-трафика: 200 рублей\n",
    "    \n",
    "*Тариф «Ультра»*:\n",
    "1.\tЕжемесячная плата: 1950 рублей\n",
    "2.\tВключено 3000 минут разговора, 1000 сообщений и 30 Гб интернет-трафика\n",
    "3.\tСтоимость услуг сверх тарифного пакета:\n",
    "    - минута разговора: 1 рубль\n",
    "    - сообщение: 1 рубль\n",
    "    - 1 Гб интернет-трафика: 150 рублей"
   ]
  },
  {
   "cell_type": "markdown",
   "metadata": {},
   "source": [
    "#### Информация о пользователях"
   ]
  },
  {
   "cell_type": "code",
   "execution_count": 5,
   "metadata": {},
   "outputs": [
    {
     "data": {
      "text/html": [
       "<div>\n",
       "<style scoped>\n",
       "    .dataframe tbody tr th:only-of-type {\n",
       "        vertical-align: middle;\n",
       "    }\n",
       "\n",
       "    .dataframe tbody tr th {\n",
       "        vertical-align: top;\n",
       "    }\n",
       "\n",
       "    .dataframe thead th {\n",
       "        text-align: right;\n",
       "    }\n",
       "</style>\n",
       "<table border=\"1\" class=\"dataframe\">\n",
       "  <thead>\n",
       "    <tr style=\"text-align: right;\">\n",
       "      <th></th>\n",
       "      <th>user_id</th>\n",
       "      <th>age</th>\n",
       "      <th>churn_date</th>\n",
       "      <th>city</th>\n",
       "      <th>first_name</th>\n",
       "      <th>last_name</th>\n",
       "      <th>reg_date</th>\n",
       "      <th>tariff</th>\n",
       "    </tr>\n",
       "  </thead>\n",
       "  <tbody>\n",
       "    <tr>\n",
       "      <th>0</th>\n",
       "      <td>1000</td>\n",
       "      <td>52</td>\n",
       "      <td>NaN</td>\n",
       "      <td>Краснодар</td>\n",
       "      <td>Рафаил</td>\n",
       "      <td>Верещагин</td>\n",
       "      <td>2018-05-25</td>\n",
       "      <td>ultra</td>\n",
       "    </tr>\n",
       "    <tr>\n",
       "      <th>1</th>\n",
       "      <td>1001</td>\n",
       "      <td>41</td>\n",
       "      <td>NaN</td>\n",
       "      <td>Москва</td>\n",
       "      <td>Иван</td>\n",
       "      <td>Ежов</td>\n",
       "      <td>2018-11-01</td>\n",
       "      <td>smart</td>\n",
       "    </tr>\n",
       "    <tr>\n",
       "      <th>2</th>\n",
       "      <td>1002</td>\n",
       "      <td>59</td>\n",
       "      <td>NaN</td>\n",
       "      <td>Стерлитамак</td>\n",
       "      <td>Евгений</td>\n",
       "      <td>Абрамович</td>\n",
       "      <td>2018-06-17</td>\n",
       "      <td>smart</td>\n",
       "    </tr>\n",
       "    <tr>\n",
       "      <th>3</th>\n",
       "      <td>1003</td>\n",
       "      <td>23</td>\n",
       "      <td>NaN</td>\n",
       "      <td>Москва</td>\n",
       "      <td>Белла</td>\n",
       "      <td>Белякова</td>\n",
       "      <td>2018-08-17</td>\n",
       "      <td>ultra</td>\n",
       "    </tr>\n",
       "    <tr>\n",
       "      <th>4</th>\n",
       "      <td>1004</td>\n",
       "      <td>68</td>\n",
       "      <td>NaN</td>\n",
       "      <td>Новокузнецк</td>\n",
       "      <td>Татьяна</td>\n",
       "      <td>Авдеенко</td>\n",
       "      <td>2018-05-14</td>\n",
       "      <td>ultra</td>\n",
       "    </tr>\n",
       "  </tbody>\n",
       "</table>\n",
       "</div>"
      ],
      "text/plain": [
       "   user_id  age churn_date         city first_name  last_name    reg_date  \\\n",
       "0     1000   52        NaN    Краснодар     Рафаил  Верещагин  2018-05-25   \n",
       "1     1001   41        NaN       Москва       Иван       Ежов  2018-11-01   \n",
       "2     1002   59        NaN  Стерлитамак    Евгений  Абрамович  2018-06-17   \n",
       "3     1003   23        NaN       Москва      Белла   Белякова  2018-08-17   \n",
       "4     1004   68        NaN  Новокузнецк    Татьяна   Авдеенко  2018-05-14   \n",
       "\n",
       "  tariff  \n",
       "0  ultra  \n",
       "1  smart  \n",
       "2  smart  \n",
       "3  ultra  \n",
       "4  ultra  "
      ]
     },
     "execution_count": 5,
     "metadata": {},
     "output_type": "execute_result"
    }
   ],
   "source": [
    "# Прочитаем файл users.csv с информацией о пользователях и сохраним его в переменной users\n",
    "users = pd.read_csv('C:/Users/Public/Jupyter/users.csv')\n",
    "users.head()"
   ]
  },
  {
   "cell_type": "code",
   "execution_count": 6,
   "metadata": {
    "scrolled": true
   },
   "outputs": [
    {
     "name": "stdout",
     "output_type": "stream",
     "text": [
      "<class 'pandas.core.frame.DataFrame'>\n",
      "RangeIndex: 500 entries, 0 to 499\n",
      "Data columns (total 8 columns):\n",
      " #   Column      Non-Null Count  Dtype \n",
      "---  ------      --------------  ----- \n",
      " 0   user_id     500 non-null    int64 \n",
      " 1   age         500 non-null    int64 \n",
      " 2   churn_date  38 non-null     object\n",
      " 3   city        500 non-null    object\n",
      " 4   first_name  500 non-null    object\n",
      " 5   last_name   500 non-null    object\n",
      " 6   reg_date    500 non-null    object\n",
      " 7   tariff      500 non-null    object\n",
      "dtypes: int64(2), object(6)\n",
      "memory usage: 31.4+ KB\n"
     ]
    }
   ],
   "source": [
    "# изучим общую информацию о датафрейме users\n",
    "users.info()"
   ]
  },
  {
   "cell_type": "markdown",
   "metadata": {},
   "source": [
    "Всего в таблице 8 столбцов, тип данных у 6 столбцов - < object >, а у 2 столбцов - целочисленный.\n",
    "\n",
    "Подробно разберём, какие в users столбцы, и какую информацию они содержат:\n",
    "- `user_id` — уникальный идентификатор пользователя\n",
    "- `age` — возраст пользователя (годы)\n",
    "- `churn_date` — дата прекращения пользования тарифом\n",
    "- `city` — город проживания пользователя\n",
    "- `first_name` — имя пользователя\n",
    "- `last_name` — фамилия пользователя\n",
    "- `reg_date` — дата подключения тарифа (день, месяц, год)\n",
    "- `tariff` — название тарифного плана\n",
    "\n",
    "Количество значений в столбцах различается. Это говорит о том, что в данных есть пропущенные значения: в столбце `churn_date`. Однако нам известно, что если значение в данном столбце пропущено, то тариф ещё действовал на момент выгрузки данных. Соответственно, таблица не нуждается в заполнении пропусков.\n",
    "\n",
    "Требуется изменение типа данных в столбцах с датой (`churn_date` и `reg_date`) с < object > на < datetime >."
   ]
  },
  {
   "cell_type": "markdown",
   "metadata": {},
   "source": [
    "#### Информация о звонках"
   ]
  },
  {
   "cell_type": "code",
   "execution_count": 7,
   "metadata": {},
   "outputs": [
    {
     "data": {
      "text/html": [
       "<div>\n",
       "<style scoped>\n",
       "    .dataframe tbody tr th:only-of-type {\n",
       "        vertical-align: middle;\n",
       "    }\n",
       "\n",
       "    .dataframe tbody tr th {\n",
       "        vertical-align: top;\n",
       "    }\n",
       "\n",
       "    .dataframe thead th {\n",
       "        text-align: right;\n",
       "    }\n",
       "</style>\n",
       "<table border=\"1\" class=\"dataframe\">\n",
       "  <thead>\n",
       "    <tr style=\"text-align: right;\">\n",
       "      <th></th>\n",
       "      <th>id</th>\n",
       "      <th>call_date</th>\n",
       "      <th>duration</th>\n",
       "      <th>user_id</th>\n",
       "    </tr>\n",
       "  </thead>\n",
       "  <tbody>\n",
       "    <tr>\n",
       "      <th>0</th>\n",
       "      <td>1000_0</td>\n",
       "      <td>2018-07-25</td>\n",
       "      <td>0.00</td>\n",
       "      <td>1000</td>\n",
       "    </tr>\n",
       "    <tr>\n",
       "      <th>1</th>\n",
       "      <td>1000_1</td>\n",
       "      <td>2018-08-17</td>\n",
       "      <td>0.00</td>\n",
       "      <td>1000</td>\n",
       "    </tr>\n",
       "    <tr>\n",
       "      <th>2</th>\n",
       "      <td>1000_2</td>\n",
       "      <td>2018-06-11</td>\n",
       "      <td>2.85</td>\n",
       "      <td>1000</td>\n",
       "    </tr>\n",
       "    <tr>\n",
       "      <th>3</th>\n",
       "      <td>1000_3</td>\n",
       "      <td>2018-09-21</td>\n",
       "      <td>13.80</td>\n",
       "      <td>1000</td>\n",
       "    </tr>\n",
       "    <tr>\n",
       "      <th>4</th>\n",
       "      <td>1000_4</td>\n",
       "      <td>2018-12-15</td>\n",
       "      <td>5.18</td>\n",
       "      <td>1000</td>\n",
       "    </tr>\n",
       "  </tbody>\n",
       "</table>\n",
       "</div>"
      ],
      "text/plain": [
       "       id   call_date  duration  user_id\n",
       "0  1000_0  2018-07-25      0.00     1000\n",
       "1  1000_1  2018-08-17      0.00     1000\n",
       "2  1000_2  2018-06-11      2.85     1000\n",
       "3  1000_3  2018-09-21     13.80     1000\n",
       "4  1000_4  2018-12-15      5.18     1000"
      ]
     },
     "execution_count": 7,
     "metadata": {},
     "output_type": "execute_result"
    }
   ],
   "source": [
    "# Прочитаем файл calls.csv с информацией о звонках и сохраним его в переменной calls\n",
    "calls = pd.read_csv('C:/Users/Public/Jupyter/calls.csv')\n",
    "calls.head()"
   ]
  },
  {
   "cell_type": "code",
   "execution_count": 8,
   "metadata": {
    "scrolled": true
   },
   "outputs": [
    {
     "name": "stdout",
     "output_type": "stream",
     "text": [
      "<class 'pandas.core.frame.DataFrame'>\n",
      "RangeIndex: 202607 entries, 0 to 202606\n",
      "Data columns (total 4 columns):\n",
      " #   Column     Non-Null Count   Dtype  \n",
      "---  ------     --------------   -----  \n",
      " 0   id         202607 non-null  object \n",
      " 1   call_date  202607 non-null  object \n",
      " 2   duration   202607 non-null  float64\n",
      " 3   user_id    202607 non-null  int64  \n",
      "dtypes: float64(1), int64(1), object(2)\n",
      "memory usage: 6.2+ MB\n"
     ]
    }
   ],
   "source": [
    "# изучим общую информацию о датафрейме calls\n",
    "calls.info()"
   ]
  },
  {
   "cell_type": "markdown",
   "metadata": {},
   "source": [
    "Всего в таблице 4 столбца, тип данных у 2 столбцов - < object >, у 1 столбца - целочисленный, и у 1 столбца - численный с плавающей точкой.\n",
    "\n",
    "Подробно разберём, какие в calls столбцы, и какую информацию они содержат:\n",
    "- `id` — уникальный номер звонка\n",
    "- `call_date` — дата звонка\n",
    "- `duration` — длительность звонка в минутах\n",
    "- `user_id` — идентификатор пользователя, сделавшего звонок\n",
    "\n",
    "Количество значений в столбцах одинаково. Это говорит о том, что в данных нет пропущенных значений. Однако при работе с датафреймом следует учитывать следующий момент: «Мегалайн» всегда округляет вверх значения минут и мегабайтов. Если пользователь проговорил всего 1 секунду, в тарифе засчитывается целая минута.\n",
    "\n",
    "Соответственно, необходимо округление в столбце `duration` до минут в большую сторону и изменение типа данных до целочисленного. Также требуется изменение типа данных в столбце с датой `call_date`."
   ]
  },
  {
   "cell_type": "markdown",
   "metadata": {},
   "source": [
    "#### Информация о сообщениях"
   ]
  },
  {
   "cell_type": "code",
   "execution_count": 9,
   "metadata": {},
   "outputs": [
    {
     "data": {
      "text/html": [
       "<div>\n",
       "<style scoped>\n",
       "    .dataframe tbody tr th:only-of-type {\n",
       "        vertical-align: middle;\n",
       "    }\n",
       "\n",
       "    .dataframe tbody tr th {\n",
       "        vertical-align: top;\n",
       "    }\n",
       "\n",
       "    .dataframe thead th {\n",
       "        text-align: right;\n",
       "    }\n",
       "</style>\n",
       "<table border=\"1\" class=\"dataframe\">\n",
       "  <thead>\n",
       "    <tr style=\"text-align: right;\">\n",
       "      <th></th>\n",
       "      <th>id</th>\n",
       "      <th>message_date</th>\n",
       "      <th>user_id</th>\n",
       "    </tr>\n",
       "  </thead>\n",
       "  <tbody>\n",
       "    <tr>\n",
       "      <th>0</th>\n",
       "      <td>1000_0</td>\n",
       "      <td>2018-06-27</td>\n",
       "      <td>1000</td>\n",
       "    </tr>\n",
       "    <tr>\n",
       "      <th>1</th>\n",
       "      <td>1000_1</td>\n",
       "      <td>2018-10-08</td>\n",
       "      <td>1000</td>\n",
       "    </tr>\n",
       "    <tr>\n",
       "      <th>2</th>\n",
       "      <td>1000_2</td>\n",
       "      <td>2018-08-04</td>\n",
       "      <td>1000</td>\n",
       "    </tr>\n",
       "    <tr>\n",
       "      <th>3</th>\n",
       "      <td>1000_3</td>\n",
       "      <td>2018-06-16</td>\n",
       "      <td>1000</td>\n",
       "    </tr>\n",
       "    <tr>\n",
       "      <th>4</th>\n",
       "      <td>1000_4</td>\n",
       "      <td>2018-12-05</td>\n",
       "      <td>1000</td>\n",
       "    </tr>\n",
       "  </tbody>\n",
       "</table>\n",
       "</div>"
      ],
      "text/plain": [
       "       id message_date  user_id\n",
       "0  1000_0   2018-06-27     1000\n",
       "1  1000_1   2018-10-08     1000\n",
       "2  1000_2   2018-08-04     1000\n",
       "3  1000_3   2018-06-16     1000\n",
       "4  1000_4   2018-12-05     1000"
      ]
     },
     "execution_count": 9,
     "metadata": {},
     "output_type": "execute_result"
    }
   ],
   "source": [
    "# Прочитаем файл messages.csv с информацией о сообщениях и сохраним его в переменной messages\n",
    "messages = pd.read_csv('C:/Users/Public/Jupyter/messages.csv')\n",
    "messages.head()"
   ]
  },
  {
   "cell_type": "code",
   "execution_count": 10,
   "metadata": {
    "scrolled": true
   },
   "outputs": [
    {
     "name": "stdout",
     "output_type": "stream",
     "text": [
      "<class 'pandas.core.frame.DataFrame'>\n",
      "RangeIndex: 123036 entries, 0 to 123035\n",
      "Data columns (total 3 columns):\n",
      " #   Column        Non-Null Count   Dtype \n",
      "---  ------        --------------   ----- \n",
      " 0   id            123036 non-null  object\n",
      " 1   message_date  123036 non-null  object\n",
      " 2   user_id       123036 non-null  int64 \n",
      "dtypes: int64(1), object(2)\n",
      "memory usage: 2.8+ MB\n"
     ]
    }
   ],
   "source": [
    "# изучим общую информацию о датафрейме messages\n",
    "messages.info()"
   ]
  },
  {
   "cell_type": "markdown",
   "metadata": {},
   "source": [
    "Всего в таблице 3 столбца, тип данных у 2 столбцов - < object >, у 1 столбца - целочисленный.\n",
    "\n",
    "Подробно разберём, какие в messages столбцы, и какую информацию они содержат:\n",
    "- `id` — уникальный номер сообщения\n",
    "- `message_date` — дата сообщения\n",
    "- `user_id` — идентификатор пользователя, отправившего сообщение\n",
    "\n",
    "Количество значений в столбцах одинаково. Это говорит о том, что в данных нет пропущенных значений. Требуется изменение типа данных в столбце с датой `message_date`."
   ]
  },
  {
   "cell_type": "markdown",
   "metadata": {},
   "source": [
    "#### Информация об интернет-сессиях"
   ]
  },
  {
   "cell_type": "code",
   "execution_count": 11,
   "metadata": {},
   "outputs": [
    {
     "data": {
      "text/html": [
       "<div>\n",
       "<style scoped>\n",
       "    .dataframe tbody tr th:only-of-type {\n",
       "        vertical-align: middle;\n",
       "    }\n",
       "\n",
       "    .dataframe tbody tr th {\n",
       "        vertical-align: top;\n",
       "    }\n",
       "\n",
       "    .dataframe thead th {\n",
       "        text-align: right;\n",
       "    }\n",
       "</style>\n",
       "<table border=\"1\" class=\"dataframe\">\n",
       "  <thead>\n",
       "    <tr style=\"text-align: right;\">\n",
       "      <th></th>\n",
       "      <th>id</th>\n",
       "      <th>mb_used</th>\n",
       "      <th>session_date</th>\n",
       "      <th>user_id</th>\n",
       "    </tr>\n",
       "  </thead>\n",
       "  <tbody>\n",
       "    <tr>\n",
       "      <th>0</th>\n",
       "      <td>1000_0</td>\n",
       "      <td>112.95</td>\n",
       "      <td>2018-11-25</td>\n",
       "      <td>1000</td>\n",
       "    </tr>\n",
       "    <tr>\n",
       "      <th>1</th>\n",
       "      <td>1000_1</td>\n",
       "      <td>1052.81</td>\n",
       "      <td>2018-09-07</td>\n",
       "      <td>1000</td>\n",
       "    </tr>\n",
       "    <tr>\n",
       "      <th>2</th>\n",
       "      <td>1000_2</td>\n",
       "      <td>1197.26</td>\n",
       "      <td>2018-06-25</td>\n",
       "      <td>1000</td>\n",
       "    </tr>\n",
       "    <tr>\n",
       "      <th>3</th>\n",
       "      <td>1000_3</td>\n",
       "      <td>550.27</td>\n",
       "      <td>2018-08-22</td>\n",
       "      <td>1000</td>\n",
       "    </tr>\n",
       "    <tr>\n",
       "      <th>4</th>\n",
       "      <td>1000_4</td>\n",
       "      <td>302.56</td>\n",
       "      <td>2018-09-24</td>\n",
       "      <td>1000</td>\n",
       "    </tr>\n",
       "  </tbody>\n",
       "</table>\n",
       "</div>"
      ],
      "text/plain": [
       "       id  mb_used session_date  user_id\n",
       "0  1000_0   112.95   2018-11-25     1000\n",
       "1  1000_1  1052.81   2018-09-07     1000\n",
       "2  1000_2  1197.26   2018-06-25     1000\n",
       "3  1000_3   550.27   2018-08-22     1000\n",
       "4  1000_4   302.56   2018-09-24     1000"
      ]
     },
     "execution_count": 11,
     "metadata": {},
     "output_type": "execute_result"
    }
   ],
   "source": [
    "# Прочитаем файл internet.csv с информацией об интернет-сессиях и сохраним его в переменной internet\n",
    "internet = pd.read_csv('C:/Users/Public/Jupyter/internet.csv', index_col=0)\n",
    "internet.head()"
   ]
  },
  {
   "cell_type": "code",
   "execution_count": 12,
   "metadata": {
    "scrolled": true
   },
   "outputs": [
    {
     "name": "stdout",
     "output_type": "stream",
     "text": [
      "<class 'pandas.core.frame.DataFrame'>\n",
      "Int64Index: 149396 entries, 0 to 149395\n",
      "Data columns (total 4 columns):\n",
      " #   Column        Non-Null Count   Dtype  \n",
      "---  ------        --------------   -----  \n",
      " 0   id            149396 non-null  object \n",
      " 1   mb_used       149396 non-null  float64\n",
      " 2   session_date  149396 non-null  object \n",
      " 3   user_id       149396 non-null  int64  \n",
      "dtypes: float64(1), int64(1), object(2)\n",
      "memory usage: 5.7+ MB\n"
     ]
    }
   ],
   "source": [
    "# изучим общую информацию о датафрейме internet\n",
    "internet.info()"
   ]
  },
  {
   "cell_type": "markdown",
   "metadata": {},
   "source": [
    "Всего в таблице 4 столбца, тип данных у 2 столбцов - < object >, у 1 столбца - целочисленный, у 1 столбца - численный с плавающей точкой.\n",
    "\n",
    "Подробно разберём, какие в internet столбцы, и какую информацию они содержат:\n",
    "- `id` — уникальный номер сессии\n",
    "- `mb_used` — объём потраченного за сессию интернет-трафика (в мегабайтах)\n",
    "- `session_date` — дата интернет-сессии\n",
    "- `user_id` — идентификатор пользователя\n",
    "\n",
    "Количество значений в столбцах одинаково. Это говорит о том, что в данных нет пропущенных значений.\n",
    "\n",
    "Необходимо округление в столбце `mb_used` до мегабайт в большую сторону и изменение типа данных до целочисленного. Также требуется изменение типа данных в столбце с датой `session_date`."
   ]
  },
  {
   "cell_type": "markdown",
   "metadata": {},
   "source": [
    "### Замена типа данных <a id='step_1.3'></a>"
   ]
  },
  {
   "cell_type": "markdown",
   "metadata": {},
   "source": [
    "Как было выявлено при изучении общей информации, требуется изменение типа данных в ряде столбцов с датой (с < object > на < datetime >):\n",
    "- `reg_date` в таблице `users`; \n",
    "- `call_date` в таблице `calls`; \n",
    "- `message_date` в таблице `messages`; \n",
    "- `session_date` в таблице `internet`.\n",
    "\n",
    "Также необходимо округление в большую сторону и изменение типа данных до целочисленного (с < float > на < int >):\n",
    "- в столбце `duration` таблицы `calls`: до минут;\n",
    "- в столбце `mb_used` таблицы `internet`: до мегабайт."
   ]
  },
  {
   "cell_type": "code",
   "execution_count": 13,
   "metadata": {},
   "outputs": [],
   "source": [
    "# Функция замены типа данных для столбцов с датой:\n",
    "def to_date(df, column):\n",
    "    df[column] = pd.to_datetime(df[column], format='%Y-%m-%d')"
   ]
  },
  {
   "cell_type": "code",
   "execution_count": 14,
   "metadata": {},
   "outputs": [],
   "source": [
    "# Заменяем тип данных для столбцов данных:\n",
    "to_date(users, 'reg_date')\n",
    "to_date(calls, 'call_date')\n",
    "to_date(messages, 'message_date')\n",
    "to_date(internet, 'session_date')"
   ]
  },
  {
   "cell_type": "code",
   "execution_count": 15,
   "metadata": {},
   "outputs": [],
   "source": [
    "# Функция округления в большую сторону и изменения типа до целочисленного\n",
    "def round_int(df, column):\n",
    "    df[column] = df[column].apply(mt.ceil)\n",
    "    df[column].astype(int)"
   ]
  },
  {
   "cell_type": "code",
   "execution_count": 16,
   "metadata": {},
   "outputs": [],
   "source": [
    "# округление времени разговора\n",
    "round_int(calls, 'duration')\n",
    "# округление объёма интернет-трафика\n",
    "round_int(internet, 'mb_used')"
   ]
  },
  {
   "cell_type": "markdown",
   "metadata": {},
   "source": [
    "Проверим, что тип данных заменён везде, где это требовалось."
   ]
  },
  {
   "cell_type": "code",
   "execution_count": 17,
   "metadata": {},
   "outputs": [
    {
     "name": "stdout",
     "output_type": "stream",
     "text": [
      "<class 'pandas.core.frame.DataFrame'>\n",
      "RangeIndex: 500 entries, 0 to 499\n",
      "Data columns (total 8 columns):\n",
      " #   Column      Non-Null Count  Dtype         \n",
      "---  ------      --------------  -----         \n",
      " 0   user_id     500 non-null    int64         \n",
      " 1   age         500 non-null    int64         \n",
      " 2   churn_date  38 non-null     object        \n",
      " 3   city        500 non-null    object        \n",
      " 4   first_name  500 non-null    object        \n",
      " 5   last_name   500 non-null    object        \n",
      " 6   reg_date    500 non-null    datetime64[ns]\n",
      " 7   tariff      500 non-null    object        \n",
      "dtypes: datetime64[ns](1), int64(2), object(5)\n",
      "memory usage: 31.4+ KB\n",
      "\n",
      "<class 'pandas.core.frame.DataFrame'>\n",
      "RangeIndex: 202607 entries, 0 to 202606\n",
      "Data columns (total 4 columns):\n",
      " #   Column     Non-Null Count   Dtype         \n",
      "---  ------     --------------   -----         \n",
      " 0   id         202607 non-null  object        \n",
      " 1   call_date  202607 non-null  datetime64[ns]\n",
      " 2   duration   202607 non-null  int64         \n",
      " 3   user_id    202607 non-null  int64         \n",
      "dtypes: datetime64[ns](1), int64(2), object(1)\n",
      "memory usage: 6.2+ MB\n",
      "\n",
      "<class 'pandas.core.frame.DataFrame'>\n",
      "RangeIndex: 123036 entries, 0 to 123035\n",
      "Data columns (total 3 columns):\n",
      " #   Column        Non-Null Count   Dtype         \n",
      "---  ------        --------------   -----         \n",
      " 0   id            123036 non-null  object        \n",
      " 1   message_date  123036 non-null  datetime64[ns]\n",
      " 2   user_id       123036 non-null  int64         \n",
      "dtypes: datetime64[ns](1), int64(1), object(1)\n",
      "memory usage: 2.8+ MB\n",
      "\n",
      "<class 'pandas.core.frame.DataFrame'>\n",
      "Int64Index: 149396 entries, 0 to 149395\n",
      "Data columns (total 4 columns):\n",
      " #   Column        Non-Null Count   Dtype         \n",
      "---  ------        --------------   -----         \n",
      " 0   id            149396 non-null  object        \n",
      " 1   mb_used       149396 non-null  int64         \n",
      " 2   session_date  149396 non-null  datetime64[ns]\n",
      " 3   user_id       149396 non-null  int64         \n",
      "dtypes: datetime64[ns](1), int64(2), object(1)\n",
      "memory usage: 5.7+ MB\n"
     ]
    }
   ],
   "source": [
    "display.display(data=users.info())\n",
    "print()\n",
    "display.display(data=calls.info())\n",
    "print()\n",
    "display.display(data=messages.info())\n",
    "print()\n",
    "display.display(data=internet.info())"
   ]
  },
  {
   "cell_type": "markdown",
   "metadata": {},
   "source": [
    "### Определение и исправление ошибок в данных <a id='step_1.4'></a>"
   ]
  },
  {
   "cell_type": "markdown",
   "metadata": {},
   "source": [
    "#### Данные о тарифах"
   ]
  },
  {
   "cell_type": "code",
   "execution_count": 18,
   "metadata": {
    "scrolled": false
   },
   "outputs": [
    {
     "data": {
      "text/html": [
       "<div>\n",
       "<style scoped>\n",
       "    .dataframe tbody tr th:only-of-type {\n",
       "        vertical-align: middle;\n",
       "    }\n",
       "\n",
       "    .dataframe tbody tr th {\n",
       "        vertical-align: top;\n",
       "    }\n",
       "\n",
       "    .dataframe thead th {\n",
       "        text-align: right;\n",
       "    }\n",
       "</style>\n",
       "<table border=\"1\" class=\"dataframe\">\n",
       "  <thead>\n",
       "    <tr style=\"text-align: right;\">\n",
       "      <th></th>\n",
       "      <th>messages_included</th>\n",
       "      <th>mb_per_month_included</th>\n",
       "      <th>minutes_included</th>\n",
       "      <th>rub_monthly_fee</th>\n",
       "      <th>rub_per_gb</th>\n",
       "      <th>rub_per_message</th>\n",
       "      <th>rub_per_minute</th>\n",
       "    </tr>\n",
       "  </thead>\n",
       "  <tbody>\n",
       "    <tr>\n",
       "      <th>count</th>\n",
       "      <td>2.000000</td>\n",
       "      <td>2.000000</td>\n",
       "      <td>2.000000</td>\n",
       "      <td>2.000000</td>\n",
       "      <td>2.000000</td>\n",
       "      <td>2.000000</td>\n",
       "      <td>2.000000</td>\n",
       "    </tr>\n",
       "    <tr>\n",
       "      <th>mean</th>\n",
       "      <td>525.000000</td>\n",
       "      <td>23040.000000</td>\n",
       "      <td>1750.000000</td>\n",
       "      <td>1250.000000</td>\n",
       "      <td>175.000000</td>\n",
       "      <td>2.000000</td>\n",
       "      <td>2.000000</td>\n",
       "    </tr>\n",
       "    <tr>\n",
       "      <th>std</th>\n",
       "      <td>671.751442</td>\n",
       "      <td>10861.160159</td>\n",
       "      <td>1767.766953</td>\n",
       "      <td>989.949494</td>\n",
       "      <td>35.355339</td>\n",
       "      <td>1.414214</td>\n",
       "      <td>1.414214</td>\n",
       "    </tr>\n",
       "    <tr>\n",
       "      <th>min</th>\n",
       "      <td>50.000000</td>\n",
       "      <td>15360.000000</td>\n",
       "      <td>500.000000</td>\n",
       "      <td>550.000000</td>\n",
       "      <td>150.000000</td>\n",
       "      <td>1.000000</td>\n",
       "      <td>1.000000</td>\n",
       "    </tr>\n",
       "    <tr>\n",
       "      <th>25%</th>\n",
       "      <td>287.500000</td>\n",
       "      <td>19200.000000</td>\n",
       "      <td>1125.000000</td>\n",
       "      <td>900.000000</td>\n",
       "      <td>162.500000</td>\n",
       "      <td>1.500000</td>\n",
       "      <td>1.500000</td>\n",
       "    </tr>\n",
       "    <tr>\n",
       "      <th>50%</th>\n",
       "      <td>525.000000</td>\n",
       "      <td>23040.000000</td>\n",
       "      <td>1750.000000</td>\n",
       "      <td>1250.000000</td>\n",
       "      <td>175.000000</td>\n",
       "      <td>2.000000</td>\n",
       "      <td>2.000000</td>\n",
       "    </tr>\n",
       "    <tr>\n",
       "      <th>75%</th>\n",
       "      <td>762.500000</td>\n",
       "      <td>26880.000000</td>\n",
       "      <td>2375.000000</td>\n",
       "      <td>1600.000000</td>\n",
       "      <td>187.500000</td>\n",
       "      <td>2.500000</td>\n",
       "      <td>2.500000</td>\n",
       "    </tr>\n",
       "    <tr>\n",
       "      <th>max</th>\n",
       "      <td>1000.000000</td>\n",
       "      <td>30720.000000</td>\n",
       "      <td>3000.000000</td>\n",
       "      <td>1950.000000</td>\n",
       "      <td>200.000000</td>\n",
       "      <td>3.000000</td>\n",
       "      <td>3.000000</td>\n",
       "    </tr>\n",
       "  </tbody>\n",
       "</table>\n",
       "</div>"
      ],
      "text/plain": [
       "       messages_included  mb_per_month_included  minutes_included  \\\n",
       "count           2.000000               2.000000          2.000000   \n",
       "mean          525.000000           23040.000000       1750.000000   \n",
       "std           671.751442           10861.160159       1767.766953   \n",
       "min            50.000000           15360.000000        500.000000   \n",
       "25%           287.500000           19200.000000       1125.000000   \n",
       "50%           525.000000           23040.000000       1750.000000   \n",
       "75%           762.500000           26880.000000       2375.000000   \n",
       "max          1000.000000           30720.000000       3000.000000   \n",
       "\n",
       "       rub_monthly_fee  rub_per_gb  rub_per_message  rub_per_minute  \n",
       "count         2.000000    2.000000         2.000000        2.000000  \n",
       "mean       1250.000000  175.000000         2.000000        2.000000  \n",
       "std         989.949494   35.355339         1.414214        1.414214  \n",
       "min         550.000000  150.000000         1.000000        1.000000  \n",
       "25%         900.000000  162.500000         1.500000        1.500000  \n",
       "50%        1250.000000  175.000000         2.000000        2.000000  \n",
       "75%        1600.000000  187.500000         2.500000        2.500000  \n",
       "max        1950.000000  200.000000         3.000000        3.000000  "
      ]
     },
     "execution_count": 18,
     "metadata": {},
     "output_type": "execute_result"
    }
   ],
   "source": [
    "tariffs.describe()"
   ]
  },
  {
   "cell_type": "code",
   "execution_count": 19,
   "metadata": {},
   "outputs": [
    {
     "name": "stdout",
     "output_type": "stream",
     "text": [
      "Число строк-дубликатов равно 0.\n"
     ]
    }
   ],
   "source": [
    "print('Число строк-дубликатов равно {}.'.format(tariffs.duplicated().sum()))"
   ]
  },
  {
   "cell_type": "markdown",
   "metadata": {},
   "source": [
    "В данных по тарифам нет пропущенных значений, нет дубликатов, среднее значение по столбцам совпадает с медианным. Ошибок в данных не выявлено.\n",
    "\n",
    "У нас имеется 2 тарифа для анализа, информация о которых приведена в [соответствующем пункте](#tariffs_info)."
   ]
  },
  {
   "cell_type": "markdown",
   "metadata": {},
   "source": [
    "#### Данные о пользователях"
   ]
  },
  {
   "cell_type": "code",
   "execution_count": 20,
   "metadata": {
    "scrolled": true
   },
   "outputs": [
    {
     "data": {
      "text/html": [
       "<div>\n",
       "<style scoped>\n",
       "    .dataframe tbody tr th:only-of-type {\n",
       "        vertical-align: middle;\n",
       "    }\n",
       "\n",
       "    .dataframe tbody tr th {\n",
       "        vertical-align: top;\n",
       "    }\n",
       "\n",
       "    .dataframe thead th {\n",
       "        text-align: right;\n",
       "    }\n",
       "</style>\n",
       "<table border=\"1\" class=\"dataframe\">\n",
       "  <thead>\n",
       "    <tr style=\"text-align: right;\">\n",
       "      <th></th>\n",
       "      <th>user_id</th>\n",
       "      <th>age</th>\n",
       "    </tr>\n",
       "  </thead>\n",
       "  <tbody>\n",
       "    <tr>\n",
       "      <th>count</th>\n",
       "      <td>500.000000</td>\n",
       "      <td>500.00000</td>\n",
       "    </tr>\n",
       "    <tr>\n",
       "      <th>mean</th>\n",
       "      <td>1249.500000</td>\n",
       "      <td>46.58800</td>\n",
       "    </tr>\n",
       "    <tr>\n",
       "      <th>std</th>\n",
       "      <td>144.481833</td>\n",
       "      <td>16.66763</td>\n",
       "    </tr>\n",
       "    <tr>\n",
       "      <th>min</th>\n",
       "      <td>1000.000000</td>\n",
       "      <td>18.00000</td>\n",
       "    </tr>\n",
       "    <tr>\n",
       "      <th>25%</th>\n",
       "      <td>1124.750000</td>\n",
       "      <td>32.00000</td>\n",
       "    </tr>\n",
       "    <tr>\n",
       "      <th>50%</th>\n",
       "      <td>1249.500000</td>\n",
       "      <td>46.00000</td>\n",
       "    </tr>\n",
       "    <tr>\n",
       "      <th>75%</th>\n",
       "      <td>1374.250000</td>\n",
       "      <td>62.00000</td>\n",
       "    </tr>\n",
       "    <tr>\n",
       "      <th>max</th>\n",
       "      <td>1499.000000</td>\n",
       "      <td>75.00000</td>\n",
       "    </tr>\n",
       "  </tbody>\n",
       "</table>\n",
       "</div>"
      ],
      "text/plain": [
       "           user_id        age\n",
       "count   500.000000  500.00000\n",
       "mean   1249.500000   46.58800\n",
       "std     144.481833   16.66763\n",
       "min    1000.000000   18.00000\n",
       "25%    1124.750000   32.00000\n",
       "50%    1249.500000   46.00000\n",
       "75%    1374.250000   62.00000\n",
       "max    1499.000000   75.00000"
      ]
     },
     "execution_count": 20,
     "metadata": {},
     "output_type": "execute_result"
    }
   ],
   "source": [
    "users.describe()"
   ]
  },
  {
   "cell_type": "code",
   "execution_count": 21,
   "metadata": {},
   "outputs": [
    {
     "name": "stdout",
     "output_type": "stream",
     "text": [
      "Число строк-дубликатов равно 0.\n"
     ]
    }
   ],
   "source": [
    "print('Число строк-дубликатов равно {}.'.format(users.duplicated().sum()))"
   ]
  },
  {
   "cell_type": "code",
   "execution_count": 22,
   "metadata": {},
   "outputs": [
    {
     "data": {
      "text/plain": [
       "numpy.datetime64('2018-01-01T00:00:00.000000000')"
      ]
     },
     "execution_count": 22,
     "metadata": {},
     "output_type": "execute_result"
    }
   ],
   "source": [
    "users['reg_date'].sort_values().unique().min()"
   ]
  },
  {
   "cell_type": "code",
   "execution_count": 23,
   "metadata": {},
   "outputs": [
    {
     "data": {
      "text/plain": [
       "numpy.datetime64('2018-12-31T00:00:00.000000000')"
      ]
     },
     "execution_count": 23,
     "metadata": {},
     "output_type": "execute_result"
    }
   ],
   "source": [
    "users['reg_date'].sort_values().unique().max()"
   ]
  },
  {
   "cell_type": "code",
   "execution_count": 24,
   "metadata": {},
   "outputs": [
    {
     "data": {
      "text/plain": [
       "array(['2018-08-17', '2018-08-31', '2018-09-02', '2018-09-26',\n",
       "       '2018-09-27', '2018-10-03', '2018-10-04', '2018-10-05',\n",
       "       '2018-10-14', '2018-10-25', '2018-10-27', '2018-10-28',\n",
       "       '2018-11-07', '2018-11-13', '2018-11-16', '2018-11-21',\n",
       "       '2018-11-22', '2018-11-26', '2018-11-27', '2018-11-30',\n",
       "       '2018-12-03', '2018-12-09', '2018-12-11', '2018-12-14',\n",
       "       '2018-12-16', '2018-12-18', '2018-12-20', '2018-12-21',\n",
       "       '2018-12-23', '2018-12-24', '2018-12-25', '2018-12-26',\n",
       "       '2018-12-30', nan], dtype=object)"
      ]
     },
     "execution_count": 24,
     "metadata": {},
     "output_type": "execute_result"
    }
   ],
   "source": [
    "users['churn_date'].sort_values().unique()"
   ]
  },
  {
   "cell_type": "code",
   "execution_count": 25,
   "metadata": {},
   "outputs": [
    {
     "data": {
      "text/plain": [
       "76"
      ]
     },
     "execution_count": 25,
     "metadata": {},
     "output_type": "execute_result"
    }
   ],
   "source": [
    "len(users['city'].sort_values().unique())"
   ]
  },
  {
   "cell_type": "markdown",
   "metadata": {},
   "source": [
    "В данных по пользователям среднее и медиана слабо отличаются, все данные имеют подходящий для анализа вид. Остальные данные, которые являются объектами также не нуждаются в обработке.\n",
    "\n",
    "У нас имеется информация о 500 пользователях, возрастом от 18 до 75 лет (средний возраст составляет 46-47 лет), которые подключили тариф в период с 1 января по 31 декабря 2018 года, а перестали им пользоваться в период с 17 августа по 30 декабря 2018 года (в случае, если перестали пользоваться). Также известно, что пользователи проживают в 76 различных городах."
   ]
  },
  {
   "cell_type": "markdown",
   "metadata": {},
   "source": [
    "#### Данные о звонках"
   ]
  },
  {
   "cell_type": "code",
   "execution_count": 26,
   "metadata": {
    "scrolled": true
   },
   "outputs": [
    {
     "data": {
      "text/html": [
       "<div>\n",
       "<style scoped>\n",
       "    .dataframe tbody tr th:only-of-type {\n",
       "        vertical-align: middle;\n",
       "    }\n",
       "\n",
       "    .dataframe tbody tr th {\n",
       "        vertical-align: top;\n",
       "    }\n",
       "\n",
       "    .dataframe thead th {\n",
       "        text-align: right;\n",
       "    }\n",
       "</style>\n",
       "<table border=\"1\" class=\"dataframe\">\n",
       "  <thead>\n",
       "    <tr style=\"text-align: right;\">\n",
       "      <th></th>\n",
       "      <th>duration</th>\n",
       "      <th>user_id</th>\n",
       "    </tr>\n",
       "  </thead>\n",
       "  <tbody>\n",
       "    <tr>\n",
       "      <th>count</th>\n",
       "      <td>202607.000000</td>\n",
       "      <td>202607.000000</td>\n",
       "    </tr>\n",
       "    <tr>\n",
       "      <th>mean</th>\n",
       "      <td>7.158198</td>\n",
       "      <td>1253.940619</td>\n",
       "    </tr>\n",
       "    <tr>\n",
       "      <th>std</th>\n",
       "      <td>5.959173</td>\n",
       "      <td>144.722751</td>\n",
       "    </tr>\n",
       "    <tr>\n",
       "      <th>min</th>\n",
       "      <td>0.000000</td>\n",
       "      <td>1000.000000</td>\n",
       "    </tr>\n",
       "    <tr>\n",
       "      <th>25%</th>\n",
       "      <td>2.000000</td>\n",
       "      <td>1126.000000</td>\n",
       "    </tr>\n",
       "    <tr>\n",
       "      <th>50%</th>\n",
       "      <td>6.000000</td>\n",
       "      <td>1260.000000</td>\n",
       "    </tr>\n",
       "    <tr>\n",
       "      <th>75%</th>\n",
       "      <td>11.000000</td>\n",
       "      <td>1379.000000</td>\n",
       "    </tr>\n",
       "    <tr>\n",
       "      <th>max</th>\n",
       "      <td>38.000000</td>\n",
       "      <td>1499.000000</td>\n",
       "    </tr>\n",
       "  </tbody>\n",
       "</table>\n",
       "</div>"
      ],
      "text/plain": [
       "            duration        user_id\n",
       "count  202607.000000  202607.000000\n",
       "mean        7.158198    1253.940619\n",
       "std         5.959173     144.722751\n",
       "min         0.000000    1000.000000\n",
       "25%         2.000000    1126.000000\n",
       "50%         6.000000    1260.000000\n",
       "75%        11.000000    1379.000000\n",
       "max        38.000000    1499.000000"
      ]
     },
     "execution_count": 26,
     "metadata": {},
     "output_type": "execute_result"
    }
   ],
   "source": [
    "calls.describe()"
   ]
  },
  {
   "cell_type": "code",
   "execution_count": 27,
   "metadata": {},
   "outputs": [
    {
     "name": "stdout",
     "output_type": "stream",
     "text": [
      "Число строк-дубликатов равно 0.\n"
     ]
    }
   ],
   "source": [
    "print('Число строк-дубликатов равно {}.'.format(calls.duplicated().sum()))"
   ]
  },
  {
   "cell_type": "code",
   "execution_count": 28,
   "metadata": {},
   "outputs": [
    {
     "data": {
      "text/plain": [
       "duration\n",
       "0    39613\n",
       "1     8402\n",
       "2     9194\n",
       "3    10362\n",
       "4    10918\n",
       "Name: duration, dtype: int64"
      ]
     },
     "execution_count": 28,
     "metadata": {},
     "output_type": "execute_result"
    }
   ],
   "source": [
    "calls.groupby('duration')['duration'].count().head()"
   ]
  },
  {
   "cell_type": "code",
   "execution_count": 29,
   "metadata": {},
   "outputs": [
    {
     "data": {
      "text/plain": [
       "0.19551644316336553"
      ]
     },
     "execution_count": 29,
     "metadata": {},
     "output_type": "execute_result"
    }
   ],
   "source": [
    "len(calls[calls['duration'] == 0]) / len(calls)"
   ]
  },
  {
   "cell_type": "markdown",
   "metadata": {},
   "source": [
    "В данных по звонкам нет пропущенных значений, нет дубликатов, среднее значение по столбцам близко к медианному. Однако есть значения с длительностью звонков 0 минут. Причём таких данных около 20% от всей выборки. C одной стороны, это значительная величина. С другой стороны, можно было бы предложить, что это могут быть пропущенные звонки: звонок был зафиксирован, но время разговора составило 0 минут. Однако таблица содержит данные о принятых звонках, поэтому данный вариант может быть спорным.\n",
    "\n",
    "Построим график, иллюстрирующий динамику количества клиентов по длительности звонков (нулевые/ненулевые/все звонки)."
   ]
  },
  {
   "cell_type": "code",
   "execution_count": 30,
   "metadata": {},
   "outputs": [],
   "source": [
    "# \"Нулевые\" звонки\n",
    "zero_calls = (calls\n",
    "                  .query('duration == 0')\n",
    "                  .pivot_table(index='call_date', values='id', aggfunc='count')\n",
    "                  .reset_index()\n",
    "                  .sort_values(by='call_date', ascending=False)\n",
    "             )\n",
    "# \"Ненулевые\" звонки\n",
    "other_calls = (calls\n",
    "                  .query('duration != 0')\n",
    "                  .pivot_table(index='call_date', values='id', aggfunc='count')\n",
    "                  .reset_index()\n",
    "                  .sort_values(by='call_date', ascending=False)\n",
    "             )\n",
    "# Все звонки\n",
    "all_calls = (calls\n",
    "                  .pivot_table(index='call_date', values='id', aggfunc='count')\n",
    "                  .reset_index()\n",
    "                  .sort_values(by='call_date', ascending=False)\n",
    "              )"
   ]
  },
  {
   "cell_type": "code",
   "execution_count": 31,
   "metadata": {},
   "outputs": [
    {
     "data": {
      "image/png": "[encoded data removed]",
      "text/plain": [
       "<Figure size 432x288 with 1 Axes>"
      ]
     },
     "metadata": {
      "needs_background": "light"
     },
     "output_type": "display_data"
    }
   ],
   "source": [
    "fig, ax = plt.subplots()\n",
    "ax.set(title='Динамика количества звонков по типам длительности',\n",
    "       xlabel='дата', ylabel='количество звонков')\n",
    "ax.plot(zero_calls['call_date'], zero_calls['id'], label='\"нулевые\" звонки')\n",
    "ax.plot(other_calls['call_date'], other_calls['id'], label='\"ненулевые\" звонки')\n",
    "ax.plot(all_calls['call_date'], all_calls['id'], label='все звонки')\n",
    "ax.grid=True\n",
    "ax.legend(frameon=False)\n",
    "plt.show()"
   ]
  },
  {
   "cell_type": "markdown",
   "metadata": {},
   "source": [
    "Наблюдаем следующую тенденцию: с ростом количества сделанных звонков, растёт и количество \"нулевых\" звонков, но более медленными темпами. Соответственно, \"нулевые\" звонки есть у каждого пользователя и в каждом месяце 2018 года. Такие звонки могут быть связаны с отменёнными вызовами (пользователь \"произвёл действие\" со звонком, но разговора не было), с переадресованными вызовами (по данному номеру разговора не было, хотя звонок поступил), с пропущенными звонками (звонок был, но разговора не было).\n",
    "\n",
    "Такого плана звонки нет смысла оставлять для нашего исследования, поскольку они не тратят лимита времени в рамках абонентской платы, и не требуют дополнительных затрат с потребителя. Мы можем удалить значения."
   ]
  },
  {
   "cell_type": "code",
   "execution_count": 32,
   "metadata": {},
   "outputs": [],
   "source": [
    "calls.drop(calls.loc[calls['duration'] == 0].index, inplace=True)"
   ]
  },
  {
   "cell_type": "markdown",
   "metadata": {},
   "source": [
    "#### Данные о сообщениях"
   ]
  },
  {
   "cell_type": "code",
   "execution_count": 33,
   "metadata": {
    "scrolled": true
   },
   "outputs": [
    {
     "data": {
      "text/html": [
       "<div>\n",
       "<style scoped>\n",
       "    .dataframe tbody tr th:only-of-type {\n",
       "        vertical-align: middle;\n",
       "    }\n",
       "\n",
       "    .dataframe tbody tr th {\n",
       "        vertical-align: top;\n",
       "    }\n",
       "\n",
       "    .dataframe thead th {\n",
       "        text-align: right;\n",
       "    }\n",
       "</style>\n",
       "<table border=\"1\" class=\"dataframe\">\n",
       "  <thead>\n",
       "    <tr style=\"text-align: right;\">\n",
       "      <th></th>\n",
       "      <th>user_id</th>\n",
       "    </tr>\n",
       "  </thead>\n",
       "  <tbody>\n",
       "    <tr>\n",
       "      <th>count</th>\n",
       "      <td>123036.000000</td>\n",
       "    </tr>\n",
       "    <tr>\n",
       "      <th>mean</th>\n",
       "      <td>1256.989410</td>\n",
       "    </tr>\n",
       "    <tr>\n",
       "      <th>std</th>\n",
       "      <td>143.523967</td>\n",
       "    </tr>\n",
       "    <tr>\n",
       "      <th>min</th>\n",
       "      <td>1000.000000</td>\n",
       "    </tr>\n",
       "    <tr>\n",
       "      <th>25%</th>\n",
       "      <td>1134.000000</td>\n",
       "    </tr>\n",
       "    <tr>\n",
       "      <th>50%</th>\n",
       "      <td>1271.000000</td>\n",
       "    </tr>\n",
       "    <tr>\n",
       "      <th>75%</th>\n",
       "      <td>1381.000000</td>\n",
       "    </tr>\n",
       "    <tr>\n",
       "      <th>max</th>\n",
       "      <td>1499.000000</td>\n",
       "    </tr>\n",
       "  </tbody>\n",
       "</table>\n",
       "</div>"
      ],
      "text/plain": [
       "             user_id\n",
       "count  123036.000000\n",
       "mean     1256.989410\n",
       "std       143.523967\n",
       "min      1000.000000\n",
       "25%      1134.000000\n",
       "50%      1271.000000\n",
       "75%      1381.000000\n",
       "max      1499.000000"
      ]
     },
     "execution_count": 33,
     "metadata": {},
     "output_type": "execute_result"
    }
   ],
   "source": [
    "messages.describe()"
   ]
  },
  {
   "cell_type": "code",
   "execution_count": 34,
   "metadata": {},
   "outputs": [
    {
     "name": "stdout",
     "output_type": "stream",
     "text": [
      "Число строк-дубликатов равно 0.\n"
     ]
    }
   ],
   "source": [
    "print('Число строк-дубликатов равно {}.'.format(messages.duplicated().sum()))"
   ]
  },
  {
   "cell_type": "code",
   "execution_count": 35,
   "metadata": {},
   "outputs": [
    {
     "data": {
      "text/plain": [
       "numpy.datetime64('2018-01-02T00:00:00.000000000')"
      ]
     },
     "execution_count": 35,
     "metadata": {},
     "output_type": "execute_result"
    }
   ],
   "source": [
    "messages['message_date'].sort_values().unique().min()"
   ]
  },
  {
   "cell_type": "code",
   "execution_count": 36,
   "metadata": {},
   "outputs": [
    {
     "data": {
      "text/plain": [
       "numpy.datetime64('2018-12-31T00:00:00.000000000')"
      ]
     },
     "execution_count": 36,
     "metadata": {},
     "output_type": "execute_result"
    }
   ],
   "source": [
    "messages['message_date'].sort_values().unique().max()"
   ]
  },
  {
   "cell_type": "markdown",
   "metadata": {},
   "source": [
    "В данных по сообщениям среднее и медиана слабо отличаются, все данные имеют подходящий для анализа вид. Остальные данные, которые являются объектами также не нуждаются в обработке. Ошибок не выявлено.\n",
    "\n",
    "Информация о сообщениях представлена за период с 2 января по 31 декабря 2018 года."
   ]
  },
  {
   "cell_type": "markdown",
   "metadata": {},
   "source": [
    "#### Данные об интернет-сессиях"
   ]
  },
  {
   "cell_type": "code",
   "execution_count": 37,
   "metadata": {},
   "outputs": [
    {
     "data": {
      "text/html": [
       "<div>\n",
       "<style scoped>\n",
       "    .dataframe tbody tr th:only-of-type {\n",
       "        vertical-align: middle;\n",
       "    }\n",
       "\n",
       "    .dataframe tbody tr th {\n",
       "        vertical-align: top;\n",
       "    }\n",
       "\n",
       "    .dataframe thead th {\n",
       "        text-align: right;\n",
       "    }\n",
       "</style>\n",
       "<table border=\"1\" class=\"dataframe\">\n",
       "  <thead>\n",
       "    <tr style=\"text-align: right;\">\n",
       "      <th></th>\n",
       "      <th>mb_used</th>\n",
       "      <th>user_id</th>\n",
       "    </tr>\n",
       "  </thead>\n",
       "  <tbody>\n",
       "    <tr>\n",
       "      <th>count</th>\n",
       "      <td>149396.000000</td>\n",
       "      <td>149396.000000</td>\n",
       "    </tr>\n",
       "    <tr>\n",
       "      <th>mean</th>\n",
       "      <td>370.622098</td>\n",
       "      <td>1252.099842</td>\n",
       "    </tr>\n",
       "    <tr>\n",
       "      <th>std</th>\n",
       "      <td>278.387019</td>\n",
       "      <td>144.050823</td>\n",
       "    </tr>\n",
       "    <tr>\n",
       "      <th>min</th>\n",
       "      <td>0.000000</td>\n",
       "      <td>1000.000000</td>\n",
       "    </tr>\n",
       "    <tr>\n",
       "      <th>25%</th>\n",
       "      <td>139.000000</td>\n",
       "      <td>1130.000000</td>\n",
       "    </tr>\n",
       "    <tr>\n",
       "      <th>50%</th>\n",
       "      <td>349.000000</td>\n",
       "      <td>1251.000000</td>\n",
       "    </tr>\n",
       "    <tr>\n",
       "      <th>75%</th>\n",
       "      <td>560.000000</td>\n",
       "      <td>1380.000000</td>\n",
       "    </tr>\n",
       "    <tr>\n",
       "      <th>max</th>\n",
       "      <td>1725.000000</td>\n",
       "      <td>1499.000000</td>\n",
       "    </tr>\n",
       "  </tbody>\n",
       "</table>\n",
       "</div>"
      ],
      "text/plain": [
       "             mb_used        user_id\n",
       "count  149396.000000  149396.000000\n",
       "mean      370.622098    1252.099842\n",
       "std       278.387019     144.050823\n",
       "min         0.000000    1000.000000\n",
       "25%       139.000000    1130.000000\n",
       "50%       349.000000    1251.000000\n",
       "75%       560.000000    1380.000000\n",
       "max      1725.000000    1499.000000"
      ]
     },
     "execution_count": 37,
     "metadata": {},
     "output_type": "execute_result"
    }
   ],
   "source": [
    "internet.describe()"
   ]
  },
  {
   "cell_type": "code",
   "execution_count": 38,
   "metadata": {},
   "outputs": [
    {
     "name": "stdout",
     "output_type": "stream",
     "text": [
      "Число строк-дубликатов равно 0.\n"
     ]
    }
   ],
   "source": [
    "print('Число строк-дубликатов равно {}.'.format(internet.duplicated().sum()))"
   ]
  },
  {
   "cell_type": "code",
   "execution_count": 39,
   "metadata": {},
   "outputs": [
    {
     "data": {
      "text/plain": [
       "mb_used\n",
       "0    19598\n",
       "1      102\n",
       "2       98\n",
       "3       96\n",
       "4      100\n",
       "Name: mb_used, dtype: int64"
      ]
     },
     "execution_count": 39,
     "metadata": {},
     "output_type": "execute_result"
    }
   ],
   "source": [
    "internet.groupby('mb_used')['mb_used'].count().head()"
   ]
  },
  {
   "cell_type": "code",
   "execution_count": 40,
   "metadata": {},
   "outputs": [
    {
     "data": {
      "text/plain": [
       "0.13118155773916304"
      ]
     },
     "execution_count": 40,
     "metadata": {},
     "output_type": "execute_result"
    }
   ],
   "source": [
    "len(internet[internet['mb_used'] == 0]) / len(internet)"
   ]
  },
  {
   "cell_type": "markdown",
   "metadata": {},
   "source": [
    "В данных по интернет-сессиям нет пропущенных значений, нет дубликатов, среднее значение по столбцам близко к медианному. Однако есть значения с потраченным интернет-трафиком в размере 0 мегабайт. Причём таких данных около 13% от всей выборки. Это значительная величина. Проведём анализ, аналогичный анализу длительности звонков."
   ]
  },
  {
   "cell_type": "code",
   "execution_count": 41,
   "metadata": {},
   "outputs": [],
   "source": [
    "# \"Нулевые\" интернетт-соединения\n",
    "zero_internet = (internet\n",
    "                  .query('mb_used == 0')\n",
    "                  .pivot_table(index='session_date', values='id', aggfunc='count')\n",
    "                  .reset_index()\n",
    "                  .sort_values(by='session_date', ascending=False)\n",
    "             )\n",
    "# \"Ненулевые\" интернет-соединения\n",
    "other_internet = (internet\n",
    "                  .query('mb_used != 0')\n",
    "                  .pivot_table(index='session_date', values='id', aggfunc='count')\n",
    "                  .reset_index()\n",
    "                  .sort_values(by='session_date', ascending=False)\n",
    "             )\n",
    "# Все интернет-соединения\n",
    "all_internet = (internet\n",
    "                  .pivot_table(index='session_date', values='id', aggfunc='count')\n",
    "                  .reset_index()\n",
    "                  .sort_values(by='session_date', ascending=False)\n",
    "              )"
   ]
  },
  {
   "cell_type": "code",
   "execution_count": 42,
   "metadata": {},
   "outputs": [
    {
     "data": {
      "image/png": "[encoded data removed]",
      "text/plain": [
       "<Figure size 432x288 with 1 Axes>"
      ]
     },
     "metadata": {
      "needs_background": "light"
     },
     "output_type": "display_data"
    }
   ],
   "source": [
    "fig, ax = plt.subplots()\n",
    "ax.set(title='Динамика количества интернет-соединений по типам потраченного трафика',\n",
    "       xlabel='дата', ylabel='количество соединений')\n",
    "ax.plot(zero_internet['session_date'], zero_internet['id'], label='\"нулевой\" трафик')\n",
    "ax.plot(other_internet['session_date'], other_internet['id'], label='\"ненулевой\" трафик')\n",
    "ax.plot(all_internet['session_date'], all_internet['id'], label='все интернет-соединения')\n",
    "ax.grid=True\n",
    "ax.legend(frameon=False)\n",
    "plt.show()"
   ]
  },
  {
   "cell_type": "markdown",
   "metadata": {},
   "source": [
    "Наблюдаем ту же тенденцию, что и для длительности разговоров: \"нулевые\" интернет-соединения есть у каждого пользователя и в каждом месяце 2018 года. Такие соединенияя могут быть связаны с отсутствием мобильного интернета в момент соединения (пользователь пытался подключиться, но интернет \"не ловился\" устройством), сбоями в сети (устройство переподключалось к интернету), блокировкой интернета при отрицательном балансе (если такая опция есть у данного оператора).\n",
    "\n",
    "Такого плана интернет-соединения также нет смысла оставлять для нашего исследования, так как они не затрачивают лимит трафика в рамках абонентской платы, и не требуют дополнительных затрат с потребителя. Мы можем удалить значения."
   ]
  },
  {
   "cell_type": "code",
   "execution_count": 43,
   "metadata": {},
   "outputs": [],
   "source": [
    "internet.drop(internet.loc[internet['mb_used'] == 0].index, inplace=True)"
   ]
  },
  {
   "cell_type": "markdown",
   "metadata": {},
   "source": [
    "### Подготовка пользовательских данных <a id='step_1.5'></a>"
   ]
  },
  {
   "cell_type": "markdown",
   "metadata": {},
   "source": [
    "#### Количество звонков и минут разговора по месяцам"
   ]
  },
  {
   "cell_type": "markdown",
   "metadata": {},
   "source": [
    "Соберём информацию по каждому пользователю о количестве сделанных звонков и израсходованных минутах разговора. Информация нужна по месяцам. Для того, чтобы вывести информацию по месяцам, добавим в таблицу `calls` столбец `call_month`, определяющий месяц, в который сделан звонок."
   ]
  },
  {
   "cell_type": "code",
   "execution_count": 44,
   "metadata": {},
   "outputs": [],
   "source": [
    "calls['call_month'] = pd.DatetimeIndex(calls['call_date']).month"
   ]
  },
  {
   "cell_type": "markdown",
   "metadata": {},
   "source": [
    "Создадим сводную таблицу, в которой будет представлена интересующая нас информация."
   ]
  },
  {
   "cell_type": "code",
   "execution_count": 45,
   "metadata": {},
   "outputs": [],
   "source": [
    "user_calls = pd.pivot_table(calls,\n",
    "                            index=['user_id', 'call_month'],\n",
    "                            values=['duration'],\n",
    "                            aggfunc=('sum', 'count')).reset_index()\n",
    "user_calls.columns = ['user_id', 'month', 'call_numbers', 'call_duration']"
   ]
  },
  {
   "cell_type": "code",
   "execution_count": 46,
   "metadata": {},
   "outputs": [
    {
     "data": {
      "text/html": [
       "<div>\n",
       "<style scoped>\n",
       "    .dataframe tbody tr th:only-of-type {\n",
       "        vertical-align: middle;\n",
       "    }\n",
       "\n",
       "    .dataframe tbody tr th {\n",
       "        vertical-align: top;\n",
       "    }\n",
       "\n",
       "    .dataframe thead th {\n",
       "        text-align: right;\n",
       "    }\n",
       "</style>\n",
       "<table border=\"1\" class=\"dataframe\">\n",
       "  <thead>\n",
       "    <tr style=\"text-align: right;\">\n",
       "      <th></th>\n",
       "      <th>user_id</th>\n",
       "      <th>month</th>\n",
       "      <th>call_numbers</th>\n",
       "      <th>call_duration</th>\n",
       "    </tr>\n",
       "  </thead>\n",
       "  <tbody>\n",
       "    <tr>\n",
       "      <th>0</th>\n",
       "      <td>1467</td>\n",
       "      <td>12</td>\n",
       "      <td>190</td>\n",
       "      <td>1673</td>\n",
       "    </tr>\n",
       "    <tr>\n",
       "      <th>1</th>\n",
       "      <td>1377</td>\n",
       "      <td>3</td>\n",
       "      <td>165</td>\n",
       "      <td>1609</td>\n",
       "    </tr>\n",
       "    <tr>\n",
       "      <th>2</th>\n",
       "      <td>1216</td>\n",
       "      <td>12</td>\n",
       "      <td>162</td>\n",
       "      <td>1435</td>\n",
       "    </tr>\n",
       "    <tr>\n",
       "      <th>3</th>\n",
       "      <td>1222</td>\n",
       "      <td>10</td>\n",
       "      <td>157</td>\n",
       "      <td>1322</td>\n",
       "    </tr>\n",
       "    <tr>\n",
       "      <th>4</th>\n",
       "      <td>1196</td>\n",
       "      <td>6</td>\n",
       "      <td>149</td>\n",
       "      <td>1410</td>\n",
       "    </tr>\n",
       "    <tr>\n",
       "      <th>5</th>\n",
       "      <td>1377</td>\n",
       "      <td>10</td>\n",
       "      <td>148</td>\n",
       "      <td>1401</td>\n",
       "    </tr>\n",
       "    <tr>\n",
       "      <th>6</th>\n",
       "      <td>1222</td>\n",
       "      <td>9</td>\n",
       "      <td>148</td>\n",
       "      <td>1261</td>\n",
       "    </tr>\n",
       "    <tr>\n",
       "      <th>7</th>\n",
       "      <td>1377</td>\n",
       "      <td>12</td>\n",
       "      <td>147</td>\n",
       "      <td>1259</td>\n",
       "    </tr>\n",
       "    <tr>\n",
       "      <th>8</th>\n",
       "      <td>1078</td>\n",
       "      <td>12</td>\n",
       "      <td>146</td>\n",
       "      <td>1273</td>\n",
       "    </tr>\n",
       "    <tr>\n",
       "      <th>9</th>\n",
       "      <td>1222</td>\n",
       "      <td>12</td>\n",
       "      <td>146</td>\n",
       "      <td>1261</td>\n",
       "    </tr>\n",
       "  </tbody>\n",
       "</table>\n",
       "</div>"
      ],
      "text/plain": [
       "   user_id  month  call_numbers  call_duration\n",
       "0     1467     12           190           1673\n",
       "1     1377      3           165           1609\n",
       "2     1216     12           162           1435\n",
       "3     1222     10           157           1322\n",
       "4     1196      6           149           1410\n",
       "5     1377     10           148           1401\n",
       "6     1222      9           148           1261\n",
       "7     1377     12           147           1259\n",
       "8     1078     12           146           1273\n",
       "9     1222     12           146           1261"
      ]
     },
     "execution_count": 46,
     "metadata": {},
     "output_type": "execute_result"
    }
   ],
   "source": [
    "# TOP10 пользователей по количеству сделанных звонков\n",
    "user_calls.sort_values(by='call_numbers', ascending=False).head(10).reset_index(drop=True)"
   ]
  },
  {
   "cell_type": "code",
   "execution_count": 47,
   "metadata": {},
   "outputs": [
    {
     "data": {
      "text/html": [
       "<div>\n",
       "<style scoped>\n",
       "    .dataframe tbody tr th:only-of-type {\n",
       "        vertical-align: middle;\n",
       "    }\n",
       "\n",
       "    .dataframe tbody tr th {\n",
       "        vertical-align: top;\n",
       "    }\n",
       "\n",
       "    .dataframe thead th {\n",
       "        text-align: right;\n",
       "    }\n",
       "</style>\n",
       "<table border=\"1\" class=\"dataframe\">\n",
       "  <thead>\n",
       "    <tr style=\"text-align: right;\">\n",
       "      <th></th>\n",
       "      <th>user_id</th>\n",
       "      <th>month</th>\n",
       "      <th>call_numbers</th>\n",
       "      <th>call_duration</th>\n",
       "    </tr>\n",
       "  </thead>\n",
       "  <tbody>\n",
       "    <tr>\n",
       "      <th>0</th>\n",
       "      <td>1467</td>\n",
       "      <td>12</td>\n",
       "      <td>190</td>\n",
       "      <td>1673</td>\n",
       "    </tr>\n",
       "    <tr>\n",
       "      <th>1</th>\n",
       "      <td>1377</td>\n",
       "      <td>3</td>\n",
       "      <td>165</td>\n",
       "      <td>1609</td>\n",
       "    </tr>\n",
       "    <tr>\n",
       "      <th>2</th>\n",
       "      <td>1216</td>\n",
       "      <td>12</td>\n",
       "      <td>162</td>\n",
       "      <td>1435</td>\n",
       "    </tr>\n",
       "    <tr>\n",
       "      <th>3</th>\n",
       "      <td>1196</td>\n",
       "      <td>6</td>\n",
       "      <td>149</td>\n",
       "      <td>1410</td>\n",
       "    </tr>\n",
       "    <tr>\n",
       "      <th>4</th>\n",
       "      <td>1377</td>\n",
       "      <td>10</td>\n",
       "      <td>148</td>\n",
       "      <td>1401</td>\n",
       "    </tr>\n",
       "    <tr>\n",
       "      <th>5</th>\n",
       "      <td>1474</td>\n",
       "      <td>12</td>\n",
       "      <td>132</td>\n",
       "      <td>1345</td>\n",
       "    </tr>\n",
       "    <tr>\n",
       "      <th>6</th>\n",
       "      <td>1168</td>\n",
       "      <td>10</td>\n",
       "      <td>145</td>\n",
       "      <td>1334</td>\n",
       "    </tr>\n",
       "    <tr>\n",
       "      <th>7</th>\n",
       "      <td>1222</td>\n",
       "      <td>10</td>\n",
       "      <td>157</td>\n",
       "      <td>1322</td>\n",
       "    </tr>\n",
       "    <tr>\n",
       "      <th>8</th>\n",
       "      <td>1341</td>\n",
       "      <td>8</td>\n",
       "      <td>146</td>\n",
       "      <td>1321</td>\n",
       "    </tr>\n",
       "    <tr>\n",
       "      <th>9</th>\n",
       "      <td>1377</td>\n",
       "      <td>7</td>\n",
       "      <td>144</td>\n",
       "      <td>1311</td>\n",
       "    </tr>\n",
       "  </tbody>\n",
       "</table>\n",
       "</div>"
      ],
      "text/plain": [
       "   user_id  month  call_numbers  call_duration\n",
       "0     1467     12           190           1673\n",
       "1     1377      3           165           1609\n",
       "2     1216     12           162           1435\n",
       "3     1196      6           149           1410\n",
       "4     1377     10           148           1401\n",
       "5     1474     12           132           1345\n",
       "6     1168     10           145           1334\n",
       "7     1222     10           157           1322\n",
       "8     1341      8           146           1321\n",
       "9     1377      7           144           1311"
      ]
     },
     "execution_count": 47,
     "metadata": {},
     "output_type": "execute_result"
    }
   ],
   "source": [
    "# TOP10 пользователей по количеству израсходованных минут разговора\n",
    "user_calls.sort_values(by='call_duration', ascending=False).head(10).reset_index(drop=True)"
   ]
  },
  {
   "cell_type": "markdown",
   "metadata": {},
   "source": [
    "В TOP10 пользователей по количеству сделанных звонков и израсходованных минут разговора наблюдаются одни и те же пользователи, хотя есть и те, кто лидирует в одном списке, но отсутствует в лидерах другого списка."
   ]
  },
  {
   "cell_type": "markdown",
   "metadata": {},
   "source": [
    "#### Количество сообщений по месяцам"
   ]
  },
  {
   "cell_type": "markdown",
   "metadata": {},
   "source": [
    "Соберём информацию по каждому пользователю о количестве отправленных сообщений. Информация также нужна по месяцам. Для того, чтобы вывести информацию по месяцам, добавим в таблицу messages столбец message_month, определяющий месяц, в который отправлено сообщение."
   ]
  },
  {
   "cell_type": "code",
   "execution_count": 48,
   "metadata": {},
   "outputs": [],
   "source": [
    "messages['message_month'] = pd.DatetimeIndex(messages['message_date']).month"
   ]
  },
  {
   "cell_type": "markdown",
   "metadata": {},
   "source": [
    "Создадим сводную таблицу, в которой будет представлена интересующая нас информация."
   ]
  },
  {
   "cell_type": "code",
   "execution_count": 49,
   "metadata": {},
   "outputs": [],
   "source": [
    "user_messages = pd.pivot_table(messages,\n",
    "                               index=['user_id', 'message_month'],\n",
    "                               values=['id'],\n",
    "                               aggfunc=('count')).reset_index()\n",
    "user_messages.columns = ['user_id', 'month', 'message_numbers']"
   ]
  },
  {
   "cell_type": "code",
   "execution_count": 50,
   "metadata": {},
   "outputs": [
    {
     "data": {
      "text/html": [
       "<div>\n",
       "<style scoped>\n",
       "    .dataframe tbody tr th:only-of-type {\n",
       "        vertical-align: middle;\n",
       "    }\n",
       "\n",
       "    .dataframe tbody tr th {\n",
       "        vertical-align: top;\n",
       "    }\n",
       "\n",
       "    .dataframe thead th {\n",
       "        text-align: right;\n",
       "    }\n",
       "</style>\n",
       "<table border=\"1\" class=\"dataframe\">\n",
       "  <thead>\n",
       "    <tr style=\"text-align: right;\">\n",
       "      <th></th>\n",
       "      <th>user_id</th>\n",
       "      <th>month</th>\n",
       "      <th>message_numbers</th>\n",
       "    </tr>\n",
       "  </thead>\n",
       "  <tbody>\n",
       "    <tr>\n",
       "      <th>0</th>\n",
       "      <td>1165</td>\n",
       "      <td>12</td>\n",
       "      <td>224</td>\n",
       "    </tr>\n",
       "    <tr>\n",
       "      <th>1</th>\n",
       "      <td>1028</td>\n",
       "      <td>10</td>\n",
       "      <td>223</td>\n",
       "    </tr>\n",
       "    <tr>\n",
       "      <th>2</th>\n",
       "      <td>1231</td>\n",
       "      <td>7</td>\n",
       "      <td>211</td>\n",
       "    </tr>\n",
       "    <tr>\n",
       "      <th>3</th>\n",
       "      <td>1231</td>\n",
       "      <td>6</td>\n",
       "      <td>201</td>\n",
       "    </tr>\n",
       "    <tr>\n",
       "      <th>4</th>\n",
       "      <td>1165</td>\n",
       "      <td>11</td>\n",
       "      <td>197</td>\n",
       "    </tr>\n",
       "    <tr>\n",
       "      <th>5</th>\n",
       "      <td>1300</td>\n",
       "      <td>10</td>\n",
       "      <td>191</td>\n",
       "    </tr>\n",
       "    <tr>\n",
       "      <th>6</th>\n",
       "      <td>1231</td>\n",
       "      <td>12</td>\n",
       "      <td>191</td>\n",
       "    </tr>\n",
       "    <tr>\n",
       "      <th>7</th>\n",
       "      <td>1167</td>\n",
       "      <td>10</td>\n",
       "      <td>190</td>\n",
       "    </tr>\n",
       "    <tr>\n",
       "      <th>8</th>\n",
       "      <td>1231</td>\n",
       "      <td>9</td>\n",
       "      <td>188</td>\n",
       "    </tr>\n",
       "    <tr>\n",
       "      <th>9</th>\n",
       "      <td>1231</td>\n",
       "      <td>10</td>\n",
       "      <td>185</td>\n",
       "    </tr>\n",
       "  </tbody>\n",
       "</table>\n",
       "</div>"
      ],
      "text/plain": [
       "   user_id  month  message_numbers\n",
       "0     1165     12              224\n",
       "1     1028     10              223\n",
       "2     1231      7              211\n",
       "3     1231      6              201\n",
       "4     1165     11              197\n",
       "5     1300     10              191\n",
       "6     1231     12              191\n",
       "7     1167     10              190\n",
       "8     1231      9              188\n",
       "9     1231     10              185"
      ]
     },
     "execution_count": 50,
     "metadata": {},
     "output_type": "execute_result"
    }
   ],
   "source": [
    "# TOP10 пользователей по количеству отправленных сообщений\n",
    "user_messages.sort_values(by='message_numbers', ascending=False).head(10).reset_index(drop=True)"
   ]
  },
  {
   "cell_type": "markdown",
   "metadata": {},
   "source": [
    "При беглом взгляде на TOP10 пользователей по количеству отправленных сообщений видим, что пользователи, занимающие лидирующие позиции по звонкам, не занимают лидирующие позиции по сообщениям.\n",
    "\n",
    "Можем сделать предварительное предположение о том, что существуют пользователи с разными предпочтениями (и, соответственно, разным спросом): для одних интереснее и важнее звонки, для других - сообщения.\n",
    "\n",
    "Рассмотрим ситуацию с интернетом."
   ]
  },
  {
   "cell_type": "markdown",
   "metadata": {},
   "source": [
    "#### Объём интернет-трафика по месяцам"
   ]
  },
  {
   "cell_type": "markdown",
   "metadata": {},
   "source": [
    "Соберём информацию по каждому пользователю об объёме использованного интернет-трафика. Информация нужна по месяцам. Для того, чтобы вывести информацию по месяцам, добавим в таблицу internet столбец internet_month, определяющий месяц, в который осуществлялась интернет-сессия.\n",
    "\n",
    "Кроме того, переведём используемые Мегабайты в Гигабайты, воспользовавшись введённой в начале исследования константой GB_TO_MB."
   ]
  },
  {
   "cell_type": "code",
   "execution_count": 51,
   "metadata": {},
   "outputs": [],
   "source": [
    "# Информация об интернет-сессиях по месяцам\n",
    "internet['internet_month'] = pd.DatetimeIndex(internet['session_date']).month\n",
    "\n",
    "# Перевод использованного интернет-трафика из мегабайт в гигабайты\n",
    "internet['gb_used'] = internet['mb_used'] / GB_TO_MB"
   ]
  },
  {
   "cell_type": "markdown",
   "metadata": {},
   "source": [
    "Создадим сводную таблицу, в которой будет представлена интересующая нас информация (данные об объёме использованного интернет-трафика приведены в гигабайтах)."
   ]
  },
  {
   "cell_type": "code",
   "execution_count": 52,
   "metadata": {},
   "outputs": [],
   "source": [
    "user_internet = pd.pivot_table(internet,\n",
    "                               index=['user_id', 'internet_month'],\n",
    "                               values=['gb_used'],\n",
    "                               aggfunc=('sum')).reset_index()\n",
    "user_internet.columns = ['user_id', 'month', 'gb_used']"
   ]
  },
  {
   "cell_type": "code",
   "execution_count": 53,
   "metadata": {},
   "outputs": [
    {
     "data": {
      "text/html": [
       "<div>\n",
       "<style scoped>\n",
       "    .dataframe tbody tr th:only-of-type {\n",
       "        vertical-align: middle;\n",
       "    }\n",
       "\n",
       "    .dataframe tbody tr th {\n",
       "        vertical-align: top;\n",
       "    }\n",
       "\n",
       "    .dataframe thead th {\n",
       "        text-align: right;\n",
       "    }\n",
       "</style>\n",
       "<table border=\"1\" class=\"dataframe\">\n",
       "  <thead>\n",
       "    <tr style=\"text-align: right;\">\n",
       "      <th></th>\n",
       "      <th>user_id</th>\n",
       "      <th>month</th>\n",
       "      <th>gb_used</th>\n",
       "    </tr>\n",
       "  </thead>\n",
       "  <tbody>\n",
       "    <tr>\n",
       "      <th>0</th>\n",
       "      <td>1124</td>\n",
       "      <td>10</td>\n",
       "      <td>48.622070</td>\n",
       "    </tr>\n",
       "    <tr>\n",
       "      <th>1</th>\n",
       "      <td>1240</td>\n",
       "      <td>8</td>\n",
       "      <td>47.260742</td>\n",
       "    </tr>\n",
       "    <tr>\n",
       "      <th>2</th>\n",
       "      <td>1255</td>\n",
       "      <td>7</td>\n",
       "      <td>44.162109</td>\n",
       "    </tr>\n",
       "    <tr>\n",
       "      <th>3</th>\n",
       "      <td>1300</td>\n",
       "      <td>11</td>\n",
       "      <td>43.301758</td>\n",
       "    </tr>\n",
       "    <tr>\n",
       "      <th>4</th>\n",
       "      <td>1060</td>\n",
       "      <td>12</td>\n",
       "      <td>42.942383</td>\n",
       "    </tr>\n",
       "    <tr>\n",
       "      <th>5</th>\n",
       "      <td>1240</td>\n",
       "      <td>5</td>\n",
       "      <td>42.845703</td>\n",
       "    </tr>\n",
       "    <tr>\n",
       "      <th>6</th>\n",
       "      <td>1180</td>\n",
       "      <td>10</td>\n",
       "      <td>42.589844</td>\n",
       "    </tr>\n",
       "    <tr>\n",
       "      <th>7</th>\n",
       "      <td>1240</td>\n",
       "      <td>12</td>\n",
       "      <td>42.347656</td>\n",
       "    </tr>\n",
       "    <tr>\n",
       "      <th>8</th>\n",
       "      <td>1380</td>\n",
       "      <td>12</td>\n",
       "      <td>42.329102</td>\n",
       "    </tr>\n",
       "    <tr>\n",
       "      <th>9</th>\n",
       "      <td>1024</td>\n",
       "      <td>11</td>\n",
       "      <td>42.134766</td>\n",
       "    </tr>\n",
       "  </tbody>\n",
       "</table>\n",
       "</div>"
      ],
      "text/plain": [
       "   user_id  month    gb_used\n",
       "0     1124     10  48.622070\n",
       "1     1240      8  47.260742\n",
       "2     1255      7  44.162109\n",
       "3     1300     11  43.301758\n",
       "4     1060     12  42.942383\n",
       "5     1240      5  42.845703\n",
       "6     1180     10  42.589844\n",
       "7     1240     12  42.347656\n",
       "8     1380     12  42.329102\n",
       "9     1024     11  42.134766"
      ]
     },
     "execution_count": 53,
     "metadata": {},
     "output_type": "execute_result"
    }
   ],
   "source": [
    "# TOP10 пользователей по объёму использованного интернет-трафика\n",
    "user_internet.sort_values(by='gb_used', ascending=False).head(10).reset_index(drop=True)"
   ]
  },
  {
   "cell_type": "markdown",
   "metadata": {},
   "source": [
    "В TOP10 пользователей по объёму использованного интернет-трафика встречаются единицы пользователей из предыдущих списков лидеров. Однако, в большей степени список представлен другими пользователями. Это подтверждает нашу предварительную гипотезу о том, что отдельным пользователям интересна какая-то одна опция пакета, и менее интересны другие опции."
   ]
  },
  {
   "cell_type": "markdown",
   "metadata": {},
   "source": [
    "#### Выручка с каждого пользователя"
   ]
  },
  {
   "cell_type": "markdown",
   "metadata": {},
   "source": [
    "Для расчёта помесячной выручки с каждого пользователя нам следует сделать следующее:\n",
    "\n",
    "- рассчитать звонки, сообщения и интернет-трафик сверх лимита пакета тарифа;\n",
    "- рассчитать стоимость сверхлимитных опций;\n",
    "- рассчитать суммарные затраты потребителя, включающие сумму абонентской платы и оплаты за сверхлимит."
   ]
  },
  {
   "cell_type": "markdown",
   "metadata": {},
   "source": [
    "##### Cоздание таблицы с информацией об использовании тарифов пользователями"
   ]
  },
  {
   "cell_type": "markdown",
   "metadata": {},
   "source": [
    "Создадим новую таблицу: в ней мы объединим данные о количестве звонков и минут разговора, данные о количестве сообщений, данные об Объёме интернет-трафика по месяцам."
   ]
  },
  {
   "cell_type": "code",
   "execution_count": 54,
   "metadata": {},
   "outputs": [
    {
     "data": {
      "text/html": [
       "<div>\n",
       "<style scoped>\n",
       "    .dataframe tbody tr th:only-of-type {\n",
       "        vertical-align: middle;\n",
       "    }\n",
       "\n",
       "    .dataframe tbody tr th {\n",
       "        vertical-align: top;\n",
       "    }\n",
       "\n",
       "    .dataframe thead th {\n",
       "        text-align: right;\n",
       "    }\n",
       "</style>\n",
       "<table border=\"1\" class=\"dataframe\">\n",
       "  <thead>\n",
       "    <tr style=\"text-align: right;\">\n",
       "      <th></th>\n",
       "      <th>user_id</th>\n",
       "      <th>month</th>\n",
       "      <th>call_numbers</th>\n",
       "      <th>call_duration</th>\n",
       "      <th>message_numbers</th>\n",
       "      <th>gb_used</th>\n",
       "    </tr>\n",
       "  </thead>\n",
       "  <tbody>\n",
       "    <tr>\n",
       "      <th>0</th>\n",
       "      <td>1000</td>\n",
       "      <td>5</td>\n",
       "      <td>17.0</td>\n",
       "      <td>159.0</td>\n",
       "      <td>22.0</td>\n",
       "      <td>2.203125</td>\n",
       "    </tr>\n",
       "    <tr>\n",
       "      <th>1</th>\n",
       "      <td>1000</td>\n",
       "      <td>6</td>\n",
       "      <td>28.0</td>\n",
       "      <td>172.0</td>\n",
       "      <td>60.0</td>\n",
       "      <td>22.711914</td>\n",
       "    </tr>\n",
       "    <tr>\n",
       "      <th>2</th>\n",
       "      <td>1000</td>\n",
       "      <td>7</td>\n",
       "      <td>41.0</td>\n",
       "      <td>340.0</td>\n",
       "      <td>75.0</td>\n",
       "      <td>13.687500</td>\n",
       "    </tr>\n",
       "    <tr>\n",
       "      <th>3</th>\n",
       "      <td>1000</td>\n",
       "      <td>8</td>\n",
       "      <td>42.0</td>\n",
       "      <td>408.0</td>\n",
       "      <td>81.0</td>\n",
       "      <td>13.740234</td>\n",
       "    </tr>\n",
       "    <tr>\n",
       "      <th>4</th>\n",
       "      <td>1000</td>\n",
       "      <td>9</td>\n",
       "      <td>46.0</td>\n",
       "      <td>466.0</td>\n",
       "      <td>57.0</td>\n",
       "      <td>14.239258</td>\n",
       "    </tr>\n",
       "    <tr>\n",
       "      <th>...</th>\n",
       "      <td>...</td>\n",
       "      <td>...</td>\n",
       "      <td>...</td>\n",
       "      <td>...</td>\n",
       "      <td>...</td>\n",
       "      <td>...</td>\n",
       "    </tr>\n",
       "    <tr>\n",
       "      <th>3209</th>\n",
       "      <td>1489</td>\n",
       "      <td>10</td>\n",
       "      <td>NaN</td>\n",
       "      <td>NaN</td>\n",
       "      <td>21.0</td>\n",
       "      <td>19.128906</td>\n",
       "    </tr>\n",
       "    <tr>\n",
       "      <th>3210</th>\n",
       "      <td>1489</td>\n",
       "      <td>11</td>\n",
       "      <td>NaN</td>\n",
       "      <td>NaN</td>\n",
       "      <td>20.0</td>\n",
       "      <td>17.105469</td>\n",
       "    </tr>\n",
       "    <tr>\n",
       "      <th>3211</th>\n",
       "      <td>1489</td>\n",
       "      <td>12</td>\n",
       "      <td>NaN</td>\n",
       "      <td>NaN</td>\n",
       "      <td>35.0</td>\n",
       "      <td>16.934570</td>\n",
       "    </tr>\n",
       "    <tr>\n",
       "      <th>3212</th>\n",
       "      <td>1240</td>\n",
       "      <td>2</td>\n",
       "      <td>NaN</td>\n",
       "      <td>NaN</td>\n",
       "      <td>NaN</td>\n",
       "      <td>0.938477</td>\n",
       "    </tr>\n",
       "    <tr>\n",
       "      <th>3213</th>\n",
       "      <td>1476</td>\n",
       "      <td>4</td>\n",
       "      <td>NaN</td>\n",
       "      <td>NaN</td>\n",
       "      <td>NaN</td>\n",
       "      <td>0.518555</td>\n",
       "    </tr>\n",
       "  </tbody>\n",
       "</table>\n",
       "<p>3214 rows × 6 columns</p>\n",
       "</div>"
      ],
      "text/plain": [
       "      user_id  month  call_numbers  call_duration  message_numbers    gb_used\n",
       "0        1000      5          17.0          159.0             22.0   2.203125\n",
       "1        1000      6          28.0          172.0             60.0  22.711914\n",
       "2        1000      7          41.0          340.0             75.0  13.687500\n",
       "3        1000      8          42.0          408.0             81.0  13.740234\n",
       "4        1000      9          46.0          466.0             57.0  14.239258\n",
       "...       ...    ...           ...            ...              ...        ...\n",
       "3209     1489     10           NaN            NaN             21.0  19.128906\n",
       "3210     1489     11           NaN            NaN             20.0  17.105469\n",
       "3211     1489     12           NaN            NaN             35.0  16.934570\n",
       "3212     1240      2           NaN            NaN              NaN   0.938477\n",
       "3213     1476      4           NaN            NaN              NaN   0.518555\n",
       "\n",
       "[3214 rows x 6 columns]"
      ]
     },
     "execution_count": 54,
     "metadata": {},
     "output_type": "execute_result"
    }
   ],
   "source": [
    "user_total = user_calls.merge(user_messages, on=['user_id', 'month'], how='outer')\n",
    "user_total = user_total.merge(user_internet, on=['user_id', 'month'], how='outer')\n",
    "user_total"
   ]
  },
  {
   "cell_type": "markdown",
   "metadata": {},
   "source": [
    "У нас появились пустые значения в разных столбцах. Это связано с разной длинной исходных таблиц по звонкам, сообщениям и интернету. Скорее всего, если информации о пользователе не было, он никогда не пользовался данной услугой внутри пакета. Поэтому мы можем поставить нули, вместо пропущенных значений."
   ]
  },
  {
   "cell_type": "code",
   "execution_count": 55,
   "metadata": {},
   "outputs": [
    {
     "data": {
      "text/html": [
       "<div>\n",
       "<style scoped>\n",
       "    .dataframe tbody tr th:only-of-type {\n",
       "        vertical-align: middle;\n",
       "    }\n",
       "\n",
       "    .dataframe tbody tr th {\n",
       "        vertical-align: top;\n",
       "    }\n",
       "\n",
       "    .dataframe thead th {\n",
       "        text-align: right;\n",
       "    }\n",
       "</style>\n",
       "<table border=\"1\" class=\"dataframe\">\n",
       "  <thead>\n",
       "    <tr style=\"text-align: right;\">\n",
       "      <th></th>\n",
       "      <th>user_id</th>\n",
       "      <th>month</th>\n",
       "      <th>call_numbers</th>\n",
       "      <th>call_duration</th>\n",
       "      <th>message_numbers</th>\n",
       "      <th>gb_used</th>\n",
       "    </tr>\n",
       "  </thead>\n",
       "  <tbody>\n",
       "    <tr>\n",
       "      <th>0</th>\n",
       "      <td>1000</td>\n",
       "      <td>5</td>\n",
       "      <td>17.0</td>\n",
       "      <td>159.0</td>\n",
       "      <td>22.0</td>\n",
       "      <td>2.203125</td>\n",
       "    </tr>\n",
       "    <tr>\n",
       "      <th>1</th>\n",
       "      <td>1000</td>\n",
       "      <td>6</td>\n",
       "      <td>28.0</td>\n",
       "      <td>172.0</td>\n",
       "      <td>60.0</td>\n",
       "      <td>22.711914</td>\n",
       "    </tr>\n",
       "    <tr>\n",
       "      <th>2</th>\n",
       "      <td>1000</td>\n",
       "      <td>7</td>\n",
       "      <td>41.0</td>\n",
       "      <td>340.0</td>\n",
       "      <td>75.0</td>\n",
       "      <td>13.687500</td>\n",
       "    </tr>\n",
       "    <tr>\n",
       "      <th>3</th>\n",
       "      <td>1000</td>\n",
       "      <td>8</td>\n",
       "      <td>42.0</td>\n",
       "      <td>408.0</td>\n",
       "      <td>81.0</td>\n",
       "      <td>13.740234</td>\n",
       "    </tr>\n",
       "    <tr>\n",
       "      <th>4</th>\n",
       "      <td>1000</td>\n",
       "      <td>9</td>\n",
       "      <td>46.0</td>\n",
       "      <td>466.0</td>\n",
       "      <td>57.0</td>\n",
       "      <td>14.239258</td>\n",
       "    </tr>\n",
       "    <tr>\n",
       "      <th>...</th>\n",
       "      <td>...</td>\n",
       "      <td>...</td>\n",
       "      <td>...</td>\n",
       "      <td>...</td>\n",
       "      <td>...</td>\n",
       "      <td>...</td>\n",
       "    </tr>\n",
       "    <tr>\n",
       "      <th>3209</th>\n",
       "      <td>1489</td>\n",
       "      <td>10</td>\n",
       "      <td>0.0</td>\n",
       "      <td>0.0</td>\n",
       "      <td>21.0</td>\n",
       "      <td>19.128906</td>\n",
       "    </tr>\n",
       "    <tr>\n",
       "      <th>3210</th>\n",
       "      <td>1489</td>\n",
       "      <td>11</td>\n",
       "      <td>0.0</td>\n",
       "      <td>0.0</td>\n",
       "      <td>20.0</td>\n",
       "      <td>17.105469</td>\n",
       "    </tr>\n",
       "    <tr>\n",
       "      <th>3211</th>\n",
       "      <td>1489</td>\n",
       "      <td>12</td>\n",
       "      <td>0.0</td>\n",
       "      <td>0.0</td>\n",
       "      <td>35.0</td>\n",
       "      <td>16.934570</td>\n",
       "    </tr>\n",
       "    <tr>\n",
       "      <th>3212</th>\n",
       "      <td>1240</td>\n",
       "      <td>2</td>\n",
       "      <td>0.0</td>\n",
       "      <td>0.0</td>\n",
       "      <td>0.0</td>\n",
       "      <td>0.938477</td>\n",
       "    </tr>\n",
       "    <tr>\n",
       "      <th>3213</th>\n",
       "      <td>1476</td>\n",
       "      <td>4</td>\n",
       "      <td>0.0</td>\n",
       "      <td>0.0</td>\n",
       "      <td>0.0</td>\n",
       "      <td>0.518555</td>\n",
       "    </tr>\n",
       "  </tbody>\n",
       "</table>\n",
       "<p>3214 rows × 6 columns</p>\n",
       "</div>"
      ],
      "text/plain": [
       "      user_id  month  call_numbers  call_duration  message_numbers    gb_used\n",
       "0        1000      5          17.0          159.0             22.0   2.203125\n",
       "1        1000      6          28.0          172.0             60.0  22.711914\n",
       "2        1000      7          41.0          340.0             75.0  13.687500\n",
       "3        1000      8          42.0          408.0             81.0  13.740234\n",
       "4        1000      9          46.0          466.0             57.0  14.239258\n",
       "...       ...    ...           ...            ...              ...        ...\n",
       "3209     1489     10           0.0            0.0             21.0  19.128906\n",
       "3210     1489     11           0.0            0.0             20.0  17.105469\n",
       "3211     1489     12           0.0            0.0             35.0  16.934570\n",
       "3212     1240      2           0.0            0.0              0.0   0.938477\n",
       "3213     1476      4           0.0            0.0              0.0   0.518555\n",
       "\n",
       "[3214 rows x 6 columns]"
      ]
     },
     "execution_count": 55,
     "metadata": {},
     "output_type": "execute_result"
    }
   ],
   "source": [
    "user_total = user_total.fillna(0)\n",
    "user_total"
   ]
  },
  {
   "cell_type": "markdown",
   "metadata": {},
   "source": [
    "Добавим информацию о тарифе и характеристиках тарифа, к которому подключен каждый пользователь."
   ]
  },
  {
   "cell_type": "code",
   "execution_count": 56,
   "metadata": {},
   "outputs": [
    {
     "data": {
      "text/html": [
       "<div>\n",
       "<style scoped>\n",
       "    .dataframe tbody tr th:only-of-type {\n",
       "        vertical-align: middle;\n",
       "    }\n",
       "\n",
       "    .dataframe tbody tr th {\n",
       "        vertical-align: top;\n",
       "    }\n",
       "\n",
       "    .dataframe thead th {\n",
       "        text-align: right;\n",
       "    }\n",
       "</style>\n",
       "<table border=\"1\" class=\"dataframe\">\n",
       "  <thead>\n",
       "    <tr style=\"text-align: right;\">\n",
       "      <th></th>\n",
       "      <th>user_id</th>\n",
       "      <th>month</th>\n",
       "      <th>call_numbers</th>\n",
       "      <th>call_duration</th>\n",
       "      <th>message_numbers</th>\n",
       "      <th>gb_used</th>\n",
       "      <th>churn_date</th>\n",
       "      <th>city</th>\n",
       "      <th>reg_date</th>\n",
       "      <th>tariff</th>\n",
       "    </tr>\n",
       "  </thead>\n",
       "  <tbody>\n",
       "    <tr>\n",
       "      <th>0</th>\n",
       "      <td>1000</td>\n",
       "      <td>5.0</td>\n",
       "      <td>17.0</td>\n",
       "      <td>159.0</td>\n",
       "      <td>22.0</td>\n",
       "      <td>2.203125</td>\n",
       "      <td>NaN</td>\n",
       "      <td>Краснодар</td>\n",
       "      <td>2018-05-25</td>\n",
       "      <td>ultra</td>\n",
       "    </tr>\n",
       "    <tr>\n",
       "      <th>1</th>\n",
       "      <td>1000</td>\n",
       "      <td>6.0</td>\n",
       "      <td>28.0</td>\n",
       "      <td>172.0</td>\n",
       "      <td>60.0</td>\n",
       "      <td>22.711914</td>\n",
       "      <td>NaN</td>\n",
       "      <td>Краснодар</td>\n",
       "      <td>2018-05-25</td>\n",
       "      <td>ultra</td>\n",
       "    </tr>\n",
       "    <tr>\n",
       "      <th>2</th>\n",
       "      <td>1000</td>\n",
       "      <td>7.0</td>\n",
       "      <td>41.0</td>\n",
       "      <td>340.0</td>\n",
       "      <td>75.0</td>\n",
       "      <td>13.687500</td>\n",
       "      <td>NaN</td>\n",
       "      <td>Краснодар</td>\n",
       "      <td>2018-05-25</td>\n",
       "      <td>ultra</td>\n",
       "    </tr>\n",
       "    <tr>\n",
       "      <th>3</th>\n",
       "      <td>1000</td>\n",
       "      <td>8.0</td>\n",
       "      <td>42.0</td>\n",
       "      <td>408.0</td>\n",
       "      <td>81.0</td>\n",
       "      <td>13.740234</td>\n",
       "      <td>NaN</td>\n",
       "      <td>Краснодар</td>\n",
       "      <td>2018-05-25</td>\n",
       "      <td>ultra</td>\n",
       "    </tr>\n",
       "    <tr>\n",
       "      <th>4</th>\n",
       "      <td>1000</td>\n",
       "      <td>9.0</td>\n",
       "      <td>46.0</td>\n",
       "      <td>466.0</td>\n",
       "      <td>57.0</td>\n",
       "      <td>14.239258</td>\n",
       "      <td>NaN</td>\n",
       "      <td>Краснодар</td>\n",
       "      <td>2018-05-25</td>\n",
       "      <td>ultra</td>\n",
       "    </tr>\n",
       "    <tr>\n",
       "      <th>...</th>\n",
       "      <td>...</td>\n",
       "      <td>...</td>\n",
       "      <td>...</td>\n",
       "      <td>...</td>\n",
       "      <td>...</td>\n",
       "      <td>...</td>\n",
       "      <td>...</td>\n",
       "      <td>...</td>\n",
       "      <td>...</td>\n",
       "      <td>...</td>\n",
       "    </tr>\n",
       "    <tr>\n",
       "      <th>3211</th>\n",
       "      <td>1489</td>\n",
       "      <td>10.0</td>\n",
       "      <td>0.0</td>\n",
       "      <td>0.0</td>\n",
       "      <td>21.0</td>\n",
       "      <td>19.128906</td>\n",
       "      <td>NaN</td>\n",
       "      <td>Санкт-Петербург</td>\n",
       "      <td>2018-08-15</td>\n",
       "      <td>smart</td>\n",
       "    </tr>\n",
       "    <tr>\n",
       "      <th>3212</th>\n",
       "      <td>1489</td>\n",
       "      <td>11.0</td>\n",
       "      <td>0.0</td>\n",
       "      <td>0.0</td>\n",
       "      <td>20.0</td>\n",
       "      <td>17.105469</td>\n",
       "      <td>NaN</td>\n",
       "      <td>Санкт-Петербург</td>\n",
       "      <td>2018-08-15</td>\n",
       "      <td>smart</td>\n",
       "    </tr>\n",
       "    <tr>\n",
       "      <th>3213</th>\n",
       "      <td>1489</td>\n",
       "      <td>12.0</td>\n",
       "      <td>0.0</td>\n",
       "      <td>0.0</td>\n",
       "      <td>35.0</td>\n",
       "      <td>16.934570</td>\n",
       "      <td>NaN</td>\n",
       "      <td>Санкт-Петербург</td>\n",
       "      <td>2018-08-15</td>\n",
       "      <td>smart</td>\n",
       "    </tr>\n",
       "    <tr>\n",
       "      <th>3214</th>\n",
       "      <td>1128</td>\n",
       "      <td>NaN</td>\n",
       "      <td>NaN</td>\n",
       "      <td>NaN</td>\n",
       "      <td>NaN</td>\n",
       "      <td>NaN</td>\n",
       "      <td>2018-12-23</td>\n",
       "      <td>Волжский</td>\n",
       "      <td>2018-12-15</td>\n",
       "      <td>ultra</td>\n",
       "    </tr>\n",
       "    <tr>\n",
       "      <th>3215</th>\n",
       "      <td>1371</td>\n",
       "      <td>NaN</td>\n",
       "      <td>NaN</td>\n",
       "      <td>NaN</td>\n",
       "      <td>NaN</td>\n",
       "      <td>NaN</td>\n",
       "      <td>2018-12-30</td>\n",
       "      <td>Омск</td>\n",
       "      <td>2018-12-25</td>\n",
       "      <td>smart</td>\n",
       "    </tr>\n",
       "  </tbody>\n",
       "</table>\n",
       "<p>3216 rows × 10 columns</p>\n",
       "</div>"
      ],
      "text/plain": [
       "      user_id  month  call_numbers  call_duration  message_numbers    gb_used  \\\n",
       "0        1000    5.0          17.0          159.0             22.0   2.203125   \n",
       "1        1000    6.0          28.0          172.0             60.0  22.711914   \n",
       "2        1000    7.0          41.0          340.0             75.0  13.687500   \n",
       "3        1000    8.0          42.0          408.0             81.0  13.740234   \n",
       "4        1000    9.0          46.0          466.0             57.0  14.239258   \n",
       "...       ...    ...           ...            ...              ...        ...   \n",
       "3211     1489   10.0           0.0            0.0             21.0  19.128906   \n",
       "3212     1489   11.0           0.0            0.0             20.0  17.105469   \n",
       "3213     1489   12.0           0.0            0.0             35.0  16.934570   \n",
       "3214     1128    NaN           NaN            NaN              NaN        NaN   \n",
       "3215     1371    NaN           NaN            NaN              NaN        NaN   \n",
       "\n",
       "      churn_date             city   reg_date tariff  \n",
       "0            NaN        Краснодар 2018-05-25  ultra  \n",
       "1            NaN        Краснодар 2018-05-25  ultra  \n",
       "2            NaN        Краснодар 2018-05-25  ultra  \n",
       "3            NaN        Краснодар 2018-05-25  ultra  \n",
       "4            NaN        Краснодар 2018-05-25  ultra  \n",
       "...          ...              ...        ...    ...  \n",
       "3211         NaN  Санкт-Петербург 2018-08-15  smart  \n",
       "3212         NaN  Санкт-Петербург 2018-08-15  smart  \n",
       "3213         NaN  Санкт-Петербург 2018-08-15  smart  \n",
       "3214  2018-12-23         Волжский 2018-12-15  ultra  \n",
       "3215  2018-12-30             Омск 2018-12-25  smart  \n",
       "\n",
       "[3216 rows x 10 columns]"
      ]
     },
     "execution_count": 56,
     "metadata": {},
     "output_type": "execute_result"
    }
   ],
   "source": [
    "user_total = user_total.merge(users, on='user_id', how='outer')\n",
    "user_total.drop(['age', 'first_name', 'last_name'], axis='columns', inplace=True)\n",
    "user_total"
   ]
  },
  {
   "cell_type": "markdown",
   "metadata": {},
   "source": [
    "Обнаружились пользователи, которые подключены к тарифам, но не пользовались услугами, и отключились от тарифов через несколько дней после подключения. В рамках анализа они не нужны, мы можем их удалить."
   ]
  },
  {
   "cell_type": "code",
   "execution_count": 57,
   "metadata": {},
   "outputs": [],
   "source": [
    "user_total.dropna(subset = ['call_numbers'], inplace = True)"
   ]
  },
  {
   "cell_type": "markdown",
   "metadata": {},
   "source": [
    "Также нам следует проверить соответствие тарифа данным. Таблица с данными о пользователях включает информацию о названии тарифа на день выгрузки. Однако возможны ситуации, когда звонки, сообщения и интернет-сессии производились до даты подключения к тарифу, либо после даты отключения от него. Такие ситуации либо следует исключить из анализа - если, к примеру, мы значем, что в это время пользователь был клиентом \"Мегалайна\", но находился на каком-то третьем тарифе, условия которого в рамках данного исследования нам неизвестны. Либо мы предполагаем, что клиент был подключен к другому из указанных двух тарифов \"Мегалайна\", а значит необходимо учитывать параметры другого тарифа, а не известного на момент выгрузки.\n",
    "\n",
    "Поскольку изначально у нас имеется информация о том, что компания \"Мегалайн\" предлагает клиентам только два тарифа: \"Смарт\" и \"Ультра\", воспользуемся вторым вариантом и преобразуем таблицу с данными."
   ]
  },
  {
   "cell_type": "markdown",
   "metadata": {},
   "source": [
    "Создадим столбцы, в которых выведем месяц подключения тарифа и месяц прекращения пользования тарифом, соответственно."
   ]
  },
  {
   "cell_type": "code",
   "execution_count": 58,
   "metadata": {},
   "outputs": [],
   "source": [
    "user_total['churn_month'] = pd.DatetimeIndex(user_total['churn_date']).month\n",
    "user_total['reg_month'] = pd.DatetimeIndex(user_total['reg_date']).month\n",
    "user_total.drop(['churn_date', 'reg_date'], axis='columns', inplace=True)"
   ]
  },
  {
   "cell_type": "markdown",
   "metadata": {},
   "source": [
    "Проверим, что у нас есть строки, подходящие под условия: месяц, в который произведены действия (сделан звонок, отправлено сообщение, проведена интернет-сессия) потребителем раньше, чем месяц подключения, либо позже, чем месяц отключения."
   ]
  },
  {
   "cell_type": "code",
   "execution_count": 59,
   "metadata": {},
   "outputs": [
    {
     "data": {
      "text/plain": [
       "0"
      ]
     },
     "execution_count": 59,
     "metadata": {},
     "output_type": "execute_result"
    }
   ],
   "source": [
    "len(user_total.loc[(user_total['month'] < user_total['reg_month']) | \n",
    "                   (user_total['month'] > user_total['churn_month'])])"
   ]
  },
  {
   "cell_type": "markdown",
   "metadata": {},
   "source": [
    "Таких строк нет, а значит тариф соответствует тем месяцам, в которых были проведены операции. Изменение данного столбца не требуется, как мы предположили ранее.\n",
    "\n",
    "Удалим лишние столбцы и приведём данные в нужный вид после всех преобразований."
   ]
  },
  {
   "cell_type": "code",
   "execution_count": 60,
   "metadata": {},
   "outputs": [
    {
     "data": {
      "text/html": [
       "<div>\n",
       "<style scoped>\n",
       "    .dataframe tbody tr th:only-of-type {\n",
       "        vertical-align: middle;\n",
       "    }\n",
       "\n",
       "    .dataframe tbody tr th {\n",
       "        vertical-align: top;\n",
       "    }\n",
       "\n",
       "    .dataframe thead th {\n",
       "        text-align: right;\n",
       "    }\n",
       "</style>\n",
       "<table border=\"1\" class=\"dataframe\">\n",
       "  <thead>\n",
       "    <tr style=\"text-align: right;\">\n",
       "      <th></th>\n",
       "      <th>user_id</th>\n",
       "      <th>month</th>\n",
       "      <th>call_numbers</th>\n",
       "      <th>call_duration</th>\n",
       "      <th>message_numbers</th>\n",
       "      <th>gb_used</th>\n",
       "      <th>city</th>\n",
       "      <th>tariff</th>\n",
       "    </tr>\n",
       "  </thead>\n",
       "  <tbody>\n",
       "    <tr>\n",
       "      <th>0</th>\n",
       "      <td>1000</td>\n",
       "      <td>5</td>\n",
       "      <td>17</td>\n",
       "      <td>159</td>\n",
       "      <td>22</td>\n",
       "      <td>3</td>\n",
       "      <td>Краснодар</td>\n",
       "      <td>ultra</td>\n",
       "    </tr>\n",
       "    <tr>\n",
       "      <th>1</th>\n",
       "      <td>1000</td>\n",
       "      <td>6</td>\n",
       "      <td>28</td>\n",
       "      <td>172</td>\n",
       "      <td>60</td>\n",
       "      <td>23</td>\n",
       "      <td>Краснодар</td>\n",
       "      <td>ultra</td>\n",
       "    </tr>\n",
       "    <tr>\n",
       "      <th>2</th>\n",
       "      <td>1000</td>\n",
       "      <td>7</td>\n",
       "      <td>41</td>\n",
       "      <td>340</td>\n",
       "      <td>75</td>\n",
       "      <td>14</td>\n",
       "      <td>Краснодар</td>\n",
       "      <td>ultra</td>\n",
       "    </tr>\n",
       "    <tr>\n",
       "      <th>3</th>\n",
       "      <td>1000</td>\n",
       "      <td>8</td>\n",
       "      <td>42</td>\n",
       "      <td>408</td>\n",
       "      <td>81</td>\n",
       "      <td>14</td>\n",
       "      <td>Краснодар</td>\n",
       "      <td>ultra</td>\n",
       "    </tr>\n",
       "    <tr>\n",
       "      <th>4</th>\n",
       "      <td>1000</td>\n",
       "      <td>9</td>\n",
       "      <td>46</td>\n",
       "      <td>466</td>\n",
       "      <td>57</td>\n",
       "      <td>15</td>\n",
       "      <td>Краснодар</td>\n",
       "      <td>ultra</td>\n",
       "    </tr>\n",
       "    <tr>\n",
       "      <th>...</th>\n",
       "      <td>...</td>\n",
       "      <td>...</td>\n",
       "      <td>...</td>\n",
       "      <td>...</td>\n",
       "      <td>...</td>\n",
       "      <td>...</td>\n",
       "      <td>...</td>\n",
       "      <td>...</td>\n",
       "    </tr>\n",
       "    <tr>\n",
       "      <th>3209</th>\n",
       "      <td>1489</td>\n",
       "      <td>8</td>\n",
       "      <td>0</td>\n",
       "      <td>0</td>\n",
       "      <td>17</td>\n",
       "      <td>11</td>\n",
       "      <td>Санкт-Петербург</td>\n",
       "      <td>smart</td>\n",
       "    </tr>\n",
       "    <tr>\n",
       "      <th>3210</th>\n",
       "      <td>1489</td>\n",
       "      <td>9</td>\n",
       "      <td>0</td>\n",
       "      <td>0</td>\n",
       "      <td>32</td>\n",
       "      <td>17</td>\n",
       "      <td>Санкт-Петербург</td>\n",
       "      <td>smart</td>\n",
       "    </tr>\n",
       "    <tr>\n",
       "      <th>3211</th>\n",
       "      <td>1489</td>\n",
       "      <td>10</td>\n",
       "      <td>0</td>\n",
       "      <td>0</td>\n",
       "      <td>21</td>\n",
       "      <td>20</td>\n",
       "      <td>Санкт-Петербург</td>\n",
       "      <td>smart</td>\n",
       "    </tr>\n",
       "    <tr>\n",
       "      <th>3212</th>\n",
       "      <td>1489</td>\n",
       "      <td>11</td>\n",
       "      <td>0</td>\n",
       "      <td>0</td>\n",
       "      <td>20</td>\n",
       "      <td>18</td>\n",
       "      <td>Санкт-Петербург</td>\n",
       "      <td>smart</td>\n",
       "    </tr>\n",
       "    <tr>\n",
       "      <th>3213</th>\n",
       "      <td>1489</td>\n",
       "      <td>12</td>\n",
       "      <td>0</td>\n",
       "      <td>0</td>\n",
       "      <td>35</td>\n",
       "      <td>17</td>\n",
       "      <td>Санкт-Петербург</td>\n",
       "      <td>smart</td>\n",
       "    </tr>\n",
       "  </tbody>\n",
       "</table>\n",
       "<p>3214 rows × 8 columns</p>\n",
       "</div>"
      ],
      "text/plain": [
       "      user_id  month  call_numbers  call_duration  message_numbers  gb_used  \\\n",
       "0        1000      5            17            159               22        3   \n",
       "1        1000      6            28            172               60       23   \n",
       "2        1000      7            41            340               75       14   \n",
       "3        1000      8            42            408               81       14   \n",
       "4        1000      9            46            466               57       15   \n",
       "...       ...    ...           ...            ...              ...      ...   \n",
       "3209     1489      8             0              0               17       11   \n",
       "3210     1489      9             0              0               32       17   \n",
       "3211     1489     10             0              0               21       20   \n",
       "3212     1489     11             0              0               20       18   \n",
       "3213     1489     12             0              0               35       17   \n",
       "\n",
       "                 city tariff  \n",
       "0           Краснодар  ultra  \n",
       "1           Краснодар  ultra  \n",
       "2           Краснодар  ultra  \n",
       "3           Краснодар  ultra  \n",
       "4           Краснодар  ultra  \n",
       "...               ...    ...  \n",
       "3209  Санкт-Петербург  smart  \n",
       "3210  Санкт-Петербург  smart  \n",
       "3211  Санкт-Петербург  smart  \n",
       "3212  Санкт-Петербург  smart  \n",
       "3213  Санкт-Петербург  smart  \n",
       "\n",
       "[3214 rows x 8 columns]"
      ]
     },
     "execution_count": 60,
     "metadata": {},
     "output_type": "execute_result"
    }
   ],
   "source": [
    "user_total.drop(['churn_month', 'reg_month'], axis='columns', inplace=True)\n",
    "round_int(user_total, 'month')\n",
    "round_int(user_total, 'call_numbers')\n",
    "round_int(user_total, 'call_duration')\n",
    "round_int(user_total, 'message_numbers')\n",
    "round_int(user_total, 'gb_used')\n",
    "user_total"
   ]
  },
  {
   "cell_type": "markdown",
   "metadata": {},
   "source": [
    "Прежде чем мы добавим в нашу таблицу об использовании тарифов пользователями информацию о характеристиках тарифа, необходимо обработать таблицу с характеристиками. Переведём ограничения по использованию трафика из мегабайтов в гигабайты, как мы это уже делали для другой таблицы. А также переименуем столбец с названием тарифа, чтобы было возможно использовать метод 'merge'."
   ]
  },
  {
   "cell_type": "code",
   "execution_count": 61,
   "metadata": {},
   "outputs": [],
   "source": [
    "# Перевод объёма интернет-трафика, включённого в абонентскую плату, из мегабайт в гигабайты\n",
    "tariffs['gb_per_month_included'] = tariffs['mb_per_month_included'] / GB_TO_MB\n",
    "\n",
    "# Переименование столбца tariff_name\n",
    "tariffs.columns = ['messages_included', 'mb_per_month_included', 'minutes_included', 'rub_monthly_fee', 'rub_per_gb',\n",
    "                   'rub_per_message', 'rub_per_minute', 'tariff', 'gb_per_month_included']"
   ]
  },
  {
   "cell_type": "code",
   "execution_count": 62,
   "metadata": {},
   "outputs": [
    {
     "data": {
      "text/html": [
       "<div>\n",
       "<style scoped>\n",
       "    .dataframe tbody tr th:only-of-type {\n",
       "        vertical-align: middle;\n",
       "    }\n",
       "\n",
       "    .dataframe tbody tr th {\n",
       "        vertical-align: top;\n",
       "    }\n",
       "\n",
       "    .dataframe thead th {\n",
       "        text-align: right;\n",
       "    }\n",
       "</style>\n",
       "<table border=\"1\" class=\"dataframe\">\n",
       "  <thead>\n",
       "    <tr style=\"text-align: right;\">\n",
       "      <th></th>\n",
       "      <th>user_id</th>\n",
       "      <th>month</th>\n",
       "      <th>call_numbers</th>\n",
       "      <th>call_duration</th>\n",
       "      <th>message_numbers</th>\n",
       "      <th>gb_used</th>\n",
       "      <th>city</th>\n",
       "      <th>tariff</th>\n",
       "      <th>messages_included</th>\n",
       "      <th>minutes_included</th>\n",
       "      <th>rub_monthly_fee</th>\n",
       "      <th>rub_per_gb</th>\n",
       "      <th>rub_per_message</th>\n",
       "      <th>rub_per_minute</th>\n",
       "      <th>gb_per_month_included</th>\n",
       "    </tr>\n",
       "  </thead>\n",
       "  <tbody>\n",
       "    <tr>\n",
       "      <th>0</th>\n",
       "      <td>1000</td>\n",
       "      <td>5</td>\n",
       "      <td>17</td>\n",
       "      <td>159</td>\n",
       "      <td>22</td>\n",
       "      <td>3</td>\n",
       "      <td>Краснодар</td>\n",
       "      <td>ultra</td>\n",
       "      <td>1000</td>\n",
       "      <td>3000</td>\n",
       "      <td>1950</td>\n",
       "      <td>150</td>\n",
       "      <td>1</td>\n",
       "      <td>1</td>\n",
       "      <td>30.0</td>\n",
       "    </tr>\n",
       "    <tr>\n",
       "      <th>1</th>\n",
       "      <td>1000</td>\n",
       "      <td>6</td>\n",
       "      <td>28</td>\n",
       "      <td>172</td>\n",
       "      <td>60</td>\n",
       "      <td>23</td>\n",
       "      <td>Краснодар</td>\n",
       "      <td>ultra</td>\n",
       "      <td>1000</td>\n",
       "      <td>3000</td>\n",
       "      <td>1950</td>\n",
       "      <td>150</td>\n",
       "      <td>1</td>\n",
       "      <td>1</td>\n",
       "      <td>30.0</td>\n",
       "    </tr>\n",
       "    <tr>\n",
       "      <th>2</th>\n",
       "      <td>1000</td>\n",
       "      <td>7</td>\n",
       "      <td>41</td>\n",
       "      <td>340</td>\n",
       "      <td>75</td>\n",
       "      <td>14</td>\n",
       "      <td>Краснодар</td>\n",
       "      <td>ultra</td>\n",
       "      <td>1000</td>\n",
       "      <td>3000</td>\n",
       "      <td>1950</td>\n",
       "      <td>150</td>\n",
       "      <td>1</td>\n",
       "      <td>1</td>\n",
       "      <td>30.0</td>\n",
       "    </tr>\n",
       "    <tr>\n",
       "      <th>3</th>\n",
       "      <td>1000</td>\n",
       "      <td>8</td>\n",
       "      <td>42</td>\n",
       "      <td>408</td>\n",
       "      <td>81</td>\n",
       "      <td>14</td>\n",
       "      <td>Краснодар</td>\n",
       "      <td>ultra</td>\n",
       "      <td>1000</td>\n",
       "      <td>3000</td>\n",
       "      <td>1950</td>\n",
       "      <td>150</td>\n",
       "      <td>1</td>\n",
       "      <td>1</td>\n",
       "      <td>30.0</td>\n",
       "    </tr>\n",
       "    <tr>\n",
       "      <th>4</th>\n",
       "      <td>1000</td>\n",
       "      <td>9</td>\n",
       "      <td>46</td>\n",
       "      <td>466</td>\n",
       "      <td>57</td>\n",
       "      <td>15</td>\n",
       "      <td>Краснодар</td>\n",
       "      <td>ultra</td>\n",
       "      <td>1000</td>\n",
       "      <td>3000</td>\n",
       "      <td>1950</td>\n",
       "      <td>150</td>\n",
       "      <td>1</td>\n",
       "      <td>1</td>\n",
       "      <td>30.0</td>\n",
       "    </tr>\n",
       "    <tr>\n",
       "      <th>...</th>\n",
       "      <td>...</td>\n",
       "      <td>...</td>\n",
       "      <td>...</td>\n",
       "      <td>...</td>\n",
       "      <td>...</td>\n",
       "      <td>...</td>\n",
       "      <td>...</td>\n",
       "      <td>...</td>\n",
       "      <td>...</td>\n",
       "      <td>...</td>\n",
       "      <td>...</td>\n",
       "      <td>...</td>\n",
       "      <td>...</td>\n",
       "      <td>...</td>\n",
       "      <td>...</td>\n",
       "    </tr>\n",
       "    <tr>\n",
       "      <th>3209</th>\n",
       "      <td>1489</td>\n",
       "      <td>8</td>\n",
       "      <td>0</td>\n",
       "      <td>0</td>\n",
       "      <td>17</td>\n",
       "      <td>11</td>\n",
       "      <td>Санкт-Петербург</td>\n",
       "      <td>smart</td>\n",
       "      <td>50</td>\n",
       "      <td>500</td>\n",
       "      <td>550</td>\n",
       "      <td>200</td>\n",
       "      <td>3</td>\n",
       "      <td>3</td>\n",
       "      <td>15.0</td>\n",
       "    </tr>\n",
       "    <tr>\n",
       "      <th>3210</th>\n",
       "      <td>1489</td>\n",
       "      <td>9</td>\n",
       "      <td>0</td>\n",
       "      <td>0</td>\n",
       "      <td>32</td>\n",
       "      <td>17</td>\n",
       "      <td>Санкт-Петербург</td>\n",
       "      <td>smart</td>\n",
       "      <td>50</td>\n",
       "      <td>500</td>\n",
       "      <td>550</td>\n",
       "      <td>200</td>\n",
       "      <td>3</td>\n",
       "      <td>3</td>\n",
       "      <td>15.0</td>\n",
       "    </tr>\n",
       "    <tr>\n",
       "      <th>3211</th>\n",
       "      <td>1489</td>\n",
       "      <td>10</td>\n",
       "      <td>0</td>\n",
       "      <td>0</td>\n",
       "      <td>21</td>\n",
       "      <td>20</td>\n",
       "      <td>Санкт-Петербург</td>\n",
       "      <td>smart</td>\n",
       "      <td>50</td>\n",
       "      <td>500</td>\n",
       "      <td>550</td>\n",
       "      <td>200</td>\n",
       "      <td>3</td>\n",
       "      <td>3</td>\n",
       "      <td>15.0</td>\n",
       "    </tr>\n",
       "    <tr>\n",
       "      <th>3212</th>\n",
       "      <td>1489</td>\n",
       "      <td>11</td>\n",
       "      <td>0</td>\n",
       "      <td>0</td>\n",
       "      <td>20</td>\n",
       "      <td>18</td>\n",
       "      <td>Санкт-Петербург</td>\n",
       "      <td>smart</td>\n",
       "      <td>50</td>\n",
       "      <td>500</td>\n",
       "      <td>550</td>\n",
       "      <td>200</td>\n",
       "      <td>3</td>\n",
       "      <td>3</td>\n",
       "      <td>15.0</td>\n",
       "    </tr>\n",
       "    <tr>\n",
       "      <th>3213</th>\n",
       "      <td>1489</td>\n",
       "      <td>12</td>\n",
       "      <td>0</td>\n",
       "      <td>0</td>\n",
       "      <td>35</td>\n",
       "      <td>17</td>\n",
       "      <td>Санкт-Петербург</td>\n",
       "      <td>smart</td>\n",
       "      <td>50</td>\n",
       "      <td>500</td>\n",
       "      <td>550</td>\n",
       "      <td>200</td>\n",
       "      <td>3</td>\n",
       "      <td>3</td>\n",
       "      <td>15.0</td>\n",
       "    </tr>\n",
       "  </tbody>\n",
       "</table>\n",
       "<p>3214 rows × 15 columns</p>\n",
       "</div>"
      ],
      "text/plain": [
       "      user_id  month  call_numbers  call_duration  message_numbers  gb_used  \\\n",
       "0        1000      5            17            159               22        3   \n",
       "1        1000      6            28            172               60       23   \n",
       "2        1000      7            41            340               75       14   \n",
       "3        1000      8            42            408               81       14   \n",
       "4        1000      9            46            466               57       15   \n",
       "...       ...    ...           ...            ...              ...      ...   \n",
       "3209     1489      8             0              0               17       11   \n",
       "3210     1489      9             0              0               32       17   \n",
       "3211     1489     10             0              0               21       20   \n",
       "3212     1489     11             0              0               20       18   \n",
       "3213     1489     12             0              0               35       17   \n",
       "\n",
       "                 city tariff  messages_included  minutes_included  \\\n",
       "0           Краснодар  ultra               1000              3000   \n",
       "1           Краснодар  ultra               1000              3000   \n",
       "2           Краснодар  ultra               1000              3000   \n",
       "3           Краснодар  ultra               1000              3000   \n",
       "4           Краснодар  ultra               1000              3000   \n",
       "...               ...    ...                ...               ...   \n",
       "3209  Санкт-Петербург  smart                 50               500   \n",
       "3210  Санкт-Петербург  smart                 50               500   \n",
       "3211  Санкт-Петербург  smart                 50               500   \n",
       "3212  Санкт-Петербург  smart                 50               500   \n",
       "3213  Санкт-Петербург  smart                 50               500   \n",
       "\n",
       "      rub_monthly_fee  rub_per_gb  rub_per_message  rub_per_minute  \\\n",
       "0                1950         150                1               1   \n",
       "1                1950         150                1               1   \n",
       "2                1950         150                1               1   \n",
       "3                1950         150                1               1   \n",
       "4                1950         150                1               1   \n",
       "...               ...         ...              ...             ...   \n",
       "3209              550         200                3               3   \n",
       "3210              550         200                3               3   \n",
       "3211              550         200                3               3   \n",
       "3212              550         200                3               3   \n",
       "3213              550         200                3               3   \n",
       "\n",
       "      gb_per_month_included  \n",
       "0                      30.0  \n",
       "1                      30.0  \n",
       "2                      30.0  \n",
       "3                      30.0  \n",
       "4                      30.0  \n",
       "...                     ...  \n",
       "3209                   15.0  \n",
       "3210                   15.0  \n",
       "3211                   15.0  \n",
       "3212                   15.0  \n",
       "3213                   15.0  \n",
       "\n",
       "[3214 rows x 15 columns]"
      ]
     },
     "execution_count": 62,
     "metadata": {},
     "output_type": "execute_result"
    }
   ],
   "source": [
    "user_total = user_total.merge(tariffs, on='tariff', how='left')\n",
    "user_total.drop(['mb_per_month_included'], axis='columns', inplace=True)\n",
    "user_total"
   ]
  },
  {
   "cell_type": "markdown",
   "metadata": {},
   "source": [
    "Получили полную таблицу с информацией об использовании тарифов пользователями, также включающую информацию о лимитах и стоимости смертлимита в рамках тарифов.\n",
    "\n",
    "Далее произведём расчёт необходимых для определения выручки показателей."
   ]
  },
  {
   "cell_type": "markdown",
   "metadata": {},
   "source": [
    "##### Расчёт звонков, сообщений и интернет-трафика сверх лимита пакета тарифа"
   ]
  },
  {
   "cell_type": "markdown",
   "metadata": {},
   "source": [
    "У нас в таблице имеется информация об использовании тарифа пользователем, а также о лимитах использования. Будем добавлять столбцы со значениями сверхлимитного использования."
   ]
  },
  {
   "cell_type": "code",
   "execution_count": 63,
   "metadata": {},
   "outputs": [],
   "source": [
    "# Количество минут разговора сверх лимита\n",
    "user_total['extra_minutes'] = user_total['call_duration'] - user_total['minutes_included']\n",
    "user_total.loc[user_total['extra_minutes'] < 0, 'extra_minutes'] = 0\n",
    "\n",
    "# Количество отправленных сообщений сверх лимита\n",
    "user_total['extra_messages'] = user_total['message_numbers'] - user_total['messages_included']\n",
    "user_total.loc[user_total['extra_messages'] < 0, 'extra_messages'] = 0\n",
    "\n",
    "# Объём использованного трафика сверх лимита\n",
    "user_total['extra_gb'] = user_total['gb_used'] - user_total['gb_per_month_included']\n",
    "user_total.loc[user_total['extra_gb'] < 0, 'extra_gb'] = 0"
   ]
  },
  {
   "cell_type": "markdown",
   "metadata": {},
   "source": [
    "##### Расчёт стоимости сверхлимитных опций"
   ]
  },
  {
   "cell_type": "markdown",
   "metadata": {},
   "source": [
    "Для расчёта сверхлимитных опций умножим их стоимость на сверхлимитные объёмы использования каждой из опций, и просуммируем их."
   ]
  },
  {
   "cell_type": "code",
   "execution_count": 64,
   "metadata": {},
   "outputs": [],
   "source": [
    "user_total['extra_payment'] = (user_total['extra_minutes'] * user_total['rub_per_minute'] +\n",
    "                               user_total['extra_messages'] * user_total['rub_per_message'] +\n",
    "                               user_total['extra_gb'] * user_total['rub_per_gb'])"
   ]
  },
  {
   "cell_type": "markdown",
   "metadata": {},
   "source": [
    "#### Расчёт суммарных затрат потребителя"
   ]
  },
  {
   "cell_type": "markdown",
   "metadata": {},
   "source": [
    "Просуммируем столбцы с абонентской платой и с итоговой стоимостью сверлимитных опций."
   ]
  },
  {
   "cell_type": "code",
   "execution_count": 65,
   "metadata": {},
   "outputs": [],
   "source": [
    "user_total['monthly_total'] = (user_total['rub_monthly_fee'] + user_total['extra_payment']).astype(int)\n",
    "revenue = user_total.pivot_table(index=['user_id', 'month'], values='monthly_total', aggfunc='sum').reset_index()"
   ]
  },
  {
   "cell_type": "markdown",
   "metadata": {},
   "source": [
    "Удалим лишние столбцы с информацией о характеристике тарифов и обработаем значения в итоговой таблице."
   ]
  },
  {
   "cell_type": "code",
   "execution_count": 66,
   "metadata": {},
   "outputs": [],
   "source": [
    "user_total.drop(['messages_included', 'minutes_included', 'rub_monthly_fee', 'rub_per_gb', 'rub_per_message', \n",
    "                 'rub_per_minute', 'gb_per_month_included'], axis='columns', inplace=True)\n",
    "round_int(user_total, 'extra_gb')\n",
    "round_int(user_total, 'extra_payment')"
   ]
  },
  {
   "cell_type": "code",
   "execution_count": 67,
   "metadata": {},
   "outputs": [
    {
     "data": {
      "text/html": [
       "<div>\n",
       "<style scoped>\n",
       "    .dataframe tbody tr th:only-of-type {\n",
       "        vertical-align: middle;\n",
       "    }\n",
       "\n",
       "    .dataframe tbody tr th {\n",
       "        vertical-align: top;\n",
       "    }\n",
       "\n",
       "    .dataframe thead th {\n",
       "        text-align: right;\n",
       "    }\n",
       "</style>\n",
       "<table border=\"1\" class=\"dataframe\">\n",
       "  <thead>\n",
       "    <tr style=\"text-align: right;\">\n",
       "      <th></th>\n",
       "      <th>user_id</th>\n",
       "      <th>month</th>\n",
       "      <th>monthly_total</th>\n",
       "    </tr>\n",
       "  </thead>\n",
       "  <tbody>\n",
       "    <tr>\n",
       "      <th>0</th>\n",
       "      <td>1486</td>\n",
       "      <td>12</td>\n",
       "      <td>6770</td>\n",
       "    </tr>\n",
       "    <tr>\n",
       "      <th>1</th>\n",
       "      <td>1042</td>\n",
       "      <td>12</td>\n",
       "      <td>5709</td>\n",
       "    </tr>\n",
       "    <tr>\n",
       "      <th>2</th>\n",
       "      <td>1486</td>\n",
       "      <td>11</td>\n",
       "      <td>5680</td>\n",
       "    </tr>\n",
       "    <tr>\n",
       "      <th>3</th>\n",
       "      <td>1261</td>\n",
       "      <td>12</td>\n",
       "      <td>5672</td>\n",
       "    </tr>\n",
       "    <tr>\n",
       "      <th>4</th>\n",
       "      <td>1286</td>\n",
       "      <td>12</td>\n",
       "      <td>5321</td>\n",
       "    </tr>\n",
       "    <tr>\n",
       "      <th>5</th>\n",
       "      <td>1159</td>\n",
       "      <td>12</td>\n",
       "      <td>5252</td>\n",
       "    </tr>\n",
       "    <tr>\n",
       "      <th>6</th>\n",
       "      <td>1098</td>\n",
       "      <td>12</td>\n",
       "      <td>5014</td>\n",
       "    </tr>\n",
       "    <tr>\n",
       "      <th>7</th>\n",
       "      <td>1124</td>\n",
       "      <td>10</td>\n",
       "      <td>4800</td>\n",
       "    </tr>\n",
       "    <tr>\n",
       "      <th>8</th>\n",
       "      <td>1261</td>\n",
       "      <td>11</td>\n",
       "      <td>4664</td>\n",
       "    </tr>\n",
       "    <tr>\n",
       "      <th>9</th>\n",
       "      <td>1240</td>\n",
       "      <td>8</td>\n",
       "      <td>4650</td>\n",
       "    </tr>\n",
       "  </tbody>\n",
       "</table>\n",
       "</div>"
      ],
      "text/plain": [
       "   user_id  month  monthly_total\n",
       "0     1486     12           6770\n",
       "1     1042     12           5709\n",
       "2     1486     11           5680\n",
       "3     1261     12           5672\n",
       "4     1286     12           5321\n",
       "5     1159     12           5252\n",
       "6     1098     12           5014\n",
       "7     1124     10           4800\n",
       "8     1261     11           4664\n",
       "9     1240      8           4650"
      ]
     },
     "execution_count": 67,
     "metadata": {},
     "output_type": "execute_result"
    }
   ],
   "source": [
    "# TOP10 пользователей, приносящих высокую выручку компании\n",
    "revenue.sort_values(by='monthly_total', ascending=False).head(10).reset_index(drop=True)"
   ]
  },
  {
   "cell_type": "code",
   "execution_count": 68,
   "metadata": {},
   "outputs": [
    {
     "name": "stdout",
     "output_type": "stream",
     "text": [
      "Суммарная выручка компании \"Мегалайн\" за 2018 год составила 4925751 рублей.\n"
     ]
    }
   ],
   "source": [
    "print('Суммарная выручка компании \"Мегалайн\" за 2018 год составила {} рублей.'.format(revenue['monthly_total'].sum()))"
   ]
  },
  {
   "cell_type": "markdown",
   "metadata": {},
   "source": [
    "### Вывод <a id='step_1.6'></a>"
   ]
  },
  {
   "cell_type": "markdown",
   "metadata": {},
   "source": [
    "У нас имеется 5 таблиц с данными для анализа:\n",
    "- Информация о тарифах: содержит в себе основные параметры тарифов (стоимость; возможности, входящие в пакет; стоимость использования возможностей сверх тарифных пакетов.\n",
    "- Информация о пользователях: содержит данные о возрасте пользователей; фамилии и имени; городе проживания; названии тарифного плана; начале и окончании пользования тарифом.\n",
    "- Информация о звонках: дате и длительности звонка; идентификаторе пользователя.\n",
    "- Информация о сообщениях: дате сообщения; идентификаторе пользователя.\n",
    "- Информация об интернет-сессиях: дате интернет-сессии; объёме потраченного трафика; идентификаторе пользователя.\n",
    "\n",
    "В процессе подготовки данных для анализа был заменён тип данных для столбцов с датами, а также для целочисленных значений. Кроме того, в большую сторону были округлены данные с использованным трафиком и количеством минут разговора.\n",
    "\n",
    "Значительных ошибок в данных выявлено не было. Был обнаружен ошибочный столбец в одной из таблиц, который дублировал номера строк - он был удалён. Кроме того, были обнаружены нулевые значения в данных по количеству минут разговора и количеству использованных мегабайт. С одной стороны, это можно расценивать как ошибку. Однако 0 - это тоже информация о том, что данная опция тарифа не настолько интересна потребителю, как другие опции. Соответственно, было принято решение оставить такие значения в данных.\n",
    "\n",
    "Также были подготовлены пользовательские данные: собрана информация о совершённых звонках и минутах разговора; количестве сообщений; объёме использованного интернет-трафика. Предварительный просмотр таких данных показал, что пользователи, как правило, отдают предпочтение только одной из опций тарифа: либо звонкам, либо сообщениям, либо интернету. Лидеры по использованию одного из направлений не являются лидерами по другим направлениям. После чего была рассчитана ежемесячная выручка компании, приходящаяя от каждого из пользователей. Были выявлены лидеры: максимальная величина, которую компания получила с пользователя за месяц в 2018 году (за декабрь) составила 6 770 рублей. Общая выручка составила 4,9 млн. рублей."
   ]
  },
  {
   "cell_type": "markdown",
   "metadata": {},
   "source": [
    "## Этап 2. Исследовательский и статистический анализ данных <a id='step_2'></a>"
   ]
  },
  {
   "cell_type": "markdown",
   "metadata": {},
   "source": [
    "### Описание поведения клиентов <a id='step_2.1'></a>"
   ]
  },
  {
   "cell_type": "markdown",
   "metadata": {},
   "source": [
    "Из получившейся таблицы со сводными данными по использованию клиентами тарифов сформируем таблицу, необходимую для анализа."
   ]
  },
  {
   "cell_type": "code",
   "execution_count": 69,
   "metadata": {},
   "outputs": [
    {
     "data": {
      "text/html": [
       "<div>\n",
       "<style scoped>\n",
       "    .dataframe tbody tr th:only-of-type {\n",
       "        vertical-align: middle;\n",
       "    }\n",
       "\n",
       "    .dataframe tbody tr th {\n",
       "        vertical-align: top;\n",
       "    }\n",
       "\n",
       "    .dataframe thead th {\n",
       "        text-align: right;\n",
       "    }\n",
       "</style>\n",
       "<table border=\"1\" class=\"dataframe\">\n",
       "  <thead>\n",
       "    <tr style=\"text-align: right;\">\n",
       "      <th></th>\n",
       "      <th>user_id</th>\n",
       "      <th>month</th>\n",
       "      <th>call_duration</th>\n",
       "      <th>message_numbers</th>\n",
       "      <th>gb_used</th>\n",
       "      <th>city</th>\n",
       "      <th>tariff</th>\n",
       "      <th>monthly_total</th>\n",
       "    </tr>\n",
       "  </thead>\n",
       "  <tbody>\n",
       "    <tr>\n",
       "      <th>0</th>\n",
       "      <td>1000</td>\n",
       "      <td>5</td>\n",
       "      <td>159</td>\n",
       "      <td>22</td>\n",
       "      <td>3</td>\n",
       "      <td>Краснодар</td>\n",
       "      <td>ultra</td>\n",
       "      <td>1950</td>\n",
       "    </tr>\n",
       "    <tr>\n",
       "      <th>1</th>\n",
       "      <td>1000</td>\n",
       "      <td>6</td>\n",
       "      <td>172</td>\n",
       "      <td>60</td>\n",
       "      <td>23</td>\n",
       "      <td>Краснодар</td>\n",
       "      <td>ultra</td>\n",
       "      <td>1950</td>\n",
       "    </tr>\n",
       "    <tr>\n",
       "      <th>2</th>\n",
       "      <td>1000</td>\n",
       "      <td>7</td>\n",
       "      <td>340</td>\n",
       "      <td>75</td>\n",
       "      <td>14</td>\n",
       "      <td>Краснодар</td>\n",
       "      <td>ultra</td>\n",
       "      <td>1950</td>\n",
       "    </tr>\n",
       "    <tr>\n",
       "      <th>3</th>\n",
       "      <td>1000</td>\n",
       "      <td>8</td>\n",
       "      <td>408</td>\n",
       "      <td>81</td>\n",
       "      <td>14</td>\n",
       "      <td>Краснодар</td>\n",
       "      <td>ultra</td>\n",
       "      <td>1950</td>\n",
       "    </tr>\n",
       "    <tr>\n",
       "      <th>4</th>\n",
       "      <td>1000</td>\n",
       "      <td>9</td>\n",
       "      <td>466</td>\n",
       "      <td>57</td>\n",
       "      <td>15</td>\n",
       "      <td>Краснодар</td>\n",
       "      <td>ultra</td>\n",
       "      <td>1950</td>\n",
       "    </tr>\n",
       "  </tbody>\n",
       "</table>\n",
       "</div>"
      ],
      "text/plain": [
       "   user_id  month  call_duration  message_numbers  gb_used       city tariff  \\\n",
       "0     1000      5            159               22        3  Краснодар  ultra   \n",
       "1     1000      6            172               60       23  Краснодар  ultra   \n",
       "2     1000      7            340               75       14  Краснодар  ultra   \n",
       "3     1000      8            408               81       14  Краснодар  ultra   \n",
       "4     1000      9            466               57       15  Краснодар  ultra   \n",
       "\n",
       "   monthly_total  \n",
       "0           1950  \n",
       "1           1950  \n",
       "2           1950  \n",
       "3           1950  \n",
       "4           1950  "
      ]
     },
     "execution_count": 69,
     "metadata": {},
     "output_type": "execute_result"
    }
   ],
   "source": [
    "final_total = user_total[['user_id', 'month', 'call_duration', 'message_numbers', 'gb_used', 'city', 'tariff', 'monthly_total']]\n",
    "final_total.head()"
   ]
  },
  {
   "cell_type": "code",
   "execution_count": 70,
   "metadata": {},
   "outputs": [
    {
     "data": {
      "text/html": [
       "<div>\n",
       "<style scoped>\n",
       "    .dataframe tbody tr th:only-of-type {\n",
       "        vertical-align: middle;\n",
       "    }\n",
       "\n",
       "    .dataframe tbody tr th {\n",
       "        vertical-align: top;\n",
       "    }\n",
       "\n",
       "    .dataframe thead th {\n",
       "        text-align: right;\n",
       "    }\n",
       "</style>\n",
       "<table border=\"1\" class=\"dataframe\">\n",
       "  <thead>\n",
       "    <tr style=\"text-align: right;\">\n",
       "      <th></th>\n",
       "      <th>user_id</th>\n",
       "      <th>month</th>\n",
       "      <th>call_duration</th>\n",
       "      <th>message_numbers</th>\n",
       "      <th>gb_used</th>\n",
       "      <th>city</th>\n",
       "      <th>tariff</th>\n",
       "      <th>monthly_total</th>\n",
       "    </tr>\n",
       "  </thead>\n",
       "  <tbody>\n",
       "    <tr>\n",
       "      <th>8</th>\n",
       "      <td>1001</td>\n",
       "      <td>11</td>\n",
       "      <td>430</td>\n",
       "      <td>0</td>\n",
       "      <td>19</td>\n",
       "      <td>Москва</td>\n",
       "      <td>smart</td>\n",
       "      <td>1350</td>\n",
       "    </tr>\n",
       "    <tr>\n",
       "      <th>9</th>\n",
       "      <td>1001</td>\n",
       "      <td>12</td>\n",
       "      <td>414</td>\n",
       "      <td>0</td>\n",
       "      <td>14</td>\n",
       "      <td>Москва</td>\n",
       "      <td>smart</td>\n",
       "      <td>550</td>\n",
       "    </tr>\n",
       "    <tr>\n",
       "      <th>10</th>\n",
       "      <td>1002</td>\n",
       "      <td>6</td>\n",
       "      <td>117</td>\n",
       "      <td>4</td>\n",
       "      <td>11</td>\n",
       "      <td>Стерлитамак</td>\n",
       "      <td>smart</td>\n",
       "      <td>550</td>\n",
       "    </tr>\n",
       "    <tr>\n",
       "      <th>11</th>\n",
       "      <td>1002</td>\n",
       "      <td>7</td>\n",
       "      <td>214</td>\n",
       "      <td>11</td>\n",
       "      <td>18</td>\n",
       "      <td>Стерлитамак</td>\n",
       "      <td>smart</td>\n",
       "      <td>1150</td>\n",
       "    </tr>\n",
       "    <tr>\n",
       "      <th>12</th>\n",
       "      <td>1002</td>\n",
       "      <td>8</td>\n",
       "      <td>289</td>\n",
       "      <td>13</td>\n",
       "      <td>20</td>\n",
       "      <td>Стерлитамак</td>\n",
       "      <td>smart</td>\n",
       "      <td>1550</td>\n",
       "    </tr>\n",
       "  </tbody>\n",
       "</table>\n",
       "</div>"
      ],
      "text/plain": [
       "    user_id  month  call_duration  message_numbers  gb_used         city  \\\n",
       "8      1001     11            430                0       19       Москва   \n",
       "9      1001     12            414                0       14       Москва   \n",
       "10     1002      6            117                4       11  Стерлитамак   \n",
       "11     1002      7            214               11       18  Стерлитамак   \n",
       "12     1002      8            289               13       20  Стерлитамак   \n",
       "\n",
       "   tariff  monthly_total  \n",
       "8   smart           1350  \n",
       "9   smart            550  \n",
       "10  smart            550  \n",
       "11  smart           1150  \n",
       "12  smart           1550  "
      ]
     },
     "execution_count": 70,
     "metadata": {},
     "output_type": "execute_result"
    }
   ],
   "source": [
    "smart_total = final_total.query('tariff == \"smart\"')\n",
    "smart_total.head()"
   ]
  },
  {
   "cell_type": "code",
   "execution_count": 71,
   "metadata": {},
   "outputs": [
    {
     "data": {
      "text/html": [
       "<div>\n",
       "<style scoped>\n",
       "    .dataframe tbody tr th:only-of-type {\n",
       "        vertical-align: middle;\n",
       "    }\n",
       "\n",
       "    .dataframe tbody tr th {\n",
       "        vertical-align: top;\n",
       "    }\n",
       "\n",
       "    .dataframe thead th {\n",
       "        text-align: right;\n",
       "    }\n",
       "</style>\n",
       "<table border=\"1\" class=\"dataframe\">\n",
       "  <thead>\n",
       "    <tr style=\"text-align: right;\">\n",
       "      <th></th>\n",
       "      <th>user_id</th>\n",
       "      <th>month</th>\n",
       "      <th>call_duration</th>\n",
       "      <th>message_numbers</th>\n",
       "      <th>gb_used</th>\n",
       "      <th>monthly_total</th>\n",
       "    </tr>\n",
       "  </thead>\n",
       "  <tbody>\n",
       "    <tr>\n",
       "      <th>count</th>\n",
       "      <td>2229.000000</td>\n",
       "      <td>2229.000000</td>\n",
       "      <td>2229.000000</td>\n",
       "      <td>2229.000000</td>\n",
       "      <td>2229.000000</td>\n",
       "      <td>2229.000000</td>\n",
       "    </tr>\n",
       "    <tr>\n",
       "      <th>mean</th>\n",
       "      <td>1246.506505</td>\n",
       "      <td>8.346792</td>\n",
       "      <td>417.934948</td>\n",
       "      <td>33.384029</td>\n",
       "      <td>16.359354</td>\n",
       "      <td>1294.639300</td>\n",
       "    </tr>\n",
       "    <tr>\n",
       "      <th>std</th>\n",
       "      <td>146.119496</td>\n",
       "      <td>2.920316</td>\n",
       "      <td>190.313730</td>\n",
       "      <td>28.227876</td>\n",
       "      <td>5.758498</td>\n",
       "      <td>820.933202</td>\n",
       "    </tr>\n",
       "    <tr>\n",
       "      <th>min</th>\n",
       "      <td>1001.000000</td>\n",
       "      <td>1.000000</td>\n",
       "      <td>0.000000</td>\n",
       "      <td>0.000000</td>\n",
       "      <td>0.000000</td>\n",
       "      <td>550.000000</td>\n",
       "    </tr>\n",
       "    <tr>\n",
       "      <th>25%</th>\n",
       "      <td>1121.000000</td>\n",
       "      <td>6.000000</td>\n",
       "      <td>282.000000</td>\n",
       "      <td>10.000000</td>\n",
       "      <td>13.000000</td>\n",
       "      <td>550.000000</td>\n",
       "    </tr>\n",
       "    <tr>\n",
       "      <th>50%</th>\n",
       "      <td>1239.000000</td>\n",
       "      <td>9.000000</td>\n",
       "      <td>422.000000</td>\n",
       "      <td>28.000000</td>\n",
       "      <td>17.000000</td>\n",
       "      <td>1038.000000</td>\n",
       "    </tr>\n",
       "    <tr>\n",
       "      <th>75%</th>\n",
       "      <td>1376.000000</td>\n",
       "      <td>11.000000</td>\n",
       "      <td>545.000000</td>\n",
       "      <td>51.000000</td>\n",
       "      <td>20.000000</td>\n",
       "      <td>1750.000000</td>\n",
       "    </tr>\n",
       "    <tr>\n",
       "      <th>max</th>\n",
       "      <td>1499.000000</td>\n",
       "      <td>12.000000</td>\n",
       "      <td>1435.000000</td>\n",
       "      <td>143.000000</td>\n",
       "      <td>38.000000</td>\n",
       "      <td>6770.000000</td>\n",
       "    </tr>\n",
       "  </tbody>\n",
       "</table>\n",
       "</div>"
      ],
      "text/plain": [
       "           user_id        month  call_duration  message_numbers      gb_used  \\\n",
       "count  2229.000000  2229.000000    2229.000000      2229.000000  2229.000000   \n",
       "mean   1246.506505     8.346792     417.934948        33.384029    16.359354   \n",
       "std     146.119496     2.920316     190.313730        28.227876     5.758498   \n",
       "min    1001.000000     1.000000       0.000000         0.000000     0.000000   \n",
       "25%    1121.000000     6.000000     282.000000        10.000000    13.000000   \n",
       "50%    1239.000000     9.000000     422.000000        28.000000    17.000000   \n",
       "75%    1376.000000    11.000000     545.000000        51.000000    20.000000   \n",
       "max    1499.000000    12.000000    1435.000000       143.000000    38.000000   \n",
       "\n",
       "       monthly_total  \n",
       "count    2229.000000  \n",
       "mean     1294.639300  \n",
       "std       820.933202  \n",
       "min       550.000000  \n",
       "25%       550.000000  \n",
       "50%      1038.000000  \n",
       "75%      1750.000000  \n",
       "max      6770.000000  "
      ]
     },
     "execution_count": 71,
     "metadata": {},
     "output_type": "execute_result"
    }
   ],
   "source": [
    "smart_total.describe()"
   ]
  },
  {
   "cell_type": "markdown",
   "metadata": {},
   "source": [
    "Для тарифа \"Смарт\" ежемесячная длительность разговоров изменялась с января по декабрь 2018 года в пределах от 0 минут до 1 435 минут (45-50 минут в день) с медианным значением 422 минуты (около 14 минут в день); количество используемого интернет-трафика колебалось от 0Гб до 38гб с медианным значением 17Гб; количество отправленных сообщений - с 0 до 143 сообщений с медианным значением 28 сообщений."
   ]
  },
  {
   "cell_type": "code",
   "execution_count": 72,
   "metadata": {},
   "outputs": [
    {
     "data": {
      "text/html": [
       "<div>\n",
       "<style scoped>\n",
       "    .dataframe tbody tr th:only-of-type {\n",
       "        vertical-align: middle;\n",
       "    }\n",
       "\n",
       "    .dataframe tbody tr th {\n",
       "        vertical-align: top;\n",
       "    }\n",
       "\n",
       "    .dataframe thead th {\n",
       "        text-align: right;\n",
       "    }\n",
       "</style>\n",
       "<table border=\"1\" class=\"dataframe\">\n",
       "  <thead>\n",
       "    <tr style=\"text-align: right;\">\n",
       "      <th></th>\n",
       "      <th>user_id</th>\n",
       "      <th>month</th>\n",
       "      <th>call_duration</th>\n",
       "      <th>message_numbers</th>\n",
       "      <th>gb_used</th>\n",
       "      <th>city</th>\n",
       "      <th>tariff</th>\n",
       "      <th>monthly_total</th>\n",
       "    </tr>\n",
       "  </thead>\n",
       "  <tbody>\n",
       "    <tr>\n",
       "      <th>0</th>\n",
       "      <td>1000</td>\n",
       "      <td>5</td>\n",
       "      <td>159</td>\n",
       "      <td>22</td>\n",
       "      <td>3</td>\n",
       "      <td>Краснодар</td>\n",
       "      <td>ultra</td>\n",
       "      <td>1950</td>\n",
       "    </tr>\n",
       "    <tr>\n",
       "      <th>1</th>\n",
       "      <td>1000</td>\n",
       "      <td>6</td>\n",
       "      <td>172</td>\n",
       "      <td>60</td>\n",
       "      <td>23</td>\n",
       "      <td>Краснодар</td>\n",
       "      <td>ultra</td>\n",
       "      <td>1950</td>\n",
       "    </tr>\n",
       "    <tr>\n",
       "      <th>2</th>\n",
       "      <td>1000</td>\n",
       "      <td>7</td>\n",
       "      <td>340</td>\n",
       "      <td>75</td>\n",
       "      <td>14</td>\n",
       "      <td>Краснодар</td>\n",
       "      <td>ultra</td>\n",
       "      <td>1950</td>\n",
       "    </tr>\n",
       "    <tr>\n",
       "      <th>3</th>\n",
       "      <td>1000</td>\n",
       "      <td>8</td>\n",
       "      <td>408</td>\n",
       "      <td>81</td>\n",
       "      <td>14</td>\n",
       "      <td>Краснодар</td>\n",
       "      <td>ultra</td>\n",
       "      <td>1950</td>\n",
       "    </tr>\n",
       "    <tr>\n",
       "      <th>4</th>\n",
       "      <td>1000</td>\n",
       "      <td>9</td>\n",
       "      <td>466</td>\n",
       "      <td>57</td>\n",
       "      <td>15</td>\n",
       "      <td>Краснодар</td>\n",
       "      <td>ultra</td>\n",
       "      <td>1950</td>\n",
       "    </tr>\n",
       "  </tbody>\n",
       "</table>\n",
       "</div>"
      ],
      "text/plain": [
       "   user_id  month  call_duration  message_numbers  gb_used       city tariff  \\\n",
       "0     1000      5            159               22        3  Краснодар  ultra   \n",
       "1     1000      6            172               60       23  Краснодар  ultra   \n",
       "2     1000      7            340               75       14  Краснодар  ultra   \n",
       "3     1000      8            408               81       14  Краснодар  ultra   \n",
       "4     1000      9            466               57       15  Краснодар  ultra   \n",
       "\n",
       "   monthly_total  \n",
       "0           1950  \n",
       "1           1950  \n",
       "2           1950  \n",
       "3           1950  \n",
       "4           1950  "
      ]
     },
     "execution_count": 72,
     "metadata": {},
     "output_type": "execute_result"
    }
   ],
   "source": [
    "ultra_total = final_total.query('tariff == \"ultra\"')\n",
    "ultra_total.head()"
   ]
  },
  {
   "cell_type": "code",
   "execution_count": 73,
   "metadata": {},
   "outputs": [
    {
     "data": {
      "text/html": [
       "<div>\n",
       "<style scoped>\n",
       "    .dataframe tbody tr th:only-of-type {\n",
       "        vertical-align: middle;\n",
       "    }\n",
       "\n",
       "    .dataframe tbody tr th {\n",
       "        vertical-align: top;\n",
       "    }\n",
       "\n",
       "    .dataframe thead th {\n",
       "        text-align: right;\n",
       "    }\n",
       "</style>\n",
       "<table border=\"1\" class=\"dataframe\">\n",
       "  <thead>\n",
       "    <tr style=\"text-align: right;\">\n",
       "      <th></th>\n",
       "      <th>user_id</th>\n",
       "      <th>month</th>\n",
       "      <th>call_duration</th>\n",
       "      <th>message_numbers</th>\n",
       "      <th>gb_used</th>\n",
       "      <th>monthly_total</th>\n",
       "    </tr>\n",
       "  </thead>\n",
       "  <tbody>\n",
       "    <tr>\n",
       "      <th>count</th>\n",
       "      <td>985.000000</td>\n",
       "      <td>985.000000</td>\n",
       "      <td>985.000000</td>\n",
       "      <td>985.000000</td>\n",
       "      <td>985.000000</td>\n",
       "      <td>985.000000</td>\n",
       "    </tr>\n",
       "    <tr>\n",
       "      <th>mean</th>\n",
       "      <td>1263.094416</td>\n",
       "      <td>8.250761</td>\n",
       "      <td>526.623350</td>\n",
       "      <td>49.363452</td>\n",
       "      <td>19.525888</td>\n",
       "      <td>2071.065990</td>\n",
       "    </tr>\n",
       "    <tr>\n",
       "      <th>std</th>\n",
       "      <td>140.694908</td>\n",
       "      <td>2.871762</td>\n",
       "      <td>317.606098</td>\n",
       "      <td>47.804457</td>\n",
       "      <td>9.865848</td>\n",
       "      <td>378.802377</td>\n",
       "    </tr>\n",
       "    <tr>\n",
       "      <th>min</th>\n",
       "      <td>1000.000000</td>\n",
       "      <td>1.000000</td>\n",
       "      <td>0.000000</td>\n",
       "      <td>0.000000</td>\n",
       "      <td>0.000000</td>\n",
       "      <td>1950.000000</td>\n",
       "    </tr>\n",
       "    <tr>\n",
       "      <th>25%</th>\n",
       "      <td>1143.000000</td>\n",
       "      <td>6.000000</td>\n",
       "      <td>284.000000</td>\n",
       "      <td>6.000000</td>\n",
       "      <td>12.000000</td>\n",
       "      <td>1950.000000</td>\n",
       "    </tr>\n",
       "    <tr>\n",
       "      <th>50%</th>\n",
       "      <td>1277.000000</td>\n",
       "      <td>9.000000</td>\n",
       "      <td>518.000000</td>\n",
       "      <td>38.000000</td>\n",
       "      <td>19.000000</td>\n",
       "      <td>1950.000000</td>\n",
       "    </tr>\n",
       "    <tr>\n",
       "      <th>75%</th>\n",
       "      <td>1381.000000</td>\n",
       "      <td>11.000000</td>\n",
       "      <td>752.000000</td>\n",
       "      <td>79.000000</td>\n",
       "      <td>27.000000</td>\n",
       "      <td>1950.000000</td>\n",
       "    </tr>\n",
       "    <tr>\n",
       "      <th>max</th>\n",
       "      <td>1495.000000</td>\n",
       "      <td>12.000000</td>\n",
       "      <td>1673.000000</td>\n",
       "      <td>224.000000</td>\n",
       "      <td>49.000000</td>\n",
       "      <td>4800.000000</td>\n",
       "    </tr>\n",
       "  </tbody>\n",
       "</table>\n",
       "</div>"
      ],
      "text/plain": [
       "           user_id       month  call_duration  message_numbers     gb_used  \\\n",
       "count   985.000000  985.000000     985.000000       985.000000  985.000000   \n",
       "mean   1263.094416    8.250761     526.623350        49.363452   19.525888   \n",
       "std     140.694908    2.871762     317.606098        47.804457    9.865848   \n",
       "min    1000.000000    1.000000       0.000000         0.000000    0.000000   \n",
       "25%    1143.000000    6.000000     284.000000         6.000000   12.000000   \n",
       "50%    1277.000000    9.000000     518.000000        38.000000   19.000000   \n",
       "75%    1381.000000   11.000000     752.000000        79.000000   27.000000   \n",
       "max    1495.000000   12.000000    1673.000000       224.000000   49.000000   \n",
       "\n",
       "       monthly_total  \n",
       "count     985.000000  \n",
       "mean     2071.065990  \n",
       "std       378.802377  \n",
       "min      1950.000000  \n",
       "25%      1950.000000  \n",
       "50%      1950.000000  \n",
       "75%      1950.000000  \n",
       "max      4800.000000  "
      ]
     },
     "execution_count": 73,
     "metadata": {},
     "output_type": "execute_result"
    }
   ],
   "source": [
    "ultra_total.describe()"
   ]
  },
  {
   "cell_type": "markdown",
   "metadata": {},
   "source": [
    "Для тарифа \"Ультра\" ежемесячная длительность разговоров с января по декабрь 2018 года колебалась в диапазоне от 0 минут до 1 673 минут (65-66 минут в день) с медианным значением 518 минут (около 17 минут в день); количество используемого интернет-трафика - от 0Гб до 49Гб с медианным значением 19Гб; количество отправленных сообщений - с 0 до 224 сообщений с медианным значением 38 сообщений."
   ]
  },
  {
   "cell_type": "code",
   "execution_count": 74,
   "metadata": {},
   "outputs": [],
   "source": [
    "smart_pivot = smart_total.pivot_table(index='month',\n",
    "                                      values=['call_duration', 'message_numbers', 'gb_used', 'monthly_total'],\n",
    "                                      aggfunc='mean').reset_index()\n",
    "ultra_pivot = ultra_total.pivot_table(index='month',\n",
    "                                      values=['call_duration', 'message_numbers', 'gb_used', 'monthly_total'],\n",
    "                                      aggfunc='mean').reset_index()"
   ]
  },
  {
   "cell_type": "code",
   "execution_count": 75,
   "metadata": {},
   "outputs": [],
   "source": [
    "# Функция для построения сравнительных графиков\n",
    "def compare_plot(title, ylabel, column):\n",
    "    fig, ax = plt.subplots()\n",
    "    ax.set(title=title+' тарифов Смарт и Ультра за 2018 год',\n",
    "           xlabel='месяц',\n",
    "           ylabel=ylabel)\n",
    "    ax.plot(smart_pivot['month'], smart_pivot[column], 'o-', label='Smart')\n",
    "    ax.plot(ultra_pivot['month'], ultra_pivot[column], 'o-', label='Ultra')\n",
    "    ax.grid=True\n",
    "    ax.legend(frameon=False)\n",
    "    plt.show()"
   ]
  },
  {
   "cell_type": "markdown",
   "metadata": {},
   "source": [
    "Сравним ежемесячное среднее значение для пользователей по количеству минут разговора в рамках анализируемых тарифов."
   ]
  },
  {
   "cell_type": "code",
   "execution_count": 76,
   "metadata": {},
   "outputs": [
    {
     "data": {
      "image/png": "[encoded data removed]",
      "text/plain": [
       "<Figure size 432x288 with 1 Axes>"
      ]
     },
     "metadata": {
      "needs_background": "light"
     },
     "output_type": "display_data"
    }
   ],
   "source": [
    "compare_plot('Среднемесячная длительность разговора потребителей',\n",
    "             'длительность разговора (минут)',\n",
    "             'call_duration')"
   ]
  },
  {
   "cell_type": "markdown",
   "metadata": {},
   "source": [
    "Наблюдаем следующие тенденции. С января по декабрь для обоих тарифов наблюдался рост длительности разговора потребителей для обоих тарифов. Кроме того, в каждом из месяцев длительность разговора потребителей на тарифе \"Ультра\" превышала аналогичный показатель на тарифе \"Смарт\". Исключение составляет только февраль. Но это значение по тарифу \"Смарт\" сильно выбивается - с ним явно какие-то проблемы (проблемы с исходными данными)."
   ]
  },
  {
   "cell_type": "markdown",
   "metadata": {},
   "source": [
    "Сравним ежемесячное среднее значение для пользователей по количеству сообщений в рамках анализируемых тарифов."
   ]
  },
  {
   "cell_type": "code",
   "execution_count": 77,
   "metadata": {},
   "outputs": [
    {
     "data": {
      "image/png": "[encoded data removed]",
      "text/plain": [
       "<Figure size 432x288 with 1 Axes>"
      ]
     },
     "metadata": {
      "needs_background": "light"
     },
     "output_type": "display_data"
    }
   ],
   "source": [
    "compare_plot('Среднемесячное количество отправленных сообщений для потребителей',\n",
    "             'количество сообщений',\n",
    "             'message_numbers')"
   ]
  },
  {
   "cell_type": "markdown",
   "metadata": {},
   "source": [
    "Наблюдаем следующие тенденции. С января по декабрь для обоих тарифов наблюдался рост количества отправляемых сообщений у потребителей для обоих тарифов. Причём для тарифа \"Ультра\" он более явный. Для тарифа \"Смарт\" характерно увеличение до апреля-мая, а далее значение колебалось возле установившегося среднего уровня. Если сравнивать тарифы между собой, в феврале количество сообщений на тарифе \"Смарт\" превышало показатель тарифа \"Ультра\", в марте-апреле они были практически равны, затем ситуация изменилась: покзатель тарифа \"Смарт\" прекратил рост на установившейся отметке, а показатель по тарифу \"Ультра\" продолжил расти и превзошёл тариф \"Смарт\"."
   ]
  },
  {
   "cell_type": "markdown",
   "metadata": {},
   "source": [
    "Сравним ежемесячный средний объём интернет-трафика, потребляемый пользователями, в рамках анализируемых тарифов."
   ]
  },
  {
   "cell_type": "code",
   "execution_count": 78,
   "metadata": {},
   "outputs": [
    {
     "data": {
      "image/png": "[encoded data removed]",
      "text/plain": [
       "<Figure size 432x288 with 1 Axes>"
      ]
     },
     "metadata": {
      "needs_background": "light"
     },
     "output_type": "display_data"
    }
   ],
   "source": [
    "compare_plot('Среднемесячный объём интернет-трафика, потребляемый пользователями',\n",
    "             'объём интернет-трафика (Гб)',\n",
    "             'gb_used')"
   ]
  },
  {
   "cell_type": "markdown",
   "metadata": {},
   "source": [
    "Для интернет-трафика наблюдаются те же тенденции, что и для длительности звонков. И снова наблюдаются странные выбивающиеся значения для февраля по тарифу \"Ультра\"."
   ]
  },
  {
   "cell_type": "markdown",
   "metadata": {},
   "source": [
    "Сравним ежемесячную выручку от пользователей различных тарифов."
   ]
  },
  {
   "cell_type": "code",
   "execution_count": 79,
   "metadata": {},
   "outputs": [
    {
     "data": {
      "image/png": "[encoded data removed]",
      "text/plain": [
       "<Figure size 432x288 with 1 Axes>"
      ]
     },
     "metadata": {
      "needs_background": "light"
     },
     "output_type": "display_data"
    }
   ],
   "source": [
    "compare_plot('Среднемесячная выручка, получаемая пользователями',\n",
    "             'выручка (руб)',\n",
    "             'monthly_total')"
   ]
  },
  {
   "cell_type": "markdown",
   "metadata": {},
   "source": [
    "Получили незначительно колеблющееся значение выручки для тарифа \"Ультра\" на уровне около 2 000 рублей; и растущее значение для тарифа \"Смарт\" с небольшим падением в апреле. Однако значения по тарифу \"Ультра\" в несколько раз превосходит значения для тарифа \"Смарт\". Это связано с очень большим значением абонентской платы для тарифа \"Ультра\" с очень большими лимитами, в которые \"укладывается\" за месяц значительное число клиентов."
   ]
  },
  {
   "cell_type": "markdown",
   "metadata": {},
   "source": [
    "### Расчёт статистических показателей модели <a id='step_2.2'></a>"
   ]
  },
  {
   "cell_type": "markdown",
   "metadata": {},
   "source": [
    "Рассчитаем для каждого из тарифов статистические показатели: среднее значение, дисперсию и стандартное отклонение."
   ]
  },
  {
   "cell_type": "code",
   "execution_count": 80,
   "metadata": {},
   "outputs": [
    {
     "data": {
      "text/plain": [
       "user_id            1246.506505\n",
       "month                 8.346792\n",
       "call_duration       417.934948\n",
       "message_numbers      33.384029\n",
       "gb_used              16.359354\n",
       "monthly_total      1294.639300\n",
       "dtype: float64"
      ]
     },
     "execution_count": 80,
     "metadata": {},
     "output_type": "execute_result"
    }
   ],
   "source": [
    "# Средние значения для тарифа \"Смарт\"\n",
    "smart_mean = smart_total.mean()\n",
    "smart_mean"
   ]
  },
  {
   "cell_type": "code",
   "execution_count": 81,
   "metadata": {},
   "outputs": [
    {
     "data": {
      "text/plain": [
       "user_id             21350.907161\n",
       "month                   8.528245\n",
       "call_duration       36219.315784\n",
       "message_numbers       796.812958\n",
       "gb_used                33.160304\n",
       "monthly_total      673931.321363\n",
       "dtype: float64"
      ]
     },
     "execution_count": 81,
     "metadata": {},
     "output_type": "execute_result"
    }
   ],
   "source": [
    "# Дисперсия для тарифа \"Смарт\"\n",
    "smart_variation = np.var(smart_total, ddof=1)\n",
    "smart_variation"
   ]
  },
  {
   "cell_type": "code",
   "execution_count": 82,
   "metadata": {},
   "outputs": [
    {
     "data": {
      "text/plain": [
       "user_id            146.119496\n",
       "month                2.920316\n",
       "call_duration      190.313730\n",
       "message_numbers     28.227876\n",
       "gb_used              5.758498\n",
       "monthly_total      820.933202\n",
       "dtype: float64"
      ]
     },
     "execution_count": 82,
     "metadata": {},
     "output_type": "execute_result"
    }
   ],
   "source": [
    "# Стандартное отклонение для тарифа \"Смарт\"\n",
    "smart_std_dev = np.std(smart_total, ddof=1)\n",
    "smart_std_dev"
   ]
  },
  {
   "cell_type": "markdown",
   "metadata": {},
   "source": [
    "Расчитаем промежуток, в котором находится 99% значений по правилу трёх сигм в тарифе \"Смарт\"."
   ]
  },
  {
   "cell_type": "code",
   "execution_count": 83,
   "metadata": {},
   "outputs": [
    {
     "name": "stdout",
     "output_type": "stream",
     "text": [
      "Длительность звонков для пользователей тарифа \"Смарт\" лежит в промежутке от 0 до 989 минут.\n",
      "Объём использованного интернет-трафика для пользователей тарифа \"Смарт\" лежит в промежутке от 0 до 34       Гигабайт.\n",
      "Количество отправленных сообщений для пользователей тарифа \"Смарт\" лежит в промежутке от 0 до 118 сообщений.\n"
     ]
    }
   ],
   "source": [
    "# Длительность звонка\n",
    "smart_call_dur_min = max(0, smart_mean['call_duration'] - 3 * smart_std_dev['call_duration'])\n",
    "smart_call_dur_max = smart_mean['call_duration'] + 3 * smart_std_dev['call_duration']\n",
    "print('Длительность звонков для пользователей тарифа \"Смарт\" лежит в промежутке от {:.0f} до {:.0f} минут.'\n",
    "      .format(smart_call_dur_min, smart_call_dur_max))\n",
    "\n",
    "# Объём интернет-трафика\n",
    "smart_gb_used_min = max(0, smart_mean['gb_used'] - 3 * smart_std_dev['gb_used'])\n",
    "smart_gb_used_max = smart_mean['gb_used'] + 3 * smart_std_dev['gb_used']\n",
    "print('Объём использованного интернет-трафика для пользователей тарифа \"Смарт\" лежит в промежутке от {:.0f} до {:.0f} \\\n",
    "      Гигабайт.'.format(smart_gb_used_min, smart_gb_used_max))\n",
    "\n",
    "# Количество сообщений\n",
    "smart_message_num_min = max(0, smart_mean['message_numbers'] - 3 * smart_std_dev['message_numbers'])\n",
    "smart_message_num_max = smart_mean['message_numbers'] + 3 * smart_std_dev['message_numbers']\n",
    "print('Количество отправленных сообщений для пользователей тарифа \"Смарт\" лежит в промежутке от {:.0f} до {:.0f} сообщений.'\n",
    "      .format(smart_message_num_min, smart_message_num_max))"
   ]
  },
  {
   "cell_type": "code",
   "execution_count": 84,
   "metadata": {},
   "outputs": [
    {
     "data": {
      "text/plain": [
       "user_id            1263.094416\n",
       "month                 8.250761\n",
       "call_duration       526.623350\n",
       "message_numbers      49.363452\n",
       "gb_used              19.525888\n",
       "monthly_total      2071.065990\n",
       "dtype: float64"
      ]
     },
     "execution_count": 84,
     "metadata": {},
     "output_type": "execute_result"
    }
   ],
   "source": [
    "# Средние значения для тарифа \"Ультра\"\n",
    "ultra_mean = ultra_total.mean()\n",
    "ultra_mean"
   ]
  },
  {
   "cell_type": "code",
   "execution_count": 85,
   "metadata": {},
   "outputs": [
    {
     "data": {
      "text/plain": [
       "user_id             19795.057133\n",
       "month                   8.247014\n",
       "call_duration      100873.633397\n",
       "message_numbers      2285.266143\n",
       "gb_used                97.334949\n",
       "monthly_total      143491.240560\n",
       "dtype: float64"
      ]
     },
     "execution_count": 85,
     "metadata": {},
     "output_type": "execute_result"
    }
   ],
   "source": [
    "# Дисперсия для тарифа \"Ультра\"\n",
    "ultra_variation = np.var(ultra_total, ddof=1)\n",
    "ultra_variation"
   ]
  },
  {
   "cell_type": "code",
   "execution_count": 86,
   "metadata": {},
   "outputs": [
    {
     "data": {
      "text/plain": [
       "user_id            140.694908\n",
       "month                2.871762\n",
       "call_duration      317.606098\n",
       "message_numbers     47.804457\n",
       "gb_used              9.865848\n",
       "monthly_total      378.802377\n",
       "dtype: float64"
      ]
     },
     "execution_count": 86,
     "metadata": {},
     "output_type": "execute_result"
    }
   ],
   "source": [
    "# Стандартное отклонение для тарифа \"Ультра\"\n",
    "ultra_std_dev = np.std(ultra_total, ddof=1)\n",
    "ultra_std_dev"
   ]
  },
  {
   "cell_type": "markdown",
   "metadata": {},
   "source": [
    "Расчитаем промежуток, в котором находится 99% значений по правилу трёх сигм в тарифе \"Ультра\"."
   ]
  },
  {
   "cell_type": "code",
   "execution_count": 87,
   "metadata": {},
   "outputs": [
    {
     "name": "stdout",
     "output_type": "stream",
     "text": [
      "Длительность звонков для пользователей тарифа \"Ультра\" лежит в промежутке от 0 до 1479 минут.\n",
      "Объём использованного интернет-трафика для пользователей тарифа \"Ультра\" лежит в промежутке от 0 до 49       Гигабайт.\n",
      "Количество отправленных сообщений для пользователей тарифа \"Ультра\" лежит в промежутке от 0 до 193 сообщений.\n"
     ]
    }
   ],
   "source": [
    "# Длительность звонка\n",
    "ultra_call_dur_min = max(0, ultra_mean['call_duration'] - 3 * ultra_std_dev['call_duration'])\n",
    "ultra_call_dur_max = ultra_mean['call_duration'] + 3 * ultra_std_dev['call_duration']\n",
    "print('Длительность звонков для пользователей тарифа \"Ультра\" лежит в промежутке от {:.0f} до {:.0f} минут.'\n",
    "      .format(ultra_call_dur_min, ultra_call_dur_max))\n",
    "\n",
    "# Объём интернет-трафика\n",
    "ultra_gb_used_min = max(0, ultra_mean['gb_used'] - 3 * ultra_std_dev['gb_used'])\n",
    "ultra_gb_used_max = ultra_mean['gb_used'] + 3 * ultra_std_dev['gb_used']\n",
    "print('Объём использованного интернет-трафика для пользователей тарифа \"Ультра\" лежит в промежутке от {:.0f} до {:.0f} \\\n",
    "      Гигабайт.'.format(ultra_gb_used_min, ultra_gb_used_max))\n",
    "\n",
    "# Количество сообщений\n",
    "ultra_message_num_min = max(0, (ultra_mean['message_numbers'] - 3 * ultra_std_dev['message_numbers']))\n",
    "ultra_message_num_max = ultra_mean['message_numbers'] + 3 * ultra_std_dev['message_numbers']\n",
    "print('Количество отправленных сообщений для пользователей тарифа \"Ультра\" лежит в промежутке от {:.0f} до {:.0f} сообщений.'\n",
    "      .format(ultra_message_num_min, ultra_message_num_max))"
   ]
  },
  {
   "cell_type": "markdown",
   "metadata": {},
   "source": [
    "Большинство значений длительности звонков для тарифа \"Смарт\" составило от 0 до 989 минут; а для тарифа \"Ультра\" - от 0 до 1479 минут. Большинство значений объёма использования интернет-трафика для тарифа \"Смарт\" составило от 0 до 34 гигабайт; а для тарифа \"Ультра\" - от 0 до 49 гигабайт. Это очень близкие значения. Большинство значений количества отправленных сообщений для тарифа \"Смарт\" составило от 0 до 118 сообщений; а для тарифа \"Ультра\" - от 0 до 193 сообщений. Построим гистограммы."
   ]
  },
  {
   "cell_type": "markdown",
   "metadata": {},
   "source": [
    "Для наглядности соберём полученные значения в общую таблицу."
   ]
  },
  {
   "cell_type": "code",
   "execution_count": 88,
   "metadata": {},
   "outputs": [
    {
     "data": {
      "text/html": [
       "<div>\n",
       "<style scoped>\n",
       "    .dataframe tbody tr th:only-of-type {\n",
       "        vertical-align: middle;\n",
       "    }\n",
       "\n",
       "    .dataframe tbody tr th {\n",
       "        vertical-align: top;\n",
       "    }\n",
       "\n",
       "    .dataframe thead th {\n",
       "        text-align: right;\n",
       "    }\n",
       "</style>\n",
       "<table border=\"1\" class=\"dataframe\">\n",
       "  <thead>\n",
       "    <tr style=\"text-align: right;\">\n",
       "      <th></th>\n",
       "      <th>Smart</th>\n",
       "      <th>Ultra</th>\n",
       "    </tr>\n",
       "    <tr>\n",
       "      <th>stat_value</th>\n",
       "      <th></th>\n",
       "      <th></th>\n",
       "    </tr>\n",
       "  </thead>\n",
       "  <tbody>\n",
       "    <tr>\n",
       "      <th>CALLS_minimum_minutes</th>\n",
       "      <td>0</td>\n",
       "      <td>0</td>\n",
       "    </tr>\n",
       "    <tr>\n",
       "      <th>CALLS_mean_minutes</th>\n",
       "      <td>418</td>\n",
       "      <td>527</td>\n",
       "    </tr>\n",
       "    <tr>\n",
       "      <th>CALLS_maximum_minutes</th>\n",
       "      <td>989</td>\n",
       "      <td>1479</td>\n",
       "    </tr>\n",
       "    <tr>\n",
       "      <th>CALLS_variation</th>\n",
       "      <td>36219</td>\n",
       "      <td>100874</td>\n",
       "    </tr>\n",
       "    <tr>\n",
       "      <th>CALLS_std_deviation</th>\n",
       "      <td>190</td>\n",
       "      <td>318</td>\n",
       "    </tr>\n",
       "    <tr>\n",
       "      <th>INTERNET_minimum_gb</th>\n",
       "      <td>0</td>\n",
       "      <td>0</td>\n",
       "    </tr>\n",
       "    <tr>\n",
       "      <th>INTERNET_mean_gb</th>\n",
       "      <td>16</td>\n",
       "      <td>20</td>\n",
       "    </tr>\n",
       "    <tr>\n",
       "      <th>INTERNET_maximum_gb</th>\n",
       "      <td>34</td>\n",
       "      <td>49</td>\n",
       "    </tr>\n",
       "    <tr>\n",
       "      <th>INTERNET_variation</th>\n",
       "      <td>33</td>\n",
       "      <td>97</td>\n",
       "    </tr>\n",
       "    <tr>\n",
       "      <th>INTERNET_std_deviation</th>\n",
       "      <td>6</td>\n",
       "      <td>10</td>\n",
       "    </tr>\n",
       "    <tr>\n",
       "      <th>MESSAGES_minimum</th>\n",
       "      <td>0</td>\n",
       "      <td>0</td>\n",
       "    </tr>\n",
       "    <tr>\n",
       "      <th>MESSAGES_mean</th>\n",
       "      <td>33</td>\n",
       "      <td>49</td>\n",
       "    </tr>\n",
       "    <tr>\n",
       "      <th>MESSAGES_maximum</th>\n",
       "      <td>118</td>\n",
       "      <td>193</td>\n",
       "    </tr>\n",
       "    <tr>\n",
       "      <th>MESSAGES_variation</th>\n",
       "      <td>797</td>\n",
       "      <td>2285</td>\n",
       "    </tr>\n",
       "    <tr>\n",
       "      <th>MESSAGES_std_deviation</th>\n",
       "      <td>28</td>\n",
       "      <td>48</td>\n",
       "    </tr>\n",
       "  </tbody>\n",
       "</table>\n",
       "</div>"
      ],
      "text/plain": [
       "                        Smart   Ultra\n",
       "stat_value                           \n",
       "CALLS_minimum_minutes       0       0\n",
       "CALLS_mean_minutes        418     527\n",
       "CALLS_maximum_minutes     989    1479\n",
       "CALLS_variation         36219  100874\n",
       "CALLS_std_deviation       190     318\n",
       "INTERNET_minimum_gb         0       0\n",
       "INTERNET_mean_gb           16      20\n",
       "INTERNET_maximum_gb        34      49\n",
       "INTERNET_variation         33      97\n",
       "INTERNET_std_deviation      6      10\n",
       "MESSAGES_minimum            0       0\n",
       "MESSAGES_mean              33      49\n",
       "MESSAGES_maximum          118     193\n",
       "MESSAGES_variation        797    2285\n",
       "MESSAGES_std_deviation     28      48"
      ]
     },
     "execution_count": 88,
     "metadata": {},
     "output_type": "execute_result"
    }
   ],
   "source": [
    "stat_values = pd.DataFrame({'stat_value': ['CALLS_minimum_minutes', 'CALLS_mean_minutes', 'CALLS_maximum_minutes',\n",
    "                                           'CALLS_variation', 'CALLS_std_deviation', 'INTERNET_minimum_gb',\n",
    "                                           'INTERNET_mean_gb', 'INTERNET_maximum_gb', 'INTERNET_variation',\n",
    "                                           'INTERNET_std_deviation', 'MESSAGES_minimum', 'MESSAGES_mean',\n",
    "                                           'MESSAGES_maximum', 'MESSAGES_variation', 'MESSAGES_std_deviation'],\n",
    "                            'Smart': [smart_call_dur_min, smart_mean['call_duration'], smart_call_dur_max,\n",
    "                                      smart_variation['call_duration'], smart_std_dev['call_duration'],\n",
    "                                      smart_gb_used_min, smart_mean['gb_used'], smart_gb_used_max,\n",
    "                                      smart_variation['gb_used'], smart_std_dev['gb_used'],\n",
    "                                      smart_message_num_min, smart_mean['message_numbers'], smart_message_num_max,\n",
    "                                      smart_variation['message_numbers'], smart_std_dev['message_numbers']],\n",
    "                            'Ultra': [ultra_call_dur_min, ultra_mean['call_duration'], ultra_call_dur_max,\n",
    "                                      ultra_variation['call_duration'], ultra_std_dev['call_duration'],\n",
    "                                      ultra_gb_used_min, ultra_mean['gb_used'], ultra_gb_used_max,\n",
    "                                      ultra_variation['gb_used'], ultra_std_dev['gb_used'],\n",
    "                                      ultra_message_num_min, ultra_mean['message_numbers'], ultra_message_num_max,\n",
    "                                      ultra_variation['message_numbers'], ultra_std_dev['message_numbers']]})\n",
    "stat_values[['Smart', 'Ultra']] = round(stat_values[['Smart', 'Ultra']],0).astype('int')\n",
    "stat_values = stat_values.set_index('stat_value')\n",
    "stat_values"
   ]
  },
  {
   "cell_type": "markdown",
   "metadata": {},
   "source": [
    "### Построение и анализ гистограмм <a id='step_2.3'></a>"
   ]
  },
  {
   "cell_type": "markdown",
   "metadata": {},
   "source": [
    "Поскольку данные по тарифам \"Смарт\" и \"Ультра\" являются непрерывными и имеют разную размерность, а выбор для них разного количества корзин при построении гистограммы может повлиять на результат, воспользуемся для анализа гистограммами плотности."
   ]
  },
  {
   "cell_type": "code",
   "execution_count": 89,
   "metadata": {},
   "outputs": [],
   "source": [
    "# Функция для построения сравнительных гистограмм\n",
    "def kdeplot(xlabel, text, column):\n",
    "    plt.xlabel(xlabel)\n",
    "    plt.ylabel('плотность распределения')\n",
    "    plt.title('Сопоставление распределения '+text+' по тарифам')\n",
    "    sns.kdeplot(smart_total[column], shade=True, label=\"Smart\")\n",
    "    sns.kdeplot(ultra_total[column], shade=True, label=\"Ultra\")\n",
    "    plt.show()"
   ]
  },
  {
   "cell_type": "code",
   "execution_count": 90,
   "metadata": {},
   "outputs": [
    {
     "data": {
      "image/png": "[encoded data removed]",
      "text/plain": [
       "<Figure size 432x288 with 1 Axes>"
      ]
     },
     "metadata": {
      "needs_background": "light"
     },
     "output_type": "display_data"
    }
   ],
   "source": [
    "# Длительность разговора\n",
    "kdeplot('длительность разговора (минут)', 'длительности разговора', 'call_duration')"
   ]
  },
  {
   "cell_type": "markdown",
   "metadata": {},
   "source": [
    "Распределения в разрезе тарифов по длительности разговора близки к нормальным, причём в тарифе \"Ультра\" больше интервал, в котором находятся основные значения. Распределение длительности разговора по тарифу \"Смарт\" не имеет явных скосов. А распределение длительности разговора по тарифу \"Ультра\" немного скошено вправо, то есть медианное значение ниже среднего. Это говорит нам о том, что в тарифе \"Ультра\" присутствуют люди, которые использует тарифные минуты разговора свыше медианного значения."
   ]
  },
  {
   "cell_type": "code",
   "execution_count": 91,
   "metadata": {},
   "outputs": [
    {
     "data": {
      "image/png": "[encoded data removed]",
      "text/plain": [
       "<Figure size 432x288 with 1 Axes>"
      ]
     },
     "metadata": {
      "needs_background": "light"
     },
     "output_type": "display_data"
    }
   ],
   "source": [
    "# Интернет-трафик\n",
    "kdeplot('интернет-трафик (Гб)', 'объёма интернет-трафика', 'gb_used')"
   ]
  },
  {
   "cell_type": "markdown",
   "metadata": {},
   "source": [
    "Распределения объёма используемого интернет-трафика по тарифам \"Смарт\" и \"Ультра\" близки к нормальным и имеют практически идентичный вид. Оба датасета скошены влево. Таким образом, в тарифах есть люди, которые используют интернет-трафик меньше медианного значения."
   ]
  },
  {
   "cell_type": "code",
   "execution_count": 92,
   "metadata": {},
   "outputs": [
    {
     "data": {
      "image/png": "[encoded data removed]",
      "text/plain": [
       "<Figure size 432x288 with 1 Axes>"
      ]
     },
     "metadata": {
      "needs_background": "light"
     },
     "output_type": "display_data"
    }
   ],
   "source": [
    "# Количество сообщений\n",
    "kdeplot('количество сообщений', 'количества отправленных сообщений', 'message_numbers')"
   ]
  },
  {
   "cell_type": "markdown",
   "metadata": {},
   "source": [
    "Распределения количества отправленных сообщений по тарифам \"Смарт\" и \"Ультра\" близки к нормальным, но тариф \"Ультра\" имеет чуть больший разброс значений, чем тариф \"Смарт\". Датасеты по обоим тарифам скошены вправо, то есть медианное значение ниже среднего значения. Это говорит о том, что в обоих тарифах присутствуют люди, которые используют функцию сообщений больше медианного значения (в тарифе \"Ультра\" показатель выше, чем в тарифе \"Смарт\")."
   ]
  },
  {
   "cell_type": "code",
   "execution_count": 93,
   "metadata": {},
   "outputs": [
    {
     "data": {
      "image/png": "[encoded data removed]",
      "text/plain": [
       "<Figure size 432x288 with 1 Axes>"
      ]
     },
     "metadata": {
      "needs_background": "light"
     },
     "output_type": "display_data"
    }
   ],
   "source": [
    "# Длительность разговора\n",
    "plt.xlabel(\"выручка (рублей)\")\n",
    "plt.ylabel(\"плотность\")\n",
    "plt.title(\"Сопоставление распределения выручки по тарифам\")\n",
    "sns.kdeplot(smart_total['monthly_total'], shade=True, label=\"Smart\")\n",
    "sns.kdeplot(ultra_total['monthly_total'], shade=True, label=\"Ultra\", bw=1.5)\n",
    "plt.show()"
   ]
  },
  {
   "cell_type": "markdown",
   "metadata": {},
   "source": [
    "Распределение выручки по тарифу \"Смарт\" близко к нормальному, но датасет скошен вправо, то есть существует большое количество пользователей тарифа, которые приносят компании выручку выше медианного значения.\n",
    "\n",
    "Распределение выручки по тарифу \"Ультра\" выглядит иначе: пользователи приносят более высокую выручку компании, но у распределения очень много \"выбросов\": это говорит о том, что такая выручка не является постоянной и гарантированной: всё зависит от индивидуальных потребностей пользователя."
   ]
  },
  {
   "cell_type": "markdown",
   "metadata": {},
   "source": [
    "### Проверка статистических гипотез <a id='step_2.4'></a>"
   ]
  },
  {
   "cell_type": "markdown",
   "metadata": {},
   "source": [
    "#### Гипотеза о различии средней выручки пользователей тарифов «Ультра» и «Смарт»"
   ]
  },
  {
   "cell_type": "markdown",
   "metadata": {},
   "source": [
    "Мы будем анализировать две генеральные совокупности: выручки пользователей тарифов \"Ультра\" (`ultra_pivot`) и \"Смарт\" (`smart_pivot`).\n",
    "\n",
    "Сформулируем нулевую гипотезу H0: Средние двух генеральных совокупностей равны между собой.\n",
    "\n",
    "Альтернативная гипотеза H1: Средние двух генераальных совокупностей не равны между собой.\n",
    "\n",
    "Несмотря на то, что `ultra_pivot` и `smart_pivot` - это не совсем генеральные совокупности, а скорее, выборки; но согласно центральной предельной теореме, выборочные средние распределены нормально вокруг истинного среднего генеральной совокупности. Введём уровень значимости, определяющий близость к среднему значению: 5%.\n",
    "\n",
    "Кроме того, дисперсия каждой выборки должна быть оценена по датасету каждой из выборок, а не по их объединению. Также отметим, что выборки являются независимыми.\n",
    "\n",
    "Проверим гипотезы через распределение t-Стьюдента."
   ]
  },
  {
   "cell_type": "code",
   "execution_count": 94,
   "metadata": {},
   "outputs": [
    {
     "name": "stdout",
     "output_type": "stream",
     "text": [
      "p-значение: 2.7240946993530856e-246\n",
      "Отвергаем нулевую гипотезу.\n"
     ]
    }
   ],
   "source": [
    "sample_1 = ultra_total['monthly_total']\n",
    "sample_2 = smart_total['monthly_total']\n",
    "\n",
    "alpha = .05\n",
    "\n",
    "results = st.ttest_ind(sample_1, sample_2, equal_var=False)\n",
    "print('p-значение:', results.pvalue)\n",
    "\n",
    "if results.pvalue < alpha:\n",
    "    print('Отвергаем нулевую гипотезу.')\n",
    "else:\n",
    "    print('Не получилось отвергнуть нулевую гипотезу.')"
   ]
  },
  {
   "cell_type": "markdown",
   "metadata": {},
   "source": [
    "Получили результат: p-значение оказалось меньше уровня значимости в 5%. Соответственно, мы отвергли нулевую гипотезу; приняли альтернативную гипотезу: средние двух генеральных совокупностей не равны между собой.\n",
    "\n",
    "Вывод: средняя выручка пользователей тарифов «Ультра» и «Смарт» различается."
   ]
  },
  {
   "cell_type": "markdown",
   "metadata": {},
   "source": [
    "#### Гипотеза о различии средней выручки пользователей из Москвы от выручки пользователей из других регионов"
   ]
  },
  {
   "cell_type": "markdown",
   "metadata": {},
   "source": [
    "Создадим выборки для пользователей из Москвы: `users_Moscow`, и других регионов: `users_other`."
   ]
  },
  {
   "cell_type": "code",
   "execution_count": 95,
   "metadata": {},
   "outputs": [],
   "source": [
    "users_Moscow = final_total.query('city == \"Москва\"')\n",
    "users_other = final_total.query('city != \"Москва\"')"
   ]
  },
  {
   "cell_type": "markdown",
   "metadata": {},
   "source": [
    "Механизм схож с проверкой гипотезы о равенстве средней выручки для разных тарифов. Нам необходимо проанализировать две генеральные совокупности: выручки пользователей из Москвы (`users_Moscow`) и пользователей из других регионов (`users_other`).\n",
    "\n",
    "Сформулируем нулевую гипотезу H0: Средние двух генеральных совокупностей равны между собой.\n",
    "\n",
    "Альтернативная гипотеза H1: Средние двух генераальных совокупностей не равны между собой.\n",
    "\n",
    "`users_Moscow` и `users_other` - это выборки из генеральных совокупностей. Для них также действует центральная предельная теорема: выборочные средние распределены нормально вокруг истинного среднего генеральной совокупности. Введём уровень значимости, определяющий близость к среднему значению: 5%.\n",
    "\n",
    "Кроме того, дисперсия каждой выборки должна быть оценена по отдельности по значениям в ней самой. Также отметим, что выборки являются независимыми.\n",
    "\n",
    "Проверим гипотезы через распределение t-Стьюдента."
   ]
  },
  {
   "cell_type": "code",
   "execution_count": 96,
   "metadata": {},
   "outputs": [
    {
     "name": "stdout",
     "output_type": "stream",
     "text": [
      "p-значение: 0.5126564657748214\n",
      "Не получилось отвергнуть нулевую гипотезу.\n"
     ]
    }
   ],
   "source": [
    "sample_1 = users_Moscow['monthly_total']\n",
    "sample_2 = users_other['monthly_total']\n",
    "\n",
    "alpha = .05\n",
    "\n",
    "results = st.ttest_ind(sample_1, sample_2, equal_var=False)\n",
    "print('p-значение:', results.pvalue)\n",
    "\n",
    "if results.pvalue < alpha:\n",
    "    print('Отвергаем нулевую гипотезу.')\n",
    "else:\n",
    "    print('Не получилось отвергнуть нулевую гипотезу.')"
   ]
  },
  {
   "cell_type": "markdown",
   "metadata": {},
   "source": [
    "Получили результат: p-значение оказалось больше уровня значимости в 5%. Соответственно, мы не можем отвергнуть нулевую гипотезу и принять альтернативную гипотезу.\n",
    "\n",
    "Вывод: средняя выручка пользователей из Москвы не отличается от выручки пользователей из других регионов."
   ]
  },
  {
   "cell_type": "markdown",
   "metadata": {},
   "source": [
    "### Вывод <a id='step_2.5'></a>"
   ]
  },
  {
   "cell_type": "markdown",
   "metadata": {},
   "source": [
    "Для тарифа \"Смарт\" ежемесячная длительность разговоров изменялась с января по декабрь 2018 года в пределах от 0 минут до 1435 минут (45-50 минут в день) с медианным значением 422 минуты (около 14 минут в день); количество используемого интернет-трафика колебалось от 0Гб до 38гб с медианным значением 17Гб; количество отправленных сообщений - с 0 до 143 сообщений с медианным значением 28 сообщений. Для тарифа \"Ультра\" ежемесячная длительность разговоров с января по декабрь 2018 года колебалась в диапазоне от 0 минут до 1673 минут (65-66 минут в день) с медианным значением 518 минут (около 17 минут в день); количество используемого интернет-трафика - от 0Гб до 49Гб с медианным значением 19Гб; количество отправленных сообщений - с 0 до 224 сообщений с медианным значением 38 сообщений. При этом значения февраля тарифа \"Ультра\" выбиваются из общих тенденций. Возможно, часть данных была утерена, либо в феврале были какие-то технические проблемы.\n",
    "\n",
    "При сравнении тарифов было выявлено, что с января по декабрь для обоих тарифов наблюдался рост и длительности разговора, и количества сообщений, и интернет-трафика. При этом длительность разговора и интернет-трафика потребителей на тарифе \"Ультра\" превышала аналогичный показатель на тарифе \"Смарт\". Сообщения характеризуются несколько иной тенденцией: в феврале количество сообщений на тарифе \"Смарт\" превышало показатель тарифа \"Ультра\", в марте-апреле они были практически равны, затем ситуация изменилась. Покзатель тарифа \"Смарт\" прекратил рост на установившейся отметке, а показатель по тарифу \"Ультра\" продолжил расти и превзошёл тариф \"Смарт\".\n",
    "\n",
    "Большинство значений длительности звонков для тарифа \"Смарт\" составило от 0 до 989 минут; а для тарифа \"Ультра\" - от 0 до 1479 минут. Большинство значений объёма использования интернет-трафика для тарифа \"Смарт\" составило от 0 до 34 гигабайт; а для тарифа \"Ультра\" - от 0 до 49 гигабайт. Это очень близкие значения. Большинство значений количества отправленных сообщений для тарифа \"Смарт\" составило от 0 до 118 сообщений; а для тарифа \"Ультра\" - от 0 до 193 сообщений.\n",
    "\n",
    "Распределения в разрезе тарифов по всем параметрам (длительности разговоров, количеству сообщений, интернет-трафику) близки к нормальным. По объёму интернет трафика распределения по обоим тарифам имеют идентичный вид (но для тарифа \"Ультра\" данные расположены в более высоком интервале значений) со скошенностью влево. По количеству минут разговора в тарифе \"Ультра\" интервал шире, чем в тарифе \"Смарт\", и имеет скошенность вправо. А по количеству сообщений оба датасета скошены вправо. Это говорит нам о том, что в тарифе \"Ультра\" присутствуют люди, которые использует тарифные минуты разговора и отправляют сообщения свыше медианных значений; и те, кто использует интернет-трафик ниже медианного значения. В тарифе \"Смарт\" есть те, кто использует интернет-трафик ниже медианы; и люди, которые отправляют сообщения, свыше медианы.\n",
    "\n",
    "Для выручки в разрезе тарифов получили незначительно колеблющееся значение для тарифа \"Ультра\" на уровне около 2 000 рублей; и растущее значение для тарифа \"Смарт\" с небольшим падением в апреле. Однако значения по тарифу \"Ультра\" в несколько раз превосходит значения для тарифа \"Смарт\". Это связано с очень большим значением абонентской платы для тарифа \"Ультра\" с очень большими лимитами, в которые \"укладывается\" за месяц значительное число клиентов.\n",
    "\n",
    "Распределение выручки по тарифу \"Смарт\" близко к нормальному, но датасет скошен вправо, то есть существует большое количество пользователей тарифа, которые приносят компании выручку выше медианного значения. Распределение выручки по тарифу \"Ультра\" выглядит иначе. Пользователи приносят более высокую выручку компании, но у распределения очень много \"выбросов\": это говорит о том, что такая выручка не является постоянной и гарантированной - всё зависит от индивидуальных потребностей пользователя.\n",
    "\n",
    "Были проведены t-тесты проверки двусторонних гипотез для двух независимых выборок. В результате данных тестов было выявлено, что средняя выручка пользователей тарифов «Ультра» и «Смарт» различается; а средняя выручка пользователей из Москвы не отличается от выручки пользователей из других регионов."
   ]
  },
  {
   "cell_type": "markdown",
   "metadata": {},
   "source": [
    "## Общий вывод <a id='step_3'></a>"
   ]
  },
  {
   "cell_type": "markdown",
   "metadata": {},
   "source": [
    "Было проведено исследование тарифов \"Смарт\" и \"Ультра\", которые предлагает компания «Мегалайн» — федеральный оператор сотовой связи. Анализ был проведён на основе имеющихся исходных **данных: о тарифах, о пользователях, о звонках, о сообщениях, об интернет-сессиях**. Была проведена предобработка данных (изменение типа, исправление ошибок, расчёт дополнительных показателей). Значительных ошибок в данных выявлено не было. Также были подготовлены пользовательские данные: собрана информация о совершённых звонках и минутах разговора; количестве сообщений; объёме использованного интернет-трафика. \n",
    "\n",
    "Предварительный просмотр таких данных показал, что **пользователи, как правило, отдают предпочтение только одной из опций тарифа: либо звонкам, либо сообщениям, либо интернету**. Лидеры по использованию одного из направлений не являются лидерами по другим направлениям. После чего была рассчитана ежемесячная выручка компании, приходящая от каждого из пользователей. Были выявлены лидеры: **максимальная величина, которую компания получила с пользователя за месяц в 2018 году (за декабрь) составила 6 770 рублей. Общая выручка составила 4,9 млн. рублей**.\n",
    "\n",
    "При сравнении тарифов было выявлено, что **с января по декабрь для обоих тарифов наблюдался рост и длительности разговора, и количества сообщений, и интернет-трафика**. При этом длительность разговора и интернет-трафика потребителей на тарифе \"Ультра\" превышала аналогичный показатель на тарифе \"Смарт\". Сообщения характеризуются несколько иной тенденцией: в феврале количество сообщений на тарифе \"Смарт\" превышало показатель тарифа \"Ультра\", в марте-апреле они были практически равны, затем ситуация изменилась. Покзатель тарифа \"Смарт\" прекратил рост на установившейся отметке, а показатель по тарифу \"Ультра\" продолжил расти и превзошёл тариф \"Смарт\".\n",
    "\n",
    "Большинство значений **длительности звонков для тарифа \"Смарт\" составило от 0 до 989 мину**т; а **для тарифа \"Ультра\" - от 0 до 1 479 минут**. Для тарифа \"Смарт\" этот разброс \"заходит\" за лимит в 500 минут; а для тарифа \"Ультра\" значение очень далеко от лимитных 3 000 минут. Распределения в разрезе тарифов по длительности разговора близки к нормальным, причём в тарифе \"Ультра\" больше интервал, в котором находятся основные значения. Распределение длительности разговора по тарифу \"Смарт\" не имеет явных скосов, а распределение длительности разговора по тарифу \"Ультра\" немного скошено вправо. Это говорит о том, что в тарифе \"Ультра\" присутствуют люди, которые использует тарифные минуты разговора свыше медианного значения.\n",
    "\n",
    "Большинство значений **объёма использования интернет-трафика для тарифа \"Смарт\" составило от 0 до 34 гигабайт**; а **для тарифа \"Ультра\" - от 0 до 49 гигабайт**. При том, что лимитом для тарифа \"Смарт\" является 15 гигабайт, соответственно, многие пользователи вынуждены платить сверх абонентской платы; а для тарифа \"Ультра\" лимит установлен на уровне 30 гигабайт, поэтому пользователи также вынуждены платить за интернет дополнительно. Это подтверждается и распределением данных. Распределения объёма используемого интернет-трафика по тарифам \"Смарт\" и \"Ультра\" близки к нормальным и имеют практически идентичный вид. Оба датасета скошены влево. Таким образом, в тарифах есть люди, которые используют интернет-трафик меньше медианного значения, которое достаточно высоко.\n",
    "\n",
    "Большинство значений **количества отправленных сообщений для тарифа \"Смарт\" составило от 0 до 118 сообщений**; а **для тарифа \"Ультра\" - от 0 до 193 сообщений**. Лимитные значения по данному показателю следующие: в пакете \"Смарт\" это 50 сообщений; в пакете \"Ультра\" - 1000. Таким образом, пользователи тарифа \"Смарт\" вынуждены платить свыше абонентской платы, а пользователи тарифа \"Ультра\" не выходят за лимит. Распределения количества отправленных сообщений по тарифам \"Смарт\" и \"Ультра\" близки к нормальным, но тариф \"Ультра\" имеет чуть больший разброс значений, чем тариф \"Смарт\". Датасеты по обоим тарифам скошены вправо. Это говорит о том, что в обоих тарифах присутствуют люди, которые используют функцию сообщений больше медианного значения (в тарифе \"Ультра\" показатель выше, чем в тарифе \"Смарт\").\n",
    "\n",
    "**Для выручки** в разрезе тарифов получили **незначительно колеблющееся значение для тарифа \"Ультра\" на уровне около 2 000 рублей**; и **растущее значение для тарифа \"Смарт\" с небольшим падением в апреле**. Однако значения по тарифу \"Ультра\" в несколько раз превосходит значения для тарифа \"Смарт\". Это связано с очень большим значением абонентской платы для тарифа \"Ультра\" с очень большими лимитами, в которые \"укладывается\" за месяц значительное число клиентов. Распределение выручки по тарифу \"Смарт\" близко к нормальному, но датасет скошен вправо, то есть существует большое количество пользователей тарифа, которые приносят компании выручку выше медианного значения. Распределение выручки по тарифу \"Ультра\" выглядит иначе. Пользователи приносят более высокую выручку компании, но у распределения очень много \"выбросов\": это говорит о том, что такая выручка не является постоянной и гарантированной - всё зависит от индивидуальных потребностей пользователя (в частности, от того, как он пользуется интернетом, так как это единственный параметр, который используется в тарифе сверхлимитно многими пользователями).\n",
    "\n",
    "Кроме того, были проведены t-тесты, в результате которых было выявлено, что **средняя выручка пользователей тарифов «Ультра» и «Смарт» различается; а средняя выручка пользователей из Москвы не отличается от выручки пользователей из других регионов**."
   ]
  },
  {
   "cell_type": "markdown",
   "metadata": {},
   "source": [
    "## Рекомендации <a id='step_4'></a>"
   ]
  },
  {
   "cell_type": "markdown",
   "metadata": {},
   "source": [
    "Для того, чтобы скорректировать рекламный бюджет в целях максимизации выручки, коммерческому департаменту компании \"Мегалайн\" предложены **следующие рекомендации**:\n",
    "\n",
    "1. Оставить тариф \"Ультра\" и привлекать потребителей к данному тарифу, поскольку он приносит максимальную выручку из двух вариантов.\n",
    "\n",
    "2. Незначительно уменьшить стоимость сверхлимитного использования минут разговора и отправки сообщений в тарифе \"Ультра\", поскольку это может привлечь ещё больше потребителей. Однако не следует рассматривать дополнительную плату за эти опции как дополнительный доход, поскольку пользователи способны уложиться в установленные лимиты.\n",
    "\n",
    "3. При неизменной стоимости дополнительных опций уменьшить лимиты в тарифе \"Ультра\": минуты разговора до 1 500, количество сообщений до 200.\n",
    "\n",
    "4. Региональная политика оператора должна быть идентичной, так как Москва и другие города приносят идентичную среднюю выручку в рамках тарифа."
   ]
  }
 ],
 "metadata": {
  "kernelspec": {
   "display_name": "Python 3",
   "language": "python",
   "name": "python3"
  },
  "language_info": {
   "codemirror_mode": {
    "name": "ipython",
    "version": 3
   },
   "file_extension": ".py",
   "mimetype": "text/x-python",
   "name": "python",
   "nbconvert_exporter": "python",
   "pygments_lexer": "ipython3",
   "version": "3.8.3"
  }
 },
 "nbformat": 4,
 "nbformat_minor": 2
}
