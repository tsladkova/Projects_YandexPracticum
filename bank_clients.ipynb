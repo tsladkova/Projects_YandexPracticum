{
 "cells": [
  {
   "cell_type": "markdown",
   "metadata": {},
   "source": [
    "# Исследование надёжности заёмщиков"
   ]
  },
  {
   "cell_type": "markdown",
   "metadata": {},
   "source": [
    "## Введение"
   ]
  },
  {
   "cell_type": "markdown",
   "metadata": {},
   "source": [
    "Данное исследование **построено на** статистике о платёжеспособности клиентов, предоставленной кредитным отделом банка, и **направлено на** изучение факторов, влияющих на факт погашения клиентом кредита в срок.\n",
    "\n",
    "Иследование состоит из **следующих этапов**:\n",
    "\n",
    "1. [Обзор данных и их предобработка](#step_1):\n",
    "    * [Импорт библиотек](#step_1.1);\n",
    "    * [Общая информация о данных](#step_1.2);\n",
    "    * [Обработка пропусков и дубликатов, проверка данных](#step_1.3);\n",
    "    * [Вывод](#step_1.4).\n",
    "2. [Анализ данных](#step_2):\n",
    "    * [Анализ категорий по цели получения кредита](#step_2.1);\n",
    "    * [Вероятность получения кредита, исходя из уровня дохода](#step_2.2);\n",
    "    * [Зависимость между наличием детей и возвратом кредита в срок](#step_2.3);\n",
    "    * [Зависимость между семейным положением и возвратом кредита в срок](#step_2.4);\n",
    "    * [Зависимость между уровнем дохода и возвратом кредита в срок](#step_2.5);\n",
    "    * [Зависимость между целями кредита и возвратом кредита в срок](#step_2.6);\n",
    "    * [Вывод](#step_2.7).\n",
    "3. [Общий вывод](#step_3);\n",
    "4. [Рекомендации](#step_4).\n",
    "\n",
    "**Результатом исследования** являются рекомендации, на которые следует опираться банку при построении модели *кредитного скоринга* — специальной системы, которая оценивает способность потенциального заёмщика вернуть кредит банку."
   ]
  },
  {
   "cell_type": "markdown",
   "metadata": {},
   "source": [
    "## Этап 1. Обзор данных и их предобработка <a id='step_1'></a>"
   ]
  },
  {
   "cell_type": "markdown",
   "metadata": {},
   "source": [
    "### Импорт библиотек <a id='step_1.1'></a>"
   ]
  },
  {
   "cell_type": "code",
   "execution_count": 1,
   "metadata": {},
   "outputs": [],
   "source": [
    "import pandas as pd\n",
    "import numpy as np\n",
    "from IPython import display\n",
    "\n",
    "from pymystem3 import Mystem\n",
    "from collections import Counter\n",
    "\n",
    "import matplotlib.pyplot as plt\n",
    "import seaborn as sns"
   ]
  },
  {
   "cell_type": "markdown",
   "metadata": {},
   "source": [
    "### Общая информация о данных <a id='step_1.2'></a>"
   ]
  },
  {
   "cell_type": "code",
   "execution_count": 2,
   "metadata": {
    "scrolled": true
   },
   "outputs": [
    {
     "data": {
      "text/html": [
       "<div>\n",
       "<style scoped>\n",
       "    .dataframe tbody tr th:only-of-type {\n",
       "        vertical-align: middle;\n",
       "    }\n",
       "\n",
       "    .dataframe tbody tr th {\n",
       "        vertical-align: top;\n",
       "    }\n",
       "\n",
       "    .dataframe thead th {\n",
       "        text-align: right;\n",
       "    }\n",
       "</style>\n",
       "<table border=\"1\" class=\"dataframe\">\n",
       "  <thead>\n",
       "    <tr style=\"text-align: right;\">\n",
       "      <th></th>\n",
       "      <th>children</th>\n",
       "      <th>days_employed</th>\n",
       "      <th>dob_years</th>\n",
       "      <th>education</th>\n",
       "      <th>education_id</th>\n",
       "      <th>family_status</th>\n",
       "      <th>family_status_id</th>\n",
       "      <th>gender</th>\n",
       "      <th>income_type</th>\n",
       "      <th>debt</th>\n",
       "      <th>total_income</th>\n",
       "      <th>purpose</th>\n",
       "    </tr>\n",
       "  </thead>\n",
       "  <tbody>\n",
       "    <tr>\n",
       "      <td>0</td>\n",
       "      <td>1</td>\n",
       "      <td>-8437.673028</td>\n",
       "      <td>42</td>\n",
       "      <td>высшее</td>\n",
       "      <td>0</td>\n",
       "      <td>женат / замужем</td>\n",
       "      <td>0</td>\n",
       "      <td>F</td>\n",
       "      <td>сотрудник</td>\n",
       "      <td>0</td>\n",
       "      <td>253875.639453</td>\n",
       "      <td>покупка жилья</td>\n",
       "    </tr>\n",
       "    <tr>\n",
       "      <td>1</td>\n",
       "      <td>1</td>\n",
       "      <td>-4024.803754</td>\n",
       "      <td>36</td>\n",
       "      <td>среднее</td>\n",
       "      <td>1</td>\n",
       "      <td>женат / замужем</td>\n",
       "      <td>0</td>\n",
       "      <td>F</td>\n",
       "      <td>сотрудник</td>\n",
       "      <td>0</td>\n",
       "      <td>112080.014102</td>\n",
       "      <td>приобретение автомобиля</td>\n",
       "    </tr>\n",
       "    <tr>\n",
       "      <td>2</td>\n",
       "      <td>0</td>\n",
       "      <td>-5623.422610</td>\n",
       "      <td>33</td>\n",
       "      <td>Среднее</td>\n",
       "      <td>1</td>\n",
       "      <td>женат / замужем</td>\n",
       "      <td>0</td>\n",
       "      <td>M</td>\n",
       "      <td>сотрудник</td>\n",
       "      <td>0</td>\n",
       "      <td>145885.952297</td>\n",
       "      <td>покупка жилья</td>\n",
       "    </tr>\n",
       "    <tr>\n",
       "      <td>3</td>\n",
       "      <td>3</td>\n",
       "      <td>-4124.747207</td>\n",
       "      <td>32</td>\n",
       "      <td>среднее</td>\n",
       "      <td>1</td>\n",
       "      <td>женат / замужем</td>\n",
       "      <td>0</td>\n",
       "      <td>M</td>\n",
       "      <td>сотрудник</td>\n",
       "      <td>0</td>\n",
       "      <td>267628.550329</td>\n",
       "      <td>дополнительное образование</td>\n",
       "    </tr>\n",
       "    <tr>\n",
       "      <td>4</td>\n",
       "      <td>0</td>\n",
       "      <td>340266.072047</td>\n",
       "      <td>53</td>\n",
       "      <td>среднее</td>\n",
       "      <td>1</td>\n",
       "      <td>гражданский брак</td>\n",
       "      <td>1</td>\n",
       "      <td>F</td>\n",
       "      <td>пенсионер</td>\n",
       "      <td>0</td>\n",
       "      <td>158616.077870</td>\n",
       "      <td>сыграть свадьбу</td>\n",
       "    </tr>\n",
       "  </tbody>\n",
       "</table>\n",
       "</div>"
      ],
      "text/plain": [
       "   children  days_employed  dob_years education  education_id  \\\n",
       "0         1   -8437.673028         42    высшее             0   \n",
       "1         1   -4024.803754         36   среднее             1   \n",
       "2         0   -5623.422610         33   Среднее             1   \n",
       "3         3   -4124.747207         32   среднее             1   \n",
       "4         0  340266.072047         53   среднее             1   \n",
       "\n",
       "      family_status  family_status_id gender income_type  debt   total_income  \\\n",
       "0   женат / замужем                 0      F   сотрудник     0  253875.639453   \n",
       "1   женат / замужем                 0      F   сотрудник     0  112080.014102   \n",
       "2   женат / замужем                 0      M   сотрудник     0  145885.952297   \n",
       "3   женат / замужем                 0      M   сотрудник     0  267628.550329   \n",
       "4  гражданский брак                 1      F   пенсионер     0  158616.077870   \n",
       "\n",
       "                      purpose  \n",
       "0               покупка жилья  \n",
       "1     приобретение автомобиля  \n",
       "2               покупка жилья  \n",
       "3  дополнительное образование  \n",
       "4             сыграть свадьбу  "
      ]
     },
     "execution_count": 2,
     "metadata": {},
     "output_type": "execute_result"
    }
   ],
   "source": [
    "# Прочитаем файл clients_info.csv с информацией о платёжеспособности клиентов банка и сохраним его в переменной clients_info\n",
    "clients_info = pd.read_csv('C:/Users/Public/Jupyter/clients_info.csv')\n",
    "clients_info.head()"
   ]
  },
  {
   "cell_type": "code",
   "execution_count": 3,
   "metadata": {},
   "outputs": [
    {
     "name": "stdout",
     "output_type": "stream",
     "text": [
      "<class 'pandas.core.frame.DataFrame'>\n",
      "RangeIndex: 21525 entries, 0 to 21524\n",
      "Data columns (total 12 columns):\n",
      "children            21525 non-null int64\n",
      "days_employed       19351 non-null float64\n",
      "dob_years           21525 non-null int64\n",
      "education           21525 non-null object\n",
      "education_id        21525 non-null int64\n",
      "family_status       21525 non-null object\n",
      "family_status_id    21525 non-null int64\n",
      "gender              21525 non-null object\n",
      "income_type         21525 non-null object\n",
      "debt                21525 non-null int64\n",
      "total_income        19351 non-null float64\n",
      "purpose             21525 non-null object\n",
      "dtypes: float64(2), int64(5), object(5)\n",
      "memory usage: 2.0+ MB\n"
     ]
    }
   ],
   "source": [
    "# Получим общую информацию о данных таблицы clients_info\n",
    "display.display(data=clients_info.info())"
   ]
  },
  {
   "cell_type": "markdown",
   "metadata": {},
   "source": [
    "Данные представлены в виде таблицы, включающей в себя 21 525 строк и 12 столбцов. При этом 5 столбцов с целочисланными данными (тип < int >), 2 столбца типа < float > и 5 столбцов типа < object >.\n",
    "\n",
    "Разберём, какие в таблице столбцы, и какую информацию они содержат:\n",
    "- [`children`](#children) — количество детей в семье;\n",
    "- [`days_employed`](#days_empl) — общий трудовой стаж в днях;\n",
    "- [`dob_years`](#years) — возраст клиента в годах;\n",
    "- [`education`](#edu) — уровень образования клиента;\n",
    "- [`education_id`](#edu_id) — идентификатор уровня образования;\n",
    "- [`family_status`](#fam_stat) — семейное положение;\n",
    "- [`family_status_id`](#fam_stat_id) — идентификатор семейного положения;\n",
    "- [`gender`](#gender) — пол клиента;\n",
    "- [`income_type`](#inc_type) — тип занятости;\n",
    "- [`debt`](#debt) — имел ли задолженность по возврату кредитов;\n",
    "- [`total_income`](#inc) — ежемесячный доход;\n",
    "- [`purpose`](#purp) — цель получения кредита.\n",
    "\n",
    "Отметим, что даже предварительный взгляд на датафрейм позволил увидеть, что данные в некоторых столбцах имеют отрицательное значение, что на практике невозможно. Далее мы обратим на это внимание при более подробном изучении каждого столбца.\n",
    "\n",
    "Также есть некоторое несоответствие типа данных в ряде столбцов (например, столбец days_employed должен быть целочисленным). Кроме того, различное количество значений в столбцах указывает на возможное наличие в таблице пропусков."
   ]
  },
  {
   "cell_type": "markdown",
   "metadata": {},
   "source": [
    "### Обработка пропусков и дубликатов, проверка данных <a id='step_1.3'></a>"
   ]
  },
  {
   "cell_type": "markdown",
   "metadata": {},
   "source": [
    "#### Обработка пропусков"
   ]
  },
  {
   "cell_type": "markdown",
   "metadata": {},
   "source": [
    "Проверим данные на наличие пропусков."
   ]
  },
  {
   "cell_type": "code",
   "execution_count": 4,
   "metadata": {},
   "outputs": [
    {
     "data": {
      "text/plain": [
       "children               0\n",
       "days_employed       2174\n",
       "dob_years              0\n",
       "education              0\n",
       "education_id           0\n",
       "family_status          0\n",
       "family_status_id       0\n",
       "gender                 0\n",
       "income_type            0\n",
       "debt                   0\n",
       "total_income        2174\n",
       "purpose                0\n",
       "dtype: int64"
      ]
     },
     "execution_count": 4,
     "metadata": {},
     "output_type": "execute_result"
    }
   ],
   "source": [
    "clients_info.isnull().sum()"
   ]
  },
  {
   "cell_type": "markdown",
   "metadata": {},
   "source": [
    "Пустые значения свидетельствуют, что по некоторым клиентам доступна не вся информация. Это может быть связано с различными причинами: нежелание клиента предоставлять соответствующие данные, либо проблема с записью данных. Каждый из столбцов следует разобрать отдельно и выявить причину.\n",
    "\n",
    "Поскольку пропуски наблюдаются в количественных переменных, их необходимо заполнить количественными переменными. Предполагается, что данные в выборке очень неоднородны, поэтому использование средней арифметической не подойдет - лучше всего использовать медианные значения. При этом медианное значение `total_income` может различаться в разных категориях дохода: доходы пенсионеров маловероятно равны доходам сотрудников и компаньонов. Столбец `days_employed` также, согласно взгляда на таблицу, как-то связан с типом занятости: мы видим, что у пенсионеров данные имеют положительное, но слишком высокое значение; а у остальных типов занятости - отрицательное значение. Также трудовой стаж можно попробовать восстановить, исходя из возраста клиента (в рамках первой выделенной категории). Соответственно, и обработка данных должна проходить в рамках данных категорий.\n",
    "\n",
    "Оба столбца необходимо обрабатывать в рамках типа занятости. В связи с этим, найдем уникальные значения по столбцу `income_type`."
   ]
  },
  {
   "cell_type": "code",
   "execution_count": 5,
   "metadata": {},
   "outputs": [
    {
     "data": {
      "text/plain": [
       "array(['сотрудник', 'пенсионер', 'компаньон', 'госслужащий',\n",
       "       'безработный', 'предприниматель', 'студент', 'в декрете'],\n",
       "      dtype=object)"
      ]
     },
     "execution_count": 5,
     "metadata": {},
     "output_type": "execute_result"
    }
   ],
   "source": [
    "clients_info['income_type'].unique()"
   ]
  },
  {
   "cell_type": "markdown",
   "metadata": {},
   "source": [
    "Получаем 8 категорий для заполнения пропусков. Изучим количество имеющихся данных и количество пропусков по каждой категории в столбцах с пропусками."
   ]
  },
  {
   "cell_type": "code",
   "execution_count": 6,
   "metadata": {},
   "outputs": [
    {
     "name": "stdout",
     "output_type": "stream",
     "text": [
      "Заполненные данные для days_employed:\n",
      "income_type\n",
      "безработный            2\n",
      "в декрете              1\n",
      "госслужащий         1312\n",
      "компаньон           4577\n",
      "пенсионер           3443\n",
      "предприниматель        1\n",
      "сотрудник          10014\n",
      "студент                1\n",
      "Name: days_employed, dtype: int64\n",
      "\n",
      "Пропущенные данные для days_employed:\n",
      "income_type\n",
      "безработный           0\n",
      "в декрете             0\n",
      "госслужащий         147\n",
      "компаньон           508\n",
      "пенсионер           413\n",
      "предприниматель       1\n",
      "сотрудник          1105\n",
      "студент               0\n",
      "Name: days_employed, dtype: int64\n",
      "\n",
      "\n",
      "Заполненные данные для total_income:\n",
      "income_type\n",
      "безработный            2\n",
      "в декрете              1\n",
      "госслужащий         1312\n",
      "компаньон           4577\n",
      "пенсионер           3443\n",
      "предприниматель        1\n",
      "сотрудник          10014\n",
      "студент                1\n",
      "Name: total_income, dtype: int64\n",
      "\n",
      "Пропущенные данные для total_income:\n",
      "income_type\n",
      "безработный           0\n",
      "в декрете             0\n",
      "госслужащий         147\n",
      "компаньон           508\n",
      "пенсионер           413\n",
      "предприниматель       1\n",
      "сотрудник          1105\n",
      "студент               0\n",
      "Name: total_income, dtype: int64\n"
     ]
    }
   ],
   "source": [
    "print('Заполненные данные для days_employed:')\n",
    "print(clients_info.groupby('income_type')['days_employed'].count())\n",
    "print()\n",
    "print('Пропущенные данные для days_employed:')\n",
    "print(clients_info['days_employed'].isnull().groupby(clients_info['income_type']).sum().astype('int'))\n",
    "print()\n",
    "print()\n",
    "print('Заполненные данные для total_income:')\n",
    "print(clients_info.groupby('income_type')['total_income'].count())\n",
    "print()\n",
    "print('Пропущенные данные для total_income:')\n",
    "print(clients_info['total_income'].isnull().groupby(clients_info['income_type']).sum().astype('int'))"
   ]
  },
  {
   "cell_type": "markdown",
   "metadata": {},
   "source": [
    "Отметим, что и для `total_income`, и для `days_employed` мы получили одинаковые результаты. Это может говорить о том, что пропуски в указанных столбцах допущены в одних и тех же строках.\n",
    "Также вышеприведенные таблицы дают нам информацию о том, что пропуски в каждой категории составляют около 10% и более, а значит, мы не можем удалить строки ни в одной из категорий - иначе это повлечет за собой некорректные результаты анализа данных."
   ]
  },
  {
   "cell_type": "markdown",
   "metadata": {},
   "source": [
    "Отметим, что для безработных и пенсионеров значения `days_employed` положительны, но очень высоки. Если это данные по России, человек может работать с 16 лет (в особых случаях с 15 лет). А, значит, его стаж, например, в 31 год максимально равен 5475 дней. В таблице же значение для такого возраста свыше 900 лет. Данные для других категорий принимают отрицательные значения, которые в абсолютном выражении могут быть близки к реальным. Тем не менее, становится очевидным, что пропуски для эго столбца пока не могут быть заполнены. Но мы можем заполнить пропуски для столбца `total_income`. Чтобы это сделать, напишем функцию и изучим данные для разных категорий дохода."
   ]
  },
  {
   "cell_type": "code",
   "execution_count": 7,
   "metadata": {},
   "outputs": [],
   "source": [
    "# Функция для заполнения пропусков по величине дохода для категории\n",
    "def total_income_fillna(income_type, filtered_data):\n",
    "    condition = clients_info['income_type'] == income_type\n",
    "    clients_info.loc[condition, 'total_income'] = (clients_info\n",
    "                                                       .loc[condition, 'total_income']\n",
    "                                                       .fillna(filtered_data['total_income'].median())\n",
    "                                                  )"
   ]
  },
  {
   "cell_type": "markdown",
   "metadata": {},
   "source": [
    "##### Безработные"
   ]
  },
  {
   "cell_type": "code",
   "execution_count": 8,
   "metadata": {},
   "outputs": [
    {
     "data": {
      "text/html": [
       "<div>\n",
       "<style scoped>\n",
       "    .dataframe tbody tr th:only-of-type {\n",
       "        vertical-align: middle;\n",
       "    }\n",
       "\n",
       "    .dataframe tbody tr th {\n",
       "        vertical-align: top;\n",
       "    }\n",
       "\n",
       "    .dataframe thead th {\n",
       "        text-align: right;\n",
       "    }\n",
       "</style>\n",
       "<table border=\"1\" class=\"dataframe\">\n",
       "  <thead>\n",
       "    <tr style=\"text-align: right;\">\n",
       "      <th></th>\n",
       "      <th>children</th>\n",
       "      <th>days_employed</th>\n",
       "      <th>dob_years</th>\n",
       "      <th>education_id</th>\n",
       "      <th>family_status_id</th>\n",
       "      <th>debt</th>\n",
       "      <th>total_income</th>\n",
       "    </tr>\n",
       "  </thead>\n",
       "  <tbody>\n",
       "    <tr>\n",
       "      <td>count</td>\n",
       "      <td>2.000000</td>\n",
       "      <td>2.000000</td>\n",
       "      <td>2.000000</td>\n",
       "      <td>2.000000</td>\n",
       "      <td>2.000000</td>\n",
       "      <td>2.000000</td>\n",
       "      <td>2.000000</td>\n",
       "    </tr>\n",
       "    <tr>\n",
       "      <td>mean</td>\n",
       "      <td>0.500000</td>\n",
       "      <td>366413.652744</td>\n",
       "      <td>38.000000</td>\n",
       "      <td>0.500000</td>\n",
       "      <td>0.500000</td>\n",
       "      <td>0.500000</td>\n",
       "      <td>131339.751676</td>\n",
       "    </tr>\n",
       "    <tr>\n",
       "      <td>std</td>\n",
       "      <td>0.707107</td>\n",
       "      <td>40855.478519</td>\n",
       "      <td>9.899495</td>\n",
       "      <td>0.707107</td>\n",
       "      <td>0.707107</td>\n",
       "      <td>0.707107</td>\n",
       "      <td>100950.466876</td>\n",
       "    </tr>\n",
       "    <tr>\n",
       "      <td>min</td>\n",
       "      <td>0.000000</td>\n",
       "      <td>337524.466835</td>\n",
       "      <td>31.000000</td>\n",
       "      <td>0.000000</td>\n",
       "      <td>0.000000</td>\n",
       "      <td>0.000000</td>\n",
       "      <td>59956.991984</td>\n",
       "    </tr>\n",
       "    <tr>\n",
       "      <td>25%</td>\n",
       "      <td>0.250000</td>\n",
       "      <td>351969.059790</td>\n",
       "      <td>34.500000</td>\n",
       "      <td>0.250000</td>\n",
       "      <td>0.250000</td>\n",
       "      <td>0.250000</td>\n",
       "      <td>95648.371830</td>\n",
       "    </tr>\n",
       "    <tr>\n",
       "      <td>50%</td>\n",
       "      <td>0.500000</td>\n",
       "      <td>366413.652744</td>\n",
       "      <td>38.000000</td>\n",
       "      <td>0.500000</td>\n",
       "      <td>0.500000</td>\n",
       "      <td>0.500000</td>\n",
       "      <td>131339.751676</td>\n",
       "    </tr>\n",
       "    <tr>\n",
       "      <td>75%</td>\n",
       "      <td>0.750000</td>\n",
       "      <td>380858.245699</td>\n",
       "      <td>41.500000</td>\n",
       "      <td>0.750000</td>\n",
       "      <td>0.750000</td>\n",
       "      <td>0.750000</td>\n",
       "      <td>167031.131522</td>\n",
       "    </tr>\n",
       "    <tr>\n",
       "      <td>max</td>\n",
       "      <td>1.000000</td>\n",
       "      <td>395302.838654</td>\n",
       "      <td>45.000000</td>\n",
       "      <td>1.000000</td>\n",
       "      <td>1.000000</td>\n",
       "      <td>1.000000</td>\n",
       "      <td>202722.511368</td>\n",
       "    </tr>\n",
       "  </tbody>\n",
       "</table>\n",
       "</div>"
      ],
      "text/plain": [
       "       children  days_employed  dob_years  education_id  family_status_id  \\\n",
       "count  2.000000       2.000000   2.000000      2.000000          2.000000   \n",
       "mean   0.500000  366413.652744  38.000000      0.500000          0.500000   \n",
       "std    0.707107   40855.478519   9.899495      0.707107          0.707107   \n",
       "min    0.000000  337524.466835  31.000000      0.000000          0.000000   \n",
       "25%    0.250000  351969.059790  34.500000      0.250000          0.250000   \n",
       "50%    0.500000  366413.652744  38.000000      0.500000          0.500000   \n",
       "75%    0.750000  380858.245699  41.500000      0.750000          0.750000   \n",
       "max    1.000000  395302.838654  45.000000      1.000000          1.000000   \n",
       "\n",
       "           debt   total_income  \n",
       "count  2.000000       2.000000  \n",
       "mean   0.500000  131339.751676  \n",
       "std    0.707107  100950.466876  \n",
       "min    0.000000   59956.991984  \n",
       "25%    0.250000   95648.371830  \n",
       "50%    0.500000  131339.751676  \n",
       "75%    0.750000  167031.131522  \n",
       "max    1.000000  202722.511368  "
      ]
     },
     "execution_count": 8,
     "metadata": {},
     "output_type": "execute_result"
    }
   ],
   "source": [
    "unemployed_clients = clients_info[clients_info['income_type'] == 'безработный']\n",
    "unemployed_clients.describe()"
   ]
  },
  {
   "cell_type": "markdown",
   "metadata": {},
   "source": [
    "В этой категории всего 2 человека, данные по которым не имеют пропусков: значение для одного будет минимумом, а для другого - максимум. Среднее между ними также будет являться медианой. Хотя в данной категории и нет пропусков, но данные нуждаются в дальнейшей обработке, к которой мы вернемся позже."
   ]
  },
  {
   "cell_type": "markdown",
   "metadata": {},
   "source": [
    "##### В декрете"
   ]
  },
  {
   "cell_type": "code",
   "execution_count": 9,
   "metadata": {},
   "outputs": [
    {
     "data": {
      "text/html": [
       "<div>\n",
       "<style scoped>\n",
       "    .dataframe tbody tr th:only-of-type {\n",
       "        vertical-align: middle;\n",
       "    }\n",
       "\n",
       "    .dataframe tbody tr th {\n",
       "        vertical-align: top;\n",
       "    }\n",
       "\n",
       "    .dataframe thead th {\n",
       "        text-align: right;\n",
       "    }\n",
       "</style>\n",
       "<table border=\"1\" class=\"dataframe\">\n",
       "  <thead>\n",
       "    <tr style=\"text-align: right;\">\n",
       "      <th></th>\n",
       "      <th>children</th>\n",
       "      <th>days_employed</th>\n",
       "      <th>dob_years</th>\n",
       "      <th>education_id</th>\n",
       "      <th>family_status_id</th>\n",
       "      <th>debt</th>\n",
       "      <th>total_income</th>\n",
       "    </tr>\n",
       "  </thead>\n",
       "  <tbody>\n",
       "    <tr>\n",
       "      <td>count</td>\n",
       "      <td>1.0</td>\n",
       "      <td>1.000000</td>\n",
       "      <td>1.0</td>\n",
       "      <td>1.0</td>\n",
       "      <td>1.0</td>\n",
       "      <td>1.0</td>\n",
       "      <td>1.000000</td>\n",
       "    </tr>\n",
       "    <tr>\n",
       "      <td>mean</td>\n",
       "      <td>2.0</td>\n",
       "      <td>-3296.759962</td>\n",
       "      <td>39.0</td>\n",
       "      <td>1.0</td>\n",
       "      <td>0.0</td>\n",
       "      <td>1.0</td>\n",
       "      <td>53829.130729</td>\n",
       "    </tr>\n",
       "    <tr>\n",
       "      <td>std</td>\n",
       "      <td>NaN</td>\n",
       "      <td>NaN</td>\n",
       "      <td>NaN</td>\n",
       "      <td>NaN</td>\n",
       "      <td>NaN</td>\n",
       "      <td>NaN</td>\n",
       "      <td>NaN</td>\n",
       "    </tr>\n",
       "    <tr>\n",
       "      <td>min</td>\n",
       "      <td>2.0</td>\n",
       "      <td>-3296.759962</td>\n",
       "      <td>39.0</td>\n",
       "      <td>1.0</td>\n",
       "      <td>0.0</td>\n",
       "      <td>1.0</td>\n",
       "      <td>53829.130729</td>\n",
       "    </tr>\n",
       "    <tr>\n",
       "      <td>25%</td>\n",
       "      <td>2.0</td>\n",
       "      <td>-3296.759962</td>\n",
       "      <td>39.0</td>\n",
       "      <td>1.0</td>\n",
       "      <td>0.0</td>\n",
       "      <td>1.0</td>\n",
       "      <td>53829.130729</td>\n",
       "    </tr>\n",
       "    <tr>\n",
       "      <td>50%</td>\n",
       "      <td>2.0</td>\n",
       "      <td>-3296.759962</td>\n",
       "      <td>39.0</td>\n",
       "      <td>1.0</td>\n",
       "      <td>0.0</td>\n",
       "      <td>1.0</td>\n",
       "      <td>53829.130729</td>\n",
       "    </tr>\n",
       "    <tr>\n",
       "      <td>75%</td>\n",
       "      <td>2.0</td>\n",
       "      <td>-3296.759962</td>\n",
       "      <td>39.0</td>\n",
       "      <td>1.0</td>\n",
       "      <td>0.0</td>\n",
       "      <td>1.0</td>\n",
       "      <td>53829.130729</td>\n",
       "    </tr>\n",
       "    <tr>\n",
       "      <td>max</td>\n",
       "      <td>2.0</td>\n",
       "      <td>-3296.759962</td>\n",
       "      <td>39.0</td>\n",
       "      <td>1.0</td>\n",
       "      <td>0.0</td>\n",
       "      <td>1.0</td>\n",
       "      <td>53829.130729</td>\n",
       "    </tr>\n",
       "  </tbody>\n",
       "</table>\n",
       "</div>"
      ],
      "text/plain": [
       "       children  days_employed  dob_years  education_id  family_status_id  \\\n",
       "count       1.0       1.000000        1.0           1.0               1.0   \n",
       "mean        2.0   -3296.759962       39.0           1.0               0.0   \n",
       "std         NaN            NaN        NaN           NaN               NaN   \n",
       "min         2.0   -3296.759962       39.0           1.0               0.0   \n",
       "25%         2.0   -3296.759962       39.0           1.0               0.0   \n",
       "50%         2.0   -3296.759962       39.0           1.0               0.0   \n",
       "75%         2.0   -3296.759962       39.0           1.0               0.0   \n",
       "max         2.0   -3296.759962       39.0           1.0               0.0   \n",
       "\n",
       "       debt  total_income  \n",
       "count   1.0      1.000000  \n",
       "mean    1.0  53829.130729  \n",
       "std     NaN           NaN  \n",
       "min     1.0  53829.130729  \n",
       "25%     1.0  53829.130729  \n",
       "50%     1.0  53829.130729  \n",
       "75%     1.0  53829.130729  \n",
       "max     1.0  53829.130729  "
      ]
     },
     "execution_count": 9,
     "metadata": {},
     "output_type": "execute_result"
    }
   ],
   "source": [
    "maternity_clients = clients_info[clients_info['income_type'] == 'в декрете']\n",
    "maternity_clients.describe()"
   ]
  },
  {
   "cell_type": "markdown",
   "metadata": {},
   "source": [
    "В этой категории всего 1 человек, по которому есть данные: значение для него будет и минимумом, и максимумом, и медианой. Хотя в данной категории и нет пропусков, но данные нуждаются в обработке."
   ]
  },
  {
   "cell_type": "markdown",
   "metadata": {},
   "source": [
    "##### Госслужащие"
   ]
  },
  {
   "cell_type": "code",
   "execution_count": 10,
   "metadata": {},
   "outputs": [
    {
     "data": {
      "text/html": [
       "<div>\n",
       "<style scoped>\n",
       "    .dataframe tbody tr th:only-of-type {\n",
       "        vertical-align: middle;\n",
       "    }\n",
       "\n",
       "    .dataframe tbody tr th {\n",
       "        vertical-align: top;\n",
       "    }\n",
       "\n",
       "    .dataframe thead th {\n",
       "        text-align: right;\n",
       "    }\n",
       "</style>\n",
       "<table border=\"1\" class=\"dataframe\">\n",
       "  <thead>\n",
       "    <tr style=\"text-align: right;\">\n",
       "      <th></th>\n",
       "      <th>children</th>\n",
       "      <th>days_employed</th>\n",
       "      <th>dob_years</th>\n",
       "      <th>education_id</th>\n",
       "      <th>family_status_id</th>\n",
       "      <th>debt</th>\n",
       "      <th>total_income</th>\n",
       "    </tr>\n",
       "  </thead>\n",
       "  <tbody>\n",
       "    <tr>\n",
       "      <td>count</td>\n",
       "      <td>1459.000000</td>\n",
       "      <td>1312.000000</td>\n",
       "      <td>1459.000000</td>\n",
       "      <td>1459.000000</td>\n",
       "      <td>1459.000000</td>\n",
       "      <td>1459.000000</td>\n",
       "      <td>1312.000000</td>\n",
       "    </tr>\n",
       "    <tr>\n",
       "      <td>mean</td>\n",
       "      <td>0.622344</td>\n",
       "      <td>-3399.896902</td>\n",
       "      <td>40.636737</td>\n",
       "      <td>0.671693</td>\n",
       "      <td>0.857437</td>\n",
       "      <td>0.058944</td>\n",
       "      <td>170898.309923</td>\n",
       "    </tr>\n",
       "    <tr>\n",
       "      <td>std</td>\n",
       "      <td>1.113242</td>\n",
       "      <td>2788.371363</td>\n",
       "      <td>10.744491</td>\n",
       "      <td>0.577196</td>\n",
       "      <td>1.366448</td>\n",
       "      <td>0.235602</td>\n",
       "      <td>96878.763554</td>\n",
       "    </tr>\n",
       "    <tr>\n",
       "      <td>min</td>\n",
       "      <td>-1.000000</td>\n",
       "      <td>-15193.032201</td>\n",
       "      <td>0.000000</td>\n",
       "      <td>0.000000</td>\n",
       "      <td>0.000000</td>\n",
       "      <td>0.000000</td>\n",
       "      <td>29200.077193</td>\n",
       "    </tr>\n",
       "    <tr>\n",
       "      <td>25%</td>\n",
       "      <td>0.000000</td>\n",
       "      <td>-4759.399260</td>\n",
       "      <td>32.000000</td>\n",
       "      <td>0.000000</td>\n",
       "      <td>0.000000</td>\n",
       "      <td>0.000000</td>\n",
       "      <td>105294.668418</td>\n",
       "    </tr>\n",
       "    <tr>\n",
       "      <td>50%</td>\n",
       "      <td>0.000000</td>\n",
       "      <td>-2689.368353</td>\n",
       "      <td>40.000000</td>\n",
       "      <td>1.000000</td>\n",
       "      <td>0.000000</td>\n",
       "      <td>0.000000</td>\n",
       "      <td>150447.935283</td>\n",
       "    </tr>\n",
       "    <tr>\n",
       "      <td>75%</td>\n",
       "      <td>1.000000</td>\n",
       "      <td>-1257.171811</td>\n",
       "      <td>48.000000</td>\n",
       "      <td>1.000000</td>\n",
       "      <td>1.000000</td>\n",
       "      <td>0.000000</td>\n",
       "      <td>209173.052434</td>\n",
       "    </tr>\n",
       "    <tr>\n",
       "      <td>max</td>\n",
       "      <td>20.000000</td>\n",
       "      <td>-39.954170</td>\n",
       "      <td>75.000000</td>\n",
       "      <td>4.000000</td>\n",
       "      <td>4.000000</td>\n",
       "      <td>1.000000</td>\n",
       "      <td>910451.470814</td>\n",
       "    </tr>\n",
       "  </tbody>\n",
       "</table>\n",
       "</div>"
      ],
      "text/plain": [
       "          children  days_employed    dob_years  education_id  \\\n",
       "count  1459.000000    1312.000000  1459.000000   1459.000000   \n",
       "mean      0.622344   -3399.896902    40.636737      0.671693   \n",
       "std       1.113242    2788.371363    10.744491      0.577196   \n",
       "min      -1.000000  -15193.032201     0.000000      0.000000   \n",
       "25%       0.000000   -4759.399260    32.000000      0.000000   \n",
       "50%       0.000000   -2689.368353    40.000000      1.000000   \n",
       "75%       1.000000   -1257.171811    48.000000      1.000000   \n",
       "max      20.000000     -39.954170    75.000000      4.000000   \n",
       "\n",
       "       family_status_id         debt   total_income  \n",
       "count       1459.000000  1459.000000    1312.000000  \n",
       "mean           0.857437     0.058944  170898.309923  \n",
       "std            1.366448     0.235602   96878.763554  \n",
       "min            0.000000     0.000000   29200.077193  \n",
       "25%            0.000000     0.000000  105294.668418  \n",
       "50%            0.000000     0.000000  150447.935283  \n",
       "75%            1.000000     0.000000  209173.052434  \n",
       "max            4.000000     1.000000  910451.470814  "
      ]
     },
     "execution_count": 10,
     "metadata": {},
     "output_type": "execute_result"
    }
   ],
   "source": [
    "civserv_clients = clients_info[clients_info['income_type'] == 'госслужащий']\n",
    "civserv_clients.describe()"
   ]
  },
  {
   "cell_type": "markdown",
   "metadata": {},
   "source": [
    "В этой категории 1 459 человек, для 147 из них пропущены данные."
   ]
  },
  {
   "cell_type": "markdown",
   "metadata": {},
   "source": [
    "Отметим, что все данные трудового стажа в рамках данной категории принимают отрицательные значения, хотя разброс у них и велик. Мы пока не можем обработать пропуски по ним, так как медианное значение будет искажать данные. Для начала разберёмся с данными в столбце (см. [соответствующий пункт](#days_empl)), а затем заполним пропущенные значения.\n",
    "\n",
    "В данных по ежемесячному доходу все значения положительны, соответственно, мы можем заменить пропуски на медианное значение."
   ]
  },
  {
   "cell_type": "code",
   "execution_count": 11,
   "metadata": {},
   "outputs": [],
   "source": [
    "total_income_fillna('госслужащий', civserv_clients)"
   ]
  },
  {
   "cell_type": "markdown",
   "metadata": {},
   "source": [
    "##### Компаньоны"
   ]
  },
  {
   "cell_type": "code",
   "execution_count": 12,
   "metadata": {},
   "outputs": [
    {
     "data": {
      "text/html": [
       "<div>\n",
       "<style scoped>\n",
       "    .dataframe tbody tr th:only-of-type {\n",
       "        vertical-align: middle;\n",
       "    }\n",
       "\n",
       "    .dataframe tbody tr th {\n",
       "        vertical-align: top;\n",
       "    }\n",
       "\n",
       "    .dataframe thead th {\n",
       "        text-align: right;\n",
       "    }\n",
       "</style>\n",
       "<table border=\"1\" class=\"dataframe\">\n",
       "  <thead>\n",
       "    <tr style=\"text-align: right;\">\n",
       "      <th></th>\n",
       "      <th>children</th>\n",
       "      <th>days_employed</th>\n",
       "      <th>dob_years</th>\n",
       "      <th>education_id</th>\n",
       "      <th>family_status_id</th>\n",
       "      <th>debt</th>\n",
       "      <th>total_income</th>\n",
       "    </tr>\n",
       "  </thead>\n",
       "  <tbody>\n",
       "    <tr>\n",
       "      <td>count</td>\n",
       "      <td>5085.000000</td>\n",
       "      <td>4577.000000</td>\n",
       "      <td>5085.000000</td>\n",
       "      <td>5085.000000</td>\n",
       "      <td>5085.000000</td>\n",
       "      <td>5085.000000</td>\n",
       "      <td>4.577000e+03</td>\n",
       "    </tr>\n",
       "    <tr>\n",
       "      <td>mean</td>\n",
       "      <td>0.598623</td>\n",
       "      <td>-2111.524398</td>\n",
       "      <td>39.697542</td>\n",
       "      <td>0.715438</td>\n",
       "      <td>1.032448</td>\n",
       "      <td>0.073943</td>\n",
       "      <td>2.024175e+05</td>\n",
       "    </tr>\n",
       "    <tr>\n",
       "      <td>std</td>\n",
       "      <td>1.483968</td>\n",
       "      <td>2048.448594</td>\n",
       "      <td>10.671115</td>\n",
       "      <td>0.591248</td>\n",
       "      <td>1.492681</td>\n",
       "      <td>0.261704</td>\n",
       "      <td>1.304811e+05</td>\n",
       "    </tr>\n",
       "    <tr>\n",
       "      <td>min</td>\n",
       "      <td>-1.000000</td>\n",
       "      <td>-17615.563266</td>\n",
       "      <td>0.000000</td>\n",
       "      <td>0.000000</td>\n",
       "      <td>0.000000</td>\n",
       "      <td>0.000000</td>\n",
       "      <td>2.870281e+04</td>\n",
       "    </tr>\n",
       "    <tr>\n",
       "      <td>25%</td>\n",
       "      <td>0.000000</td>\n",
       "      <td>-2876.648520</td>\n",
       "      <td>31.000000</td>\n",
       "      <td>0.000000</td>\n",
       "      <td>0.000000</td>\n",
       "      <td>0.000000</td>\n",
       "      <td>1.258877e+05</td>\n",
       "    </tr>\n",
       "    <tr>\n",
       "      <td>50%</td>\n",
       "      <td>0.000000</td>\n",
       "      <td>-1547.382223</td>\n",
       "      <td>39.000000</td>\n",
       "      <td>1.000000</td>\n",
       "      <td>0.000000</td>\n",
       "      <td>0.000000</td>\n",
       "      <td>1.723580e+05</td>\n",
       "    </tr>\n",
       "    <tr>\n",
       "      <td>75%</td>\n",
       "      <td>1.000000</td>\n",
       "      <td>-685.687432</td>\n",
       "      <td>48.000000</td>\n",
       "      <td>1.000000</td>\n",
       "      <td>1.000000</td>\n",
       "      <td>0.000000</td>\n",
       "      <td>2.439078e+05</td>\n",
       "    </tr>\n",
       "    <tr>\n",
       "      <td>max</td>\n",
       "      <td>20.000000</td>\n",
       "      <td>-30.195337</td>\n",
       "      <td>74.000000</td>\n",
       "      <td>3.000000</td>\n",
       "      <td>4.000000</td>\n",
       "      <td>1.000000</td>\n",
       "      <td>2.265604e+06</td>\n",
       "    </tr>\n",
       "  </tbody>\n",
       "</table>\n",
       "</div>"
      ],
      "text/plain": [
       "          children  days_employed    dob_years  education_id  \\\n",
       "count  5085.000000    4577.000000  5085.000000   5085.000000   \n",
       "mean      0.598623   -2111.524398    39.697542      0.715438   \n",
       "std       1.483968    2048.448594    10.671115      0.591248   \n",
       "min      -1.000000  -17615.563266     0.000000      0.000000   \n",
       "25%       0.000000   -2876.648520    31.000000      0.000000   \n",
       "50%       0.000000   -1547.382223    39.000000      1.000000   \n",
       "75%       1.000000    -685.687432    48.000000      1.000000   \n",
       "max      20.000000     -30.195337    74.000000      3.000000   \n",
       "\n",
       "       family_status_id         debt  total_income  \n",
       "count       5085.000000  5085.000000  4.577000e+03  \n",
       "mean           1.032448     0.073943  2.024175e+05  \n",
       "std            1.492681     0.261704  1.304811e+05  \n",
       "min            0.000000     0.000000  2.870281e+04  \n",
       "25%            0.000000     0.000000  1.258877e+05  \n",
       "50%            0.000000     0.000000  1.723580e+05  \n",
       "75%            1.000000     0.000000  2.439078e+05  \n",
       "max            4.000000     1.000000  2.265604e+06  "
      ]
     },
     "execution_count": 12,
     "metadata": {},
     "output_type": "execute_result"
    }
   ],
   "source": [
    "compan_clients = clients_info[clients_info['income_type'] == 'компаньон']\n",
    "compan_clients.describe()"
   ]
  },
  {
   "cell_type": "markdown",
   "metadata": {},
   "source": [
    "В этой категории 5 085 человек, для 508 из них пропущены данные."
   ]
  },
  {
   "cell_type": "markdown",
   "metadata": {},
   "source": [
    "Отметим, что все данные трудового стажа в рамках данной категории принимают отрицательные значения, хотя разброс у них и велик. Мы пока не можем обработать пропуски по ним, так как медианное значение будет искажать данные. Для начала разберёмся с данными в столбце (см. [соответствующий пункт](#days_empl)), а затем заполним пропущенные значения.\n",
    "\n",
    "В данных по ежемесячному доходу все значения положительны, заменим пропуски на медианное значение."
   ]
  },
  {
   "cell_type": "code",
   "execution_count": 13,
   "metadata": {},
   "outputs": [],
   "source": [
    "total_income_fillna('компаньон', compan_clients)"
   ]
  },
  {
   "cell_type": "markdown",
   "metadata": {},
   "source": [
    "##### Пенсионеры"
   ]
  },
  {
   "cell_type": "code",
   "execution_count": 14,
   "metadata": {},
   "outputs": [
    {
     "data": {
      "text/html": [
       "<div>\n",
       "<style scoped>\n",
       "    .dataframe tbody tr th:only-of-type {\n",
       "        vertical-align: middle;\n",
       "    }\n",
       "\n",
       "    .dataframe tbody tr th {\n",
       "        vertical-align: top;\n",
       "    }\n",
       "\n",
       "    .dataframe thead th {\n",
       "        text-align: right;\n",
       "    }\n",
       "</style>\n",
       "<table border=\"1\" class=\"dataframe\">\n",
       "  <thead>\n",
       "    <tr style=\"text-align: right;\">\n",
       "      <th></th>\n",
       "      <th>children</th>\n",
       "      <th>days_employed</th>\n",
       "      <th>dob_years</th>\n",
       "      <th>education_id</th>\n",
       "      <th>family_status_id</th>\n",
       "      <th>debt</th>\n",
       "      <th>total_income</th>\n",
       "    </tr>\n",
       "  </thead>\n",
       "  <tbody>\n",
       "    <tr>\n",
       "      <td>count</td>\n",
       "      <td>3856.000000</td>\n",
       "      <td>3443.000000</td>\n",
       "      <td>3856.000000</td>\n",
       "      <td>3856.000000</td>\n",
       "      <td>3856.000000</td>\n",
       "      <td>3856.000000</td>\n",
       "      <td>3443.000000</td>\n",
       "    </tr>\n",
       "    <tr>\n",
       "      <td>mean</td>\n",
       "      <td>0.132002</td>\n",
       "      <td>365003.491245</td>\n",
       "      <td>59.063019</td>\n",
       "      <td>0.913900</td>\n",
       "      <td>0.985737</td>\n",
       "      <td>0.056017</td>\n",
       "      <td>137127.465690</td>\n",
       "    </tr>\n",
       "    <tr>\n",
       "      <td>std</td>\n",
       "      <td>1.014271</td>\n",
       "      <td>21069.606065</td>\n",
       "      <td>7.618526</td>\n",
       "      <td>0.510185</td>\n",
       "      <td>1.315202</td>\n",
       "      <td>0.229984</td>\n",
       "      <td>80246.953231</td>\n",
       "    </tr>\n",
       "    <tr>\n",
       "      <td>min</td>\n",
       "      <td>-1.000000</td>\n",
       "      <td>328728.720605</td>\n",
       "      <td>0.000000</td>\n",
       "      <td>0.000000</td>\n",
       "      <td>0.000000</td>\n",
       "      <td>0.000000</td>\n",
       "      <td>20667.263793</td>\n",
       "    </tr>\n",
       "    <tr>\n",
       "      <td>25%</td>\n",
       "      <td>0.000000</td>\n",
       "      <td>346649.346146</td>\n",
       "      <td>56.000000</td>\n",
       "      <td>1.000000</td>\n",
       "      <td>0.000000</td>\n",
       "      <td>0.000000</td>\n",
       "      <td>82881.443465</td>\n",
       "    </tr>\n",
       "    <tr>\n",
       "      <td>50%</td>\n",
       "      <td>0.000000</td>\n",
       "      <td>365213.306266</td>\n",
       "      <td>60.000000</td>\n",
       "      <td>1.000000</td>\n",
       "      <td>0.000000</td>\n",
       "      <td>0.000000</td>\n",
       "      <td>118514.486412</td>\n",
       "    </tr>\n",
       "    <tr>\n",
       "      <td>75%</td>\n",
       "      <td>0.000000</td>\n",
       "      <td>383231.396871</td>\n",
       "      <td>64.000000</td>\n",
       "      <td>1.000000</td>\n",
       "      <td>2.000000</td>\n",
       "      <td>0.000000</td>\n",
       "      <td>169700.433010</td>\n",
       "    </tr>\n",
       "    <tr>\n",
       "      <td>max</td>\n",
       "      <td>20.000000</td>\n",
       "      <td>401755.400475</td>\n",
       "      <td>74.000000</td>\n",
       "      <td>4.000000</td>\n",
       "      <td>4.000000</td>\n",
       "      <td>1.000000</td>\n",
       "      <td>735103.270167</td>\n",
       "    </tr>\n",
       "  </tbody>\n",
       "</table>\n",
       "</div>"
      ],
      "text/plain": [
       "          children  days_employed    dob_years  education_id  \\\n",
       "count  3856.000000    3443.000000  3856.000000   3856.000000   \n",
       "mean      0.132002  365003.491245    59.063019      0.913900   \n",
       "std       1.014271   21069.606065     7.618526      0.510185   \n",
       "min      -1.000000  328728.720605     0.000000      0.000000   \n",
       "25%       0.000000  346649.346146    56.000000      1.000000   \n",
       "50%       0.000000  365213.306266    60.000000      1.000000   \n",
       "75%       0.000000  383231.396871    64.000000      1.000000   \n",
       "max      20.000000  401755.400475    74.000000      4.000000   \n",
       "\n",
       "       family_status_id         debt   total_income  \n",
       "count       3856.000000  3856.000000    3443.000000  \n",
       "mean           0.985737     0.056017  137127.465690  \n",
       "std            1.315202     0.229984   80246.953231  \n",
       "min            0.000000     0.000000   20667.263793  \n",
       "25%            0.000000     0.000000   82881.443465  \n",
       "50%            0.000000     0.000000  118514.486412  \n",
       "75%            2.000000     0.000000  169700.433010  \n",
       "max            4.000000     1.000000  735103.270167  "
      ]
     },
     "execution_count": 14,
     "metadata": {},
     "output_type": "execute_result"
    }
   ],
   "source": [
    "retired_clients = clients_info[clients_info['income_type'] == 'пенсионер']\n",
    "retired_clients.describe()"
   ]
  },
  {
   "cell_type": "markdown",
   "metadata": {},
   "source": [
    "В этой категории 3 856 человек, для 413 из них пропущены данные."
   ]
  },
  {
   "cell_type": "markdown",
   "metadata": {},
   "source": [
    "Отметим, что все данные трудового стажа и ежемесячного дохода в рамках данной категории принимают положительные значения. Однако, значения в столбце с трудовым стажем имеют слишком большой разброс - с ним явно что-то не так. Чтобы заполнение пропусков не исказило ещё больше данные, вернёмся к этому столбцу позже. А пропуски в столбце с доходом мы можем обработать - заменим пропущенные значения на медианные."
   ]
  },
  {
   "cell_type": "code",
   "execution_count": 15,
   "metadata": {},
   "outputs": [],
   "source": [
    "total_income_fillna('пенсионер', retired_clients)"
   ]
  },
  {
   "cell_type": "markdown",
   "metadata": {},
   "source": [
    "##### Предприниматели"
   ]
  },
  {
   "cell_type": "code",
   "execution_count": 16,
   "metadata": {
    "scrolled": true
   },
   "outputs": [
    {
     "data": {
      "text/html": [
       "<div>\n",
       "<style scoped>\n",
       "    .dataframe tbody tr th:only-of-type {\n",
       "        vertical-align: middle;\n",
       "    }\n",
       "\n",
       "    .dataframe tbody tr th {\n",
       "        vertical-align: top;\n",
       "    }\n",
       "\n",
       "    .dataframe thead th {\n",
       "        text-align: right;\n",
       "    }\n",
       "</style>\n",
       "<table border=\"1\" class=\"dataframe\">\n",
       "  <thead>\n",
       "    <tr style=\"text-align: right;\">\n",
       "      <th></th>\n",
       "      <th>children</th>\n",
       "      <th>days_employed</th>\n",
       "      <th>dob_years</th>\n",
       "      <th>education_id</th>\n",
       "      <th>family_status_id</th>\n",
       "      <th>debt</th>\n",
       "      <th>total_income</th>\n",
       "    </tr>\n",
       "  </thead>\n",
       "  <tbody>\n",
       "    <tr>\n",
       "      <td>count</td>\n",
       "      <td>2.0</td>\n",
       "      <td>1.000000</td>\n",
       "      <td>2.00000</td>\n",
       "      <td>2.0</td>\n",
       "      <td>2.000000</td>\n",
       "      <td>2.0</td>\n",
       "      <td>1.000000</td>\n",
       "    </tr>\n",
       "    <tr>\n",
       "      <td>mean</td>\n",
       "      <td>0.0</td>\n",
       "      <td>-520.848083</td>\n",
       "      <td>42.50000</td>\n",
       "      <td>0.0</td>\n",
       "      <td>0.500000</td>\n",
       "      <td>0.0</td>\n",
       "      <td>499163.144947</td>\n",
       "    </tr>\n",
       "    <tr>\n",
       "      <td>std</td>\n",
       "      <td>0.0</td>\n",
       "      <td>NaN</td>\n",
       "      <td>21.92031</td>\n",
       "      <td>0.0</td>\n",
       "      <td>0.707107</td>\n",
       "      <td>0.0</td>\n",
       "      <td>NaN</td>\n",
       "    </tr>\n",
       "    <tr>\n",
       "      <td>min</td>\n",
       "      <td>0.0</td>\n",
       "      <td>-520.848083</td>\n",
       "      <td>27.00000</td>\n",
       "      <td>0.0</td>\n",
       "      <td>0.000000</td>\n",
       "      <td>0.0</td>\n",
       "      <td>499163.144947</td>\n",
       "    </tr>\n",
       "    <tr>\n",
       "      <td>25%</td>\n",
       "      <td>0.0</td>\n",
       "      <td>-520.848083</td>\n",
       "      <td>34.75000</td>\n",
       "      <td>0.0</td>\n",
       "      <td>0.250000</td>\n",
       "      <td>0.0</td>\n",
       "      <td>499163.144947</td>\n",
       "    </tr>\n",
       "    <tr>\n",
       "      <td>50%</td>\n",
       "      <td>0.0</td>\n",
       "      <td>-520.848083</td>\n",
       "      <td>42.50000</td>\n",
       "      <td>0.0</td>\n",
       "      <td>0.500000</td>\n",
       "      <td>0.0</td>\n",
       "      <td>499163.144947</td>\n",
       "    </tr>\n",
       "    <tr>\n",
       "      <td>75%</td>\n",
       "      <td>0.0</td>\n",
       "      <td>-520.848083</td>\n",
       "      <td>50.25000</td>\n",
       "      <td>0.0</td>\n",
       "      <td>0.750000</td>\n",
       "      <td>0.0</td>\n",
       "      <td>499163.144947</td>\n",
       "    </tr>\n",
       "    <tr>\n",
       "      <td>max</td>\n",
       "      <td>0.0</td>\n",
       "      <td>-520.848083</td>\n",
       "      <td>58.00000</td>\n",
       "      <td>0.0</td>\n",
       "      <td>1.000000</td>\n",
       "      <td>0.0</td>\n",
       "      <td>499163.144947</td>\n",
       "    </tr>\n",
       "  </tbody>\n",
       "</table>\n",
       "</div>"
      ],
      "text/plain": [
       "       children  days_employed  dob_years  education_id  family_status_id  \\\n",
       "count       2.0       1.000000    2.00000           2.0          2.000000   \n",
       "mean        0.0    -520.848083   42.50000           0.0          0.500000   \n",
       "std         0.0            NaN   21.92031           0.0          0.707107   \n",
       "min         0.0    -520.848083   27.00000           0.0          0.000000   \n",
       "25%         0.0    -520.848083   34.75000           0.0          0.250000   \n",
       "50%         0.0    -520.848083   42.50000           0.0          0.500000   \n",
       "75%         0.0    -520.848083   50.25000           0.0          0.750000   \n",
       "max         0.0    -520.848083   58.00000           0.0          1.000000   \n",
       "\n",
       "       debt   total_income  \n",
       "count   2.0       1.000000  \n",
       "mean    0.0  499163.144947  \n",
       "std     0.0            NaN  \n",
       "min     0.0  499163.144947  \n",
       "25%     0.0  499163.144947  \n",
       "50%     0.0  499163.144947  \n",
       "75%     0.0  499163.144947  \n",
       "max     0.0  499163.144947  "
      ]
     },
     "execution_count": 16,
     "metadata": {},
     "output_type": "execute_result"
    }
   ],
   "source": [
    "enterpr_clients = clients_info[clients_info['income_type'] == 'предприниматель']\n",
    "enterpr_clients.describe()"
   ]
  },
  {
   "cell_type": "markdown",
   "metadata": {},
   "source": [
    "В этой категории всего 2 человека, и только по одному есть данные: значение для него будет и минимумом, и максимумом, и медианой."
   ]
  },
  {
   "cell_type": "markdown",
   "metadata": {},
   "source": [
    "Некорректно будет присваивать второму предпринимателю то же значение стажа и дохода, что и первому, поскольку их возраст различен; и у нас нет информации - в какой сфере они занимаются предпринимательской деятельностью (одинакова она или различается). И удаление строки видится более рациональным шагом, поскольку от всех данных это небольшой процент, а ввод некорректных данных в пропуск может значительно исказить анализ данной категории."
   ]
  },
  {
   "cell_type": "code",
   "execution_count": 17,
   "metadata": {},
   "outputs": [],
   "source": [
    "condition = clients_info.loc[(clients_info['income_type'] == 'предприниматель') & (clients_info['total_income'].isnull())]\n",
    "clients_info.drop(condition.index, inplace=True)"
   ]
  },
  {
   "cell_type": "markdown",
   "metadata": {},
   "source": [
    "##### Сотрудники"
   ]
  },
  {
   "cell_type": "code",
   "execution_count": 18,
   "metadata": {},
   "outputs": [
    {
     "data": {
      "text/html": [
       "<div>\n",
       "<style scoped>\n",
       "    .dataframe tbody tr th:only-of-type {\n",
       "        vertical-align: middle;\n",
       "    }\n",
       "\n",
       "    .dataframe tbody tr th {\n",
       "        vertical-align: top;\n",
       "    }\n",
       "\n",
       "    .dataframe thead th {\n",
       "        text-align: right;\n",
       "    }\n",
       "</style>\n",
       "<table border=\"1\" class=\"dataframe\">\n",
       "  <thead>\n",
       "    <tr style=\"text-align: right;\">\n",
       "      <th></th>\n",
       "      <th>children</th>\n",
       "      <th>days_employed</th>\n",
       "      <th>dob_years</th>\n",
       "      <th>education_id</th>\n",
       "      <th>family_status_id</th>\n",
       "      <th>debt</th>\n",
       "      <th>total_income</th>\n",
       "    </tr>\n",
       "  </thead>\n",
       "  <tbody>\n",
       "    <tr>\n",
       "      <td>count</td>\n",
       "      <td>11119.000000</td>\n",
       "      <td>10014.000000</td>\n",
       "      <td>11119.000000</td>\n",
       "      <td>11119.000000</td>\n",
       "      <td>11119.000000</td>\n",
       "      <td>11119.000000</td>\n",
       "      <td>1.001400e+04</td>\n",
       "    </tr>\n",
       "    <tr>\n",
       "      <td>mean</td>\n",
       "      <td>0.641784</td>\n",
       "      <td>-2326.499216</td>\n",
       "      <td>39.821027</td>\n",
       "      <td>0.849627</td>\n",
       "      <td>0.955661</td>\n",
       "      <td>0.095422</td>\n",
       "      <td>1.613803e+05</td>\n",
       "    </tr>\n",
       "    <tr>\n",
       "      <td>std</td>\n",
       "      <td>1.448530</td>\n",
       "      <td>2307.924129</td>\n",
       "      <td>10.655127</td>\n",
       "      <td>0.525186</td>\n",
       "      <td>1.427291</td>\n",
       "      <td>0.293810</td>\n",
       "      <td>9.132251e+04</td>\n",
       "    </tr>\n",
       "    <tr>\n",
       "      <td>min</td>\n",
       "      <td>-1.000000</td>\n",
       "      <td>-18388.949901</td>\n",
       "      <td>0.000000</td>\n",
       "      <td>0.000000</td>\n",
       "      <td>0.000000</td>\n",
       "      <td>0.000000</td>\n",
       "      <td>2.136765e+04</td>\n",
       "    </tr>\n",
       "    <tr>\n",
       "      <td>25%</td>\n",
       "      <td>0.000000</td>\n",
       "      <td>-3108.123025</td>\n",
       "      <td>32.000000</td>\n",
       "      <td>1.000000</td>\n",
       "      <td>0.000000</td>\n",
       "      <td>0.000000</td>\n",
       "      <td>1.027956e+05</td>\n",
       "    </tr>\n",
       "    <tr>\n",
       "      <td>50%</td>\n",
       "      <td>0.000000</td>\n",
       "      <td>-1574.202821</td>\n",
       "      <td>39.000000</td>\n",
       "      <td>1.000000</td>\n",
       "      <td>0.000000</td>\n",
       "      <td>0.000000</td>\n",
       "      <td>1.425944e+05</td>\n",
       "    </tr>\n",
       "    <tr>\n",
       "      <td>75%</td>\n",
       "      <td>1.000000</td>\n",
       "      <td>-746.027361</td>\n",
       "      <td>48.000000</td>\n",
       "      <td>1.000000</td>\n",
       "      <td>1.000000</td>\n",
       "      <td>0.000000</td>\n",
       "      <td>1.968281e+05</td>\n",
       "    </tr>\n",
       "    <tr>\n",
       "      <td>max</td>\n",
       "      <td>20.000000</td>\n",
       "      <td>-24.141633</td>\n",
       "      <td>74.000000</td>\n",
       "      <td>4.000000</td>\n",
       "      <td>4.000000</td>\n",
       "      <td>1.000000</td>\n",
       "      <td>1.726276e+06</td>\n",
       "    </tr>\n",
       "  </tbody>\n",
       "</table>\n",
       "</div>"
      ],
      "text/plain": [
       "           children  days_employed     dob_years  education_id  \\\n",
       "count  11119.000000   10014.000000  11119.000000  11119.000000   \n",
       "mean       0.641784   -2326.499216     39.821027      0.849627   \n",
       "std        1.448530    2307.924129     10.655127      0.525186   \n",
       "min       -1.000000  -18388.949901      0.000000      0.000000   \n",
       "25%        0.000000   -3108.123025     32.000000      1.000000   \n",
       "50%        0.000000   -1574.202821     39.000000      1.000000   \n",
       "75%        1.000000    -746.027361     48.000000      1.000000   \n",
       "max       20.000000     -24.141633     74.000000      4.000000   \n",
       "\n",
       "       family_status_id          debt  total_income  \n",
       "count      11119.000000  11119.000000  1.001400e+04  \n",
       "mean           0.955661      0.095422  1.613803e+05  \n",
       "std            1.427291      0.293810  9.132251e+04  \n",
       "min            0.000000      0.000000  2.136765e+04  \n",
       "25%            0.000000      0.000000  1.027956e+05  \n",
       "50%            0.000000      0.000000  1.425944e+05  \n",
       "75%            1.000000      0.000000  1.968281e+05  \n",
       "max            4.000000      1.000000  1.726276e+06  "
      ]
     },
     "execution_count": 18,
     "metadata": {},
     "output_type": "execute_result"
    }
   ],
   "source": [
    "employee_clients = clients_info[clients_info['income_type'] == 'сотрудник']\n",
    "employee_clients.describe()"
   ]
  },
  {
   "cell_type": "markdown",
   "metadata": {},
   "source": [
    "В этой категории 11 119 человек, для 1 105 из них пропущены данные."
   ]
  },
  {
   "cell_type": "markdown",
   "metadata": {},
   "source": [
    "Отметим, что все данные трудового стажа в рамках данной категории принимают отрицательные значения, хотя разброс у них и велик. Как и в предшествующих категориях, мы не можем пока заполнить для них пропуски. Вернёмся к этому позднее.\n",
    "\n",
    "В данных по ежемесячному доходу все значения положительны, заменим пропуски на медианное значение."
   ]
  },
  {
   "cell_type": "code",
   "execution_count": 19,
   "metadata": {},
   "outputs": [],
   "source": [
    "total_income_fillna('сотрудник', employee_clients)"
   ]
  },
  {
   "cell_type": "markdown",
   "metadata": {},
   "source": [
    "##### Студенты"
   ]
  },
  {
   "cell_type": "code",
   "execution_count": 20,
   "metadata": {},
   "outputs": [
    {
     "data": {
      "text/html": [
       "<div>\n",
       "<style scoped>\n",
       "    .dataframe tbody tr th:only-of-type {\n",
       "        vertical-align: middle;\n",
       "    }\n",
       "\n",
       "    .dataframe tbody tr th {\n",
       "        vertical-align: top;\n",
       "    }\n",
       "\n",
       "    .dataframe thead th {\n",
       "        text-align: right;\n",
       "    }\n",
       "</style>\n",
       "<table border=\"1\" class=\"dataframe\">\n",
       "  <thead>\n",
       "    <tr style=\"text-align: right;\">\n",
       "      <th></th>\n",
       "      <th>children</th>\n",
       "      <th>days_employed</th>\n",
       "      <th>dob_years</th>\n",
       "      <th>education_id</th>\n",
       "      <th>family_status_id</th>\n",
       "      <th>debt</th>\n",
       "      <th>total_income</th>\n",
       "    </tr>\n",
       "  </thead>\n",
       "  <tbody>\n",
       "    <tr>\n",
       "      <td>count</td>\n",
       "      <td>1.0</td>\n",
       "      <td>1.000000</td>\n",
       "      <td>1.0</td>\n",
       "      <td>1.0</td>\n",
       "      <td>1.0</td>\n",
       "      <td>1.0</td>\n",
       "      <td>1.000000</td>\n",
       "    </tr>\n",
       "    <tr>\n",
       "      <td>mean</td>\n",
       "      <td>0.0</td>\n",
       "      <td>-578.751554</td>\n",
       "      <td>22.0</td>\n",
       "      <td>0.0</td>\n",
       "      <td>4.0</td>\n",
       "      <td>0.0</td>\n",
       "      <td>98201.625314</td>\n",
       "    </tr>\n",
       "    <tr>\n",
       "      <td>std</td>\n",
       "      <td>NaN</td>\n",
       "      <td>NaN</td>\n",
       "      <td>NaN</td>\n",
       "      <td>NaN</td>\n",
       "      <td>NaN</td>\n",
       "      <td>NaN</td>\n",
       "      <td>NaN</td>\n",
       "    </tr>\n",
       "    <tr>\n",
       "      <td>min</td>\n",
       "      <td>0.0</td>\n",
       "      <td>-578.751554</td>\n",
       "      <td>22.0</td>\n",
       "      <td>0.0</td>\n",
       "      <td>4.0</td>\n",
       "      <td>0.0</td>\n",
       "      <td>98201.625314</td>\n",
       "    </tr>\n",
       "    <tr>\n",
       "      <td>25%</td>\n",
       "      <td>0.0</td>\n",
       "      <td>-578.751554</td>\n",
       "      <td>22.0</td>\n",
       "      <td>0.0</td>\n",
       "      <td>4.0</td>\n",
       "      <td>0.0</td>\n",
       "      <td>98201.625314</td>\n",
       "    </tr>\n",
       "    <tr>\n",
       "      <td>50%</td>\n",
       "      <td>0.0</td>\n",
       "      <td>-578.751554</td>\n",
       "      <td>22.0</td>\n",
       "      <td>0.0</td>\n",
       "      <td>4.0</td>\n",
       "      <td>0.0</td>\n",
       "      <td>98201.625314</td>\n",
       "    </tr>\n",
       "    <tr>\n",
       "      <td>75%</td>\n",
       "      <td>0.0</td>\n",
       "      <td>-578.751554</td>\n",
       "      <td>22.0</td>\n",
       "      <td>0.0</td>\n",
       "      <td>4.0</td>\n",
       "      <td>0.0</td>\n",
       "      <td>98201.625314</td>\n",
       "    </tr>\n",
       "    <tr>\n",
       "      <td>max</td>\n",
       "      <td>0.0</td>\n",
       "      <td>-578.751554</td>\n",
       "      <td>22.0</td>\n",
       "      <td>0.0</td>\n",
       "      <td>4.0</td>\n",
       "      <td>0.0</td>\n",
       "      <td>98201.625314</td>\n",
       "    </tr>\n",
       "  </tbody>\n",
       "</table>\n",
       "</div>"
      ],
      "text/plain": [
       "       children  days_employed  dob_years  education_id  family_status_id  \\\n",
       "count       1.0       1.000000        1.0           1.0               1.0   \n",
       "mean        0.0    -578.751554       22.0           0.0               4.0   \n",
       "std         NaN            NaN        NaN           NaN               NaN   \n",
       "min         0.0    -578.751554       22.0           0.0               4.0   \n",
       "25%         0.0    -578.751554       22.0           0.0               4.0   \n",
       "50%         0.0    -578.751554       22.0           0.0               4.0   \n",
       "75%         0.0    -578.751554       22.0           0.0               4.0   \n",
       "max         0.0    -578.751554       22.0           0.0               4.0   \n",
       "\n",
       "       debt  total_income  \n",
       "count   1.0      1.000000  \n",
       "mean    0.0  98201.625314  \n",
       "std     NaN           NaN  \n",
       "min     0.0  98201.625314  \n",
       "25%     0.0  98201.625314  \n",
       "50%     0.0  98201.625314  \n",
       "75%     0.0  98201.625314  \n",
       "max     0.0  98201.625314  "
      ]
     },
     "execution_count": 20,
     "metadata": {},
     "output_type": "execute_result"
    }
   ],
   "source": [
    "students_clients = clients_info[clients_info['income_type'] == 'студент']\n",
    "students_clients.describe()"
   ]
  },
  {
   "cell_type": "markdown",
   "metadata": {},
   "source": [
    "В этой категории всего 1 человек, по которому есть данные: значение для него будет и минимумом, и максимумом, и медианой. Хотя в данной категории и нет пропусков, но данные нуждаются в дальнейшей обработке, к которой мы вернемся позже."
   ]
  },
  {
   "cell_type": "markdown",
   "metadata": {},
   "source": [
    "Далее проверим, что у нас не осталось пропущенных значений в Датафрейме, кроме столбца `days_employed`, который мы заполним после работы с данными в нём."
   ]
  },
  {
   "cell_type": "code",
   "execution_count": 21,
   "metadata": {},
   "outputs": [
    {
     "data": {
      "text/plain": [
       "children               0\n",
       "days_employed       2173\n",
       "dob_years              0\n",
       "education              0\n",
       "education_id           0\n",
       "family_status          0\n",
       "family_status_id       0\n",
       "gender                 0\n",
       "income_type            0\n",
       "debt                   0\n",
       "total_income           0\n",
       "purpose                0\n",
       "dtype: int64"
      ]
     },
     "execution_count": 21,
     "metadata": {},
     "output_type": "execute_result"
    }
   ],
   "source": [
    "clients_info.isnull().sum()"
   ]
  },
  {
   "cell_type": "markdown",
   "metadata": {},
   "source": [
    "#### Обработка данных по столбцам"
   ]
  },
  {
   "cell_type": "markdown",
   "metadata": {},
   "source": [
    "Прежде чем проводить анализ данных, убедимся, что с данными можно работать: не допущено опечаток; все данные достаточно однородны; нет отрицательных значений там, где их не может существовать. Это необходимо сделать до поиска дубликатов, поскольку без исправления опечаток мы можем и не выявить дубликаты там, где они на самом деле есть.\n",
    "\n",
    "Разберем данные по каждому столбцу."
   ]
  },
  {
   "cell_type": "markdown",
   "metadata": {},
   "source": [
    "##### Количество детей в семье <a id='children'></a>"
   ]
  },
  {
   "cell_type": "markdown",
   "metadata": {},
   "source": [
    "Рассмотрим, какие значения принимает данный столбец."
   ]
  },
  {
   "cell_type": "code",
   "execution_count": 22,
   "metadata": {},
   "outputs": [
    {
     "data": {
      "text/plain": [
       "children\n",
       "-1        47\n",
       " 0     14148\n",
       " 1      4818\n",
       " 2      2055\n",
       " 3       330\n",
       " 4        41\n",
       " 5         9\n",
       " 20       76\n",
       "Name: children, dtype: int64"
      ]
     },
     "execution_count": 22,
     "metadata": {},
     "output_type": "execute_result"
    }
   ],
   "source": [
    "clients_info.groupby('children')['children'].count()"
   ]
  },
  {
   "cell_type": "markdown",
   "metadata": {},
   "source": [
    "У нас есть 47 строк со значением -1, а также 76 строк со значением 20. Скорее всего, это опечатки (то есть ошибки, связанные с человеческим фактором), либо неверные выгрузки (ошибки, связанные с техническим фактором). В любом случае, их следует исправить. Допустим, что -1 - это число 1, в котором случайно возник \"минус\"; а 20 - это число 2, к которому случайно \"припечатали\" 0, так как они находятся рядом на NumPad-е. Исправим опечатки методом `replace()`."
   ]
  },
  {
   "cell_type": "code",
   "execution_count": 23,
   "metadata": {},
   "outputs": [
    {
     "data": {
      "text/plain": [
       "children\n",
       "0    14148\n",
       "1     4865\n",
       "2     2131\n",
       "3      330\n",
       "4       41\n",
       "5        9\n",
       "Name: children, dtype: int64"
      ]
     },
     "execution_count": 23,
     "metadata": {},
     "output_type": "execute_result"
    }
   ],
   "source": [
    "clients_info['children'] = clients_info['children'].replace(-1, 1)\n",
    "clients_info['children'] = clients_info['children'].replace(20, 2)\n",
    "clients_info.groupby('children')['children'].count()"
   ]
  },
  {
   "cell_type": "markdown",
   "metadata": {},
   "source": [
    "Теперь с данными по столбцу можно работать."
   ]
  },
  {
   "cell_type": "markdown",
   "metadata": {},
   "source": [
    "##### Общий трудовой стаж <a id='days_empl'></a>"
   ]
  },
  {
   "cell_type": "markdown",
   "metadata": {},
   "source": [
    "Прежде чем работать с трудовым стажем, переведем дни в количество лет. Добавим в таблицу столбец `years_employed`."
   ]
  },
  {
   "cell_type": "code",
   "execution_count": 24,
   "metadata": {},
   "outputs": [],
   "source": [
    "clients_info['years_employed'] = clients_info['days_employed'] / 365"
   ]
  },
  {
   "cell_type": "markdown",
   "metadata": {},
   "source": [
    "Однако, как указывалось ранее, этот показатель либо завышен по некоторым категориям и имеет большой разброс, либо принимает отрицательное значение. Данный показатель необходимо сравнить с максимально возможным стажем (исходя из возраста клиента). И, если это необходимо и возможно, следует пересчитать значения, чтобы привести их в более реальный вид. \n",
    "\n",
    "Поскольку проблема с данными по этому столбцу разнится в разных категориях, объединим категории со схожими проблемами и преобразуем данные. Для этого нам потребуется еще один столбец, рассчитывающий максимальное количество лет стажа, исходя из возраста клиента."
   ]
  },
  {
   "cell_type": "code",
   "execution_count": 25,
   "metadata": {},
   "outputs": [],
   "source": [
    "clients_info['max_employed'] = clients_info['dob_years'] - 16\n",
    "clients_info.loc[clients_info['max_employed'] < 0, 'max_employed'] = 0"
   ]
  },
  {
   "cell_type": "markdown",
   "metadata": {},
   "source": [
    "Выше, когда мы работали с пропусками и рассматривали каждую из категорий по типу занятости, мы рассчитывали максимальное и минимальное значение в каждой из полученных выборок. На основании этих значений, в каждой из категорий была выделена проблема с данными.\n",
    "\n",
    "Можем сгруппировать категории по типу схожих проблем:\n",
    "\n",
    "- Завышенные значения: Безработные, Пенсионеры\n",
    "- Отрицательные значения: Госслужащие, Компаньоны, Сотрудники, В декрете, Предприниматели, Студенты\n",
    "\n",
    "Сначала решим вторую проблему, затем первую. Обработаем отрицательные значения: предположим, что минус в них появился случайно, то есть абсолютные значения являются верными. Обработаем завышенные значения: если фактическое количество отработанных лет свыше максимально возможного, принимаем максимально возможное; если меньше - оставляем фактическое значение.\n",
    "\n",
    "После всех преобразований проверим максимальное и минимальное значения."
   ]
  },
  {
   "cell_type": "code",
   "execution_count": 26,
   "metadata": {},
   "outputs": [
    {
     "name": "stdout",
     "output_type": "stream",
     "text": [
      "Максимальное значение трудового стажа составляет 58.0 лет, а минимальное - 0.0 лет\n"
     ]
    }
   ],
   "source": [
    "clients_info['years_employed'] = abs(clients_info['years_employed'])\n",
    "clients_info['years_employed'] = np.where(clients_info['years_employed'] > clients_info['max_employed'],\n",
    "                                          clients_info['max_employed'], clients_info['years_employed'])\n",
    "print('Максимальное значение трудового стажа составляет {} лет, а минимальное - {} лет'\n",
    "      .format(clients_info['years_employed'].max(), clients_info['years_employed'].min()))"
   ]
  },
  {
   "cell_type": "markdown",
   "metadata": {},
   "source": [
    "Теперь мы можем удалить столбец с общим трудовым стажем в днях и максимально возможным стажем, поскольку они нам больше не нужны. Мы будем пользоваться столбцом с корректными данными общего трудового стажа в годах.\n",
    "Также теперь мы можем заполнить пропуски для категорий \"госслужащие\", \"компаньоны\", \"пенсионеры\", \"сотрудники\" по данному столбцу."
   ]
  },
  {
   "cell_type": "code",
   "execution_count": 27,
   "metadata": {},
   "outputs": [],
   "source": [
    "clients_info.drop(['days_employed', 'max_employed'], axis='columns', inplace=True)"
   ]
  },
  {
   "cell_type": "code",
   "execution_count": 28,
   "metadata": {},
   "outputs": [],
   "source": [
    "# Функция для заполнения пропусков по трудовому стажу для категории\n",
    "def days_employed_fillna(income_type, filtered_data):\n",
    "    condition = clients_info['income_type'] == income_type\n",
    "    clients_info.loc[condition, 'years_employed'] = (clients_info\n",
    "                                                       .loc[condition, 'years_employed']\n",
    "                                                       .fillna(filtered_data['years_employed'].median())\n",
    "                                                  )"
   ]
  },
  {
   "cell_type": "code",
   "execution_count": 29,
   "metadata": {},
   "outputs": [],
   "source": [
    "# Заполнение пропусков в трудовом стаже госслужащих\n",
    "civserv_clients = clients_info[clients_info['income_type'] == 'госслужащий']\n",
    "days_employed_fillna('госслужащий', civserv_clients)\n",
    "# Заполнение пропусков в трудовом стаже компаньонов\n",
    "compan_clients = clients_info[clients_info['income_type'] == 'компаньон']\n",
    "days_employed_fillna('компаньон', compan_clients)\n",
    "# Заполнение пропусков в трудовом стаже пенсионеров\n",
    "retired_clients = clients_info[clients_info['income_type'] == 'пенсионер']\n",
    "days_employed_fillna('пенсионер', retired_clients)\n",
    "# Заполнение пропусков в трудовом стаже сотрудников\n",
    "employee_clients = clients_info[clients_info['income_type'] == 'сотрудник']\n",
    "days_employed_fillna('сотрудник', employee_clients)"
   ]
  },
  {
   "cell_type": "markdown",
   "metadata": {},
   "source": [
    "Проверим, что теперь все пропуски в данных заполнены."
   ]
  },
  {
   "cell_type": "code",
   "execution_count": 30,
   "metadata": {},
   "outputs": [
    {
     "data": {
      "text/plain": [
       "children            0\n",
       "dob_years           0\n",
       "education           0\n",
       "education_id        0\n",
       "family_status       0\n",
       "family_status_id    0\n",
       "gender              0\n",
       "income_type         0\n",
       "debt                0\n",
       "total_income        0\n",
       "purpose             0\n",
       "years_employed      0\n",
       "dtype: int64"
      ]
     },
     "execution_count": 30,
     "metadata": {},
     "output_type": "execute_result"
    }
   ],
   "source": [
    "clients_info.isnull().sum()"
   ]
  },
  {
   "cell_type": "markdown",
   "metadata": {},
   "source": [
    "##### Возраст клиента <a id='years'></a>"
   ]
  },
  {
   "cell_type": "markdown",
   "metadata": {},
   "source": [
    "Рассмотрим, какие значения принимает данный столбец."
   ]
  },
  {
   "cell_type": "code",
   "execution_count": 31,
   "metadata": {},
   "outputs": [
    {
     "data": {
      "text/plain": [
       "count    21524.000000\n",
       "mean        43.292697\n",
       "std         12.574476\n",
       "min          0.000000\n",
       "25%         33.000000\n",
       "50%         42.000000\n",
       "75%         53.000000\n",
       "max         75.000000\n",
       "Name: dob_years, dtype: float64"
      ]
     },
     "execution_count": 31,
     "metadata": {},
     "output_type": "execute_result"
    }
   ],
   "source": [
    "clients_info['dob_years'].describe()"
   ]
  },
  {
   "cell_type": "code",
   "execution_count": 32,
   "metadata": {},
   "outputs": [
    {
     "data": {
      "text/plain": [
       "101"
      ]
     },
     "execution_count": 32,
     "metadata": {},
     "output_type": "execute_result"
    }
   ],
   "source": [
    "clients_info[clients_info['dob_years'] == 0]['dob_years'].count()"
   ]
  },
  {
   "cell_type": "markdown",
   "metadata": {},
   "source": [
    "Несмотря на то, что в этом столбце не было пропущенных данных, у нас есть 101 строка со значением 0. Мы можем попробовать восстановить часть данных, исходя из стажа. Те строки, которые воостановить не получится (по которым стаж равен 0), придётся удалить."
   ]
  },
  {
   "cell_type": "code",
   "execution_count": 33,
   "metadata": {},
   "outputs": [
    {
     "name": "stdout",
     "output_type": "stream",
     "text": [
      "Осталость нулевых строк для корректировки: 10\n",
      "Минимальное значение возраста клиента составляет 0 лет\n"
     ]
    }
   ],
   "source": [
    "condition = clients_info.loc[(clients_info['dob_years'] == 0) & (clients_info['years_employed'] == 0)]\n",
    "clients_info.drop(condition.index, inplace=True)\n",
    "print('Осталость нулевых строк для корректировки: {}'.format(clients_info.loc[clients_info['dob_years'] == 0, 'dob_years']\n",
    "                                                             .count()))\n",
    "print('Минимальное значение возраста клиента составляет {} лет'.format(clients_info['dob_years'].min()))"
   ]
  },
  {
   "cell_type": "markdown",
   "metadata": {},
   "source": [
    "Получаем, что почти все строки (за исключением 10 строк) не могли быть восстановлены. Поскольку 10 строк - это всего 0,05%, а 101 строка - это около 0,5% от всей выборки по данному столбцу, их удаление не исказит результаты анализа."
   ]
  },
  {
   "cell_type": "code",
   "execution_count": 34,
   "metadata": {},
   "outputs": [],
   "source": [
    "clients_info.drop(clients_info.loc[(clients_info['dob_years'] == 0)].index, inplace=True)"
   ]
  },
  {
   "cell_type": "code",
   "execution_count": 35,
   "metadata": {},
   "outputs": [
    {
     "name": "stdout",
     "output_type": "stream",
     "text": [
      "Минимальное значение возраста клиента составляет 19 лет\n"
     ]
    }
   ],
   "source": [
    "print('Минимальное значение возраста клиента составляет {} лет'.format(clients_info['dob_years'].min()))"
   ]
  },
  {
   "cell_type": "markdown",
   "metadata": {},
   "source": [
    "Теперь все значения в данном столбце выглядят реалистично."
   ]
  },
  {
   "cell_type": "markdown",
   "metadata": {},
   "source": [
    "##### Уровень образования <a id='edu'></a> <a id='edu_id'></a>"
   ]
  },
  {
   "cell_type": "markdown",
   "metadata": {},
   "source": [
    "В данном подпункте рассмотрим два взаимосвязанных столбца: уровень образования клиента и идентификатор уровня образования."
   ]
  },
  {
   "cell_type": "code",
   "execution_count": 36,
   "metadata": {},
   "outputs": [
    {
     "data": {
      "text/html": [
       "<div>\n",
       "<style scoped>\n",
       "    .dataframe tbody tr th:only-of-type {\n",
       "        vertical-align: middle;\n",
       "    }\n",
       "\n",
       "    .dataframe tbody tr th {\n",
       "        vertical-align: top;\n",
       "    }\n",
       "\n",
       "    .dataframe thead th {\n",
       "        text-align: right;\n",
       "    }\n",
       "</style>\n",
       "<table border=\"1\" class=\"dataframe\">\n",
       "  <thead>\n",
       "    <tr style=\"text-align: right;\">\n",
       "      <th></th>\n",
       "      <th>education_id</th>\n",
       "      <th>education</th>\n",
       "      <th>index</th>\n",
       "    </tr>\n",
       "  </thead>\n",
       "  <tbody>\n",
       "    <tr>\n",
       "      <td>0</td>\n",
       "      <td>0</td>\n",
       "      <td>ВЫСШЕЕ</td>\n",
       "      <td>273</td>\n",
       "    </tr>\n",
       "    <tr>\n",
       "      <td>1</td>\n",
       "      <td>0</td>\n",
       "      <td>Высшее</td>\n",
       "      <td>266</td>\n",
       "    </tr>\n",
       "    <tr>\n",
       "      <td>2</td>\n",
       "      <td>0</td>\n",
       "      <td>высшее</td>\n",
       "      <td>4685</td>\n",
       "    </tr>\n",
       "    <tr>\n",
       "      <td>3</td>\n",
       "      <td>1</td>\n",
       "      <td>СРЕДНЕЕ</td>\n",
       "      <td>770</td>\n",
       "    </tr>\n",
       "    <tr>\n",
       "      <td>4</td>\n",
       "      <td>1</td>\n",
       "      <td>Среднее</td>\n",
       "      <td>708</td>\n",
       "    </tr>\n",
       "    <tr>\n",
       "      <td>5</td>\n",
       "      <td>1</td>\n",
       "      <td>среднее</td>\n",
       "      <td>13691</td>\n",
       "    </tr>\n",
       "    <tr>\n",
       "      <td>6</td>\n",
       "      <td>2</td>\n",
       "      <td>НЕОКОНЧЕННОЕ ВЫСШЕЕ</td>\n",
       "      <td>29</td>\n",
       "    </tr>\n",
       "    <tr>\n",
       "      <td>7</td>\n",
       "      <td>2</td>\n",
       "      <td>Неоконченное высшее</td>\n",
       "      <td>47</td>\n",
       "    </tr>\n",
       "    <tr>\n",
       "      <td>8</td>\n",
       "      <td>2</td>\n",
       "      <td>неоконченное высшее</td>\n",
       "      <td>666</td>\n",
       "    </tr>\n",
       "    <tr>\n",
       "      <td>9</td>\n",
       "      <td>3</td>\n",
       "      <td>НАЧАЛЬНОЕ</td>\n",
       "      <td>17</td>\n",
       "    </tr>\n",
       "    <tr>\n",
       "      <td>10</td>\n",
       "      <td>3</td>\n",
       "      <td>Начальное</td>\n",
       "      <td>15</td>\n",
       "    </tr>\n",
       "    <tr>\n",
       "      <td>11</td>\n",
       "      <td>3</td>\n",
       "      <td>начальное</td>\n",
       "      <td>250</td>\n",
       "    </tr>\n",
       "    <tr>\n",
       "      <td>12</td>\n",
       "      <td>4</td>\n",
       "      <td>УЧЕНАЯ СТЕПЕНЬ</td>\n",
       "      <td>1</td>\n",
       "    </tr>\n",
       "    <tr>\n",
       "      <td>13</td>\n",
       "      <td>4</td>\n",
       "      <td>Ученая степень</td>\n",
       "      <td>1</td>\n",
       "    </tr>\n",
       "    <tr>\n",
       "      <td>14</td>\n",
       "      <td>4</td>\n",
       "      <td>ученая степень</td>\n",
       "      <td>4</td>\n",
       "    </tr>\n",
       "  </tbody>\n",
       "</table>\n",
       "</div>"
      ],
      "text/plain": [
       "    education_id            education  index\n",
       "0              0               ВЫСШЕЕ    273\n",
       "1              0               Высшее    266\n",
       "2              0               высшее   4685\n",
       "3              1              СРЕДНЕЕ    770\n",
       "4              1              Среднее    708\n",
       "5              1              среднее  13691\n",
       "6              2  НЕОКОНЧЕННОЕ ВЫСШЕЕ     29\n",
       "7              2  Неоконченное высшее     47\n",
       "8              2  неоконченное высшее    666\n",
       "9              3            НАЧАЛЬНОЕ     17\n",
       "10             3            Начальное     15\n",
       "11             3            начальное    250\n",
       "12             4       УЧЕНАЯ СТЕПЕНЬ      1\n",
       "13             4       Ученая степень      1\n",
       "14             4       ученая степень      4"
      ]
     },
     "execution_count": 36,
     "metadata": {},
     "output_type": "execute_result"
    }
   ],
   "source": [
    "(clients_info\n",
    "     .reset_index()\n",
    "     .pivot_table(index=['education_id', 'education'],\n",
    "                  values='index',\n",
    "                  aggfunc='count')\n",
    "     .reset_index()\n",
    ")"
   ]
  },
  {
   "cell_type": "markdown",
   "metadata": {},
   "source": [
    "Заметим, что индентификаторы принимают всего 5 значений, но наименования уровней образования разнятся, что связано с регистром. Приведем все символы в строках к нижнему регистру при помощи метода `str.lower()`."
   ]
  },
  {
   "cell_type": "code",
   "execution_count": 37,
   "metadata": {},
   "outputs": [
    {
     "data": {
      "text/html": [
       "<div>\n",
       "<style scoped>\n",
       "    .dataframe tbody tr th:only-of-type {\n",
       "        vertical-align: middle;\n",
       "    }\n",
       "\n",
       "    .dataframe tbody tr th {\n",
       "        vertical-align: top;\n",
       "    }\n",
       "\n",
       "    .dataframe thead th {\n",
       "        text-align: right;\n",
       "    }\n",
       "</style>\n",
       "<table border=\"1\" class=\"dataframe\">\n",
       "  <thead>\n",
       "    <tr style=\"text-align: right;\">\n",
       "      <th></th>\n",
       "      <th>education_id</th>\n",
       "      <th>education</th>\n",
       "      <th>index</th>\n",
       "    </tr>\n",
       "  </thead>\n",
       "  <tbody>\n",
       "    <tr>\n",
       "      <td>0</td>\n",
       "      <td>0</td>\n",
       "      <td>высшее</td>\n",
       "      <td>5224</td>\n",
       "    </tr>\n",
       "    <tr>\n",
       "      <td>1</td>\n",
       "      <td>1</td>\n",
       "      <td>среднее</td>\n",
       "      <td>15169</td>\n",
       "    </tr>\n",
       "    <tr>\n",
       "      <td>2</td>\n",
       "      <td>2</td>\n",
       "      <td>неоконченное высшее</td>\n",
       "      <td>742</td>\n",
       "    </tr>\n",
       "    <tr>\n",
       "      <td>3</td>\n",
       "      <td>3</td>\n",
       "      <td>начальное</td>\n",
       "      <td>282</td>\n",
       "    </tr>\n",
       "    <tr>\n",
       "      <td>4</td>\n",
       "      <td>4</td>\n",
       "      <td>ученая степень</td>\n",
       "      <td>6</td>\n",
       "    </tr>\n",
       "  </tbody>\n",
       "</table>\n",
       "</div>"
      ],
      "text/plain": [
       "   education_id            education  index\n",
       "0             0               высшее   5224\n",
       "1             1              среднее  15169\n",
       "2             2  неоконченное высшее    742\n",
       "3             3            начальное    282\n",
       "4             4       ученая степень      6"
      ]
     },
     "execution_count": 37,
     "metadata": {},
     "output_type": "execute_result"
    }
   ],
   "source": [
    "clients_info['education'] = clients_info['education'].str.lower()\n",
    "(clients_info\n",
    "     .reset_index()\n",
    "     .pivot_table(index=['education_id', 'education'],\n",
    "                  values='index',\n",
    "                  aggfunc='count')\n",
    "     .reset_index()\n",
    ")"
   ]
  },
  {
   "cell_type": "markdown",
   "metadata": {},
   "source": [
    "Теперь по количеству данных мы видим, что данные об образовании имеют следующие идентификаторы:\n",
    "\n",
    "- высшее - 0 (5 224 клиента);\n",
    "- среднее - 1 (15 169 клиентов);\n",
    "- неоконченное высшее - 2 (742 клиента);\n",
    "- начальное - 3 (282 клиента);\n",
    "- ученая степень - 4 (6 клиентов)."
   ]
  },
  {
   "cell_type": "markdown",
   "metadata": {},
   "source": [
    "##### Семейное положение <a id='fam_stat'></a> <a id='fam_stat_id'></a>"
   ]
  },
  {
   "cell_type": "markdown",
   "metadata": {},
   "source": [
    "Также как и с образованием, в данном подпункте рассмотрим два взаимосвязанных столбца: семейное положение и идентификатор семейного положения."
   ]
  },
  {
   "cell_type": "code",
   "execution_count": 38,
   "metadata": {},
   "outputs": [
    {
     "data": {
      "text/html": [
       "<div>\n",
       "<style scoped>\n",
       "    .dataframe tbody tr th:only-of-type {\n",
       "        vertical-align: middle;\n",
       "    }\n",
       "\n",
       "    .dataframe tbody tr th {\n",
       "        vertical-align: top;\n",
       "    }\n",
       "\n",
       "    .dataframe thead th {\n",
       "        text-align: right;\n",
       "    }\n",
       "</style>\n",
       "<table border=\"1\" class=\"dataframe\">\n",
       "  <thead>\n",
       "    <tr style=\"text-align: right;\">\n",
       "      <th></th>\n",
       "      <th>family_status_id</th>\n",
       "      <th>family_status</th>\n",
       "      <th>index</th>\n",
       "    </tr>\n",
       "  </thead>\n",
       "  <tbody>\n",
       "    <tr>\n",
       "      <td>0</td>\n",
       "      <td>0</td>\n",
       "      <td>женат / замужем</td>\n",
       "      <td>12330</td>\n",
       "    </tr>\n",
       "    <tr>\n",
       "      <td>1</td>\n",
       "      <td>1</td>\n",
       "      <td>гражданский брак</td>\n",
       "      <td>4156</td>\n",
       "    </tr>\n",
       "    <tr>\n",
       "      <td>2</td>\n",
       "      <td>2</td>\n",
       "      <td>вдовец / вдова</td>\n",
       "      <td>955</td>\n",
       "    </tr>\n",
       "    <tr>\n",
       "      <td>3</td>\n",
       "      <td>3</td>\n",
       "      <td>в разводе</td>\n",
       "      <td>1185</td>\n",
       "    </tr>\n",
       "    <tr>\n",
       "      <td>4</td>\n",
       "      <td>4</td>\n",
       "      <td>Не женат / не замужем</td>\n",
       "      <td>2797</td>\n",
       "    </tr>\n",
       "  </tbody>\n",
       "</table>\n",
       "</div>"
      ],
      "text/plain": [
       "   family_status_id          family_status  index\n",
       "0                 0        женат / замужем  12330\n",
       "1                 1       гражданский брак   4156\n",
       "2                 2         вдовец / вдова    955\n",
       "3                 3              в разводе   1185\n",
       "4                 4  Не женат / не замужем   2797"
      ]
     },
     "execution_count": 38,
     "metadata": {},
     "output_type": "execute_result"
    }
   ],
   "source": [
    "(clients_info\n",
    "     .reset_index()\n",
    "     .pivot_table(index=['family_status_id', 'family_status'],\n",
    "                  values='index',\n",
    "                  aggfunc='count')\n",
    "     .reset_index()\n",
    ")"
   ]
  },
  {
   "cell_type": "markdown",
   "metadata": {},
   "source": [
    "С этими данными всё в порядке. Единственное, что мы можем сделать - изменить регистр для статуса Не женат / не замужем, чтобы все данные имели одинаковый вид."
   ]
  },
  {
   "cell_type": "code",
   "execution_count": 39,
   "metadata": {},
   "outputs": [
    {
     "data": {
      "text/html": [
       "<div>\n",
       "<style scoped>\n",
       "    .dataframe tbody tr th:only-of-type {\n",
       "        vertical-align: middle;\n",
       "    }\n",
       "\n",
       "    .dataframe tbody tr th {\n",
       "        vertical-align: top;\n",
       "    }\n",
       "\n",
       "    .dataframe thead th {\n",
       "        text-align: right;\n",
       "    }\n",
       "</style>\n",
       "<table border=\"1\" class=\"dataframe\">\n",
       "  <thead>\n",
       "    <tr style=\"text-align: right;\">\n",
       "      <th></th>\n",
       "      <th>family_status_id</th>\n",
       "      <th>family_status</th>\n",
       "      <th>index</th>\n",
       "    </tr>\n",
       "  </thead>\n",
       "  <tbody>\n",
       "    <tr>\n",
       "      <td>0</td>\n",
       "      <td>0</td>\n",
       "      <td>женат / замужем</td>\n",
       "      <td>12330</td>\n",
       "    </tr>\n",
       "    <tr>\n",
       "      <td>1</td>\n",
       "      <td>1</td>\n",
       "      <td>гражданский брак</td>\n",
       "      <td>4156</td>\n",
       "    </tr>\n",
       "    <tr>\n",
       "      <td>2</td>\n",
       "      <td>2</td>\n",
       "      <td>вдовец / вдова</td>\n",
       "      <td>955</td>\n",
       "    </tr>\n",
       "    <tr>\n",
       "      <td>3</td>\n",
       "      <td>3</td>\n",
       "      <td>в разводе</td>\n",
       "      <td>1185</td>\n",
       "    </tr>\n",
       "    <tr>\n",
       "      <td>4</td>\n",
       "      <td>4</td>\n",
       "      <td>не женат / не замужем</td>\n",
       "      <td>2797</td>\n",
       "    </tr>\n",
       "  </tbody>\n",
       "</table>\n",
       "</div>"
      ],
      "text/plain": [
       "   family_status_id          family_status  index\n",
       "0                 0        женат / замужем  12330\n",
       "1                 1       гражданский брак   4156\n",
       "2                 2         вдовец / вдова    955\n",
       "3                 3              в разводе   1185\n",
       "4                 4  не женат / не замужем   2797"
      ]
     },
     "execution_count": 39,
     "metadata": {},
     "output_type": "execute_result"
    }
   ],
   "source": [
    "clients_info['family_status'] = clients_info['family_status'].str.lower()\n",
    "(clients_info\n",
    "     .reset_index()\n",
    "     .pivot_table(index=['family_status_id', 'family_status'],\n",
    "                  values='index',\n",
    "                  aggfunc='count')\n",
    "     .reset_index()\n",
    ")"
   ]
  },
  {
   "cell_type": "markdown",
   "metadata": {},
   "source": [
    "По количеству данных мы видим, что данные о семейном положении имеют следующие идентификаторы:\n",
    "\n",
    "- женат / замужем - 0 (12 330 клиентов);\n",
    "- гражданский брак - 1 (4 156 клиентов)\n",
    "- вдовец / вдова - 2 (955 клиентов);\n",
    "- в разводе - 3 (1 185 клиентов);\n",
    "- не женат / не замужем - 4 (2 797 клиентов)."
   ]
  },
  {
   "cell_type": "markdown",
   "metadata": {},
   "source": [
    "##### Пол клиента <a id='gender'></a>"
   ]
  },
  {
   "cell_type": "markdown",
   "metadata": {},
   "source": [
    "Рассмотрим, какие значения принимает данный столбец."
   ]
  },
  {
   "cell_type": "code",
   "execution_count": 40,
   "metadata": {},
   "outputs": [
    {
     "data": {
      "text/plain": [
       "gender\n",
       "F      14164\n",
       "M       7258\n",
       "XNA        1\n",
       "Name: gender, dtype: int64"
      ]
     },
     "execution_count": 40,
     "metadata": {},
     "output_type": "execute_result"
    }
   ],
   "source": [
    "clients_info.groupby('gender')['gender'].count()"
   ]
  },
  {
   "cell_type": "markdown",
   "metadata": {},
   "source": [
    "Несмотря на то, что в этом столбце не было пропущенных данных, у нас есть 1 строка со значением XNA. Поскольку нет других данных (например, ФИО клиента), по которым мы могли бы восстановить эту строку, нам придется ее удалить."
   ]
  },
  {
   "cell_type": "code",
   "execution_count": 41,
   "metadata": {},
   "outputs": [
    {
     "data": {
      "text/plain": [
       "gender\n",
       "F    14164\n",
       "M     7258\n",
       "Name: gender, dtype: int64"
      ]
     },
     "execution_count": 41,
     "metadata": {},
     "output_type": "execute_result"
    }
   ],
   "source": [
    "clients_info.drop(clients_info.loc[clients_info['gender'] == 'XNA'].index, inplace=True)\n",
    "clients_info.groupby('gender')['gender'].count()"
   ]
  },
  {
   "cell_type": "markdown",
   "metadata": {},
   "source": [
    "Теперь с данными по столбцу можно работать. У нас есть данные по 14 164 клиентам женского пола и 7 258 клиентам мужского пола."
   ]
  },
  {
   "cell_type": "markdown",
   "metadata": {},
   "source": [
    "##### Тип занятости <a id='inc_type'></a>"
   ]
  },
  {
   "cell_type": "markdown",
   "metadata": {},
   "source": [
    "Мы уже рассматривали этот столбец, когда работали над пропусками. В нем нет данных, требующих корректировки."
   ]
  },
  {
   "cell_type": "code",
   "execution_count": 42,
   "metadata": {},
   "outputs": [
    {
     "data": {
      "text/plain": [
       "income_type\n",
       "безработный            2\n",
       "в декрете              1\n",
       "госслужащий         1453\n",
       "компаньон           5064\n",
       "пенсионер           3836\n",
       "предприниматель        1\n",
       "сотрудник          11064\n",
       "студент                1\n",
       "Name: income_type, dtype: int64"
      ]
     },
     "execution_count": 42,
     "metadata": {},
     "output_type": "execute_result"
    }
   ],
   "source": [
    "clients_info.groupby('income_type')['income_type'].count()"
   ]
  },
  {
   "cell_type": "markdown",
   "metadata": {},
   "source": [
    "В данных осталась информация о 2 безработных, 1 клиенте в декрете, 1 453 госслужащим, 5 064 компаньонам, 3 836 пенсионерам, 1 предпринимателе, 11 064 сотрудникам и 1 студенту."
   ]
  },
  {
   "cell_type": "markdown",
   "metadata": {},
   "source": [
    "##### Задолженность по возврату кредитов <a id='debt'></a>"
   ]
  },
  {
   "cell_type": "markdown",
   "metadata": {},
   "source": [
    "Рассмотрим, какие значения принимает данный столбец."
   ]
  },
  {
   "cell_type": "code",
   "execution_count": 43,
   "metadata": {},
   "outputs": [
    {
     "data": {
      "text/plain": [
       "debt\n",
       "0    19689\n",
       "1     1733\n",
       "Name: debt, dtype: int64"
      ]
     },
     "execution_count": 43,
     "metadata": {},
     "output_type": "execute_result"
    }
   ],
   "source": [
    "clients_info.groupby('debt')['debt'].count()"
   ]
  },
  {
   "cell_type": "markdown",
   "metadata": {},
   "source": [
    "С данными всё в порядке: задолженность имеют (значение 1) 1 733 клиента и не имеют (значение 0) 19 689 клиентов."
   ]
  },
  {
   "cell_type": "markdown",
   "metadata": {},
   "source": [
    "##### Ежемесячный доход"
   ]
  },
  {
   "cell_type": "code",
   "execution_count": 44,
   "metadata": {},
   "outputs": [
    {
     "data": {
      "text/plain": [
       "count    2.142200e+04\n",
       "mean     1.652483e+05\n",
       "std      9.813067e+04\n",
       "min      2.066726e+04\n",
       "25%      1.078192e+05\n",
       "50%      1.425944e+05\n",
       "75%      1.954981e+05\n",
       "max      2.265604e+06\n",
       "Name: total_income, dtype: float64"
      ]
     },
     "execution_count": 44,
     "metadata": {},
     "output_type": "execute_result"
    }
   ],
   "source": [
    "clients_info['total_income'].describe()"
   ]
  },
  {
   "cell_type": "markdown",
   "metadata": {},
   "source": [
    "Разброс доходов очень велик - это же мы наблюдали и внутри категорий по типу занятости: от 21 422 ден.ед. до 2 265 604 ден.ед. Однако, у нас нет данных, к которым мы могли бы привязаться и перепроверить данный столбец, поэтому примем его как верный."
   ]
  },
  {
   "cell_type": "markdown",
   "metadata": {},
   "source": [
    "##### Цель получения кредита"
   ]
  },
  {
   "cell_type": "code",
   "execution_count": 45,
   "metadata": {},
   "outputs": [
    {
     "data": {
      "text/plain": [
       "purpose\n",
       "автомобили                                476\n",
       "автомобиль                                491\n",
       "высшее образование                        450\n",
       "дополнительное образование                460\n",
       "жилье                                     641\n",
       "заняться высшим образованием              493\n",
       "заняться образованием                     411\n",
       "на покупку автомобиля                     467\n",
       "на покупку подержанного автомобиля        479\n",
       "на покупку своего автомобиля              502\n",
       "на проведение свадьбы                     773\n",
       "недвижимость                              630\n",
       "образование                               444\n",
       "операции с жильем                         647\n",
       "операции с коммерческой недвижимостью     649\n",
       "операции с недвижимостью                  673\n",
       "операции со своей недвижимостью           630\n",
       "покупка жилой недвижимости                603\n",
       "покупка жилья                             641\n",
       "покупка жилья для сдачи                   651\n",
       "покупка жилья для семьи                   640\n",
       "покупка коммерческой недвижимости         661\n",
       "покупка недвижимости                      620\n",
       "покупка своего жилья                      619\n",
       "получение высшего образования             424\n",
       "получение дополнительного образования     445\n",
       "получение образования                     442\n",
       "приобретение автомобиля                   460\n",
       "профильное образование                    435\n",
       "ремонт жилью                              610\n",
       "свадьба                                   792\n",
       "свой автомобиль                           477\n",
       "сделка с автомобилем                      454\n",
       "сделка с подержанным автомобилем          487\n",
       "строительство жилой недвижимости          623\n",
       "строительство недвижимости                620\n",
       "строительство собственной недвижимости    633\n",
       "сыграть свадьбу                           769\n",
       "Name: purpose, dtype: int64"
      ]
     },
     "execution_count": 45,
     "metadata": {},
     "output_type": "execute_result"
    }
   ],
   "source": [
    "clients_info.groupby('purpose')['purpose'].count()"
   ]
  },
  {
   "cell_type": "markdown",
   "metadata": {},
   "source": [
    "В целом, все значения в данном столбце корректны. Решить проблему схожих целей, и определить категории поможет в дальнейшем лемматизация."
   ]
  },
  {
   "cell_type": "markdown",
   "metadata": {},
   "source": [
    "#### Замена типа данных"
   ]
  },
  {
   "cell_type": "markdown",
   "metadata": {},
   "source": [
    "Еще раз взглянем на подробную информацию о данных."
   ]
  },
  {
   "cell_type": "code",
   "execution_count": 46,
   "metadata": {},
   "outputs": [
    {
     "name": "stdout",
     "output_type": "stream",
     "text": [
      "<class 'pandas.core.frame.DataFrame'>\n",
      "Int64Index: 21422 entries, 0 to 21524\n",
      "Data columns (total 12 columns):\n",
      "children            21422 non-null int64\n",
      "dob_years           21422 non-null int64\n",
      "education           21422 non-null object\n",
      "education_id        21422 non-null int64\n",
      "family_status       21422 non-null object\n",
      "family_status_id    21422 non-null int64\n",
      "gender              21422 non-null object\n",
      "income_type         21422 non-null object\n",
      "debt                21422 non-null int64\n",
      "total_income        21422 non-null float64\n",
      "purpose             21422 non-null object\n",
      "years_employed      21422 non-null float64\n",
      "dtypes: float64(2), int64(5), object(5)\n",
      "memory usage: 2.1+ MB\n"
     ]
    }
   ],
   "source": [
    "clients_info.info()"
   ]
  },
  {
   "cell_type": "markdown",
   "metadata": {},
   "source": [
    "Мы видим, что столбцы, в которых были заполнены пропуски, имеют вещественный тип < float >, но для анализа нам удобнее оперировать с целочисленным типом < int >. Для преобразования воспользуемся методом `astype()`."
   ]
  },
  {
   "cell_type": "code",
   "execution_count": 47,
   "metadata": {},
   "outputs": [
    {
     "name": "stdout",
     "output_type": "stream",
     "text": [
      "<class 'pandas.core.frame.DataFrame'>\n",
      "Int64Index: 21422 entries, 0 to 21524\n",
      "Data columns (total 12 columns):\n",
      "children            21422 non-null int64\n",
      "dob_years           21422 non-null int64\n",
      "education           21422 non-null object\n",
      "education_id        21422 non-null int64\n",
      "family_status       21422 non-null object\n",
      "family_status_id    21422 non-null int64\n",
      "gender              21422 non-null object\n",
      "income_type         21422 non-null object\n",
      "debt                21422 non-null int64\n",
      "total_income        21422 non-null int64\n",
      "purpose             21422 non-null object\n",
      "years_employed      21422 non-null int64\n",
      "dtypes: int64(7), object(5)\n",
      "memory usage: 2.1+ MB\n"
     ]
    }
   ],
   "source": [
    "clients_info['years_employed'] = clients_info['years_employed'].astype('int')\n",
    "clients_info['total_income'] = clients_info['total_income'].astype('int')\n",
    "clients_info.info()"
   ]
  },
  {
   "cell_type": "markdown",
   "metadata": {},
   "source": [
    "Все данные имеют подходящий для анализа тип."
   ]
  },
  {
   "cell_type": "markdown",
   "metadata": {},
   "source": [
    "#### Обработка дубликатов"
   ]
  },
  {
   "cell_type": "markdown",
   "metadata": {},
   "source": [
    "Установим наличие дубликатов методом `duplicated()` - он обозначит строки с дубликатами."
   ]
  },
  {
   "cell_type": "code",
   "execution_count": 48,
   "metadata": {},
   "outputs": [
    {
     "data": {
      "text/plain": [
       "71"
      ]
     },
     "execution_count": 48,
     "metadata": {},
     "output_type": "execute_result"
    }
   ],
   "source": [
    "clients_info.duplicated().sum()"
   ]
  },
  {
   "cell_type": "markdown",
   "metadata": {},
   "source": [
    "У нас имеется 71 строка с дублирующими данными. Удалим эти строки методом `drop_duplicates()`, и применим `reset_index()`, чтобы нумерация строк обновилась для таблицы без дубликатов."
   ]
  },
  {
   "cell_type": "code",
   "execution_count": 49,
   "metadata": {},
   "outputs": [
    {
     "data": {
      "text/plain": [
       "0"
      ]
     },
     "execution_count": 49,
     "metadata": {},
     "output_type": "execute_result"
    }
   ],
   "source": [
    "clients_info = clients_info.drop_duplicates().reset_index(drop=True)\n",
    "clients_info.duplicated().sum()"
   ]
  },
  {
   "cell_type": "markdown",
   "metadata": {},
   "source": [
    "Все дублирующие строки удалены."
   ]
  },
  {
   "cell_type": "markdown",
   "metadata": {},
   "source": [
    "### Вывод <a id='step_1.4'></a>"
   ]
  },
  {
   "cell_type": "markdown",
   "metadata": {},
   "source": [
    "У нас имеется таблица с данными о платёжеспособности 21 525 клиентов, которая включает в себя такие характеристики как количество детей в семье, общий трудовой стаж, возраст клиента, уровень образования, идентификатор уровня образования, семейное положение, идентификатор семейного положения, пол клиента, тип занятости, наличие/отсутствие задолженности по возврату кредитов в прошлом, ежемесячный доход, цель получения кредита.\n",
    "\n",
    "Мы обнаружили пустые значения в столбцах с данными об общем трудовом стаже в днях и о ежемесячном доходе. Причины могут быть разными. Возможно, это нежелание клиента предоставлять данные о стаже и доходе. Но также возможны пропуски, связанные с проблемами с записью данных.\n",
    "\n",
    "Отметим, что и показатель трудового стажа в днях, и ежемесячный доход - это количественные переменные. Соответственно, пропуски в них были заполнены характерными значениями (медианой). Исключение составляет пропуск в строке по категории Предприниматель - данная строка была удалена, так как заполнение ее по имеющемуся единственному значению данной категории не является верным. Мы не можем восстановить пропущенные данные (слишком много факторов, которые могут влиять на данное значение).\n",
    "\n",
    "Также были изменены различия в регистре в данных, что позволило определить и удалить все дубликаты и ошибочные строки (например, строки, в которых возраст клиента составил 0 лет)."
   ]
  },
  {
   "cell_type": "markdown",
   "metadata": {},
   "source": [
    "## Этап 2. Анализ данных <a id='step_2'></a>"
   ]
  },
  {
   "cell_type": "markdown",
   "metadata": {},
   "source": [
    "### Анализ категорий по цели получения кредита <a id='step_2.1'></a>"
   ]
  },
  {
   "cell_type": "markdown",
   "metadata": {},
   "source": [
    "Выделим леммы в значениях столбца с целями получения кредита. Для этого определим список уникальных значений по столбцу `purpose`, создадим новый столбец для лемм и запустим цикл лемматизации, воспользовавшись библиотекой на русском языке — 'pymystem3'. Поскольку 'pymystem3' по умолчанию выдает только список лемматизированных слов, итоговый результат склеим вызовом метода `join()`."
   ]
  },
  {
   "cell_type": "code",
   "execution_count": 50,
   "metadata": {
    "scrolled": true
   },
   "outputs": [],
   "source": [
    "m = Mystem()\n",
    "purpose_unique = clients_info['purpose'].unique()\n",
    "lemmas = []\n",
    "for i in purpose_unique:\n",
    "    result = ''.join(m.lemmatize(i)).strip()\n",
    "    lemmas.append(result)"
   ]
  },
  {
   "cell_type": "markdown",
   "metadata": {},
   "source": [
    "Заметим, что в списке фигурируют схожие слова, но в Датафрейме они определяются как разные цели. Для выделения наиболее популярных тем воспользуемся контейнером `Counter` из модуля 'collections'."
   ]
  },
  {
   "cell_type": "code",
   "execution_count": 51,
   "metadata": {},
   "outputs": [
    {
     "data": {
      "text/plain": [
       "Counter({'покупка': 10,\n",
       "         ' ': 96,\n",
       "         'жилье': 7,\n",
       "         'приобретение': 1,\n",
       "         'автомобиль': 9,\n",
       "         'дополнительный': 2,\n",
       "         'образование': 9,\n",
       "         'сыграть': 1,\n",
       "         'свадьба': 3,\n",
       "         'операция': 4,\n",
       "         'с': 5,\n",
       "         'на': 4,\n",
       "         'проведение': 1,\n",
       "         'для': 2,\n",
       "         'семья': 1,\n",
       "         'недвижимость': 10,\n",
       "         'коммерческий': 2,\n",
       "         'жилой': 2,\n",
       "         'строительство': 3,\n",
       "         'собственный': 1,\n",
       "         'подержать': 1,\n",
       "         'свой': 4,\n",
       "         'со': 1,\n",
       "         'заниматься': 2,\n",
       "         'сделка': 2,\n",
       "         'подержанный': 1,\n",
       "         'получение': 3,\n",
       "         'высокий': 3,\n",
       "         'профильный': 1,\n",
       "         'сдача': 1,\n",
       "         'ремонт': 1,\n",
       "         '\\n': 1})"
      ]
     },
     "execution_count": 51,
     "metadata": {},
     "output_type": "execute_result"
    }
   ],
   "source": [
    "text = m.lemmatize(' '.join(lemmas))\n",
    "Counter(text)"
   ]
  },
  {
   "cell_type": "markdown",
   "metadata": {},
   "source": [
    "Чтобы привести столбец в удобный для работы вид, определим на основе полученного списка категории цели для каждой строки из следующих (приведены наиболее часто встречающиеся уникальные леммы):\n",
    "\n",
    "- недвижимость: это покупка, ремонт и строительство жилья и недвижимости;\n",
    "- автомобиль: это и покупка, и сделки, и просто автомобиль - обозначенные в целях;\n",
    "- образование: все, что связано с образованием;\n",
    "- свадьба: всё, что связано со свадьбой."
   ]
  },
  {
   "cell_type": "markdown",
   "metadata": {},
   "source": [
    "Для того, чтобы обработать данные в столбце с целью получения кредита, создадим вспомогательный столбец с леммами для каждой строки столбца purpose."
   ]
  },
  {
   "cell_type": "code",
   "execution_count": 52,
   "metadata": {},
   "outputs": [],
   "source": [
    "purpose_lem = []\n",
    "for i in clients_info['purpose']:\n",
    "    result = ''.join(m.lemmatize(i)).strip()\n",
    "    purpose_lem.append(result)\n",
    "clients_info['purpose_lem'] = purpose_lem"
   ]
  },
  {
   "cell_type": "markdown",
   "metadata": {},
   "source": [
    "Создадим функцию, которая будет через метод `apply()` перезаполять значения цели на категоризированную лемму. После всех преобразований столбца `purpose`, удалим вспомогательно созданный столбец с леммами (в анализе данных он больше не нужен)."
   ]
  },
  {
   "cell_type": "code",
   "execution_count": 53,
   "metadata": {},
   "outputs": [
    {
     "data": {
      "text/plain": [
       "purpose\n",
       "автомобиль       4284\n",
       "недвижимость    10762\n",
       "образование      3995\n",
       "свадьба          2310\n",
       "Name: purpose, dtype: int64"
      ]
     },
     "execution_count": 53,
     "metadata": {},
     "output_type": "execute_result"
    }
   ],
   "source": [
    "def purpose_categ(data):\n",
    "    if ('недвижимость' in data) or ('жилье' in data):\n",
    "        return 'недвижимость'\n",
    "    if 'автомобиль' in data:\n",
    "        return 'автомобиль'\n",
    "    if 'свадьба' in data:\n",
    "        return 'свадьба'\n",
    "    if 'образование' in data:\n",
    "        return 'образование'\n",
    "    else:\n",
    "        return 'прочее'\n",
    "\n",
    "clients_info['purpose'] = clients_info['purpose_lem'].apply(purpose_categ)\n",
    "clients_info.drop(['purpose_lem'], axis='columns', inplace=True)\n",
    "\n",
    "clients_info.groupby('purpose')['purpose'].count()"
   ]
  },
  {
   "cell_type": "markdown",
   "metadata": {},
   "source": [
    "Мы получили 4 284 человека, берущих кредит на автомобиль, 10 762 человека - на недвижимость (покупку и строительство), 3 995 клиентов - на образование, 2 310 человек - на свадьбу."
   ]
  },
  {
   "cell_type": "markdown",
   "metadata": {},
   "source": [
    "Также интересно было бы изучить, насколько цели получения кредита разнятся по другим факторам, имеющимся в данных. Построим столбчатые диаграммы для дискретных переменных (число детей, образование, семейное положение, пол, тип занятости) и боксплоты для непрерывных переменных (возраст, доход, трудовой стаж)."
   ]
  },
  {
   "cell_type": "code",
   "execution_count": 54,
   "metadata": {
    "scrolled": false
   },
   "outputs": [
    {
     "data": {
      "image/png": "[encoded data removed]",
      "text/plain": [
       "<Figure size 432x288 with 1 Axes>"
      ]
     },
     "metadata": {
      "needs_background": "light"
     },
     "output_type": "display_data"
    },
    {
     "data": {
      "image/png": "[encoded data removed]",
      "text/plain": [
       "<Figure size 432x288 with 1 Axes>"
      ]
     },
     "metadata": {
      "needs_background": "light"
     },
     "output_type": "display_data"
    },
    {
     "data": {
      "image/png": "[encoded data removed]",
      "text/plain": [
       "<Figure size 432x288 with 1 Axes>"
      ]
     },
     "metadata": {
      "needs_background": "light"
     },
     "output_type": "display_data"
    },
    {
     "data": {
      "image/png": "[encoded data removed]",
      "text/plain": [
       "<Figure size 432x288 with 1 Axes>"
      ]
     },
     "metadata": {
      "needs_background": "light"
     },
     "output_type": "display_data"
    },
    {
     "data": {
      "image/png": "[encoded data removed]",
      "text/plain": [
       "<Figure size 432x288 with 1 Axes>"
      ]
     },
     "metadata": {
      "needs_background": "light"
     },
     "output_type": "display_data"
    }
   ],
   "source": [
    "# Построим графики для дискретных величин\n",
    "clients_discr_values = ['children', 'education', 'family_status', 'gender', 'income_type']\n",
    "fig, ax = plt.subplots()\n",
    "for column in clients_discr_values:\n",
    "    plt.title(\"Распределение признака \"+column)\n",
    "    ax = sns.countplot(data=clients_info, x=column, hue='purpose')\n",
    "    xax = ax.xaxis\n",
    "    xlabels = xax.get_ticklabels()\n",
    "    for label in xlabels:\n",
    "        label.set_rotation(90)\n",
    "    plt.xlabel(column)\n",
    "    plt.ylabel(\"количество\")\n",
    "    plt.legend(bbox_to_anchor=(1.4, 1))\n",
    "    plt.show()"
   ]
  },
  {
   "cell_type": "markdown",
   "metadata": {},
   "source": [
    "Видим, что большая часть клиентов без детей берёт кредит на недвижимость, примерно в одинаковых долях они интересуются автомобилем и образованием, и немного меньше - свадьбой. Для клиентов с одним ребёнком тенденция аналогичная, только разрыв между \"недвижимостью\" и другими целями не так велик, а также берущих кредит на свадьбу ненамного меньше, чем на автомобиль или образование. Для клиентов с двумя детьми тенденции те же, а разрывы ещё меньше. И, наконец, клиенты с более чем 2 детьми имеют ещё меньшие разрывы в показателях (для них цели распределены более равномерно с некоторым перевесом указанных ранее).\n",
    "\n",
    "По образованию наблюдается очень сильный разрыв в целях по количеству клиентов для среднего образования: очень значительная часть берёт кредит на недвижимость, и очень малая - на свадьбу. По остальным видам образования разрыв в цели \"на недвижимость\" не так высок, а \"на свадьбу\" близко к целям \"на образование\" или \"на автомобиль\".\n",
    "\n",
    "Для всех категорий, кроме тех, кто находится в гражданском браке, сильно превалирует число клиентов с целью кредита на недвижимость. Находящиеся в гражданском браке беруть больше кредитов на свадьбу.\n",
    "\n",
    "По полу нет особых различий между распределением клиентов по целям кредита.\n",
    "\n",
    "По типу занятости очень сильный разрыв наблюдается в числе сотрудников, берущих кредит на недвижимость: их количество существенно отличается от других целей. Также для них цель \"на свадьбу\" намного непопулярней целей \"на автомобиль\" или \"на образование\". Для безработных, студентов, предпринимателей и людей в декрете сложно выделить тенденции, так как по ним данных недостаточно."
   ]
  },
  {
   "cell_type": "code",
   "execution_count": 55,
   "metadata": {},
   "outputs": [
    {
     "data": {
      "image/png": "[encoded data removed]",
      "text/plain": [
       "<Figure size 432x288 with 1 Axes>"
      ]
     },
     "metadata": {
      "needs_background": "light"
     },
     "output_type": "display_data"
    },
    {
     "data": {
      "image/png": "[encoded data removed]",
      "text/plain": [
       "<Figure size 432x288 with 1 Axes>"
      ]
     },
     "metadata": {
      "needs_background": "light"
     },
     "output_type": "display_data"
    },
    {
     "data": {
      "image/png": "[encoded data removed]",
      "text/plain": [
       "<Figure size 432x288 with 1 Axes>"
      ]
     },
     "metadata": {
      "needs_background": "light"
     },
     "output_type": "display_data"
    }
   ],
   "source": [
    "# Построим график для непрерывных величин без выбросов\n",
    "clients_cont_values = ['dob_years', 'total_income', 'years_employed']\n",
    "fig, ax = plt.subplots()\n",
    "for column in clients_cont_values:\n",
    "    plt.title(\"Распределение признака \"+column)\n",
    "    sns.boxplot(x='purpose', y=column, data=clients_info, showfliers=False)\n",
    "    plt.xlabel('цель кредита')\n",
    "    plt.ylabel('значение '+column)\n",
    "    plt.show()"
   ]
  },
  {
   "cell_type": "markdown",
   "metadata": {},
   "source": [
    "Каких-то значительных различий в распределении целей кредита по параметрам возраста, дохода и стажа не наблюдается (с учётом исключения выбросов)."
   ]
  },
  {
   "cell_type": "markdown",
   "metadata": {},
   "source": [
    "### Вероятность получения кредита, исходя из уровня дохода <a id='step_2.2'></a>"
   ]
  },
  {
   "cell_type": "markdown",
   "metadata": {},
   "source": [
    "Определим признак для категоризации данных. На наш взгляд, это не могут быть возрастные группы, поскольку среди клиентов нет детей (минимальный возраст составляет 19 лет, как было выявлено в процессе анализа соответствующего столбца). Использовать для категоризации пол, цель получения кредита и уровень образования не имеет смысла, поскольку напрямую они не оказывает влияния на возможности клиента по погашению кредита.\n",
    "\n",
    "Данные могут быть категоризированны по нескольким признакам: наличие задолженности по возврату кредита, тип занятости, уровень дохода и семейное положение. На наш взгляд, в большей степени на возможность клиента вовремя погасить задолженность будет влиять его уровень дохода."
   ]
  },
  {
   "cell_type": "markdown",
   "metadata": {},
   "source": [
    "Для определения интервалов, в которые попадут категории, воспользуемся функцией `quantile()`."
   ]
  },
  {
   "cell_type": "code",
   "execution_count": 56,
   "metadata": {},
   "outputs": [
    {
     "name": "stdout",
     "output_type": "stream",
     "text": [
      "Верхняя граница для первого интервала: 107646\n",
      "Верхняя граница для второго интервала: 142594\n",
      "Верхняя граница для третьего интервала: 195768\n"
     ]
    }
   ],
   "source": [
    "print('Верхняя граница для первого интервала: {:.0f}'.format(np.quantile(clients_info['total_income'], 0.25)))\n",
    "print('Верхняя граница для второго интервала: {:.0f}'.format(np.quantile(clients_info['total_income'], 0.5)))\n",
    "print('Верхняя граница для третьего интервала: {:.0f}'.format(np.quantile(clients_info['total_income'], 0.75)))"
   ]
  },
  {
   "cell_type": "markdown",
   "metadata": {},
   "source": [
    "Создадим категории по вероятности возврата кредита, разбив промежуток на 4 равных отрезка, исходя из полученных значений квантилей:\n",
    "\n",
    "- менее 107 646 ден.ед. - категория \"низкая\";\n",
    "- от 107 646 до 142 594 ден.ед. - категория \"средняя\";\n",
    "- от 142 594 до 195 768 ден.ед. - категория \"высокая\";\n",
    "- более 195 768 ден.ед. - категория \"очень высокая\".\n",
    "\n",
    "Запишем правила классификации клиентов как функции."
   ]
  },
  {
   "cell_type": "code",
   "execution_count": 57,
   "metadata": {},
   "outputs": [],
   "source": [
    "def income_group(income):\n",
    "        if income <= np.quantile(clients_info['total_income'], 0.25):\n",
    "            return 'низкая'\n",
    "        if income <= np.quantile(clients_info['total_income'], 0.5):\n",
    "            return 'средняя'\n",
    "        if income <= np.quantile(clients_info['total_income'], 0.75):\n",
    "            return 'высокая'\n",
    "        else:\n",
    "            return 'очень высокая'"
   ]
  },
  {
   "cell_type": "markdown",
   "metadata": {},
   "source": [
    "Создадим «словарь»: каждому из клиентов запишем `id`, тип дохода `income_type`, величину дохода `income_total` и добавим новый столбец с вероятностью возврата кредита `probability`."
   ]
  },
  {
   "cell_type": "code",
   "execution_count": 58,
   "metadata": {
    "scrolled": true
   },
   "outputs": [],
   "source": [
    "clients_info['id'] = range(len(clients_info))\n",
    "clients_info['probability'] = clients_info['total_income'].apply(income_group)"
   ]
  },
  {
   "cell_type": "markdown",
   "metadata": {},
   "source": [
    "Теперь рассмотрим, для скольки людей вероятность выдачи кредита является высокой, а для скольки - низкой."
   ]
  },
  {
   "cell_type": "code",
   "execution_count": 59,
   "metadata": {},
   "outputs": [
    {
     "data": {
      "text/plain": [
       "probability\n",
       "высокая          5223\n",
       "низкая           5338\n",
       "очень высокая    5338\n",
       "средняя          5452\n",
       "Name: id, dtype: int64"
      ]
     },
     "execution_count": 59,
     "metadata": {},
     "output_type": "execute_result"
    }
   ],
   "source": [
    "clients_dict = clients_info[['id', 'income_type', 'total_income', 'probability']]\n",
    "clients_dict.groupby('probability')['id'].count()"
   ]
  },
  {
   "cell_type": "markdown",
   "metadata": {},
   "source": [
    "Для 5 338 клиентов вероятность получения кредита очень высока, для 5 223 человек вероятность получения кредита высока, для 5 452 человек кредит вероятен, а для 5 338 - маловероятен. Однако, многое зависит от того, как выделять категории по доходам - при изменении верхних и нижних границ интервалов результат может быть иным."
   ]
  },
  {
   "cell_type": "markdown",
   "metadata": {},
   "source": [
    "Также любопытно изучить, насколько вероятность получения кредита разнится по другим факторам, имеющимся в данных. Аналогично предыдущему анализу, построим столбчатые диаграммы для дискретных переменных (число детей, образование, семейное положение, пол, тип занятости) и боксплоты для непрерывных переменных (возраст, доход, трудовой стаж)."
   ]
  },
  {
   "cell_type": "code",
   "execution_count": 60,
   "metadata": {},
   "outputs": [
    {
     "data": {
      "image/png": "[encoded data removed]",
      "text/plain": [
       "<Figure size 432x288 with 1 Axes>"
      ]
     },
     "metadata": {
      "needs_background": "light"
     },
     "output_type": "display_data"
    },
    {
     "data": {
      "image/png": "[encoded data removed]",
      "text/plain": [
       "<Figure size 432x288 with 1 Axes>"
      ]
     },
     "metadata": {
      "needs_background": "light"
     },
     "output_type": "display_data"
    },
    {
     "data": {
      "image/png": "[encoded data removed]",
      "text/plain": [
       "<Figure size 432x288 with 1 Axes>"
      ]
     },
     "metadata": {
      "needs_background": "light"
     },
     "output_type": "display_data"
    },
    {
     "data": {
      "image/png": "[encoded data removed]",
      "text/plain": [
       "<Figure size 432x288 with 1 Axes>"
      ]
     },
     "metadata": {
      "needs_background": "light"
     },
     "output_type": "display_data"
    },
    {
     "data": {
      "image/png": "[encoded data removed]",
      "text/plain": [
       "<Figure size 432x288 with 1 Axes>"
      ]
     },
     "metadata": {
      "needs_background": "light"
     },
     "output_type": "display_data"
    }
   ],
   "source": [
    "# Построим графики для дискретных величин\n",
    "fig, ax = plt.subplots()\n",
    "for column in clients_discr_values:\n",
    "    plt.title(\"Распределение признака \"+column)\n",
    "    ax = sns.countplot(data=clients_info, x=column, hue='probability')\n",
    "    xax = ax.xaxis\n",
    "    xlabels = xax.get_ticklabels()\n",
    "    for label in xlabels:\n",
    "        label.set_rotation(90)\n",
    "    plt.xlabel(column)\n",
    "    plt.ylabel(\"количество\")\n",
    "    plt.legend(bbox_to_anchor=(1.4, 1))\n",
    "    plt.show()"
   ]
  },
  {
   "cell_type": "markdown",
   "metadata": {},
   "source": [
    "Для клиентов без детей вероятность выдачи кредита, в основном, средняя и низкая. Для клиентов с детьми (1 и более) вероятность выдачи распределена раномерно.\n",
    "\n",
    "Для людей с высшим образованием преобладают клиенты с высокой и очень высокой вероятностью получения кредита, а для клиентов со средним или начальным образованием - со средней и очень низкой вероятностью. Для тех, у кого неоконченное высшее образование вероятности распределены примерно в равных долях.\n",
    "\n",
    "По семейному положению не наблюдается существенных различий между категориями, кроме категории \"вдовец / вдова\": для них вероятность получения кредита в большей степени средняя или низкая.\n",
    "\n",
    "Есть различия и по половому признаку: для женщин верятность получения кредита в большей степени средняя или низкая, а для мужчин - очень высокая или высокая. Это может быть связано не с гендерными различиями в подходе банка, а скорее, с гендерными различиями в доходах, которые сложились на рынке труда.\n",
    "\n",
    "Для сотрудников и пенсионеров вероятность получения кредита, в большей степени, средняя или низкая. А для компаньонов и госслужащих - высокая и очень высокая. Но для госслужащих вероятности распределены более равномерно. По остальным категориям недостаточно данных для выявления закономерности."
   ]
  },
  {
   "cell_type": "code",
   "execution_count": 61,
   "metadata": {},
   "outputs": [
    {
     "data": {
      "image/png": "[encoded data removed]",
      "text/plain": [
       "<Figure size 432x288 with 1 Axes>"
      ]
     },
     "metadata": {
      "needs_background": "light"
     },
     "output_type": "display_data"
    },
    {
     "data": {
      "image/png": "[encoded data removed]",
      "text/plain": [
       "<Figure size 432x288 with 1 Axes>"
      ]
     },
     "metadata": {
      "needs_background": "light"
     },
     "output_type": "display_data"
    },
    {
     "data": {
      "image/png": "[encoded data removed]",
      "text/plain": [
       "<Figure size 432x288 with 1 Axes>"
      ]
     },
     "metadata": {
      "needs_background": "light"
     },
     "output_type": "display_data"
    }
   ],
   "source": [
    "# Построим график для непрерывных величин без выбросов\n",
    "fig, ax = plt.subplots()\n",
    "for column in clients_cont_values:\n",
    "    plt.title(\"Распределение признака \"+column)\n",
    "    sns.boxplot(x='probability', y=column, data=clients_info, showfliers=False)\n",
    "    plt.xlabel('вероятность выдачи кредита')\n",
    "    plt.ylabel('значение '+column)\n",
    "    plt.show()"
   ]
  },
  {
   "cell_type": "markdown",
   "metadata": {},
   "source": [
    "Для клиентов, характеризующихся очень высокой вероятностью получения кредита, характерен очень большой разброс в высоком уровне дохода, а также небольшой разброс в стаже.\n",
    "\n",
    "Для клиентов, характеризующихся высокой вероятностью получения кредита, характерен малый разброс в уровне дохода, а также небольшой разброс в стаже.\n",
    "\n",
    "Для клиентов, характеризующихся средней вероятностью получения кредита, характерен малый разброс в уровне дохода, чуть более высокий средний возраст (так как в эту категорию попали многие пенсионеры), а также средний разброс в стаже.\n",
    "\n",
    "Для клиентов, характеризующихся низкой вероятностью получения кредита, характерен малый разброс в уровне дохода, чуть более высокий средний возраст (так как в эту категорию также попали многие пенсионеры), а также очень большой разброс в стаже."
   ]
  },
  {
   "cell_type": "markdown",
   "metadata": {},
   "source": [
    "### Зависимость между наличием детей и возвратом кредита в срок <a id='step_2.3'></a>"
   ]
  },
  {
   "cell_type": "markdown",
   "metadata": {},
   "source": [
    "Для ответа на данный вопрос построим сводную таблицу, по строкам которой отразим число детей, по столбцам - наличие просроченной задолженности; а значения - это число клиентов."
   ]
  },
  {
   "cell_type": "code",
   "execution_count": 62,
   "metadata": {},
   "outputs": [
    {
     "data": {
      "text/html": [
       "<div>\n",
       "<style scoped>\n",
       "    .dataframe tbody tr th:only-of-type {\n",
       "        vertical-align: middle;\n",
       "    }\n",
       "\n",
       "    .dataframe tbody tr th {\n",
       "        vertical-align: top;\n",
       "    }\n",
       "\n",
       "    .dataframe thead th {\n",
       "        text-align: right;\n",
       "    }\n",
       "</style>\n",
       "<table border=\"1\" class=\"dataframe\">\n",
       "  <thead>\n",
       "    <tr style=\"text-align: right;\">\n",
       "      <th>debt</th>\n",
       "      <th>0</th>\n",
       "      <th>1</th>\n",
       "    </tr>\n",
       "    <tr>\n",
       "      <th>children</th>\n",
       "      <th></th>\n",
       "      <th></th>\n",
       "    </tr>\n",
       "  </thead>\n",
       "  <tbody>\n",
       "    <tr>\n",
       "      <td>0</td>\n",
       "      <td>12962</td>\n",
       "      <td>1058</td>\n",
       "    </tr>\n",
       "    <tr>\n",
       "      <td>1</td>\n",
       "      <td>4397</td>\n",
       "      <td>442</td>\n",
       "    </tr>\n",
       "    <tr>\n",
       "      <td>2</td>\n",
       "      <td>1912</td>\n",
       "      <td>202</td>\n",
       "    </tr>\n",
       "    <tr>\n",
       "      <td>3</td>\n",
       "      <td>301</td>\n",
       "      <td>27</td>\n",
       "    </tr>\n",
       "    <tr>\n",
       "      <td>4</td>\n",
       "      <td>37</td>\n",
       "      <td>4</td>\n",
       "    </tr>\n",
       "    <tr>\n",
       "      <td>5</td>\n",
       "      <td>9</td>\n",
       "      <td>0</td>\n",
       "    </tr>\n",
       "  </tbody>\n",
       "</table>\n",
       "</div>"
      ],
      "text/plain": [
       "debt          0     1\n",
       "children             \n",
       "0         12962  1058\n",
       "1          4397   442\n",
       "2          1912   202\n",
       "3           301    27\n",
       "4            37     4\n",
       "5             9     0"
      ]
     },
     "execution_count": 62,
     "metadata": {},
     "output_type": "execute_result"
    }
   ],
   "source": [
    "child_debt_pivot = clients_info.pivot_table(index='children', columns='debt', values='id', aggfunc='count')\n",
    "child_debt_pivot = child_debt_pivot.fillna(0).astype('int')\n",
    "child_debt_pivot"
   ]
  },
  {
   "cell_type": "markdown",
   "metadata": {},
   "source": [
    "По абсолютным значениям сложно делать какие-то выводы, поскольку число обратившихся в банк клиентов в каждой категории, характеризующей число детей, также различно. В целом, мы видим, что число тех, кто долг не вернул примерно в 10 раз меньше, чем тех, кто его вернул.\n",
    "\n",
    "Создадим столбец, показывающий процент людей, просрочивших кредит, и рассчитаем показатели для каждой из категорий."
   ]
  },
  {
   "cell_type": "code",
   "execution_count": 63,
   "metadata": {},
   "outputs": [
    {
     "data": {
      "text/html": [
       "<div>\n",
       "<style scoped>\n",
       "    .dataframe tbody tr th:only-of-type {\n",
       "        vertical-align: middle;\n",
       "    }\n",
       "\n",
       "    .dataframe tbody tr th {\n",
       "        vertical-align: top;\n",
       "    }\n",
       "\n",
       "    .dataframe thead th {\n",
       "        text-align: right;\n",
       "    }\n",
       "</style>\n",
       "<table border=\"1\" class=\"dataframe\">\n",
       "  <thead>\n",
       "    <tr style=\"text-align: right;\">\n",
       "      <th>debt</th>\n",
       "      <th>0</th>\n",
       "      <th>1</th>\n",
       "      <th>ratio</th>\n",
       "    </tr>\n",
       "    <tr>\n",
       "      <th>children</th>\n",
       "      <th></th>\n",
       "      <th></th>\n",
       "      <th></th>\n",
       "    </tr>\n",
       "  </thead>\n",
       "  <tbody>\n",
       "    <tr>\n",
       "      <td>4</td>\n",
       "      <td>37</td>\n",
       "      <td>4</td>\n",
       "      <td>9.76</td>\n",
       "    </tr>\n",
       "    <tr>\n",
       "      <td>2</td>\n",
       "      <td>1912</td>\n",
       "      <td>202</td>\n",
       "      <td>9.56</td>\n",
       "    </tr>\n",
       "    <tr>\n",
       "      <td>1</td>\n",
       "      <td>4397</td>\n",
       "      <td>442</td>\n",
       "      <td>9.13</td>\n",
       "    </tr>\n",
       "    <tr>\n",
       "      <td>3</td>\n",
       "      <td>301</td>\n",
       "      <td>27</td>\n",
       "      <td>8.23</td>\n",
       "    </tr>\n",
       "    <tr>\n",
       "      <td>0</td>\n",
       "      <td>12962</td>\n",
       "      <td>1058</td>\n",
       "      <td>7.55</td>\n",
       "    </tr>\n",
       "    <tr>\n",
       "      <td>5</td>\n",
       "      <td>9</td>\n",
       "      <td>0</td>\n",
       "      <td>0.00</td>\n",
       "    </tr>\n",
       "  </tbody>\n",
       "</table>\n",
       "</div>"
      ],
      "text/plain": [
       "debt          0     1  ratio\n",
       "children                    \n",
       "4            37     4   9.76\n",
       "2          1912   202   9.56\n",
       "1          4397   442   9.13\n",
       "3           301    27   8.23\n",
       "0         12962  1058   7.55\n",
       "5             9     0   0.00"
      ]
     },
     "execution_count": 63,
     "metadata": {},
     "output_type": "execute_result"
    }
   ],
   "source": [
    "child_debt_pivot['ratio'] = round((child_debt_pivot[1] / (child_debt_pivot[1] + child_debt_pivot[0]) * 100), 2)\n",
    "child_debt_pivot.sort_values('ratio', ascending=False)"
   ]
  },
  {
   "cell_type": "markdown",
   "metadata": {},
   "source": [
    "Количество клиентов, просрочивших кредит ранжируется от 0 до 9.76%. Четкой зависимости между наличием детей (а также их количеством) и возвратом кредита в срок нет. Только в случае, когда количество детей очень велико (5 человек), наблюдается 0% просроченной задолженности. \n",
    "\n",
    "Возможно, это связано с тем, что большое число детей люди заводят осознанно - имея высокие доходы для обеспечения большой семьи, и возврат долга все-таки зависит не от количества детей, а от доходов. Либо данных недостаточно для вывода, и в выборку попали только клиенты данной категории, которые не имеют негативного опыта по возврату кредитов."
   ]
  },
  {
   "cell_type": "markdown",
   "metadata": {},
   "source": [
    "### Зависимость между семейным положением и возвратом кредита в срок <a id='step_2.4'></a>"
   ]
  },
  {
   "cell_type": "markdown",
   "metadata": {},
   "source": [
    "Для ответа на данный вопрос построим сводную таблицу, по строкам которой отразим семейное положение, по столбцам - наличие просроченной задолженности; а значения - это число клиентов."
   ]
  },
  {
   "cell_type": "code",
   "execution_count": 64,
   "metadata": {},
   "outputs": [
    {
     "data": {
      "text/html": [
       "<div>\n",
       "<style scoped>\n",
       "    .dataframe tbody tr th:only-of-type {\n",
       "        vertical-align: middle;\n",
       "    }\n",
       "\n",
       "    .dataframe tbody tr th {\n",
       "        vertical-align: top;\n",
       "    }\n",
       "\n",
       "    .dataframe thead th {\n",
       "        text-align: right;\n",
       "    }\n",
       "</style>\n",
       "<table border=\"1\" class=\"dataframe\">\n",
       "  <thead>\n",
       "    <tr style=\"text-align: right;\">\n",
       "      <th>debt</th>\n",
       "      <th>0</th>\n",
       "      <th>1</th>\n",
       "    </tr>\n",
       "    <tr>\n",
       "      <th>family_status</th>\n",
       "      <th></th>\n",
       "      <th></th>\n",
       "    </tr>\n",
       "  </thead>\n",
       "  <tbody>\n",
       "    <tr>\n",
       "      <td>в разводе</td>\n",
       "      <td>1100</td>\n",
       "      <td>85</td>\n",
       "    </tr>\n",
       "    <tr>\n",
       "      <td>вдовец / вдова</td>\n",
       "      <td>892</td>\n",
       "      <td>62</td>\n",
       "    </tr>\n",
       "    <tr>\n",
       "      <td>гражданский брак</td>\n",
       "      <td>3743</td>\n",
       "      <td>386</td>\n",
       "    </tr>\n",
       "    <tr>\n",
       "      <td>женат / замужем</td>\n",
       "      <td>11362</td>\n",
       "      <td>927</td>\n",
       "    </tr>\n",
       "    <tr>\n",
       "      <td>не женат / не замужем</td>\n",
       "      <td>2521</td>\n",
       "      <td>273</td>\n",
       "    </tr>\n",
       "  </tbody>\n",
       "</table>\n",
       "</div>"
      ],
      "text/plain": [
       "debt                       0    1\n",
       "family_status                    \n",
       "в разводе               1100   85\n",
       "вдовец / вдова           892   62\n",
       "гражданский брак        3743  386\n",
       "женат / замужем        11362  927\n",
       "не женат / не замужем   2521  273"
      ]
     },
     "execution_count": 64,
     "metadata": {},
     "output_type": "execute_result"
    }
   ],
   "source": [
    "family_debt_pivot = clients_info.pivot_table(index='family_status', columns='debt', values='id', aggfunc='count')\n",
    "family_debt_pivot"
   ]
  },
  {
   "cell_type": "markdown",
   "metadata": {},
   "source": [
    "Мы также не можем ответить на поставленный вопрос по абсолютным значениям. В целом, мы видим, что число тех, кто долг не вернул примерно в 10 раз меньше, чем тех, кто его вернул.\n",
    "\n",
    "Создадим столбец, показывающий процент людей, просрочивших кредит, и рассчитаем показатели для каждой из категорий."
   ]
  },
  {
   "cell_type": "code",
   "execution_count": 65,
   "metadata": {},
   "outputs": [
    {
     "data": {
      "text/html": [
       "<div>\n",
       "<style scoped>\n",
       "    .dataframe tbody tr th:only-of-type {\n",
       "        vertical-align: middle;\n",
       "    }\n",
       "\n",
       "    .dataframe tbody tr th {\n",
       "        vertical-align: top;\n",
       "    }\n",
       "\n",
       "    .dataframe thead th {\n",
       "        text-align: right;\n",
       "    }\n",
       "</style>\n",
       "<table border=\"1\" class=\"dataframe\">\n",
       "  <thead>\n",
       "    <tr style=\"text-align: right;\">\n",
       "      <th>debt</th>\n",
       "      <th>0</th>\n",
       "      <th>1</th>\n",
       "      <th>ratio</th>\n",
       "    </tr>\n",
       "    <tr>\n",
       "      <th>family_status</th>\n",
       "      <th></th>\n",
       "      <th></th>\n",
       "      <th></th>\n",
       "    </tr>\n",
       "  </thead>\n",
       "  <tbody>\n",
       "    <tr>\n",
       "      <td>не женат / не замужем</td>\n",
       "      <td>2521</td>\n",
       "      <td>273</td>\n",
       "      <td>9.77</td>\n",
       "    </tr>\n",
       "    <tr>\n",
       "      <td>гражданский брак</td>\n",
       "      <td>3743</td>\n",
       "      <td>386</td>\n",
       "      <td>9.35</td>\n",
       "    </tr>\n",
       "    <tr>\n",
       "      <td>женат / замужем</td>\n",
       "      <td>11362</td>\n",
       "      <td>927</td>\n",
       "      <td>7.54</td>\n",
       "    </tr>\n",
       "    <tr>\n",
       "      <td>в разводе</td>\n",
       "      <td>1100</td>\n",
       "      <td>85</td>\n",
       "      <td>7.17</td>\n",
       "    </tr>\n",
       "    <tr>\n",
       "      <td>вдовец / вдова</td>\n",
       "      <td>892</td>\n",
       "      <td>62</td>\n",
       "      <td>6.50</td>\n",
       "    </tr>\n",
       "  </tbody>\n",
       "</table>\n",
       "</div>"
      ],
      "text/plain": [
       "debt                       0    1  ratio\n",
       "family_status                           \n",
       "не женат / не замужем   2521  273   9.77\n",
       "гражданский брак        3743  386   9.35\n",
       "женат / замужем        11362  927   7.54\n",
       "в разводе               1100   85   7.17\n",
       "вдовец / вдова           892   62   6.50"
      ]
     },
     "execution_count": 65,
     "metadata": {},
     "output_type": "execute_result"
    }
   ],
   "source": [
    "family_debt_pivot['ratio'] = round((family_debt_pivot[1] / (family_debt_pivot[1] + family_debt_pivot[0]) * 100), 2)\n",
    "family_debt_pivot.sort_values('ratio', ascending=False)"
   ]
  },
  {
   "cell_type": "markdown",
   "metadata": {},
   "source": [
    "Наблюдается следующая зависимость между семейным положением и возвратом кредита в срок: наибольший процент невозврата (9.77%) характерен для неженатых/незамужних людей; для людей в гражданском браке он равен 9.35%; для женатых - 7.54%; клиентов в разводе - 7.17%; и для вдовцов/вдов составляет 6.5%. \n",
    "\n",
    "Возможно, это связано с психологическим фактором: люди, готовые к ответственности, живут в официальном браке - соответственно, они с ответственностью подходят и к погашению кредита. Те, кто живет один (не женат/не замужем) менее ответственны и в то же время могут \"положиться только на себя\", соответственно, позволяют себе не выплачивать долг по кредиту в срок."
   ]
  },
  {
   "cell_type": "markdown",
   "metadata": {},
   "source": [
    "### Зависимость между уровнем дохода и возвратом кредита в срок <a id='step_2.5'></a>"
   ]
  },
  {
   "cell_type": "markdown",
   "metadata": {},
   "source": [
    "Для ответа на данный вопрос построим сводную таблицу, по строкам которой отразим уровень дохода, по столбцам - наличие просроченной задолженности; а значения - это число клиентов. Выше мы уже категоризировали данные по доходу в виде вероятности выдачи кредита (это равнозначные показатели: чем выше уровень дохода, тем выше вероятность выдачи кредита). Воспользуемся этими результатами."
   ]
  },
  {
   "cell_type": "code",
   "execution_count": 66,
   "metadata": {},
   "outputs": [
    {
     "data": {
      "text/html": [
       "<div>\n",
       "<style scoped>\n",
       "    .dataframe tbody tr th:only-of-type {\n",
       "        vertical-align: middle;\n",
       "    }\n",
       "\n",
       "    .dataframe tbody tr th {\n",
       "        vertical-align: top;\n",
       "    }\n",
       "\n",
       "    .dataframe thead th {\n",
       "        text-align: right;\n",
       "    }\n",
       "</style>\n",
       "<table border=\"1\" class=\"dataframe\">\n",
       "  <thead>\n",
       "    <tr style=\"text-align: right;\">\n",
       "      <th>debt</th>\n",
       "      <th>0</th>\n",
       "      <th>1</th>\n",
       "    </tr>\n",
       "    <tr>\n",
       "      <th>probability</th>\n",
       "      <th></th>\n",
       "      <th></th>\n",
       "    </tr>\n",
       "  </thead>\n",
       "  <tbody>\n",
       "    <tr>\n",
       "      <td>высокая</td>\n",
       "      <td>4778</td>\n",
       "      <td>445</td>\n",
       "    </tr>\n",
       "    <tr>\n",
       "      <td>низкая</td>\n",
       "      <td>4913</td>\n",
       "      <td>425</td>\n",
       "    </tr>\n",
       "    <tr>\n",
       "      <td>очень высокая</td>\n",
       "      <td>4956</td>\n",
       "      <td>382</td>\n",
       "    </tr>\n",
       "    <tr>\n",
       "      <td>средняя</td>\n",
       "      <td>4971</td>\n",
       "      <td>481</td>\n",
       "    </tr>\n",
       "  </tbody>\n",
       "</table>\n",
       "</div>"
      ],
      "text/plain": [
       "debt              0    1\n",
       "probability             \n",
       "высокая        4778  445\n",
       "низкая         4913  425\n",
       "очень высокая  4956  382\n",
       "средняя        4971  481"
      ]
     },
     "execution_count": 66,
     "metadata": {},
     "output_type": "execute_result"
    }
   ],
   "source": [
    "income_debt_pivot = clients_info.pivot_table(index='probability', columns='debt', values='id', aggfunc='count')\n",
    "income_debt_pivot = income_debt_pivot.fillna(0).astype('int')\n",
    "income_debt_pivot"
   ]
  },
  {
   "cell_type": "markdown",
   "metadata": {},
   "source": [
    "Создадим столбец, показывающий процент людей, просрочивших кредит, и рассчитаем показатели для каждой из категорий."
   ]
  },
  {
   "cell_type": "code",
   "execution_count": 67,
   "metadata": {},
   "outputs": [
    {
     "data": {
      "text/html": [
       "<div>\n",
       "<style scoped>\n",
       "    .dataframe tbody tr th:only-of-type {\n",
       "        vertical-align: middle;\n",
       "    }\n",
       "\n",
       "    .dataframe tbody tr th {\n",
       "        vertical-align: top;\n",
       "    }\n",
       "\n",
       "    .dataframe thead th {\n",
       "        text-align: right;\n",
       "    }\n",
       "</style>\n",
       "<table border=\"1\" class=\"dataframe\">\n",
       "  <thead>\n",
       "    <tr style=\"text-align: right;\">\n",
       "      <th>debt</th>\n",
       "      <th>0</th>\n",
       "      <th>1</th>\n",
       "      <th>ratio</th>\n",
       "    </tr>\n",
       "    <tr>\n",
       "      <th>probability</th>\n",
       "      <th></th>\n",
       "      <th></th>\n",
       "      <th></th>\n",
       "    </tr>\n",
       "  </thead>\n",
       "  <tbody>\n",
       "    <tr>\n",
       "      <td>средняя</td>\n",
       "      <td>4971</td>\n",
       "      <td>481</td>\n",
       "      <td>8.82</td>\n",
       "    </tr>\n",
       "    <tr>\n",
       "      <td>высокая</td>\n",
       "      <td>4778</td>\n",
       "      <td>445</td>\n",
       "      <td>8.52</td>\n",
       "    </tr>\n",
       "    <tr>\n",
       "      <td>низкая</td>\n",
       "      <td>4913</td>\n",
       "      <td>425</td>\n",
       "      <td>7.96</td>\n",
       "    </tr>\n",
       "    <tr>\n",
       "      <td>очень высокая</td>\n",
       "      <td>4956</td>\n",
       "      <td>382</td>\n",
       "      <td>7.16</td>\n",
       "    </tr>\n",
       "  </tbody>\n",
       "</table>\n",
       "</div>"
      ],
      "text/plain": [
       "debt              0    1  ratio\n",
       "probability                    \n",
       "средняя        4971  481   8.82\n",
       "высокая        4778  445   8.52\n",
       "низкая         4913  425   7.96\n",
       "очень высокая  4956  382   7.16"
      ]
     },
     "execution_count": 67,
     "metadata": {},
     "output_type": "execute_result"
    }
   ],
   "source": [
    "income_debt_pivot['ratio'] = round((income_debt_pivot[1] / (income_debt_pivot[1] + income_debt_pivot[0]) * 100), 2)\n",
    "income_debt_pivot.sort_values('ratio', ascending=False)"
   ]
  },
  {
   "cell_type": "markdown",
   "metadata": {},
   "source": [
    "Между уровнем дохода и числом невозвращенных кредитов наблюдается следующая зависимость: когда уровень дохода слишком низок или слишком высок, около 7.16-7.96% клиентов не возвращает долг в срок; когда уровень дохода средний и высокий, доля тех, кто кредит не возвращает, выше и составляет 8,52-8,82%.\n",
    "\n",
    "Процент невозврата для категорий со средним доходом (самый высокий процент) и с очень высоким доходом (самый низкий процент) вполне предсказуем. Странной выглядит доля невозврата для людей с высоким доходом и низким: для людей с низким доходом этот процент ниже, чем для людей с высоким. Таким образом, можем сделать вывод о том, что явной зависимости между уровнем дохода и возвратом кредита в срок нет."
   ]
  },
  {
   "cell_type": "markdown",
   "metadata": {},
   "source": [
    "### Зависимость между целями кредита и возвратом кредита в срок <a id='step_2.6'></a>"
   ]
  },
  {
   "cell_type": "markdown",
   "metadata": {},
   "source": [
    "Для ответа на данный вопрос построим сводную таблицу, по строкам которой отразим цели получения кредита, по столбцам - наличие просроченной задолженности; а значения - это число клиентов."
   ]
  },
  {
   "cell_type": "code",
   "execution_count": 68,
   "metadata": {},
   "outputs": [
    {
     "data": {
      "text/html": [
       "<div>\n",
       "<style scoped>\n",
       "    .dataframe tbody tr th:only-of-type {\n",
       "        vertical-align: middle;\n",
       "    }\n",
       "\n",
       "    .dataframe tbody tr th {\n",
       "        vertical-align: top;\n",
       "    }\n",
       "\n",
       "    .dataframe thead th {\n",
       "        text-align: right;\n",
       "    }\n",
       "</style>\n",
       "<table border=\"1\" class=\"dataframe\">\n",
       "  <thead>\n",
       "    <tr style=\"text-align: right;\">\n",
       "      <th>debt</th>\n",
       "      <th>0</th>\n",
       "      <th>1</th>\n",
       "    </tr>\n",
       "    <tr>\n",
       "      <th>purpose</th>\n",
       "      <th></th>\n",
       "      <th></th>\n",
       "    </tr>\n",
       "  </thead>\n",
       "  <tbody>\n",
       "    <tr>\n",
       "      <td>автомобиль</td>\n",
       "      <td>3884</td>\n",
       "      <td>400</td>\n",
       "    </tr>\n",
       "    <tr>\n",
       "      <td>недвижимость</td>\n",
       "      <td>9983</td>\n",
       "      <td>779</td>\n",
       "    </tr>\n",
       "    <tr>\n",
       "      <td>образование</td>\n",
       "      <td>3625</td>\n",
       "      <td>370</td>\n",
       "    </tr>\n",
       "    <tr>\n",
       "      <td>свадьба</td>\n",
       "      <td>2126</td>\n",
       "      <td>184</td>\n",
       "    </tr>\n",
       "  </tbody>\n",
       "</table>\n",
       "</div>"
      ],
      "text/plain": [
       "debt             0    1\n",
       "purpose                \n",
       "автомобиль    3884  400\n",
       "недвижимость  9983  779\n",
       "образование   3625  370\n",
       "свадьба       2126  184"
      ]
     },
     "execution_count": 68,
     "metadata": {},
     "output_type": "execute_result"
    }
   ],
   "source": [
    "purpose_debt_pivot = clients_info.pivot_table(index='purpose', columns='debt', values='id', aggfunc='count')\n",
    "purpose_debt_pivot"
   ]
  },
  {
   "cell_type": "markdown",
   "metadata": {},
   "source": [
    "Создадим столбец, показывающий процент людей, просрочивших кредит, и рассчитаем показатели для каждой из категорий."
   ]
  },
  {
   "cell_type": "code",
   "execution_count": 69,
   "metadata": {},
   "outputs": [
    {
     "data": {
      "text/html": [
       "<div>\n",
       "<style scoped>\n",
       "    .dataframe tbody tr th:only-of-type {\n",
       "        vertical-align: middle;\n",
       "    }\n",
       "\n",
       "    .dataframe tbody tr th {\n",
       "        vertical-align: top;\n",
       "    }\n",
       "\n",
       "    .dataframe thead th {\n",
       "        text-align: right;\n",
       "    }\n",
       "</style>\n",
       "<table border=\"1\" class=\"dataframe\">\n",
       "  <thead>\n",
       "    <tr style=\"text-align: right;\">\n",
       "      <th>debt</th>\n",
       "      <th>0</th>\n",
       "      <th>1</th>\n",
       "      <th>ratio</th>\n",
       "    </tr>\n",
       "    <tr>\n",
       "      <th>purpose</th>\n",
       "      <th></th>\n",
       "      <th></th>\n",
       "      <th></th>\n",
       "    </tr>\n",
       "  </thead>\n",
       "  <tbody>\n",
       "    <tr>\n",
       "      <td>автомобиль</td>\n",
       "      <td>3884</td>\n",
       "      <td>400</td>\n",
       "      <td>9.34</td>\n",
       "    </tr>\n",
       "    <tr>\n",
       "      <td>образование</td>\n",
       "      <td>3625</td>\n",
       "      <td>370</td>\n",
       "      <td>9.26</td>\n",
       "    </tr>\n",
       "    <tr>\n",
       "      <td>свадьба</td>\n",
       "      <td>2126</td>\n",
       "      <td>184</td>\n",
       "      <td>7.97</td>\n",
       "    </tr>\n",
       "    <tr>\n",
       "      <td>недвижимость</td>\n",
       "      <td>9983</td>\n",
       "      <td>779</td>\n",
       "      <td>7.24</td>\n",
       "    </tr>\n",
       "  </tbody>\n",
       "</table>\n",
       "</div>"
      ],
      "text/plain": [
       "debt             0    1  ratio\n",
       "purpose                       \n",
       "автомобиль    3884  400   9.34\n",
       "образование   3625  370   9.26\n",
       "свадьба       2126  184   7.97\n",
       "недвижимость  9983  779   7.24"
      ]
     },
     "execution_count": 69,
     "metadata": {},
     "output_type": "execute_result"
    }
   ],
   "source": [
    "purpose_debt_pivot['ratio'] = round((purpose_debt_pivot[1] / (purpose_debt_pivot[1] + purpose_debt_pivot[0]) * 100), 2)\n",
    "purpose_debt_pivot.sort_values('ratio', ascending=False)"
   ]
  },
  {
   "cell_type": "markdown",
   "metadata": {},
   "source": [
    "Между целями кредита и возвратом его в срок наблюдается следующая зависимость: в большей степени возвращают кредит на недвижимость (7,24% невозврат) и свадьбу (7,97% невозврат); в меньшей степени - на автомобиль (9,34%) и образование (9,26%).\n",
    "\n",
    "Возможно, это связано с возрастом и жизненным этапом клиентом - то есть психологической готовностью взять на себя ответственность и выполнить обязательства: автомобиль и образование приобретаются на более раннем жизненном этапе; свадьба и недвижимость - на более позднем. Таким образом, мы можем выявить зависимость между этими показателями."
   ]
  },
  {
   "cell_type": "markdown",
   "metadata": {},
   "source": [
    "### Вывод <a id='step_2.7'></a>"
   ]
  },
  {
   "cell_type": "markdown",
   "metadata": {},
   "source": [
    "Нами были выделены леммы в значениях столбца с целью получения кредита. Сначала определены уникальные значения, которые были лемматизированы. Затем на их основе были выделены группы (категории) для подстановки в столбец. В результате мы получили 4 284 человека с целью кредита на автомобиль; 10 762 человека с целью кредита на недвижимость; 3 995 клиентов с целью образования; и 2 310 человек - на свадьбу.\n",
    "\n",
    "При этом большая часть клиентов без детей берёт кредит на недвижимость, примерно в одинаковых долях они интересуются автомобилем и образованием, и немного меньше - свадьбой. Для клиентов с одним ребёнком тенденция аналогичная, только разрыв между \"недвижимостью\" и другими целями не так велик, а также берущих кредит на свадьбу ненамного меньше, чем на автомобиль или образование. Для клиентов с двумя детьми тенденции те же, а разрывы ещё меньше. И, наконец, клиенты с более чем 2 детьми имеют ещё меньшие разрывы в показателях (для них цели распределены более равномерно с некоторым перевесом указанных ранее). По образованию наблюдается очень сильный разрыв в целях по количеству клиентов для среднего образования: очень значительная часть берёт кредит на недвижимость, и очень малая - на свадьбу. По остальным видам образования разрыв в цели \"на недвижимость\" не так высок, а \"на свадьбу\" близко к целям \"на образование\" или \"на автомобиль\". Для всех категорий, кроме тех, кто находится в гражданском браке, сильно превалирует число клиентов с целью кредита на недвижимость. Находящиеся в гражданском браке беруть больше кредитов на свадьбу. По полу нет особых различий между распределением клиентов по целям кредита. По типу занятости очень сильный разрыв наблюдается в числе сотрудников, берущих кредит на недвижимость: их количество существенно отличается от других целей. Также для них цель \"на свадьбу\" намного непопулярней целей \"на автомобиль\" или \"на образование\". Для безработных, студентов, предпринимателей и людей в декрете сложно выделить тенденции, так как по ним данных недостаточно. Каких-то значительных различий в распределении целей кредита по параметрам возраста, дохода и стажа не наблюдается (с учётом исключения выбросов).\n",
    "\n",
    "Также была проведена категоризация данных. Поскольку наиболее очевидным признаком, по которому мы можем судить о вероятности погашения задолженности клиентом, является его доход, он и был выбран в качестве критерия: чем выше доход, тем вероятнее выдача кредита клиенты (так как выше его платёжеспособность). Однако, следует отметить, что за неимением других данных, доход был разбит нами на 5 равных категорийных отрезков; что может повлиять на принятие неверных решений. Границы должны обсуждаться с заказчиком проекта (банком) и при необходимости корректироваться.\n",
    "\n",
    "Для клиентов без детей вероятность выдачи кредита, в основном, средняя и низкая. Для клиентов с детьми (1 и более) вероятность выдачи распределена раномерно. Для людей с высшим образованием преобладают клиенты с высокой и очень высокой вероятностью получения кредита, а для клиентов со средним или начальным образованием - со средней и очень низкой вероятностью. Для тех, у кого неоконченное высшее образование вероятности распределены примерно в равных долях. По семейному положению не наблюдается существенных различий между категориями, кроме категории \"вдовец / вдова\": для них вероятность получения кредита в большей степени средняя или низкая. Есть различия и по половому признаку: для женщин верятность получения кредита в большей степени средняя или низкая, а для мужчин - очень высокая или высокая. Это может быть связано не с гендерными различиями в подходе банка, а скорее, с гендерными различиями в доходах, которые сложились на рынке труда. Для сотрудников и пенсионеров вероятность получения кредита, в большей степени, средняя или низкая. А для компаньонов и госслужащих - высокая и очень высокая. Но для госслужащих вероятности распределены более равномерно. По остальным категориям недостаточно данных для выявления закономерности.\n",
    "\n",
    "Для клиентов, характеризующихся очень высокой вероятностью получения кредита, характерен очень большой разброс в высоком уровне дохода, а также небольшой разброс в стаже. Для клиентов, характеризующихся высокой вероятностью получения кредита, характерен малый разброс в уровне дохода, а также небольшой разброс в стаже. Для клиентов, характеризующихся средней вероятностью получения кредита, характерен малый разброс в уровне дохода, чуть более высокий средний возраст (так как в эту категорию попали многие пенсионеры), а также средний разброс в стаже. Для клиентов, характеризующихся низкой вероятностью получения кредита, характерен малый разброс в уровне дохода, чуть более высокий средний возраст (так как в эту категорию также попали многие пенсионеры), а также очень большой разброс в стаже.\n",
    "\n",
    "Затем был проведён анализ факторов, которые могут оказывать влияние на возврат кредита. Количество клиентов, просрочивших кредит ранжируется от 0 до 9.76%. Четкой зависимости между наличием детей (а также их количеством) и возвратом кредита в срок нет. Только в случае, когда количество детей очень велико (5 человек), наблюдается 0% просроченной задолженности. Возможно, это связано с тем, что большое число детей люди заводят осознанно - имея высокие доходы для обеспечения большой семьи, и возврат долга все-таки зависит не от количества детей, а от доходов. Либо данных недостаточно для вывода, и в выборку попали только клиенты данной категории, которые не имеют негативного опыта по возврату кредитов.\n",
    "\n",
    "Наблюдается следующая зависимость между семейным положением и возвратом кредита в срок: наибольший процент невозврата (9.77%) характерен для неженатых/незамужних людей; для людей в гражданском браке он равен 9.35%; для женатых - 7.54%; клиентов в разводе - 7.17%; и для вдовцов/вдов составляет 6.5%. Возможно, это связано с психологическим фактором: люди, готовые к ответственности, живут в официальном браке - соответственно, они с ответственностью подходят и к погашению кредита. Те, кто живет один (не женат/не замужем) менее ответственны и в то же время могут \"положиться только на себя\", соответственно, позволяют себе не выплачивать долг по кредиту в срок.\n",
    "\n",
    "Между уровнем дохода и числом невозвращенных кредитов наблюдается следующая зависимость: когда уровень дохода слишком низок или слишком высок, около 7.16-7.96% клиентов не возвращает долг в срок; когда уровень дохода средний и высокий, доля тех, кто кредит не возвращает, выше и составляет 8,52-8,82%. Процент невозврата для категорий со средним доходом (самый высокий процент) и с очень высоким доходом (самый низкий процент) вполне предсказуем. Странной выглядит доля невозврата для людей с высоким доходом и низким: для людей с низким доходом этот процент ниже, чем для людей с высоким. Таким образом, можем сделать вывод о том, что явной зависимости между уровнем дохода и возвратом кредита в срок нет.\n",
    "\n",
    "Между целями кредита и возвратом его в срок наблюдается следующая зависимость: в большей степени возвращают кредит на недвижимость (7,24% невозврат) и свадьбу (7,97% невозврат); в меньшей степени - на автомобиль (9,34%) и образование (9,26%). Возможно, это связано с возрастом и жизненным этапом клиентом - то есть психологической готовностью взять на себя ответственность и выполнить обязательства: автомобиль и образование приобретаются на более раннем жизненном этапе; свадьба и недвижимость - на более позднем. Таким образом, мы можем выявить зависимость между этими показателями."
   ]
  },
  {
   "cell_type": "markdown",
   "metadata": {},
   "source": [
    "### Общий вывод <a id='step_3'></a>"
   ]
  },
  {
   "cell_type": "markdown",
   "metadata": {},
   "source": [
    "В исследовании **были проанализированы** данные о платёжеспособности 21 525 клиентов, которые включают в себя такие характеристики как количество детей в семье, общий трудовой стаж, возраст клиента, уровень образования, семейное положение, пол клиента, тип занятости, наличие/отсутствие задолженности по возврату кредитов в прошлом, ежемесячный доход, цель получения кредита.\n",
    "\n",
    "**Цели получения кредита** были разделены на четыре основные категории: недвижимость, образование, автомобиль и свадьба - исходя из целей, указанных клиентами. Мы получили 4 284 человека с целью кредита на автомобиль; 10 762 человека с целью кредита на недвижимость; 3 995 клиентов с целью образования; и 2 310 человек - на свадьбу. При этом **явных зависимостей между целями кредита и другими факторами не наблюдается**. \n",
    "\n",
    "Также **была проведена категоризация данных**. Поскольку наиболее очевидным признаком, по которому мы можем судить о вероятности погашения задолженности клиентом, является его **доход**, он и **был выбран в качестве критерия**: чем выше доход, тем вероятнее выдача кредита клиенты (так как выше его платёжеспособность). Однако, следует отметить, что за неимением других данных, доход был разбит нами на 5 равных категорийных отрезков; что может повлиять на принятие неверных решений. Границы должны обсуждаться с заказчиком проекта (банком) и при необходимости корректироваться.\n",
    "\n",
    "**По категориям дохода** (вероятности получения кредита) были выявлены **следующие закономерности** по другим факторам. Для клиентов без детей вероятность выдачи кредита, в основном, средняя и низкая. Для клиентов с детьми (1 и более) вероятность выдачи распределена раномерно. Для людей с высшим образованием преобладают клиенты с высокой и очень высокой вероятностью получения кредита, а для клиентов со средним или начальным образованием - со средней и очень низкой вероятностью. По семейному положению не наблюдается существенных различий между категориями, кроме категории \"вдовец / вдова\": для них вероятность получения кредита в большей степени средняя или низкая. Есть различия и по половому признаку: для женщин верятность получения кредита в большей степени средняя или низкая, а для мужчин - очень высокая или высокая. Это может быть связано не с гендерными различиями в подходе банка, а скорее, с гендерными различиями в доходах, которые сложились на рынке труда. Для сотрудников и пенсионеров вероятность получения кредита, в большей степени, средняя или низкая. А для компаньонов и госслужащих - высокая и очень высокая. Но для госслужащих вероятности распределены более равномерно. По остальным категориям недостаточно данных для выявления закономерности.\n",
    "\n",
    "Затем был проведён **анализ факторов, которые могут оказывать влияние на возврат кредита**. Клиенты с практически любым количеством детей (или при их отсутствии) в 9 случаях из 100 возвращают кредит. Однако многодетные семьи (с 5 детьми) делают это в 100 случаях из 100 (хотя выборки может быть недостаточно для такого вывода). Тем не менее, фактором возможности возврата долга может служить не количество детей, а наличие соответствующих доходов, а также готовность к ответственности. То же самое характерно и для семейного положения: живущие в гражданском браке или незамужние возвращают кредит реже, чем замужние, вдовцы и разведенные. Это также косвенно может быть связано с готовностью к ответственности или возрастом клиента. Между уровнем дохода и возвратом кредита не наблюдается прямой зависимости имеют просрочку кредита как люди с высоким доходом, так и с низким (процент в обоих категориях очень близок). Между целями кредита и его возвратом в срок наблюдается прямая зависимость: цели, связаные с более высокими затратами и более поздним жизненным этапом (недвижимость, свадьба), характеризуются более высокими показателями по возврату долга, чем цели кредита на образование и автомобиль.\n",
    "\n",
    "Так, в процессе исследования были построены следующие **рабочие гипотезы**:\n",
    "* между наличием детей и возвратом кредита в срок есть зависимость;\n",
    "* между семейным положением и возвратом кредита в срок есть зависимость;\n",
    "* между уровнем дохода и возвратом кредита в срок есть зависимость;\n",
    "* разные цели кредита влияют на его возврат в срок.\n",
    "\n",
    "В результате **первая гипотеза не подтверждена, вторая гипотеза подтверждена, третья гипотеза не подтверждена, и четвертая гипотеза подтверждена**."
   ]
  },
  {
   "cell_type": "markdown",
   "metadata": {},
   "source": [
    "### Рекомендации <a id='step_4'></a>"
   ]
  },
  {
   "cell_type": "markdown",
   "metadata": {},
   "source": [
    "Исследование позволило разработать следующие **рекомендации по построению модели кредитного скоринга**.\n",
    "\n",
    "1) В системе не следует учитывать количество детей. \n",
    "\n",
    "2) Следует учитывать семейное положение клиента: наибольший процент невозврата характерен для неженатых/незамужних людей и для людей в гражданском браке; для женатых/замужних и в разводе процент невозврата ниже; а для вдовцов/вдов он самый низкий.\n",
    "\n",
    "3) Уровень дохода не следует учитывать как основной фактор в модели.\n",
    "\n",
    "4) Одним из существенных факторов возврата кредита следует установить цель получения кредита."
   ]
  }
 ],
 "metadata": {
  "kernelspec": {
   "display_name": "Python 3",
   "language": "python",
   "name": "python3"
  },
  "language_info": {
   "codemirror_mode": {
    "name": "ipython",
    "version": 3
   },
   "file_extension": ".py",
   "mimetype": "text/x-python",
   "name": "python",
   "nbconvert_exporter": "python",
   "pygments_lexer": "ipython3",
   "version": "3.7.6"
  }
 },
 "nbformat": 4,
 "nbformat_minor": 2
}
